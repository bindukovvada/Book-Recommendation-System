{
  "cells": [
    {
      "cell_type": "markdown",
      "metadata": {
        "id": "view-in-github",
        "colab_type": "text"
      },
      "source": [
        "<a href=\"https://colab.research.google.com/github/bindukovvada/Book-Recommendation-System/blob/main/Team_Book_Recommendation_System.ipynb\" target=\"_parent\"><img src=\"https://colab.research.google.com/assets/colab-badge.svg\" alt=\"Open In Colab\"/></a>"
      ]
    },
    {
      "cell_type": "markdown",
      "metadata": {
        "id": "J88m0JQQ4voS"
      },
      "source": [
        "**BOOK RECOMMENDATION SYSTEM**"
      ]
    },
    {
      "cell_type": "markdown",
      "metadata": {
        "id": "cFd8ev9X4vY1"
      },
      "source": [
        "#Problem Statement\n",
        "During the last few decades, with the rise of Youtube, Amazon, Netflix, and many other such\n",
        "web services, recommender systems have taken more and more place in our lives. From\n",
        "e-commerce (suggest to buyers articles that could interest them) to online advertisement\n",
        "(suggest to users the right contents, matching their preferences), recommender systems are\n",
        "today unavoidable in our daily online journeys.\n",
        "\n",
        "\n",
        "In a very general way, recommender systems are algorithms aimed at suggesting relevant\n",
        "items to users (items being movies to watch, text to read, products to buy, or anything else\n",
        "depending on industries).\n",
        "Recommender systems are really critical in some industries as they can generate a huge\n",
        "amount of income when they are efficient or also be a way to stand out significantly from\n",
        "competitors. The main objective is to create a book recommendation system for users.\n",
        "\n",
        "\n",
        "#Content\n",
        "The Book-Crossing dataset comprises 3 files.\n",
        "\n",
        "● Users\n",
        "Contains the users. Note that user IDs (User-ID) have been anonymized and map to\n",
        "integers. Demographic data is provided (Location, Age) if available. Otherwise, these\n",
        "fields contain NULL values.\n",
        "\n",
        "● Books\n",
        "Books are identified by their respective ISBN. Invalid ISBNs have already been removed\n",
        "from the dataset. Moreover, some content-based information is given (Book-Title,\n",
        "Book-Author, Year-Of-Publication, Publisher), obtained from Amazon Web\n",
        "Services. Note that in the case of several authors, only the first is provided. URLs linking\n",
        "to cover images are also given, appearing in three different flavors (Image-URL-S,\n",
        "Image-URL-M, Image-URL-L), i.e., small, medium, large. These URLs point to the\n",
        "Amazon website.\n",
        "\n",
        "● Ratings\n",
        "Contains the book rating information. Ratings (Book-Rating) are either explicit,\n",
        "expressed on a scale from 1-10 (higher values denoting higher appreciation), or implicit,\n",
        "expressed by 0."
      ]
    },
    {
      "cell_type": "markdown",
      "metadata": {
        "id": "m6HpDY4dsFvi"
      },
      "source": [
        "#Table of content\n",
        "* __Step 1: Importing the Relevant Libraries and Data Inspection__\n",
        "    \n",
        "* __Step 2: Exploratory Data Analysis (Dataset-wise)__\n",
        "    \n",
        "* **Step 3: Recommendation for New Users(Cold Start)**\n",
        "    \n",
        "* **Step 4: Model Based Collaborative Filtering Recommender**\n",
        "\n",
        "* __Step 5: Memory Based Collaborative Filtering Recommender__\n",
        "\n",
        "  *   Item-Item Based\n",
        "  *   Item-Item Based- Second Method\n",
        "  *   User-Item Based\n",
        "   \n",
        "* __Step 6: Content Based Filtering Recommender__\n",
        "\n",
        "    *  On the basis of Title\n",
        "    *  On the basis of Author\n",
        "    *  On the basis of Search-Keyword\n",
        "      * Via TF-idf\n",
        "      * **Via Tags**\n",
        "    *  On the basis of Purchase-History\n",
        "\n",
        "* __Step 7: Conclusion__"
      ]
    },
    {
      "cell_type": "markdown",
      "metadata": {
        "id": "FwazDzvt-iU9"
      },
      "source": [
        "#**Importing and Inspecting Dataset**"
      ]
    },
    {
      "cell_type": "code",
      "execution_count": 1,
      "metadata": {
        "id": "m2w_ho8y-Nko"
      },
      "outputs": [],
      "source": [
        "#Importing modules\n",
        "import pandas as pd\n",
        "import sys\n",
        "import numpy as np\n",
        "import matplotlib.pyplot as plt\n",
        "import seaborn as sns\n",
        "import random\n",
        "import math\n",
        "\n",
        "from sklearn.model_selection import train_test_split\n",
        "from sklearn.feature_extraction.text import TfidfVectorizer\n",
        "from sklearn.feature_extraction.text import CountVectorizer\n",
        "from sklearn.metrics.pairwise import cosine_similarity\n",
        "from sklearn.metrics.pairwise import linear_kernel\n",
        "from scipy.sparse.linalg import svds\n",
        "# This is to supress the warning messages (if any) generated in our code\n",
        "import warnings\n",
        "warnings.filterwarnings('ignore')\n",
        "from tqdm import tqdm  #(progress bar)\n"
      ]
    },
    {
      "cell_type": "code",
      "execution_count": 2,
      "metadata": {
        "colab": {
          "base_uri": "https://localhost:8080/"
        },
        "id": "yLEu5MzrTkKt",
        "outputId": "3f5aaa24-36b5-4bca-b07d-66910ed811af"
      },
      "outputs": [
        {
          "output_type": "stream",
          "name": "stdout",
          "text": [
            "Mounted at /content/drive\n"
          ]
        }
      ],
      "source": [
        "# connnecting drive\n",
        "from google.colab import drive\n",
        "drive.mount('/content/drive')"
      ]
    },
    {
      "cell_type": "code",
      "execution_count": 3,
      "metadata": {
        "id": "0yOQGechjZtl"
      },
      "outputs": [],
      "source": [
        "books=pd.read_csv('/content/drive/MyDrive/Capstone Project - 4/Copy of Books.csv')\n",
        "ratings=pd.read_csv('/content/drive/MyDrive/Capstone Project - 4/Copy of Ratings.csv')\n",
        "users=pd.read_csv('/content/drive/MyDrive/Capstone Project - 4/Copy of Users.csv')"
      ]
    },
    {
      "cell_type": "markdown",
      "metadata": {
        "id": "GHYcMe9Ojq3v"
      },
      "source": [
        "### Data Inspection"
      ]
    },
    {
      "cell_type": "code",
      "execution_count": 4,
      "metadata": {
        "colab": {
          "base_uri": "https://localhost:8080/",
          "height": 329
        },
        "id": "BqEiQVzsj5MU",
        "outputId": "f154f3f0-f719-49e3-e35f-63915e6dac60"
      },
      "outputs": [
        {
          "output_type": "execute_result",
          "data": {
            "text/plain": [
              "         ISBN            Book-Title           Book-Author Year-Of-Publication  \\\n",
              "0  0195153448   Classical Mythology    Mark P. O. Morford                2002   \n",
              "1  0002005018          Clara Callan  Richard Bruce Wright                2001   \n",
              "2  0060973129  Decision in Normandy          Carlo D'Este                1991   \n",
              "\n",
              "                 Publisher                                        Image-URL-S  \\\n",
              "0  Oxford University Press  http://images.amazon.com/images/P/0195153448.0...   \n",
              "1    HarperFlamingo Canada  http://images.amazon.com/images/P/0002005018.0...   \n",
              "2          HarperPerennial  http://images.amazon.com/images/P/0060973129.0...   \n",
              "\n",
              "                                         Image-URL-M  \\\n",
              "0  http://images.amazon.com/images/P/0195153448.0...   \n",
              "1  http://images.amazon.com/images/P/0002005018.0...   \n",
              "2  http://images.amazon.com/images/P/0060973129.0...   \n",
              "\n",
              "                                         Image-URL-L  \n",
              "0  http://images.amazon.com/images/P/0195153448.0...  \n",
              "1  http://images.amazon.com/images/P/0002005018.0...  \n",
              "2  http://images.amazon.com/images/P/0060973129.0...  "
            ],
            "text/html": [
              "\n",
              "  <div id=\"df-0c7bb9ce-b5e3-4687-9f29-a102f67781e9\">\n",
              "    <div class=\"colab-df-container\">\n",
              "      <div>\n",
              "<style scoped>\n",
              "    .dataframe tbody tr th:only-of-type {\n",
              "        vertical-align: middle;\n",
              "    }\n",
              "\n",
              "    .dataframe tbody tr th {\n",
              "        vertical-align: top;\n",
              "    }\n",
              "\n",
              "    .dataframe thead th {\n",
              "        text-align: right;\n",
              "    }\n",
              "</style>\n",
              "<table border=\"1\" class=\"dataframe\">\n",
              "  <thead>\n",
              "    <tr style=\"text-align: right;\">\n",
              "      <th></th>\n",
              "      <th>ISBN</th>\n",
              "      <th>Book-Title</th>\n",
              "      <th>Book-Author</th>\n",
              "      <th>Year-Of-Publication</th>\n",
              "      <th>Publisher</th>\n",
              "      <th>Image-URL-S</th>\n",
              "      <th>Image-URL-M</th>\n",
              "      <th>Image-URL-L</th>\n",
              "    </tr>\n",
              "  </thead>\n",
              "  <tbody>\n",
              "    <tr>\n",
              "      <th>0</th>\n",
              "      <td>0195153448</td>\n",
              "      <td>Classical Mythology</td>\n",
              "      <td>Mark P. O. Morford</td>\n",
              "      <td>2002</td>\n",
              "      <td>Oxford University Press</td>\n",
              "      <td>http://images.amazon.com/images/P/0195153448.0...</td>\n",
              "      <td>http://images.amazon.com/images/P/0195153448.0...</td>\n",
              "      <td>http://images.amazon.com/images/P/0195153448.0...</td>\n",
              "    </tr>\n",
              "    <tr>\n",
              "      <th>1</th>\n",
              "      <td>0002005018</td>\n",
              "      <td>Clara Callan</td>\n",
              "      <td>Richard Bruce Wright</td>\n",
              "      <td>2001</td>\n",
              "      <td>HarperFlamingo Canada</td>\n",
              "      <td>http://images.amazon.com/images/P/0002005018.0...</td>\n",
              "      <td>http://images.amazon.com/images/P/0002005018.0...</td>\n",
              "      <td>http://images.amazon.com/images/P/0002005018.0...</td>\n",
              "    </tr>\n",
              "    <tr>\n",
              "      <th>2</th>\n",
              "      <td>0060973129</td>\n",
              "      <td>Decision in Normandy</td>\n",
              "      <td>Carlo D'Este</td>\n",
              "      <td>1991</td>\n",
              "      <td>HarperPerennial</td>\n",
              "      <td>http://images.amazon.com/images/P/0060973129.0...</td>\n",
              "      <td>http://images.amazon.com/images/P/0060973129.0...</td>\n",
              "      <td>http://images.amazon.com/images/P/0060973129.0...</td>\n",
              "    </tr>\n",
              "  </tbody>\n",
              "</table>\n",
              "</div>\n",
              "      <button class=\"colab-df-convert\" onclick=\"convertToInteractive('df-0c7bb9ce-b5e3-4687-9f29-a102f67781e9')\"\n",
              "              title=\"Convert this dataframe to an interactive table.\"\n",
              "              style=\"display:none;\">\n",
              "        \n",
              "  <svg xmlns=\"http://www.w3.org/2000/svg\" height=\"24px\"viewBox=\"0 0 24 24\"\n",
              "       width=\"24px\">\n",
              "    <path d=\"M0 0h24v24H0V0z\" fill=\"none\"/>\n",
              "    <path d=\"M18.56 5.44l.94 2.06.94-2.06 2.06-.94-2.06-.94-.94-2.06-.94 2.06-2.06.94zm-11 1L8.5 8.5l.94-2.06 2.06-.94-2.06-.94L8.5 2.5l-.94 2.06-2.06.94zm10 10l.94 2.06.94-2.06 2.06-.94-2.06-.94-.94-2.06-.94 2.06-2.06.94z\"/><path d=\"M17.41 7.96l-1.37-1.37c-.4-.4-.92-.59-1.43-.59-.52 0-1.04.2-1.43.59L10.3 9.45l-7.72 7.72c-.78.78-.78 2.05 0 2.83L4 21.41c.39.39.9.59 1.41.59.51 0 1.02-.2 1.41-.59l7.78-7.78 2.81-2.81c.8-.78.8-2.07 0-2.86zM5.41 20L4 18.59l7.72-7.72 1.47 1.35L5.41 20z\"/>\n",
              "  </svg>\n",
              "      </button>\n",
              "      \n",
              "  <style>\n",
              "    .colab-df-container {\n",
              "      display:flex;\n",
              "      flex-wrap:wrap;\n",
              "      gap: 12px;\n",
              "    }\n",
              "\n",
              "    .colab-df-convert {\n",
              "      background-color: #E8F0FE;\n",
              "      border: none;\n",
              "      border-radius: 50%;\n",
              "      cursor: pointer;\n",
              "      display: none;\n",
              "      fill: #1967D2;\n",
              "      height: 32px;\n",
              "      padding: 0 0 0 0;\n",
              "      width: 32px;\n",
              "    }\n",
              "\n",
              "    .colab-df-convert:hover {\n",
              "      background-color: #E2EBFA;\n",
              "      box-shadow: 0px 1px 2px rgba(60, 64, 67, 0.3), 0px 1px 3px 1px rgba(60, 64, 67, 0.15);\n",
              "      fill: #174EA6;\n",
              "    }\n",
              "\n",
              "    [theme=dark] .colab-df-convert {\n",
              "      background-color: #3B4455;\n",
              "      fill: #D2E3FC;\n",
              "    }\n",
              "\n",
              "    [theme=dark] .colab-df-convert:hover {\n",
              "      background-color: #434B5C;\n",
              "      box-shadow: 0px 1px 3px 1px rgba(0, 0, 0, 0.15);\n",
              "      filter: drop-shadow(0px 1px 2px rgba(0, 0, 0, 0.3));\n",
              "      fill: #FFFFFF;\n",
              "    }\n",
              "  </style>\n",
              "\n",
              "      <script>\n",
              "        const buttonEl =\n",
              "          document.querySelector('#df-0c7bb9ce-b5e3-4687-9f29-a102f67781e9 button.colab-df-convert');\n",
              "        buttonEl.style.display =\n",
              "          google.colab.kernel.accessAllowed ? 'block' : 'none';\n",
              "\n",
              "        async function convertToInteractive(key) {\n",
              "          const element = document.querySelector('#df-0c7bb9ce-b5e3-4687-9f29-a102f67781e9');\n",
              "          const dataTable =\n",
              "            await google.colab.kernel.invokeFunction('convertToInteractive',\n",
              "                                                     [key], {});\n",
              "          if (!dataTable) return;\n",
              "\n",
              "          const docLinkHtml = 'Like what you see? Visit the ' +\n",
              "            '<a target=\"_blank\" href=https://colab.research.google.com/notebooks/data_table.ipynb>data table notebook</a>'\n",
              "            + ' to learn more about interactive tables.';\n",
              "          element.innerHTML = '';\n",
              "          dataTable['output_type'] = 'display_data';\n",
              "          await google.colab.output.renderOutput(dataTable, element);\n",
              "          const docLink = document.createElement('div');\n",
              "          docLink.innerHTML = docLinkHtml;\n",
              "          element.appendChild(docLink);\n",
              "        }\n",
              "      </script>\n",
              "    </div>\n",
              "  </div>\n",
              "  "
            ]
          },
          "metadata": {},
          "execution_count": 4
        }
      ],
      "source": [
        "books.head(3)"
      ]
    },
    {
      "cell_type": "code",
      "execution_count": 5,
      "metadata": {
        "colab": {
          "base_uri": "https://localhost:8080/",
          "height": 143
        },
        "id": "ccJUYH3FkADK",
        "outputId": "d7dc7212-8720-447b-b70a-44261b53323d"
      },
      "outputs": [
        {
          "output_type": "execute_result",
          "data": {
            "text/plain": [
              "   User-ID        ISBN  Book-Rating\n",
              "0   276725  034545104X            0\n",
              "1   276726  0155061224            5\n",
              "2   276727  0446520802            0"
            ],
            "text/html": [
              "\n",
              "  <div id=\"df-c4803f89-daaf-4ff3-86fd-a188aa5801fc\">\n",
              "    <div class=\"colab-df-container\">\n",
              "      <div>\n",
              "<style scoped>\n",
              "    .dataframe tbody tr th:only-of-type {\n",
              "        vertical-align: middle;\n",
              "    }\n",
              "\n",
              "    .dataframe tbody tr th {\n",
              "        vertical-align: top;\n",
              "    }\n",
              "\n",
              "    .dataframe thead th {\n",
              "        text-align: right;\n",
              "    }\n",
              "</style>\n",
              "<table border=\"1\" class=\"dataframe\">\n",
              "  <thead>\n",
              "    <tr style=\"text-align: right;\">\n",
              "      <th></th>\n",
              "      <th>User-ID</th>\n",
              "      <th>ISBN</th>\n",
              "      <th>Book-Rating</th>\n",
              "    </tr>\n",
              "  </thead>\n",
              "  <tbody>\n",
              "    <tr>\n",
              "      <th>0</th>\n",
              "      <td>276725</td>\n",
              "      <td>034545104X</td>\n",
              "      <td>0</td>\n",
              "    </tr>\n",
              "    <tr>\n",
              "      <th>1</th>\n",
              "      <td>276726</td>\n",
              "      <td>0155061224</td>\n",
              "      <td>5</td>\n",
              "    </tr>\n",
              "    <tr>\n",
              "      <th>2</th>\n",
              "      <td>276727</td>\n",
              "      <td>0446520802</td>\n",
              "      <td>0</td>\n",
              "    </tr>\n",
              "  </tbody>\n",
              "</table>\n",
              "</div>\n",
              "      <button class=\"colab-df-convert\" onclick=\"convertToInteractive('df-c4803f89-daaf-4ff3-86fd-a188aa5801fc')\"\n",
              "              title=\"Convert this dataframe to an interactive table.\"\n",
              "              style=\"display:none;\">\n",
              "        \n",
              "  <svg xmlns=\"http://www.w3.org/2000/svg\" height=\"24px\"viewBox=\"0 0 24 24\"\n",
              "       width=\"24px\">\n",
              "    <path d=\"M0 0h24v24H0V0z\" fill=\"none\"/>\n",
              "    <path d=\"M18.56 5.44l.94 2.06.94-2.06 2.06-.94-2.06-.94-.94-2.06-.94 2.06-2.06.94zm-11 1L8.5 8.5l.94-2.06 2.06-.94-2.06-.94L8.5 2.5l-.94 2.06-2.06.94zm10 10l.94 2.06.94-2.06 2.06-.94-2.06-.94-.94-2.06-.94 2.06-2.06.94z\"/><path d=\"M17.41 7.96l-1.37-1.37c-.4-.4-.92-.59-1.43-.59-.52 0-1.04.2-1.43.59L10.3 9.45l-7.72 7.72c-.78.78-.78 2.05 0 2.83L4 21.41c.39.39.9.59 1.41.59.51 0 1.02-.2 1.41-.59l7.78-7.78 2.81-2.81c.8-.78.8-2.07 0-2.86zM5.41 20L4 18.59l7.72-7.72 1.47 1.35L5.41 20z\"/>\n",
              "  </svg>\n",
              "      </button>\n",
              "      \n",
              "  <style>\n",
              "    .colab-df-container {\n",
              "      display:flex;\n",
              "      flex-wrap:wrap;\n",
              "      gap: 12px;\n",
              "    }\n",
              "\n",
              "    .colab-df-convert {\n",
              "      background-color: #E8F0FE;\n",
              "      border: none;\n",
              "      border-radius: 50%;\n",
              "      cursor: pointer;\n",
              "      display: none;\n",
              "      fill: #1967D2;\n",
              "      height: 32px;\n",
              "      padding: 0 0 0 0;\n",
              "      width: 32px;\n",
              "    }\n",
              "\n",
              "    .colab-df-convert:hover {\n",
              "      background-color: #E2EBFA;\n",
              "      box-shadow: 0px 1px 2px rgba(60, 64, 67, 0.3), 0px 1px 3px 1px rgba(60, 64, 67, 0.15);\n",
              "      fill: #174EA6;\n",
              "    }\n",
              "\n",
              "    [theme=dark] .colab-df-convert {\n",
              "      background-color: #3B4455;\n",
              "      fill: #D2E3FC;\n",
              "    }\n",
              "\n",
              "    [theme=dark] .colab-df-convert:hover {\n",
              "      background-color: #434B5C;\n",
              "      box-shadow: 0px 1px 3px 1px rgba(0, 0, 0, 0.15);\n",
              "      filter: drop-shadow(0px 1px 2px rgba(0, 0, 0, 0.3));\n",
              "      fill: #FFFFFF;\n",
              "    }\n",
              "  </style>\n",
              "\n",
              "      <script>\n",
              "        const buttonEl =\n",
              "          document.querySelector('#df-c4803f89-daaf-4ff3-86fd-a188aa5801fc button.colab-df-convert');\n",
              "        buttonEl.style.display =\n",
              "          google.colab.kernel.accessAllowed ? 'block' : 'none';\n",
              "\n",
              "        async function convertToInteractive(key) {\n",
              "          const element = document.querySelector('#df-c4803f89-daaf-4ff3-86fd-a188aa5801fc');\n",
              "          const dataTable =\n",
              "            await google.colab.kernel.invokeFunction('convertToInteractive',\n",
              "                                                     [key], {});\n",
              "          if (!dataTable) return;\n",
              "\n",
              "          const docLinkHtml = 'Like what you see? Visit the ' +\n",
              "            '<a target=\"_blank\" href=https://colab.research.google.com/notebooks/data_table.ipynb>data table notebook</a>'\n",
              "            + ' to learn more about interactive tables.';\n",
              "          element.innerHTML = '';\n",
              "          dataTable['output_type'] = 'display_data';\n",
              "          await google.colab.output.renderOutput(dataTable, element);\n",
              "          const docLink = document.createElement('div');\n",
              "          docLink.innerHTML = docLinkHtml;\n",
              "          element.appendChild(docLink);\n",
              "        }\n",
              "      </script>\n",
              "    </div>\n",
              "  </div>\n",
              "  "
            ]
          },
          "metadata": {},
          "execution_count": 5
        }
      ],
      "source": [
        "ratings.head(3)"
      ]
    },
    {
      "cell_type": "code",
      "execution_count": 6,
      "metadata": {
        "colab": {
          "base_uri": "https://localhost:8080/",
          "height": 143
        },
        "id": "BBHqyk9YkDUT",
        "outputId": "22305bfa-22dc-48eb-f647-68e8f6991aea"
      },
      "outputs": [
        {
          "output_type": "execute_result",
          "data": {
            "text/plain": [
              "   User-ID                         Location   Age\n",
              "0        1               nyc, new york, usa   NaN\n",
              "1        2        stockton, california, usa  18.0\n",
              "2        3  moscow, yukon territory, russia   NaN"
            ],
            "text/html": [
              "\n",
              "  <div id=\"df-8e9dd34a-442c-4c6f-96cc-7958fc5deb37\">\n",
              "    <div class=\"colab-df-container\">\n",
              "      <div>\n",
              "<style scoped>\n",
              "    .dataframe tbody tr th:only-of-type {\n",
              "        vertical-align: middle;\n",
              "    }\n",
              "\n",
              "    .dataframe tbody tr th {\n",
              "        vertical-align: top;\n",
              "    }\n",
              "\n",
              "    .dataframe thead th {\n",
              "        text-align: right;\n",
              "    }\n",
              "</style>\n",
              "<table border=\"1\" class=\"dataframe\">\n",
              "  <thead>\n",
              "    <tr style=\"text-align: right;\">\n",
              "      <th></th>\n",
              "      <th>User-ID</th>\n",
              "      <th>Location</th>\n",
              "      <th>Age</th>\n",
              "    </tr>\n",
              "  </thead>\n",
              "  <tbody>\n",
              "    <tr>\n",
              "      <th>0</th>\n",
              "      <td>1</td>\n",
              "      <td>nyc, new york, usa</td>\n",
              "      <td>NaN</td>\n",
              "    </tr>\n",
              "    <tr>\n",
              "      <th>1</th>\n",
              "      <td>2</td>\n",
              "      <td>stockton, california, usa</td>\n",
              "      <td>18.0</td>\n",
              "    </tr>\n",
              "    <tr>\n",
              "      <th>2</th>\n",
              "      <td>3</td>\n",
              "      <td>moscow, yukon territory, russia</td>\n",
              "      <td>NaN</td>\n",
              "    </tr>\n",
              "  </tbody>\n",
              "</table>\n",
              "</div>\n",
              "      <button class=\"colab-df-convert\" onclick=\"convertToInteractive('df-8e9dd34a-442c-4c6f-96cc-7958fc5deb37')\"\n",
              "              title=\"Convert this dataframe to an interactive table.\"\n",
              "              style=\"display:none;\">\n",
              "        \n",
              "  <svg xmlns=\"http://www.w3.org/2000/svg\" height=\"24px\"viewBox=\"0 0 24 24\"\n",
              "       width=\"24px\">\n",
              "    <path d=\"M0 0h24v24H0V0z\" fill=\"none\"/>\n",
              "    <path d=\"M18.56 5.44l.94 2.06.94-2.06 2.06-.94-2.06-.94-.94-2.06-.94 2.06-2.06.94zm-11 1L8.5 8.5l.94-2.06 2.06-.94-2.06-.94L8.5 2.5l-.94 2.06-2.06.94zm10 10l.94 2.06.94-2.06 2.06-.94-2.06-.94-.94-2.06-.94 2.06-2.06.94z\"/><path d=\"M17.41 7.96l-1.37-1.37c-.4-.4-.92-.59-1.43-.59-.52 0-1.04.2-1.43.59L10.3 9.45l-7.72 7.72c-.78.78-.78 2.05 0 2.83L4 21.41c.39.39.9.59 1.41.59.51 0 1.02-.2 1.41-.59l7.78-7.78 2.81-2.81c.8-.78.8-2.07 0-2.86zM5.41 20L4 18.59l7.72-7.72 1.47 1.35L5.41 20z\"/>\n",
              "  </svg>\n",
              "      </button>\n",
              "      \n",
              "  <style>\n",
              "    .colab-df-container {\n",
              "      display:flex;\n",
              "      flex-wrap:wrap;\n",
              "      gap: 12px;\n",
              "    }\n",
              "\n",
              "    .colab-df-convert {\n",
              "      background-color: #E8F0FE;\n",
              "      border: none;\n",
              "      border-radius: 50%;\n",
              "      cursor: pointer;\n",
              "      display: none;\n",
              "      fill: #1967D2;\n",
              "      height: 32px;\n",
              "      padding: 0 0 0 0;\n",
              "      width: 32px;\n",
              "    }\n",
              "\n",
              "    .colab-df-convert:hover {\n",
              "      background-color: #E2EBFA;\n",
              "      box-shadow: 0px 1px 2px rgba(60, 64, 67, 0.3), 0px 1px 3px 1px rgba(60, 64, 67, 0.15);\n",
              "      fill: #174EA6;\n",
              "    }\n",
              "\n",
              "    [theme=dark] .colab-df-convert {\n",
              "      background-color: #3B4455;\n",
              "      fill: #D2E3FC;\n",
              "    }\n",
              "\n",
              "    [theme=dark] .colab-df-convert:hover {\n",
              "      background-color: #434B5C;\n",
              "      box-shadow: 0px 1px 3px 1px rgba(0, 0, 0, 0.15);\n",
              "      filter: drop-shadow(0px 1px 2px rgba(0, 0, 0, 0.3));\n",
              "      fill: #FFFFFF;\n",
              "    }\n",
              "  </style>\n",
              "\n",
              "      <script>\n",
              "        const buttonEl =\n",
              "          document.querySelector('#df-8e9dd34a-442c-4c6f-96cc-7958fc5deb37 button.colab-df-convert');\n",
              "        buttonEl.style.display =\n",
              "          google.colab.kernel.accessAllowed ? 'block' : 'none';\n",
              "\n",
              "        async function convertToInteractive(key) {\n",
              "          const element = document.querySelector('#df-8e9dd34a-442c-4c6f-96cc-7958fc5deb37');\n",
              "          const dataTable =\n",
              "            await google.colab.kernel.invokeFunction('convertToInteractive',\n",
              "                                                     [key], {});\n",
              "          if (!dataTable) return;\n",
              "\n",
              "          const docLinkHtml = 'Like what you see? Visit the ' +\n",
              "            '<a target=\"_blank\" href=https://colab.research.google.com/notebooks/data_table.ipynb>data table notebook</a>'\n",
              "            + ' to learn more about interactive tables.';\n",
              "          element.innerHTML = '';\n",
              "          dataTable['output_type'] = 'display_data';\n",
              "          await google.colab.output.renderOutput(dataTable, element);\n",
              "          const docLink = document.createElement('div');\n",
              "          docLink.innerHTML = docLinkHtml;\n",
              "          element.appendChild(docLink);\n",
              "        }\n",
              "      </script>\n",
              "    </div>\n",
              "  </div>\n",
              "  "
            ]
          },
          "metadata": {},
          "execution_count": 6
        }
      ],
      "source": [
        "users.head(3)"
      ]
    },
    {
      "cell_type": "code",
      "execution_count": 7,
      "metadata": {
        "colab": {
          "base_uri": "https://localhost:8080/"
        },
        "id": "shISmHyOKeQo",
        "outputId": "327d5b84-35dd-4e71-d084-ab5136097943"
      },
      "outputs": [
        {
          "output_type": "stream",
          "name": "stdout",
          "text": [
            "\t  Book_df shape is (271360, 8)\n",
            "       Ratings_df shape is (1149780, 3)\n",
            "          Users_df shape is (278858, 3)\n"
          ]
        }
      ],
      "source": [
        "# dimension of dataset\n",
        "print(f'''\\t  Book_df shape is {books.shape}\n",
        "       Ratings_df shape is {ratings.shape}\n",
        "          Users_df shape is {users.shape}''')"
      ]
    },
    {
      "cell_type": "markdown",
      "metadata": {
        "id": "YCFQoRbgtb2N"
      },
      "source": [
        "#**EDA**"
      ]
    },
    {
      "cell_type": "markdown",
      "metadata": {
        "id": "P0d1nvt_PFHc"
      },
      "source": [
        "##**1- Users_Dataset**"
      ]
    },
    {
      "cell_type": "code",
      "execution_count": 8,
      "metadata": {
        "id": "179x0PsPPDGa"
      },
      "outputs": [],
      "source": [
        "#Create a function for checking missing values\n",
        "def missing_values(df):\n",
        "    mis_val=df.isnull().sum()\n",
        "    mis_val_percent=round(df.isnull().mean().mul(100),2)\n",
        "    mz_table=pd.concat([mis_val,mis_val_percent],axis=1)\n",
        "    mz_table=mz_table.rename(\n",
        "    columns={df.index.name:'col_name',0:'Missing Values',1:'% of Total Values'})\n",
        "    mz_table['Data_type']=df.dtypes\n",
        "    mz_table=mz_table.sort_values('% of Total Values',ascending=False)\n",
        "    return mz_table.reset_index()"
      ]
    },
    {
      "cell_type": "code",
      "execution_count": 9,
      "metadata": {
        "colab": {
          "base_uri": "https://localhost:8080/",
          "height": 143
        },
        "id": "uT7dtSeFPDEZ",
        "outputId": "3a7fd2dc-77c0-41c5-abf4-2961fcdac050"
      },
      "outputs": [
        {
          "output_type": "execute_result",
          "data": {
            "text/plain": [
              "      index  Missing Values  % of Total Values Data_type\n",
              "0       Age          110762              39.72   float64\n",
              "1   User-ID               0               0.00     int64\n",
              "2  Location               0               0.00    object"
            ],
            "text/html": [
              "\n",
              "  <div id=\"df-ea6848b0-b0b8-42a1-bcce-17a2c0010df6\">\n",
              "    <div class=\"colab-df-container\">\n",
              "      <div>\n",
              "<style scoped>\n",
              "    .dataframe tbody tr th:only-of-type {\n",
              "        vertical-align: middle;\n",
              "    }\n",
              "\n",
              "    .dataframe tbody tr th {\n",
              "        vertical-align: top;\n",
              "    }\n",
              "\n",
              "    .dataframe thead th {\n",
              "        text-align: right;\n",
              "    }\n",
              "</style>\n",
              "<table border=\"1\" class=\"dataframe\">\n",
              "  <thead>\n",
              "    <tr style=\"text-align: right;\">\n",
              "      <th></th>\n",
              "      <th>index</th>\n",
              "      <th>Missing Values</th>\n",
              "      <th>% of Total Values</th>\n",
              "      <th>Data_type</th>\n",
              "    </tr>\n",
              "  </thead>\n",
              "  <tbody>\n",
              "    <tr>\n",
              "      <th>0</th>\n",
              "      <td>Age</td>\n",
              "      <td>110762</td>\n",
              "      <td>39.72</td>\n",
              "      <td>float64</td>\n",
              "    </tr>\n",
              "    <tr>\n",
              "      <th>1</th>\n",
              "      <td>User-ID</td>\n",
              "      <td>0</td>\n",
              "      <td>0.00</td>\n",
              "      <td>int64</td>\n",
              "    </tr>\n",
              "    <tr>\n",
              "      <th>2</th>\n",
              "      <td>Location</td>\n",
              "      <td>0</td>\n",
              "      <td>0.00</td>\n",
              "      <td>object</td>\n",
              "    </tr>\n",
              "  </tbody>\n",
              "</table>\n",
              "</div>\n",
              "      <button class=\"colab-df-convert\" onclick=\"convertToInteractive('df-ea6848b0-b0b8-42a1-bcce-17a2c0010df6')\"\n",
              "              title=\"Convert this dataframe to an interactive table.\"\n",
              "              style=\"display:none;\">\n",
              "        \n",
              "  <svg xmlns=\"http://www.w3.org/2000/svg\" height=\"24px\"viewBox=\"0 0 24 24\"\n",
              "       width=\"24px\">\n",
              "    <path d=\"M0 0h24v24H0V0z\" fill=\"none\"/>\n",
              "    <path d=\"M18.56 5.44l.94 2.06.94-2.06 2.06-.94-2.06-.94-.94-2.06-.94 2.06-2.06.94zm-11 1L8.5 8.5l.94-2.06 2.06-.94-2.06-.94L8.5 2.5l-.94 2.06-2.06.94zm10 10l.94 2.06.94-2.06 2.06-.94-2.06-.94-.94-2.06-.94 2.06-2.06.94z\"/><path d=\"M17.41 7.96l-1.37-1.37c-.4-.4-.92-.59-1.43-.59-.52 0-1.04.2-1.43.59L10.3 9.45l-7.72 7.72c-.78.78-.78 2.05 0 2.83L4 21.41c.39.39.9.59 1.41.59.51 0 1.02-.2 1.41-.59l7.78-7.78 2.81-2.81c.8-.78.8-2.07 0-2.86zM5.41 20L4 18.59l7.72-7.72 1.47 1.35L5.41 20z\"/>\n",
              "  </svg>\n",
              "      </button>\n",
              "      \n",
              "  <style>\n",
              "    .colab-df-container {\n",
              "      display:flex;\n",
              "      flex-wrap:wrap;\n",
              "      gap: 12px;\n",
              "    }\n",
              "\n",
              "    .colab-df-convert {\n",
              "      background-color: #E8F0FE;\n",
              "      border: none;\n",
              "      border-radius: 50%;\n",
              "      cursor: pointer;\n",
              "      display: none;\n",
              "      fill: #1967D2;\n",
              "      height: 32px;\n",
              "      padding: 0 0 0 0;\n",
              "      width: 32px;\n",
              "    }\n",
              "\n",
              "    .colab-df-convert:hover {\n",
              "      background-color: #E2EBFA;\n",
              "      box-shadow: 0px 1px 2px rgba(60, 64, 67, 0.3), 0px 1px 3px 1px rgba(60, 64, 67, 0.15);\n",
              "      fill: #174EA6;\n",
              "    }\n",
              "\n",
              "    [theme=dark] .colab-df-convert {\n",
              "      background-color: #3B4455;\n",
              "      fill: #D2E3FC;\n",
              "    }\n",
              "\n",
              "    [theme=dark] .colab-df-convert:hover {\n",
              "      background-color: #434B5C;\n",
              "      box-shadow: 0px 1px 3px 1px rgba(0, 0, 0, 0.15);\n",
              "      filter: drop-shadow(0px 1px 2px rgba(0, 0, 0, 0.3));\n",
              "      fill: #FFFFFF;\n",
              "    }\n",
              "  </style>\n",
              "\n",
              "      <script>\n",
              "        const buttonEl =\n",
              "          document.querySelector('#df-ea6848b0-b0b8-42a1-bcce-17a2c0010df6 button.colab-df-convert');\n",
              "        buttonEl.style.display =\n",
              "          google.colab.kernel.accessAllowed ? 'block' : 'none';\n",
              "\n",
              "        async function convertToInteractive(key) {\n",
              "          const element = document.querySelector('#df-ea6848b0-b0b8-42a1-bcce-17a2c0010df6');\n",
              "          const dataTable =\n",
              "            await google.colab.kernel.invokeFunction('convertToInteractive',\n",
              "                                                     [key], {});\n",
              "          if (!dataTable) return;\n",
              "\n",
              "          const docLinkHtml = 'Like what you see? Visit the ' +\n",
              "            '<a target=\"_blank\" href=https://colab.research.google.com/notebooks/data_table.ipynb>data table notebook</a>'\n",
              "            + ' to learn more about interactive tables.';\n",
              "          element.innerHTML = '';\n",
              "          dataTable['output_type'] = 'display_data';\n",
              "          await google.colab.output.renderOutput(dataTable, element);\n",
              "          const docLink = document.createElement('div');\n",
              "          docLink.innerHTML = docLinkHtml;\n",
              "          element.appendChild(docLink);\n",
              "        }\n",
              "      </script>\n",
              "    </div>\n",
              "  </div>\n",
              "  "
            ]
          },
          "metadata": {},
          "execution_count": 9
        }
      ],
      "source": [
        "#Checking missing value in Users dataset\n",
        "missing_values(users)"
      ]
    },
    {
      "cell_type": "markdown",
      "metadata": {
        "id": "adHd2C2ESjQp"
      },
      "source": [
        "Age have around 39% missing values. "
      ]
    },
    {
      "cell_type": "code",
      "execution_count": 10,
      "metadata": {
        "colab": {
          "base_uri": "https://localhost:8080/",
          "height": 310
        },
        "id": "j7i4E5ldYZ6N",
        "outputId": "4a8f992a-8206-4bf3-bf53-1884af9f1716"
      },
      "outputs": [
        {
          "output_type": "display_data",
          "data": {
            "text/plain": [
              "<Figure size 432x288 with 1 Axes>"
            ],
            "image/png": "[encoded data removed]"
          },
          "metadata": {
            "needs_background": "light"
          }
        }
      ],
      "source": [
        "#checking Age distribution\n",
        "users.Age.hist(bins=[0, 10, 20, 30, 40, 50, 100])\n",
        "plt.title('Age Distribution\\n')\n",
        "plt.xlabel('Age')\n",
        "plt.ylabel('Count')\n",
        "plt.show()"
      ]
    },
    {
      "cell_type": "markdown",
      "metadata": {
        "id": "-041N4y9YP5h"
      },
      "source": [
        "As we can see that most of our users are in their 20-30s.\n"
      ]
    },
    {
      "cell_type": "code",
      "execution_count": 11,
      "metadata": {
        "colab": {
          "base_uri": "https://localhost:8080/",
          "height": 285
        },
        "id": "CJYKBc60PC_p",
        "outputId": "94ba9d1f-0f44-4d06-f6f2-e7d489103e23"
      },
      "outputs": [
        {
          "output_type": "execute_result",
          "data": {
            "text/plain": [
              "Text(0.5, 1.0, 'Find outlier data in Age column')"
            ]
          },
          "metadata": {},
          "execution_count": 11
        },
        {
          "output_type": "display_data",
          "data": {
            "text/plain": [
              "<Figure size 432x288 with 1 Axes>"
            ],
            "image/png": "[encoded data removed]"
          },
          "metadata": {
            "needs_background": "light"
          }
        }
      ],
      "source": [
        "#Checking Outliers in Age Column\n",
        "sns.boxplot(y='Age', data=users)\n",
        "plt.title('Find outlier data in Age column')"
      ]
    },
    {
      "cell_type": "code",
      "execution_count": 12,
      "metadata": {
        "colab": {
          "base_uri": "https://localhost:8080/"
        },
        "id": "-v6Z3mDVPDBe",
        "outputId": "2b676be5-f88e-4496-a47e-9256c331ecb0"
      },
      "outputs": [
        {
          "output_type": "stream",
          "name": "stdout",
          "text": [
            "[nan, 0.0, 1.0, 2.0, 3.0, 4.0, 5.0, 6.0, 7.0, 8.0, 9.0, 10.0, 11.0, 12.0, 13.0, 14.0, 15.0, 16.0, 17.0, 18.0, 19.0, 20.0, 21.0, 22.0, 23.0, 24.0, 25.0, 26.0, 27.0, 28.0, 29.0, 30.0, 31.0, 32.0, 33.0, 34.0, 35.0, 36.0, 37.0, 38.0, 39.0, 40.0, 41.0, 42.0, 43.0, 44.0, 45.0, 46.0, 47.0, 48.0, 49.0, 50.0, 51.0, 52.0, 53.0, 54.0, 55.0, 56.0, 57.0, 58.0, 59.0, 60.0, 61.0, 62.0, 63.0, 64.0, 65.0, 66.0, 67.0, 68.0, 69.0, 70.0, 71.0, 72.0, 73.0, 74.0, 75.0, 76.0, 77.0, 78.0, 79.0, 80.0, 81.0, 82.0, 83.0, 84.0, 85.0, 86.0, 87.0, 88.0, 89.0, 90.0, 91.0, 92.0, 93.0, 94.0, 95.0, 96.0, 97.0, 98.0, 99.0, 100.0, 101.0, 102.0, 103.0, 104.0, 105.0, 106.0, 107.0, 108.0, 109.0, 110.0, 111.0, 113.0, 114.0, 115.0, 116.0, 118.0, 119.0, 123.0, 124.0, 127.0, 128.0, 132.0, 133.0, 136.0, 137.0, 138.0, 140.0, 141.0, 143.0, 146.0, 147.0, 148.0, 151.0, 152.0, 156.0, 157.0, 159.0, 162.0, 168.0, 172.0, 175.0, 183.0, 186.0, 189.0, 199.0, 200.0, 201.0, 204.0, 207.0, 208.0, 209.0, 210.0, 212.0, 219.0, 220.0, 223.0, 226.0, 228.0, 229.0, 230.0, 231.0, 237.0, 239.0, 244.0]\n"
          ]
        }
      ],
      "source": [
        "#Checking the unique value of Age\n",
        "print(sorted(users.Age.unique()))"
      ]
    },
    {
      "cell_type": "markdown",
      "metadata": {
        "id": "_mLBrFQST7_X"
      },
      "source": [
        "As we can say that we have  Outlier in our dataset of users"
      ]
    },
    {
      "cell_type": "markdown",
      "metadata": {
        "id": "TE0bFzvXXLQo"
      },
      "source": [
        "Checking unique value in Location column....\n"
      ]
    },
    {
      "cell_type": "code",
      "execution_count": 13,
      "metadata": {
        "colab": {
          "base_uri": "https://localhost:8080/"
        },
        "id": "drWdHA7VPC9f",
        "outputId": "cf592c03-6dc8-4e90-d6dc-4ebc541d5d52"
      },
      "outputs": [
        {
          "output_type": "execute_result",
          "data": {
            "text/plain": [
              "array(['nyc, new york, usa', 'stockton, california, usa',\n",
              "       'moscow, yukon territory, russia', ...,\n",
              "       'sergnano, lombardia, italy', 'stranraer, n/a, united kingdom',\n",
              "       'tacoma, washington, united kingdom'], dtype=object)"
            ]
          },
          "metadata": {},
          "execution_count": 13
        }
      ],
      "source": [
        "users.Location.unique()"
      ]
    },
    {
      "cell_type": "markdown",
      "metadata": {
        "id": "4Xtpw047Gh2H"
      },
      "source": [
        "As we can see that there is some spelling mismatch in locations... so now lets check the unique count of Location...."
      ]
    },
    {
      "cell_type": "code",
      "execution_count": 14,
      "metadata": {
        "colab": {
          "base_uri": "https://localhost:8080/"
        },
        "id": "vDv2XqK1PChB",
        "outputId": "686f5125-8b8d-4403-cb04-72793448efc7"
      },
      "outputs": [
        {
          "output_type": "execute_result",
          "data": {
            "text/plain": [
              "57339"
            ]
          },
          "metadata": {},
          "execution_count": 14
        }
      ],
      "source": [
        "users.Location.nunique()"
      ]
    },
    {
      "cell_type": "markdown",
      "metadata": {
        "id": "yWL9829OXi4R"
      },
      "source": [
        "We got 57339 unique Value as we all know that it doesn't make any sense.<br>\n",
        "So lets create a new column- Country"
      ]
    },
    {
      "cell_type": "code",
      "execution_count": 15,
      "metadata": {
        "id": "5I3IeN6QEdW7"
      },
      "outputs": [],
      "source": [
        "for i in users:\n",
        "    users['Country']=users.Location.str.extract(r'\\,+\\s?(\\w*\\s?\\w*)\\\"*$')   "
      ]
    },
    {
      "cell_type": "code",
      "execution_count": 16,
      "metadata": {
        "colab": {
          "base_uri": "https://localhost:8080/"
        },
        "id": "LmRP6UrqIoD7",
        "outputId": "10c9323e-d34f-4120-be07-5c099a01faad"
      },
      "outputs": [
        {
          "output_type": "execute_result",
          "data": {
            "text/plain": [
              "pandas.core.series.Series"
            ]
          },
          "metadata": {},
          "execution_count": 16
        }
      ],
      "source": [
        "type(users.Location)"
      ]
    },
    {
      "cell_type": "code",
      "execution_count": 17,
      "metadata": {
        "colab": {
          "base_uri": "https://localhost:8080/"
        },
        "id": "O8BXhVnmQXgv",
        "outputId": "5267edd1-1159-40e3-a1af-c5eb48a8cbed"
      },
      "outputs": [
        {
          "output_type": "execute_result",
          "data": {
            "text/plain": [
              "529"
            ]
          },
          "metadata": {},
          "execution_count": 17
        }
      ],
      "source": [
        "users.Country.nunique()"
      ]
    },
    {
      "cell_type": "markdown",
      "metadata": {
        "id": "eQ22l4RRHYte"
      },
      "source": [
        "Now we only got 529 unique country."
      ]
    },
    {
      "cell_type": "code",
      "execution_count": 18,
      "metadata": {
        "id": "HUvqIhWgGnFB"
      },
      "outputs": [],
      "source": [
        "users['Country']=users['Country'].astype('str')"
      ]
    },
    {
      "cell_type": "code",
      "execution_count": 19,
      "metadata": {
        "colab": {
          "base_uri": "https://localhost:8080/"
        },
        "id": "qtj-GdJODSx4",
        "outputId": "2d2c288f-5914-42d9-f03a-065d9b1b8d10"
      },
      "outputs": [
        {
          "output_type": "stream",
          "name": "stdout",
          "text": [
            "['', '01776', '02458', '19104', '23232', '30064', '85021', '87510', '_ brasil', 'a', 'aaa', 'adsgfdr', 'afghanistan', 'ahrensburg', 'alachua', 'albania', 'alderney', 'algeria', 'algérie', 'allen', 'ama lurra', 'america', 'american samoa', 'andorra', 'angola', 'antarctica', 'aotearoa', 'argentina', 'armenia', 'aroostook', 'aruba', 'asturies', 'auckland', 'austbritania', 'australia', 'australii', 'austria', 'autralia', 'az', 'azerbaijan', 'bademn würtemberg', 'bahamas', 'bahrain', 'baltimore', 'bangladesh', 'barbados', 'basilicata', 'basque country', 'bavaria', 'baxter', 'bbbzzzzz', 'belarus', 'belgi', 'belgique', 'belgium', 'belize', 'bell', 'benin', 'berguedà', 'bermuda', 'bernalillo', 'bfe', 'bhutan', 'bih', 'bkk', 'bladen', 'bolivia', 'bosnia', 'botswana', 'brasil', 'brazil', 'brunei', 'brunei darussalam', 'bucks', 'bulgaria', 'buncombe', 'burkina faso', 'burkinafasu', 'burlington', 'burma', 'butler', 'c', 'cadd0', 'calabria', 'california', 'cambodia', 'camden', 'cameroon', 'can', 'canada', 'canada eh', 'cananda', 'canda', 'cape may', 'cape town', 'cape verde', 'caribbean sea', 'carter', 'cass', 'catalonia', 'catalunya', 'catalunya spain', 'cayman islands', 'chad', 'channel islands', 'cherokee', 'chian', 'chile', 'china', 'china öð¹ú', 'chinaöð¹ú', 'clackamas', 'clinton', 'cn', 'cnina', 'collin', 'colombia', 'comoros', 'congo', 'cook', 'copenhagen', 'costa rica', 'country', 'courtenay', 'croatia', 'csa', 'cuba', 'cyprus', 'czech republic', 'côte d', 'dauphin', 'davidson', 'de', 'dekalb', 'denmark', 'der', 'deutsches reich', 'deutschland', 'dfg', 'distrito federal', 'diy', 'djibouti', 'dominica', 'dominican republic', 'doodedoo', 'dublin', 'east africa', 'ecuador', 'effingham', 'egypt', 'el salvador', 'england', 'england uk', 'english', 'equatorial geuinea', 'eritrea', 'españa', 'essex', 'estonia', 'ethiopia', 'europa', 'europe', 'euskadi', 'euskal herria', 'evil empire', 'fairyland', 'faroe islands', 'ferrara', 'fifi', 'fiji', 'finland', 'fontana', 'fort bend', 'fortaleza', 'framingham', 'france', 'fred', 'frome', 'fulton', 'gabon', 'galiza', 'galiza neghra', 'gb', 'geermany', 'georgia', 'germany', 'germay', 'ghana', 'goteborg', 'granville', 'greece', 'grenada', 'guam', 'guatemala', 'guernsey', 'guinea', 'guyana', 'haiti', 'hamilton', 'hampden', 'harvatija', 'heaven', 'hennipen', 'henry', 'hernando', 'hidalgo', 'hillsborough', 'holland', 'holy see', 'honduras', 'hong kong', 'hongkong', 'hornyonic', 'houston', 'hungary', 'iceland', 'id', 'il canada', 'in', 'india', 'indiai', 'indonesia', 'input error', 'iran', 'iraq', 'ireland', 'israel', 'isreal', 'italia', 'italien', 'italy', 'itlay', 'jackson', 'jamaica', 'japan', 'jersey', 'johnson', 'jordan', 'k1c7b1', 'kazakhstan', 'kenya', 'kern', 'kiribati', 'korea', 'kosovo', 'ksa', 'kuwait', 'kyrgyzstan', 'kz', 'l', 'la argentina', 'la belgique', 'la france', 'la suisse', 'la svizzera', 'lake', 'lane', 'laos', 'latvia', 'lazio', 'le canada', 'le madagascar', 'lebanon', 'lecce', 'lee', 'lesotho', 'liaoning', 'liberia', 'libya', 'lithuania', 'liushi', 'livingston', 'lj', 'lkjlj', 'lleida', 'lombardia', 'london', 'lornsenland', 'luxembourg', 'macau', 'macedonia', 'madagascar', 'madrid', 'maine', 'malawi', 'malaysia', 'malaysian', 'maldives', 'mali', 'malta', 'maracopa', 'maricopa', 'maroc', 'marrion', 'marshall islands', 'mauritania', 'mauritius', 'mexico', 'micronesia', 'milano', 'minnehaha', 'missouri', 'moldova', 'monaco', 'mongolia', 'monroe', 'monterrey', 'mordor', 'morgan', 'morocco', 'mozambique', 'moçambique', 'my', 'myanmar', 'mérida', 'méxico', 'namibia', 'nan', 'nederlands', 'nepal', 'netherlands', 'netherlands antilles', 'neverland', 'new london', 'new zealand', 'newzealand', 'nh', 'nicaragua', 'niger', 'nigeria', 'nl', 'no more', 'none', 'north carolina', 'north korea', 'northern ireland', 'norway', 'nowhere', 'nrw', 'nyc', 'nyhamnsläge', 'nz', 'oakland', 'ohio', 'oman', 'onondaga nation', 'orange co', 'orense', 'osceola', 'ouranos', 'pa', 'pakistan', 'palau', 'palestine', 'palm beach', 'panama', 'paraguay', 'pasco', 'pender', 'peru', 'perãº', 'petrolwar nation', 'phila', 'philippine', 'philippines', 'philippinies', 'phillipines', 'phils', 'phippines', 'pinallas', 'pippo', 'pistlavakia', 'poland', 'polk', 'polska', 'portugal', 'pr', 'prc', 'prince william', 'pueblo', 'puerto rico', 'qatar', 'queensland', 'queenspark', 'quit', 'rapides', 'rice', 'richmond country', 'rmi', 'roma', 'romania', 'rosario', 'rosello', 'rsa', 'russia', 'russian federation', 'rutherford', 'rwanda', 'saint loius', 'saint lucia', 'saint luica', 'samoa', 'san bernardino', 'san franicsco', 'san marino', 'san mateo', 'santa barbara', 'sardegna', 'sardinia', 'saudi arabia', 'saudia arabia', 'scotland', 'senegal', 'serbia', 'shelby', 'sicilia', 'sierra leone', 'singapore', 'slo', 'slovak republik', 'slovakia', 'slovenia', 'smith', 'solano', 'solomon islands', 'somalia', 'somewherein space', 'south africa', 'south korea', 'space', 'spain', 'spotsylvania', 'sri lanka', 'srilanka', 'strongbadia', 'sudan', 'suisse', 'suriname', 'swaziland', 'swazilandia', 'sweden', 'switzerland', 'syria', 'taiwan', 'tajikistan', 'tanzania', 'tdzimi', 'texas', 'thailand', 'thailoand', 'the', 'the gambia', 'the netherlands', 'the philippines', 'thing', 'tobago', 'togo', 'tonga', 'toscana', 'travelling', 'trinidad', 'tunisia', 'turkei', 'turkey', 'turkmenistan', 'tyrtyrt', 'türkiye', 'u', 'u k', 'ua', 'uae', 'uganda', 'uk', 'ukrain', 'ukraine', 'unit', 'unite states', 'united kindgdom', 'united kindgonm', 'united kingdom', 'united sates', 'united staes', 'united state', 'united statea', 'united stated', 'united states', 'universe', 'unknown', 'urugua', 'uruguay', 'us', 'usa', 'ussurfing', 'ust', 'uusa', 'uyo', 'uzbekistan', 'valtesse', 'van wert', 'vanuatu', 'vatican city', 'venezuela', 'ventura', 'ventura county', 'vicenza', 'victoria', 'vietnam', 'vorce', 'wales', 'washtenaw', 'west yorkshire', 'whatcom', 'windham', 'wonderful usa', 'wood', 'worcester', 'x', 'xinyu', 'xxxxxx', 'yakima', 'yanhill', 'yemen', 'ysa', 'yugoslavia', 'yunling', 'z', 'zambia', 'zhengjiang', 'zimbabwe', 'öð¹ú']\n"
          ]
        }
      ],
      "source": [
        "a=list(users.Country.unique())\n",
        "a=set(a)\n",
        "a=list(a)\n",
        "a = [x for x in a if x is not None]\n",
        "a.sort()\n",
        "print(a)"
      ]
    },
    {
      "cell_type": "markdown",
      "metadata": {
        "id": "9wYEO1lZAPaJ"
      },
      "source": [
        "As we can Obseve here are some Misspellings we can easily correct them via replace."
      ]
    },
    {
      "cell_type": "code",
      "execution_count": 20,
      "metadata": {
        "id": "08pPo0YCHoT-"
      },
      "outputs": [],
      "source": [
        "users['Country'].replace(['','01776','02458','19104','23232','30064','85021','87510','alachua','america','austria','autralia','cananda','geermany','italia','united kindgonm','united sates','united staes','united state','united states','us'],\n",
        "                           ['other','usa','usa','usa','usa','usa','usa','usa','usa','usa','australia','australia','canada','germany','italy','united kingdom','usa','usa','usa','usa','usa'],inplace=True)"
      ]
    },
    {
      "cell_type": "code",
      "execution_count": 21,
      "metadata": {
        "colab": {
          "base_uri": "https://localhost:8080/",
          "height": 475
        },
        "id": "7tWv_OdSI7TW",
        "outputId": "c0482419-58d5-4454-93f7-849ee227573f"
      },
      "outputs": [
        {
          "output_type": "execute_result",
          "data": {
            "text/plain": [
              "Text(0.5, 1.0, 'Count of users Country wise')"
            ]
          },
          "metadata": {},
          "execution_count": 21
        },
        {
          "output_type": "display_data",
          "data": {
            "text/plain": [
              "<Figure size 1080x504 with 1 Axes>"
            ],
            "image/png": "[encoded data removed]"
          },
          "metadata": {
            "needs_background": "light"
          }
        }
      ],
      "source": [
        "plt.figure(figsize=(15,7))\n",
        "sns.countplot(y='Country',data=users,order=pd.value_counts(users['Country']).iloc[:10].index)\n",
        "plt.title('Count of users Country wise')"
      ]
    },
    {
      "cell_type": "markdown",
      "metadata": {
        "id": "mghuIn2-KZUP"
      },
      "source": [
        "We can clearly observe from the above countplot that most of our customers are \n",
        "from US."
      ]
    },
    {
      "cell_type": "code",
      "execution_count": 22,
      "metadata": {
        "id": "Hz89lOj_AkBD"
      },
      "outputs": [],
      "source": [
        "#drop location column\n",
        "users.drop('Location',axis=1,inplace=True)"
      ]
    },
    {
      "cell_type": "code",
      "execution_count": 23,
      "metadata": {
        "colab": {
          "base_uri": "https://localhost:8080/"
        },
        "id": "vb1nF_3aJqB-",
        "outputId": "fa91c881-0277-4f13-cf8f-e29d06ccbaa5"
      },
      "outputs": [
        {
          "output_type": "execute_result",
          "data": {
            "text/plain": [
              "User-ID         0\n",
              "Age        110762\n",
              "Country         0\n",
              "dtype: int64"
            ]
          },
          "metadata": {},
          "execution_count": 23
        }
      ],
      "source": [
        "# Checking null values of users\n",
        "users.isnull().sum()"
      ]
    },
    {
      "cell_type": "markdown",
      "metadata": {
        "id": "jdrwZOVqOIAI"
      },
      "source": [
        "###Treating Outliers----"
      ]
    },
    {
      "cell_type": "code",
      "execution_count": 24,
      "metadata": {
        "colab": {
          "base_uri": "https://localhost:8080/",
          "height": 312
        },
        "id": "6U6o5VHZN8F5",
        "outputId": "c7cd87a8-0efd-42dc-a2fd-fdedc244b56d"
      },
      "outputs": [
        {
          "output_type": "execute_result",
          "data": {
            "text/plain": [
              "Text(0.5, 1.0, 'Age Distribution Plot')"
            ]
          },
          "metadata": {},
          "execution_count": 24
        },
        {
          "output_type": "display_data",
          "data": {
            "text/plain": [
              "<Figure size 432x288 with 1 Axes>"
            ],
            "image/png": "[encoded data removed]"
          },
          "metadata": {
            "needs_background": "light"
          }
        }
      ],
      "source": [
        "#Distplot of users age column\n",
        "sns.distplot(users.Age)\n",
        "plt.title('Age Distribution Plot')"
      ]
    },
    {
      "cell_type": "markdown",
      "metadata": {
        "id": "p8sf-ZKzSp0W"
      },
      "source": [
        "As we all knew already that Age value's below 5 and above 100 do not make much sense as the can't read/rated our book so we can replace that."
      ]
    },
    {
      "cell_type": "code",
      "execution_count": 25,
      "metadata": {
        "colab": {
          "base_uri": "https://localhost:8080/"
        },
        "id": "40jnn-SKvC9X",
        "outputId": "fd1a9d39-85cf-49ea-d750-dd3ad57f6815"
      },
      "outputs": [
        {
          "output_type": "execute_result",
          "data": {
            "text/plain": [
              "7"
            ]
          },
          "metadata": {},
          "execution_count": 25
        }
      ],
      "source": [
        "5|6"
      ]
    },
    {
      "cell_type": "code",
      "execution_count": 26,
      "metadata": {
        "id": "Qqd7j7PxOGOn"
      },
      "outputs": [],
      "source": [
        "# outlier data became NaN\n",
        "users.loc[(users.Age > 100) | (users.Age < 5), 'Age'] = np.nan"
      ]
    },
    {
      "cell_type": "code",
      "execution_count": 27,
      "metadata": {
        "colab": {
          "base_uri": "https://localhost:8080/"
        },
        "id": "rxuFQN2iW5Ps",
        "outputId": "918c21e3-d9ac-49e7-abc8-62ba32c5f620"
      },
      "outputs": [
        {
          "output_type": "execute_result",
          "data": {
            "text/plain": [
              "User-ID         0\n",
              "Age        112010\n",
              "Country         0\n",
              "dtype: int64"
            ]
          },
          "metadata": {},
          "execution_count": 27
        }
      ],
      "source": [
        "#Checking null values again in Users dataset\n",
        "users.isna().sum()"
      ]
    },
    {
      "cell_type": "markdown",
      "metadata": {
        "id": "fclLzzL2Tca8"
      },
      "source": [
        "Age has positive Skewness (right tail)\n",
        "so we can use median to fill Nan values,\n",
        "but for this we don't like to fill Nan value just for one range of age. To handle this we'll use country column to fill Nan."
      ]
    },
    {
      "cell_type": "code",
      "execution_count": 28,
      "metadata": {
        "id": "_v3v-dzqOF9B"
      },
      "outputs": [],
      "source": [
        "users['Age'] = users['Age'].fillna(users.groupby('Country')['Age'].transform('median'))"
      ]
    },
    {
      "cell_type": "code",
      "execution_count": 29,
      "metadata": {
        "colab": {
          "base_uri": "https://localhost:8080/"
        },
        "id": "ax2IR0ZfWtgT",
        "outputId": "ad6d5b0d-f3fd-4c4f-e937-c025f55a1cab"
      },
      "outputs": [
        {
          "output_type": "execute_result",
          "data": {
            "text/plain": [
              "User-ID      0\n",
              "Age        276\n",
              "Country      0\n",
              "dtype: int64"
            ]
          },
          "metadata": {},
          "execution_count": 29
        }
      ],
      "source": [
        "#Checking null value again\n",
        "users.isna().sum()"
      ]
    },
    {
      "cell_type": "markdown",
      "metadata": {
        "id": "eJEgWReDXIRk"
      },
      "source": [
        "Still we have 276 Nan values let's fill them with mean"
      ]
    },
    {
      "cell_type": "code",
      "execution_count": 30,
      "metadata": {
        "id": "H-c78VbJXGoW"
      },
      "outputs": [],
      "source": [
        "users['Age'].fillna(users.Age.mean(),inplace=True)"
      ]
    },
    {
      "cell_type": "code",
      "execution_count": 31,
      "metadata": {
        "colab": {
          "base_uri": "https://localhost:8080/"
        },
        "id": "NGI-WpyKXqat",
        "outputId": "8208afaf-2c75-4520-8693-6dcfc78a542c"
      },
      "outputs": [
        {
          "output_type": "execute_result",
          "data": {
            "text/plain": [
              "User-ID    0\n",
              "Age        0\n",
              "Country    0\n",
              "dtype: int64"
            ]
          },
          "metadata": {},
          "execution_count": 31
        }
      ],
      "source": [
        "#again checking value\n",
        "users.isna().sum()"
      ]
    },
    {
      "cell_type": "markdown",
      "metadata": {
        "id": "GDgwVVAfZCvX"
      },
      "source": [
        "##**2- Books_Dataset**"
      ]
    },
    {
      "cell_type": "code",
      "execution_count": 32,
      "metadata": {
        "colab": {
          "base_uri": "https://localhost:8080/",
          "height": 263
        },
        "id": "kT-MU-UgZCZX",
        "outputId": "f9fc2255-c015-4790-f35a-6b8a9ed16150"
      },
      "outputs": [
        {
          "output_type": "execute_result",
          "data": {
            "text/plain": [
              "         ISBN           Book-Title           Book-Author Year-Of-Publication  \\\n",
              "0  0195153448  Classical Mythology    Mark P. O. Morford                2002   \n",
              "1  0002005018         Clara Callan  Richard Bruce Wright                2001   \n",
              "\n",
              "                 Publisher                                        Image-URL-S  \\\n",
              "0  Oxford University Press  http://images.amazon.com/images/P/0195153448.0...   \n",
              "1    HarperFlamingo Canada  http://images.amazon.com/images/P/0002005018.0...   \n",
              "\n",
              "                                         Image-URL-M  \\\n",
              "0  http://images.amazon.com/images/P/0195153448.0...   \n",
              "1  http://images.amazon.com/images/P/0002005018.0...   \n",
              "\n",
              "                                         Image-URL-L  \n",
              "0  http://images.amazon.com/images/P/0195153448.0...  \n",
              "1  http://images.amazon.com/images/P/0002005018.0...  "
            ],
            "text/html": [
              "\n",
              "  <div id=\"df-64e29bc0-316e-4ace-8064-f4dc4acc370a\">\n",
              "    <div class=\"colab-df-container\">\n",
              "      <div>\n",
              "<style scoped>\n",
              "    .dataframe tbody tr th:only-of-type {\n",
              "        vertical-align: middle;\n",
              "    }\n",
              "\n",
              "    .dataframe tbody tr th {\n",
              "        vertical-align: top;\n",
              "    }\n",
              "\n",
              "    .dataframe thead th {\n",
              "        text-align: right;\n",
              "    }\n",
              "</style>\n",
              "<table border=\"1\" class=\"dataframe\">\n",
              "  <thead>\n",
              "    <tr style=\"text-align: right;\">\n",
              "      <th></th>\n",
              "      <th>ISBN</th>\n",
              "      <th>Book-Title</th>\n",
              "      <th>Book-Author</th>\n",
              "      <th>Year-Of-Publication</th>\n",
              "      <th>Publisher</th>\n",
              "      <th>Image-URL-S</th>\n",
              "      <th>Image-URL-M</th>\n",
              "      <th>Image-URL-L</th>\n",
              "    </tr>\n",
              "  </thead>\n",
              "  <tbody>\n",
              "    <tr>\n",
              "      <th>0</th>\n",
              "      <td>0195153448</td>\n",
              "      <td>Classical Mythology</td>\n",
              "      <td>Mark P. O. Morford</td>\n",
              "      <td>2002</td>\n",
              "      <td>Oxford University Press</td>\n",
              "      <td>http://images.amazon.com/images/P/0195153448.0...</td>\n",
              "      <td>http://images.amazon.com/images/P/0195153448.0...</td>\n",
              "      <td>http://images.amazon.com/images/P/0195153448.0...</td>\n",
              "    </tr>\n",
              "    <tr>\n",
              "      <th>1</th>\n",
              "      <td>0002005018</td>\n",
              "      <td>Clara Callan</td>\n",
              "      <td>Richard Bruce Wright</td>\n",
              "      <td>2001</td>\n",
              "      <td>HarperFlamingo Canada</td>\n",
              "      <td>http://images.amazon.com/images/P/0002005018.0...</td>\n",
              "      <td>http://images.amazon.com/images/P/0002005018.0...</td>\n",
              "      <td>http://images.amazon.com/images/P/0002005018.0...</td>\n",
              "    </tr>\n",
              "  </tbody>\n",
              "</table>\n",
              "</div>\n",
              "      <button class=\"colab-df-convert\" onclick=\"convertToInteractive('df-64e29bc0-316e-4ace-8064-f4dc4acc370a')\"\n",
              "              title=\"Convert this dataframe to an interactive table.\"\n",
              "              style=\"display:none;\">\n",
              "        \n",
              "  <svg xmlns=\"http://www.w3.org/2000/svg\" height=\"24px\"viewBox=\"0 0 24 24\"\n",
              "       width=\"24px\">\n",
              "    <path d=\"M0 0h24v24H0V0z\" fill=\"none\"/>\n",
              "    <path d=\"M18.56 5.44l.94 2.06.94-2.06 2.06-.94-2.06-.94-.94-2.06-.94 2.06-2.06.94zm-11 1L8.5 8.5l.94-2.06 2.06-.94-2.06-.94L8.5 2.5l-.94 2.06-2.06.94zm10 10l.94 2.06.94-2.06 2.06-.94-2.06-.94-.94-2.06-.94 2.06-2.06.94z\"/><path d=\"M17.41 7.96l-1.37-1.37c-.4-.4-.92-.59-1.43-.59-.52 0-1.04.2-1.43.59L10.3 9.45l-7.72 7.72c-.78.78-.78 2.05 0 2.83L4 21.41c.39.39.9.59 1.41.59.51 0 1.02-.2 1.41-.59l7.78-7.78 2.81-2.81c.8-.78.8-2.07 0-2.86zM5.41 20L4 18.59l7.72-7.72 1.47 1.35L5.41 20z\"/>\n",
              "  </svg>\n",
              "      </button>\n",
              "      \n",
              "  <style>\n",
              "    .colab-df-container {\n",
              "      display:flex;\n",
              "      flex-wrap:wrap;\n",
              "      gap: 12px;\n",
              "    }\n",
              "\n",
              "    .colab-df-convert {\n",
              "      background-color: #E8F0FE;\n",
              "      border: none;\n",
              "      border-radius: 50%;\n",
              "      cursor: pointer;\n",
              "      display: none;\n",
              "      fill: #1967D2;\n",
              "      height: 32px;\n",
              "      padding: 0 0 0 0;\n",
              "      width: 32px;\n",
              "    }\n",
              "\n",
              "    .colab-df-convert:hover {\n",
              "      background-color: #E2EBFA;\n",
              "      box-shadow: 0px 1px 2px rgba(60, 64, 67, 0.3), 0px 1px 3px 1px rgba(60, 64, 67, 0.15);\n",
              "      fill: #174EA6;\n",
              "    }\n",
              "\n",
              "    [theme=dark] .colab-df-convert {\n",
              "      background-color: #3B4455;\n",
              "      fill: #D2E3FC;\n",
              "    }\n",
              "\n",
              "    [theme=dark] .colab-df-convert:hover {\n",
              "      background-color: #434B5C;\n",
              "      box-shadow: 0px 1px 3px 1px rgba(0, 0, 0, 0.15);\n",
              "      filter: drop-shadow(0px 1px 2px rgba(0, 0, 0, 0.3));\n",
              "      fill: #FFFFFF;\n",
              "    }\n",
              "  </style>\n",
              "\n",
              "      <script>\n",
              "        const buttonEl =\n",
              "          document.querySelector('#df-64e29bc0-316e-4ace-8064-f4dc4acc370a button.colab-df-convert');\n",
              "        buttonEl.style.display =\n",
              "          google.colab.kernel.accessAllowed ? 'block' : 'none';\n",
              "\n",
              "        async function convertToInteractive(key) {\n",
              "          const element = document.querySelector('#df-64e29bc0-316e-4ace-8064-f4dc4acc370a');\n",
              "          const dataTable =\n",
              "            await google.colab.kernel.invokeFunction('convertToInteractive',\n",
              "                                                     [key], {});\n",
              "          if (!dataTable) return;\n",
              "\n",
              "          const docLinkHtml = 'Like what you see? Visit the ' +\n",
              "            '<a target=\"_blank\" href=https://colab.research.google.com/notebooks/data_table.ipynb>data table notebook</a>'\n",
              "            + ' to learn more about interactive tables.';\n",
              "          element.innerHTML = '';\n",
              "          dataTable['output_type'] = 'display_data';\n",
              "          await google.colab.output.renderOutput(dataTable, element);\n",
              "          const docLink = document.createElement('div');\n",
              "          docLink.innerHTML = docLinkHtml;\n",
              "          element.appendChild(docLink);\n",
              "        }\n",
              "      </script>\n",
              "    </div>\n",
              "  </div>\n",
              "  "
            ]
          },
          "metadata": {},
          "execution_count": 32
        }
      ],
      "source": [
        "#head of books dataset\n",
        "books.head(2)"
      ]
    },
    {
      "cell_type": "markdown",
      "metadata": {
        "id": "FTaAL22famEf"
      },
      "source": [
        "Let's find our Top 10 Authors which have written the most books--"
      ]
    },
    {
      "cell_type": "code",
      "execution_count": 33,
      "metadata": {
        "colab": {
          "base_uri": "https://localhost:8080/"
        },
        "id": "eJ-eqG6x3aTz",
        "outputId": "dfb38e9c-07b7-4604-8907-0102ee9e52d1"
      },
      "outputs": [
        {
          "output_type": "execute_result",
          "data": {
            "text/plain": [
              "(271360, 8)"
            ]
          },
          "metadata": {},
          "execution_count": 33
        }
      ],
      "source": [
        "books.shape"
      ]
    },
    {
      "cell_type": "code",
      "execution_count": 34,
      "metadata": {
        "colab": {
          "base_uri": "https://localhost:8080/"
        },
        "id": "dOsU5Hfe3efB",
        "outputId": "c44ca9d5-abe7-473b-dcbc-f1fea627ed98"
      },
      "outputs": [
        {
          "output_type": "execute_result",
          "data": {
            "text/plain": [
              "102024"
            ]
          },
          "metadata": {},
          "execution_count": 34
        }
      ],
      "source": [
        "len(books['Book-Author'].unique())"
      ]
    },
    {
      "cell_type": "markdown",
      "metadata": {
        "id": "hTagaWg4CsO2"
      },
      "source": [
        "Top 10 Authors which have published the most books:"
      ]
    },
    {
      "cell_type": "code",
      "execution_count": 35,
      "metadata": {
        "colab": {
          "base_uri": "https://localhost:8080/",
          "height": 475
        },
        "id": "ax2yMAvZZcVL",
        "outputId": "35d31a80-b718-41ab-b847-7361f580b458"
      },
      "outputs": [
        {
          "output_type": "execute_result",
          "data": {
            "text/plain": [
              "Text(0.5, 1.0, 'Top 10 Authors')"
            ]
          },
          "metadata": {},
          "execution_count": 35
        },
        {
          "output_type": "display_data",
          "data": {
            "text/plain": [
              "<Figure size 1080x504 with 1 Axes>"
            ],
            "image/png": "[encoded data removed]"
          },
          "metadata": {
            "needs_background": "light"
          }
        }
      ],
      "source": [
        "plt.figure(figsize=(15,7))\n",
        "sns.countplot(y='Book-Author',data=books,order=pd.value_counts(books['Book-Author']).iloc[:10].index)\n",
        "plt.title('Top 10 Authors')"
      ]
    },
    {
      "cell_type": "markdown",
      "metadata": {
        "id": "icPwIR_WbntA"
      },
      "source": [
        "Top 10 Publisher which have published the most books:"
      ]
    },
    {
      "cell_type": "code",
      "execution_count": 36,
      "metadata": {
        "colab": {
          "base_uri": "https://localhost:8080/",
          "height": 475
        },
        "id": "iDqUIosnZcS_",
        "outputId": "3b0a783f-d625-45d1-cd7c-1cc84ed7a1e2"
      },
      "outputs": [
        {
          "output_type": "execute_result",
          "data": {
            "text/plain": [
              "Text(0.5, 1.0, 'Top 10 Publishers')"
            ]
          },
          "metadata": {},
          "execution_count": 36
        },
        {
          "output_type": "display_data",
          "data": {
            "text/plain": [
              "<Figure size 1080x504 with 1 Axes>"
            ],
            "image/png": "[encoded data removed]"
          },
          "metadata": {
            "needs_background": "light"
          }
        }
      ],
      "source": [
        "plt.figure(figsize=(15,7))\n",
        "sns.countplot(y='Publisher',data=books,order=pd.value_counts(books['Publisher']).iloc[:10].index)\n",
        "plt.title('Top 10 Publishers')"
      ]
    },
    {
      "cell_type": "code",
      "execution_count": 37,
      "metadata": {
        "colab": {
          "base_uri": "https://localhost:8080/"
        },
        "id": "3QBzuvDtZcQy",
        "outputId": "25b45496-50ed-47aa-b235-6cdd967a7a7d"
      },
      "outputs": [
        {
          "output_type": "stream",
          "name": "stdout",
          "text": [
            "['0', '1376', '1378', '1806', '1897', '1900', '1901', '1902', '1904', '1906', '1908', '1909', '1910', '1911', '1914', '1917', '1919', '1920', '1921', '1922', '1923', '1924', '1925', '1926', '1927', '1928', '1929', '1930', '1931', '1932', '1933', '1934', '1935', '1936', '1937', '1938', '1939', '1940', '1941', '1942', '1943', '1944', '1945', '1946', '1947', '1948', '1949', '1950', '1951', '1952', '1953', '1954', '1955', '1956', '1957', '1958', '1959', '1960', '1961', '1962', '1963', '1964', '1965', '1966', '1967', '1968', '1969', '1970', '1971', '1972', '1973', '1974', '1975', '1976', '1977', '1978', '1979', '1980', '1981', '1982', '1983', '1984', '1985', '1986', '1987', '1988', '1989', '1990', '1991', '1992', '1993', '1994', '1995', '1996', '1997', '1998', '1999', '2000', '2001', '2002', '2003', '2004', '2005', '2006', '2008', '2010', '2011', '2012', '2020', '2021', '2024', '2026', '2030', '2037', '2038', '2050', 'DK Publishing Inc', 'Gallimard']\n"
          ]
        }
      ],
      "source": [
        "books['Year-Of-Publication']=books['Year-Of-Publication'].astype('str')\n",
        "a=list(books['Year-Of-Publication'].unique())\n",
        "a=set(a)\n",
        "a=list(a)\n",
        "a = [x for x in a if x is not None]\n",
        "a.sort()\n",
        "print(a)"
      ]
    },
    {
      "cell_type": "code",
      "execution_count": 38,
      "metadata": {
        "colab": {
          "base_uri": "https://localhost:8080/",
          "height": 419
        },
        "id": "lh_ud6IRfaQR",
        "outputId": "de89e7f8-c8b1-4909-bbc1-c758ca0b8e21"
      },
      "outputs": [
        {
          "output_type": "execute_result",
          "data": {
            "text/plain": [
              "              ISBN                                         Book-Title  \\\n",
              "209538  078946697X  DK Readers: Creating the X-Men, How It All Beg...   \n",
              "221678  0789466953  DK Readers: Creating the X-Men, How Comic Book...   \n",
              "\n",
              "       Book-Author Year-Of-Publication  \\\n",
              "209538        2000   DK Publishing Inc   \n",
              "221678        2000   DK Publishing Inc   \n",
              "\n",
              "                                                Publisher  \\\n",
              "209538  http://images.amazon.com/images/P/078946697X.0...   \n",
              "221678  http://images.amazon.com/images/P/0789466953.0...   \n",
              "\n",
              "                                              Image-URL-S  \\\n",
              "209538  http://images.amazon.com/images/P/078946697X.0...   \n",
              "221678  http://images.amazon.com/images/P/0789466953.0...   \n",
              "\n",
              "                                              Image-URL-M Image-URL-L  \n",
              "209538  http://images.amazon.com/images/P/078946697X.0...         NaN  \n",
              "221678  http://images.amazon.com/images/P/0789466953.0...         NaN  "
            ],
            "text/html": [
              "\n",
              "  <div id=\"df-f745bf35-1a60-4185-a917-d7ba531db60d\">\n",
              "    <div class=\"colab-df-container\">\n",
              "      <div>\n",
              "<style scoped>\n",
              "    .dataframe tbody tr th:only-of-type {\n",
              "        vertical-align: middle;\n",
              "    }\n",
              "\n",
              "    .dataframe tbody tr th {\n",
              "        vertical-align: top;\n",
              "    }\n",
              "\n",
              "    .dataframe thead th {\n",
              "        text-align: right;\n",
              "    }\n",
              "</style>\n",
              "<table border=\"1\" class=\"dataframe\">\n",
              "  <thead>\n",
              "    <tr style=\"text-align: right;\">\n",
              "      <th></th>\n",
              "      <th>ISBN</th>\n",
              "      <th>Book-Title</th>\n",
              "      <th>Book-Author</th>\n",
              "      <th>Year-Of-Publication</th>\n",
              "      <th>Publisher</th>\n",
              "      <th>Image-URL-S</th>\n",
              "      <th>Image-URL-M</th>\n",
              "      <th>Image-URL-L</th>\n",
              "    </tr>\n",
              "  </thead>\n",
              "  <tbody>\n",
              "    <tr>\n",
              "      <th>209538</th>\n",
              "      <td>078946697X</td>\n",
              "      <td>DK Readers: Creating the X-Men, How It All Beg...</td>\n",
              "      <td>2000</td>\n",
              "      <td>DK Publishing Inc</td>\n",
              "      <td>http://images.amazon.com/images/P/078946697X.0...</td>\n",
              "      <td>http://images.amazon.com/images/P/078946697X.0...</td>\n",
              "      <td>http://images.amazon.com/images/P/078946697X.0...</td>\n",
              "      <td>NaN</td>\n",
              "    </tr>\n",
              "    <tr>\n",
              "      <th>221678</th>\n",
              "      <td>0789466953</td>\n",
              "      <td>DK Readers: Creating the X-Men, How Comic Book...</td>\n",
              "      <td>2000</td>\n",
              "      <td>DK Publishing Inc</td>\n",
              "      <td>http://images.amazon.com/images/P/0789466953.0...</td>\n",
              "      <td>http://images.amazon.com/images/P/0789466953.0...</td>\n",
              "      <td>http://images.amazon.com/images/P/0789466953.0...</td>\n",
              "      <td>NaN</td>\n",
              "    </tr>\n",
              "  </tbody>\n",
              "</table>\n",
              "</div>\n",
              "      <button class=\"colab-df-convert\" onclick=\"convertToInteractive('df-f745bf35-1a60-4185-a917-d7ba531db60d')\"\n",
              "              title=\"Convert this dataframe to an interactive table.\"\n",
              "              style=\"display:none;\">\n",
              "        \n",
              "  <svg xmlns=\"http://www.w3.org/2000/svg\" height=\"24px\"viewBox=\"0 0 24 24\"\n",
              "       width=\"24px\">\n",
              "    <path d=\"M0 0h24v24H0V0z\" fill=\"none\"/>\n",
              "    <path d=\"M18.56 5.44l.94 2.06.94-2.06 2.06-.94-2.06-.94-.94-2.06-.94 2.06-2.06.94zm-11 1L8.5 8.5l.94-2.06 2.06-.94-2.06-.94L8.5 2.5l-.94 2.06-2.06.94zm10 10l.94 2.06.94-2.06 2.06-.94-2.06-.94-.94-2.06-.94 2.06-2.06.94z\"/><path d=\"M17.41 7.96l-1.37-1.37c-.4-.4-.92-.59-1.43-.59-.52 0-1.04.2-1.43.59L10.3 9.45l-7.72 7.72c-.78.78-.78 2.05 0 2.83L4 21.41c.39.39.9.59 1.41.59.51 0 1.02-.2 1.41-.59l7.78-7.78 2.81-2.81c.8-.78.8-2.07 0-2.86zM5.41 20L4 18.59l7.72-7.72 1.47 1.35L5.41 20z\"/>\n",
              "  </svg>\n",
              "      </button>\n",
              "      \n",
              "  <style>\n",
              "    .colab-df-container {\n",
              "      display:flex;\n",
              "      flex-wrap:wrap;\n",
              "      gap: 12px;\n",
              "    }\n",
              "\n",
              "    .colab-df-convert {\n",
              "      background-color: #E8F0FE;\n",
              "      border: none;\n",
              "      border-radius: 50%;\n",
              "      cursor: pointer;\n",
              "      display: none;\n",
              "      fill: #1967D2;\n",
              "      height: 32px;\n",
              "      padding: 0 0 0 0;\n",
              "      width: 32px;\n",
              "    }\n",
              "\n",
              "    .colab-df-convert:hover {\n",
              "      background-color: #E2EBFA;\n",
              "      box-shadow: 0px 1px 2px rgba(60, 64, 67, 0.3), 0px 1px 3px 1px rgba(60, 64, 67, 0.15);\n",
              "      fill: #174EA6;\n",
              "    }\n",
              "\n",
              "    [theme=dark] .colab-df-convert {\n",
              "      background-color: #3B4455;\n",
              "      fill: #D2E3FC;\n",
              "    }\n",
              "\n",
              "    [theme=dark] .colab-df-convert:hover {\n",
              "      background-color: #434B5C;\n",
              "      box-shadow: 0px 1px 3px 1px rgba(0, 0, 0, 0.15);\n",
              "      filter: drop-shadow(0px 1px 2px rgba(0, 0, 0, 0.3));\n",
              "      fill: #FFFFFF;\n",
              "    }\n",
              "  </style>\n",
              "\n",
              "      <script>\n",
              "        const buttonEl =\n",
              "          document.querySelector('#df-f745bf35-1a60-4185-a917-d7ba531db60d button.colab-df-convert');\n",
              "        buttonEl.style.display =\n",
              "          google.colab.kernel.accessAllowed ? 'block' : 'none';\n",
              "\n",
              "        async function convertToInteractive(key) {\n",
              "          const element = document.querySelector('#df-f745bf35-1a60-4185-a917-d7ba531db60d');\n",
              "          const dataTable =\n",
              "            await google.colab.kernel.invokeFunction('convertToInteractive',\n",
              "                                                     [key], {});\n",
              "          if (!dataTable) return;\n",
              "\n",
              "          const docLinkHtml = 'Like what you see? Visit the ' +\n",
              "            '<a target=\"_blank\" href=https://colab.research.google.com/notebooks/data_table.ipynb>data table notebook</a>'\n",
              "            + ' to learn more about interactive tables.';\n",
              "          element.innerHTML = '';\n",
              "          dataTable['output_type'] = 'display_data';\n",
              "          await google.colab.output.renderOutput(dataTable, element);\n",
              "          const docLink = document.createElement('div');\n",
              "          docLink.innerHTML = docLinkHtml;\n",
              "          element.appendChild(docLink);\n",
              "        }\n",
              "      </script>\n",
              "    </div>\n",
              "  </div>\n",
              "  "
            ]
          },
          "metadata": {},
          "execution_count": 38
        }
      ],
      "source": [
        "#investigating the rows having 'DK Publishing Inc' as yearOfPublication\n",
        "books.loc[books['Year-Of-Publication'] == 'DK Publishing Inc',:]"
      ]
    },
    {
      "cell_type": "markdown",
      "metadata": {
        "id": "B5L8g4tdfDgz"
      },
      "source": [
        "As it can be seen from above that there are some incorrect entries in Year-Of-Publication field. It looks like Publisher names 'DK Publishing Inc' and 'Gallimard' have been incorrectly loaded as Year-Of-Publication in dataset due to some errors in csv file "
      ]
    },
    {
      "cell_type": "code",
      "execution_count": 39,
      "metadata": {
        "colab": {
          "base_uri": "https://localhost:8080/",
          "height": 399
        },
        "id": "gYox7oYWZcOF",
        "outputId": "fd863282-37ae-4996-ce32-136efa8d77a3"
      },
      "outputs": [
        {
          "output_type": "execute_result",
          "data": {
            "text/plain": [
              "              ISBN                                         Book-Title  \\\n",
              "209538  078946697X  DK Readers: Creating the X-Men, How It All Beg...   \n",
              "221678  0789466953  DK Readers: Creating the X-Men, How Comic Book...   \n",
              "\n",
              "               Book-Author Year-Of-Publication          Publisher  \\\n",
              "209538  Michael Teitelbaum                2000  DK Publishing Inc   \n",
              "221678       James Buckley                2000  DK Publishing Inc   \n",
              "\n",
              "                                              Image-URL-S  \\\n",
              "209538  http://images.amazon.com/images/P/078946697X.0...   \n",
              "221678  http://images.amazon.com/images/P/0789466953.0...   \n",
              "\n",
              "                                              Image-URL-M Image-URL-L  \n",
              "209538  http://images.amazon.com/images/P/078946697X.0...         NaN  \n",
              "221678  http://images.amazon.com/images/P/0789466953.0...         NaN  "
            ],
            "text/html": [
              "\n",
              "  <div id=\"df-09ed79e7-e5ab-447e-8c60-e92cf98184d1\">\n",
              "    <div class=\"colab-df-container\">\n",
              "      <div>\n",
              "<style scoped>\n",
              "    .dataframe tbody tr th:only-of-type {\n",
              "        vertical-align: middle;\n",
              "    }\n",
              "\n",
              "    .dataframe tbody tr th {\n",
              "        vertical-align: top;\n",
              "    }\n",
              "\n",
              "    .dataframe thead th {\n",
              "        text-align: right;\n",
              "    }\n",
              "</style>\n",
              "<table border=\"1\" class=\"dataframe\">\n",
              "  <thead>\n",
              "    <tr style=\"text-align: right;\">\n",
              "      <th></th>\n",
              "      <th>ISBN</th>\n",
              "      <th>Book-Title</th>\n",
              "      <th>Book-Author</th>\n",
              "      <th>Year-Of-Publication</th>\n",
              "      <th>Publisher</th>\n",
              "      <th>Image-URL-S</th>\n",
              "      <th>Image-URL-M</th>\n",
              "      <th>Image-URL-L</th>\n",
              "    </tr>\n",
              "  </thead>\n",
              "  <tbody>\n",
              "    <tr>\n",
              "      <th>209538</th>\n",
              "      <td>078946697X</td>\n",
              "      <td>DK Readers: Creating the X-Men, How It All Beg...</td>\n",
              "      <td>Michael Teitelbaum</td>\n",
              "      <td>2000</td>\n",
              "      <td>DK Publishing Inc</td>\n",
              "      <td>http://images.amazon.com/images/P/078946697X.0...</td>\n",
              "      <td>http://images.amazon.com/images/P/078946697X.0...</td>\n",
              "      <td>NaN</td>\n",
              "    </tr>\n",
              "    <tr>\n",
              "      <th>221678</th>\n",
              "      <td>0789466953</td>\n",
              "      <td>DK Readers: Creating the X-Men, How Comic Book...</td>\n",
              "      <td>James Buckley</td>\n",
              "      <td>2000</td>\n",
              "      <td>DK Publishing Inc</td>\n",
              "      <td>http://images.amazon.com/images/P/0789466953.0...</td>\n",
              "      <td>http://images.amazon.com/images/P/0789466953.0...</td>\n",
              "      <td>NaN</td>\n",
              "    </tr>\n",
              "  </tbody>\n",
              "</table>\n",
              "</div>\n",
              "      <button class=\"colab-df-convert\" onclick=\"convertToInteractive('df-09ed79e7-e5ab-447e-8c60-e92cf98184d1')\"\n",
              "              title=\"Convert this dataframe to an interactive table.\"\n",
              "              style=\"display:none;\">\n",
              "        \n",
              "  <svg xmlns=\"http://www.w3.org/2000/svg\" height=\"24px\"viewBox=\"0 0 24 24\"\n",
              "       width=\"24px\">\n",
              "    <path d=\"M0 0h24v24H0V0z\" fill=\"none\"/>\n",
              "    <path d=\"M18.56 5.44l.94 2.06.94-2.06 2.06-.94-2.06-.94-.94-2.06-.94 2.06-2.06.94zm-11 1L8.5 8.5l.94-2.06 2.06-.94-2.06-.94L8.5 2.5l-.94 2.06-2.06.94zm10 10l.94 2.06.94-2.06 2.06-.94-2.06-.94-.94-2.06-.94 2.06-2.06.94z\"/><path d=\"M17.41 7.96l-1.37-1.37c-.4-.4-.92-.59-1.43-.59-.52 0-1.04.2-1.43.59L10.3 9.45l-7.72 7.72c-.78.78-.78 2.05 0 2.83L4 21.41c.39.39.9.59 1.41.59.51 0 1.02-.2 1.41-.59l7.78-7.78 2.81-2.81c.8-.78.8-2.07 0-2.86zM5.41 20L4 18.59l7.72-7.72 1.47 1.35L5.41 20z\"/>\n",
              "  </svg>\n",
              "      </button>\n",
              "      \n",
              "  <style>\n",
              "    .colab-df-container {\n",
              "      display:flex;\n",
              "      flex-wrap:wrap;\n",
              "      gap: 12px;\n",
              "    }\n",
              "\n",
              "    .colab-df-convert {\n",
              "      background-color: #E8F0FE;\n",
              "      border: none;\n",
              "      border-radius: 50%;\n",
              "      cursor: pointer;\n",
              "      display: none;\n",
              "      fill: #1967D2;\n",
              "      height: 32px;\n",
              "      padding: 0 0 0 0;\n",
              "      width: 32px;\n",
              "    }\n",
              "\n",
              "    .colab-df-convert:hover {\n",
              "      background-color: #E2EBFA;\n",
              "      box-shadow: 0px 1px 2px rgba(60, 64, 67, 0.3), 0px 1px 3px 1px rgba(60, 64, 67, 0.15);\n",
              "      fill: #174EA6;\n",
              "    }\n",
              "\n",
              "    [theme=dark] .colab-df-convert {\n",
              "      background-color: #3B4455;\n",
              "      fill: #D2E3FC;\n",
              "    }\n",
              "\n",
              "    [theme=dark] .colab-df-convert:hover {\n",
              "      background-color: #434B5C;\n",
              "      box-shadow: 0px 1px 3px 1px rgba(0, 0, 0, 0.15);\n",
              "      filter: drop-shadow(0px 1px 2px rgba(0, 0, 0, 0.3));\n",
              "      fill: #FFFFFF;\n",
              "    }\n",
              "  </style>\n",
              "\n",
              "      <script>\n",
              "        const buttonEl =\n",
              "          document.querySelector('#df-09ed79e7-e5ab-447e-8c60-e92cf98184d1 button.colab-df-convert');\n",
              "        buttonEl.style.display =\n",
              "          google.colab.kernel.accessAllowed ? 'block' : 'none';\n",
              "\n",
              "        async function convertToInteractive(key) {\n",
              "          const element = document.querySelector('#df-09ed79e7-e5ab-447e-8c60-e92cf98184d1');\n",
              "          const dataTable =\n",
              "            await google.colab.kernel.invokeFunction('convertToInteractive',\n",
              "                                                     [key], {});\n",
              "          if (!dataTable) return;\n",
              "\n",
              "          const docLinkHtml = 'Like what you see? Visit the ' +\n",
              "            '<a target=\"_blank\" href=https://colab.research.google.com/notebooks/data_table.ipynb>data table notebook</a>'\n",
              "            + ' to learn more about interactive tables.';\n",
              "          element.innerHTML = '';\n",
              "          dataTable['output_type'] = 'display_data';\n",
              "          await google.colab.output.renderOutput(dataTable, element);\n",
              "          const docLink = document.createElement('div');\n",
              "          docLink.innerHTML = docLinkHtml;\n",
              "          element.appendChild(docLink);\n",
              "        }\n",
              "      </script>\n",
              "    </div>\n",
              "  </div>\n",
              "  "
            ]
          },
          "metadata": {},
          "execution_count": 39
        }
      ],
      "source": [
        "#From above, it is seen that bookAuthor is incorrectly loaded with bookTitle, hence making required corrections\n",
        "#ISBN '0789466953'\n",
        "books.loc[books.ISBN == '0789466953','Year-Of-Publication'] = 2000\n",
        "books.loc[books.ISBN == '0789466953','Book-Author'] = \"James Buckley\"\n",
        "books.loc[books.ISBN == '0789466953','Publisher'] = \"DK Publishing Inc\"\n",
        "books.loc[books.ISBN == '0789466953','Book-Title'] = \"DK Readers: Creating the X-Men, How Comic Books Come to Life (Level 4: Proficient Readers)\"\n",
        "\n",
        "#ISBN '078946697X'\n",
        "books.loc[books.ISBN == '078946697X','Year-Of-Publication'] = 2000\n",
        "books.loc[books.ISBN == '078946697X','Book-Author'] = \"Michael Teitelbaum\"\n",
        "books.loc[books.ISBN == '078946697X','Publisher'] = \"DK Publishing Inc\"\n",
        "books.loc[books.ISBN == '078946697X','Book-Title'] = \"DK Readers: Creating the X-Men, How It All Began (Level 4: Proficient Readers)\"\n",
        "\n",
        "#rechecking\n",
        "books.loc[(books.ISBN == '0789466953') | (books.ISBN == '078946697X'),:]\n",
        "#corrections done"
      ]
    },
    {
      "cell_type": "code",
      "execution_count": 40,
      "metadata": {
        "colab": {
          "base_uri": "https://localhost:8080/",
          "height": 214
        },
        "id": "bsR1uhZ_hJQC",
        "outputId": "8beb70f5-bc22-437f-aa42-aa3d3d2fb07d"
      },
      "outputs": [
        {
          "output_type": "execute_result",
          "data": {
            "text/plain": [
              "              ISBN                                         Book-Title  \\\n",
              "220731  2070426769  Peuple du ciel, suivi de 'Les Bergers\\\";Jean-M...   \n",
              "\n",
              "       Book-Author Year-Of-Publication  \\\n",
              "220731        2003           Gallimard   \n",
              "\n",
              "                                                Publisher  \\\n",
              "220731  http://images.amazon.com/images/P/2070426769.0...   \n",
              "\n",
              "                                              Image-URL-S  \\\n",
              "220731  http://images.amazon.com/images/P/2070426769.0...   \n",
              "\n",
              "                                              Image-URL-M Image-URL-L  \n",
              "220731  http://images.amazon.com/images/P/2070426769.0...         NaN  "
            ],
            "text/html": [
              "\n",
              "  <div id=\"df-1775d6e9-3dd4-4eba-bda8-718cd469adf7\">\n",
              "    <div class=\"colab-df-container\">\n",
              "      <div>\n",
              "<style scoped>\n",
              "    .dataframe tbody tr th:only-of-type {\n",
              "        vertical-align: middle;\n",
              "    }\n",
              "\n",
              "    .dataframe tbody tr th {\n",
              "        vertical-align: top;\n",
              "    }\n",
              "\n",
              "    .dataframe thead th {\n",
              "        text-align: right;\n",
              "    }\n",
              "</style>\n",
              "<table border=\"1\" class=\"dataframe\">\n",
              "  <thead>\n",
              "    <tr style=\"text-align: right;\">\n",
              "      <th></th>\n",
              "      <th>ISBN</th>\n",
              "      <th>Book-Title</th>\n",
              "      <th>Book-Author</th>\n",
              "      <th>Year-Of-Publication</th>\n",
              "      <th>Publisher</th>\n",
              "      <th>Image-URL-S</th>\n",
              "      <th>Image-URL-M</th>\n",
              "      <th>Image-URL-L</th>\n",
              "    </tr>\n",
              "  </thead>\n",
              "  <tbody>\n",
              "    <tr>\n",
              "      <th>220731</th>\n",
              "      <td>2070426769</td>\n",
              "      <td>Peuple du ciel, suivi de 'Les Bergers\\\";Jean-M...</td>\n",
              "      <td>2003</td>\n",
              "      <td>Gallimard</td>\n",
              "      <td>http://images.amazon.com/images/P/2070426769.0...</td>\n",
              "      <td>http://images.amazon.com/images/P/2070426769.0...</td>\n",
              "      <td>http://images.amazon.com/images/P/2070426769.0...</td>\n",
              "      <td>NaN</td>\n",
              "    </tr>\n",
              "  </tbody>\n",
              "</table>\n",
              "</div>\n",
              "      <button class=\"colab-df-convert\" onclick=\"convertToInteractive('df-1775d6e9-3dd4-4eba-bda8-718cd469adf7')\"\n",
              "              title=\"Convert this dataframe to an interactive table.\"\n",
              "              style=\"display:none;\">\n",
              "        \n",
              "  <svg xmlns=\"http://www.w3.org/2000/svg\" height=\"24px\"viewBox=\"0 0 24 24\"\n",
              "       width=\"24px\">\n",
              "    <path d=\"M0 0h24v24H0V0z\" fill=\"none\"/>\n",
              "    <path d=\"M18.56 5.44l.94 2.06.94-2.06 2.06-.94-2.06-.94-.94-2.06-.94 2.06-2.06.94zm-11 1L8.5 8.5l.94-2.06 2.06-.94-2.06-.94L8.5 2.5l-.94 2.06-2.06.94zm10 10l.94 2.06.94-2.06 2.06-.94-2.06-.94-.94-2.06-.94 2.06-2.06.94z\"/><path d=\"M17.41 7.96l-1.37-1.37c-.4-.4-.92-.59-1.43-.59-.52 0-1.04.2-1.43.59L10.3 9.45l-7.72 7.72c-.78.78-.78 2.05 0 2.83L4 21.41c.39.39.9.59 1.41.59.51 0 1.02-.2 1.41-.59l7.78-7.78 2.81-2.81c.8-.78.8-2.07 0-2.86zM5.41 20L4 18.59l7.72-7.72 1.47 1.35L5.41 20z\"/>\n",
              "  </svg>\n",
              "      </button>\n",
              "      \n",
              "  <style>\n",
              "    .colab-df-container {\n",
              "      display:flex;\n",
              "      flex-wrap:wrap;\n",
              "      gap: 12px;\n",
              "    }\n",
              "\n",
              "    .colab-df-convert {\n",
              "      background-color: #E8F0FE;\n",
              "      border: none;\n",
              "      border-radius: 50%;\n",
              "      cursor: pointer;\n",
              "      display: none;\n",
              "      fill: #1967D2;\n",
              "      height: 32px;\n",
              "      padding: 0 0 0 0;\n",
              "      width: 32px;\n",
              "    }\n",
              "\n",
              "    .colab-df-convert:hover {\n",
              "      background-color: #E2EBFA;\n",
              "      box-shadow: 0px 1px 2px rgba(60, 64, 67, 0.3), 0px 1px 3px 1px rgba(60, 64, 67, 0.15);\n",
              "      fill: #174EA6;\n",
              "    }\n",
              "\n",
              "    [theme=dark] .colab-df-convert {\n",
              "      background-color: #3B4455;\n",
              "      fill: #D2E3FC;\n",
              "    }\n",
              "\n",
              "    [theme=dark] .colab-df-convert:hover {\n",
              "      background-color: #434B5C;\n",
              "      box-shadow: 0px 1px 3px 1px rgba(0, 0, 0, 0.15);\n",
              "      filter: drop-shadow(0px 1px 2px rgba(0, 0, 0, 0.3));\n",
              "      fill: #FFFFFF;\n",
              "    }\n",
              "  </style>\n",
              "\n",
              "      <script>\n",
              "        const buttonEl =\n",
              "          document.querySelector('#df-1775d6e9-3dd4-4eba-bda8-718cd469adf7 button.colab-df-convert');\n",
              "        buttonEl.style.display =\n",
              "          google.colab.kernel.accessAllowed ? 'block' : 'none';\n",
              "\n",
              "        async function convertToInteractive(key) {\n",
              "          const element = document.querySelector('#df-1775d6e9-3dd4-4eba-bda8-718cd469adf7');\n",
              "          const dataTable =\n",
              "            await google.colab.kernel.invokeFunction('convertToInteractive',\n",
              "                                                     [key], {});\n",
              "          if (!dataTable) return;\n",
              "\n",
              "          const docLinkHtml = 'Like what you see? Visit the ' +\n",
              "            '<a target=\"_blank\" href=https://colab.research.google.com/notebooks/data_table.ipynb>data table notebook</a>'\n",
              "            + ' to learn more about interactive tables.';\n",
              "          element.innerHTML = '';\n",
              "          dataTable['output_type'] = 'display_data';\n",
              "          await google.colab.output.renderOutput(dataTable, element);\n",
              "          const docLink = document.createElement('div');\n",
              "          docLink.innerHTML = docLinkHtml;\n",
              "          element.appendChild(docLink);\n",
              "        }\n",
              "      </script>\n",
              "    </div>\n",
              "  </div>\n",
              "  "
            ]
          },
          "metadata": {},
          "execution_count": 40
        }
      ],
      "source": [
        "#investigating the rows having 'Gallimard' as yearOfPublication\n",
        "books.loc[books['Year-Of-Publication'] == 'Gallimard',:]"
      ]
    },
    {
      "cell_type": "code",
      "execution_count": 41,
      "metadata": {
        "colab": {
          "base_uri": "https://localhost:8080/",
          "height": 212
        },
        "id": "XXRqgejwh235",
        "outputId": "255f2111-8570-498b-b564-400f037958c9"
      },
      "outputs": [
        {
          "output_type": "execute_result",
          "data": {
            "text/plain": [
              "              ISBN                             Book-Title  \\\n",
              "220731  2070426769  Peuple du ciel, suivi de 'Les Bergers   \n",
              "\n",
              "                            Book-Author Year-Of-Publication  Publisher  \\\n",
              "220731  Jean-Marie Gustave Le ClÃ?Â©zio                2003  Gallimard   \n",
              "\n",
              "                                              Image-URL-S  \\\n",
              "220731  http://images.amazon.com/images/P/2070426769.0...   \n",
              "\n",
              "                                              Image-URL-M Image-URL-L  \n",
              "220731  http://images.amazon.com/images/P/2070426769.0...         NaN  "
            ],
            "text/html": [
              "\n",
              "  <div id=\"df-c2ae73a1-2ea8-4abd-928b-c48d5e269436\">\n",
              "    <div class=\"colab-df-container\">\n",
              "      <div>\n",
              "<style scoped>\n",
              "    .dataframe tbody tr th:only-of-type {\n",
              "        vertical-align: middle;\n",
              "    }\n",
              "\n",
              "    .dataframe tbody tr th {\n",
              "        vertical-align: top;\n",
              "    }\n",
              "\n",
              "    .dataframe thead th {\n",
              "        text-align: right;\n",
              "    }\n",
              "</style>\n",
              "<table border=\"1\" class=\"dataframe\">\n",
              "  <thead>\n",
              "    <tr style=\"text-align: right;\">\n",
              "      <th></th>\n",
              "      <th>ISBN</th>\n",
              "      <th>Book-Title</th>\n",
              "      <th>Book-Author</th>\n",
              "      <th>Year-Of-Publication</th>\n",
              "      <th>Publisher</th>\n",
              "      <th>Image-URL-S</th>\n",
              "      <th>Image-URL-M</th>\n",
              "      <th>Image-URL-L</th>\n",
              "    </tr>\n",
              "  </thead>\n",
              "  <tbody>\n",
              "    <tr>\n",
              "      <th>220731</th>\n",
              "      <td>2070426769</td>\n",
              "      <td>Peuple du ciel, suivi de 'Les Bergers</td>\n",
              "      <td>Jean-Marie Gustave Le ClÃ?Â©zio</td>\n",
              "      <td>2003</td>\n",
              "      <td>Gallimard</td>\n",
              "      <td>http://images.amazon.com/images/P/2070426769.0...</td>\n",
              "      <td>http://images.amazon.com/images/P/2070426769.0...</td>\n",
              "      <td>NaN</td>\n",
              "    </tr>\n",
              "  </tbody>\n",
              "</table>\n",
              "</div>\n",
              "      <button class=\"colab-df-convert\" onclick=\"convertToInteractive('df-c2ae73a1-2ea8-4abd-928b-c48d5e269436')\"\n",
              "              title=\"Convert this dataframe to an interactive table.\"\n",
              "              style=\"display:none;\">\n",
              "        \n",
              "  <svg xmlns=\"http://www.w3.org/2000/svg\" height=\"24px\"viewBox=\"0 0 24 24\"\n",
              "       width=\"24px\">\n",
              "    <path d=\"M0 0h24v24H0V0z\" fill=\"none\"/>\n",
              "    <path d=\"M18.56 5.44l.94 2.06.94-2.06 2.06-.94-2.06-.94-.94-2.06-.94 2.06-2.06.94zm-11 1L8.5 8.5l.94-2.06 2.06-.94-2.06-.94L8.5 2.5l-.94 2.06-2.06.94zm10 10l.94 2.06.94-2.06 2.06-.94-2.06-.94-.94-2.06-.94 2.06-2.06.94z\"/><path d=\"M17.41 7.96l-1.37-1.37c-.4-.4-.92-.59-1.43-.59-.52 0-1.04.2-1.43.59L10.3 9.45l-7.72 7.72c-.78.78-.78 2.05 0 2.83L4 21.41c.39.39.9.59 1.41.59.51 0 1.02-.2 1.41-.59l7.78-7.78 2.81-2.81c.8-.78.8-2.07 0-2.86zM5.41 20L4 18.59l7.72-7.72 1.47 1.35L5.41 20z\"/>\n",
              "  </svg>\n",
              "      </button>\n",
              "      \n",
              "  <style>\n",
              "    .colab-df-container {\n",
              "      display:flex;\n",
              "      flex-wrap:wrap;\n",
              "      gap: 12px;\n",
              "    }\n",
              "\n",
              "    .colab-df-convert {\n",
              "      background-color: #E8F0FE;\n",
              "      border: none;\n",
              "      border-radius: 50%;\n",
              "      cursor: pointer;\n",
              "      display: none;\n",
              "      fill: #1967D2;\n",
              "      height: 32px;\n",
              "      padding: 0 0 0 0;\n",
              "      width: 32px;\n",
              "    }\n",
              "\n",
              "    .colab-df-convert:hover {\n",
              "      background-color: #E2EBFA;\n",
              "      box-shadow: 0px 1px 2px rgba(60, 64, 67, 0.3), 0px 1px 3px 1px rgba(60, 64, 67, 0.15);\n",
              "      fill: #174EA6;\n",
              "    }\n",
              "\n",
              "    [theme=dark] .colab-df-convert {\n",
              "      background-color: #3B4455;\n",
              "      fill: #D2E3FC;\n",
              "    }\n",
              "\n",
              "    [theme=dark] .colab-df-convert:hover {\n",
              "      background-color: #434B5C;\n",
              "      box-shadow: 0px 1px 3px 1px rgba(0, 0, 0, 0.15);\n",
              "      filter: drop-shadow(0px 1px 2px rgba(0, 0, 0, 0.3));\n",
              "      fill: #FFFFFF;\n",
              "    }\n",
              "  </style>\n",
              "\n",
              "      <script>\n",
              "        const buttonEl =\n",
              "          document.querySelector('#df-c2ae73a1-2ea8-4abd-928b-c48d5e269436 button.colab-df-convert');\n",
              "        buttonEl.style.display =\n",
              "          google.colab.kernel.accessAllowed ? 'block' : 'none';\n",
              "\n",
              "        async function convertToInteractive(key) {\n",
              "          const element = document.querySelector('#df-c2ae73a1-2ea8-4abd-928b-c48d5e269436');\n",
              "          const dataTable =\n",
              "            await google.colab.kernel.invokeFunction('convertToInteractive',\n",
              "                                                     [key], {});\n",
              "          if (!dataTable) return;\n",
              "\n",
              "          const docLinkHtml = 'Like what you see? Visit the ' +\n",
              "            '<a target=\"_blank\" href=https://colab.research.google.com/notebooks/data_table.ipynb>data table notebook</a>'\n",
              "            + ' to learn more about interactive tables.';\n",
              "          element.innerHTML = '';\n",
              "          dataTable['output_type'] = 'display_data';\n",
              "          await google.colab.output.renderOutput(dataTable, element);\n",
              "          const docLink = document.createElement('div');\n",
              "          docLink.innerHTML = docLinkHtml;\n",
              "          element.appendChild(docLink);\n",
              "        }\n",
              "      </script>\n",
              "    </div>\n",
              "  </div>\n",
              "  "
            ]
          },
          "metadata": {},
          "execution_count": 41
        }
      ],
      "source": [
        "#making required corrections as above, keeping other fields intact\n",
        "books.loc[books.ISBN == '2070426769','Year-Of-Publication'] = 2003\n",
        "books.loc[books.ISBN == '2070426769','Book-Author'] = \"Jean-Marie Gustave Le ClÃ?Â©zio\"\n",
        "books.loc[books.ISBN == '2070426769','Publisher'] = \"Gallimard\"\n",
        "books.loc[books.ISBN == '2070426769','Book-Title'] = \"Peuple du ciel, suivi de 'Les Bergers\"\n",
        "\n",
        "\n",
        "books.loc[books.ISBN == '2070426769',:]"
      ]
    },
    {
      "cell_type": "code",
      "execution_count": 42,
      "metadata": {
        "colab": {
          "base_uri": "https://localhost:8080/"
        },
        "id": "KLadyjMKiL9h",
        "outputId": "64b1071c-7ab5-4397-924b-2c0384bdeb29"
      },
      "outputs": [
        {
          "output_type": "stream",
          "name": "stdout",
          "text": [
            "[0, 1376, 1378, 1806, 1897, 1900, 1901, 1902, 1904, 1906, 1908, 1909, 1910, 1911, 1914, 1917, 1919, 1920, 1921, 1922, 1923, 1924, 1925, 1926, 1927, 1928, 1929, 1930, 1931, 1932, 1933, 1934, 1935, 1936, 1937, 1938, 1939, 1940, 1941, 1942, 1943, 1944, 1945, 1946, 1947, 1948, 1949, 1950, 1951, 1952, 1953, 1954, 1955, 1956, 1957, 1958, 1959, 1960, 1961, 1962, 1963, 1964, 1965, 1966, 1967, 1968, 1969, 1970, 1971, 1972, 1973, 1974, 1975, 1976, 1977, 1978, 1979, 1980, 1981, 1982, 1983, 1984, 1985, 1986, 1987, 1988, 1989, 1990, 1991, 1992, 1993, 1994, 1995, 1996, 1997, 1998, 1999, 2000, 2001, 2002, 2003, 2004, 2005, 2006, 2008, 2010, 2011, 2012, 2020, 2021, 2024, 2026, 2030, 2037, 2038, 2050]\n"
          ]
        }
      ],
      "source": [
        "books['Year-Of-Publication']=pd.to_numeric(books['Year-Of-Publication'], errors='coerce')\n",
        "\n",
        "print(sorted(books['Year-Of-Publication'].unique()))\n",
        "#Now it can be seen that yearOfPublication has all values as integers"
      ]
    },
    {
      "cell_type": "markdown",
      "metadata": {
        "id": "X7iSYsOakxGW"
      },
      "source": [
        "The value 0 for Year-Of_Publication is invalid and as this dataset was published in 2004, We have assumed that the years after 2006 to be \n",
        "invalid and setting invalid years as NaN\n",
        "\n",
        "Reference of the fact: http://www2.informatik.uni-freiburg.de/~cziegler/BX/"
      ]
    },
    {
      "cell_type": "code",
      "execution_count": 43,
      "metadata": {
        "id": "9QyokEaflJ5O"
      },
      "outputs": [],
      "source": [
        "books.loc[(books['Year-Of-Publication'] > 2006) | (books['Year-Of-Publication'] == 0),'Year-Of-Publication'] = np.NAN\n",
        "\n",
        "#replacing NaNs with median value of Year-Of-Publication\n",
        "books['Year-Of-Publication'].fillna(round(books['Year-Of-Publication'].median()), inplace=True)"
      ]
    },
    {
      "cell_type": "code",
      "execution_count": 44,
      "metadata": {
        "id": "osjQapzRlyB1"
      },
      "outputs": [],
      "source": [
        "#dropping last three columns containing image URLs which will not be required for analysis\n",
        "books.drop(['Image-URL-S', 'Image-URL-M', 'Image-URL-L'],axis=1,inplace=True)"
      ]
    },
    {
      "cell_type": "code",
      "execution_count": 45,
      "metadata": {
        "colab": {
          "base_uri": "https://localhost:8080/"
        },
        "id": "TfLifixPlx_D",
        "outputId": "1a64d384-cd69-440a-951d-9ddc9fc08347"
      },
      "outputs": [
        {
          "output_type": "execute_result",
          "data": {
            "text/plain": [
              "ISBN                   0\n",
              "Book-Title             0\n",
              "Book-Author            1\n",
              "Year-Of-Publication    0\n",
              "Publisher              2\n",
              "dtype: int64"
            ]
          },
          "metadata": {},
          "execution_count": 45
        }
      ],
      "source": [
        "#checking nulls\n",
        "books.isna().sum()"
      ]
    },
    {
      "cell_type": "code",
      "execution_count": 46,
      "metadata": {
        "colab": {
          "base_uri": "https://localhost:8080/",
          "height": 112
        },
        "id": "qb_ZEgE5lx8y",
        "outputId": "8b631837-11e3-4c20-aa0a-189ac703c185"
      },
      "outputs": [
        {
          "output_type": "execute_result",
          "data": {
            "text/plain": [
              "              ISBN       Book-Title      Book-Author  Year-Of-Publication  \\\n",
              "128890  193169656X      Tyrant Moon  Elaine Corvidae               2002.0   \n",
              "129037  1931696993  Finders Keepers  Linnea Sinclair               2001.0   \n",
              "\n",
              "       Publisher  \n",
              "128890       NaN  \n",
              "129037       NaN  "
            ],
            "text/html": [
              "\n",
              "  <div id=\"df-f30b7e5b-61ce-4173-b8fa-ab56bd080eee\">\n",
              "    <div class=\"colab-df-container\">\n",
              "      <div>\n",
              "<style scoped>\n",
              "    .dataframe tbody tr th:only-of-type {\n",
              "        vertical-align: middle;\n",
              "    }\n",
              "\n",
              "    .dataframe tbody tr th {\n",
              "        vertical-align: top;\n",
              "    }\n",
              "\n",
              "    .dataframe thead th {\n",
              "        text-align: right;\n",
              "    }\n",
              "</style>\n",
              "<table border=\"1\" class=\"dataframe\">\n",
              "  <thead>\n",
              "    <tr style=\"text-align: right;\">\n",
              "      <th></th>\n",
              "      <th>ISBN</th>\n",
              "      <th>Book-Title</th>\n",
              "      <th>Book-Author</th>\n",
              "      <th>Year-Of-Publication</th>\n",
              "      <th>Publisher</th>\n",
              "    </tr>\n",
              "  </thead>\n",
              "  <tbody>\n",
              "    <tr>\n",
              "      <th>128890</th>\n",
              "      <td>193169656X</td>\n",
              "      <td>Tyrant Moon</td>\n",
              "      <td>Elaine Corvidae</td>\n",
              "      <td>2002.0</td>\n",
              "      <td>NaN</td>\n",
              "    </tr>\n",
              "    <tr>\n",
              "      <th>129037</th>\n",
              "      <td>1931696993</td>\n",
              "      <td>Finders Keepers</td>\n",
              "      <td>Linnea Sinclair</td>\n",
              "      <td>2001.0</td>\n",
              "      <td>NaN</td>\n",
              "    </tr>\n",
              "  </tbody>\n",
              "</table>\n",
              "</div>\n",
              "      <button class=\"colab-df-convert\" onclick=\"convertToInteractive('df-f30b7e5b-61ce-4173-b8fa-ab56bd080eee')\"\n",
              "              title=\"Convert this dataframe to an interactive table.\"\n",
              "              style=\"display:none;\">\n",
              "        \n",
              "  <svg xmlns=\"http://www.w3.org/2000/svg\" height=\"24px\"viewBox=\"0 0 24 24\"\n",
              "       width=\"24px\">\n",
              "    <path d=\"M0 0h24v24H0V0z\" fill=\"none\"/>\n",
              "    <path d=\"M18.56 5.44l.94 2.06.94-2.06 2.06-.94-2.06-.94-.94-2.06-.94 2.06-2.06.94zm-11 1L8.5 8.5l.94-2.06 2.06-.94-2.06-.94L8.5 2.5l-.94 2.06-2.06.94zm10 10l.94 2.06.94-2.06 2.06-.94-2.06-.94-.94-2.06-.94 2.06-2.06.94z\"/><path d=\"M17.41 7.96l-1.37-1.37c-.4-.4-.92-.59-1.43-.59-.52 0-1.04.2-1.43.59L10.3 9.45l-7.72 7.72c-.78.78-.78 2.05 0 2.83L4 21.41c.39.39.9.59 1.41.59.51 0 1.02-.2 1.41-.59l7.78-7.78 2.81-2.81c.8-.78.8-2.07 0-2.86zM5.41 20L4 18.59l7.72-7.72 1.47 1.35L5.41 20z\"/>\n",
              "  </svg>\n",
              "      </button>\n",
              "      \n",
              "  <style>\n",
              "    .colab-df-container {\n",
              "      display:flex;\n",
              "      flex-wrap:wrap;\n",
              "      gap: 12px;\n",
              "    }\n",
              "\n",
              "    .colab-df-convert {\n",
              "      background-color: #E8F0FE;\n",
              "      border: none;\n",
              "      border-radius: 50%;\n",
              "      cursor: pointer;\n",
              "      display: none;\n",
              "      fill: #1967D2;\n",
              "      height: 32px;\n",
              "      padding: 0 0 0 0;\n",
              "      width: 32px;\n",
              "    }\n",
              "\n",
              "    .colab-df-convert:hover {\n",
              "      background-color: #E2EBFA;\n",
              "      box-shadow: 0px 1px 2px rgba(60, 64, 67, 0.3), 0px 1px 3px 1px rgba(60, 64, 67, 0.15);\n",
              "      fill: #174EA6;\n",
              "    }\n",
              "\n",
              "    [theme=dark] .colab-df-convert {\n",
              "      background-color: #3B4455;\n",
              "      fill: #D2E3FC;\n",
              "    }\n",
              "\n",
              "    [theme=dark] .colab-df-convert:hover {\n",
              "      background-color: #434B5C;\n",
              "      box-shadow: 0px 1px 3px 1px rgba(0, 0, 0, 0.15);\n",
              "      filter: drop-shadow(0px 1px 2px rgba(0, 0, 0, 0.3));\n",
              "      fill: #FFFFFF;\n",
              "    }\n",
              "  </style>\n",
              "\n",
              "      <script>\n",
              "        const buttonEl =\n",
              "          document.querySelector('#df-f30b7e5b-61ce-4173-b8fa-ab56bd080eee button.colab-df-convert');\n",
              "        buttonEl.style.display =\n",
              "          google.colab.kernel.accessAllowed ? 'block' : 'none';\n",
              "\n",
              "        async function convertToInteractive(key) {\n",
              "          const element = document.querySelector('#df-f30b7e5b-61ce-4173-b8fa-ab56bd080eee');\n",
              "          const dataTable =\n",
              "            await google.colab.kernel.invokeFunction('convertToInteractive',\n",
              "                                                     [key], {});\n",
              "          if (!dataTable) return;\n",
              "\n",
              "          const docLinkHtml = 'Like what you see? Visit the ' +\n",
              "            '<a target=\"_blank\" href=https://colab.research.google.com/notebooks/data_table.ipynb>data table notebook</a>'\n",
              "            + ' to learn more about interactive tables.';\n",
              "          element.innerHTML = '';\n",
              "          dataTable['output_type'] = 'display_data';\n",
              "          await google.colab.output.renderOutput(dataTable, element);\n",
              "          const docLink = document.createElement('div');\n",
              "          docLink.innerHTML = docLinkHtml;\n",
              "          element.appendChild(docLink);\n",
              "        }\n",
              "      </script>\n",
              "    </div>\n",
              "  </div>\n",
              "  "
            ]
          },
          "metadata": {},
          "execution_count": 46
        }
      ],
      "source": [
        "#exploring null in publisher column\n",
        "books.loc[books.Publisher.isnull(),:]"
      ]
    },
    {
      "cell_type": "code",
      "execution_count": 47,
      "metadata": {
        "id": "9QzBOqE3lx6J"
      },
      "outputs": [],
      "source": [
        "#Filling Nan of Publisher with others\n",
        "books.Publisher.fillna('other',inplace=True)"
      ]
    },
    {
      "cell_type": "code",
      "execution_count": 48,
      "metadata": {
        "colab": {
          "base_uri": "https://localhost:8080/",
          "height": 81
        },
        "id": "mgpSdzD_lx2T",
        "outputId": "63e6ed5f-ccf4-4eaa-9842-b209ce2041da"
      },
      "outputs": [
        {
          "output_type": "execute_result",
          "data": {
            "text/plain": [
              "              ISBN                                         Book-Title  \\\n",
              "187689  9627982032  The Credit Suisse Guide to Managing Your Perso...   \n",
              "\n",
              "       Book-Author  Year-Of-Publication                       Publisher  \n",
              "187689         NaN               1995.0  Edinburgh Financial Publishing  "
            ],
            "text/html": [
              "\n",
              "  <div id=\"df-8c34ced9-711a-4593-8e73-59ac2e2cfd41\">\n",
              "    <div class=\"colab-df-container\">\n",
              "      <div>\n",
              "<style scoped>\n",
              "    .dataframe tbody tr th:only-of-type {\n",
              "        vertical-align: middle;\n",
              "    }\n",
              "\n",
              "    .dataframe tbody tr th {\n",
              "        vertical-align: top;\n",
              "    }\n",
              "\n",
              "    .dataframe thead th {\n",
              "        text-align: right;\n",
              "    }\n",
              "</style>\n",
              "<table border=\"1\" class=\"dataframe\">\n",
              "  <thead>\n",
              "    <tr style=\"text-align: right;\">\n",
              "      <th></th>\n",
              "      <th>ISBN</th>\n",
              "      <th>Book-Title</th>\n",
              "      <th>Book-Author</th>\n",
              "      <th>Year-Of-Publication</th>\n",
              "      <th>Publisher</th>\n",
              "    </tr>\n",
              "  </thead>\n",
              "  <tbody>\n",
              "    <tr>\n",
              "      <th>187689</th>\n",
              "      <td>9627982032</td>\n",
              "      <td>The Credit Suisse Guide to Managing Your Perso...</td>\n",
              "      <td>NaN</td>\n",
              "      <td>1995.0</td>\n",
              "      <td>Edinburgh Financial Publishing</td>\n",
              "    </tr>\n",
              "  </tbody>\n",
              "</table>\n",
              "</div>\n",
              "      <button class=\"colab-df-convert\" onclick=\"convertToInteractive('df-8c34ced9-711a-4593-8e73-59ac2e2cfd41')\"\n",
              "              title=\"Convert this dataframe to an interactive table.\"\n",
              "              style=\"display:none;\">\n",
              "        \n",
              "  <svg xmlns=\"http://www.w3.org/2000/svg\" height=\"24px\"viewBox=\"0 0 24 24\"\n",
              "       width=\"24px\">\n",
              "    <path d=\"M0 0h24v24H0V0z\" fill=\"none\"/>\n",
              "    <path d=\"M18.56 5.44l.94 2.06.94-2.06 2.06-.94-2.06-.94-.94-2.06-.94 2.06-2.06.94zm-11 1L8.5 8.5l.94-2.06 2.06-.94-2.06-.94L8.5 2.5l-.94 2.06-2.06.94zm10 10l.94 2.06.94-2.06 2.06-.94-2.06-.94-.94-2.06-.94 2.06-2.06.94z\"/><path d=\"M17.41 7.96l-1.37-1.37c-.4-.4-.92-.59-1.43-.59-.52 0-1.04.2-1.43.59L10.3 9.45l-7.72 7.72c-.78.78-.78 2.05 0 2.83L4 21.41c.39.39.9.59 1.41.59.51 0 1.02-.2 1.41-.59l7.78-7.78 2.81-2.81c.8-.78.8-2.07 0-2.86zM5.41 20L4 18.59l7.72-7.72 1.47 1.35L5.41 20z\"/>\n",
              "  </svg>\n",
              "      </button>\n",
              "      \n",
              "  <style>\n",
              "    .colab-df-container {\n",
              "      display:flex;\n",
              "      flex-wrap:wrap;\n",
              "      gap: 12px;\n",
              "    }\n",
              "\n",
              "    .colab-df-convert {\n",
              "      background-color: #E8F0FE;\n",
              "      border: none;\n",
              "      border-radius: 50%;\n",
              "      cursor: pointer;\n",
              "      display: none;\n",
              "      fill: #1967D2;\n",
              "      height: 32px;\n",
              "      padding: 0 0 0 0;\n",
              "      width: 32px;\n",
              "    }\n",
              "\n",
              "    .colab-df-convert:hover {\n",
              "      background-color: #E2EBFA;\n",
              "      box-shadow: 0px 1px 2px rgba(60, 64, 67, 0.3), 0px 1px 3px 1px rgba(60, 64, 67, 0.15);\n",
              "      fill: #174EA6;\n",
              "    }\n",
              "\n",
              "    [theme=dark] .colab-df-convert {\n",
              "      background-color: #3B4455;\n",
              "      fill: #D2E3FC;\n",
              "    }\n",
              "\n",
              "    [theme=dark] .colab-df-convert:hover {\n",
              "      background-color: #434B5C;\n",
              "      box-shadow: 0px 1px 3px 1px rgba(0, 0, 0, 0.15);\n",
              "      filter: drop-shadow(0px 1px 2px rgba(0, 0, 0, 0.3));\n",
              "      fill: #FFFFFF;\n",
              "    }\n",
              "  </style>\n",
              "\n",
              "      <script>\n",
              "        const buttonEl =\n",
              "          document.querySelector('#df-8c34ced9-711a-4593-8e73-59ac2e2cfd41 button.colab-df-convert');\n",
              "        buttonEl.style.display =\n",
              "          google.colab.kernel.accessAllowed ? 'block' : 'none';\n",
              "\n",
              "        async function convertToInteractive(key) {\n",
              "          const element = document.querySelector('#df-8c34ced9-711a-4593-8e73-59ac2e2cfd41');\n",
              "          const dataTable =\n",
              "            await google.colab.kernel.invokeFunction('convertToInteractive',\n",
              "                                                     [key], {});\n",
              "          if (!dataTable) return;\n",
              "\n",
              "          const docLinkHtml = 'Like what you see? Visit the ' +\n",
              "            '<a target=\"_blank\" href=https://colab.research.google.com/notebooks/data_table.ipynb>data table notebook</a>'\n",
              "            + ' to learn more about interactive tables.';\n",
              "          element.innerHTML = '';\n",
              "          dataTable['output_type'] = 'display_data';\n",
              "          await google.colab.output.renderOutput(dataTable, element);\n",
              "          const docLink = document.createElement('div');\n",
              "          docLink.innerHTML = docLinkHtml;\n",
              "          element.appendChild(docLink);\n",
              "        }\n",
              "      </script>\n",
              "    </div>\n",
              "  </div>\n",
              "  "
            ]
          },
          "metadata": {},
          "execution_count": 48
        }
      ],
      "source": [
        "#exploring 'Book-Author' column\n",
        "books.loc[books['Book-Author'].isnull(),:]"
      ]
    },
    {
      "cell_type": "code",
      "execution_count": 49,
      "metadata": {
        "id": "vkecS4zmlxw5"
      },
      "outputs": [],
      "source": [
        "#Filling Nan of Book-Author with others\n",
        "books['Book-Author'].fillna('other',inplace=True)"
      ]
    },
    {
      "cell_type": "code",
      "execution_count": 50,
      "metadata": {
        "colab": {
          "base_uri": "https://localhost:8080/"
        },
        "id": "c11vvozulxtn",
        "outputId": "15970169-f932-43a5-b00c-b6d0df97bdab"
      },
      "outputs": [
        {
          "output_type": "execute_result",
          "data": {
            "text/plain": [
              "ISBN                   0\n",
              "Book-Title             0\n",
              "Book-Author            0\n",
              "Year-Of-Publication    0\n",
              "Publisher              0\n",
              "dtype: int64"
            ]
          },
          "metadata": {},
          "execution_count": 50
        }
      ],
      "source": [
        "#checking nulls of book\n",
        "books.isna().sum()"
      ]
    },
    {
      "cell_type": "markdown",
      "metadata": {
        "id": "ytU_9Zf5EFVu"
      },
      "source": [
        "##**3- Ratings_Dataset**"
      ]
    },
    {
      "cell_type": "code",
      "execution_count": 51,
      "metadata": {
        "colab": {
          "base_uri": "https://localhost:8080/",
          "height": 112
        },
        "id": "WoMdnzySEXIn",
        "outputId": "276e9788-81ab-4585-d72c-43f8a9231c82"
      },
      "outputs": [
        {
          "output_type": "execute_result",
          "data": {
            "text/plain": [
              "   User-ID        ISBN  Book-Rating\n",
              "0   276725  034545104X            0\n",
              "1   276726  0155061224            5"
            ],
            "text/html": [
              "\n",
              "  <div id=\"df-7086eba4-7650-48db-b31e-0989a8fbfd76\">\n",
              "    <div class=\"colab-df-container\">\n",
              "      <div>\n",
              "<style scoped>\n",
              "    .dataframe tbody tr th:only-of-type {\n",
              "        vertical-align: middle;\n",
              "    }\n",
              "\n",
              "    .dataframe tbody tr th {\n",
              "        vertical-align: top;\n",
              "    }\n",
              "\n",
              "    .dataframe thead th {\n",
              "        text-align: right;\n",
              "    }\n",
              "</style>\n",
              "<table border=\"1\" class=\"dataframe\">\n",
              "  <thead>\n",
              "    <tr style=\"text-align: right;\">\n",
              "      <th></th>\n",
              "      <th>User-ID</th>\n",
              "      <th>ISBN</th>\n",
              "      <th>Book-Rating</th>\n",
              "    </tr>\n",
              "  </thead>\n",
              "  <tbody>\n",
              "    <tr>\n",
              "      <th>0</th>\n",
              "      <td>276725</td>\n",
              "      <td>034545104X</td>\n",
              "      <td>0</td>\n",
              "    </tr>\n",
              "    <tr>\n",
              "      <th>1</th>\n",
              "      <td>276726</td>\n",
              "      <td>0155061224</td>\n",
              "      <td>5</td>\n",
              "    </tr>\n",
              "  </tbody>\n",
              "</table>\n",
              "</div>\n",
              "      <button class=\"colab-df-convert\" onclick=\"convertToInteractive('df-7086eba4-7650-48db-b31e-0989a8fbfd76')\"\n",
              "              title=\"Convert this dataframe to an interactive table.\"\n",
              "              style=\"display:none;\">\n",
              "        \n",
              "  <svg xmlns=\"http://www.w3.org/2000/svg\" height=\"24px\"viewBox=\"0 0 24 24\"\n",
              "       width=\"24px\">\n",
              "    <path d=\"M0 0h24v24H0V0z\" fill=\"none\"/>\n",
              "    <path d=\"M18.56 5.44l.94 2.06.94-2.06 2.06-.94-2.06-.94-.94-2.06-.94 2.06-2.06.94zm-11 1L8.5 8.5l.94-2.06 2.06-.94-2.06-.94L8.5 2.5l-.94 2.06-2.06.94zm10 10l.94 2.06.94-2.06 2.06-.94-2.06-.94-.94-2.06-.94 2.06-2.06.94z\"/><path d=\"M17.41 7.96l-1.37-1.37c-.4-.4-.92-.59-1.43-.59-.52 0-1.04.2-1.43.59L10.3 9.45l-7.72 7.72c-.78.78-.78 2.05 0 2.83L4 21.41c.39.39.9.59 1.41.59.51 0 1.02-.2 1.41-.59l7.78-7.78 2.81-2.81c.8-.78.8-2.07 0-2.86zM5.41 20L4 18.59l7.72-7.72 1.47 1.35L5.41 20z\"/>\n",
              "  </svg>\n",
              "      </button>\n",
              "      \n",
              "  <style>\n",
              "    .colab-df-container {\n",
              "      display:flex;\n",
              "      flex-wrap:wrap;\n",
              "      gap: 12px;\n",
              "    }\n",
              "\n",
              "    .colab-df-convert {\n",
              "      background-color: #E8F0FE;\n",
              "      border: none;\n",
              "      border-radius: 50%;\n",
              "      cursor: pointer;\n",
              "      display: none;\n",
              "      fill: #1967D2;\n",
              "      height: 32px;\n",
              "      padding: 0 0 0 0;\n",
              "      width: 32px;\n",
              "    }\n",
              "\n",
              "    .colab-df-convert:hover {\n",
              "      background-color: #E2EBFA;\n",
              "      box-shadow: 0px 1px 2px rgba(60, 64, 67, 0.3), 0px 1px 3px 1px rgba(60, 64, 67, 0.15);\n",
              "      fill: #174EA6;\n",
              "    }\n",
              "\n",
              "    [theme=dark] .colab-df-convert {\n",
              "      background-color: #3B4455;\n",
              "      fill: #D2E3FC;\n",
              "    }\n",
              "\n",
              "    [theme=dark] .colab-df-convert:hover {\n",
              "      background-color: #434B5C;\n",
              "      box-shadow: 0px 1px 3px 1px rgba(0, 0, 0, 0.15);\n",
              "      filter: drop-shadow(0px 1px 2px rgba(0, 0, 0, 0.3));\n",
              "      fill: #FFFFFF;\n",
              "    }\n",
              "  </style>\n",
              "\n",
              "      <script>\n",
              "        const buttonEl =\n",
              "          document.querySelector('#df-7086eba4-7650-48db-b31e-0989a8fbfd76 button.colab-df-convert');\n",
              "        buttonEl.style.display =\n",
              "          google.colab.kernel.accessAllowed ? 'block' : 'none';\n",
              "\n",
              "        async function convertToInteractive(key) {\n",
              "          const element = document.querySelector('#df-7086eba4-7650-48db-b31e-0989a8fbfd76');\n",
              "          const dataTable =\n",
              "            await google.colab.kernel.invokeFunction('convertToInteractive',\n",
              "                                                     [key], {});\n",
              "          if (!dataTable) return;\n",
              "\n",
              "          const docLinkHtml = 'Like what you see? Visit the ' +\n",
              "            '<a target=\"_blank\" href=https://colab.research.google.com/notebooks/data_table.ipynb>data table notebook</a>'\n",
              "            + ' to learn more about interactive tables.';\n",
              "          element.innerHTML = '';\n",
              "          dataTable['output_type'] = 'display_data';\n",
              "          await google.colab.output.renderOutput(dataTable, element);\n",
              "          const docLink = document.createElement('div');\n",
              "          docLink.innerHTML = docLinkHtml;\n",
              "          element.appendChild(docLink);\n",
              "        }\n",
              "      </script>\n",
              "    </div>\n",
              "  </div>\n",
              "  "
            ]
          },
          "metadata": {},
          "execution_count": 51
        }
      ],
      "source": [
        "ratings.head(2)"
      ]
    },
    {
      "cell_type": "markdown",
      "metadata": {
        "id": "4MNNf5WDGCRg"
      },
      "source": [
        "Ratings dataset should have books only which exist in our books dataset."
      ]
    },
    {
      "cell_type": "code",
      "execution_count": 52,
      "metadata": {
        "colab": {
          "base_uri": "https://localhost:8080/"
        },
        "id": "zMoyBujZF2T6",
        "outputId": "e233f1c2-ad01-4981-cb55-3a3da1a6f144"
      },
      "outputs": [
        {
          "output_type": "execute_result",
          "data": {
            "text/plain": [
              "((1149780, 3), (1031136, 3))"
            ]
          },
          "metadata": {},
          "execution_count": 52
        }
      ],
      "source": [
        "ratings_new = ratings[ratings.ISBN.isin(books.ISBN)]\n",
        "ratings.shape,ratings_new.shape"
      ]
    },
    {
      "cell_type": "markdown",
      "metadata": {
        "id": "nVTmV38zGQDI"
      },
      "source": [
        "It can be seen that many rows having book ISBN not part of books dataset got dropped off"
      ]
    },
    {
      "cell_type": "markdown",
      "metadata": {
        "id": "anC0KA07GXtN"
      },
      "source": [
        "Ratings dataset should have ratings from users which exist in users dataset."
      ]
    },
    {
      "cell_type": "code",
      "execution_count": 53,
      "metadata": {
        "colab": {
          "base_uri": "https://localhost:8080/"
        },
        "id": "7EQiTZnuF2RM",
        "outputId": "dcb858b0-feb8-4927-ae01-d717e965a54d"
      },
      "outputs": [
        {
          "output_type": "stream",
          "name": "stdout",
          "text": [
            "Shape of dataset before dropping (1031136, 3)\n",
            "shape of dataset after dropping (1031136, 3)\n"
          ]
        }
      ],
      "source": [
        "print(\"Shape of dataset before dropping\",ratings_new.shape)\n",
        "ratings_new = ratings_new[ratings_new['User-ID'].isin(users['User-ID'])]\n",
        "print(\"shape of dataset after dropping\",ratings_new.shape)"
      ]
    },
    {
      "cell_type": "markdown",
      "metadata": {
        "id": "94ou5dtuHcaC"
      },
      "source": [
        "we can clearly saw that no new user was there in ratings dataset."
      ]
    },
    {
      "cell_type": "markdown",
      "metadata": {
        "id": "FKakd-v2OCQ2"
      },
      "source": [
        "Let's see how the ratings are distributed"
      ]
    },
    {
      "cell_type": "code",
      "execution_count": 54,
      "metadata": {
        "colab": {
          "base_uri": "https://localhost:8080/",
          "height": 334
        },
        "id": "5pWV7Qt_7NnY",
        "outputId": "87f8d97d-a34e-42b8-a5ea-5ad1f195ebe7"
      },
      "outputs": [
        {
          "output_type": "display_data",
          "data": {
            "text/plain": [
              "<Figure size 432x288 with 1 Axes>"
            ],
            "image/png": "[encoded data removed]"
          },
          "metadata": {
            "needs_background": "light"
          }
        }
      ],
      "source": [
        "#Bar plot for rating distribution\n",
        "plt.rc(\"font\", size=15)\n",
        "ratings_new['Book-Rating'].value_counts(sort=False).plot(kind='bar')\n",
        "plt.title('Rating Distribution\\n')\n",
        "plt.xlabel('Rating')\n",
        "plt.ylabel('Count')\n",
        "plt.show()"
      ]
    },
    {
      "cell_type": "markdown",
      "metadata": {
        "id": "kwiQ3ffuOsaK"
      },
      "source": [
        "As we can see from this above plot The ratings are very unevenly distributed, and the vast majority of ratings are 0 .As quoted in the description of the dataset - BX-Book-Ratings contains the book rating information. Ratings are either explicit, expressed on a scale from 1-10 higher values denoting higher appreciation, or implicit, expressed by 0.Hence segragating implicit and explict ratings datasets."
      ]
    },
    {
      "cell_type": "code",
      "execution_count": 55,
      "metadata": {
        "id": "SFmSfkTkH13T"
      },
      "outputs": [],
      "source": [
        "#Hence segragating implicit and explict ratings datasets\n",
        "ratings_explicit = ratings_new[ratings_new['Book-Rating'] != 0]\n",
        "ratings_implicit = ratings_new[ratings_new['Book-Rating'] == 0]"
      ]
    },
    {
      "cell_type": "code",
      "execution_count": 56,
      "metadata": {
        "colab": {
          "base_uri": "https://localhost:8080/"
        },
        "id": "8M0OmJbOIG-K",
        "outputId": "c97aa18a-90d3-4922-b4dd-1d37fa904d5f"
      },
      "outputs": [
        {
          "output_type": "stream",
          "name": "stdout",
          "text": [
            "ratings_explicit dataset shape (383842, 3)\n",
            "ratings_implicit dataset (647294, 3)\n"
          ]
        }
      ],
      "source": [
        "print('ratings_explicit dataset shape',ratings_explicit.shape)\n",
        "print('ratings_implicit dataset',ratings_implicit.shape)"
      ]
    },
    {
      "cell_type": "code",
      "execution_count": 57,
      "metadata": {
        "colab": {
          "base_uri": "https://localhost:8080/",
          "height": 554
        },
        "id": "JxKBrL2IIB4Z",
        "outputId": "1109da9f-d82b-4df5-f293-a189d8dd192e"
      },
      "outputs": [
        {
          "output_type": "execute_result",
          "data": {
            "text/plain": [
              "<matplotlib.axes._subplots.AxesSubplot at 0x7fb6b2249690>"
            ]
          },
          "metadata": {},
          "execution_count": 57
        },
        {
          "output_type": "display_data",
          "data": {
            "text/plain": [
              "<Figure size 864x576 with 1 Axes>"
            ],
            "image/png": "[encoded data removed]"
          },
          "metadata": {}
        }
      ],
      "source": [
        "#countplot for explicit ratings\n",
        "plt.style.use('fivethirtyeight')\n",
        "plt.figure(figsize=(12, 8))\n",
        "sns.countplot(data=ratings_explicit , x='Book-Rating', palette='rocket_r')"
      ]
    },
    {
      "cell_type": "markdown",
      "metadata": {
        "id": "PymNn2_aIklF"
      },
      "source": [
        "we can observe that higher ratings are more often amongst users and rating 8 has been rated highest number of times.\n"
      ]
    },
    {
      "cell_type": "code",
      "execution_count": 58,
      "metadata": {
        "id": "oddq5J1BPr_0"
      },
      "outputs": [],
      "source": [
        "# Create column Rating average \n",
        "ratings_explicit['Avg_Rating']=ratings_explicit.groupby('ISBN')['Book-Rating'].transform('mean')\n",
        "# Create column Rating sum\n",
        "ratings_explicit['Total_No_Of_Users_Rated']=ratings_explicit.groupby('ISBN')['Book-Rating'].transform('count')"
      ]
    },
    {
      "cell_type": "code",
      "execution_count": 59,
      "metadata": {
        "colab": {
          "base_uri": "https://localhost:8080/"
        },
        "id": "zezxTXUTOW56",
        "outputId": "1686779b-2511-4225-ed0e-20e6a4503e14"
      },
      "outputs": [
        {
          "output_type": "execute_result",
          "data": {
            "text/plain": [
              "(383842, 5)"
            ]
          },
          "metadata": {},
          "execution_count": 59
        }
      ],
      "source": [
        "ratings_explicit.shape"
      ]
    },
    {
      "cell_type": "code",
      "execution_count": 60,
      "metadata": {
        "colab": {
          "base_uri": "https://localhost:8080/",
          "height": 206
        },
        "id": "S9M5T3_sVHm9",
        "outputId": "b7c8a345-0ebb-45a5-904f-ccb83809b3cb"
      },
      "outputs": [
        {
          "output_type": "execute_result",
          "data": {
            "text/plain": [
              "    User-ID        ISBN  Book-Rating  Avg_Rating  Total_No_Of_Users_Rated\n",
              "1    276726  0155061224            5    5.000000                        1\n",
              "3    276729  052165615X            3    3.000000                        1\n",
              "4    276729  0521795028            6    6.000000                        1\n",
              "8    276744  038550120X            7    7.580247                       81\n",
              "16   276747  0060517794            9    8.000000                       30"
            ],
            "text/html": [
              "\n",
              "  <div id=\"df-a21eccb1-647b-497f-8ad7-18351238afa1\">\n",
              "    <div class=\"colab-df-container\">\n",
              "      <div>\n",
              "<style scoped>\n",
              "    .dataframe tbody tr th:only-of-type {\n",
              "        vertical-align: middle;\n",
              "    }\n",
              "\n",
              "    .dataframe tbody tr th {\n",
              "        vertical-align: top;\n",
              "    }\n",
              "\n",
              "    .dataframe thead th {\n",
              "        text-align: right;\n",
              "    }\n",
              "</style>\n",
              "<table border=\"1\" class=\"dataframe\">\n",
              "  <thead>\n",
              "    <tr style=\"text-align: right;\">\n",
              "      <th></th>\n",
              "      <th>User-ID</th>\n",
              "      <th>ISBN</th>\n",
              "      <th>Book-Rating</th>\n",
              "      <th>Avg_Rating</th>\n",
              "      <th>Total_No_Of_Users_Rated</th>\n",
              "    </tr>\n",
              "  </thead>\n",
              "  <tbody>\n",
              "    <tr>\n",
              "      <th>1</th>\n",
              "      <td>276726</td>\n",
              "      <td>0155061224</td>\n",
              "      <td>5</td>\n",
              "      <td>5.000000</td>\n",
              "      <td>1</td>\n",
              "    </tr>\n",
              "    <tr>\n",
              "      <th>3</th>\n",
              "      <td>276729</td>\n",
              "      <td>052165615X</td>\n",
              "      <td>3</td>\n",
              "      <td>3.000000</td>\n",
              "      <td>1</td>\n",
              "    </tr>\n",
              "    <tr>\n",
              "      <th>4</th>\n",
              "      <td>276729</td>\n",
              "      <td>0521795028</td>\n",
              "      <td>6</td>\n",
              "      <td>6.000000</td>\n",
              "      <td>1</td>\n",
              "    </tr>\n",
              "    <tr>\n",
              "      <th>8</th>\n",
              "      <td>276744</td>\n",
              "      <td>038550120X</td>\n",
              "      <td>7</td>\n",
              "      <td>7.580247</td>\n",
              "      <td>81</td>\n",
              "    </tr>\n",
              "    <tr>\n",
              "      <th>16</th>\n",
              "      <td>276747</td>\n",
              "      <td>0060517794</td>\n",
              "      <td>9</td>\n",
              "      <td>8.000000</td>\n",
              "      <td>30</td>\n",
              "    </tr>\n",
              "  </tbody>\n",
              "</table>\n",
              "</div>\n",
              "      <button class=\"colab-df-convert\" onclick=\"convertToInteractive('df-a21eccb1-647b-497f-8ad7-18351238afa1')\"\n",
              "              title=\"Convert this dataframe to an interactive table.\"\n",
              "              style=\"display:none;\">\n",
              "        \n",
              "  <svg xmlns=\"http://www.w3.org/2000/svg\" height=\"24px\"viewBox=\"0 0 24 24\"\n",
              "       width=\"24px\">\n",
              "    <path d=\"M0 0h24v24H0V0z\" fill=\"none\"/>\n",
              "    <path d=\"M18.56 5.44l.94 2.06.94-2.06 2.06-.94-2.06-.94-.94-2.06-.94 2.06-2.06.94zm-11 1L8.5 8.5l.94-2.06 2.06-.94-2.06-.94L8.5 2.5l-.94 2.06-2.06.94zm10 10l.94 2.06.94-2.06 2.06-.94-2.06-.94-.94-2.06-.94 2.06-2.06.94z\"/><path d=\"M17.41 7.96l-1.37-1.37c-.4-.4-.92-.59-1.43-.59-.52 0-1.04.2-1.43.59L10.3 9.45l-7.72 7.72c-.78.78-.78 2.05 0 2.83L4 21.41c.39.39.9.59 1.41.59.51 0 1.02-.2 1.41-.59l7.78-7.78 2.81-2.81c.8-.78.8-2.07 0-2.86zM5.41 20L4 18.59l7.72-7.72 1.47 1.35L5.41 20z\"/>\n",
              "  </svg>\n",
              "      </button>\n",
              "      \n",
              "  <style>\n",
              "    .colab-df-container {\n",
              "      display:flex;\n",
              "      flex-wrap:wrap;\n",
              "      gap: 12px;\n",
              "    }\n",
              "\n",
              "    .colab-df-convert {\n",
              "      background-color: #E8F0FE;\n",
              "      border: none;\n",
              "      border-radius: 50%;\n",
              "      cursor: pointer;\n",
              "      display: none;\n",
              "      fill: #1967D2;\n",
              "      height: 32px;\n",
              "      padding: 0 0 0 0;\n",
              "      width: 32px;\n",
              "    }\n",
              "\n",
              "    .colab-df-convert:hover {\n",
              "      background-color: #E2EBFA;\n",
              "      box-shadow: 0px 1px 2px rgba(60, 64, 67, 0.3), 0px 1px 3px 1px rgba(60, 64, 67, 0.15);\n",
              "      fill: #174EA6;\n",
              "    }\n",
              "\n",
              "    [theme=dark] .colab-df-convert {\n",
              "      background-color: #3B4455;\n",
              "      fill: #D2E3FC;\n",
              "    }\n",
              "\n",
              "    [theme=dark] .colab-df-convert:hover {\n",
              "      background-color: #434B5C;\n",
              "      box-shadow: 0px 1px 3px 1px rgba(0, 0, 0, 0.15);\n",
              "      filter: drop-shadow(0px 1px 2px rgba(0, 0, 0, 0.3));\n",
              "      fill: #FFFFFF;\n",
              "    }\n",
              "  </style>\n",
              "\n",
              "      <script>\n",
              "        const buttonEl =\n",
              "          document.querySelector('#df-a21eccb1-647b-497f-8ad7-18351238afa1 button.colab-df-convert');\n",
              "        buttonEl.style.display =\n",
              "          google.colab.kernel.accessAllowed ? 'block' : 'none';\n",
              "\n",
              "        async function convertToInteractive(key) {\n",
              "          const element = document.querySelector('#df-a21eccb1-647b-497f-8ad7-18351238afa1');\n",
              "          const dataTable =\n",
              "            await google.colab.kernel.invokeFunction('convertToInteractive',\n",
              "                                                     [key], {});\n",
              "          if (!dataTable) return;\n",
              "\n",
              "          const docLinkHtml = 'Like what you see? Visit the ' +\n",
              "            '<a target=\"_blank\" href=https://colab.research.google.com/notebooks/data_table.ipynb>data table notebook</a>'\n",
              "            + ' to learn more about interactive tables.';\n",
              "          element.innerHTML = '';\n",
              "          dataTable['output_type'] = 'display_data';\n",
              "          await google.colab.output.renderOutput(dataTable, element);\n",
              "          const docLink = document.createElement('div');\n",
              "          docLink.innerHTML = docLinkHtml;\n",
              "          element.appendChild(docLink);\n",
              "        }\n",
              "      </script>\n",
              "    </div>\n",
              "  </div>\n",
              "  "
            ]
          },
          "metadata": {},
          "execution_count": 60
        }
      ],
      "source": [
        "ratings_explicit.head()"
      ]
    },
    {
      "cell_type": "markdown",
      "metadata": {
        "id": "CUiTUHu02X92"
      },
      "source": [
        "\n",
        "##**Merging All Dataset**"
      ]
    },
    {
      "cell_type": "code",
      "execution_count": 61,
      "metadata": {
        "id": "H2M_3V7aVKKP"
      },
      "outputs": [],
      "source": [
        "#Dataset merging for complex memory based item-item recommendation\n",
        "Final_Dataset=users.copy()\n",
        "Final_Dataset=pd.merge(Final_Dataset,ratings_explicit,on='User-ID')\n",
        "Final_Dataset=pd.merge(Final_Dataset,books,on='ISBN')"
      ]
    },
    {
      "cell_type": "code",
      "execution_count": 62,
      "metadata": {
        "colab": {
          "base_uri": "https://localhost:8080/",
          "height": 394
        },
        "id": "A4-iV-E8WIKB",
        "outputId": "bf97bbbc-8190-4396-ae06-4626a3009fc1"
      },
      "outputs": [
        {
          "output_type": "execute_result",
          "data": {
            "text/plain": [
              "                      index  Missing Values  % of Total Values Data_type\n",
              "0                   User-ID               0                0.0     int64\n",
              "1                       Age               0                0.0   float64\n",
              "2                   Country               0                0.0    object\n",
              "3                      ISBN               0                0.0    object\n",
              "4               Book-Rating               0                0.0     int64\n",
              "5                Avg_Rating               0                0.0   float64\n",
              "6   Total_No_Of_Users_Rated               0                0.0     int64\n",
              "7                Book-Title               0                0.0    object\n",
              "8               Book-Author               0                0.0    object\n",
              "9       Year-Of-Publication               0                0.0   float64\n",
              "10                Publisher               0                0.0    object"
            ],
            "text/html": [
              "\n",
              "  <div id=\"df-c7810f94-9543-4b0f-a831-0bb154c269e4\">\n",
              "    <div class=\"colab-df-container\">\n",
              "      <div>\n",
              "<style scoped>\n",
              "    .dataframe tbody tr th:only-of-type {\n",
              "        vertical-align: middle;\n",
              "    }\n",
              "\n",
              "    .dataframe tbody tr th {\n",
              "        vertical-align: top;\n",
              "    }\n",
              "\n",
              "    .dataframe thead th {\n",
              "        text-align: right;\n",
              "    }\n",
              "</style>\n",
              "<table border=\"1\" class=\"dataframe\">\n",
              "  <thead>\n",
              "    <tr style=\"text-align: right;\">\n",
              "      <th></th>\n",
              "      <th>index</th>\n",
              "      <th>Missing Values</th>\n",
              "      <th>% of Total Values</th>\n",
              "      <th>Data_type</th>\n",
              "    </tr>\n",
              "  </thead>\n",
              "  <tbody>\n",
              "    <tr>\n",
              "      <th>0</th>\n",
              "      <td>User-ID</td>\n",
              "      <td>0</td>\n",
              "      <td>0.0</td>\n",
              "      <td>int64</td>\n",
              "    </tr>\n",
              "    <tr>\n",
              "      <th>1</th>\n",
              "      <td>Age</td>\n",
              "      <td>0</td>\n",
              "      <td>0.0</td>\n",
              "      <td>float64</td>\n",
              "    </tr>\n",
              "    <tr>\n",
              "      <th>2</th>\n",
              "      <td>Country</td>\n",
              "      <td>0</td>\n",
              "      <td>0.0</td>\n",
              "      <td>object</td>\n",
              "    </tr>\n",
              "    <tr>\n",
              "      <th>3</th>\n",
              "      <td>ISBN</td>\n",
              "      <td>0</td>\n",
              "      <td>0.0</td>\n",
              "      <td>object</td>\n",
              "    </tr>\n",
              "    <tr>\n",
              "      <th>4</th>\n",
              "      <td>Book-Rating</td>\n",
              "      <td>0</td>\n",
              "      <td>0.0</td>\n",
              "      <td>int64</td>\n",
              "    </tr>\n",
              "    <tr>\n",
              "      <th>5</th>\n",
              "      <td>Avg_Rating</td>\n",
              "      <td>0</td>\n",
              "      <td>0.0</td>\n",
              "      <td>float64</td>\n",
              "    </tr>\n",
              "    <tr>\n",
              "      <th>6</th>\n",
              "      <td>Total_No_Of_Users_Rated</td>\n",
              "      <td>0</td>\n",
              "      <td>0.0</td>\n",
              "      <td>int64</td>\n",
              "    </tr>\n",
              "    <tr>\n",
              "      <th>7</th>\n",
              "      <td>Book-Title</td>\n",
              "      <td>0</td>\n",
              "      <td>0.0</td>\n",
              "      <td>object</td>\n",
              "    </tr>\n",
              "    <tr>\n",
              "      <th>8</th>\n",
              "      <td>Book-Author</td>\n",
              "      <td>0</td>\n",
              "      <td>0.0</td>\n",
              "      <td>object</td>\n",
              "    </tr>\n",
              "    <tr>\n",
              "      <th>9</th>\n",
              "      <td>Year-Of-Publication</td>\n",
              "      <td>0</td>\n",
              "      <td>0.0</td>\n",
              "      <td>float64</td>\n",
              "    </tr>\n",
              "    <tr>\n",
              "      <th>10</th>\n",
              "      <td>Publisher</td>\n",
              "      <td>0</td>\n",
              "      <td>0.0</td>\n",
              "      <td>object</td>\n",
              "    </tr>\n",
              "  </tbody>\n",
              "</table>\n",
              "</div>\n",
              "      <button class=\"colab-df-convert\" onclick=\"convertToInteractive('df-c7810f94-9543-4b0f-a831-0bb154c269e4')\"\n",
              "              title=\"Convert this dataframe to an interactive table.\"\n",
              "              style=\"display:none;\">\n",
              "        \n",
              "  <svg xmlns=\"http://www.w3.org/2000/svg\" height=\"24px\"viewBox=\"0 0 24 24\"\n",
              "       width=\"24px\">\n",
              "    <path d=\"M0 0h24v24H0V0z\" fill=\"none\"/>\n",
              "    <path d=\"M18.56 5.44l.94 2.06.94-2.06 2.06-.94-2.06-.94-.94-2.06-.94 2.06-2.06.94zm-11 1L8.5 8.5l.94-2.06 2.06-.94-2.06-.94L8.5 2.5l-.94 2.06-2.06.94zm10 10l.94 2.06.94-2.06 2.06-.94-2.06-.94-.94-2.06-.94 2.06-2.06.94z\"/><path d=\"M17.41 7.96l-1.37-1.37c-.4-.4-.92-.59-1.43-.59-.52 0-1.04.2-1.43.59L10.3 9.45l-7.72 7.72c-.78.78-.78 2.05 0 2.83L4 21.41c.39.39.9.59 1.41.59.51 0 1.02-.2 1.41-.59l7.78-7.78 2.81-2.81c.8-.78.8-2.07 0-2.86zM5.41 20L4 18.59l7.72-7.72 1.47 1.35L5.41 20z\"/>\n",
              "  </svg>\n",
              "      </button>\n",
              "      \n",
              "  <style>\n",
              "    .colab-df-container {\n",
              "      display:flex;\n",
              "      flex-wrap:wrap;\n",
              "      gap: 12px;\n",
              "    }\n",
              "\n",
              "    .colab-df-convert {\n",
              "      background-color: #E8F0FE;\n",
              "      border: none;\n",
              "      border-radius: 50%;\n",
              "      cursor: pointer;\n",
              "      display: none;\n",
              "      fill: #1967D2;\n",
              "      height: 32px;\n",
              "      padding: 0 0 0 0;\n",
              "      width: 32px;\n",
              "    }\n",
              "\n",
              "    .colab-df-convert:hover {\n",
              "      background-color: #E2EBFA;\n",
              "      box-shadow: 0px 1px 2px rgba(60, 64, 67, 0.3), 0px 1px 3px 1px rgba(60, 64, 67, 0.15);\n",
              "      fill: #174EA6;\n",
              "    }\n",
              "\n",
              "    [theme=dark] .colab-df-convert {\n",
              "      background-color: #3B4455;\n",
              "      fill: #D2E3FC;\n",
              "    }\n",
              "\n",
              "    [theme=dark] .colab-df-convert:hover {\n",
              "      background-color: #434B5C;\n",
              "      box-shadow: 0px 1px 3px 1px rgba(0, 0, 0, 0.15);\n",
              "      filter: drop-shadow(0px 1px 2px rgba(0, 0, 0, 0.3));\n",
              "      fill: #FFFFFF;\n",
              "    }\n",
              "  </style>\n",
              "\n",
              "      <script>\n",
              "        const buttonEl =\n",
              "          document.querySelector('#df-c7810f94-9543-4b0f-a831-0bb154c269e4 button.colab-df-convert');\n",
              "        buttonEl.style.display =\n",
              "          google.colab.kernel.accessAllowed ? 'block' : 'none';\n",
              "\n",
              "        async function convertToInteractive(key) {\n",
              "          const element = document.querySelector('#df-c7810f94-9543-4b0f-a831-0bb154c269e4');\n",
              "          const dataTable =\n",
              "            await google.colab.kernel.invokeFunction('convertToInteractive',\n",
              "                                                     [key], {});\n",
              "          if (!dataTable) return;\n",
              "\n",
              "          const docLinkHtml = 'Like what you see? Visit the ' +\n",
              "            '<a target=\"_blank\" href=https://colab.research.google.com/notebooks/data_table.ipynb>data table notebook</a>'\n",
              "            + ' to learn more about interactive tables.';\n",
              "          element.innerHTML = '';\n",
              "          dataTable['output_type'] = 'display_data';\n",
              "          await google.colab.output.renderOutput(dataTable, element);\n",
              "          const docLink = document.createElement('div');\n",
              "          docLink.innerHTML = docLinkHtml;\n",
              "          element.appendChild(docLink);\n",
              "        }\n",
              "      </script>\n",
              "    </div>\n",
              "  </div>\n",
              "  "
            ]
          },
          "metadata": {},
          "execution_count": 62
        }
      ],
      "source": [
        "#recheck missing values\n",
        "missing_values(Final_Dataset)"
      ]
    },
    {
      "cell_type": "code",
      "execution_count": 63,
      "metadata": {
        "colab": {
          "base_uri": "https://localhost:8080/"
        },
        "id": "d6ZbASwIPnt8",
        "outputId": "a572f329-ede1-418c-fda8-8eb22f0efd15"
      },
      "outputs": [
        {
          "output_type": "execute_result",
          "data": {
            "text/plain": [
              "(383842, 11)"
            ]
          },
          "metadata": {},
          "execution_count": 63
        }
      ],
      "source": [
        "#checking the shape\n",
        "Final_Dataset.shape"
      ]
    },
    {
      "cell_type": "markdown",
      "metadata": {
        "id": "r9C6zEO6aluu"
      },
      "source": [
        "#**Recommendation for New Users(Cold Start)**\n",
        "As we all know that collaborative filtering have cold start problem so it can't recommend books for fresh new user. So we can recommend them our top read/rated books as a new user.\n",
        "\n",
        "\n",
        "\n",
        "\n",
        "\n",
        "**Popularity Based Recommendation for new users :**\n",
        "\n",
        "***Cons**- The Popularity based recommender provide a general chart of recommended books to all the users. They are not sensitive to the interests and tastes of a particular user."
      ]
    },
    {
      "cell_type": "markdown",
      "metadata": {
        "id": "dUmpKG1Y1_89"
      },
      "source": [
        "##Top Selling Books-"
      ]
    },
    {
      "cell_type": "code",
      "execution_count": 64,
      "metadata": {
        "colab": {
          "base_uri": "https://localhost:8080/",
          "height": 206
        },
        "id": "whCBXxz7KEAB",
        "outputId": "b5c9ff26-2dc5-4681-f578-568b4091724e"
      },
      "outputs": [
        {
          "output_type": "execute_result",
          "data": {
            "text/plain": [
              "         ISBN  Book-Rating                                       Book-Title  \\\n",
              "0  0316666343          707                        The Lovely Bones: A Novel   \n",
              "1  0971880107          581                                      Wild Animus   \n",
              "2  0385504209          487                                The Da Vinci Code   \n",
              "3  0312195516          383              The Red Tent (Bestselling Backlist)   \n",
              "4  0060928336          320  Divine Secrets of the Ya-Ya Sisterhood: A Novel   \n",
              "\n",
              "     Book-Author  Year-Of-Publication      Publisher  Times_Book_Bought  \n",
              "0   Alice Sebold               2002.0  Little, Brown                707  \n",
              "1   Rich Shapero               2004.0        Too Far                581  \n",
              "2      Dan Brown               2003.0      Doubleday                487  \n",
              "3  Anita Diamant               1998.0    Picador USA                383  \n",
              "4  Rebecca Wells               1997.0      Perennial                320  "
            ],
            "text/html": [
              "\n",
              "  <div id=\"df-1ef62296-9dd1-47f4-ba72-2e6004be7a3e\">\n",
              "    <div class=\"colab-df-container\">\n",
              "      <div>\n",
              "<style scoped>\n",
              "    .dataframe tbody tr th:only-of-type {\n",
              "        vertical-align: middle;\n",
              "    }\n",
              "\n",
              "    .dataframe tbody tr th {\n",
              "        vertical-align: top;\n",
              "    }\n",
              "\n",
              "    .dataframe thead th {\n",
              "        text-align: right;\n",
              "    }\n",
              "</style>\n",
              "<table border=\"1\" class=\"dataframe\">\n",
              "  <thead>\n",
              "    <tr style=\"text-align: right;\">\n",
              "      <th></th>\n",
              "      <th>ISBN</th>\n",
              "      <th>Book-Rating</th>\n",
              "      <th>Book-Title</th>\n",
              "      <th>Book-Author</th>\n",
              "      <th>Year-Of-Publication</th>\n",
              "      <th>Publisher</th>\n",
              "      <th>Times_Book_Bought</th>\n",
              "    </tr>\n",
              "  </thead>\n",
              "  <tbody>\n",
              "    <tr>\n",
              "      <th>0</th>\n",
              "      <td>0316666343</td>\n",
              "      <td>707</td>\n",
              "      <td>The Lovely Bones: A Novel</td>\n",
              "      <td>Alice Sebold</td>\n",
              "      <td>2002.0</td>\n",
              "      <td>Little, Brown</td>\n",
              "      <td>707</td>\n",
              "    </tr>\n",
              "    <tr>\n",
              "      <th>1</th>\n",
              "      <td>0971880107</td>\n",
              "      <td>581</td>\n",
              "      <td>Wild Animus</td>\n",
              "      <td>Rich Shapero</td>\n",
              "      <td>2004.0</td>\n",
              "      <td>Too Far</td>\n",
              "      <td>581</td>\n",
              "    </tr>\n",
              "    <tr>\n",
              "      <th>2</th>\n",
              "      <td>0385504209</td>\n",
              "      <td>487</td>\n",
              "      <td>The Da Vinci Code</td>\n",
              "      <td>Dan Brown</td>\n",
              "      <td>2003.0</td>\n",
              "      <td>Doubleday</td>\n",
              "      <td>487</td>\n",
              "    </tr>\n",
              "    <tr>\n",
              "      <th>3</th>\n",
              "      <td>0312195516</td>\n",
              "      <td>383</td>\n",
              "      <td>The Red Tent (Bestselling Backlist)</td>\n",
              "      <td>Anita Diamant</td>\n",
              "      <td>1998.0</td>\n",
              "      <td>Picador USA</td>\n",
              "      <td>383</td>\n",
              "    </tr>\n",
              "    <tr>\n",
              "      <th>4</th>\n",
              "      <td>0060928336</td>\n",
              "      <td>320</td>\n",
              "      <td>Divine Secrets of the Ya-Ya Sisterhood: A Novel</td>\n",
              "      <td>Rebecca Wells</td>\n",
              "      <td>1997.0</td>\n",
              "      <td>Perennial</td>\n",
              "      <td>320</td>\n",
              "    </tr>\n",
              "  </tbody>\n",
              "</table>\n",
              "</div>\n",
              "      <button class=\"colab-df-convert\" onclick=\"convertToInteractive('df-1ef62296-9dd1-47f4-ba72-2e6004be7a3e')\"\n",
              "              title=\"Convert this dataframe to an interactive table.\"\n",
              "              style=\"display:none;\">\n",
              "        \n",
              "  <svg xmlns=\"http://www.w3.org/2000/svg\" height=\"24px\"viewBox=\"0 0 24 24\"\n",
              "       width=\"24px\">\n",
              "    <path d=\"M0 0h24v24H0V0z\" fill=\"none\"/>\n",
              "    <path d=\"M18.56 5.44l.94 2.06.94-2.06 2.06-.94-2.06-.94-.94-2.06-.94 2.06-2.06.94zm-11 1L8.5 8.5l.94-2.06 2.06-.94-2.06-.94L8.5 2.5l-.94 2.06-2.06.94zm10 10l.94 2.06.94-2.06 2.06-.94-2.06-.94-.94-2.06-.94 2.06-2.06.94z\"/><path d=\"M17.41 7.96l-1.37-1.37c-.4-.4-.92-.59-1.43-.59-.52 0-1.04.2-1.43.59L10.3 9.45l-7.72 7.72c-.78.78-.78 2.05 0 2.83L4 21.41c.39.39.9.59 1.41.59.51 0 1.02-.2 1.41-.59l7.78-7.78 2.81-2.81c.8-.78.8-2.07 0-2.86zM5.41 20L4 18.59l7.72-7.72 1.47 1.35L5.41 20z\"/>\n",
              "  </svg>\n",
              "      </button>\n",
              "      \n",
              "  <style>\n",
              "    .colab-df-container {\n",
              "      display:flex;\n",
              "      flex-wrap:wrap;\n",
              "      gap: 12px;\n",
              "    }\n",
              "\n",
              "    .colab-df-convert {\n",
              "      background-color: #E8F0FE;\n",
              "      border: none;\n",
              "      border-radius: 50%;\n",
              "      cursor: pointer;\n",
              "      display: none;\n",
              "      fill: #1967D2;\n",
              "      height: 32px;\n",
              "      padding: 0 0 0 0;\n",
              "      width: 32px;\n",
              "    }\n",
              "\n",
              "    .colab-df-convert:hover {\n",
              "      background-color: #E2EBFA;\n",
              "      box-shadow: 0px 1px 2px rgba(60, 64, 67, 0.3), 0px 1px 3px 1px rgba(60, 64, 67, 0.15);\n",
              "      fill: #174EA6;\n",
              "    }\n",
              "\n",
              "    [theme=dark] .colab-df-convert {\n",
              "      background-color: #3B4455;\n",
              "      fill: #D2E3FC;\n",
              "    }\n",
              "\n",
              "    [theme=dark] .colab-df-convert:hover {\n",
              "      background-color: #434B5C;\n",
              "      box-shadow: 0px 1px 3px 1px rgba(0, 0, 0, 0.15);\n",
              "      filter: drop-shadow(0px 1px 2px rgba(0, 0, 0, 0.3));\n",
              "      fill: #FFFFFF;\n",
              "    }\n",
              "  </style>\n",
              "\n",
              "      <script>\n",
              "        const buttonEl =\n",
              "          document.querySelector('#df-1ef62296-9dd1-47f4-ba72-2e6004be7a3e button.colab-df-convert');\n",
              "        buttonEl.style.display =\n",
              "          google.colab.kernel.accessAllowed ? 'block' : 'none';\n",
              "\n",
              "        async function convertToInteractive(key) {\n",
              "          const element = document.querySelector('#df-1ef62296-9dd1-47f4-ba72-2e6004be7a3e');\n",
              "          const dataTable =\n",
              "            await google.colab.kernel.invokeFunction('convertToInteractive',\n",
              "                                                     [key], {});\n",
              "          if (!dataTable) return;\n",
              "\n",
              "          const docLinkHtml = 'Like what you see? Visit the ' +\n",
              "            '<a target=\"_blank\" href=https://colab.research.google.com/notebooks/data_table.ipynb>data table notebook</a>'\n",
              "            + ' to learn more about interactive tables.';\n",
              "          element.innerHTML = '';\n",
              "          dataTable['output_type'] = 'display_data';\n",
              "          await google.colab.output.renderOutput(dataTable, element);\n",
              "          const docLink = document.createElement('div');\n",
              "          docLink.innerHTML = docLinkHtml;\n",
              "          element.appendChild(docLink);\n",
              "        }\n",
              "      </script>\n",
              "    </div>\n",
              "  </div>\n",
              "  "
            ]
          },
          "metadata": {},
          "execution_count": 64
        }
      ],
      "source": [
        "#Top Selling books\n",
        "most_selling_isbn=ratings_explicit.groupby('ISBN')['Book-Rating'].count().reset_index()\n",
        "most_selling_isbn=most_selling_isbn.sort_values(by=['Book-Rating'], ascending=False)\n",
        "top_selling_books_summary = pd.merge(most_selling_isbn,books, on='ISBN')\n",
        "top_selling_books_summary['Times_Book_Bought']=top_selling_books_summary['Book-Rating']  #Making a column for better showing in graph\n",
        "top_selling_books_summary.head(5)"
      ]
    },
    {
      "cell_type": "code",
      "execution_count": 65,
      "metadata": {
        "colab": {
          "base_uri": "https://localhost:8080/",
          "height": 400
        },
        "id": "nQKUvF4KkPTl",
        "outputId": "8f2e8c86-b7a2-44c5-c07d-bcb3393461fc"
      },
      "outputs": [
        {
          "output_type": "execute_result",
          "data": {
            "text/plain": [
              "Text(0.5, 1.0, 'Top 10 Top-Selling Books')"
            ]
          },
          "metadata": {},
          "execution_count": 65
        },
        {
          "output_type": "display_data",
          "data": {
            "text/plain": [
              "<Figure size 576x360 with 1 Axes>"
            ],
            "image/png": "[encoded data removed]"
          },
          "metadata": {}
        }
      ],
      "source": [
        "#countplot for Most read books\n",
        "plt.style.use('fivethirtyeight')\n",
        "plt.figure(figsize=(8,5))\n",
        "sns.barplot(y='Book-Title',x='Times_Book_Bought',data=top_selling_books_summary.head(10), palette='rocket_r')\n",
        "plt.title('Top 10 Top-Selling Books')"
      ]
    },
    {
      "cell_type": "markdown",
      "metadata": {
        "id": "H1RYa7O8JWc_"
      },
      "source": [
        "These are our top selling books on the basis of how much time it readed by customers."
      ]
    },
    {
      "cell_type": "markdown",
      "metadata": {
        "id": "fZiiQUMD1u0H"
      },
      "source": [
        "##Now Let's go for Top Rated Books-"
      ]
    },
    {
      "cell_type": "code",
      "execution_count": 66,
      "metadata": {
        "colab": {
          "base_uri": "https://localhost:8080/",
          "height": 206
        },
        "id": "PRb_-0GfIq_c",
        "outputId": "88a76e98-73f8-4a8e-ea57-b0693eda3e3e"
      },
      "outputs": [
        {
          "output_type": "execute_result",
          "data": {
            "text/plain": [
              "         ISBN  Book-Rating                                         Book-Title  \\\n",
              "0  0316666343         5787                          The Lovely Bones: A Novel   \n",
              "1  0385504209         4108                                  The Da Vinci Code   \n",
              "2  0312195516         3134                The Red Tent (Bestselling Backlist)   \n",
              "3  059035342X         2798  Harry Potter and the Sorcerer's Stone (Harry P...   \n",
              "4  0142001740         2595                            The Secret Life of Bees   \n",
              "\n",
              "     Book-Author  Year-Of-Publication               Publisher  \\\n",
              "0   Alice Sebold               2002.0           Little, Brown   \n",
              "1      Dan Brown               2003.0               Doubleday   \n",
              "2  Anita Diamant               1998.0             Picador USA   \n",
              "3  J. K. Rowling               1999.0  Arthur A. Levine Books   \n",
              "4  Sue Monk Kidd               2003.0           Penguin Books   \n",
              "\n",
              "   Overall_Book_Rating  \n",
              "0                 5787  \n",
              "1                 4108  \n",
              "2                 3134  \n",
              "3                 2798  \n",
              "4                 2595  "
            ],
            "text/html": [
              "\n",
              "  <div id=\"df-fedb0ce7-69a3-4872-a1f6-15291c97929d\">\n",
              "    <div class=\"colab-df-container\">\n",
              "      <div>\n",
              "<style scoped>\n",
              "    .dataframe tbody tr th:only-of-type {\n",
              "        vertical-align: middle;\n",
              "    }\n",
              "\n",
              "    .dataframe tbody tr th {\n",
              "        vertical-align: top;\n",
              "    }\n",
              "\n",
              "    .dataframe thead th {\n",
              "        text-align: right;\n",
              "    }\n",
              "</style>\n",
              "<table border=\"1\" class=\"dataframe\">\n",
              "  <thead>\n",
              "    <tr style=\"text-align: right;\">\n",
              "      <th></th>\n",
              "      <th>ISBN</th>\n",
              "      <th>Book-Rating</th>\n",
              "      <th>Book-Title</th>\n",
              "      <th>Book-Author</th>\n",
              "      <th>Year-Of-Publication</th>\n",
              "      <th>Publisher</th>\n",
              "      <th>Overall_Book_Rating</th>\n",
              "    </tr>\n",
              "  </thead>\n",
              "  <tbody>\n",
              "    <tr>\n",
              "      <th>0</th>\n",
              "      <td>0316666343</td>\n",
              "      <td>5787</td>\n",
              "      <td>The Lovely Bones: A Novel</td>\n",
              "      <td>Alice Sebold</td>\n",
              "      <td>2002.0</td>\n",
              "      <td>Little, Brown</td>\n",
              "      <td>5787</td>\n",
              "    </tr>\n",
              "    <tr>\n",
              "      <th>1</th>\n",
              "      <td>0385504209</td>\n",
              "      <td>4108</td>\n",
              "      <td>The Da Vinci Code</td>\n",
              "      <td>Dan Brown</td>\n",
              "      <td>2003.0</td>\n",
              "      <td>Doubleday</td>\n",
              "      <td>4108</td>\n",
              "    </tr>\n",
              "    <tr>\n",
              "      <th>2</th>\n",
              "      <td>0312195516</td>\n",
              "      <td>3134</td>\n",
              "      <td>The Red Tent (Bestselling Backlist)</td>\n",
              "      <td>Anita Diamant</td>\n",
              "      <td>1998.0</td>\n",
              "      <td>Picador USA</td>\n",
              "      <td>3134</td>\n",
              "    </tr>\n",
              "    <tr>\n",
              "      <th>3</th>\n",
              "      <td>059035342X</td>\n",
              "      <td>2798</td>\n",
              "      <td>Harry Potter and the Sorcerer's Stone (Harry P...</td>\n",
              "      <td>J. K. Rowling</td>\n",
              "      <td>1999.0</td>\n",
              "      <td>Arthur A. Levine Books</td>\n",
              "      <td>2798</td>\n",
              "    </tr>\n",
              "    <tr>\n",
              "      <th>4</th>\n",
              "      <td>0142001740</td>\n",
              "      <td>2595</td>\n",
              "      <td>The Secret Life of Bees</td>\n",
              "      <td>Sue Monk Kidd</td>\n",
              "      <td>2003.0</td>\n",
              "      <td>Penguin Books</td>\n",
              "      <td>2595</td>\n",
              "    </tr>\n",
              "  </tbody>\n",
              "</table>\n",
              "</div>\n",
              "      <button class=\"colab-df-convert\" onclick=\"convertToInteractive('df-fedb0ce7-69a3-4872-a1f6-15291c97929d')\"\n",
              "              title=\"Convert this dataframe to an interactive table.\"\n",
              "              style=\"display:none;\">\n",
              "        \n",
              "  <svg xmlns=\"http://www.w3.org/2000/svg\" height=\"24px\"viewBox=\"0 0 24 24\"\n",
              "       width=\"24px\">\n",
              "    <path d=\"M0 0h24v24H0V0z\" fill=\"none\"/>\n",
              "    <path d=\"M18.56 5.44l.94 2.06.94-2.06 2.06-.94-2.06-.94-.94-2.06-.94 2.06-2.06.94zm-11 1L8.5 8.5l.94-2.06 2.06-.94-2.06-.94L8.5 2.5l-.94 2.06-2.06.94zm10 10l.94 2.06.94-2.06 2.06-.94-2.06-.94-.94-2.06-.94 2.06-2.06.94z\"/><path d=\"M17.41 7.96l-1.37-1.37c-.4-.4-.92-.59-1.43-.59-.52 0-1.04.2-1.43.59L10.3 9.45l-7.72 7.72c-.78.78-.78 2.05 0 2.83L4 21.41c.39.39.9.59 1.41.59.51 0 1.02-.2 1.41-.59l7.78-7.78 2.81-2.81c.8-.78.8-2.07 0-2.86zM5.41 20L4 18.59l7.72-7.72 1.47 1.35L5.41 20z\"/>\n",
              "  </svg>\n",
              "      </button>\n",
              "      \n",
              "  <style>\n",
              "    .colab-df-container {\n",
              "      display:flex;\n",
              "      flex-wrap:wrap;\n",
              "      gap: 12px;\n",
              "    }\n",
              "\n",
              "    .colab-df-convert {\n",
              "      background-color: #E8F0FE;\n",
              "      border: none;\n",
              "      border-radius: 50%;\n",
              "      cursor: pointer;\n",
              "      display: none;\n",
              "      fill: #1967D2;\n",
              "      height: 32px;\n",
              "      padding: 0 0 0 0;\n",
              "      width: 32px;\n",
              "    }\n",
              "\n",
              "    .colab-df-convert:hover {\n",
              "      background-color: #E2EBFA;\n",
              "      box-shadow: 0px 1px 2px rgba(60, 64, 67, 0.3), 0px 1px 3px 1px rgba(60, 64, 67, 0.15);\n",
              "      fill: #174EA6;\n",
              "    }\n",
              "\n",
              "    [theme=dark] .colab-df-convert {\n",
              "      background-color: #3B4455;\n",
              "      fill: #D2E3FC;\n",
              "    }\n",
              "\n",
              "    [theme=dark] .colab-df-convert:hover {\n",
              "      background-color: #434B5C;\n",
              "      box-shadow: 0px 1px 3px 1px rgba(0, 0, 0, 0.15);\n",
              "      filter: drop-shadow(0px 1px 2px rgba(0, 0, 0, 0.3));\n",
              "      fill: #FFFFFF;\n",
              "    }\n",
              "  </style>\n",
              "\n",
              "      <script>\n",
              "        const buttonEl =\n",
              "          document.querySelector('#df-fedb0ce7-69a3-4872-a1f6-15291c97929d button.colab-df-convert');\n",
              "        buttonEl.style.display =\n",
              "          google.colab.kernel.accessAllowed ? 'block' : 'none';\n",
              "\n",
              "        async function convertToInteractive(key) {\n",
              "          const element = document.querySelector('#df-fedb0ce7-69a3-4872-a1f6-15291c97929d');\n",
              "          const dataTable =\n",
              "            await google.colab.kernel.invokeFunction('convertToInteractive',\n",
              "                                                     [key], {});\n",
              "          if (!dataTable) return;\n",
              "\n",
              "          const docLinkHtml = 'Like what you see? Visit the ' +\n",
              "            '<a target=\"_blank\" href=https://colab.research.google.com/notebooks/data_table.ipynb>data table notebook</a>'\n",
              "            + ' to learn more about interactive tables.';\n",
              "          element.innerHTML = '';\n",
              "          dataTable['output_type'] = 'display_data';\n",
              "          await google.colab.output.renderOutput(dataTable, element);\n",
              "          const docLink = document.createElement('div');\n",
              "          docLink.innerHTML = docLinkHtml;\n",
              "          element.appendChild(docLink);\n",
              "        }\n",
              "      </script>\n",
              "    </div>\n",
              "  </div>\n",
              "  "
            ]
          },
          "metadata": {},
          "execution_count": 66
        }
      ],
      "source": [
        "top_rated_isbn=Final_Dataset.groupby('ISBN')['Book-Rating'].sum().reset_index()\n",
        "top_rated_isbn=top_rated_isbn.sort_values(by=['Book-Rating'], ascending=False)\n",
        "most_rated_books_summary = pd.merge(top_rated_isbn,books, on='ISBN')\n",
        "most_rated_books_summary['Overall_Book_Rating']=most_rated_books_summary['Book-Rating']  #Making a column for better showing in graph\n",
        "most_rated_books_summary.head(5)"
      ]
    },
    {
      "cell_type": "code",
      "execution_count": 67,
      "metadata": {
        "colab": {
          "base_uri": "https://localhost:8080/",
          "height": 400
        },
        "id": "tAnEhiQBuXx5",
        "outputId": "b96e0dd4-87fe-4232-c100-2c893c3adb6b"
      },
      "outputs": [
        {
          "output_type": "execute_result",
          "data": {
            "text/plain": [
              "Text(0.5, 1.0, 'Top Rated Books')"
            ]
          },
          "metadata": {},
          "execution_count": 67
        },
        {
          "output_type": "display_data",
          "data": {
            "text/plain": [
              "<Figure size 576x360 with 1 Axes>"
            ],
            "image/png": "[encoded data removed]"
          },
          "metadata": {}
        }
      ],
      "source": [
        "#countplot for Top Rated\n",
        "plt.style.use('fivethirtyeight')\n",
        "plt.figure(figsize=(8,5))\n",
        "sns.barplot(y='Book-Title',x='Overall_Book_Rating',data=most_rated_books_summary.head(10), palette='rocket_r')\n",
        "plt.title('Top Rated Books')"
      ]
    },
    {
      "cell_type": "markdown",
      "metadata": {
        "id": "ZZ6fLHMQKNu-"
      },
      "source": [
        "These are the top books which have highest overall rating."
      ]
    },
    {
      "cell_type": "markdown",
      "metadata": {
        "id": "tJDDkuxJ2ajh"
      },
      "source": [
        "##Now let's go for Top Rated and Top Selling Books at the same time-"
      ]
    },
    {
      "cell_type": "code",
      "execution_count": 68,
      "metadata": {
        "colab": {
          "base_uri": "https://localhost:8080/",
          "height": 206
        },
        "id": "BErqFOs9KOcT",
        "outputId": "3b546dfd-b6a3-4d6d-8cc0-87791a995fe0"
      },
      "outputs": [
        {
          "output_type": "execute_result",
          "data": {
            "text/plain": [
              "         ISBN  Avg_Rating  Total_No_Of_Users_Rated  \\\n",
              "0  059035342X    8.939297                      313   \n",
              "1  0142001740    8.452769                      307   \n",
              "2  0385504209    8.435318                      487   \n",
              "3  0316666343    8.185290                      707   \n",
              "4  0312195516    8.182768                      383   \n",
              "\n",
              "                                          Book-Title    Book-Author  \\\n",
              "0  Harry Potter and the Sorcerer's Stone (Harry P...  J. K. Rowling   \n",
              "1                            The Secret Life of Bees  Sue Monk Kidd   \n",
              "2                                  The Da Vinci Code      Dan Brown   \n",
              "3                          The Lovely Bones: A Novel   Alice Sebold   \n",
              "4                The Red Tent (Bestselling Backlist)  Anita Diamant   \n",
              "\n",
              "   Year-Of-Publication               Publisher  \n",
              "0               1999.0  Arthur A. Levine Books  \n",
              "1               2003.0           Penguin Books  \n",
              "2               2003.0               Doubleday  \n",
              "3               2002.0           Little, Brown  \n",
              "4               1998.0             Picador USA  "
            ],
            "text/html": [
              "\n",
              "  <div id=\"df-e0885439-182e-41b8-b97d-4e926611c762\">\n",
              "    <div class=\"colab-df-container\">\n",
              "      <div>\n",
              "<style scoped>\n",
              "    .dataframe tbody tr th:only-of-type {\n",
              "        vertical-align: middle;\n",
              "    }\n",
              "\n",
              "    .dataframe tbody tr th {\n",
              "        vertical-align: top;\n",
              "    }\n",
              "\n",
              "    .dataframe thead th {\n",
              "        text-align: right;\n",
              "    }\n",
              "</style>\n",
              "<table border=\"1\" class=\"dataframe\">\n",
              "  <thead>\n",
              "    <tr style=\"text-align: right;\">\n",
              "      <th></th>\n",
              "      <th>ISBN</th>\n",
              "      <th>Avg_Rating</th>\n",
              "      <th>Total_No_Of_Users_Rated</th>\n",
              "      <th>Book-Title</th>\n",
              "      <th>Book-Author</th>\n",
              "      <th>Year-Of-Publication</th>\n",
              "      <th>Publisher</th>\n",
              "    </tr>\n",
              "  </thead>\n",
              "  <tbody>\n",
              "    <tr>\n",
              "      <th>0</th>\n",
              "      <td>059035342X</td>\n",
              "      <td>8.939297</td>\n",
              "      <td>313</td>\n",
              "      <td>Harry Potter and the Sorcerer's Stone (Harry P...</td>\n",
              "      <td>J. K. Rowling</td>\n",
              "      <td>1999.0</td>\n",
              "      <td>Arthur A. Levine Books</td>\n",
              "    </tr>\n",
              "    <tr>\n",
              "      <th>1</th>\n",
              "      <td>0142001740</td>\n",
              "      <td>8.452769</td>\n",
              "      <td>307</td>\n",
              "      <td>The Secret Life of Bees</td>\n",
              "      <td>Sue Monk Kidd</td>\n",
              "      <td>2003.0</td>\n",
              "      <td>Penguin Books</td>\n",
              "    </tr>\n",
              "    <tr>\n",
              "      <th>2</th>\n",
              "      <td>0385504209</td>\n",
              "      <td>8.435318</td>\n",
              "      <td>487</td>\n",
              "      <td>The Da Vinci Code</td>\n",
              "      <td>Dan Brown</td>\n",
              "      <td>2003.0</td>\n",
              "      <td>Doubleday</td>\n",
              "    </tr>\n",
              "    <tr>\n",
              "      <th>3</th>\n",
              "      <td>0316666343</td>\n",
              "      <td>8.185290</td>\n",
              "      <td>707</td>\n",
              "      <td>The Lovely Bones: A Novel</td>\n",
              "      <td>Alice Sebold</td>\n",
              "      <td>2002.0</td>\n",
              "      <td>Little, Brown</td>\n",
              "    </tr>\n",
              "    <tr>\n",
              "      <th>4</th>\n",
              "      <td>0312195516</td>\n",
              "      <td>8.182768</td>\n",
              "      <td>383</td>\n",
              "      <td>The Red Tent (Bestselling Backlist)</td>\n",
              "      <td>Anita Diamant</td>\n",
              "      <td>1998.0</td>\n",
              "      <td>Picador USA</td>\n",
              "    </tr>\n",
              "  </tbody>\n",
              "</table>\n",
              "</div>\n",
              "      <button class=\"colab-df-convert\" onclick=\"convertToInteractive('df-e0885439-182e-41b8-b97d-4e926611c762')\"\n",
              "              title=\"Convert this dataframe to an interactive table.\"\n",
              "              style=\"display:none;\">\n",
              "        \n",
              "  <svg xmlns=\"http://www.w3.org/2000/svg\" height=\"24px\"viewBox=\"0 0 24 24\"\n",
              "       width=\"24px\">\n",
              "    <path d=\"M0 0h24v24H0V0z\" fill=\"none\"/>\n",
              "    <path d=\"M18.56 5.44l.94 2.06.94-2.06 2.06-.94-2.06-.94-.94-2.06-.94 2.06-2.06.94zm-11 1L8.5 8.5l.94-2.06 2.06-.94-2.06-.94L8.5 2.5l-.94 2.06-2.06.94zm10 10l.94 2.06.94-2.06 2.06-.94-2.06-.94-.94-2.06-.94 2.06-2.06.94z\"/><path d=\"M17.41 7.96l-1.37-1.37c-.4-.4-.92-.59-1.43-.59-.52 0-1.04.2-1.43.59L10.3 9.45l-7.72 7.72c-.78.78-.78 2.05 0 2.83L4 21.41c.39.39.9.59 1.41.59.51 0 1.02-.2 1.41-.59l7.78-7.78 2.81-2.81c.8-.78.8-2.07 0-2.86zM5.41 20L4 18.59l7.72-7.72 1.47 1.35L5.41 20z\"/>\n",
              "  </svg>\n",
              "      </button>\n",
              "      \n",
              "  <style>\n",
              "    .colab-df-container {\n",
              "      display:flex;\n",
              "      flex-wrap:wrap;\n",
              "      gap: 12px;\n",
              "    }\n",
              "\n",
              "    .colab-df-convert {\n",
              "      background-color: #E8F0FE;\n",
              "      border: none;\n",
              "      border-radius: 50%;\n",
              "      cursor: pointer;\n",
              "      display: none;\n",
              "      fill: #1967D2;\n",
              "      height: 32px;\n",
              "      padding: 0 0 0 0;\n",
              "      width: 32px;\n",
              "    }\n",
              "\n",
              "    .colab-df-convert:hover {\n",
              "      background-color: #E2EBFA;\n",
              "      box-shadow: 0px 1px 2px rgba(60, 64, 67, 0.3), 0px 1px 3px 1px rgba(60, 64, 67, 0.15);\n",
              "      fill: #174EA6;\n",
              "    }\n",
              "\n",
              "    [theme=dark] .colab-df-convert {\n",
              "      background-color: #3B4455;\n",
              "      fill: #D2E3FC;\n",
              "    }\n",
              "\n",
              "    [theme=dark] .colab-df-convert:hover {\n",
              "      background-color: #434B5C;\n",
              "      box-shadow: 0px 1px 3px 1px rgba(0, 0, 0, 0.15);\n",
              "      filter: drop-shadow(0px 1px 2px rgba(0, 0, 0, 0.3));\n",
              "      fill: #FFFFFF;\n",
              "    }\n",
              "  </style>\n",
              "\n",
              "      <script>\n",
              "        const buttonEl =\n",
              "          document.querySelector('#df-e0885439-182e-41b8-b97d-4e926611c762 button.colab-df-convert');\n",
              "        buttonEl.style.display =\n",
              "          google.colab.kernel.accessAllowed ? 'block' : 'none';\n",
              "\n",
              "        async function convertToInteractive(key) {\n",
              "          const element = document.querySelector('#df-e0885439-182e-41b8-b97d-4e926611c762');\n",
              "          const dataTable =\n",
              "            await google.colab.kernel.invokeFunction('convertToInteractive',\n",
              "                                                     [key], {});\n",
              "          if (!dataTable) return;\n",
              "\n",
              "          const docLinkHtml = 'Like what you see? Visit the ' +\n",
              "            '<a target=\"_blank\" href=https://colab.research.google.com/notebooks/data_table.ipynb>data table notebook</a>'\n",
              "            + ' to learn more about interactive tables.';\n",
              "          element.innerHTML = '';\n",
              "          dataTable['output_type'] = 'display_data';\n",
              "          await google.colab.output.renderOutput(dataTable, element);\n",
              "          const docLink = document.createElement('div');\n",
              "          docLink.innerHTML = docLinkHtml;\n",
              "          element.appendChild(docLink);\n",
              "        }\n",
              "      </script>\n",
              "    </div>\n",
              "  </div>\n",
              "  "
            ]
          },
          "metadata": {},
          "execution_count": 68
        }
      ],
      "source": [
        "top_df=ratings_explicit[['ISBN','Avg_Rating','Total_No_Of_Users_Rated']]\n",
        "top_selling_rated_books=top_df[top_df['Total_No_Of_Users_Rated']>250].sort_values(by=['Avg_Rating','Total_No_Of_Users_Rated'],ascending=False)\n",
        "top_selling_rated_books = top_selling_rated_books.drop_duplicates(subset=['ISBN', 'Avg_Rating','Total_No_Of_Users_Rated'])\n",
        "top_selling_rated_books_summary = pd.merge(top_selling_rated_books,books, on='ISBN')\n",
        "top_selling_rated_books_summary.head(5)"
      ]
    },
    {
      "cell_type": "code",
      "execution_count": 69,
      "metadata": {
        "colab": {
          "base_uri": "https://localhost:8080/",
          "height": 363
        },
        "id": "epRNudkiuwal",
        "outputId": "db63e76a-5ed2-45ab-96ed-1d41ba6406ae"
      },
      "outputs": [
        {
          "output_type": "execute_result",
          "data": {
            "text/plain": [
              "<pandas.io.formats.style.Styler at 0x7fb6b32f3a10>"
            ],
            "text/html": [
              "<style type=\"text/css\">\n",
              "#T_935cc_row0_col2 {\n",
              "  background-color: #cde5cd;\n",
              "  color: #000000;\n",
              "}\n",
              "#T_935cc_row0_col3, #T_935cc_row3_col2 {\n",
              "  background-color: #008000;\n",
              "  color: #f1f1f1;\n",
              "}\n",
              "#T_935cc_row1_col2 {\n",
              "  background-color: #d1e6d1;\n",
              "  color: #000000;\n",
              "}\n",
              "#T_935cc_row1_col3 {\n",
              "  background-color: #65b265;\n",
              "  color: #f1f1f1;\n",
              "}\n",
              "#T_935cc_row2_col2 {\n",
              "  background-color: #72b872;\n",
              "  color: #f1f1f1;\n",
              "}\n",
              "#T_935cc_row2_col3 {\n",
              "  background-color: #69b369;\n",
              "  color: #f1f1f1;\n",
              "}\n",
              "#T_935cc_row3_col3 {\n",
              "  background-color: #9ccd9c;\n",
              "  color: #000000;\n",
              "}\n",
              "#T_935cc_row4_col2 {\n",
              "  background-color: #a8d2a8;\n",
              "  color: #000000;\n",
              "}\n",
              "#T_935cc_row4_col3 {\n",
              "  background-color: #9dcd9d;\n",
              "  color: #000000;\n",
              "}\n",
              "#T_935cc_row5_col2 {\n",
              "  background-color: #d6e9d6;\n",
              "  color: #000000;\n",
              "}\n",
              "#T_935cc_row5_col3 {\n",
              "  background-color: #a6d1a6;\n",
              "  color: #000000;\n",
              "}\n",
              "#T_935cc_row6_col2 {\n",
              "  background-color: #e4f0e4;\n",
              "  color: #000000;\n",
              "}\n",
              "#T_935cc_row6_col3 {\n",
              "  background-color: #aed5ae;\n",
              "  color: #000000;\n",
              "}\n",
              "#T_935cc_row7_col2 {\n",
              "  background-color: #e0eedf;\n",
              "  color: #000000;\n",
              "}\n",
              "#T_935cc_row7_col3 {\n",
              "  background-color: #c7e1c7;\n",
              "  color: #000000;\n",
              "}\n",
              "#T_935cc_row8_col2 {\n",
              "  background-color: #c9e3c9;\n",
              "  color: #000000;\n",
              "}\n",
              "#T_935cc_row8_col3 {\n",
              "  background-color: #dbebdb;\n",
              "  color: #000000;\n",
              "}\n",
              "#T_935cc_row9_col2, #T_935cc_row9_col3 {\n",
              "  background-color: #ebf3eb;\n",
              "  color: #000000;\n",
              "}\n",
              "</style>\n",
              "<table id=\"T_935cc_\" class=\"dataframe\">\n",
              "  <thead>\n",
              "    <tr>\n",
              "      <th class=\"blank level0\" >&nbsp;</th>\n",
              "      <th class=\"col_heading level0 col0\" >Book-Title</th>\n",
              "      <th class=\"col_heading level0 col1\" >Publisher</th>\n",
              "      <th class=\"col_heading level0 col2\" >Total_No_Of_Users_Rated</th>\n",
              "      <th class=\"col_heading level0 col3\" >Avg_Rating</th>\n",
              "    </tr>\n",
              "  </thead>\n",
              "  <tbody>\n",
              "    <tr>\n",
              "      <th id=\"T_935cc_level0_row0\" class=\"row_heading level0 row0\" >0</th>\n",
              "      <td id=\"T_935cc_row0_col0\" class=\"data row0 col0\" >Harry Potter and the Sorcerer's Stone (Harry Potter (Paperback))</td>\n",
              "      <td id=\"T_935cc_row0_col1\" class=\"data row0 col1\" >Arthur A. Levine Books</td>\n",
              "      <td id=\"T_935cc_row0_col2\" class=\"data row0 col2\" >313</td>\n",
              "      <td id=\"T_935cc_row0_col3\" class=\"data row0 col3\" >8.939297</td>\n",
              "    </tr>\n",
              "    <tr>\n",
              "      <th id=\"T_935cc_level0_row1\" class=\"row_heading level0 row1\" >1</th>\n",
              "      <td id=\"T_935cc_row1_col0\" class=\"data row1 col0\" >The Secret Life of Bees</td>\n",
              "      <td id=\"T_935cc_row1_col1\" class=\"data row1 col1\" >Penguin Books</td>\n",
              "      <td id=\"T_935cc_row1_col2\" class=\"data row1 col2\" >307</td>\n",
              "      <td id=\"T_935cc_row1_col3\" class=\"data row1 col3\" >8.452769</td>\n",
              "    </tr>\n",
              "    <tr>\n",
              "      <th id=\"T_935cc_level0_row2\" class=\"row_heading level0 row2\" >2</th>\n",
              "      <td id=\"T_935cc_row2_col0\" class=\"data row2 col0\" >The Da Vinci Code</td>\n",
              "      <td id=\"T_935cc_row2_col1\" class=\"data row2 col1\" >Doubleday</td>\n",
              "      <td id=\"T_935cc_row2_col2\" class=\"data row2 col2\" >487</td>\n",
              "      <td id=\"T_935cc_row2_col3\" class=\"data row2 col3\" >8.435318</td>\n",
              "    </tr>\n",
              "    <tr>\n",
              "      <th id=\"T_935cc_level0_row3\" class=\"row_heading level0 row3\" >3</th>\n",
              "      <td id=\"T_935cc_row3_col0\" class=\"data row3 col0\" >The Lovely Bones: A Novel</td>\n",
              "      <td id=\"T_935cc_row3_col1\" class=\"data row3 col1\" >Little, Brown</td>\n",
              "      <td id=\"T_935cc_row3_col2\" class=\"data row3 col2\" >707</td>\n",
              "      <td id=\"T_935cc_row3_col3\" class=\"data row3 col3\" >8.185290</td>\n",
              "    </tr>\n",
              "    <tr>\n",
              "      <th id=\"T_935cc_level0_row4\" class=\"row_heading level0 row4\" >4</th>\n",
              "      <td id=\"T_935cc_row4_col0\" class=\"data row4 col0\" >The Red Tent (Bestselling Backlist)</td>\n",
              "      <td id=\"T_935cc_row4_col1\" class=\"data row4 col1\" >Picador USA</td>\n",
              "      <td id=\"T_935cc_row4_col2\" class=\"data row4 col2\" >383</td>\n",
              "      <td id=\"T_935cc_row4_col3\" class=\"data row4 col3\" >8.182768</td>\n",
              "    </tr>\n",
              "    <tr>\n",
              "      <th id=\"T_935cc_level0_row5\" class=\"row_heading level0 row5\" >5</th>\n",
              "      <td id=\"T_935cc_row5_col0\" class=\"data row5 col0\" >Where the Heart Is (Oprah's Book Club (Paperback))</td>\n",
              "      <td id=\"T_935cc_row5_col1\" class=\"data row5 col1\" >Warner Books</td>\n",
              "      <td id=\"T_935cc_row5_col2\" class=\"data row5 col2\" >295</td>\n",
              "      <td id=\"T_935cc_row5_col3\" class=\"data row5 col3\" >8.142373</td>\n",
              "    </tr>\n",
              "    <tr>\n",
              "      <th id=\"T_935cc_level0_row6\" class=\"row_heading level0 row6\" >6</th>\n",
              "      <td id=\"T_935cc_row6_col0\" class=\"data row6 col0\" >Angels &amp; Demons</td>\n",
              "      <td id=\"T_935cc_row6_col1\" class=\"data row6 col1\" >Pocket Star</td>\n",
              "      <td id=\"T_935cc_row6_col2\" class=\"data row6 col2\" >269</td>\n",
              "      <td id=\"T_935cc_row6_col3\" class=\"data row6 col3\" >8.100372</td>\n",
              "    </tr>\n",
              "    <tr>\n",
              "      <th id=\"T_935cc_level0_row7\" class=\"row_heading level0 row7\" >7</th>\n",
              "      <td id=\"T_935cc_row7_col0\" class=\"data row7 col0\" >Girl with a Pearl Earring</td>\n",
              "      <td id=\"T_935cc_row7_col1\" class=\"data row7 col1\" >Plume Books</td>\n",
              "      <td id=\"T_935cc_row7_col2\" class=\"data row7 col2\" >278</td>\n",
              "      <td id=\"T_935cc_row7_col3\" class=\"data row7 col3\" >7.982014</td>\n",
              "    </tr>\n",
              "    <tr>\n",
              "      <th id=\"T_935cc_level0_row8\" class=\"row_heading level0 row8\" >8</th>\n",
              "      <td id=\"T_935cc_row8_col0\" class=\"data row8 col0\" >Divine Secrets of the Ya-Ya Sisterhood: A Novel</td>\n",
              "      <td id=\"T_935cc_row8_col1\" class=\"data row8 col1\" >Perennial</td>\n",
              "      <td id=\"T_935cc_row8_col2\" class=\"data row8 col2\" >320</td>\n",
              "      <td id=\"T_935cc_row8_col3\" class=\"data row8 col3\" >7.887500</td>\n",
              "    </tr>\n",
              "    <tr>\n",
              "      <th id=\"T_935cc_level0_row9\" class=\"row_heading level0 row9\" >9</th>\n",
              "      <td id=\"T_935cc_row9_col0\" class=\"data row9 col0\" >Snow Falling on Cedars</td>\n",
              "      <td id=\"T_935cc_row9_col1\" class=\"data row9 col1\" >Vintage Books USA</td>\n",
              "      <td id=\"T_935cc_row9_col2\" class=\"data row9 col2\" >256</td>\n",
              "      <td id=\"T_935cc_row9_col3\" class=\"data row9 col3\" >7.808594</td>\n",
              "    </tr>\n",
              "  </tbody>\n",
              "</table>\n"
            ]
          },
          "metadata": {},
          "execution_count": 69
        }
      ],
      "source": [
        "cm=sns.light_palette('green',as_cmap=True)\n",
        "#Sorting books based on score calculated above\n",
        "#Printing the top 10 books\n",
        "top_selling_rated_books_summary[['Book-Title', 'Publisher', 'Total_No_Of_Users_Rated', 'Avg_Rating']].head(10).style.background_gradient(cmap=cm)"
      ]
    },
    {
      "cell_type": "markdown",
      "metadata": {
        "id": "gHEViwxgJ_0z"
      },
      "source": [
        "These are top 10 books which have highest rating and also have highest read count at the same time."
      ]
    },
    {
      "cell_type": "markdown",
      "metadata": {
        "id": "CEAkNfxGK0HE"
      },
      "source": [
        "## Recommendation for New Users on the basis of Weighted Average"
      ]
    },
    {
      "cell_type": "markdown",
      "metadata": {
        "id": "PG4DPgGxao3w"
      },
      "source": [
        "As the name suggests these top recommendation system works with the trend. It basically uses the items which are in trend right now. For example, if any book which is usually bought by every new user then there are chances that it may suggest that book to the user who just signed up.<br>\n",
        "Book weighted avg formula:<br>\n",
        "\n",
        "**Weighted Rating(WR)=[vR/(v+m)]+[mC/(v+m)]**<br>\n",
        "\n",
        "Where-:<br>\n",
        "v is the number of votes for the books;<br>\n",
        "m is the minimum votes required to be listed in the chart;<br>\n",
        "R is the average rating of the book; and<br>\n",
        "C is the mean vote across the whole report.<br>\n",
        "\n",
        "Now we have to find the values of v,m,R,C. Let's go fot it---"
      ]
    },
    {
      "cell_type": "code",
      "execution_count": 70,
      "metadata": {
        "colab": {
          "base_uri": "https://localhost:8080/"
        },
        "id": "hVJw3XY9ndOs",
        "outputId": "65bfa7bf-3f1d-46f7-9bdc-7de955cc25d1"
      },
      "outputs": [
        {
          "output_type": "stream",
          "name": "stdout",
          "text": [
            "C=7.626700569505161 , m=64.0\n"
          ]
        },
        {
          "output_type": "execute_result",
          "data": {
            "text/plain": [
              "(38570, 11)"
            ]
          },
          "metadata": {},
          "execution_count": 70
        }
      ],
      "source": [
        "#Defining C and m\n",
        "C= Final_Dataset['Avg_Rating'].mean()\n",
        "m= Final_Dataset['Total_No_Of_Users_Rated'].quantile(0.90)\n",
        "Top_Books = Final_Dataset.loc[Final_Dataset['Total_No_Of_Users_Rated'] >= m]\n",
        "print(f'C={C} , m={m}')\n",
        "Top_Books.shape"
      ]
    },
    {
      "cell_type": "markdown",
      "metadata": {
        "id": "B0EZx3plbeWe"
      },
      "source": [
        "###Explaination :\n",
        "\n",
        "In the above m variable we used 90th percentile as our cutoff. In other words, for a book to feature in the charts, it must have more votes than at least 90% of the books in the list.<br>\n",
        "\n",
        "As we saw that there are 38570 books which qualify to be in this list. Now, we need to calculate our metric for each qualified book. To do this, we will define a function, weighted_rating() and define a new feature score, of which we’ll calculate the value by applying this function to our DataFrame of qualified books:\n"
      ]
    },
    {
      "cell_type": "code",
      "execution_count": 71,
      "metadata": {
        "id": "2dswN92ROrB4"
      },
      "outputs": [],
      "source": [
        "#Make function on formula basis\n",
        "def weighted_rating(x, m=m, C=C):\n",
        "    v = x['Total_No_Of_Users_Rated']\n",
        "    R = x['Avg_Rating']\n",
        "    return (v/(v+m) * R) + (m/(m+v) * C)\n",
        "    \n",
        " \n",
        "Top_Books['Score'] = Top_Books.apply(weighted_rating,axis=1)\n",
        " \n",
        " \n",
        "#Sorting books based on score calculated above\n",
        "Top_Books = Top_Books.sort_values('Score', ascending=False)"
      ]
    },
    {
      "cell_type": "code",
      "execution_count": 72,
      "metadata": {
        "colab": {
          "base_uri": "https://localhost:8080/",
          "height": 677
        },
        "id": "ND1JhMTsSXGj",
        "outputId": "e33563c9-76f5-4c62-8647-66c6a25befd8"
      },
      "outputs": [
        {
          "output_type": "execute_result",
          "data": {
            "text/plain": [
              "<pandas.io.formats.style.Styler at 0x7fb6b3959ed0>"
            ],
            "text/html": [
              "<style type=\"text/css\">\n",
              "#T_63350_row0_col1 {\n",
              "  background-color: #a8d2a8;\n",
              "  color: #000000;\n",
              "}\n",
              "#T_63350_row0_col2 {\n",
              "  background-color: #299429;\n",
              "  color: #f1f1f1;\n",
              "}\n",
              "#T_63350_row0_col3, #T_63350_row1_col1, #T_63350_row5_col2 {\n",
              "  background-color: #008000;\n",
              "  color: #f1f1f1;\n",
              "}\n",
              "#T_63350_row1_col2 {\n",
              "  background-color: #89c389;\n",
              "  color: #000000;\n",
              "}\n",
              "#T_63350_row1_col3 {\n",
              "  background-color: #0f870f;\n",
              "  color: #f1f1f1;\n",
              "}\n",
              "#T_63350_row2_col1 {\n",
              "  background-color: #66b266;\n",
              "  color: #f1f1f1;\n",
              "}\n",
              "#T_63350_row2_col2, #T_63350_row6_col2, #T_63350_row15_col1 {\n",
              "  background-color: #6db56d;\n",
              "  color: #f1f1f1;\n",
              "}\n",
              "#T_63350_row2_col3 {\n",
              "  background-color: #188c18;\n",
              "  color: #f1f1f1;\n",
              "}\n",
              "#T_63350_row3_col1, #T_63350_row4_col2 {\n",
              "  background-color: #5fae5f;\n",
              "  color: #f1f1f1;\n",
              "}\n",
              "#T_63350_row3_col2 {\n",
              "  background-color: #87c287;\n",
              "  color: #000000;\n",
              "}\n",
              "#T_63350_row3_col3 {\n",
              "  background-color: #3c9d3c;\n",
              "  color: #f1f1f1;\n",
              "}\n",
              "#T_63350_row4_col1 {\n",
              "  background-color: #add5ad;\n",
              "  color: #000000;\n",
              "}\n",
              "#T_63350_row4_col3 {\n",
              "  background-color: #4ea64e;\n",
              "  color: #f1f1f1;\n",
              "}\n",
              "#T_63350_row5_col1 {\n",
              "  background-color: #e2efe2;\n",
              "  color: #000000;\n",
              "}\n",
              "#T_63350_row5_col3, #T_63350_row6_col3 {\n",
              "  background-color: #56aa56;\n",
              "  color: #f1f1f1;\n",
              "}\n",
              "#T_63350_row6_col1 {\n",
              "  background-color: #a5d1a5;\n",
              "  color: #000000;\n",
              "}\n",
              "#T_63350_row7_col1 {\n",
              "  background-color: #badbba;\n",
              "  color: #000000;\n",
              "}\n",
              "#T_63350_row7_col2 {\n",
              "  background-color: #7cbd7c;\n",
              "  color: #000000;\n",
              "}\n",
              "#T_63350_row7_col3 {\n",
              "  background-color: #8bc48b;\n",
              "  color: #000000;\n",
              "}\n",
              "#T_63350_row8_col1 {\n",
              "  background-color: #77ba77;\n",
              "  color: #f1f1f1;\n",
              "}\n",
              "#T_63350_row8_col2 {\n",
              "  background-color: #b7dab7;\n",
              "  color: #000000;\n",
              "}\n",
              "#T_63350_row8_col3 {\n",
              "  background-color: #95c995;\n",
              "  color: #000000;\n",
              "}\n",
              "#T_63350_row9_col1 {\n",
              "  background-color: #b3d8b3;\n",
              "  color: #000000;\n",
              "}\n",
              "#T_63350_row9_col2, #T_63350_row19_col1 {\n",
              "  background-color: #8fc68f;\n",
              "  color: #000000;\n",
              "}\n",
              "#T_63350_row9_col3 {\n",
              "  background-color: #99cb99;\n",
              "  color: #000000;\n",
              "}\n",
              "#T_63350_row10_col1 {\n",
              "  background-color: #ddecdd;\n",
              "  color: #000000;\n",
              "}\n",
              "#T_63350_row10_col2 {\n",
              "  background-color: #53a953;\n",
              "  color: #f1f1f1;\n",
              "}\n",
              "#T_63350_row10_col3 {\n",
              "  background-color: #a2cfa2;\n",
              "  color: #000000;\n",
              "}\n",
              "#T_63350_row11_col1 {\n",
              "  background-color: #c3e0c3;\n",
              "  color: #000000;\n",
              "}\n",
              "#T_63350_row11_col2 {\n",
              "  background-color: #84c184;\n",
              "  color: #000000;\n",
              "}\n",
              "#T_63350_row11_col3 {\n",
              "  background-color: #a4d0a4;\n",
              "  color: #000000;\n",
              "}\n",
              "#T_63350_row12_col1 {\n",
              "  background-color: #afd6af;\n",
              "  color: #000000;\n",
              "}\n",
              "#T_63350_row12_col2, #T_63350_row14_col2 {\n",
              "  background-color: #a6d2a6;\n",
              "  color: #000000;\n",
              "}\n",
              "#T_63350_row12_col3 {\n",
              "  background-color: #b2d7b2;\n",
              "  color: #000000;\n",
              "}\n",
              "#T_63350_row13_col1 {\n",
              "  background-color: #91c791;\n",
              "  color: #000000;\n",
              "}\n",
              "#T_63350_row13_col2 {\n",
              "  background-color: #c4e0c4;\n",
              "  color: #000000;\n",
              "}\n",
              "#T_63350_row13_col3 {\n",
              "  background-color: #bdddbd;\n",
              "  color: #000000;\n",
              "}\n",
              "#T_63350_row14_col1 {\n",
              "  background-color: #bcdcbc;\n",
              "  color: #000000;\n",
              "}\n",
              "#T_63350_row14_col3 {\n",
              "  background-color: #c6e1c6;\n",
              "  color: #000000;\n",
              "}\n",
              "#T_63350_row15_col2, #T_63350_row18_col3 {\n",
              "  background-color: #e9f2e9;\n",
              "  color: #000000;\n",
              "}\n",
              "#T_63350_row15_col3 {\n",
              "  background-color: #daebda;\n",
              "  color: #000000;\n",
              "}\n",
              "#T_63350_row16_col1, #T_63350_row18_col2, #T_63350_row19_col3 {\n",
              "  background-color: #ebf3eb;\n",
              "  color: #000000;\n",
              "}\n",
              "#T_63350_row16_col2 {\n",
              "  background-color: #61af61;\n",
              "  color: #f1f1f1;\n",
              "}\n",
              "#T_63350_row16_col3 {\n",
              "  background-color: #dcecdc;\n",
              "  color: #000000;\n",
              "}\n",
              "#T_63350_row17_col1 {\n",
              "  background-color: #e4f0e4;\n",
              "  color: #000000;\n",
              "}\n",
              "#T_63350_row17_col2 {\n",
              "  background-color: #7fbe7f;\n",
              "  color: #000000;\n",
              "}\n",
              "#T_63350_row17_col3 {\n",
              "  background-color: #e7f1e7;\n",
              "  color: #000000;\n",
              "}\n",
              "#T_63350_row18_col1 {\n",
              "  background-color: #7ebe7e;\n",
              "  color: #000000;\n",
              "}\n",
              "#T_63350_row19_col2 {\n",
              "  background-color: #e5f0e5;\n",
              "  color: #000000;\n",
              "}\n",
              "</style>\n",
              "<table id=\"T_63350_\" class=\"dataframe\">\n",
              "  <thead>\n",
              "    <tr>\n",
              "      <th class=\"blank level0\" >&nbsp;</th>\n",
              "      <th class=\"col_heading level0 col0\" >Book-Title</th>\n",
              "      <th class=\"col_heading level0 col1\" >Total_No_Of_Users_Rated</th>\n",
              "      <th class=\"col_heading level0 col2\" >Avg_Rating</th>\n",
              "      <th class=\"col_heading level0 col3\" >Score</th>\n",
              "    </tr>\n",
              "  </thead>\n",
              "  <tbody>\n",
              "    <tr>\n",
              "      <th id=\"T_63350_level0_row0\" class=\"row_heading level0 row0\" >0</th>\n",
              "      <td id=\"T_63350_row0_col0\" class=\"data row0 col0\" >Harry Potter and the Goblet of Fire (Book 4)</td>\n",
              "      <td id=\"T_63350_row0_col1\" class=\"data row0 col1\" >137</td>\n",
              "      <td id=\"T_63350_row0_col2\" class=\"data row0 col2\" >9.262774</td>\n",
              "      <td id=\"T_63350_row0_col3\" class=\"data row0 col3\" >8.741835</td>\n",
              "    </tr>\n",
              "    <tr>\n",
              "      <th id=\"T_63350_level0_row1\" class=\"row_heading level0 row1\" >1</th>\n",
              "      <td id=\"T_63350_row1_col0\" class=\"data row1 col0\" >Harry Potter and the Sorcerer's Stone (Harry Potter (Paperback))</td>\n",
              "      <td id=\"T_63350_row1_col1\" class=\"data row1 col1\" >313</td>\n",
              "      <td id=\"T_63350_row1_col2\" class=\"data row1 col2\" >8.939297</td>\n",
              "      <td id=\"T_63350_row1_col3\" class=\"data row1 col3\" >8.716469</td>\n",
              "    </tr>\n",
              "    <tr>\n",
              "      <th id=\"T_63350_level0_row2\" class=\"row_heading level0 row2\" >2</th>\n",
              "      <td id=\"T_63350_row2_col0\" class=\"data row2 col0\" >Harry Potter and the Order of the Phoenix (Book 5)</td>\n",
              "      <td id=\"T_63350_row2_col1\" class=\"data row2 col1\" >206</td>\n",
              "      <td id=\"T_63350_row2_col2\" class=\"data row2 col2\" >9.033981</td>\n",
              "      <td id=\"T_63350_row2_col3\" class=\"data row2 col3\" >8.700403</td>\n",
              "    </tr>\n",
              "    <tr>\n",
              "      <th id=\"T_63350_level0_row3\" class=\"row_heading level0 row3\" >3</th>\n",
              "      <td id=\"T_63350_row3_col0\" class=\"data row3 col0\" >To Kill a Mockingbird</td>\n",
              "      <td id=\"T_63350_row3_col1\" class=\"data row3 col1\" >214</td>\n",
              "      <td id=\"T_63350_row3_col2\" class=\"data row3 col2\" >8.943925</td>\n",
              "      <td id=\"T_63350_row3_col3\" class=\"data row3 col3\" >8.640679</td>\n",
              "    </tr>\n",
              "    <tr>\n",
              "      <th id=\"T_63350_level0_row4\" class=\"row_heading level0 row4\" >4</th>\n",
              "      <td id=\"T_63350_row4_col0\" class=\"data row4 col0\" >Harry Potter and the Prisoner of Azkaban (Book 3)</td>\n",
              "      <td id=\"T_63350_row4_col1\" class=\"data row4 col1\" >133</td>\n",
              "      <td id=\"T_63350_row4_col2\" class=\"data row4 col2\" >9.082707</td>\n",
              "      <td id=\"T_63350_row4_col3\" class=\"data row4 col3\" >8.609690</td>\n",
              "    </tr>\n",
              "    <tr>\n",
              "      <th id=\"T_63350_level0_row5\" class=\"row_heading level0 row5\" >5</th>\n",
              "      <td id=\"T_63350_row5_col0\" class=\"data row5 col0\" >The Return of the King (The Lord of the Rings, Part 3)</td>\n",
              "      <td id=\"T_63350_row5_col1\" class=\"data row5 col1\" >77</td>\n",
              "      <td id=\"T_63350_row5_col2\" class=\"data row5 col2\" >9.402597</td>\n",
              "      <td id=\"T_63350_row5_col3\" class=\"data row5 col3\" >8.596517</td>\n",
              "    </tr>\n",
              "    <tr>\n",
              "      <th id=\"T_63350_level0_row6\" class=\"row_heading level0 row6\" >6</th>\n",
              "      <td id=\"T_63350_row6_col0\" class=\"data row6 col0\" >Harry Potter and the Prisoner of Azkaban (Book 3)</td>\n",
              "      <td id=\"T_63350_row6_col1\" class=\"data row6 col1\" >141</td>\n",
              "      <td id=\"T_63350_row6_col2\" class=\"data row6 col2\" >9.035461</td>\n",
              "      <td id=\"T_63350_row6_col3\" class=\"data row6 col3\" >8.595653</td>\n",
              "    </tr>\n",
              "    <tr>\n",
              "      <th id=\"T_63350_level0_row7\" class=\"row_heading level0 row7\" >7</th>\n",
              "      <td id=\"T_63350_row7_col0\" class=\"data row7 col0\" >Harry Potter and the Sorcerer's Stone (Book 1)</td>\n",
              "      <td id=\"T_63350_row7_col1\" class=\"data row7 col1\" >119</td>\n",
              "      <td id=\"T_63350_row7_col2\" class=\"data row7 col2\" >8.983193</td>\n",
              "      <td id=\"T_63350_row7_col3\" class=\"data row7 col3\" >8.508791</td>\n",
              "    </tr>\n",
              "    <tr>\n",
              "      <th id=\"T_63350_level0_row8\" class=\"row_heading level0 row8\" >8</th>\n",
              "      <td id=\"T_63350_row8_col0\" class=\"data row8 col0\" >Harry Potter and the Chamber of Secrets (Book 2)</td>\n",
              "      <td id=\"T_63350_row8_col1\" class=\"data row8 col1\" >189</td>\n",
              "      <td id=\"T_63350_row8_col2\" class=\"data row8 col2\" >8.783069</td>\n",
              "      <td id=\"T_63350_row8_col3\" class=\"data row8 col3\" >8.490549</td>\n",
              "    </tr>\n",
              "    <tr>\n",
              "      <th id=\"T_63350_level0_row9\" class=\"row_heading level0 row9\" >9</th>\n",
              "      <td id=\"T_63350_row9_col0\" class=\"data row9 col0\" >Harry Potter and the Chamber of Secrets (Book 2)</td>\n",
              "      <td id=\"T_63350_row9_col1\" class=\"data row9 col1\" >126</td>\n",
              "      <td id=\"T_63350_row9_col2\" class=\"data row9 col2\" >8.920635</td>\n",
              "      <td id=\"T_63350_row9_col3\" class=\"data row9 col3\" >8.484783</td>\n",
              "    </tr>\n",
              "    <tr>\n",
              "      <th id=\"T_63350_level0_row10\" class=\"row_heading level0 row10\" >10</th>\n",
              "      <td id=\"T_63350_row10_col0\" class=\"data row10 col0\" >The Two Towers (The Lord of the Rings, Part 2)</td>\n",
              "      <td id=\"T_63350_row10_col1\" class=\"data row10 col1\" >83</td>\n",
              "      <td id=\"T_63350_row10_col2\" class=\"data row10 col2\" >9.120482</td>\n",
              "      <td id=\"T_63350_row10_col3\" class=\"data row10 col3\" >8.470128</td>\n",
              "    </tr>\n",
              "    <tr>\n",
              "      <th id=\"T_63350_level0_row11\" class=\"row_heading level0 row11\" >11</th>\n",
              "      <td id=\"T_63350_row11_col0\" class=\"data row11 col0\" >Harry Potter and the Goblet of Fire (Book 4)</td>\n",
              "      <td id=\"T_63350_row11_col1\" class=\"data row11 col1\" >110</td>\n",
              "      <td id=\"T_63350_row11_col2\" class=\"data row11 col2\" >8.954545</td>\n",
              "      <td id=\"T_63350_row11_col3\" class=\"data row11 col3\" >8.466143</td>\n",
              "    </tr>\n",
              "    <tr>\n",
              "      <th id=\"T_63350_level0_row12\" class=\"row_heading level0 row12\" >12</th>\n",
              "      <td id=\"T_63350_row12_col0\" class=\"data row12 col0\" >The Fellowship of the Ring (The Lord of the Rings, Part 1)</td>\n",
              "      <td id=\"T_63350_row12_col1\" class=\"data row12 col1\" >131</td>\n",
              "      <td id=\"T_63350_row12_col2\" class=\"data row12 col2\" >8.839695</td>\n",
              "      <td id=\"T_63350_row12_col3\" class=\"data row12 col3\" >8.441584</td>\n",
              "    </tr>\n",
              "    <tr>\n",
              "      <th id=\"T_63350_level0_row13\" class=\"row_heading level0 row13\" >13</th>\n",
              "      <td id=\"T_63350_row13_col0\" class=\"data row13 col0\" >The Hobbit : The Enchanting Prelude to The Lord of the Rings</td>\n",
              "      <td id=\"T_63350_row13_col1\" class=\"data row13 col1\" >161</td>\n",
              "      <td id=\"T_63350_row13_col2\" class=\"data row13 col2\" >8.739130</td>\n",
              "      <td id=\"T_63350_row13_col3\" class=\"data row13 col3\" >8.422706</td>\n",
              "    </tr>\n",
              "    <tr>\n",
              "      <th id=\"T_63350_level0_row14\" class=\"row_heading level0 row14\" >14</th>\n",
              "      <td id=\"T_63350_row14_col0\" class=\"data row14 col0\" >Ender's Game (Ender Wiggins Saga (Paperback))</td>\n",
              "      <td id=\"T_63350_row14_col1\" class=\"data row14 col1\" >117</td>\n",
              "      <td id=\"T_63350_row14_col2\" class=\"data row14 col2\" >8.837607</td>\n",
              "      <td id=\"T_63350_row14_col3\" class=\"data row14 col3\" >8.409441</td>\n",
              "    </tr>\n",
              "    <tr>\n",
              "      <th id=\"T_63350_level0_row15\" class=\"row_heading level0 row15\" >15</th>\n",
              "      <td id=\"T_63350_row15_col0\" class=\"data row15 col0\" >Tuesdays with Morrie: An Old Man, a Young Man, and Life's Greatest Lesson</td>\n",
              "      <td id=\"T_63350_row15_col1\" class=\"data row15 col1\" >200</td>\n",
              "      <td id=\"T_63350_row15_col2\" class=\"data row15 col2\" >8.615000</td>\n",
              "      <td id=\"T_63350_row15_col3\" class=\"data row15 col3\" >8.375412</td>\n",
              "    </tr>\n",
              "    <tr>\n",
              "      <th id=\"T_63350_level0_row16\" class=\"row_heading level0 row16\" >16</th>\n",
              "      <td id=\"T_63350_row16_col0\" class=\"data row16 col0\" >Charlotte's Web (Trophy Newbery)</td>\n",
              "      <td id=\"T_63350_row16_col1\" class=\"data row16 col1\" >68</td>\n",
              "      <td id=\"T_63350_row16_col2\" class=\"data row16 col2\" >9.073529</td>\n",
              "      <td id=\"T_63350_row16_col3\" class=\"data row16 col3\" >8.372037</td>\n",
              "    </tr>\n",
              "    <tr>\n",
              "      <th id=\"T_63350_level0_row17\" class=\"row_heading level0 row17\" >17</th>\n",
              "      <td id=\"T_63350_row17_col0\" class=\"data row17 col0\" >Dune (Remembering Tomorrow)</td>\n",
              "      <td id=\"T_63350_row17_col1\" class=\"data row17 col1\" >75</td>\n",
              "      <td id=\"T_63350_row17_col2\" class=\"data row17 col2\" >8.973333</td>\n",
              "      <td id=\"T_63350_row17_col3\" class=\"data row17 col3\" >8.353301</td>\n",
              "    </tr>\n",
              "    <tr>\n",
              "      <th id=\"T_63350_level0_row18\" class=\"row_heading level0 row18\" >18</th>\n",
              "      <td id=\"T_63350_row18_col0\" class=\"data row18 col0\" >A Prayer for Owen Meany</td>\n",
              "      <td id=\"T_63350_row18_col1\" class=\"data row18 col1\" >181</td>\n",
              "      <td id=\"T_63350_row18_col2\" class=\"data row18 col2\" >8.607735</td>\n",
              "      <td id=\"T_63350_row18_col3\" class=\"data row18 col3\" >8.351465</td>\n",
              "    </tr>\n",
              "    <tr>\n",
              "      <th id=\"T_63350_level0_row19\" class=\"row_heading level0 row19\" >19</th>\n",
              "      <td id=\"T_63350_row19_col0\" class=\"data row19 col0\" >Fahrenheit 451</td>\n",
              "      <td id=\"T_63350_row19_col1\" class=\"data row19 col1\" >164</td>\n",
              "      <td id=\"T_63350_row19_col2\" class=\"data row19 col2\" >8.628049</td>\n",
              "      <td id=\"T_63350_row19_col3\" class=\"data row19 col3\" >8.346969</td>\n",
              "    </tr>\n",
              "  </tbody>\n",
              "</table>\n"
            ]
          },
          "metadata": {},
          "execution_count": 72
        }
      ],
      "source": [
        "#Keeping only one entry of each book\n",
        "Top_Books=Top_Books.sort_values('Score', ascending=False).drop_duplicates('ISBN').sort_index()\n",
        "cm=sns.light_palette('green',as_cmap=True)\n",
        "#Sorting books based on score calculated above\n",
        "Top_Books = Top_Books.sort_values('Score', ascending=False)\n",
        "\n",
        "#Printing the top 20 books\n",
        "Top_Books[['Book-Title', 'Total_No_Of_Users_Rated', 'Avg_Rating', 'Score']].reset_index(drop=True).head(20).style.background_gradient(cmap=cm)"
      ]
    },
    {
      "cell_type": "markdown",
      "metadata": {
        "id": "fZvv7iAtgWiQ"
      },
      "source": [
        "These are our top books on the basis of formula base-weighted ratings."
      ]
    },
    {
      "cell_type": "markdown",
      "metadata": {
        "id": "7JvGR4cm5L0G"
      },
      "source": [
        "#**Model Based Collaborative Filtering Recommender**\n",
        "The goal of the recommender system is to predict user preference for a set of items based on the past experience. Two the most popular approaches are Content-Based and Collaborative Filtering.\n",
        "<br>Collaborative filtering is a technique used by websites like Amazon, YouTube, and Netflix. It filters out items that a user might like on the basis of reactions of similar users. There are two categories of collaborative filtering algorithms: memory based and model based.\n",
        "<br>\n",
        "Model based approach involves building machine learning algorithms to predict user's ratings. They involve dimensionality reduction methods that reduce high dimensional matrix containing abundant number of missing values with a much smaller matrix in lower-dimensional space.\n",
        "<br>\n",
        "The goal of this section is to compare SVD and NMF algorithms, try different configurations of parameters and explore obtained results."
      ]
    },
    {
      "cell_type": "markdown",
      "metadata": {
        "id": "QsnTIgtdg6wV"
      },
      "source": [
        "##Preparation"
      ]
    },
    {
      "cell_type": "code",
      "execution_count": 73,
      "metadata": {
        "id": "hfzIXezz6e8O"
      },
      "outputs": [],
      "source": [
        "import scipy\n",
        "import math\n",
        "import sklearn\n",
        "from nltk.corpus import stopwords\n",
        "from sklearn.model_selection import train_test_split\n",
        "from sklearn.feature_extraction.text import TfidfVectorizer\n",
        "from sklearn.metrics.pairwise import cosine_similarity\n",
        "from scipy.sparse.linalg import svds\n",
        "import matplotlib.pyplot as plt"
      ]
    },
    {
      "cell_type": "markdown",
      "metadata": {
        "id": "hDKR-qVE6rPm"
      },
      "source": [
        "This analysis will focus on book recommendations based on Book-Crossing dataset. To reduce the dimensionality of the dataset and avoid running into memory error we will focus on users with at least 3 ratings and top 10% most frequently rated books. \n",
        "<br>\n",
        "The recommender systems will be built using surprise package (Matrix Factorization - based models)."
      ]
    },
    {
      "cell_type": "code",
      "execution_count": 74,
      "metadata": {
        "colab": {
          "base_uri": "https://localhost:8080/",
          "height": 424
        },
        "id": "u6VufVONmqcO",
        "outputId": "8296d5ae-5221-4d88-d097-c1a7f0160d3b"
      },
      "outputs": [
        {
          "output_type": "execute_result",
          "data": {
            "text/plain": [
              "         User-ID        ISBN  Book-Rating  Avg_Rating  Total_No_Of_Users_Rated\n",
              "1         276726  0155061224            5    5.000000                        1\n",
              "3         276729  052165615X            3    3.000000                        1\n",
              "4         276729  0521795028            6    6.000000                        1\n",
              "8         276744  038550120X            7    7.580247                       81\n",
              "16        276747  0060517794            9    8.000000                       30\n",
              "...          ...         ...          ...         ...                      ...\n",
              "1149771   276704  0743211383            7    6.964912                       57\n",
              "1149773   276704  0806917695            5    5.000000                        1\n",
              "1149775   276704  1563526298            9    7.000000                        3\n",
              "1149777   276709  0515107662           10    8.444444                       18\n",
              "1149778   276721  0590442449           10    9.000000                        2\n",
              "\n",
              "[383842 rows x 5 columns]"
            ],
            "text/html": [
              "\n",
              "  <div id=\"df-1f26cc43-1d67-49bc-9847-96e1bd340135\">\n",
              "    <div class=\"colab-df-container\">\n",
              "      <div>\n",
              "<style scoped>\n",
              "    .dataframe tbody tr th:only-of-type {\n",
              "        vertical-align: middle;\n",
              "    }\n",
              "\n",
              "    .dataframe tbody tr th {\n",
              "        vertical-align: top;\n",
              "    }\n",
              "\n",
              "    .dataframe thead th {\n",
              "        text-align: right;\n",
              "    }\n",
              "</style>\n",
              "<table border=\"1\" class=\"dataframe\">\n",
              "  <thead>\n",
              "    <tr style=\"text-align: right;\">\n",
              "      <th></th>\n",
              "      <th>User-ID</th>\n",
              "      <th>ISBN</th>\n",
              "      <th>Book-Rating</th>\n",
              "      <th>Avg_Rating</th>\n",
              "      <th>Total_No_Of_Users_Rated</th>\n",
              "    </tr>\n",
              "  </thead>\n",
              "  <tbody>\n",
              "    <tr>\n",
              "      <th>1</th>\n",
              "      <td>276726</td>\n",
              "      <td>0155061224</td>\n",
              "      <td>5</td>\n",
              "      <td>5.000000</td>\n",
              "      <td>1</td>\n",
              "    </tr>\n",
              "    <tr>\n",
              "      <th>3</th>\n",
              "      <td>276729</td>\n",
              "      <td>052165615X</td>\n",
              "      <td>3</td>\n",
              "      <td>3.000000</td>\n",
              "      <td>1</td>\n",
              "    </tr>\n",
              "    <tr>\n",
              "      <th>4</th>\n",
              "      <td>276729</td>\n",
              "      <td>0521795028</td>\n",
              "      <td>6</td>\n",
              "      <td>6.000000</td>\n",
              "      <td>1</td>\n",
              "    </tr>\n",
              "    <tr>\n",
              "      <th>8</th>\n",
              "      <td>276744</td>\n",
              "      <td>038550120X</td>\n",
              "      <td>7</td>\n",
              "      <td>7.580247</td>\n",
              "      <td>81</td>\n",
              "    </tr>\n",
              "    <tr>\n",
              "      <th>16</th>\n",
              "      <td>276747</td>\n",
              "      <td>0060517794</td>\n",
              "      <td>9</td>\n",
              "      <td>8.000000</td>\n",
              "      <td>30</td>\n",
              "    </tr>\n",
              "    <tr>\n",
              "      <th>...</th>\n",
              "      <td>...</td>\n",
              "      <td>...</td>\n",
              "      <td>...</td>\n",
              "      <td>...</td>\n",
              "      <td>...</td>\n",
              "    </tr>\n",
              "    <tr>\n",
              "      <th>1149771</th>\n",
              "      <td>276704</td>\n",
              "      <td>0743211383</td>\n",
              "      <td>7</td>\n",
              "      <td>6.964912</td>\n",
              "      <td>57</td>\n",
              "    </tr>\n",
              "    <tr>\n",
              "      <th>1149773</th>\n",
              "      <td>276704</td>\n",
              "      <td>0806917695</td>\n",
              "      <td>5</td>\n",
              "      <td>5.000000</td>\n",
              "      <td>1</td>\n",
              "    </tr>\n",
              "    <tr>\n",
              "      <th>1149775</th>\n",
              "      <td>276704</td>\n",
              "      <td>1563526298</td>\n",
              "      <td>9</td>\n",
              "      <td>7.000000</td>\n",
              "      <td>3</td>\n",
              "    </tr>\n",
              "    <tr>\n",
              "      <th>1149777</th>\n",
              "      <td>276709</td>\n",
              "      <td>0515107662</td>\n",
              "      <td>10</td>\n",
              "      <td>8.444444</td>\n",
              "      <td>18</td>\n",
              "    </tr>\n",
              "    <tr>\n",
              "      <th>1149778</th>\n",
              "      <td>276721</td>\n",
              "      <td>0590442449</td>\n",
              "      <td>10</td>\n",
              "      <td>9.000000</td>\n",
              "      <td>2</td>\n",
              "    </tr>\n",
              "  </tbody>\n",
              "</table>\n",
              "<p>383842 rows × 5 columns</p>\n",
              "</div>\n",
              "      <button class=\"colab-df-convert\" onclick=\"convertToInteractive('df-1f26cc43-1d67-49bc-9847-96e1bd340135')\"\n",
              "              title=\"Convert this dataframe to an interactive table.\"\n",
              "              style=\"display:none;\">\n",
              "        \n",
              "  <svg xmlns=\"http://www.w3.org/2000/svg\" height=\"24px\"viewBox=\"0 0 24 24\"\n",
              "       width=\"24px\">\n",
              "    <path d=\"M0 0h24v24H0V0z\" fill=\"none\"/>\n",
              "    <path d=\"M18.56 5.44l.94 2.06.94-2.06 2.06-.94-2.06-.94-.94-2.06-.94 2.06-2.06.94zm-11 1L8.5 8.5l.94-2.06 2.06-.94-2.06-.94L8.5 2.5l-.94 2.06-2.06.94zm10 10l.94 2.06.94-2.06 2.06-.94-2.06-.94-.94-2.06-.94 2.06-2.06.94z\"/><path d=\"M17.41 7.96l-1.37-1.37c-.4-.4-.92-.59-1.43-.59-.52 0-1.04.2-1.43.59L10.3 9.45l-7.72 7.72c-.78.78-.78 2.05 0 2.83L4 21.41c.39.39.9.59 1.41.59.51 0 1.02-.2 1.41-.59l7.78-7.78 2.81-2.81c.8-.78.8-2.07 0-2.86zM5.41 20L4 18.59l7.72-7.72 1.47 1.35L5.41 20z\"/>\n",
              "  </svg>\n",
              "      </button>\n",
              "      \n",
              "  <style>\n",
              "    .colab-df-container {\n",
              "      display:flex;\n",
              "      flex-wrap:wrap;\n",
              "      gap: 12px;\n",
              "    }\n",
              "\n",
              "    .colab-df-convert {\n",
              "      background-color: #E8F0FE;\n",
              "      border: none;\n",
              "      border-radius: 50%;\n",
              "      cursor: pointer;\n",
              "      display: none;\n",
              "      fill: #1967D2;\n",
              "      height: 32px;\n",
              "      padding: 0 0 0 0;\n",
              "      width: 32px;\n",
              "    }\n",
              "\n",
              "    .colab-df-convert:hover {\n",
              "      background-color: #E2EBFA;\n",
              "      box-shadow: 0px 1px 2px rgba(60, 64, 67, 0.3), 0px 1px 3px 1px rgba(60, 64, 67, 0.15);\n",
              "      fill: #174EA6;\n",
              "    }\n",
              "\n",
              "    [theme=dark] .colab-df-convert {\n",
              "      background-color: #3B4455;\n",
              "      fill: #D2E3FC;\n",
              "    }\n",
              "\n",
              "    [theme=dark] .colab-df-convert:hover {\n",
              "      background-color: #434B5C;\n",
              "      box-shadow: 0px 1px 3px 1px rgba(0, 0, 0, 0.15);\n",
              "      filter: drop-shadow(0px 1px 2px rgba(0, 0, 0, 0.3));\n",
              "      fill: #FFFFFF;\n",
              "    }\n",
              "  </style>\n",
              "\n",
              "      <script>\n",
              "        const buttonEl =\n",
              "          document.querySelector('#df-1f26cc43-1d67-49bc-9847-96e1bd340135 button.colab-df-convert');\n",
              "        buttonEl.style.display =\n",
              "          google.colab.kernel.accessAllowed ? 'block' : 'none';\n",
              "\n",
              "        async function convertToInteractive(key) {\n",
              "          const element = document.querySelector('#df-1f26cc43-1d67-49bc-9847-96e1bd340135');\n",
              "          const dataTable =\n",
              "            await google.colab.kernel.invokeFunction('convertToInteractive',\n",
              "                                                     [key], {});\n",
              "          if (!dataTable) return;\n",
              "\n",
              "          const docLinkHtml = 'Like what you see? Visit the ' +\n",
              "            '<a target=\"_blank\" href=https://colab.research.google.com/notebooks/data_table.ipynb>data table notebook</a>'\n",
              "            + ' to learn more about interactive tables.';\n",
              "          element.innerHTML = '';\n",
              "          dataTable['output_type'] = 'display_data';\n",
              "          await google.colab.output.renderOutput(dataTable, element);\n",
              "          const docLink = document.createElement('div');\n",
              "          docLink.innerHTML = docLinkHtml;\n",
              "          element.appendChild(docLink);\n",
              "        }\n",
              "      </script>\n",
              "    </div>\n",
              "  </div>\n",
              "  "
            ]
          },
          "metadata": {},
          "execution_count": 74
        }
      ],
      "source": [
        "ratings_explicit"
      ]
    },
    {
      "cell_type": "code",
      "execution_count": 75,
      "metadata": {
        "id": "YdHejqsAY3xe"
      },
      "outputs": [],
      "source": [
        "#Rename the columns for easiness of understanding  \n",
        "ratings_explicit.rename(columns = {'User-ID':'user_id' ,'ISBN':'isbn' ,'Book-Rating':'book_rating'},inplace=True)"
      ]
    },
    {
      "cell_type": "code",
      "execution_count": 76,
      "metadata": {
        "colab": {
          "base_uri": "https://localhost:8080/"
        },
        "id": "VL3dbmYDY3uD",
        "outputId": "b7afa159-9bbd-4095-a5c9-535d1eb5e9eb"
      },
      "outputs": [
        {
          "output_type": "stream",
          "name": "stdout",
          "text": [
            "Filter: users with at least 3 ratings\n",
            "Number of records: 327271\n"
          ]
        }
      ],
      "source": [
        "user_ratings_threshold = 3\n",
        "\n",
        "filter_users = ratings_explicit['user_id'].value_counts()\n",
        "filter_users_list = filter_users[filter_users >= user_ratings_threshold].index.to_list()\n",
        "\n",
        "df_ratings_top = ratings_explicit[ratings_explicit['user_id'].isin(filter_users_list)]\n",
        "\n",
        "print('Filter: users with at least %d ratings\\nNumber of records: %d' % (user_ratings_threshold, len(df_ratings_top)))"
      ]
    },
    {
      "cell_type": "code",
      "execution_count": 77,
      "metadata": {
        "colab": {
          "base_uri": "https://localhost:8080/"
        },
        "id": "flCZg72xY3nj",
        "outputId": "13aaea04-9e62-4cf8-fd50-fbda1b82188e"
      },
      "outputs": [
        {
          "output_type": "stream",
          "name": "stdout",
          "text": [
            "Filter: top 10% most frequently rated books\n",
            "Number of records: 160787\n"
          ]
        }
      ],
      "source": [
        "book_ratings_threshold_perc = 0.1\n",
        "book_ratings_threshold = len(df_ratings_top['isbn'].unique()) * book_ratings_threshold_perc\n",
        "\n",
        "filter_books_list = df_ratings_top['isbn'].value_counts().head(int(book_ratings_threshold)).index.to_list()\n",
        "df_ratings_top = df_ratings_top[df_ratings_top['isbn'].isin(filter_books_list)]\n",
        "\n",
        "print('Filter: top %d%% most frequently rated books\\nNumber of records: %d' % (book_ratings_threshold_perc*100, len(df_ratings_top)))"
      ]
    },
    {
      "cell_type": "markdown",
      "metadata": {
        "id": "IHO_ItjQhGTT"
      },
      "source": [
        "\n",
        "\n",
        "##SVD and NMF models comparison"
      ]
    },
    {
      "cell_type": "markdown",
      "metadata": {
        "id": "_qfRBBg97uzy"
      },
      "source": [
        "Singular Value Decomposition (SVD) and Non-negative Matrix Factorization (NMF) are matrix factorization techniques used for dimensionality reduction. Surprise package provides implementation of those algorithms.\n"
      ]
    },
    {
      "cell_type": "code",
      "execution_count": 78,
      "metadata": {
        "colab": {
          "base_uri": "https://localhost:8080/"
        },
        "id": "0vXuL3C9RWBw",
        "outputId": "0cd24acb-b32f-46ec-ae2d-69bcaabb0112"
      },
      "outputs": [
        {
          "output_type": "stream",
          "name": "stdout",
          "text": [
            "Looking in indexes: https://pypi.org/simple, https://us-python.pkg.dev/colab-wheels/public/simple/\n",
            "Collecting surprise\n",
            "  Downloading surprise-0.1-py2.py3-none-any.whl (1.8 kB)\n",
            "Collecting scikit-surprise\n",
            "  Downloading scikit-surprise-1.1.1.tar.gz (11.8 MB)\n",
            "\u001b[K     |████████████████████████████████| 11.8 MB 4.1 MB/s \n",
            "\u001b[?25hRequirement already satisfied: joblib>=0.11 in /usr/local/lib/python3.7/dist-packages (from scikit-surprise->surprise) (1.1.0)\n",
            "Requirement already satisfied: numpy>=1.11.2 in /usr/local/lib/python3.7/dist-packages (from scikit-surprise->surprise) (1.21.6)\n",
            "Requirement already satisfied: scipy>=1.0.0 in /usr/local/lib/python3.7/dist-packages (from scikit-surprise->surprise) (1.7.3)\n",
            "Requirement already satisfied: six>=1.10.0 in /usr/local/lib/python3.7/dist-packages (from scikit-surprise->surprise) (1.15.0)\n",
            "Building wheels for collected packages: scikit-surprise\n",
            "  Building wheel for scikit-surprise (setup.py) ... \u001b[?25l\u001b[?25hdone\n",
            "  Created wheel for scikit-surprise: filename=scikit_surprise-1.1.1-cp37-cp37m-linux_x86_64.whl size=1633986 sha256=f4bd4c445570886d4eae02e0359d4cf47d80511a9dff86aff9c070666dab0a35\n",
            "  Stored in directory: /root/.cache/pip/wheels/76/44/74/b498c42be47b2406bd27994e16c5188e337c657025ab400c1c\n",
            "Successfully built scikit-surprise\n",
            "Installing collected packages: scikit-surprise, surprise\n",
            "Successfully installed scikit-surprise-1.1.1 surprise-0.1\n"
          ]
        }
      ],
      "source": [
        "pip install surprise"
      ]
    },
    {
      "cell_type": "code",
      "execution_count": 79,
      "metadata": {
        "id": "nU9i3PziRWEH"
      },
      "outputs": [],
      "source": [
        "from surprise import Dataset, Reader\n",
        "from surprise import SVD, NMF\n",
        "from surprise.model_selection import cross_validate, train_test_split, GridSearchCV"
      ]
    },
    {
      "cell_type": "code",
      "execution_count": 80,
      "metadata": {
        "id": "J4vhH0-FRV-5"
      },
      "outputs": [],
      "source": [
        "df=df_ratings_top.copy()\n",
        "reader = Reader(rating_scale=(1, 10))\n",
        "data = Dataset.load_from_df(df[['user_id', 'isbn', 'book_rating']], reader)"
      ]
    },
    {
      "cell_type": "code",
      "execution_count": 81,
      "metadata": {
        "colab": {
          "base_uri": "https://localhost:8080/"
        },
        "id": "l_UpVJqIBldE",
        "outputId": "10f48961-41ae-4cec-f443-3e2d0ebe3d65"
      },
      "outputs": [
        {
          "output_type": "execute_result",
          "data": {
            "text/plain": [
              "<surprise.dataset.DatasetAutoFolds at 0x7fb6b2aebe10>"
            ]
          },
          "metadata": {},
          "execution_count": 81
        }
      ],
      "source": [
        "data"
      ]
    },
    {
      "cell_type": "code",
      "execution_count": 82,
      "metadata": {
        "colab": {
          "base_uri": "https://localhost:8080/"
        },
        "id": "Ty60HiULVuGt",
        "outputId": "60bf92cc-96dc-417b-8ae6-16ff37db4ad2"
      },
      "outputs": [
        {
          "output_type": "execute_result",
          "data": {
            "text/plain": [
              "test_rmse     1.600470\n",
              "test_mae      1.238534\n",
              "fit_time     10.343655\n",
              "test_time     0.929151\n",
              "dtype: float64"
            ]
          },
          "metadata": {},
          "execution_count": 82
        }
      ],
      "source": [
        "model_svd = SVD()\n",
        "cv_results_svd = cross_validate(model_svd, data, cv=3)\n",
        "pd.DataFrame(cv_results_svd).mean()"
      ]
    },
    {
      "cell_type": "code",
      "execution_count": 83,
      "metadata": {
        "colab": {
          "base_uri": "https://localhost:8080/"
        },
        "id": "s9Z2XE0RWCLv",
        "outputId": "932c6375-c1eb-4768-a2e0-5393db23c294"
      },
      "outputs": [
        {
          "output_type": "execute_result",
          "data": {
            "text/plain": [
              "test_rmse     2.618939\n",
              "test_mae      2.234966\n",
              "fit_time     11.548717\n",
              "test_time     0.656570\n",
              "dtype: float64"
            ]
          },
          "metadata": {},
          "execution_count": 83
        }
      ],
      "source": [
        "model_nmf = NMF()\n",
        "cv_results_nmf = cross_validate(model_nmf, data, cv=3)\n",
        "pd.DataFrame(cv_results_nmf).mean()"
      ]
    },
    {
      "cell_type": "markdown",
      "metadata": {
        "id": "IgQi0aJhL8zS"
      },
      "source": [
        "\n",
        "It's clear that for the given dataset much better results can be obtained with SVD approach - both in terms of accuracy and training / testing time."
      ]
    },
    {
      "cell_type": "markdown",
      "metadata": {
        "id": "4SQwntNC8UPa"
      },
      "source": [
        "##**Optimisation of SVD algorithm**<br>\n",
        "Grid Search Cross Validation computes accuracy metrics for an algorithm on various combinations of parameters, over a cross-validation procedure. It's useful for finding the best configuration of parameters.\n",
        "<br>\n",
        "It is used to find the best setting of parameters:\n",
        "<br>\n",
        "n_factors - the number of factors<br>\n",
        "n_epochs - the number of iteration of the SGD procedure<br>\n",
        "lr_all - the learning rate for all parameters<br>\n",
        "reg_all - the regularization term for all parameters<br>\n",
        "As a result, regarding the majority of parameters, the default setting is the most optimal one."
      ]
    },
    {
      "cell_type": "code",
      "execution_count": 84,
      "metadata": {
        "id": "F0N0x73VWZXU",
        "colab": {
          "base_uri": "https://localhost:8080/"
        },
        "outputId": "a44a1e8c-da56-46e1-d075-e240d8fb1355"
      },
      "outputs": [
        {
          "output_type": "stream",
          "name": "stdout",
          "text": [
            "1.5959573620227523\n",
            "{'n_factors': 80, 'n_epochs': 20, 'lr_all': 0.005, 'reg_all': 0.2}\n"
          ]
        }
      ],
      "source": [
        "param_grid = {'n_factors': [80,100],\n",
        "              'n_epochs': [5, 20],\n",
        "              'lr_all': [0.002, 0.005],\n",
        "              'reg_all': [0.2, 0.4]}\n",
        "\n",
        "gs = GridSearchCV(SVD, param_grid, measures=['rmse', 'mae'], cv=3)\n",
        "gs.fit(data)\n",
        "\n",
        "print(gs.best_score['rmse'])\n",
        "print(gs.best_params['rmse'])"
      ]
    },
    {
      "cell_type": "markdown",
      "metadata": {
        "id": "ZXl3UAwPBeFe"
      },
      "source": [
        " The improvement obtained with Grid Search is very small."
      ]
    },
    {
      "cell_type": "markdown",
      "metadata": {
        "id": "DV2BIk4A881O"
      },
      "source": [
        "\n",
        "Analysis of Collaborative Filtering model results\n",
        "In this part, let's examine in detail the results obtained by the SVD model that provided the best RMSE score."
      ]
    },
    {
      "cell_type": "markdown",
      "metadata": {
        "id": "6LUB9sNFCxkA"
      },
      "source": [
        "##Analysis of Collaborative Filtering model-based results-\n",
        "In this part, let's examine in detail the results obtained by the SVD model that provided the best RMSE score."
      ]
    },
    {
      "cell_type": "code",
      "execution_count": 85,
      "metadata": {
        "id": "2apZo8CkW1p7"
      },
      "outputs": [],
      "source": [
        "trainset, testset = train_test_split(data, test_size=0.2)\n",
        "\n",
        "model = SVD(n_factors=80, n_epochs=20, lr_all=0.005, reg_all=0.2)\n",
        "model.fit(trainset)\n",
        "predictions = model.test(testset)"
      ]
    },
    {
      "cell_type": "code",
      "execution_count": 86,
      "metadata": {
        "id": "eBQ6xFOlfenD",
        "colab": {
          "base_uri": "https://localhost:8080/",
          "height": 206
        },
        "outputId": "624632d4-9d49-4e49-e4d2-1cd6bddec064"
      },
      "outputs": [
        {
          "output_type": "execute_result",
          "data": {
            "text/plain": [
              "       user_id        isbn  actual_rating  pred_rating  impossible  \\\n",
              "26798   150617  006091565X            7.0     7.328616       False   \n",
              "28750   188010  0062502182            6.0     7.876812       False   \n",
              "3107     11676  0425148297           10.0     7.284223       False   \n",
              "18708    75591  0385475713           10.0     8.491529       False   \n",
              "15853   269738  0380780860            8.0     7.375691       False   \n",
              "\n",
              "       pred_rating_round   abs_err  \n",
              "26798                7.0  0.328616  \n",
              "28750                8.0  1.876812  \n",
              "3107                 7.0  2.715777  \n",
              "18708                8.0  1.508471  \n",
              "15853                7.0  0.624309  "
            ],
            "text/html": [
              "\n",
              "  <div id=\"df-3dc131ff-5012-47e7-a274-d2a96df11c42\">\n",
              "    <div class=\"colab-df-container\">\n",
              "      <div>\n",
              "<style scoped>\n",
              "    .dataframe tbody tr th:only-of-type {\n",
              "        vertical-align: middle;\n",
              "    }\n",
              "\n",
              "    .dataframe tbody tr th {\n",
              "        vertical-align: top;\n",
              "    }\n",
              "\n",
              "    .dataframe thead th {\n",
              "        text-align: right;\n",
              "    }\n",
              "</style>\n",
              "<table border=\"1\" class=\"dataframe\">\n",
              "  <thead>\n",
              "    <tr style=\"text-align: right;\">\n",
              "      <th></th>\n",
              "      <th>user_id</th>\n",
              "      <th>isbn</th>\n",
              "      <th>actual_rating</th>\n",
              "      <th>pred_rating</th>\n",
              "      <th>impossible</th>\n",
              "      <th>pred_rating_round</th>\n",
              "      <th>abs_err</th>\n",
              "    </tr>\n",
              "  </thead>\n",
              "  <tbody>\n",
              "    <tr>\n",
              "      <th>26798</th>\n",
              "      <td>150617</td>\n",
              "      <td>006091565X</td>\n",
              "      <td>7.0</td>\n",
              "      <td>7.328616</td>\n",
              "      <td>False</td>\n",
              "      <td>7.0</td>\n",
              "      <td>0.328616</td>\n",
              "    </tr>\n",
              "    <tr>\n",
              "      <th>28750</th>\n",
              "      <td>188010</td>\n",
              "      <td>0062502182</td>\n",
              "      <td>6.0</td>\n",
              "      <td>7.876812</td>\n",
              "      <td>False</td>\n",
              "      <td>8.0</td>\n",
              "      <td>1.876812</td>\n",
              "    </tr>\n",
              "    <tr>\n",
              "      <th>3107</th>\n",
              "      <td>11676</td>\n",
              "      <td>0425148297</td>\n",
              "      <td>10.0</td>\n",
              "      <td>7.284223</td>\n",
              "      <td>False</td>\n",
              "      <td>7.0</td>\n",
              "      <td>2.715777</td>\n",
              "    </tr>\n",
              "    <tr>\n",
              "      <th>18708</th>\n",
              "      <td>75591</td>\n",
              "      <td>0385475713</td>\n",
              "      <td>10.0</td>\n",
              "      <td>8.491529</td>\n",
              "      <td>False</td>\n",
              "      <td>8.0</td>\n",
              "      <td>1.508471</td>\n",
              "    </tr>\n",
              "    <tr>\n",
              "      <th>15853</th>\n",
              "      <td>269738</td>\n",
              "      <td>0380780860</td>\n",
              "      <td>8.0</td>\n",
              "      <td>7.375691</td>\n",
              "      <td>False</td>\n",
              "      <td>7.0</td>\n",
              "      <td>0.624309</td>\n",
              "    </tr>\n",
              "  </tbody>\n",
              "</table>\n",
              "</div>\n",
              "      <button class=\"colab-df-convert\" onclick=\"convertToInteractive('df-3dc131ff-5012-47e7-a274-d2a96df11c42')\"\n",
              "              title=\"Convert this dataframe to an interactive table.\"\n",
              "              style=\"display:none;\">\n",
              "        \n",
              "  <svg xmlns=\"http://www.w3.org/2000/svg\" height=\"24px\"viewBox=\"0 0 24 24\"\n",
              "       width=\"24px\">\n",
              "    <path d=\"M0 0h24v24H0V0z\" fill=\"none\"/>\n",
              "    <path d=\"M18.56 5.44l.94 2.06.94-2.06 2.06-.94-2.06-.94-.94-2.06-.94 2.06-2.06.94zm-11 1L8.5 8.5l.94-2.06 2.06-.94-2.06-.94L8.5 2.5l-.94 2.06-2.06.94zm10 10l.94 2.06.94-2.06 2.06-.94-2.06-.94-.94-2.06-.94 2.06-2.06.94z\"/><path d=\"M17.41 7.96l-1.37-1.37c-.4-.4-.92-.59-1.43-.59-.52 0-1.04.2-1.43.59L10.3 9.45l-7.72 7.72c-.78.78-.78 2.05 0 2.83L4 21.41c.39.39.9.59 1.41.59.51 0 1.02-.2 1.41-.59l7.78-7.78 2.81-2.81c.8-.78.8-2.07 0-2.86zM5.41 20L4 18.59l7.72-7.72 1.47 1.35L5.41 20z\"/>\n",
              "  </svg>\n",
              "      </button>\n",
              "      \n",
              "  <style>\n",
              "    .colab-df-container {\n",
              "      display:flex;\n",
              "      flex-wrap:wrap;\n",
              "      gap: 12px;\n",
              "    }\n",
              "\n",
              "    .colab-df-convert {\n",
              "      background-color: #E8F0FE;\n",
              "      border: none;\n",
              "      border-radius: 50%;\n",
              "      cursor: pointer;\n",
              "      display: none;\n",
              "      fill: #1967D2;\n",
              "      height: 32px;\n",
              "      padding: 0 0 0 0;\n",
              "      width: 32px;\n",
              "    }\n",
              "\n",
              "    .colab-df-convert:hover {\n",
              "      background-color: #E2EBFA;\n",
              "      box-shadow: 0px 1px 2px rgba(60, 64, 67, 0.3), 0px 1px 3px 1px rgba(60, 64, 67, 0.15);\n",
              "      fill: #174EA6;\n",
              "    }\n",
              "\n",
              "    [theme=dark] .colab-df-convert {\n",
              "      background-color: #3B4455;\n",
              "      fill: #D2E3FC;\n",
              "    }\n",
              "\n",
              "    [theme=dark] .colab-df-convert:hover {\n",
              "      background-color: #434B5C;\n",
              "      box-shadow: 0px 1px 3px 1px rgba(0, 0, 0, 0.15);\n",
              "      filter: drop-shadow(0px 1px 2px rgba(0, 0, 0, 0.3));\n",
              "      fill: #FFFFFF;\n",
              "    }\n",
              "  </style>\n",
              "\n",
              "      <script>\n",
              "        const buttonEl =\n",
              "          document.querySelector('#df-3dc131ff-5012-47e7-a274-d2a96df11c42 button.colab-df-convert');\n",
              "        buttonEl.style.display =\n",
              "          google.colab.kernel.accessAllowed ? 'block' : 'none';\n",
              "\n",
              "        async function convertToInteractive(key) {\n",
              "          const element = document.querySelector('#df-3dc131ff-5012-47e7-a274-d2a96df11c42');\n",
              "          const dataTable =\n",
              "            await google.colab.kernel.invokeFunction('convertToInteractive',\n",
              "                                                     [key], {});\n",
              "          if (!dataTable) return;\n",
              "\n",
              "          const docLinkHtml = 'Like what you see? Visit the ' +\n",
              "            '<a target=\"_blank\" href=https://colab.research.google.com/notebooks/data_table.ipynb>data table notebook</a>'\n",
              "            + ' to learn more about interactive tables.';\n",
              "          element.innerHTML = '';\n",
              "          dataTable['output_type'] = 'display_data';\n",
              "          await google.colab.output.renderOutput(dataTable, element);\n",
              "          const docLink = document.createElement('div');\n",
              "          docLink.innerHTML = docLinkHtml;\n",
              "          element.appendChild(docLink);\n",
              "        }\n",
              "      </script>\n",
              "    </div>\n",
              "  </div>\n",
              "  "
            ]
          },
          "metadata": {},
          "execution_count": 86
        }
      ],
      "source": [
        "df_pred = pd.DataFrame(predictions, columns=['user_id', 'isbn', 'actual_rating', 'pred_rating', 'details'])\n",
        "df_pred['impossible'] = df_pred['details'].apply(lambda x: x['was_impossible'])\n",
        "df_pred['pred_rating_round'] = df_pred['pred_rating'].round()\n",
        "df_pred['abs_err'] = abs(df_pred['pred_rating'] - df_pred['actual_rating'])\n",
        "df_pred.drop(['details'], axis=1, inplace=True)\n",
        "df_pred.sample(5)"
      ]
    },
    {
      "cell_type": "markdown",
      "metadata": {
        "id": "Pui-I5LJ9POQ"
      },
      "source": [
        "Distribution of actual and predicted ratings in the test set\n",
        "According to the distribution of actual ratings of books in the test set, the biggest part of users give positive scores - between 7 and 10. The mode equals 8 but count of ratings 7, 9, 10 is also noticeable. The distribution of predicted ratings in the test set is visibly different. One more time, 8 is a mode but scores 7, 9 and 10 are clearly less frequent.\n",
        "<br>\n",
        "It shows that the recommender system is not perfect and it cannot reflect the real distribution of book ratings."
      ]
    },
    {
      "cell_type": "code",
      "execution_count": 87,
      "metadata": {
        "id": "TfKdkITjfr7R",
        "colab": {
          "base_uri": "https://localhost:8080/",
          "height": 325
        },
        "outputId": "1a363374-b608-4432-d916-de986f471836"
      },
      "outputs": [
        {
          "output_type": "display_data",
          "data": {
            "text/plain": [
              "<Figure size 1008x288 with 2 Axes>"
            ],
            "image/png": "[encoded data removed]"
          },
          "metadata": {}
        }
      ],
      "source": [
        "palette = sns.color_palette(\"RdBu\", 10)\n",
        "fig, (ax1, ax2) = plt.subplots(nrows=1, ncols=2, figsize=(14, 4))\n",
        "\n",
        "sns.countplot(x='actual_rating', data=df_pred, palette=palette, ax=ax1)\n",
        "ax1.set_title('Distribution of actual ratings of books in the test set')\n",
        "\n",
        "sns.countplot(x='pred_rating_round', data=df_pred, palette=palette, ax=ax2)\n",
        "ax2.set_title('Distribution of predicted ratings of books in the test set')\n",
        "\n",
        "plt.show()"
      ]
    },
    {
      "cell_type": "markdown",
      "metadata": {
        "id": "0uE6qph990dI"
      },
      "source": [
        "Absolute error of predicted ratings**<br>\n",
        "The distribution of absolute errors is right-skewed, showing that the majority of errors is small: between 0 and 1. There is a long tail that indicates that there are several observations for which the absolute error was close to 10.\n",
        "<br>\n",
        "How good/bad the model is with predicting certain scores? As expected from the above charts, the model deals very well with predicting score = 8 (the most frequent value). The further the rating from score = 8, the higher the absolute error. The biggest errors happen to observations with scores 1 or 2 which indicates that probably the model is predicting high ratings for those observations."
      ]
    },
    {
      "cell_type": "code",
      "execution_count": 88,
      "metadata": {
        "id": "9zPy4eb1fykN",
        "colab": {
          "base_uri": "https://localhost:8080/",
          "height": 325
        },
        "outputId": "90dfb420-3327-4d2b-9ff2-1f0e99c11b01"
      },
      "outputs": [
        {
          "output_type": "display_data",
          "data": {
            "text/plain": [
              "<Figure size 1008x288 with 2 Axes>"
            ],
            "image/png": "[encoded data removed]"
          },
          "metadata": {}
        }
      ],
      "source": [
        "df_pred_err = df_pred.groupby('actual_rating')['abs_err'].mean().reset_index()\n",
        "\n",
        "fig, (ax1, ax2) = plt.subplots(nrows=1, ncols=2, figsize=(14, 4))\n",
        "\n",
        "sns.distplot(df_pred['abs_err'], color='#2f6194', ax=ax1)\n",
        "ax1.set_title('Distribution of absolute error in test set')\n",
        "\n",
        "sns.barplot(x='actual_rating', y='abs_err', data=df_pred_err, palette=palette, ax=ax2)\n",
        "ax2.set_title('Mean absolute error for rating in test set')\n",
        "\n",
        "plt.show()"
      ]
    },
    {
      "cell_type": "markdown",
      "metadata": {
        "id": "MsXaOOvW-IkT"
      },
      "source": [
        "\n",
        "Analysis of predicted ratings of a particular user<br>\n",
        "For this part of the analysis, the user with id 193458 was selected. By analyzing book ratings by this user, it can be noted that he/she likes diverse types of readings: English romantic novels (Pride and Prejudice, Sense and Sensibility), fantasy (Narnia) as well as historical novels (Schindler's List). Among the recommended books there are other works from Narnia's series, two historical novels and one romance which correlates with user's previous preferences."
      ]
    },
    {
      "cell_type": "code",
      "execution_count": 89,
      "metadata": {
        "id": "xvTzeXGff1LX"
      },
      "outputs": [],
      "source": [
        "df_books = books.copy()\n",
        "df_books.rename(columns = {'ISBN':'isbn' ,'Book-Title':'book_title'},inplace=True)\n",
        "df_ext = df.merge(df_books[['isbn', 'book_title']], on='isbn', how='left')\n",
        "df_ext = df_ext.merge(df_pred[['isbn', 'user_id', 'pred_rating']], on=['isbn', 'user_id'], how='left')"
      ]
    },
    {
      "cell_type": "code",
      "execution_count": 90,
      "metadata": {
        "id": "hnghTSjDl3dw",
        "colab": {
          "base_uri": "https://localhost:8080/",
          "height": 424
        },
        "outputId": "677c9a09-051e-4bba-82db-1a01ac991310"
      },
      "outputs": [
        {
          "output_type": "execute_result",
          "data": {
            "text/plain": [
              "        user_id        isbn  book_rating  Avg_Rating  Total_No_Of_Users_Rated  \\\n",
              "0        276747  0060517794            9    8.000000                       30   \n",
              "1        276747  0671537458            9    7.176471                       17   \n",
              "2        276747  0679776818            8    7.476190                       21   \n",
              "3        276772  0553572369            7    6.625000                        8   \n",
              "4        276772  3499230933           10    7.166667                        6   \n",
              "...         ...         ...          ...         ...                      ...   \n",
              "160782   276688  0836218655           10    8.086957                       23   \n",
              "160783   276688  0836236688           10    8.333333                       15   \n",
              "160784   276688  1551669315            6    7.200000                        5   \n",
              "160785   276704  0345386108            6    6.852941                       34   \n",
              "160786   276704  0743211383            7    6.964912                       57   \n",
              "\n",
              "                                               book_title  pred_rating  \n",
              "0                                Little Altars Everywhere     8.037790  \n",
              "1                                       Waiting to Exhale          NaN  \n",
              "2                       Birdsong: A Novel of Love and War          NaN  \n",
              "3            Pay Dirt (Mrs. Murphy Mysteries (Paperback))     7.635369  \n",
              "4                                     Adressat unbekannt.          NaN  \n",
              "...                                                   ...          ...  \n",
              "160782                                     Wiener Dog Art          NaN  \n",
              "160783  Dilbert: Seven Years Of Highly Defective Peopl...     8.175542  \n",
              "160784                                     The Third Wife          NaN  \n",
              "160785                                        Winter Moon     7.418691  \n",
              "160786                                       Dreamcatcher          NaN  \n",
              "\n",
              "[160787 rows x 7 columns]"
            ],
            "text/html": [
              "\n",
              "  <div id=\"df-e680532b-7b49-495a-a435-a1105810a818\">\n",
              "    <div class=\"colab-df-container\">\n",
              "      <div>\n",
              "<style scoped>\n",
              "    .dataframe tbody tr th:only-of-type {\n",
              "        vertical-align: middle;\n",
              "    }\n",
              "\n",
              "    .dataframe tbody tr th {\n",
              "        vertical-align: top;\n",
              "    }\n",
              "\n",
              "    .dataframe thead th {\n",
              "        text-align: right;\n",
              "    }\n",
              "</style>\n",
              "<table border=\"1\" class=\"dataframe\">\n",
              "  <thead>\n",
              "    <tr style=\"text-align: right;\">\n",
              "      <th></th>\n",
              "      <th>user_id</th>\n",
              "      <th>isbn</th>\n",
              "      <th>book_rating</th>\n",
              "      <th>Avg_Rating</th>\n",
              "      <th>Total_No_Of_Users_Rated</th>\n",
              "      <th>book_title</th>\n",
              "      <th>pred_rating</th>\n",
              "    </tr>\n",
              "  </thead>\n",
              "  <tbody>\n",
              "    <tr>\n",
              "      <th>0</th>\n",
              "      <td>276747</td>\n",
              "      <td>0060517794</td>\n",
              "      <td>9</td>\n",
              "      <td>8.000000</td>\n",
              "      <td>30</td>\n",
              "      <td>Little Altars Everywhere</td>\n",
              "      <td>8.037790</td>\n",
              "    </tr>\n",
              "    <tr>\n",
              "      <th>1</th>\n",
              "      <td>276747</td>\n",
              "      <td>0671537458</td>\n",
              "      <td>9</td>\n",
              "      <td>7.176471</td>\n",
              "      <td>17</td>\n",
              "      <td>Waiting to Exhale</td>\n",
              "      <td>NaN</td>\n",
              "    </tr>\n",
              "    <tr>\n",
              "      <th>2</th>\n",
              "      <td>276747</td>\n",
              "      <td>0679776818</td>\n",
              "      <td>8</td>\n",
              "      <td>7.476190</td>\n",
              "      <td>21</td>\n",
              "      <td>Birdsong: A Novel of Love and War</td>\n",
              "      <td>NaN</td>\n",
              "    </tr>\n",
              "    <tr>\n",
              "      <th>3</th>\n",
              "      <td>276772</td>\n",
              "      <td>0553572369</td>\n",
              "      <td>7</td>\n",
              "      <td>6.625000</td>\n",
              "      <td>8</td>\n",
              "      <td>Pay Dirt (Mrs. Murphy Mysteries (Paperback))</td>\n",
              "      <td>7.635369</td>\n",
              "    </tr>\n",
              "    <tr>\n",
              "      <th>4</th>\n",
              "      <td>276772</td>\n",
              "      <td>3499230933</td>\n",
              "      <td>10</td>\n",
              "      <td>7.166667</td>\n",
              "      <td>6</td>\n",
              "      <td>Adressat unbekannt.</td>\n",
              "      <td>NaN</td>\n",
              "    </tr>\n",
              "    <tr>\n",
              "      <th>...</th>\n",
              "      <td>...</td>\n",
              "      <td>...</td>\n",
              "      <td>...</td>\n",
              "      <td>...</td>\n",
              "      <td>...</td>\n",
              "      <td>...</td>\n",
              "      <td>...</td>\n",
              "    </tr>\n",
              "    <tr>\n",
              "      <th>160782</th>\n",
              "      <td>276688</td>\n",
              "      <td>0836218655</td>\n",
              "      <td>10</td>\n",
              "      <td>8.086957</td>\n",
              "      <td>23</td>\n",
              "      <td>Wiener Dog Art</td>\n",
              "      <td>NaN</td>\n",
              "    </tr>\n",
              "    <tr>\n",
              "      <th>160783</th>\n",
              "      <td>276688</td>\n",
              "      <td>0836236688</td>\n",
              "      <td>10</td>\n",
              "      <td>8.333333</td>\n",
              "      <td>15</td>\n",
              "      <td>Dilbert: Seven Years Of Highly Defective Peopl...</td>\n",
              "      <td>8.175542</td>\n",
              "    </tr>\n",
              "    <tr>\n",
              "      <th>160784</th>\n",
              "      <td>276688</td>\n",
              "      <td>1551669315</td>\n",
              "      <td>6</td>\n",
              "      <td>7.200000</td>\n",
              "      <td>5</td>\n",
              "      <td>The Third Wife</td>\n",
              "      <td>NaN</td>\n",
              "    </tr>\n",
              "    <tr>\n",
              "      <th>160785</th>\n",
              "      <td>276704</td>\n",
              "      <td>0345386108</td>\n",
              "      <td>6</td>\n",
              "      <td>6.852941</td>\n",
              "      <td>34</td>\n",
              "      <td>Winter Moon</td>\n",
              "      <td>7.418691</td>\n",
              "    </tr>\n",
              "    <tr>\n",
              "      <th>160786</th>\n",
              "      <td>276704</td>\n",
              "      <td>0743211383</td>\n",
              "      <td>7</td>\n",
              "      <td>6.964912</td>\n",
              "      <td>57</td>\n",
              "      <td>Dreamcatcher</td>\n",
              "      <td>NaN</td>\n",
              "    </tr>\n",
              "  </tbody>\n",
              "</table>\n",
              "<p>160787 rows × 7 columns</p>\n",
              "</div>\n",
              "      <button class=\"colab-df-convert\" onclick=\"convertToInteractive('df-e680532b-7b49-495a-a435-a1105810a818')\"\n",
              "              title=\"Convert this dataframe to an interactive table.\"\n",
              "              style=\"display:none;\">\n",
              "        \n",
              "  <svg xmlns=\"http://www.w3.org/2000/svg\" height=\"24px\"viewBox=\"0 0 24 24\"\n",
              "       width=\"24px\">\n",
              "    <path d=\"M0 0h24v24H0V0z\" fill=\"none\"/>\n",
              "    <path d=\"M18.56 5.44l.94 2.06.94-2.06 2.06-.94-2.06-.94-.94-2.06-.94 2.06-2.06.94zm-11 1L8.5 8.5l.94-2.06 2.06-.94-2.06-.94L8.5 2.5l-.94 2.06-2.06.94zm10 10l.94 2.06.94-2.06 2.06-.94-2.06-.94-.94-2.06-.94 2.06-2.06.94z\"/><path d=\"M17.41 7.96l-1.37-1.37c-.4-.4-.92-.59-1.43-.59-.52 0-1.04.2-1.43.59L10.3 9.45l-7.72 7.72c-.78.78-.78 2.05 0 2.83L4 21.41c.39.39.9.59 1.41.59.51 0 1.02-.2 1.41-.59l7.78-7.78 2.81-2.81c.8-.78.8-2.07 0-2.86zM5.41 20L4 18.59l7.72-7.72 1.47 1.35L5.41 20z\"/>\n",
              "  </svg>\n",
              "      </button>\n",
              "      \n",
              "  <style>\n",
              "    .colab-df-container {\n",
              "      display:flex;\n",
              "      flex-wrap:wrap;\n",
              "      gap: 12px;\n",
              "    }\n",
              "\n",
              "    .colab-df-convert {\n",
              "      background-color: #E8F0FE;\n",
              "      border: none;\n",
              "      border-radius: 50%;\n",
              "      cursor: pointer;\n",
              "      display: none;\n",
              "      fill: #1967D2;\n",
              "      height: 32px;\n",
              "      padding: 0 0 0 0;\n",
              "      width: 32px;\n",
              "    }\n",
              "\n",
              "    .colab-df-convert:hover {\n",
              "      background-color: #E2EBFA;\n",
              "      box-shadow: 0px 1px 2px rgba(60, 64, 67, 0.3), 0px 1px 3px 1px rgba(60, 64, 67, 0.15);\n",
              "      fill: #174EA6;\n",
              "    }\n",
              "\n",
              "    [theme=dark] .colab-df-convert {\n",
              "      background-color: #3B4455;\n",
              "      fill: #D2E3FC;\n",
              "    }\n",
              "\n",
              "    [theme=dark] .colab-df-convert:hover {\n",
              "      background-color: #434B5C;\n",
              "      box-shadow: 0px 1px 3px 1px rgba(0, 0, 0, 0.15);\n",
              "      filter: drop-shadow(0px 1px 2px rgba(0, 0, 0, 0.3));\n",
              "      fill: #FFFFFF;\n",
              "    }\n",
              "  </style>\n",
              "\n",
              "      <script>\n",
              "        const buttonEl =\n",
              "          document.querySelector('#df-e680532b-7b49-495a-a435-a1105810a818 button.colab-df-convert');\n",
              "        buttonEl.style.display =\n",
              "          google.colab.kernel.accessAllowed ? 'block' : 'none';\n",
              "\n",
              "        async function convertToInteractive(key) {\n",
              "          const element = document.querySelector('#df-e680532b-7b49-495a-a435-a1105810a818');\n",
              "          const dataTable =\n",
              "            await google.colab.kernel.invokeFunction('convertToInteractive',\n",
              "                                                     [key], {});\n",
              "          if (!dataTable) return;\n",
              "\n",
              "          const docLinkHtml = 'Like what you see? Visit the ' +\n",
              "            '<a target=\"_blank\" href=https://colab.research.google.com/notebooks/data_table.ipynb>data table notebook</a>'\n",
              "            + ' to learn more about interactive tables.';\n",
              "          element.innerHTML = '';\n",
              "          dataTable['output_type'] = 'display_data';\n",
              "          await google.colab.output.renderOutput(dataTable, element);\n",
              "          const docLink = document.createElement('div');\n",
              "          docLink.innerHTML = docLinkHtml;\n",
              "          element.appendChild(docLink);\n",
              "        }\n",
              "      </script>\n",
              "    </div>\n",
              "  </div>\n",
              "  "
            ]
          },
          "metadata": {},
          "execution_count": 90
        }
      ],
      "source": [
        "df_ext"
      ]
    },
    {
      "cell_type": "markdown",
      "metadata": {
        "id": "OQyBraEA-2JD"
      },
      "source": [
        "####Train set: Top rated books"
      ]
    },
    {
      "cell_type": "code",
      "execution_count": 91,
      "metadata": {
        "id": "ZtN5ouA4mCxw",
        "colab": {
          "base_uri": "https://localhost:8080/",
          "height": 363
        },
        "outputId": "201f9cb7-6bfe-47e7-ba8a-98d041e51b72"
      },
      "outputs": [
        {
          "output_type": "execute_result",
          "data": {
            "text/plain": [
              "        user_id        isbn  book_rating  Avg_Rating  Total_No_Of_Users_Rated  \\\n",
              "113593   193458  0345342569            9    7.947368                       19   \n",
              "113583   193458  014011369X            9    9.125000                        8   \n",
              "113585   193458  0140620125            9    8.133333                       15   \n",
              "113619   193458  0671880314            9    8.305556                       36   \n",
              "113592   193458  0330352695            9    7.615385                       13   \n",
              "113587   193458  0142001740            9    8.452769                      307   \n",
              "113594   193458  0345361792           10    8.607735                      181   \n",
              "113584   193458  0140298479            9    7.539823                      113   \n",
              "113599   193458  0345431057            9    9.125000                        8   \n",
              "113630   193458  1853260169           10    8.153846                       13   \n",
              "\n",
              "                                               book_title  pred_rating  \n",
              "113593                                       Shoeless Joe          NaN  \n",
              "113583  And the Band Played on: Politics, People, and ...          NaN  \n",
              "113585       Wuthering Heights (Penguin Popular Classics)          NaN  \n",
              "113619                                   Schindler's List          NaN  \n",
              "113592                               Four Letters of Love          NaN  \n",
              "113587                            The Secret Life of Bees          NaN  \n",
              "113594                            A Prayer for Owen Meany          NaN  \n",
              "113584                  Bridget Jones: The Edge of Reason          NaN  \n",
              "113599  Slaves in the Family (Ballantine Reader's Circle)          NaN  \n",
              "113630        Sense and Sensibility (Wordsworth Classics)          NaN  "
            ],
            "text/html": [
              "\n",
              "  <div id=\"df-38adafce-9650-4332-8ed9-9f93151a3266\">\n",
              "    <div class=\"colab-df-container\">\n",
              "      <div>\n",
              "<style scoped>\n",
              "    .dataframe tbody tr th:only-of-type {\n",
              "        vertical-align: middle;\n",
              "    }\n",
              "\n",
              "    .dataframe tbody tr th {\n",
              "        vertical-align: top;\n",
              "    }\n",
              "\n",
              "    .dataframe thead th {\n",
              "        text-align: right;\n",
              "    }\n",
              "</style>\n",
              "<table border=\"1\" class=\"dataframe\">\n",
              "  <thead>\n",
              "    <tr style=\"text-align: right;\">\n",
              "      <th></th>\n",
              "      <th>user_id</th>\n",
              "      <th>isbn</th>\n",
              "      <th>book_rating</th>\n",
              "      <th>Avg_Rating</th>\n",
              "      <th>Total_No_Of_Users_Rated</th>\n",
              "      <th>book_title</th>\n",
              "      <th>pred_rating</th>\n",
              "    </tr>\n",
              "  </thead>\n",
              "  <tbody>\n",
              "    <tr>\n",
              "      <th>113593</th>\n",
              "      <td>193458</td>\n",
              "      <td>0345342569</td>\n",
              "      <td>9</td>\n",
              "      <td>7.947368</td>\n",
              "      <td>19</td>\n",
              "      <td>Shoeless Joe</td>\n",
              "      <td>NaN</td>\n",
              "    </tr>\n",
              "    <tr>\n",
              "      <th>113583</th>\n",
              "      <td>193458</td>\n",
              "      <td>014011369X</td>\n",
              "      <td>9</td>\n",
              "      <td>9.125000</td>\n",
              "      <td>8</td>\n",
              "      <td>And the Band Played on: Politics, People, and ...</td>\n",
              "      <td>NaN</td>\n",
              "    </tr>\n",
              "    <tr>\n",
              "      <th>113585</th>\n",
              "      <td>193458</td>\n",
              "      <td>0140620125</td>\n",
              "      <td>9</td>\n",
              "      <td>8.133333</td>\n",
              "      <td>15</td>\n",
              "      <td>Wuthering Heights (Penguin Popular Classics)</td>\n",
              "      <td>NaN</td>\n",
              "    </tr>\n",
              "    <tr>\n",
              "      <th>113619</th>\n",
              "      <td>193458</td>\n",
              "      <td>0671880314</td>\n",
              "      <td>9</td>\n",
              "      <td>8.305556</td>\n",
              "      <td>36</td>\n",
              "      <td>Schindler's List</td>\n",
              "      <td>NaN</td>\n",
              "    </tr>\n",
              "    <tr>\n",
              "      <th>113592</th>\n",
              "      <td>193458</td>\n",
              "      <td>0330352695</td>\n",
              "      <td>9</td>\n",
              "      <td>7.615385</td>\n",
              "      <td>13</td>\n",
              "      <td>Four Letters of Love</td>\n",
              "      <td>NaN</td>\n",
              "    </tr>\n",
              "    <tr>\n",
              "      <th>113587</th>\n",
              "      <td>193458</td>\n",
              "      <td>0142001740</td>\n",
              "      <td>9</td>\n",
              "      <td>8.452769</td>\n",
              "      <td>307</td>\n",
              "      <td>The Secret Life of Bees</td>\n",
              "      <td>NaN</td>\n",
              "    </tr>\n",
              "    <tr>\n",
              "      <th>113594</th>\n",
              "      <td>193458</td>\n",
              "      <td>0345361792</td>\n",
              "      <td>10</td>\n",
              "      <td>8.607735</td>\n",
              "      <td>181</td>\n",
              "      <td>A Prayer for Owen Meany</td>\n",
              "      <td>NaN</td>\n",
              "    </tr>\n",
              "    <tr>\n",
              "      <th>113584</th>\n",
              "      <td>193458</td>\n",
              "      <td>0140298479</td>\n",
              "      <td>9</td>\n",
              "      <td>7.539823</td>\n",
              "      <td>113</td>\n",
              "      <td>Bridget Jones: The Edge of Reason</td>\n",
              "      <td>NaN</td>\n",
              "    </tr>\n",
              "    <tr>\n",
              "      <th>113599</th>\n",
              "      <td>193458</td>\n",
              "      <td>0345431057</td>\n",
              "      <td>9</td>\n",
              "      <td>9.125000</td>\n",
              "      <td>8</td>\n",
              "      <td>Slaves in the Family (Ballantine Reader's Circle)</td>\n",
              "      <td>NaN</td>\n",
              "    </tr>\n",
              "    <tr>\n",
              "      <th>113630</th>\n",
              "      <td>193458</td>\n",
              "      <td>1853260169</td>\n",
              "      <td>10</td>\n",
              "      <td>8.153846</td>\n",
              "      <td>13</td>\n",
              "      <td>Sense and Sensibility (Wordsworth Classics)</td>\n",
              "      <td>NaN</td>\n",
              "    </tr>\n",
              "  </tbody>\n",
              "</table>\n",
              "</div>\n",
              "      <button class=\"colab-df-convert\" onclick=\"convertToInteractive('df-38adafce-9650-4332-8ed9-9f93151a3266')\"\n",
              "              title=\"Convert this dataframe to an interactive table.\"\n",
              "              style=\"display:none;\">\n",
              "        \n",
              "  <svg xmlns=\"http://www.w3.org/2000/svg\" height=\"24px\"viewBox=\"0 0 24 24\"\n",
              "       width=\"24px\">\n",
              "    <path d=\"M0 0h24v24H0V0z\" fill=\"none\"/>\n",
              "    <path d=\"M18.56 5.44l.94 2.06.94-2.06 2.06-.94-2.06-.94-.94-2.06-.94 2.06-2.06.94zm-11 1L8.5 8.5l.94-2.06 2.06-.94-2.06-.94L8.5 2.5l-.94 2.06-2.06.94zm10 10l.94 2.06.94-2.06 2.06-.94-2.06-.94-.94-2.06-.94 2.06-2.06.94z\"/><path d=\"M17.41 7.96l-1.37-1.37c-.4-.4-.92-.59-1.43-.59-.52 0-1.04.2-1.43.59L10.3 9.45l-7.72 7.72c-.78.78-.78 2.05 0 2.83L4 21.41c.39.39.9.59 1.41.59.51 0 1.02-.2 1.41-.59l7.78-7.78 2.81-2.81c.8-.78.8-2.07 0-2.86zM5.41 20L4 18.59l7.72-7.72 1.47 1.35L5.41 20z\"/>\n",
              "  </svg>\n",
              "      </button>\n",
              "      \n",
              "  <style>\n",
              "    .colab-df-container {\n",
              "      display:flex;\n",
              "      flex-wrap:wrap;\n",
              "      gap: 12px;\n",
              "    }\n",
              "\n",
              "    .colab-df-convert {\n",
              "      background-color: #E8F0FE;\n",
              "      border: none;\n",
              "      border-radius: 50%;\n",
              "      cursor: pointer;\n",
              "      display: none;\n",
              "      fill: #1967D2;\n",
              "      height: 32px;\n",
              "      padding: 0 0 0 0;\n",
              "      width: 32px;\n",
              "    }\n",
              "\n",
              "    .colab-df-convert:hover {\n",
              "      background-color: #E2EBFA;\n",
              "      box-shadow: 0px 1px 2px rgba(60, 64, 67, 0.3), 0px 1px 3px 1px rgba(60, 64, 67, 0.15);\n",
              "      fill: #174EA6;\n",
              "    }\n",
              "\n",
              "    [theme=dark] .colab-df-convert {\n",
              "      background-color: #3B4455;\n",
              "      fill: #D2E3FC;\n",
              "    }\n",
              "\n",
              "    [theme=dark] .colab-df-convert:hover {\n",
              "      background-color: #434B5C;\n",
              "      box-shadow: 0px 1px 3px 1px rgba(0, 0, 0, 0.15);\n",
              "      filter: drop-shadow(0px 1px 2px rgba(0, 0, 0, 0.3));\n",
              "      fill: #FFFFFF;\n",
              "    }\n",
              "  </style>\n",
              "\n",
              "      <script>\n",
              "        const buttonEl =\n",
              "          document.querySelector('#df-38adafce-9650-4332-8ed9-9f93151a3266 button.colab-df-convert');\n",
              "        buttonEl.style.display =\n",
              "          google.colab.kernel.accessAllowed ? 'block' : 'none';\n",
              "\n",
              "        async function convertToInteractive(key) {\n",
              "          const element = document.querySelector('#df-38adafce-9650-4332-8ed9-9f93151a3266');\n",
              "          const dataTable =\n",
              "            await google.colab.kernel.invokeFunction('convertToInteractive',\n",
              "                                                     [key], {});\n",
              "          if (!dataTable) return;\n",
              "\n",
              "          const docLinkHtml = 'Like what you see? Visit the ' +\n",
              "            '<a target=\"_blank\" href=https://colab.research.google.com/notebooks/data_table.ipynb>data table notebook</a>'\n",
              "            + ' to learn more about interactive tables.';\n",
              "          element.innerHTML = '';\n",
              "          dataTable['output_type'] = 'display_data';\n",
              "          await google.colab.output.renderOutput(dataTable, element);\n",
              "          const docLink = document.createElement('div');\n",
              "          docLink.innerHTML = docLinkHtml;\n",
              "          element.appendChild(docLink);\n",
              "        }\n",
              "      </script>\n",
              "    </div>\n",
              "  </div>\n",
              "  "
            ]
          },
          "metadata": {},
          "execution_count": 91
        }
      ],
      "source": [
        "selected_user_id = 193458\n",
        "df_user = df_ext[df_ext['user_id']==selected_user_id]\n",
        "\n",
        "df_user[(df_user['pred_rating'].isna())&(df_user['book_rating']>=9)].sample(10)"
      ]
    },
    {
      "cell_type": "code",
      "execution_count": 92,
      "metadata": {
        "id": "9Z6Elu6HmDfa",
        "colab": {
          "base_uri": "https://localhost:8080/",
          "height": 424
        },
        "outputId": "02c5da78-28a2-4a76-f8e8-5a5af5ac9d00"
      },
      "outputs": [
        {
          "output_type": "execute_result",
          "data": {
            "text/plain": [
              "       user_id        isbn  actual_rating  pred_rating  impossible  \\\n",
              "0       268191  0140075623            8.0     8.248883       False   \n",
              "1       103251  1552781542            3.0     7.489436       False   \n",
              "2       268492  0060092661            5.0     7.246990       False   \n",
              "3       232131  0316103098            8.0     7.571766       False   \n",
              "4        88937  0446672211            8.0     7.771825       False   \n",
              "...        ...         ...            ...          ...         ...   \n",
              "32153    78323  0345419995            5.0     7.592984       False   \n",
              "32154    44594  0345459202            9.0     8.087150       False   \n",
              "32155   266478  0441533825            4.0     7.715746       False   \n",
              "32156    80061  3404121686            6.0     8.145094       False   \n",
              "32157    49262  0767905385            9.0     8.153096       False   \n",
              "\n",
              "       pred_rating_round   abs_err  \n",
              "0                    8.0  0.248883  \n",
              "1                    7.0  4.489436  \n",
              "2                    7.0  2.246990  \n",
              "3                    8.0  0.428234  \n",
              "4                    8.0  0.228175  \n",
              "...                  ...       ...  \n",
              "32153                8.0  2.592984  \n",
              "32154                8.0  0.912850  \n",
              "32155                8.0  3.715746  \n",
              "32156                8.0  2.145094  \n",
              "32157                8.0  0.846904  \n",
              "\n",
              "[32158 rows x 7 columns]"
            ],
            "text/html": [
              "\n",
              "  <div id=\"df-0c2f3a09-95bf-4273-b3f8-c66e6602e4ce\">\n",
              "    <div class=\"colab-df-container\">\n",
              "      <div>\n",
              "<style scoped>\n",
              "    .dataframe tbody tr th:only-of-type {\n",
              "        vertical-align: middle;\n",
              "    }\n",
              "\n",
              "    .dataframe tbody tr th {\n",
              "        vertical-align: top;\n",
              "    }\n",
              "\n",
              "    .dataframe thead th {\n",
              "        text-align: right;\n",
              "    }\n",
              "</style>\n",
              "<table border=\"1\" class=\"dataframe\">\n",
              "  <thead>\n",
              "    <tr style=\"text-align: right;\">\n",
              "      <th></th>\n",
              "      <th>user_id</th>\n",
              "      <th>isbn</th>\n",
              "      <th>actual_rating</th>\n",
              "      <th>pred_rating</th>\n",
              "      <th>impossible</th>\n",
              "      <th>pred_rating_round</th>\n",
              "      <th>abs_err</th>\n",
              "    </tr>\n",
              "  </thead>\n",
              "  <tbody>\n",
              "    <tr>\n",
              "      <th>0</th>\n",
              "      <td>268191</td>\n",
              "      <td>0140075623</td>\n",
              "      <td>8.0</td>\n",
              "      <td>8.248883</td>\n",
              "      <td>False</td>\n",
              "      <td>8.0</td>\n",
              "      <td>0.248883</td>\n",
              "    </tr>\n",
              "    <tr>\n",
              "      <th>1</th>\n",
              "      <td>103251</td>\n",
              "      <td>1552781542</td>\n",
              "      <td>3.0</td>\n",
              "      <td>7.489436</td>\n",
              "      <td>False</td>\n",
              "      <td>7.0</td>\n",
              "      <td>4.489436</td>\n",
              "    </tr>\n",
              "    <tr>\n",
              "      <th>2</th>\n",
              "      <td>268492</td>\n",
              "      <td>0060092661</td>\n",
              "      <td>5.0</td>\n",
              "      <td>7.246990</td>\n",
              "      <td>False</td>\n",
              "      <td>7.0</td>\n",
              "      <td>2.246990</td>\n",
              "    </tr>\n",
              "    <tr>\n",
              "      <th>3</th>\n",
              "      <td>232131</td>\n",
              "      <td>0316103098</td>\n",
              "      <td>8.0</td>\n",
              "      <td>7.571766</td>\n",
              "      <td>False</td>\n",
              "      <td>8.0</td>\n",
              "      <td>0.428234</td>\n",
              "    </tr>\n",
              "    <tr>\n",
              "      <th>4</th>\n",
              "      <td>88937</td>\n",
              "      <td>0446672211</td>\n",
              "      <td>8.0</td>\n",
              "      <td>7.771825</td>\n",
              "      <td>False</td>\n",
              "      <td>8.0</td>\n",
              "      <td>0.228175</td>\n",
              "    </tr>\n",
              "    <tr>\n",
              "      <th>...</th>\n",
              "      <td>...</td>\n",
              "      <td>...</td>\n",
              "      <td>...</td>\n",
              "      <td>...</td>\n",
              "      <td>...</td>\n",
              "      <td>...</td>\n",
              "      <td>...</td>\n",
              "    </tr>\n",
              "    <tr>\n",
              "      <th>32153</th>\n",
              "      <td>78323</td>\n",
              "      <td>0345419995</td>\n",
              "      <td>5.0</td>\n",
              "      <td>7.592984</td>\n",
              "      <td>False</td>\n",
              "      <td>8.0</td>\n",
              "      <td>2.592984</td>\n",
              "    </tr>\n",
              "    <tr>\n",
              "      <th>32154</th>\n",
              "      <td>44594</td>\n",
              "      <td>0345459202</td>\n",
              "      <td>9.0</td>\n",
              "      <td>8.087150</td>\n",
              "      <td>False</td>\n",
              "      <td>8.0</td>\n",
              "      <td>0.912850</td>\n",
              "    </tr>\n",
              "    <tr>\n",
              "      <th>32155</th>\n",
              "      <td>266478</td>\n",
              "      <td>0441533825</td>\n",
              "      <td>4.0</td>\n",
              "      <td>7.715746</td>\n",
              "      <td>False</td>\n",
              "      <td>8.0</td>\n",
              "      <td>3.715746</td>\n",
              "    </tr>\n",
              "    <tr>\n",
              "      <th>32156</th>\n",
              "      <td>80061</td>\n",
              "      <td>3404121686</td>\n",
              "      <td>6.0</td>\n",
              "      <td>8.145094</td>\n",
              "      <td>False</td>\n",
              "      <td>8.0</td>\n",
              "      <td>2.145094</td>\n",
              "    </tr>\n",
              "    <tr>\n",
              "      <th>32157</th>\n",
              "      <td>49262</td>\n",
              "      <td>0767905385</td>\n",
              "      <td>9.0</td>\n",
              "      <td>8.153096</td>\n",
              "      <td>False</td>\n",
              "      <td>8.0</td>\n",
              "      <td>0.846904</td>\n",
              "    </tr>\n",
              "  </tbody>\n",
              "</table>\n",
              "<p>32158 rows × 7 columns</p>\n",
              "</div>\n",
              "      <button class=\"colab-df-convert\" onclick=\"convertToInteractive('df-0c2f3a09-95bf-4273-b3f8-c66e6602e4ce')\"\n",
              "              title=\"Convert this dataframe to an interactive table.\"\n",
              "              style=\"display:none;\">\n",
              "        \n",
              "  <svg xmlns=\"http://www.w3.org/2000/svg\" height=\"24px\"viewBox=\"0 0 24 24\"\n",
              "       width=\"24px\">\n",
              "    <path d=\"M0 0h24v24H0V0z\" fill=\"none\"/>\n",
              "    <path d=\"M18.56 5.44l.94 2.06.94-2.06 2.06-.94-2.06-.94-.94-2.06-.94 2.06-2.06.94zm-11 1L8.5 8.5l.94-2.06 2.06-.94-2.06-.94L8.5 2.5l-.94 2.06-2.06.94zm10 10l.94 2.06.94-2.06 2.06-.94-2.06-.94-.94-2.06-.94 2.06-2.06.94z\"/><path d=\"M17.41 7.96l-1.37-1.37c-.4-.4-.92-.59-1.43-.59-.52 0-1.04.2-1.43.59L10.3 9.45l-7.72 7.72c-.78.78-.78 2.05 0 2.83L4 21.41c.39.39.9.59 1.41.59.51 0 1.02-.2 1.41-.59l7.78-7.78 2.81-2.81c.8-.78.8-2.07 0-2.86zM5.41 20L4 18.59l7.72-7.72 1.47 1.35L5.41 20z\"/>\n",
              "  </svg>\n",
              "      </button>\n",
              "      \n",
              "  <style>\n",
              "    .colab-df-container {\n",
              "      display:flex;\n",
              "      flex-wrap:wrap;\n",
              "      gap: 12px;\n",
              "    }\n",
              "\n",
              "    .colab-df-convert {\n",
              "      background-color: #E8F0FE;\n",
              "      border: none;\n",
              "      border-radius: 50%;\n",
              "      cursor: pointer;\n",
              "      display: none;\n",
              "      fill: #1967D2;\n",
              "      height: 32px;\n",
              "      padding: 0 0 0 0;\n",
              "      width: 32px;\n",
              "    }\n",
              "\n",
              "    .colab-df-convert:hover {\n",
              "      background-color: #E2EBFA;\n",
              "      box-shadow: 0px 1px 2px rgba(60, 64, 67, 0.3), 0px 1px 3px 1px rgba(60, 64, 67, 0.15);\n",
              "      fill: #174EA6;\n",
              "    }\n",
              "\n",
              "    [theme=dark] .colab-df-convert {\n",
              "      background-color: #3B4455;\n",
              "      fill: #D2E3FC;\n",
              "    }\n",
              "\n",
              "    [theme=dark] .colab-df-convert:hover {\n",
              "      background-color: #434B5C;\n",
              "      box-shadow: 0px 1px 3px 1px rgba(0, 0, 0, 0.15);\n",
              "      filter: drop-shadow(0px 1px 2px rgba(0, 0, 0, 0.3));\n",
              "      fill: #FFFFFF;\n",
              "    }\n",
              "  </style>\n",
              "\n",
              "      <script>\n",
              "        const buttonEl =\n",
              "          document.querySelector('#df-0c2f3a09-95bf-4273-b3f8-c66e6602e4ce button.colab-df-convert');\n",
              "        buttonEl.style.display =\n",
              "          google.colab.kernel.accessAllowed ? 'block' : 'none';\n",
              "\n",
              "        async function convertToInteractive(key) {\n",
              "          const element = document.querySelector('#df-0c2f3a09-95bf-4273-b3f8-c66e6602e4ce');\n",
              "          const dataTable =\n",
              "            await google.colab.kernel.invokeFunction('convertToInteractive',\n",
              "                                                     [key], {});\n",
              "          if (!dataTable) return;\n",
              "\n",
              "          const docLinkHtml = 'Like what you see? Visit the ' +\n",
              "            '<a target=\"_blank\" href=https://colab.research.google.com/notebooks/data_table.ipynb>data table notebook</a>'\n",
              "            + ' to learn more about interactive tables.';\n",
              "          element.innerHTML = '';\n",
              "          dataTable['output_type'] = 'display_data';\n",
              "          await google.colab.output.renderOutput(dataTable, element);\n",
              "          const docLink = document.createElement('div');\n",
              "          docLink.innerHTML = docLinkHtml;\n",
              "          element.appendChild(docLink);\n",
              "        }\n",
              "      </script>\n",
              "    </div>\n",
              "  </div>\n",
              "  "
            ]
          },
          "metadata": {},
          "execution_count": 92
        }
      ],
      "source": [
        "df_pred"
      ]
    },
    {
      "cell_type": "markdown",
      "metadata": {
        "id": "V7glDYtzAgel"
      },
      "source": [
        "###Test set: Top rated books"
      ]
    },
    {
      "cell_type": "markdown",
      "metadata": {
        "id": "09Md0tLf_JU8"
      },
      "source": [
        "\n",
        "####Test set: predicted top rated books"
      ]
    },
    {
      "cell_type": "code",
      "execution_count": 93,
      "metadata": {
        "id": "v-RJHh3gmHkT",
        "colab": {
          "base_uri": "https://localhost:8080/",
          "height": 206
        },
        "outputId": "9b7ada3b-c12c-4bc8-efd2-2376171f7f19"
      },
      "outputs": [
        {
          "output_type": "execute_result",
          "data": {
            "text/plain": [
              "        user_id        isbn  book_rating  Avg_Rating  Total_No_Of_Users_Rated  \\\n",
              "113579   193458  0064471071            9    8.733333                       15   \n",
              "113580   193458  006447108X            9    8.833333                       18   \n",
              "113602   193458  0399145923            6    7.833333                       24   \n",
              "113631   193458  1853260622            5    8.272727                       11   \n",
              "113615   193458  0553258001            9    8.236842                       38   \n",
              "\n",
              "                                            book_title  pred_rating  \n",
              "113579  The Voyage of the Dawn Treader (rack) (Narnia)     8.355961  \n",
              "113580                                 The Last Battle     8.216040  \n",
              "113602                                   Carolina Moon     8.182236  \n",
              "113631             War and Peace (Wordsworth Classics)     8.176170  \n",
              "113615                           The Cider House Rules     8.156926  "
            ],
            "text/html": [
              "\n",
              "  <div id=\"df-5e0c157d-2ac8-4ed1-9ef0-4f38030f4bb1\">\n",
              "    <div class=\"colab-df-container\">\n",
              "      <div>\n",
              "<style scoped>\n",
              "    .dataframe tbody tr th:only-of-type {\n",
              "        vertical-align: middle;\n",
              "    }\n",
              "\n",
              "    .dataframe tbody tr th {\n",
              "        vertical-align: top;\n",
              "    }\n",
              "\n",
              "    .dataframe thead th {\n",
              "        text-align: right;\n",
              "    }\n",
              "</style>\n",
              "<table border=\"1\" class=\"dataframe\">\n",
              "  <thead>\n",
              "    <tr style=\"text-align: right;\">\n",
              "      <th></th>\n",
              "      <th>user_id</th>\n",
              "      <th>isbn</th>\n",
              "      <th>book_rating</th>\n",
              "      <th>Avg_Rating</th>\n",
              "      <th>Total_No_Of_Users_Rated</th>\n",
              "      <th>book_title</th>\n",
              "      <th>pred_rating</th>\n",
              "    </tr>\n",
              "  </thead>\n",
              "  <tbody>\n",
              "    <tr>\n",
              "      <th>113579</th>\n",
              "      <td>193458</td>\n",
              "      <td>0064471071</td>\n",
              "      <td>9</td>\n",
              "      <td>8.733333</td>\n",
              "      <td>15</td>\n",
              "      <td>The Voyage of the Dawn Treader (rack) (Narnia)</td>\n",
              "      <td>8.355961</td>\n",
              "    </tr>\n",
              "    <tr>\n",
              "      <th>113580</th>\n",
              "      <td>193458</td>\n",
              "      <td>006447108X</td>\n",
              "      <td>9</td>\n",
              "      <td>8.833333</td>\n",
              "      <td>18</td>\n",
              "      <td>The Last Battle</td>\n",
              "      <td>8.216040</td>\n",
              "    </tr>\n",
              "    <tr>\n",
              "      <th>113602</th>\n",
              "      <td>193458</td>\n",
              "      <td>0399145923</td>\n",
              "      <td>6</td>\n",
              "      <td>7.833333</td>\n",
              "      <td>24</td>\n",
              "      <td>Carolina Moon</td>\n",
              "      <td>8.182236</td>\n",
              "    </tr>\n",
              "    <tr>\n",
              "      <th>113631</th>\n",
              "      <td>193458</td>\n",
              "      <td>1853260622</td>\n",
              "      <td>5</td>\n",
              "      <td>8.272727</td>\n",
              "      <td>11</td>\n",
              "      <td>War and Peace (Wordsworth Classics)</td>\n",
              "      <td>8.176170</td>\n",
              "    </tr>\n",
              "    <tr>\n",
              "      <th>113615</th>\n",
              "      <td>193458</td>\n",
              "      <td>0553258001</td>\n",
              "      <td>9</td>\n",
              "      <td>8.236842</td>\n",
              "      <td>38</td>\n",
              "      <td>The Cider House Rules</td>\n",
              "      <td>8.156926</td>\n",
              "    </tr>\n",
              "  </tbody>\n",
              "</table>\n",
              "</div>\n",
              "      <button class=\"colab-df-convert\" onclick=\"convertToInteractive('df-5e0c157d-2ac8-4ed1-9ef0-4f38030f4bb1')\"\n",
              "              title=\"Convert this dataframe to an interactive table.\"\n",
              "              style=\"display:none;\">\n",
              "        \n",
              "  <svg xmlns=\"http://www.w3.org/2000/svg\" height=\"24px\"viewBox=\"0 0 24 24\"\n",
              "       width=\"24px\">\n",
              "    <path d=\"M0 0h24v24H0V0z\" fill=\"none\"/>\n",
              "    <path d=\"M18.56 5.44l.94 2.06.94-2.06 2.06-.94-2.06-.94-.94-2.06-.94 2.06-2.06.94zm-11 1L8.5 8.5l.94-2.06 2.06-.94-2.06-.94L8.5 2.5l-.94 2.06-2.06.94zm10 10l.94 2.06.94-2.06 2.06-.94-2.06-.94-.94-2.06-.94 2.06-2.06.94z\"/><path d=\"M17.41 7.96l-1.37-1.37c-.4-.4-.92-.59-1.43-.59-.52 0-1.04.2-1.43.59L10.3 9.45l-7.72 7.72c-.78.78-.78 2.05 0 2.83L4 21.41c.39.39.9.59 1.41.59.51 0 1.02-.2 1.41-.59l7.78-7.78 2.81-2.81c.8-.78.8-2.07 0-2.86zM5.41 20L4 18.59l7.72-7.72 1.47 1.35L5.41 20z\"/>\n",
              "  </svg>\n",
              "      </button>\n",
              "      \n",
              "  <style>\n",
              "    .colab-df-container {\n",
              "      display:flex;\n",
              "      flex-wrap:wrap;\n",
              "      gap: 12px;\n",
              "    }\n",
              "\n",
              "    .colab-df-convert {\n",
              "      background-color: #E8F0FE;\n",
              "      border: none;\n",
              "      border-radius: 50%;\n",
              "      cursor: pointer;\n",
              "      display: none;\n",
              "      fill: #1967D2;\n",
              "      height: 32px;\n",
              "      padding: 0 0 0 0;\n",
              "      width: 32px;\n",
              "    }\n",
              "\n",
              "    .colab-df-convert:hover {\n",
              "      background-color: #E2EBFA;\n",
              "      box-shadow: 0px 1px 2px rgba(60, 64, 67, 0.3), 0px 1px 3px 1px rgba(60, 64, 67, 0.15);\n",
              "      fill: #174EA6;\n",
              "    }\n",
              "\n",
              "    [theme=dark] .colab-df-convert {\n",
              "      background-color: #3B4455;\n",
              "      fill: #D2E3FC;\n",
              "    }\n",
              "\n",
              "    [theme=dark] .colab-df-convert:hover {\n",
              "      background-color: #434B5C;\n",
              "      box-shadow: 0px 1px 3px 1px rgba(0, 0, 0, 0.15);\n",
              "      filter: drop-shadow(0px 1px 2px rgba(0, 0, 0, 0.3));\n",
              "      fill: #FFFFFF;\n",
              "    }\n",
              "  </style>\n",
              "\n",
              "      <script>\n",
              "        const buttonEl =\n",
              "          document.querySelector('#df-5e0c157d-2ac8-4ed1-9ef0-4f38030f4bb1 button.colab-df-convert');\n",
              "        buttonEl.style.display =\n",
              "          google.colab.kernel.accessAllowed ? 'block' : 'none';\n",
              "\n",
              "        async function convertToInteractive(key) {\n",
              "          const element = document.querySelector('#df-5e0c157d-2ac8-4ed1-9ef0-4f38030f4bb1');\n",
              "          const dataTable =\n",
              "            await google.colab.kernel.invokeFunction('convertToInteractive',\n",
              "                                                     [key], {});\n",
              "          if (!dataTable) return;\n",
              "\n",
              "          const docLinkHtml = 'Like what you see? Visit the ' +\n",
              "            '<a target=\"_blank\" href=https://colab.research.google.com/notebooks/data_table.ipynb>data table notebook</a>'\n",
              "            + ' to learn more about interactive tables.';\n",
              "          element.innerHTML = '';\n",
              "          dataTable['output_type'] = 'display_data';\n",
              "          await google.colab.output.renderOutput(dataTable, element);\n",
              "          const docLink = document.createElement('div');\n",
              "          docLink.innerHTML = docLinkHtml;\n",
              "          element.appendChild(docLink);\n",
              "        }\n",
              "      </script>\n",
              "    </div>\n",
              "  </div>\n",
              "  "
            ]
          },
          "metadata": {},
          "execution_count": 93
        }
      ],
      "source": [
        "df_user[df_user['pred_rating'].notna()].sort_values('pred_rating', ascending=False).head(5)"
      ]
    },
    {
      "cell_type": "markdown",
      "metadata": {
        "id": "DsWkikT8_TDN"
      },
      "source": [
        "####Test set: actual top rated books"
      ]
    },
    {
      "cell_type": "code",
      "execution_count": 94,
      "metadata": {
        "id": "xUBea4egmUyn",
        "colab": {
          "base_uri": "https://localhost:8080/",
          "height": 206
        },
        "outputId": "5962fd89-be84-4453-c90d-6beb32908530"
      },
      "outputs": [
        {
          "output_type": "execute_result",
          "data": {
            "text/plain": [
              "        user_id        isbn  book_rating  Avg_Rating  Total_No_Of_Users_Rated  \\\n",
              "113579   193458  0064471071            9    8.733333                       15   \n",
              "113580   193458  006447108X            9    8.833333                       18   \n",
              "113615   193458  0553258001            9    8.236842                       38   \n",
              "113620   193458  0679429220            9    7.794393                      107   \n",
              "113586   193458  0140620206            8    7.416667                       12   \n",
              "\n",
              "                                               book_title  pred_rating  \n",
              "113579     The Voyage of the Dawn Treader (rack) (Narnia)     8.355961  \n",
              "113580                                    The Last Battle     8.216040  \n",
              "113615                              The Cider House Rules     8.156926  \n",
              "113620  Midnight in the Garden of Good and Evil: A Sav...     7.800880  \n",
              "113586                           Tess of the Durbervilles     7.838522  "
            ],
            "text/html": [
              "\n",
              "  <div id=\"df-67962746-e1fd-4f0c-8c62-75b21141ede1\">\n",
              "    <div class=\"colab-df-container\">\n",
              "      <div>\n",
              "<style scoped>\n",
              "    .dataframe tbody tr th:only-of-type {\n",
              "        vertical-align: middle;\n",
              "    }\n",
              "\n",
              "    .dataframe tbody tr th {\n",
              "        vertical-align: top;\n",
              "    }\n",
              "\n",
              "    .dataframe thead th {\n",
              "        text-align: right;\n",
              "    }\n",
              "</style>\n",
              "<table border=\"1\" class=\"dataframe\">\n",
              "  <thead>\n",
              "    <tr style=\"text-align: right;\">\n",
              "      <th></th>\n",
              "      <th>user_id</th>\n",
              "      <th>isbn</th>\n",
              "      <th>book_rating</th>\n",
              "      <th>Avg_Rating</th>\n",
              "      <th>Total_No_Of_Users_Rated</th>\n",
              "      <th>book_title</th>\n",
              "      <th>pred_rating</th>\n",
              "    </tr>\n",
              "  </thead>\n",
              "  <tbody>\n",
              "    <tr>\n",
              "      <th>113579</th>\n",
              "      <td>193458</td>\n",
              "      <td>0064471071</td>\n",
              "      <td>9</td>\n",
              "      <td>8.733333</td>\n",
              "      <td>15</td>\n",
              "      <td>The Voyage of the Dawn Treader (rack) (Narnia)</td>\n",
              "      <td>8.355961</td>\n",
              "    </tr>\n",
              "    <tr>\n",
              "      <th>113580</th>\n",
              "      <td>193458</td>\n",
              "      <td>006447108X</td>\n",
              "      <td>9</td>\n",
              "      <td>8.833333</td>\n",
              "      <td>18</td>\n",
              "      <td>The Last Battle</td>\n",
              "      <td>8.216040</td>\n",
              "    </tr>\n",
              "    <tr>\n",
              "      <th>113615</th>\n",
              "      <td>193458</td>\n",
              "      <td>0553258001</td>\n",
              "      <td>9</td>\n",
              "      <td>8.236842</td>\n",
              "      <td>38</td>\n",
              "      <td>The Cider House Rules</td>\n",
              "      <td>8.156926</td>\n",
              "    </tr>\n",
              "    <tr>\n",
              "      <th>113620</th>\n",
              "      <td>193458</td>\n",
              "      <td>0679429220</td>\n",
              "      <td>9</td>\n",
              "      <td>7.794393</td>\n",
              "      <td>107</td>\n",
              "      <td>Midnight in the Garden of Good and Evil: A Sav...</td>\n",
              "      <td>7.800880</td>\n",
              "    </tr>\n",
              "    <tr>\n",
              "      <th>113586</th>\n",
              "      <td>193458</td>\n",
              "      <td>0140620206</td>\n",
              "      <td>8</td>\n",
              "      <td>7.416667</td>\n",
              "      <td>12</td>\n",
              "      <td>Tess of the Durbervilles</td>\n",
              "      <td>7.838522</td>\n",
              "    </tr>\n",
              "  </tbody>\n",
              "</table>\n",
              "</div>\n",
              "      <button class=\"colab-df-convert\" onclick=\"convertToInteractive('df-67962746-e1fd-4f0c-8c62-75b21141ede1')\"\n",
              "              title=\"Convert this dataframe to an interactive table.\"\n",
              "              style=\"display:none;\">\n",
              "        \n",
              "  <svg xmlns=\"http://www.w3.org/2000/svg\" height=\"24px\"viewBox=\"0 0 24 24\"\n",
              "       width=\"24px\">\n",
              "    <path d=\"M0 0h24v24H0V0z\" fill=\"none\"/>\n",
              "    <path d=\"M18.56 5.44l.94 2.06.94-2.06 2.06-.94-2.06-.94-.94-2.06-.94 2.06-2.06.94zm-11 1L8.5 8.5l.94-2.06 2.06-.94-2.06-.94L8.5 2.5l-.94 2.06-2.06.94zm10 10l.94 2.06.94-2.06 2.06-.94-2.06-.94-.94-2.06-.94 2.06-2.06.94z\"/><path d=\"M17.41 7.96l-1.37-1.37c-.4-.4-.92-.59-1.43-.59-.52 0-1.04.2-1.43.59L10.3 9.45l-7.72 7.72c-.78.78-.78 2.05 0 2.83L4 21.41c.39.39.9.59 1.41.59.51 0 1.02-.2 1.41-.59l7.78-7.78 2.81-2.81c.8-.78.8-2.07 0-2.86zM5.41 20L4 18.59l7.72-7.72 1.47 1.35L5.41 20z\"/>\n",
              "  </svg>\n",
              "      </button>\n",
              "      \n",
              "  <style>\n",
              "    .colab-df-container {\n",
              "      display:flex;\n",
              "      flex-wrap:wrap;\n",
              "      gap: 12px;\n",
              "    }\n",
              "\n",
              "    .colab-df-convert {\n",
              "      background-color: #E8F0FE;\n",
              "      border: none;\n",
              "      border-radius: 50%;\n",
              "      cursor: pointer;\n",
              "      display: none;\n",
              "      fill: #1967D2;\n",
              "      height: 32px;\n",
              "      padding: 0 0 0 0;\n",
              "      width: 32px;\n",
              "    }\n",
              "\n",
              "    .colab-df-convert:hover {\n",
              "      background-color: #E2EBFA;\n",
              "      box-shadow: 0px 1px 2px rgba(60, 64, 67, 0.3), 0px 1px 3px 1px rgba(60, 64, 67, 0.15);\n",
              "      fill: #174EA6;\n",
              "    }\n",
              "\n",
              "    [theme=dark] .colab-df-convert {\n",
              "      background-color: #3B4455;\n",
              "      fill: #D2E3FC;\n",
              "    }\n",
              "\n",
              "    [theme=dark] .colab-df-convert:hover {\n",
              "      background-color: #434B5C;\n",
              "      box-shadow: 0px 1px 3px 1px rgba(0, 0, 0, 0.15);\n",
              "      filter: drop-shadow(0px 1px 2px rgba(0, 0, 0, 0.3));\n",
              "      fill: #FFFFFF;\n",
              "    }\n",
              "  </style>\n",
              "\n",
              "      <script>\n",
              "        const buttonEl =\n",
              "          document.querySelector('#df-67962746-e1fd-4f0c-8c62-75b21141ede1 button.colab-df-convert');\n",
              "        buttonEl.style.display =\n",
              "          google.colab.kernel.accessAllowed ? 'block' : 'none';\n",
              "\n",
              "        async function convertToInteractive(key) {\n",
              "          const element = document.querySelector('#df-67962746-e1fd-4f0c-8c62-75b21141ede1');\n",
              "          const dataTable =\n",
              "            await google.colab.kernel.invokeFunction('convertToInteractive',\n",
              "                                                     [key], {});\n",
              "          if (!dataTable) return;\n",
              "\n",
              "          const docLinkHtml = 'Like what you see? Visit the ' +\n",
              "            '<a target=\"_blank\" href=https://colab.research.google.com/notebooks/data_table.ipynb>data table notebook</a>'\n",
              "            + ' to learn more about interactive tables.';\n",
              "          element.innerHTML = '';\n",
              "          dataTable['output_type'] = 'display_data';\n",
              "          await google.colab.output.renderOutput(dataTable, element);\n",
              "          const docLink = document.createElement('div');\n",
              "          docLink.innerHTML = docLinkHtml;\n",
              "          element.appendChild(docLink);\n",
              "        }\n",
              "      </script>\n",
              "    </div>\n",
              "  </div>\n",
              "  "
            ]
          },
          "metadata": {},
          "execution_count": 94
        }
      ],
      "source": [
        "df_user[df_user['pred_rating'].notna()].sort_values('book_rating', ascending=False).head(5)"
      ]
    },
    {
      "cell_type": "markdown",
      "metadata": {
        "id": "9Cjqxr6qVvgY"
      },
      "source": [
        "#**Content Based Filtering Recommender**\n",
        "\n",
        "For Content Based Book Recommendation we have to use NLP techniques like Keyword extraction -> Extract keywords from title Cosine Similarity -> Find cosine similarity between all book titles.\n",
        "\n",
        "Keyword Extraction- Keyword extraction is automatic detection of terms that best describe the subject of a document.\n",
        "\n",
        "For keyword extraction we try both of the below,\n",
        "\n",
        "**CountVectorizer** - Provides a simple way to both tokenize a collection of text documents and build a vocabulary of known words, but also to encode new documents using that vocabulary.\n",
        "\n",
        "**Tf-Idf Vectorizer** - Tf-Idf finds the no. of times a word occurs in a document and then compares this count to the no. of times the word shows up in a bunch of other documents in a collection. It then generates a rank for each word where it is important to a document if it shows up a lot in that particular document but doesn’t show up a lot in all the other documents. \n",
        "\n",
        "First we will use CountVectorizer as we want to extract keywords just from book titles."
      ]
    },
    {
      "cell_type": "markdown",
      "metadata": {
        "id": "l3h9WckLP3fH"
      },
      "source": [
        "Let's Take only first 10K rows so our server wouldn't be crashed during processing"
      ]
    },
    {
      "cell_type": "code",
      "execution_count": 95,
      "metadata": {
        "id": "LEG-7sccOMRQ"
      },
      "outputs": [],
      "source": [
        "#Make a new book df with the first 10k rows of books df so our server wouldn't be crashed during processing\n",
        "book=books.iloc[0:10000,:]"
      ]
    },
    {
      "cell_type": "markdown",
      "metadata": {
        "id": "sYR7mMD9b5Tt"
      },
      "source": [
        "##Content-Based Recommendation on the basis of Search Keyword(Tags, Book-name,Author-name,Publication-name)"
      ]
    },
    {
      "cell_type": "code",
      "execution_count": 96,
      "metadata": {
        "id": "aDBgTPENZoew"
      },
      "outputs": [],
      "source": [
        "#Make a copy of book of 10k's df \n",
        "book1=book.copy()"
      ]
    },
    {
      "cell_type": "markdown",
      "metadata": {
        "id": "3ruIi37V4b1w"
      },
      "source": [
        "###via Tf-idf vectorizer"
      ]
    },
    {
      "cell_type": "code",
      "execution_count": 97,
      "metadata": {
        "colab": {
          "base_uri": "https://localhost:8080/"
        },
        "id": "NpM5VgabP3ee",
        "outputId": "5c96d780-1e2b-4dfa-b54a-3b8038e3c515"
      },
      "outputs": [
        {
          "output_type": "execute_result",
          "data": {
            "text/plain": [
              "Index(['ISBN', 'Book-Title', 'Book-Author', 'Year-Of-Publication',\n",
              "       'Publisher'],\n",
              "      dtype='object')"
            ]
          },
          "metadata": {},
          "execution_count": 97
        }
      ],
      "source": [
        "#Checking out it's column\n",
        "book1.columns"
      ]
    },
    {
      "cell_type": "markdown",
      "metadata": {
        "id": "bI9QO1UWSQ_9"
      },
      "source": [
        "Recommendation of books using the authors,publications and title attributes for better results. Creating corpus of features and calculating the TF-IDF on the corpus of attributes for gettings better recommendations."
      ]
    },
    {
      "cell_type": "code",
      "execution_count": 98,
      "metadata": {
        "id": "jrl2eIHPPQwd"
      },
      "outputs": [],
      "source": [
        "#Making a corpus column by joining Book-author, book-title and book publishers\n",
        "book1['corpus'] = (pd.Series(book1[['Book-Author', 'Book-Title','Publisher']]\n",
        "                .fillna('')\n",
        "                .values.tolist()\n",
        "                ).str.join(' '))"
      ]
    },
    {
      "cell_type": "code",
      "execution_count": 99,
      "metadata": {
        "id": "vndUJz_RRCCD"
      },
      "outputs": [],
      "source": [
        "#Applying Vectorizer\n",
        "tf_corpus = TfidfVectorizer(analyzer='word',ngram_range=(1, 2),min_df=0, stop_words='english')\n",
        "tfidf_matrix_corpus = tf_corpus.fit_transform(book1['corpus'])\n",
        "cosine_sim_corpus = linear_kernel(tfidf_matrix_corpus, tfidf_matrix_corpus)\n",
        "\n",
        "# Build a 1-dimensional array with book titles\n",
        "titles = book1['Book-Title']\n",
        "indices = pd.Series(book1.index, index=book1['Book-Title'])\n",
        "\n",
        "# Function that get book recommendations based on the cosine similarity score of books tags\n",
        "def corpus_recommendations(title):\n",
        "    idx = indices[title]\n",
        "    sim_scores = list(enumerate(cosine_sim_corpus[idx]))\n",
        "    sim_scores = sorted(sim_scores, key=lambda x: x[1], reverse=True)\n",
        "    sim_scores = sim_scores[1:21]\n",
        "    book_indices = [i[0] for i in sim_scores]\n",
        "    return titles.iloc[book_indices]"
      ]
    },
    {
      "cell_type": "code",
      "execution_count": 100,
      "metadata": {
        "colab": {
          "base_uri": "https://localhost:8080/"
        },
        "id": "AwexaD144NrJ",
        "outputId": "d9ee8894-55fc-46b0-aa3a-5527e7e9b3d2"
      },
      "outputs": [
        {
          "output_type": "execute_result",
          "data": {
            "text/plain": [
              "2084                                         Keeper n' Me\n",
              "9427                                          Wildblossom\n",
              "6206                                         Going Native\n",
              "3873                          Der Gesang des Troubadours.\n",
              "6395                                 There Will Be Wolves\n",
              "5612                                 Why I Hate Canadians\n",
              "9767                                The Dollhouse Murders\n",
              "6335    The SEARCH FOR SNOUT: BRUCE COVILLE'S ALIEN AD...\n",
              "4239                      The Lion, the Fox and the Eagle\n",
              "6392                                     Thirteenth Child\n",
              "7831                       Dones (ColÂ¨lecciÃ³ clÃ ssica)\n",
              "7484                                 What Am I Doing Here\n",
              "676                                            Globalhead\n",
              "1015                                The Real Mother Goose\n",
              "552                                   Going down swinging\n",
              "1418                               My Teacher is an Alien\n",
              "2786                                 Distraction: A Novel\n",
              "8217                 Work, Industry, and Canadian Society\n",
              "8565                                   Working Class Zero\n",
              "2788                                   Islands in the Net\n",
              "Name: Book-Title, dtype: object"
            ]
          },
          "metadata": {},
          "execution_count": 100
        }
      ],
      "source": [
        "corpus_recommendations('Clara Callan')"
      ]
    },
    {
      "cell_type": "markdown",
      "metadata": {
        "id": "h1acRKQQ4Ut9"
      },
      "source": [
        "###Via Tags "
      ]
    },
    {
      "cell_type": "code",
      "execution_count": 101,
      "metadata": {
        "colab": {
          "base_uri": "https://localhost:8080/"
        },
        "id": "gF0snBWP4Ekr",
        "outputId": "d9609ee9-96b4-487a-a14e-8daba93692f4"
      },
      "outputs": [
        {
          "output_type": "stream",
          "name": "stderr",
          "text": [
            "[nltk_data] Downloading package stopwords to /root/nltk_data...\n",
            "[nltk_data]   Unzipping corpora/stopwords.zip.\n"
          ]
        },
        {
          "output_type": "execute_result",
          "data": {
            "text/plain": [
              "True"
            ]
          },
          "metadata": {},
          "execution_count": 101
        }
      ],
      "source": [
        "import nltk\n",
        "nltk.download('stopwords')"
      ]
    },
    {
      "cell_type": "code",
      "execution_count": 102,
      "metadata": {
        "id": "wFoZkPdT3G2a"
      },
      "outputs": [],
      "source": [
        "from nltk.corpus import stopwords\n",
        "from nltk.stem.snowball import SnowballStemmer"
      ]
    },
    {
      "cell_type": "code",
      "execution_count": 103,
      "metadata": {
        "id": "Od8e0UnlzctJ"
      },
      "outputs": [],
      "source": [
        "#Making a corpus column by joining Book-author, book-title and book publishers\n",
        "book1['tags'] = (pd.Series(book1[['Book-Author', 'Book-Title','Publisher']]\n",
        "                .fillna('')\n",
        "                .values.tolist()\n",
        "                ).str.join(' '))"
      ]
    },
    {
      "cell_type": "code",
      "execution_count": 104,
      "metadata": {
        "colab": {
          "base_uri": "https://localhost:8080/"
        },
        "id": "SZSqIzQy2XRF",
        "outputId": "342eb2f4-1048-4888-cca2-70a4eef2175b"
      },
      "outputs": [
        {
          "output_type": "execute_result",
          "data": {
            "text/plain": [
              "array(['i', 'me', 'my', 'myself', 'we', 'our', 'ours', 'ourselves', 'you',\n",
              "       \"you're\", \"you've\", \"you'll\", \"you'd\", 'your', 'yours', 'yourself',\n",
              "       'yourselves', 'he', 'him', 'his', 'himself', 'she', \"she's\", 'her',\n",
              "       'hers', 'herself', 'it', \"it's\", 'its', 'itself', 'they', 'them',\n",
              "       'their', 'theirs', 'themselves', 'what', 'which', 'who', 'whom',\n",
              "       'this', 'that', \"that'll\", 'these', 'those', 'am', 'is', 'are',\n",
              "       'was', 'were', 'be', 'been', 'being', 'have', 'has', 'had',\n",
              "       'having', 'do', 'does', 'did', 'doing', 'a', 'an', 'the', 'and',\n",
              "       'but', 'if', 'or', 'because', 'as', 'until', 'while', 'of', 'at',\n",
              "       'by', 'for', 'with', 'about', 'against', 'between', 'into',\n",
              "       'through', 'during', 'before', 'after', 'above', 'below', 'to',\n",
              "       'from', 'up', 'down', 'in', 'out', 'on', 'off', 'over', 'under',\n",
              "       'again', 'further', 'then', 'once', 'here', 'there', 'when',\n",
              "       'where', 'why', 'how', 'all', 'any', 'both', 'each', 'few', 'more',\n",
              "       'most', 'other', 'some', 'such', 'no', 'nor', 'not', 'only', 'own',\n",
              "       'same', 'so', 'than', 'too', 'very', 's', 't', 'can', 'will',\n",
              "       'just', 'don', \"don't\", 'should', \"should've\", 'now', 'd', 'll',\n",
              "       'm', 'o', 're', 've', 'y', 'ain', 'aren', \"aren't\", 'couldn',\n",
              "       \"couldn't\", 'didn', \"didn't\", 'doesn', \"doesn't\", 'hadn', \"hadn't\",\n",
              "       'hasn', \"hasn't\", 'haven', \"haven't\", 'isn', \"isn't\", 'ma',\n",
              "       'mightn', \"mightn't\", 'mustn', \"mustn't\", 'needn', \"needn't\",\n",
              "       'shan', \"shan't\", 'shouldn', \"shouldn't\", 'wasn', \"wasn't\",\n",
              "       'weren', \"weren't\", 'won', \"won't\", 'wouldn', \"wouldn't\"],\n",
              "      dtype='<U10')"
            ]
          },
          "metadata": {},
          "execution_count": 104
        }
      ],
      "source": [
        "# extracting the stopwords from nltk library\n",
        "sw = stopwords.words('english')\n",
        "# displaying the stopwords\n",
        "np.array(sw)"
      ]
    },
    {
      "cell_type": "code",
      "execution_count": 105,
      "metadata": {
        "id": "TEJMrJ2r2k8V"
      },
      "outputs": [],
      "source": [
        "#Making necessory function for applying on tags column for better results\n",
        "def remove_punctuation(text):\n",
        "    '''a function for removing punctuation'''\n",
        "    import string\n",
        "    # replacing the punctuations with no space, \n",
        "    # which in effect deletes the punctuation marks \n",
        "    translator = str.maketrans('', '', string.punctuation)\n",
        "    # return the text stripped of punctuation marks\n",
        "    return text.translate(translator)\n",
        "\n",
        "    \n",
        "def stopwords(text):\n",
        "    '''a function for removing the stopword'''\n",
        "    # removing the stop words and lowercasing the selected words\n",
        "    text = [word.lower() for word in text.split() if word.lower() not in sw]\n",
        "    # joining the list of words with space separator\n",
        "    return \" \".join(text)\n",
        "\n",
        "\n",
        "# create an object of stemming function\n",
        "stemmer = SnowballStemmer(language='english')\n",
        "\n",
        "def stemming(text):    \n",
        "    '''a function which stems each word in the given text'''\n",
        "    text = [stemmer.stem(word) for word in text.split()]\n",
        "    return \" \".join(text) \n",
        "\n",
        "def making_word(text):\n",
        "  text=text.split()\n",
        "  return text\n",
        "\n",
        "def get_list_of_words(text):\n",
        "  text=remove_punctuation(text)\n",
        "  text=stopwords(text)\n",
        "  text=stemming(text)\n",
        "  text=making_word(text)\n",
        "  return text"
      ]
    },
    {
      "cell_type": "code",
      "execution_count": 106,
      "metadata": {
        "id": "pJWv4bt-o4FM"
      },
      "outputs": [],
      "source": [
        "#Making function for applying all function of above\n",
        "def get_list_of_words(text):\n",
        "  text=remove_punctuation(text)\n",
        "  text=stopwords(text)\n",
        "  text=stemming(text)\n",
        "  text=making_word(text)\n",
        "  return text\n"
      ]
    },
    {
      "cell_type": "code",
      "execution_count": 107,
      "metadata": {
        "id": "fpE-sa5R5efM"
      },
      "outputs": [],
      "source": [
        "#Applying functions on our df\n",
        "book1['tags']=book1['tags'].apply(get_list_of_words)"
      ]
    },
    {
      "cell_type": "code",
      "execution_count": 108,
      "metadata": {
        "id": "9ZU0-mF88iX6"
      },
      "outputs": [],
      "source": [
        "#Making fubction for getting books according to our customer's search\n",
        "def getting_books(text):\n",
        "  text=remove_punctuation(text)\n",
        "  text=stopwords(text)\n",
        "  text=stemming(text)\n",
        "  listt=text.split()\n",
        "  df=pd.DataFrame()\n",
        "  output=book1[pd.DataFrame(book1.tags.tolist()).isin(listt).any(1).values]\n",
        "  df=df.append(output)\n",
        "  if len(df)<1:\n",
        "    df='No Results Try Different Search Keyword'\n",
        "  return df\n"
      ]
    },
    {
      "cell_type": "code",
      "execution_count": 110,
      "metadata": {
        "colab": {
          "base_uri": "https://localhost:8080/",
          "height": 1000
        },
        "id": "meiYri5R9QvM",
        "outputId": "b79a0f4b-6368-4652-d079-83f852b82a85"
      },
      "outputs": [
        {
          "name": "stdout",
          "output_type": "stream",
          "text": [
            "()Islands in the Net\n"
          ]
        },
        {
          "output_type": "execute_result",
          "data": {
            "text/plain": [
              "            ISBN                                         Book-Title  \\\n",
              "224   0440234964         All or Nothing (Wheeler Large Print Books)   \n",
              "448   0140382658  You Can Surf the Net: Your Guide to the World ...   \n",
              "467   0870441663  The wild ponies of Assateague Island (Books fo...   \n",
              "585   0345441133                                      Summer Island   \n",
              "888   0440218535                             Smilla's Sense of Snow   \n",
              "948   0425161722                                          Net Force   \n",
              "965   0440222818                                              Guilt   \n",
              "1350  0140259198                       The Island of the Day Before   \n",
              "1585  0440940001    Island of the Blue Dolphins (Laurel Leaf Books)   \n",
              "1779  0380727501                          Notes from a Small Island   \n",
              "1802  0440236673                                       The Brethren   \n",
              "1853  0515127221               Sullivan's Island: A Lowcountry Tale   \n",
              "2422  0440221420                              No Witnesses: A Novel   \n",
              "2685  0439164567                         Shipwreck (Island, Book 1)   \n",
              "2784  051513287X       Face the Fire (Three Sisters Island Trilogy)   \n",
              "2788  0441374239                                 Islands in the Net   \n",
              "3061  0553254723         Tenopia Island (Escape from Tenopia, No 1)   \n",
              "3293  0440235758                                    Going Overboard   \n",
              "3625  0380792737                           Island of the Sequined L   \n",
              "4040  0449131793                                     Barrier Island   \n",
              "4108  0895772620         Treasure Island (The World's Best Reading)   \n",
              "4202  0440439884                        Island of the Blue Dolphins   \n",
              "4525  0553583891                    Dream Island (Medieval Trilogy)   \n",
              "4544  0515132020    Heaven and Earth (Three Sisters Island Trilogy)   \n",
              "4546  0515131229  Dance upon the Air (Three Sisters Island Trilogy)   \n",
              "4654  0071352430          Net Slaves: True Tales of Working the Web   \n",
              "4752  1892738341                                       Daddy's Girl   \n",
              "4854  0460872583  The Island of Doctor Moreau (Everyman Paperbac...   \n",
              "5577  060980748X  A Trip to the Beach: Living on Island Time in ...   \n",
              "6262  0446605409                                        Plum Island   \n",
              "6334  0679804021      Treasure Island (Bullseye Step Into Classics)   \n",
              "6672  0440223822  Outrage: The Five Reasons Why O. J. Simpson Go...   \n",
              "6836  038073186X                                     Shutter Island   \n",
              "7231  0786885912  The Lobster Chronicles : Life On a Very Small ...   \n",
              "7604  0440224748                              Four Corners of Night   \n",
              "7658  0375501517  The Island of Lost Maps: A True Story of Carto...   \n",
              "7696  0440224721                             Obstruction of Justice   \n",
              "8142  0425193942               Sullivan's Island: A Lowcountry Tale   \n",
              "8456  0440225817                                     Acts of Malice   \n",
              "8474  0684827123  The SONG OF THE DODO: ISLAND BIOGEOGRAPHY IN A...   \n",
              "8600  0553480669  Anne of the Island (The Anne of Green Gables N...   \n",
              "8742  0425176932     Breaking Point (Tom Clancy's Net Force, No. 4)   \n",
              "8757  044021632X                                    The Angel Maker   \n",
              "8942  0060176156                                          Up Island   \n",
              "9320  1589820010                                       Hells Island   \n",
              "9815  0596005059             .NET Framework Essentials, 3rd Edition   \n",
              "9818  0735619255  MCAD/MCSD Self-Paced Training Kit: Microsoft ....   \n",
              "9945  3453171837               Tom Clancys Net Force 3. Ehrenkodex.   \n",
              "9946  345315195X            Tom Clancy's Net Force 02. Fluchtpunkt.   \n",
              "9947  3453147464                          Net Force 01. Intermafia.   \n",
              "\n",
              "                 Book-Author  Year-Of-Publication  \\\n",
              "224          Elizabeth Adler               2000.0   \n",
              "448           Marc Gascoigne               1996.0   \n",
              "467        Donna K Grosvenor               1975.0   \n",
              "585           KRISTIN HANNAH               2002.0   \n",
              "888               Peter Hoeg               1997.0   \n",
              "948               Tom Clancy               1999.0   \n",
              "965        John T. Lescroart               1998.0   \n",
              "1350             Umberto Eco               1996.0   \n",
              "1585            Scott O'Dell               1978.0   \n",
              "1779             Bill Bryson               1997.0   \n",
              "1802            John Grisham               2000.0   \n",
              "1853   Dorothea Benton Frank               2000.0   \n",
              "2422          Ridley Pearson               1996.0   \n",
              "2685           Gordon Korman               2001.0   \n",
              "2784            Nora Roberts               2002.0   \n",
              "2788          Bruce Sterling               1989.0   \n",
              "3061          Edward Packard               1986.0   \n",
              "3293          Christina Skye               2001.0   \n",
              "3625       Christopher Moore               1998.0   \n",
              "4040       John D. MacDonald               1991.0   \n",
              "4108  Robert Louis Stevenson               1987.0   \n",
              "4202            SCOTT O'DELL               1971.0   \n",
              "4525            Josie Litton               2002.0   \n",
              "4544            Nora Roberts               2003.0   \n",
              "4546            Nora Roberts               2003.0   \n",
              "4654            Bill Lessard               1999.0   \n",
              "4752    Charlotte Vale Allen               2002.0   \n",
              "4854            Brian Aldiss               1993.0   \n",
              "5577       Melinda Blanchard               2001.0   \n",
              "6262          Nelson DeMille               1998.0   \n",
              "6334              LISA NORBY               1990.0   \n",
              "6672        Vincent Bugliosi               1997.0   \n",
              "6836           Dennis Lehane               2004.0   \n",
              "7231          Linda Greenlaw               2003.0   \n",
              "7604            Craig Holden               1999.0   \n",
              "7658            MILES HARVEY               2000.0   \n",
              "7696     Perry O'Shaughnessy               1998.0   \n",
              "8142   Dorothea Benton Frank               2004.0   \n",
              "8456     Perri O'Shaughnessy               2000.0   \n",
              "8474           David Quammen               1997.0   \n",
              "8600        L. M. Montgomery               1992.0   \n",
              "8742             Steve Perry               2000.0   \n",
              "8757          Ridley Pearson               1994.0   \n",
              "8942     Anne Rivers Siddons               1997.0   \n",
              "9320   William D., Jr. Hardy               2002.0   \n",
              "9815           Thuan L. Thai               2003.0   \n",
              "9818   Microsoft Corporation               2003.0   \n",
              "9945              Tom Clancy               2000.0   \n",
              "9946              Tom Clancy               1999.0   \n",
              "9947              Tom Clancy               1999.0   \n",
              "\n",
              "                                 Publisher  \\\n",
              "224                                 Island   \n",
              "448                           Puffin Books   \n",
              "467            National Geographic Society   \n",
              "585                       Ballantine Books   \n",
              "888                                 Island   \n",
              "948               Berkley Publishing Group   \n",
              "965                                 Island   \n",
              "1350                         Penguin Books   \n",
              "1585                            Laure Leaf   \n",
              "1779                             Perennial   \n",
              "1802                                Island   \n",
              "1853                            Jove Books   \n",
              "2422                                Island   \n",
              "2685           Hyperion Books for Children   \n",
              "2784                            Jove Books   \n",
              "2788                             Ace Books   \n",
              "3061                          Bantam Books   \n",
              "3293                                Island   \n",
              "3625                        William Morrow   \n",
              "4040                         Fawcett Books   \n",
              "4108                      Putnam Pub Group   \n",
              "4202         Random House Children's Books   \n",
              "4525                          Bantam Books   \n",
              "4544                            Jove Books   \n",
              "4546                            Jove Books   \n",
              "4654                     McGraw-Hill Trade   \n",
              "4752                   Island Nation Press   \n",
              "4854                     Everymans Library   \n",
              "5577               Three Rivers Press (CA)   \n",
              "6262                          Warner Books   \n",
              "6334  Random House Books for Young Readers   \n",
              "6672                                Island   \n",
              "6836                           HarperTorch   \n",
              "7231                              Hyperion   \n",
              "7604                                Island   \n",
              "7658                          Random House   \n",
              "7696                                Island   \n",
              "8142              Berkley Publishing Group   \n",
              "8456                                Island   \n",
              "8474                              Scribner   \n",
              "8600                               Skylark   \n",
              "8742              Berkley Publishing Group   \n",
              "8757                                Island   \n",
              "8942              HarperCollins Publishers   \n",
              "9320        American Book Publishing Group   \n",
              "9815                              O'Reilly   \n",
              "9818                       Microsoft Press   \n",
              "9945                                 Heyne   \n",
              "9946                                 Heyne   \n",
              "9947                                 Heyne   \n",
              "\n",
              "                                                 corpus  \\\n",
              "224   Elizabeth Adler All or Nothing (Wheeler Large ...   \n",
              "448   Marc Gascoigne You Can Surf the Net: Your Guid...   \n",
              "467   Donna K Grosvenor The wild ponies of Assateagu...   \n",
              "585       KRISTIN HANNAH Summer Island Ballantine Books   \n",
              "888            Peter Hoeg Smilla's Sense of Snow Island   \n",
              "948       Tom Clancy Net Force Berkley Publishing Group   \n",
              "965                      John T. Lescroart Guilt Island   \n",
              "1350  Umberto Eco The Island of the Day Before Pengu...   \n",
              "1585  Scott O'Dell Island of the Blue Dolphins (Laur...   \n",
              "1779    Bill Bryson Notes from a Small Island Perennial   \n",
              "1802                   John Grisham The Brethren Island   \n",
              "1853  Dorothea Benton Frank Sullivan's Island: A Low...   \n",
              "2422        Ridley Pearson No Witnesses: A Novel Island   \n",
              "2685  Gordon Korman Shipwreck (Island, Book 1) Hyper...   \n",
              "2784  Nora Roberts Face the Fire (Three Sisters Isla...   \n",
              "2788        Bruce Sterling Islands in the Net Ace Books   \n",
              "3061  Edward Packard Tenopia Island (Escape from Ten...   \n",
              "3293              Christina Skye Going Overboard Island   \n",
              "3625  Christopher Moore Island of the Sequined L Wil...   \n",
              "4040     John D. MacDonald Barrier Island Fawcett Books   \n",
              "4108  Robert Louis Stevenson Treasure Island (The Wo...   \n",
              "4202  SCOTT O'DELL Island of the Blue Dolphins Rando...   \n",
              "4525  Josie Litton Dream Island (Medieval Trilogy) B...   \n",
              "4544  Nora Roberts Heaven and Earth (Three Sisters I...   \n",
              "4546  Nora Roberts Dance upon the Air (Three Sisters...   \n",
              "4654  Bill Lessard Net Slaves: True Tales of Working...   \n",
              "4752  Charlotte Vale Allen Daddy's Girl Island Natio...   \n",
              "4854  Brian Aldiss The Island of Doctor Moreau (Ever...   \n",
              "5577  Melinda Blanchard A Trip to the Beach: Living ...   \n",
              "6262            Nelson DeMille Plum Island Warner Books   \n",
              "6334  LISA NORBY Treasure Island (Bullseye Step Into...   \n",
              "6672  Vincent Bugliosi Outrage: The Five Reasons Why...   \n",
              "6836           Dennis Lehane Shutter Island HarperTorch   \n",
              "7231  Linda Greenlaw The Lobster Chronicles : Life O...   \n",
              "7604          Craig Holden Four Corners of Night Island   \n",
              "7658  MILES HARVEY The Island of Lost Maps: A True S...   \n",
              "7696  Perry O'Shaughnessy Obstruction of Justice Island   \n",
              "8142  Dorothea Benton Frank Sullivan's Island: A Low...   \n",
              "8456          Perri O'Shaughnessy Acts of Malice Island   \n",
              "8474  David Quammen The SONG OF THE DODO: ISLAND BIO...   \n",
              "8600  L. M. Montgomery Anne of the Island (The Anne ...   \n",
              "8742  Steve Perry Breaking Point (Tom Clancy's Net F...   \n",
              "8757              Ridley Pearson The Angel Maker Island   \n",
              "8942  Anne Rivers Siddons Up Island HarperCollins Pu...   \n",
              "9320  William D., Jr. Hardy Hells Island American Bo...   \n",
              "9815  Thuan L. Thai .NET Framework Essentials, 3rd E...   \n",
              "9818  Microsoft Corporation MCAD/MCSD Self-Paced Tra...   \n",
              "9945  Tom Clancy Tom Clancys Net Force 3. Ehrenkodex...   \n",
              "9946  Tom Clancy Tom Clancy's Net Force 02. Fluchtpu...   \n",
              "9947         Tom Clancy Net Force 01. Intermafia. Heyne   \n",
              "\n",
              "                                                   tags  \n",
              "224   [elizabeth, adler, noth, wheeler, larg, print,...  \n",
              "448   [marc, gascoign, surf, net, guid, world, inter...  \n",
              "467   [donna, k, grosvenor, wild, poni, assateagu, i...  \n",
              "585   [kristin, hannah, summer, island, ballantin, b...  \n",
              "888           [peter, hoeg, smilla, sens, snow, island]  \n",
              "948   [tom, clanci, net, forc, berkley, publish, group]  \n",
              "965                    [john, lescroart, guilt, island]  \n",
              "1350         [umberto, eco, island, day, penguin, book]  \n",
              "1585  [scott, odel, island, blue, dolphin, laurel, l...  \n",
              "1779       [bill, bryson, note, small, island, perenni]  \n",
              "1802                  [john, grisham, brethren, island]  \n",
              "1853  [dorothea, benton, frank, sullivan, island, lo...  \n",
              "2422              [ridley, pearson, wit, novel, island]  \n",
              "2685  [gordon, korman, shipwreck, island, book, 1, h...  \n",
              "2784  [nora, robert, face, fire, three, sister, isla...  \n",
              "2788             [bruce, sterl, island, net, ace, book]  \n",
              "3061  [edward, packard, tenopia, island, escap, teno...  \n",
              "3293           [christina, skye, go, overboard, island]  \n",
              "3625  [christoph, moor, island, sequin, l, william, ...  \n",
              "4040  [john, macdonald, barrier, island, fawcett, book]  \n",
              "4108  [robert, loui, stevenson, treasur, island, wor...  \n",
              "4202  [scott, odel, island, blue, dolphin, random, h...  \n",
              "4525  [josi, litton, dream, island, mediev, trilog, ...  \n",
              "4544  [nora, robert, heaven, earth, three, sister, i...  \n",
              "4546  [nora, robert, danc, upon, air, three, sister,...  \n",
              "4654  [bill, lessard, net, slave, true, tale, work, ...  \n",
              "4752  [charlott, vale, allen, daddi, girl, island, n...  \n",
              "4854  [brian, aldiss, island, doctor, moreau, everym...  \n",
              "5577  [melinda, blanchard, trip, beach, live, island...  \n",
              "6262       [nelson, demill, plum, island, warner, book]  \n",
              "6334  [lisa, norbi, treasur, island, bullsey, step, ...  \n",
              "6672  [vincent, bugliosi, outrag, five, reason, j, s...  \n",
              "6836       [denni, lehan, shutter, island, harpertorch]  \n",
              "7231  [linda, greenlaw, lobster, chronicl, life, sma...  \n",
              "7604       [craig, holden, four, corner, night, island]  \n",
              "7658  [mile, harvey, island, lost, map, true, stori,...  \n",
              "7696    [perri, oshaughnessi, obstruct, justic, island]  \n",
              "8142  [dorothea, benton, frank, sullivan, island, lo...  \n",
              "8456          [perri, oshaughnessi, act, malic, island]  \n",
              "8474  [david, quammen, song, dodo, island, biogeogra...  \n",
              "8600  [l, montgomeri, ann, island, ann, green, gabl,...  \n",
              "8742  [steve, perri, break, point, tom, clanci, net,...  \n",
              "8757            [ridley, pearson, angel, maker, island]  \n",
              "8942  [ann, river, siddon, island, harpercollin, pub...  \n",
              "9320  [william, jr, hardi, hell, island, american, b...  \n",
              "9815  [thuan, l, thai, net, framework, essenti, 3rd,...  \n",
              "9818  [microsoft, corpor, mcadmcsd, selfpac, train, ...  \n",
              "9945  [tom, clanci, tom, clanci, net, forc, 3, ehren...  \n",
              "9946  [tom, clanci, tom, clanci, net, forc, 02, fluc...  \n",
              "9947     [tom, clanci, net, forc, 01, intermafia, heyn]  "
            ],
            "text/html": [
              "\n",
              "  <div id=\"df-0eb65404-91f7-4e2c-8322-b9556f33ac82\">\n",
              "    <div class=\"colab-df-container\">\n",
              "      <div>\n",
              "<style scoped>\n",
              "    .dataframe tbody tr th:only-of-type {\n",
              "        vertical-align: middle;\n",
              "    }\n",
              "\n",
              "    .dataframe tbody tr th {\n",
              "        vertical-align: top;\n",
              "    }\n",
              "\n",
              "    .dataframe thead th {\n",
              "        text-align: right;\n",
              "    }\n",
              "</style>\n",
              "<table border=\"1\" class=\"dataframe\">\n",
              "  <thead>\n",
              "    <tr style=\"text-align: right;\">\n",
              "      <th></th>\n",
              "      <th>ISBN</th>\n",
              "      <th>Book-Title</th>\n",
              "      <th>Book-Author</th>\n",
              "      <th>Year-Of-Publication</th>\n",
              "      <th>Publisher</th>\n",
              "      <th>corpus</th>\n",
              "      <th>tags</th>\n",
              "    </tr>\n",
              "  </thead>\n",
              "  <tbody>\n",
              "    <tr>\n",
              "      <th>224</th>\n",
              "      <td>0440234964</td>\n",
              "      <td>All or Nothing (Wheeler Large Print Books)</td>\n",
              "      <td>Elizabeth Adler</td>\n",
              "      <td>2000.0</td>\n",
              "      <td>Island</td>\n",
              "      <td>Elizabeth Adler All or Nothing (Wheeler Large ...</td>\n",
              "      <td>[elizabeth, adler, noth, wheeler, larg, print,...</td>\n",
              "    </tr>\n",
              "    <tr>\n",
              "      <th>448</th>\n",
              "      <td>0140382658</td>\n",
              "      <td>You Can Surf the Net: Your Guide to the World ...</td>\n",
              "      <td>Marc Gascoigne</td>\n",
              "      <td>1996.0</td>\n",
              "      <td>Puffin Books</td>\n",
              "      <td>Marc Gascoigne You Can Surf the Net: Your Guid...</td>\n",
              "      <td>[marc, gascoign, surf, net, guid, world, inter...</td>\n",
              "    </tr>\n",
              "    <tr>\n",
              "      <th>467</th>\n",
              "      <td>0870441663</td>\n",
              "      <td>The wild ponies of Assateague Island (Books fo...</td>\n",
              "      <td>Donna K Grosvenor</td>\n",
              "      <td>1975.0</td>\n",
              "      <td>National Geographic Society</td>\n",
              "      <td>Donna K Grosvenor The wild ponies of Assateagu...</td>\n",
              "      <td>[donna, k, grosvenor, wild, poni, assateagu, i...</td>\n",
              "    </tr>\n",
              "    <tr>\n",
              "      <th>585</th>\n",
              "      <td>0345441133</td>\n",
              "      <td>Summer Island</td>\n",
              "      <td>KRISTIN HANNAH</td>\n",
              "      <td>2002.0</td>\n",
              "      <td>Ballantine Books</td>\n",
              "      <td>KRISTIN HANNAH Summer Island Ballantine Books</td>\n",
              "      <td>[kristin, hannah, summer, island, ballantin, b...</td>\n",
              "    </tr>\n",
              "    <tr>\n",
              "      <th>888</th>\n",
              "      <td>0440218535</td>\n",
              "      <td>Smilla's Sense of Snow</td>\n",
              "      <td>Peter Hoeg</td>\n",
              "      <td>1997.0</td>\n",
              "      <td>Island</td>\n",
              "      <td>Peter Hoeg Smilla's Sense of Snow Island</td>\n",
              "      <td>[peter, hoeg, smilla, sens, snow, island]</td>\n",
              "    </tr>\n",
              "    <tr>\n",
              "      <th>948</th>\n",
              "      <td>0425161722</td>\n",
              "      <td>Net Force</td>\n",
              "      <td>Tom Clancy</td>\n",
              "      <td>1999.0</td>\n",
              "      <td>Berkley Publishing Group</td>\n",
              "      <td>Tom Clancy Net Force Berkley Publishing Group</td>\n",
              "      <td>[tom, clanci, net, forc, berkley, publish, group]</td>\n",
              "    </tr>\n",
              "    <tr>\n",
              "      <th>965</th>\n",
              "      <td>0440222818</td>\n",
              "      <td>Guilt</td>\n",
              "      <td>John T. Lescroart</td>\n",
              "      <td>1998.0</td>\n",
              "      <td>Island</td>\n",
              "      <td>John T. Lescroart Guilt Island</td>\n",
              "      <td>[john, lescroart, guilt, island]</td>\n",
              "    </tr>\n",
              "    <tr>\n",
              "      <th>1350</th>\n",
              "      <td>0140259198</td>\n",
              "      <td>The Island of the Day Before</td>\n",
              "      <td>Umberto Eco</td>\n",
              "      <td>1996.0</td>\n",
              "      <td>Penguin Books</td>\n",
              "      <td>Umberto Eco The Island of the Day Before Pengu...</td>\n",
              "      <td>[umberto, eco, island, day, penguin, book]</td>\n",
              "    </tr>\n",
              "    <tr>\n",
              "      <th>1585</th>\n",
              "      <td>0440940001</td>\n",
              "      <td>Island of the Blue Dolphins (Laurel Leaf Books)</td>\n",
              "      <td>Scott O'Dell</td>\n",
              "      <td>1978.0</td>\n",
              "      <td>Laure Leaf</td>\n",
              "      <td>Scott O'Dell Island of the Blue Dolphins (Laur...</td>\n",
              "      <td>[scott, odel, island, blue, dolphin, laurel, l...</td>\n",
              "    </tr>\n",
              "    <tr>\n",
              "      <th>1779</th>\n",
              "      <td>0380727501</td>\n",
              "      <td>Notes from a Small Island</td>\n",
              "      <td>Bill Bryson</td>\n",
              "      <td>1997.0</td>\n",
              "      <td>Perennial</td>\n",
              "      <td>Bill Bryson Notes from a Small Island Perennial</td>\n",
              "      <td>[bill, bryson, note, small, island, perenni]</td>\n",
              "    </tr>\n",
              "    <tr>\n",
              "      <th>1802</th>\n",
              "      <td>0440236673</td>\n",
              "      <td>The Brethren</td>\n",
              "      <td>John Grisham</td>\n",
              "      <td>2000.0</td>\n",
              "      <td>Island</td>\n",
              "      <td>John Grisham The Brethren Island</td>\n",
              "      <td>[john, grisham, brethren, island]</td>\n",
              "    </tr>\n",
              "    <tr>\n",
              "      <th>1853</th>\n",
              "      <td>0515127221</td>\n",
              "      <td>Sullivan's Island: A Lowcountry Tale</td>\n",
              "      <td>Dorothea Benton Frank</td>\n",
              "      <td>2000.0</td>\n",
              "      <td>Jove Books</td>\n",
              "      <td>Dorothea Benton Frank Sullivan's Island: A Low...</td>\n",
              "      <td>[dorothea, benton, frank, sullivan, island, lo...</td>\n",
              "    </tr>\n",
              "    <tr>\n",
              "      <th>2422</th>\n",
              "      <td>0440221420</td>\n",
              "      <td>No Witnesses: A Novel</td>\n",
              "      <td>Ridley Pearson</td>\n",
              "      <td>1996.0</td>\n",
              "      <td>Island</td>\n",
              "      <td>Ridley Pearson No Witnesses: A Novel Island</td>\n",
              "      <td>[ridley, pearson, wit, novel, island]</td>\n",
              "    </tr>\n",
              "    <tr>\n",
              "      <th>2685</th>\n",
              "      <td>0439164567</td>\n",
              "      <td>Shipwreck (Island, Book 1)</td>\n",
              "      <td>Gordon Korman</td>\n",
              "      <td>2001.0</td>\n",
              "      <td>Hyperion Books for Children</td>\n",
              "      <td>Gordon Korman Shipwreck (Island, Book 1) Hyper...</td>\n",
              "      <td>[gordon, korman, shipwreck, island, book, 1, h...</td>\n",
              "    </tr>\n",
              "    <tr>\n",
              "      <th>2784</th>\n",
              "      <td>051513287X</td>\n",
              "      <td>Face the Fire (Three Sisters Island Trilogy)</td>\n",
              "      <td>Nora Roberts</td>\n",
              "      <td>2002.0</td>\n",
              "      <td>Jove Books</td>\n",
              "      <td>Nora Roberts Face the Fire (Three Sisters Isla...</td>\n",
              "      <td>[nora, robert, face, fire, three, sister, isla...</td>\n",
              "    </tr>\n",
              "    <tr>\n",
              "      <th>2788</th>\n",
              "      <td>0441374239</td>\n",
              "      <td>Islands in the Net</td>\n",
              "      <td>Bruce Sterling</td>\n",
              "      <td>1989.0</td>\n",
              "      <td>Ace Books</td>\n",
              "      <td>Bruce Sterling Islands in the Net Ace Books</td>\n",
              "      <td>[bruce, sterl, island, net, ace, book]</td>\n",
              "    </tr>\n",
              "    <tr>\n",
              "      <th>3061</th>\n",
              "      <td>0553254723</td>\n",
              "      <td>Tenopia Island (Escape from Tenopia, No 1)</td>\n",
              "      <td>Edward Packard</td>\n",
              "      <td>1986.0</td>\n",
              "      <td>Bantam Books</td>\n",
              "      <td>Edward Packard Tenopia Island (Escape from Ten...</td>\n",
              "      <td>[edward, packard, tenopia, island, escap, teno...</td>\n",
              "    </tr>\n",
              "    <tr>\n",
              "      <th>3293</th>\n",
              "      <td>0440235758</td>\n",
              "      <td>Going Overboard</td>\n",
              "      <td>Christina Skye</td>\n",
              "      <td>2001.0</td>\n",
              "      <td>Island</td>\n",
              "      <td>Christina Skye Going Overboard Island</td>\n",
              "      <td>[christina, skye, go, overboard, island]</td>\n",
              "    </tr>\n",
              "    <tr>\n",
              "      <th>3625</th>\n",
              "      <td>0380792737</td>\n",
              "      <td>Island of the Sequined L</td>\n",
              "      <td>Christopher Moore</td>\n",
              "      <td>1998.0</td>\n",
              "      <td>William Morrow</td>\n",
              "      <td>Christopher Moore Island of the Sequined L Wil...</td>\n",
              "      <td>[christoph, moor, island, sequin, l, william, ...</td>\n",
              "    </tr>\n",
              "    <tr>\n",
              "      <th>4040</th>\n",
              "      <td>0449131793</td>\n",
              "      <td>Barrier Island</td>\n",
              "      <td>John D. MacDonald</td>\n",
              "      <td>1991.0</td>\n",
              "      <td>Fawcett Books</td>\n",
              "      <td>John D. MacDonald Barrier Island Fawcett Books</td>\n",
              "      <td>[john, macdonald, barrier, island, fawcett, book]</td>\n",
              "    </tr>\n",
              "    <tr>\n",
              "      <th>4108</th>\n",
              "      <td>0895772620</td>\n",
              "      <td>Treasure Island (The World's Best Reading)</td>\n",
              "      <td>Robert Louis Stevenson</td>\n",
              "      <td>1987.0</td>\n",
              "      <td>Putnam Pub Group</td>\n",
              "      <td>Robert Louis Stevenson Treasure Island (The Wo...</td>\n",
              "      <td>[robert, loui, stevenson, treasur, island, wor...</td>\n",
              "    </tr>\n",
              "    <tr>\n",
              "      <th>4202</th>\n",
              "      <td>0440439884</td>\n",
              "      <td>Island of the Blue Dolphins</td>\n",
              "      <td>SCOTT O'DELL</td>\n",
              "      <td>1971.0</td>\n",
              "      <td>Random House Children's Books</td>\n",
              "      <td>SCOTT O'DELL Island of the Blue Dolphins Rando...</td>\n",
              "      <td>[scott, odel, island, blue, dolphin, random, h...</td>\n",
              "    </tr>\n",
              "    <tr>\n",
              "      <th>4525</th>\n",
              "      <td>0553583891</td>\n",
              "      <td>Dream Island (Medieval Trilogy)</td>\n",
              "      <td>Josie Litton</td>\n",
              "      <td>2002.0</td>\n",
              "      <td>Bantam Books</td>\n",
              "      <td>Josie Litton Dream Island (Medieval Trilogy) B...</td>\n",
              "      <td>[josi, litton, dream, island, mediev, trilog, ...</td>\n",
              "    </tr>\n",
              "    <tr>\n",
              "      <th>4544</th>\n",
              "      <td>0515132020</td>\n",
              "      <td>Heaven and Earth (Three Sisters Island Trilogy)</td>\n",
              "      <td>Nora Roberts</td>\n",
              "      <td>2003.0</td>\n",
              "      <td>Jove Books</td>\n",
              "      <td>Nora Roberts Heaven and Earth (Three Sisters I...</td>\n",
              "      <td>[nora, robert, heaven, earth, three, sister, i...</td>\n",
              "    </tr>\n",
              "    <tr>\n",
              "      <th>4546</th>\n",
              "      <td>0515131229</td>\n",
              "      <td>Dance upon the Air (Three Sisters Island Trilogy)</td>\n",
              "      <td>Nora Roberts</td>\n",
              "      <td>2003.0</td>\n",
              "      <td>Jove Books</td>\n",
              "      <td>Nora Roberts Dance upon the Air (Three Sisters...</td>\n",
              "      <td>[nora, robert, danc, upon, air, three, sister,...</td>\n",
              "    </tr>\n",
              "    <tr>\n",
              "      <th>4654</th>\n",
              "      <td>0071352430</td>\n",
              "      <td>Net Slaves: True Tales of Working the Web</td>\n",
              "      <td>Bill Lessard</td>\n",
              "      <td>1999.0</td>\n",
              "      <td>McGraw-Hill Trade</td>\n",
              "      <td>Bill Lessard Net Slaves: True Tales of Working...</td>\n",
              "      <td>[bill, lessard, net, slave, true, tale, work, ...</td>\n",
              "    </tr>\n",
              "    <tr>\n",
              "      <th>4752</th>\n",
              "      <td>1892738341</td>\n",
              "      <td>Daddy's Girl</td>\n",
              "      <td>Charlotte Vale Allen</td>\n",
              "      <td>2002.0</td>\n",
              "      <td>Island Nation Press</td>\n",
              "      <td>Charlotte Vale Allen Daddy's Girl Island Natio...</td>\n",
              "      <td>[charlott, vale, allen, daddi, girl, island, n...</td>\n",
              "    </tr>\n",
              "    <tr>\n",
              "      <th>4854</th>\n",
              "      <td>0460872583</td>\n",
              "      <td>The Island of Doctor Moreau (Everyman Paperbac...</td>\n",
              "      <td>Brian Aldiss</td>\n",
              "      <td>1993.0</td>\n",
              "      <td>Everymans Library</td>\n",
              "      <td>Brian Aldiss The Island of Doctor Moreau (Ever...</td>\n",
              "      <td>[brian, aldiss, island, doctor, moreau, everym...</td>\n",
              "    </tr>\n",
              "    <tr>\n",
              "      <th>5577</th>\n",
              "      <td>060980748X</td>\n",
              "      <td>A Trip to the Beach: Living on Island Time in ...</td>\n",
              "      <td>Melinda Blanchard</td>\n",
              "      <td>2001.0</td>\n",
              "      <td>Three Rivers Press (CA)</td>\n",
              "      <td>Melinda Blanchard A Trip to the Beach: Living ...</td>\n",
              "      <td>[melinda, blanchard, trip, beach, live, island...</td>\n",
              "    </tr>\n",
              "    <tr>\n",
              "      <th>6262</th>\n",
              "      <td>0446605409</td>\n",
              "      <td>Plum Island</td>\n",
              "      <td>Nelson DeMille</td>\n",
              "      <td>1998.0</td>\n",
              "      <td>Warner Books</td>\n",
              "      <td>Nelson DeMille Plum Island Warner Books</td>\n",
              "      <td>[nelson, demill, plum, island, warner, book]</td>\n",
              "    </tr>\n",
              "    <tr>\n",
              "      <th>6334</th>\n",
              "      <td>0679804021</td>\n",
              "      <td>Treasure Island (Bullseye Step Into Classics)</td>\n",
              "      <td>LISA NORBY</td>\n",
              "      <td>1990.0</td>\n",
              "      <td>Random House Books for Young Readers</td>\n",
              "      <td>LISA NORBY Treasure Island (Bullseye Step Into...</td>\n",
              "      <td>[lisa, norbi, treasur, island, bullsey, step, ...</td>\n",
              "    </tr>\n",
              "    <tr>\n",
              "      <th>6672</th>\n",
              "      <td>0440223822</td>\n",
              "      <td>Outrage: The Five Reasons Why O. J. Simpson Go...</td>\n",
              "      <td>Vincent Bugliosi</td>\n",
              "      <td>1997.0</td>\n",
              "      <td>Island</td>\n",
              "      <td>Vincent Bugliosi Outrage: The Five Reasons Why...</td>\n",
              "      <td>[vincent, bugliosi, outrag, five, reason, j, s...</td>\n",
              "    </tr>\n",
              "    <tr>\n",
              "      <th>6836</th>\n",
              "      <td>038073186X</td>\n",
              "      <td>Shutter Island</td>\n",
              "      <td>Dennis Lehane</td>\n",
              "      <td>2004.0</td>\n",
              "      <td>HarperTorch</td>\n",
              "      <td>Dennis Lehane Shutter Island HarperTorch</td>\n",
              "      <td>[denni, lehan, shutter, island, harpertorch]</td>\n",
              "    </tr>\n",
              "    <tr>\n",
              "      <th>7231</th>\n",
              "      <td>0786885912</td>\n",
              "      <td>The Lobster Chronicles : Life On a Very Small ...</td>\n",
              "      <td>Linda Greenlaw</td>\n",
              "      <td>2003.0</td>\n",
              "      <td>Hyperion</td>\n",
              "      <td>Linda Greenlaw The Lobster Chronicles : Life O...</td>\n",
              "      <td>[linda, greenlaw, lobster, chronicl, life, sma...</td>\n",
              "    </tr>\n",
              "    <tr>\n",
              "      <th>7604</th>\n",
              "      <td>0440224748</td>\n",
              "      <td>Four Corners of Night</td>\n",
              "      <td>Craig Holden</td>\n",
              "      <td>1999.0</td>\n",
              "      <td>Island</td>\n",
              "      <td>Craig Holden Four Corners of Night Island</td>\n",
              "      <td>[craig, holden, four, corner, night, island]</td>\n",
              "    </tr>\n",
              "    <tr>\n",
              "      <th>7658</th>\n",
              "      <td>0375501517</td>\n",
              "      <td>The Island of Lost Maps: A True Story of Carto...</td>\n",
              "      <td>MILES HARVEY</td>\n",
              "      <td>2000.0</td>\n",
              "      <td>Random House</td>\n",
              "      <td>MILES HARVEY The Island of Lost Maps: A True S...</td>\n",
              "      <td>[mile, harvey, island, lost, map, true, stori,...</td>\n",
              "    </tr>\n",
              "    <tr>\n",
              "      <th>7696</th>\n",
              "      <td>0440224721</td>\n",
              "      <td>Obstruction of Justice</td>\n",
              "      <td>Perry O'Shaughnessy</td>\n",
              "      <td>1998.0</td>\n",
              "      <td>Island</td>\n",
              "      <td>Perry O'Shaughnessy Obstruction of Justice Island</td>\n",
              "      <td>[perri, oshaughnessi, obstruct, justic, island]</td>\n",
              "    </tr>\n",
              "    <tr>\n",
              "      <th>8142</th>\n",
              "      <td>0425193942</td>\n",
              "      <td>Sullivan's Island: A Lowcountry Tale</td>\n",
              "      <td>Dorothea Benton Frank</td>\n",
              "      <td>2004.0</td>\n",
              "      <td>Berkley Publishing Group</td>\n",
              "      <td>Dorothea Benton Frank Sullivan's Island: A Low...</td>\n",
              "      <td>[dorothea, benton, frank, sullivan, island, lo...</td>\n",
              "    </tr>\n",
              "    <tr>\n",
              "      <th>8456</th>\n",
              "      <td>0440225817</td>\n",
              "      <td>Acts of Malice</td>\n",
              "      <td>Perri O'Shaughnessy</td>\n",
              "      <td>2000.0</td>\n",
              "      <td>Island</td>\n",
              "      <td>Perri O'Shaughnessy Acts of Malice Island</td>\n",
              "      <td>[perri, oshaughnessi, act, malic, island]</td>\n",
              "    </tr>\n",
              "    <tr>\n",
              "      <th>8474</th>\n",
              "      <td>0684827123</td>\n",
              "      <td>The SONG OF THE DODO: ISLAND BIOGEOGRAPHY IN A...</td>\n",
              "      <td>David Quammen</td>\n",
              "      <td>1997.0</td>\n",
              "      <td>Scribner</td>\n",
              "      <td>David Quammen The SONG OF THE DODO: ISLAND BIO...</td>\n",
              "      <td>[david, quammen, song, dodo, island, biogeogra...</td>\n",
              "    </tr>\n",
              "    <tr>\n",
              "      <th>8600</th>\n",
              "      <td>0553480669</td>\n",
              "      <td>Anne of the Island (The Anne of Green Gables N...</td>\n",
              "      <td>L. M. Montgomery</td>\n",
              "      <td>1992.0</td>\n",
              "      <td>Skylark</td>\n",
              "      <td>L. M. Montgomery Anne of the Island (The Anne ...</td>\n",
              "      <td>[l, montgomeri, ann, island, ann, green, gabl,...</td>\n",
              "    </tr>\n",
              "    <tr>\n",
              "      <th>8742</th>\n",
              "      <td>0425176932</td>\n",
              "      <td>Breaking Point (Tom Clancy's Net Force, No. 4)</td>\n",
              "      <td>Steve Perry</td>\n",
              "      <td>2000.0</td>\n",
              "      <td>Berkley Publishing Group</td>\n",
              "      <td>Steve Perry Breaking Point (Tom Clancy's Net F...</td>\n",
              "      <td>[steve, perri, break, point, tom, clanci, net,...</td>\n",
              "    </tr>\n",
              "    <tr>\n",
              "      <th>8757</th>\n",
              "      <td>044021632X</td>\n",
              "      <td>The Angel Maker</td>\n",
              "      <td>Ridley Pearson</td>\n",
              "      <td>1994.0</td>\n",
              "      <td>Island</td>\n",
              "      <td>Ridley Pearson The Angel Maker Island</td>\n",
              "      <td>[ridley, pearson, angel, maker, island]</td>\n",
              "    </tr>\n",
              "    <tr>\n",
              "      <th>8942</th>\n",
              "      <td>0060176156</td>\n",
              "      <td>Up Island</td>\n",
              "      <td>Anne Rivers Siddons</td>\n",
              "      <td>1997.0</td>\n",
              "      <td>HarperCollins Publishers</td>\n",
              "      <td>Anne Rivers Siddons Up Island HarperCollins Pu...</td>\n",
              "      <td>[ann, river, siddon, island, harpercollin, pub...</td>\n",
              "    </tr>\n",
              "    <tr>\n",
              "      <th>9320</th>\n",
              "      <td>1589820010</td>\n",
              "      <td>Hells Island</td>\n",
              "      <td>William D., Jr. Hardy</td>\n",
              "      <td>2002.0</td>\n",
              "      <td>American Book Publishing Group</td>\n",
              "      <td>William D., Jr. Hardy Hells Island American Bo...</td>\n",
              "      <td>[william, jr, hardi, hell, island, american, b...</td>\n",
              "    </tr>\n",
              "    <tr>\n",
              "      <th>9815</th>\n",
              "      <td>0596005059</td>\n",
              "      <td>.NET Framework Essentials, 3rd Edition</td>\n",
              "      <td>Thuan L. Thai</td>\n",
              "      <td>2003.0</td>\n",
              "      <td>O'Reilly</td>\n",
              "      <td>Thuan L. Thai .NET Framework Essentials, 3rd E...</td>\n",
              "      <td>[thuan, l, thai, net, framework, essenti, 3rd,...</td>\n",
              "    </tr>\n",
              "    <tr>\n",
              "      <th>9818</th>\n",
              "      <td>0735619255</td>\n",
              "      <td>MCAD/MCSD Self-Paced Training Kit: Microsoft ....</td>\n",
              "      <td>Microsoft Corporation</td>\n",
              "      <td>2003.0</td>\n",
              "      <td>Microsoft Press</td>\n",
              "      <td>Microsoft Corporation MCAD/MCSD Self-Paced Tra...</td>\n",
              "      <td>[microsoft, corpor, mcadmcsd, selfpac, train, ...</td>\n",
              "    </tr>\n",
              "    <tr>\n",
              "      <th>9945</th>\n",
              "      <td>3453171837</td>\n",
              "      <td>Tom Clancys Net Force 3. Ehrenkodex.</td>\n",
              "      <td>Tom Clancy</td>\n",
              "      <td>2000.0</td>\n",
              "      <td>Heyne</td>\n",
              "      <td>Tom Clancy Tom Clancys Net Force 3. Ehrenkodex...</td>\n",
              "      <td>[tom, clanci, tom, clanci, net, forc, 3, ehren...</td>\n",
              "    </tr>\n",
              "    <tr>\n",
              "      <th>9946</th>\n",
              "      <td>345315195X</td>\n",
              "      <td>Tom Clancy's Net Force 02. Fluchtpunkt.</td>\n",
              "      <td>Tom Clancy</td>\n",
              "      <td>1999.0</td>\n",
              "      <td>Heyne</td>\n",
              "      <td>Tom Clancy Tom Clancy's Net Force 02. Fluchtpu...</td>\n",
              "      <td>[tom, clanci, tom, clanci, net, forc, 02, fluc...</td>\n",
              "    </tr>\n",
              "    <tr>\n",
              "      <th>9947</th>\n",
              "      <td>3453147464</td>\n",
              "      <td>Net Force 01. Intermafia.</td>\n",
              "      <td>Tom Clancy</td>\n",
              "      <td>1999.0</td>\n",
              "      <td>Heyne</td>\n",
              "      <td>Tom Clancy Net Force 01. Intermafia. Heyne</td>\n",
              "      <td>[tom, clanci, net, forc, 01, intermafia, heyn]</td>\n",
              "    </tr>\n",
              "  </tbody>\n",
              "</table>\n",
              "</div>\n",
              "      <button class=\"colab-df-convert\" onclick=\"convertToInteractive('df-0eb65404-91f7-4e2c-8322-b9556f33ac82')\"\n",
              "              title=\"Convert this dataframe to an interactive table.\"\n",
              "              style=\"display:none;\">\n",
              "        \n",
              "  <svg xmlns=\"http://www.w3.org/2000/svg\" height=\"24px\"viewBox=\"0 0 24 24\"\n",
              "       width=\"24px\">\n",
              "    <path d=\"M0 0h24v24H0V0z\" fill=\"none\"/>\n",
              "    <path d=\"M18.56 5.44l.94 2.06.94-2.06 2.06-.94-2.06-.94-.94-2.06-.94 2.06-2.06.94zm-11 1L8.5 8.5l.94-2.06 2.06-.94-2.06-.94L8.5 2.5l-.94 2.06-2.06.94zm10 10l.94 2.06.94-2.06 2.06-.94-2.06-.94-.94-2.06-.94 2.06-2.06.94z\"/><path d=\"M17.41 7.96l-1.37-1.37c-.4-.4-.92-.59-1.43-.59-.52 0-1.04.2-1.43.59L10.3 9.45l-7.72 7.72c-.78.78-.78 2.05 0 2.83L4 21.41c.39.39.9.59 1.41.59.51 0 1.02-.2 1.41-.59l7.78-7.78 2.81-2.81c.8-.78.8-2.07 0-2.86zM5.41 20L4 18.59l7.72-7.72 1.47 1.35L5.41 20z\"/>\n",
              "  </svg>\n",
              "      </button>\n",
              "      \n",
              "  <style>\n",
              "    .colab-df-container {\n",
              "      display:flex;\n",
              "      flex-wrap:wrap;\n",
              "      gap: 12px;\n",
              "    }\n",
              "\n",
              "    .colab-df-convert {\n",
              "      background-color: #E8F0FE;\n",
              "      border: none;\n",
              "      border-radius: 50%;\n",
              "      cursor: pointer;\n",
              "      display: none;\n",
              "      fill: #1967D2;\n",
              "      height: 32px;\n",
              "      padding: 0 0 0 0;\n",
              "      width: 32px;\n",
              "    }\n",
              "\n",
              "    .colab-df-convert:hover {\n",
              "      background-color: #E2EBFA;\n",
              "      box-shadow: 0px 1px 2px rgba(60, 64, 67, 0.3), 0px 1px 3px 1px rgba(60, 64, 67, 0.15);\n",
              "      fill: #174EA6;\n",
              "    }\n",
              "\n",
              "    [theme=dark] .colab-df-convert {\n",
              "      background-color: #3B4455;\n",
              "      fill: #D2E3FC;\n",
              "    }\n",
              "\n",
              "    [theme=dark] .colab-df-convert:hover {\n",
              "      background-color: #434B5C;\n",
              "      box-shadow: 0px 1px 3px 1px rgba(0, 0, 0, 0.15);\n",
              "      filter: drop-shadow(0px 1px 2px rgba(0, 0, 0, 0.3));\n",
              "      fill: #FFFFFF;\n",
              "    }\n",
              "  </style>\n",
              "\n",
              "      <script>\n",
              "        const buttonEl =\n",
              "          document.querySelector('#df-0eb65404-91f7-4e2c-8322-b9556f33ac82 button.colab-df-convert');\n",
              "        buttonEl.style.display =\n",
              "          google.colab.kernel.accessAllowed ? 'block' : 'none';\n",
              "\n",
              "        async function convertToInteractive(key) {\n",
              "          const element = document.querySelector('#df-0eb65404-91f7-4e2c-8322-b9556f33ac82');\n",
              "          const dataTable =\n",
              "            await google.colab.kernel.invokeFunction('convertToInteractive',\n",
              "                                                     [key], {});\n",
              "          if (!dataTable) return;\n",
              "\n",
              "          const docLinkHtml = 'Like what you see? Visit the ' +\n",
              "            '<a target=\"_blank\" href=https://colab.research.google.com/notebooks/data_table.ipynb>data table notebook</a>'\n",
              "            + ' to learn more about interactive tables.';\n",
              "          element.innerHTML = '';\n",
              "          dataTable['output_type'] = 'display_data';\n",
              "          await google.colab.output.renderOutput(dataTable, element);\n",
              "          const docLink = document.createElement('div');\n",
              "          docLink.innerHTML = docLinkHtml;\n",
              "          element.appendChild(docLink);\n",
              "        }\n",
              "      </script>\n",
              "    </div>\n",
              "  </div>\n",
              "  "
            ]
          },
          "metadata": {},
          "execution_count": 110
        }
      ],
      "source": [
        "#Check function acc to user's input\n",
        "inputted_text=str(input(()))\n",
        "getting_books(inputted_text)"
      ]
    },
    {
      "cell_type": "markdown",
      "metadata": {
        "id": "HBcEQTZjbwFH"
      },
      "source": [
        "##Content-Based Recommendation on the basis of Author"
      ]
    },
    {
      "cell_type": "code",
      "execution_count": 111,
      "metadata": {
        "id": "Ix8w99e9ZS8d"
      },
      "outputs": [],
      "source": [
        "#Make a copy of book of 10k's df \n",
        "book2=book.copy()"
      ]
    },
    {
      "cell_type": "code",
      "execution_count": 112,
      "metadata": {
        "colab": {
          "base_uri": "https://localhost:8080/"
        },
        "id": "svx3Cg_SR8UN",
        "outputId": "14ee9fad-e7f2-431e-9b57-27f5c802ad77"
      },
      "outputs": [
        {
          "output_type": "execute_result",
          "data": {
            "text/plain": [
              "Index(['ISBN', 'Book-Title', 'Book-Author', 'Year-Of-Publication',\n",
              "       'Publisher'],\n",
              "      dtype='object')"
            ]
          },
          "metadata": {},
          "execution_count": 112
        }
      ],
      "source": [
        "#Checking The columns\n",
        "book2.columns"
      ]
    },
    {
      "cell_type": "code",
      "execution_count": 113,
      "metadata": {
        "colab": {
          "base_uri": "https://localhost:8080/",
          "height": 206
        },
        "id": "LGHHUqAAPDAQ",
        "outputId": "8a5b95db-77b3-41b1-f6b8-80a55fb0a90d"
      },
      "outputs": [
        {
          "output_type": "execute_result",
          "data": {
            "text/plain": [
              "         ISBN                                         Book-Title  \\\n",
              "0  0195153448                                Classical Mythology   \n",
              "1  0002005018                                       Clara Callan   \n",
              "2  0060973129                               Decision in Normandy   \n",
              "3  0374157065  Flu: The Story of the Great Influenza Pandemic...   \n",
              "4  0393045218                             The Mummies of Urumchi   \n",
              "\n",
              "            Book-Author  Year-Of-Publication                   Publisher  \n",
              "0    Mark P. O. Morford               2002.0     Oxford University Press  \n",
              "1  Richard Bruce Wright               2001.0       HarperFlamingo Canada  \n",
              "2          Carlo D'Este               1991.0             HarperPerennial  \n",
              "3      Gina Bari Kolata               1999.0        Farrar Straus Giroux  \n",
              "4       E. J. W. Barber               1999.0  W. W. Norton &amp; Company  "
            ],
            "text/html": [
              "\n",
              "  <div id=\"df-224ccf2c-7ae1-4b5d-8fe6-2c23842cebb3\">\n",
              "    <div class=\"colab-df-container\">\n",
              "      <div>\n",
              "<style scoped>\n",
              "    .dataframe tbody tr th:only-of-type {\n",
              "        vertical-align: middle;\n",
              "    }\n",
              "\n",
              "    .dataframe tbody tr th {\n",
              "        vertical-align: top;\n",
              "    }\n",
              "\n",
              "    .dataframe thead th {\n",
              "        text-align: right;\n",
              "    }\n",
              "</style>\n",
              "<table border=\"1\" class=\"dataframe\">\n",
              "  <thead>\n",
              "    <tr style=\"text-align: right;\">\n",
              "      <th></th>\n",
              "      <th>ISBN</th>\n",
              "      <th>Book-Title</th>\n",
              "      <th>Book-Author</th>\n",
              "      <th>Year-Of-Publication</th>\n",
              "      <th>Publisher</th>\n",
              "    </tr>\n",
              "  </thead>\n",
              "  <tbody>\n",
              "    <tr>\n",
              "      <th>0</th>\n",
              "      <td>0195153448</td>\n",
              "      <td>Classical Mythology</td>\n",
              "      <td>Mark P. O. Morford</td>\n",
              "      <td>2002.0</td>\n",
              "      <td>Oxford University Press</td>\n",
              "    </tr>\n",
              "    <tr>\n",
              "      <th>1</th>\n",
              "      <td>0002005018</td>\n",
              "      <td>Clara Callan</td>\n",
              "      <td>Richard Bruce Wright</td>\n",
              "      <td>2001.0</td>\n",
              "      <td>HarperFlamingo Canada</td>\n",
              "    </tr>\n",
              "    <tr>\n",
              "      <th>2</th>\n",
              "      <td>0060973129</td>\n",
              "      <td>Decision in Normandy</td>\n",
              "      <td>Carlo D'Este</td>\n",
              "      <td>1991.0</td>\n",
              "      <td>HarperPerennial</td>\n",
              "    </tr>\n",
              "    <tr>\n",
              "      <th>3</th>\n",
              "      <td>0374157065</td>\n",
              "      <td>Flu: The Story of the Great Influenza Pandemic...</td>\n",
              "      <td>Gina Bari Kolata</td>\n",
              "      <td>1999.0</td>\n",
              "      <td>Farrar Straus Giroux</td>\n",
              "    </tr>\n",
              "    <tr>\n",
              "      <th>4</th>\n",
              "      <td>0393045218</td>\n",
              "      <td>The Mummies of Urumchi</td>\n",
              "      <td>E. J. W. Barber</td>\n",
              "      <td>1999.0</td>\n",
              "      <td>W. W. Norton &amp;amp; Company</td>\n",
              "    </tr>\n",
              "  </tbody>\n",
              "</table>\n",
              "</div>\n",
              "      <button class=\"colab-df-convert\" onclick=\"convertToInteractive('df-224ccf2c-7ae1-4b5d-8fe6-2c23842cebb3')\"\n",
              "              title=\"Convert this dataframe to an interactive table.\"\n",
              "              style=\"display:none;\">\n",
              "        \n",
              "  <svg xmlns=\"http://www.w3.org/2000/svg\" height=\"24px\"viewBox=\"0 0 24 24\"\n",
              "       width=\"24px\">\n",
              "    <path d=\"M0 0h24v24H0V0z\" fill=\"none\"/>\n",
              "    <path d=\"M18.56 5.44l.94 2.06.94-2.06 2.06-.94-2.06-.94-.94-2.06-.94 2.06-2.06.94zm-11 1L8.5 8.5l.94-2.06 2.06-.94-2.06-.94L8.5 2.5l-.94 2.06-2.06.94zm10 10l.94 2.06.94-2.06 2.06-.94-2.06-.94-.94-2.06-.94 2.06-2.06.94z\"/><path d=\"M17.41 7.96l-1.37-1.37c-.4-.4-.92-.59-1.43-.59-.52 0-1.04.2-1.43.59L10.3 9.45l-7.72 7.72c-.78.78-.78 2.05 0 2.83L4 21.41c.39.39.9.59 1.41.59.51 0 1.02-.2 1.41-.59l7.78-7.78 2.81-2.81c.8-.78.8-2.07 0-2.86zM5.41 20L4 18.59l7.72-7.72 1.47 1.35L5.41 20z\"/>\n",
              "  </svg>\n",
              "      </button>\n",
              "      \n",
              "  <style>\n",
              "    .colab-df-container {\n",
              "      display:flex;\n",
              "      flex-wrap:wrap;\n",
              "      gap: 12px;\n",
              "    }\n",
              "\n",
              "    .colab-df-convert {\n",
              "      background-color: #E8F0FE;\n",
              "      border: none;\n",
              "      border-radius: 50%;\n",
              "      cursor: pointer;\n",
              "      display: none;\n",
              "      fill: #1967D2;\n",
              "      height: 32px;\n",
              "      padding: 0 0 0 0;\n",
              "      width: 32px;\n",
              "    }\n",
              "\n",
              "    .colab-df-convert:hover {\n",
              "      background-color: #E2EBFA;\n",
              "      box-shadow: 0px 1px 2px rgba(60, 64, 67, 0.3), 0px 1px 3px 1px rgba(60, 64, 67, 0.15);\n",
              "      fill: #174EA6;\n",
              "    }\n",
              "\n",
              "    [theme=dark] .colab-df-convert {\n",
              "      background-color: #3B4455;\n",
              "      fill: #D2E3FC;\n",
              "    }\n",
              "\n",
              "    [theme=dark] .colab-df-convert:hover {\n",
              "      background-color: #434B5C;\n",
              "      box-shadow: 0px 1px 3px 1px rgba(0, 0, 0, 0.15);\n",
              "      filter: drop-shadow(0px 1px 2px rgba(0, 0, 0, 0.3));\n",
              "      fill: #FFFFFF;\n",
              "    }\n",
              "  </style>\n",
              "\n",
              "      <script>\n",
              "        const buttonEl =\n",
              "          document.querySelector('#df-224ccf2c-7ae1-4b5d-8fe6-2c23842cebb3 button.colab-df-convert');\n",
              "        buttonEl.style.display =\n",
              "          google.colab.kernel.accessAllowed ? 'block' : 'none';\n",
              "\n",
              "        async function convertToInteractive(key) {\n",
              "          const element = document.querySelector('#df-224ccf2c-7ae1-4b5d-8fe6-2c23842cebb3');\n",
              "          const dataTable =\n",
              "            await google.colab.kernel.invokeFunction('convertToInteractive',\n",
              "                                                     [key], {});\n",
              "          if (!dataTable) return;\n",
              "\n",
              "          const docLinkHtml = 'Like what you see? Visit the ' +\n",
              "            '<a target=\"_blank\" href=https://colab.research.google.com/notebooks/data_table.ipynb>data table notebook</a>'\n",
              "            + ' to learn more about interactive tables.';\n",
              "          element.innerHTML = '';\n",
              "          dataTable['output_type'] = 'display_data';\n",
              "          await google.colab.output.renderOutput(dataTable, element);\n",
              "          const docLink = document.createElement('div');\n",
              "          docLink.innerHTML = docLinkHtml;\n",
              "          element.appendChild(docLink);\n",
              "        }\n",
              "      </script>\n",
              "    </div>\n",
              "  </div>\n",
              "  "
            ]
          },
          "metadata": {},
          "execution_count": 113
        }
      ],
      "source": [
        "#checking the head\n",
        "book2.head()"
      ]
    },
    {
      "cell_type": "markdown",
      "metadata": {
        "id": "onXr_r6SSdLi"
      },
      "source": [
        "TfidfVectorizer function from scikit-learn, which transforms text to feature vectors that can be used as input to estimator.\n",
        "\n",
        "Cosine Similarity to calculate a numeric value that denotes the similarity between two books."
      ]
    },
    {
      "cell_type": "code",
      "execution_count": 114,
      "metadata": {
        "id": "oUGtAs4wR8OW"
      },
      "outputs": [],
      "source": [
        "#applying tf-idf vectorizer\n",
        "tf = TfidfVectorizer(analyzer='word',ngram_range=(1, 2),min_df=0, stop_words='english')\n",
        "tfidf_matrix = tf.fit_transform(book2['Book-Author'])\n"
      ]
    },
    {
      "cell_type": "code",
      "execution_count": 115,
      "metadata": {
        "id": "Mhh7sa_ZNVME"
      },
      "outputs": [],
      "source": [
        "#Applying linear kernal for getting similarity\n",
        "cosine_sim = linear_kernel(tfidf_matrix, tfidf_matrix)\n"
      ]
    },
    {
      "cell_type": "markdown",
      "metadata": {
        "id": "Kg2WxztKSkD6"
      },
      "source": [
        "A function that returns the 20 most similar books based on the cosine similarity score."
      ]
    },
    {
      "cell_type": "code",
      "execution_count": 116,
      "metadata": {
        "id": "QB8Vc1zWR8JI"
      },
      "outputs": [],
      "source": [
        "# Build a 1-dimensional array with book titles\n",
        "titles = book2['Book-Title']\n",
        "indices = pd.Series(book.index, index=book2['Book-Title'])\n",
        "\n",
        "# Function that get book recommendations based on the cosine similarity score of book authors\n",
        "def authors_recommendations(title):\n",
        "    idx = indices[title]\n",
        "    sim_scores = list(enumerate(cosine_sim[idx]))\n",
        "    sim_scores = sorted(sim_scores, key=lambda x: x[1], reverse=True)\n",
        "    sim_scores = sim_scores[1:21]\n",
        "    book_indices = [i[0] for i in sim_scores]\n",
        "    return titles.iloc[book_indices]\n"
      ]
    },
    {
      "cell_type": "code",
      "execution_count": 117,
      "metadata": {
        "colab": {
          "base_uri": "https://localhost:8080/"
        },
        "id": "p95R2FJhRkZj",
        "outputId": "8ae40a20-47c3-4d90-a3b9-00b39a977f50"
      },
      "outputs": [
        {
          "output_type": "execute_result",
          "data": {
            "text/plain": [
              "402                          The Adventures of Tom Sawyer\n",
              "1430    Adventures of Huckleberry Finn (Signet Classic...\n",
              "1532    Adventures of Huckleberry Finn (Dover Thrift E...\n",
              "2186          A Connecticut Yankee in King Arthur's Court\n",
              "2354                       Adventures of Huckleberry Finn\n",
              "2577                         The Adventures of Tom Sawyer\n",
              "3624    A Connecticut Yankee in King Arthur's Court (D...\n",
              "4137    The Adventures of Tom Sawyer (Penguin Popular ...\n",
              "4177                             Adventures of Tom Sawyer\n",
              "4700                          The Diaries of Adam and Eve\n",
              "4701      The Diaries of Adam and Eve (Literary Classics)\n",
              "6117    Treasury of Illustrated Classics: Adventures o...\n",
              "7971    The Complete Short Stories of Mark Twain (Bant...\n",
              "8699    ADVENTURES OF HUCKLEBERRY FINN (ENRICHED CLASS...\n",
              "9175    A Connecticut Yankee in King Arthur's Court (B...\n",
              "9664    The Adventures of Tom Sawyer (Illustrated Libr...\n",
              "1670                             Fishboy: A Ghost's Story\n",
              "8568                                       Falling Bodies\n",
              "2409                                                 COPS\n",
              "8050                                                WOMEN\n",
              "Name: Book-Title, dtype: object"
            ]
          },
          "metadata": {},
          "execution_count": 117
        }
      ],
      "source": [
        "#let's check our reommendation\n",
        "authors_recommendations('Classical Mythology').head(20)"
      ]
    },
    {
      "cell_type": "code",
      "execution_count": 118,
      "metadata": {
        "colab": {
          "base_uri": "https://localhost:8080/"
        },
        "id": "2Fh_RAdwOs3L",
        "outputId": "3490e308-8fe6-49c6-a998-06005a8bc4f1"
      },
      "outputs": [
        {
          "output_type": "execute_result",
          "data": {
            "text/plain": [
              "ISBN                                     0812504208\n",
              "Book-Title             The Adventures of Tom Sawyer\n",
              "Book-Author                              Mark Twain\n",
              "Year-Of-Publication                          1989.0\n",
              "Publisher                                 Tor Books\n",
              "Name: 402, dtype: object"
            ]
          },
          "metadata": {},
          "execution_count": 118
        }
      ],
      "source": [
        "#checking if our reccommendation is doing good or not\n",
        "book.iloc[402]"
      ]
    },
    {
      "cell_type": "code",
      "execution_count": 119,
      "metadata": {
        "colab": {
          "base_uri": "https://localhost:8080/"
        },
        "id": "9xF_-ynbPL0O",
        "outputId": "20f76ebc-d787-4531-9d49-ce762ca8853f"
      },
      "outputs": [
        {
          "output_type": "execute_result",
          "data": {
            "text/plain": [
              "ISBN                                                          0140620524\n",
              "Book-Title             The Adventures of Tom Sawyer (Penguin Popular ...\n",
              "Book-Author                                                   Mark Twain\n",
              "Year-Of-Publication                                               1994.0\n",
              "Publisher                                              Penguin Books Ltd\n",
              "Name: 4137, dtype: object"
            ]
          },
          "metadata": {},
          "execution_count": 119
        }
      ],
      "source": [
        "#checking if our reccommendation is doing good or not\n",
        "book.iloc[4137]"
      ]
    },
    {
      "cell_type": "markdown",
      "metadata": {
        "id": "lgE1A3Ucb_DF"
      },
      "source": [
        "##Content-Based Recommendation on the basis of Book-Title(with count-vectorizer)"
      ]
    },
    {
      "cell_type": "code",
      "execution_count": 120,
      "metadata": {
        "id": "Y95XqY-HXNFJ"
      },
      "outputs": [],
      "source": [
        "#Make a copy of book of 10k's df \n",
        "book3=book.copy()"
      ]
    },
    {
      "cell_type": "code",
      "execution_count": 121,
      "metadata": {
        "colab": {
          "base_uri": "https://localhost:8080/"
        },
        "id": "4Uzzk5g4WKHS",
        "outputId": "bf1931ca-9503-4c5a-89f4-3e6154529a94"
      },
      "outputs": [
        {
          "output_type": "execute_result",
          "data": {
            "text/plain": [
              "Index(['ISBN', 'Book-Title', 'Book-Author', 'Year-Of-Publication',\n",
              "       'Publisher'],\n",
              "      dtype='object')"
            ]
          },
          "metadata": {},
          "execution_count": 121
        }
      ],
      "source": [
        "#checking out it's column\n",
        "book3.columns"
      ]
    },
    {
      "cell_type": "code",
      "execution_count": 122,
      "metadata": {
        "colab": {
          "base_uri": "https://localhost:8080/"
        },
        "id": "U-wkXBk-TZy6",
        "outputId": "5d906fd0-71b7-46ee-b907-196677a33bb9"
      },
      "outputs": [
        {
          "output_type": "execute_result",
          "data": {
            "text/plain": [
              "(10000, 267)"
            ]
          },
          "metadata": {},
          "execution_count": 122
        }
      ],
      "source": [
        "#Lets vectorize all these titles\n",
        "#initialize vectorizer\n",
        "vect = CountVectorizer(analyzer = 'word', ngram_range = (1,2), stop_words = 'english', min_df = 0.002) #min_df = rare words, max_df = most used words\n",
        "#ngram_range = (1,2) - if used more than  1(value), lots of features or noise\n",
        "\n",
        "#Fit into the title\n",
        "vect.fit(book3['Book-Title'])\n",
        "title_matrix = vect.transform(book3['Book-Title'])\n",
        "title_matrix.shape"
      ]
    },
    {
      "cell_type": "code",
      "execution_count": 123,
      "metadata": {
        "colab": {
          "base_uri": "https://localhost:8080/"
        },
        "id": "KF7gzr2STZu1",
        "outputId": "a51a3412-ad0b-49bc-9da9-b9c122bf1163"
      },
      "outputs": [
        {
          "output_type": "execute_result",
          "data": {
            "text/plain": [
              "267"
            ]
          },
          "metadata": {},
          "execution_count": 123
        }
      ],
      "source": [
        "#Lets find vocabulary/features\n",
        "features = vect.get_feature_names()\n",
        "len(features)"
      ]
    },
    {
      "cell_type": "code",
      "execution_count": 124,
      "metadata": {
        "colab": {
          "base_uri": "https://localhost:8080/"
        },
        "id": "hO510cf0TZqX",
        "outputId": "e4436c8d-2054-4451-bd0a-706a1d059b21"
      },
      "outputs": [
        {
          "output_type": "execute_result",
          "data": {
            "text/plain": [
              "(10000, 10000)"
            ]
          },
          "metadata": {},
          "execution_count": 124
        }
      ],
      "source": [
        "#applying cosine similarity\n",
        "cosine_sim_titles = cosine_similarity(title_matrix, title_matrix)\n",
        "cosine_sim_titles.shape"
      ]
    },
    {
      "cell_type": "code",
      "execution_count": 125,
      "metadata": {
        "colab": {
          "base_uri": "https://localhost:8080/",
          "height": 35
        },
        "id": "pg1NpFEkTZmN",
        "outputId": "cc95cdc3-e3bb-489f-bdb2-ec70078c3114"
      },
      "outputs": [
        {
          "output_type": "execute_result",
          "data": {
            "text/plain": [
              "'Nights Below Station Street'"
            ],
            "application/vnd.google.colaboratory.intrinsic+json": {
              "type": "string"
            }
          },
          "metadata": {},
          "execution_count": 125
        }
      ],
      "source": [
        "#Get books which are similar to a given title\n",
        "title_id = 10\n",
        "book3['Book-Title'].iloc[title_id]\n"
      ]
    },
    {
      "cell_type": "code",
      "execution_count": 126,
      "metadata": {
        "colab": {
          "base_uri": "https://localhost:8080/"
        },
        "id": "R_z-lizhTZgj",
        "outputId": "fa98dd1b-dd05-45ce-95cf-cef1c01df33f"
      },
      "outputs": [
        {
          "output_type": "execute_result",
          "data": {
            "text/plain": [
              "['street']"
            ]
          },
          "metadata": {},
          "execution_count": 126
        }
      ],
      "source": [
        "#Find out what features have been considered  by the vectorizer for a given title ?\n",
        "feature_array = np.squeeze(title_matrix[title_id].toarray()) #squeeze activity matrix into array\n",
        "idx = np.where(feature_array > 0)\n",
        "idx[0]\n",
        "[features[x] for x in idx[0]]"
      ]
    },
    {
      "cell_type": "code",
      "execution_count": 127,
      "metadata": {
        "colab": {
          "base_uri": "https://localhost:8080/"
        },
        "id": "E7aHD7f7W-UP",
        "outputId": "e732baa4-6c24-4f87-a0e0-ccb561030a41"
      },
      "outputs": [
        {
          "output_type": "execute_result",
          "data": {
            "text/plain": [
              "array([219])"
            ]
          },
          "metadata": {},
          "execution_count": 127
        }
      ],
      "source": [
        "# Find index of feature\n",
        "idx[0]"
      ]
    },
    {
      "cell_type": "code",
      "execution_count": 128,
      "metadata": {
        "colab": {
          "base_uri": "https://localhost:8080/"
        },
        "id": "L9YI6uLuW-Eo",
        "outputId": "3e061e67-286f-412c-9ac8-51f3989c95da"
      },
      "outputs": [
        {
          "output_type": "execute_result",
          "data": {
            "text/plain": [
              "array([1.        , 1.        , 1.        , 1.        , 1.        ,\n",
              "       1.        , 1.        , 1.        , 1.        , 1.        ,\n",
              "       0.70710678, 0.70710678, 0.70710678, 0.70710678, 0.70710678])"
            ]
          },
          "metadata": {},
          "execution_count": 128
        }
      ],
      "source": [
        "#Cosine similarity with other similar titles\n",
        "n = 15 #how many books to be recommended\n",
        "top_n_idx = np.flip(np.argsort(cosine_sim_titles[title_id,]), axis = 0)[0:n]\n",
        "top_n_sim_values = cosine_sim_titles[title_id, top_n_idx]\n",
        "top_n_sim_values"
      ]
    },
    {
      "cell_type": "code",
      "execution_count": 129,
      "metadata": {
        "colab": {
          "base_uri": "https://localhost:8080/"
        },
        "id": "WPpW3xDIW9_f",
        "outputId": "83ac02ee-b4cd-43e0-ca2e-bee193ab92f9"
      },
      "outputs": [
        {
          "output_type": "execute_result",
          "data": {
            "text/plain": [
              "5050                         On the Street Where You Live\n",
              "52                                      The Street Lawyer\n",
              "4256                             The Cater Street Hangman\n",
              "4300                               Perdido Street Station\n",
              "6149                                         Union Street\n",
              "2268                                    The Street Lawyer\n",
              "3220                                        Eureka Street\n",
              "588                                     The Street Lawyer\n",
              "10                            Nights Below Station Street\n",
              "9686    Liar's Poker: Rising Through the Wreckage on W...\n",
              "8813    COLLEGE WEEKEND: FEAR STREET #32 : COLLEGE WEE...\n",
              "4271    The Coffeehouse Investor: How to Build Wealth,...\n",
              "956     Wall Street's Picks for 2000: An Insider's Gui...\n",
              "7850                                House On Olive Street\n",
              "2518    The Wall Street Journal Lifetime Guide to Mone...\n",
              "Name: Book-Title, dtype: object"
            ]
          },
          "metadata": {},
          "execution_count": 129
        }
      ],
      "source": [
        "#find top n with values > 0\n",
        "top_n_idx = top_n_idx[top_n_sim_values > 0]\n",
        "#Matching books\n",
        "book3['Book-Title'].iloc[top_n_idx]"
      ]
    },
    {
      "cell_type": "markdown",
      "metadata": {
        "id": "50OtZDaYbBFp"
      },
      "source": [
        "As we can see all the books with similar to 'Street' will be recommended by this recommendation."
      ]
    },
    {
      "cell_type": "markdown",
      "metadata": {
        "id": "9KnGo_HlkL0t"
      },
      "source": [
        "Now let's make a function for above code-"
      ]
    },
    {
      "cell_type": "code",
      "execution_count": 130,
      "metadata": {
        "id": "rYPdMGWlW90X"
      },
      "outputs": [],
      "source": [
        "# lets wrap the above code in a function\n",
        "def return_sim_books(title_id):\n",
        "    print (\"For Book = {}, Our Recommendation is :\".format(book3['Book-Title'][title_id])) \n",
        "    top_n = 10\n",
        "    vectorizer = CountVectorizer(analyzer='word',ngram_range=(1,2),stop_words='english', min_df = 0.001)\n",
        "    vectorizer.fit(book3['Book-Title'])\n",
        "    title_matrix = vectorizer.transform(book3['Book-Title'])\n",
        "    \n",
        "    # generate sim matrix\n",
        "    sim_matrix = cosine_similarity(title_matrix, title_matrix)\n",
        "    features = vectorizer.get_feature_names()\n",
        "\n",
        "    top_n_idx = np.flip(np.argsort(sim_matrix[title_id,]),axis=0)[0:top_n]\n",
        "    top_n_sim_values = sim_matrix[title_id, top_n_idx]\n",
        "    \n",
        "    # find top n with values > 0\n",
        "    top_n_idx = top_n_idx[top_n_sim_values > 0]\n",
        "    scores = top_n_sim_values[top_n_sim_values > 0]\n",
        "    \n",
        "    \n",
        "    # find features from the vectorized matrix\n",
        "    sim_books_idx = book3['Book-Title'].iloc[top_n_idx].index\n",
        "    words = []\n",
        "    for book_idx in sim_books_idx:\n",
        "        try:\n",
        "            feature_array = np.squeeze(title_matrix[book_idx,].toarray())\n",
        "        except:\n",
        "            feature_array = np.squeeze(title_matrix[book_idx,])\n",
        "        idx = np.where(feature_array > 0)\n",
        "        words.append([\" , \".join([features[i] for i in idx[0]])])\n",
        "        \n",
        "    #collate results\n",
        "    res = pd.DataFrame({        \n",
        "           \"sim_books\": book3['Book-Title'].iloc[top_n_idx].values,\"words\":words,\n",
        "           \"scores\":scores}, columns = [\"sim_books\",\"scores\",\"words\"]) #for print book name which we want to show similar with,\n",
        "                                                                      # in this df use this as first col-\"book_title\" : books_title['title'].iloc[title_id], and add one more column \n",
        "    return res\n"
      ]
    },
    {
      "cell_type": "code",
      "execution_count": 131,
      "metadata": {
        "colab": {
          "base_uri": "https://localhost:8080/",
          "height": 424
        },
        "id": "0lysUy9T8KMi",
        "outputId": "a0ae4e87-0455-4c58-e921-ee80399ce7f7"
      },
      "outputs": [
        {
          "output_type": "execute_result",
          "data": {
            "text/plain": [
              "            ISBN                                         Book-Title  \\\n",
              "0     0195153448                                Classical Mythology   \n",
              "1     0002005018                                       Clara Callan   \n",
              "2     0060973129                               Decision in Normandy   \n",
              "3     0374157065  Flu: The Story of the Great Influenza Pandemic...   \n",
              "4     0393045218                             The Mummies of Urumchi   \n",
              "...          ...                                                ...   \n",
              "9995  0380730774  Read This and Tell Me What It Says : Stories (...   \n",
              "9996  0862418879                                     The Star Rover   \n",
              "9997  340414645X                                   Die Keltennadel.   \n",
              "9998  3442730988                                Tod in der Datscha.   \n",
              "9999  3404144783                                            Dunkel.   \n",
              "\n",
              "               Book-Author  Year-Of-Publication                   Publisher  \n",
              "0       Mark P. O. Morford               2002.0     Oxford University Press  \n",
              "1     Richard Bruce Wright               2001.0       HarperFlamingo Canada  \n",
              "2             Carlo D'Este               1991.0             HarperPerennial  \n",
              "3         Gina Bari Kolata               1999.0        Farrar Straus Giroux  \n",
              "4          E. J. W. Barber               1999.0  W. W. Norton &amp; Company  \n",
              "...                    ...                  ...                         ...  \n",
              "9995      A. Manette Ansay               1998.0              William Morrow  \n",
              "9996           Jack London               2000.0             Canongate Books  \n",
              "9997         Patrick Dunne               2001.0                    LÃ?Â¼bbe  \n",
              "9998       Anna Malyschewa               2003.0                         btb  \n",
              "9999     Wolfgang Hohlbein               2001.0                    LÃ?Â¼bbe  \n",
              "\n",
              "[10000 rows x 5 columns]"
            ],
            "text/html": [
              "\n",
              "  <div id=\"df-a349f635-3c3c-464a-900b-28a6422a5ca8\">\n",
              "    <div class=\"colab-df-container\">\n",
              "      <div>\n",
              "<style scoped>\n",
              "    .dataframe tbody tr th:only-of-type {\n",
              "        vertical-align: middle;\n",
              "    }\n",
              "\n",
              "    .dataframe tbody tr th {\n",
              "        vertical-align: top;\n",
              "    }\n",
              "\n",
              "    .dataframe thead th {\n",
              "        text-align: right;\n",
              "    }\n",
              "</style>\n",
              "<table border=\"1\" class=\"dataframe\">\n",
              "  <thead>\n",
              "    <tr style=\"text-align: right;\">\n",
              "      <th></th>\n",
              "      <th>ISBN</th>\n",
              "      <th>Book-Title</th>\n",
              "      <th>Book-Author</th>\n",
              "      <th>Year-Of-Publication</th>\n",
              "      <th>Publisher</th>\n",
              "    </tr>\n",
              "  </thead>\n",
              "  <tbody>\n",
              "    <tr>\n",
              "      <th>0</th>\n",
              "      <td>0195153448</td>\n",
              "      <td>Classical Mythology</td>\n",
              "      <td>Mark P. O. Morford</td>\n",
              "      <td>2002.0</td>\n",
              "      <td>Oxford University Press</td>\n",
              "    </tr>\n",
              "    <tr>\n",
              "      <th>1</th>\n",
              "      <td>0002005018</td>\n",
              "      <td>Clara Callan</td>\n",
              "      <td>Richard Bruce Wright</td>\n",
              "      <td>2001.0</td>\n",
              "      <td>HarperFlamingo Canada</td>\n",
              "    </tr>\n",
              "    <tr>\n",
              "      <th>2</th>\n",
              "      <td>0060973129</td>\n",
              "      <td>Decision in Normandy</td>\n",
              "      <td>Carlo D'Este</td>\n",
              "      <td>1991.0</td>\n",
              "      <td>HarperPerennial</td>\n",
              "    </tr>\n",
              "    <tr>\n",
              "      <th>3</th>\n",
              "      <td>0374157065</td>\n",
              "      <td>Flu: The Story of the Great Influenza Pandemic...</td>\n",
              "      <td>Gina Bari Kolata</td>\n",
              "      <td>1999.0</td>\n",
              "      <td>Farrar Straus Giroux</td>\n",
              "    </tr>\n",
              "    <tr>\n",
              "      <th>4</th>\n",
              "      <td>0393045218</td>\n",
              "      <td>The Mummies of Urumchi</td>\n",
              "      <td>E. J. W. Barber</td>\n",
              "      <td>1999.0</td>\n",
              "      <td>W. W. Norton &amp;amp; Company</td>\n",
              "    </tr>\n",
              "    <tr>\n",
              "      <th>...</th>\n",
              "      <td>...</td>\n",
              "      <td>...</td>\n",
              "      <td>...</td>\n",
              "      <td>...</td>\n",
              "      <td>...</td>\n",
              "    </tr>\n",
              "    <tr>\n",
              "      <th>9995</th>\n",
              "      <td>0380730774</td>\n",
              "      <td>Read This and Tell Me What It Says : Stories (...</td>\n",
              "      <td>A. Manette Ansay</td>\n",
              "      <td>1998.0</td>\n",
              "      <td>William Morrow</td>\n",
              "    </tr>\n",
              "    <tr>\n",
              "      <th>9996</th>\n",
              "      <td>0862418879</td>\n",
              "      <td>The Star Rover</td>\n",
              "      <td>Jack London</td>\n",
              "      <td>2000.0</td>\n",
              "      <td>Canongate Books</td>\n",
              "    </tr>\n",
              "    <tr>\n",
              "      <th>9997</th>\n",
              "      <td>340414645X</td>\n",
              "      <td>Die Keltennadel.</td>\n",
              "      <td>Patrick Dunne</td>\n",
              "      <td>2001.0</td>\n",
              "      <td>LÃ?Â¼bbe</td>\n",
              "    </tr>\n",
              "    <tr>\n",
              "      <th>9998</th>\n",
              "      <td>3442730988</td>\n",
              "      <td>Tod in der Datscha.</td>\n",
              "      <td>Anna Malyschewa</td>\n",
              "      <td>2003.0</td>\n",
              "      <td>btb</td>\n",
              "    </tr>\n",
              "    <tr>\n",
              "      <th>9999</th>\n",
              "      <td>3404144783</td>\n",
              "      <td>Dunkel.</td>\n",
              "      <td>Wolfgang Hohlbein</td>\n",
              "      <td>2001.0</td>\n",
              "      <td>LÃ?Â¼bbe</td>\n",
              "    </tr>\n",
              "  </tbody>\n",
              "</table>\n",
              "<p>10000 rows × 5 columns</p>\n",
              "</div>\n",
              "      <button class=\"colab-df-convert\" onclick=\"convertToInteractive('df-a349f635-3c3c-464a-900b-28a6422a5ca8')\"\n",
              "              title=\"Convert this dataframe to an interactive table.\"\n",
              "              style=\"display:none;\">\n",
              "        \n",
              "  <svg xmlns=\"http://www.w3.org/2000/svg\" height=\"24px\"viewBox=\"0 0 24 24\"\n",
              "       width=\"24px\">\n",
              "    <path d=\"M0 0h24v24H0V0z\" fill=\"none\"/>\n",
              "    <path d=\"M18.56 5.44l.94 2.06.94-2.06 2.06-.94-2.06-.94-.94-2.06-.94 2.06-2.06.94zm-11 1L8.5 8.5l.94-2.06 2.06-.94-2.06-.94L8.5 2.5l-.94 2.06-2.06.94zm10 10l.94 2.06.94-2.06 2.06-.94-2.06-.94-.94-2.06-.94 2.06-2.06.94z\"/><path d=\"M17.41 7.96l-1.37-1.37c-.4-.4-.92-.59-1.43-.59-.52 0-1.04.2-1.43.59L10.3 9.45l-7.72 7.72c-.78.78-.78 2.05 0 2.83L4 21.41c.39.39.9.59 1.41.59.51 0 1.02-.2 1.41-.59l7.78-7.78 2.81-2.81c.8-.78.8-2.07 0-2.86zM5.41 20L4 18.59l7.72-7.72 1.47 1.35L5.41 20z\"/>\n",
              "  </svg>\n",
              "      </button>\n",
              "      \n",
              "  <style>\n",
              "    .colab-df-container {\n",
              "      display:flex;\n",
              "      flex-wrap:wrap;\n",
              "      gap: 12px;\n",
              "    }\n",
              "\n",
              "    .colab-df-convert {\n",
              "      background-color: #E8F0FE;\n",
              "      border: none;\n",
              "      border-radius: 50%;\n",
              "      cursor: pointer;\n",
              "      display: none;\n",
              "      fill: #1967D2;\n",
              "      height: 32px;\n",
              "      padding: 0 0 0 0;\n",
              "      width: 32px;\n",
              "    }\n",
              "\n",
              "    .colab-df-convert:hover {\n",
              "      background-color: #E2EBFA;\n",
              "      box-shadow: 0px 1px 2px rgba(60, 64, 67, 0.3), 0px 1px 3px 1px rgba(60, 64, 67, 0.15);\n",
              "      fill: #174EA6;\n",
              "    }\n",
              "\n",
              "    [theme=dark] .colab-df-convert {\n",
              "      background-color: #3B4455;\n",
              "      fill: #D2E3FC;\n",
              "    }\n",
              "\n",
              "    [theme=dark] .colab-df-convert:hover {\n",
              "      background-color: #434B5C;\n",
              "      box-shadow: 0px 1px 3px 1px rgba(0, 0, 0, 0.15);\n",
              "      filter: drop-shadow(0px 1px 2px rgba(0, 0, 0, 0.3));\n",
              "      fill: #FFFFFF;\n",
              "    }\n",
              "  </style>\n",
              "\n",
              "      <script>\n",
              "        const buttonEl =\n",
              "          document.querySelector('#df-a349f635-3c3c-464a-900b-28a6422a5ca8 button.colab-df-convert');\n",
              "        buttonEl.style.display =\n",
              "          google.colab.kernel.accessAllowed ? 'block' : 'none';\n",
              "\n",
              "        async function convertToInteractive(key) {\n",
              "          const element = document.querySelector('#df-a349f635-3c3c-464a-900b-28a6422a5ca8');\n",
              "          const dataTable =\n",
              "            await google.colab.kernel.invokeFunction('convertToInteractive',\n",
              "                                                     [key], {});\n",
              "          if (!dataTable) return;\n",
              "\n",
              "          const docLinkHtml = 'Like what you see? Visit the ' +\n",
              "            '<a target=\"_blank\" href=https://colab.research.google.com/notebooks/data_table.ipynb>data table notebook</a>'\n",
              "            + ' to learn more about interactive tables.';\n",
              "          element.innerHTML = '';\n",
              "          dataTable['output_type'] = 'display_data';\n",
              "          await google.colab.output.renderOutput(dataTable, element);\n",
              "          const docLink = document.createElement('div');\n",
              "          docLink.innerHTML = docLinkHtml;\n",
              "          element.appendChild(docLink);\n",
              "        }\n",
              "      </script>\n",
              "    </div>\n",
              "  </div>\n",
              "  "
            ]
          },
          "metadata": {},
          "execution_count": 131
        }
      ],
      "source": [
        "book3"
      ]
    },
    {
      "cell_type": "code",
      "execution_count": 132,
      "metadata": {
        "colab": {
          "base_uri": "https://localhost:8080/",
          "height": 380
        },
        "id": "IBXyLaR_W9u5",
        "outputId": "5d412175-761a-4340-ebc1-2699db1285c4"
      },
      "outputs": [
        {
          "output_type": "stream",
          "name": "stdout",
          "text": [
            "For Book = The Star Rover, Our Recommendation is :\n"
          ]
        },
        {
          "output_type": "execute_result",
          "data": {
            "text/plain": [
              "                                         sim_books    scores  \\\n",
              "0                                             Star  1.000000   \n",
              "1                                   The Star Rover  1.000000   \n",
              "2                                       Polar Star  1.000000   \n",
              "3  Evening Star (Sam Keaton:Legends of Laramie, 1)  1.000000   \n",
              "4                       Linda Goodman's Star Signs  1.000000   \n",
              "5                                 Troubling a Star  1.000000   \n",
              "6                                       Delta Star  1.000000   \n",
              "7                    Hidden Star (The Star Series)  0.816497   \n",
              "8                                     Star Country  0.707107   \n",
              "9                                       Child Star  0.707107   \n",
              "\n",
              "                      words  \n",
              "0                    [star]  \n",
              "1                    [star]  \n",
              "2                    [star]  \n",
              "3                    [star]  \n",
              "4                    [star]  \n",
              "5                    [star]  \n",
              "6                    [star]  \n",
              "7  [hidden , series , star]  \n",
              "8          [country , star]  \n",
              "9            [child , star]  "
            ],
            "text/html": [
              "\n",
              "  <div id=\"df-b90b8123-fc65-4d2a-95ee-9d28f4e6a922\">\n",
              "    <div class=\"colab-df-container\">\n",
              "      <div>\n",
              "<style scoped>\n",
              "    .dataframe tbody tr th:only-of-type {\n",
              "        vertical-align: middle;\n",
              "    }\n",
              "\n",
              "    .dataframe tbody tr th {\n",
              "        vertical-align: top;\n",
              "    }\n",
              "\n",
              "    .dataframe thead th {\n",
              "        text-align: right;\n",
              "    }\n",
              "</style>\n",
              "<table border=\"1\" class=\"dataframe\">\n",
              "  <thead>\n",
              "    <tr style=\"text-align: right;\">\n",
              "      <th></th>\n",
              "      <th>sim_books</th>\n",
              "      <th>scores</th>\n",
              "      <th>words</th>\n",
              "    </tr>\n",
              "  </thead>\n",
              "  <tbody>\n",
              "    <tr>\n",
              "      <th>0</th>\n",
              "      <td>Star</td>\n",
              "      <td>1.000000</td>\n",
              "      <td>[star]</td>\n",
              "    </tr>\n",
              "    <tr>\n",
              "      <th>1</th>\n",
              "      <td>The Star Rover</td>\n",
              "      <td>1.000000</td>\n",
              "      <td>[star]</td>\n",
              "    </tr>\n",
              "    <tr>\n",
              "      <th>2</th>\n",
              "      <td>Polar Star</td>\n",
              "      <td>1.000000</td>\n",
              "      <td>[star]</td>\n",
              "    </tr>\n",
              "    <tr>\n",
              "      <th>3</th>\n",
              "      <td>Evening Star (Sam Keaton:Legends of Laramie, 1)</td>\n",
              "      <td>1.000000</td>\n",
              "      <td>[star]</td>\n",
              "    </tr>\n",
              "    <tr>\n",
              "      <th>4</th>\n",
              "      <td>Linda Goodman's Star Signs</td>\n",
              "      <td>1.000000</td>\n",
              "      <td>[star]</td>\n",
              "    </tr>\n",
              "    <tr>\n",
              "      <th>5</th>\n",
              "      <td>Troubling a Star</td>\n",
              "      <td>1.000000</td>\n",
              "      <td>[star]</td>\n",
              "    </tr>\n",
              "    <tr>\n",
              "      <th>6</th>\n",
              "      <td>Delta Star</td>\n",
              "      <td>1.000000</td>\n",
              "      <td>[star]</td>\n",
              "    </tr>\n",
              "    <tr>\n",
              "      <th>7</th>\n",
              "      <td>Hidden Star (The Star Series)</td>\n",
              "      <td>0.816497</td>\n",
              "      <td>[hidden , series , star]</td>\n",
              "    </tr>\n",
              "    <tr>\n",
              "      <th>8</th>\n",
              "      <td>Star Country</td>\n",
              "      <td>0.707107</td>\n",
              "      <td>[country , star]</td>\n",
              "    </tr>\n",
              "    <tr>\n",
              "      <th>9</th>\n",
              "      <td>Child Star</td>\n",
              "      <td>0.707107</td>\n",
              "      <td>[child , star]</td>\n",
              "    </tr>\n",
              "  </tbody>\n",
              "</table>\n",
              "</div>\n",
              "      <button class=\"colab-df-convert\" onclick=\"convertToInteractive('df-b90b8123-fc65-4d2a-95ee-9d28f4e6a922')\"\n",
              "              title=\"Convert this dataframe to an interactive table.\"\n",
              "              style=\"display:none;\">\n",
              "        \n",
              "  <svg xmlns=\"http://www.w3.org/2000/svg\" height=\"24px\"viewBox=\"0 0 24 24\"\n",
              "       width=\"24px\">\n",
              "    <path d=\"M0 0h24v24H0V0z\" fill=\"none\"/>\n",
              "    <path d=\"M18.56 5.44l.94 2.06.94-2.06 2.06-.94-2.06-.94-.94-2.06-.94 2.06-2.06.94zm-11 1L8.5 8.5l.94-2.06 2.06-.94-2.06-.94L8.5 2.5l-.94 2.06-2.06.94zm10 10l.94 2.06.94-2.06 2.06-.94-2.06-.94-.94-2.06-.94 2.06-2.06.94z\"/><path d=\"M17.41 7.96l-1.37-1.37c-.4-.4-.92-.59-1.43-.59-.52 0-1.04.2-1.43.59L10.3 9.45l-7.72 7.72c-.78.78-.78 2.05 0 2.83L4 21.41c.39.39.9.59 1.41.59.51 0 1.02-.2 1.41-.59l7.78-7.78 2.81-2.81c.8-.78.8-2.07 0-2.86zM5.41 20L4 18.59l7.72-7.72 1.47 1.35L5.41 20z\"/>\n",
              "  </svg>\n",
              "      </button>\n",
              "      \n",
              "  <style>\n",
              "    .colab-df-container {\n",
              "      display:flex;\n",
              "      flex-wrap:wrap;\n",
              "      gap: 12px;\n",
              "    }\n",
              "\n",
              "    .colab-df-convert {\n",
              "      background-color: #E8F0FE;\n",
              "      border: none;\n",
              "      border-radius: 50%;\n",
              "      cursor: pointer;\n",
              "      display: none;\n",
              "      fill: #1967D2;\n",
              "      height: 32px;\n",
              "      padding: 0 0 0 0;\n",
              "      width: 32px;\n",
              "    }\n",
              "\n",
              "    .colab-df-convert:hover {\n",
              "      background-color: #E2EBFA;\n",
              "      box-shadow: 0px 1px 2px rgba(60, 64, 67, 0.3), 0px 1px 3px 1px rgba(60, 64, 67, 0.15);\n",
              "      fill: #174EA6;\n",
              "    }\n",
              "\n",
              "    [theme=dark] .colab-df-convert {\n",
              "      background-color: #3B4455;\n",
              "      fill: #D2E3FC;\n",
              "    }\n",
              "\n",
              "    [theme=dark] .colab-df-convert:hover {\n",
              "      background-color: #434B5C;\n",
              "      box-shadow: 0px 1px 3px 1px rgba(0, 0, 0, 0.15);\n",
              "      filter: drop-shadow(0px 1px 2px rgba(0, 0, 0, 0.3));\n",
              "      fill: #FFFFFF;\n",
              "    }\n",
              "  </style>\n",
              "\n",
              "      <script>\n",
              "        const buttonEl =\n",
              "          document.querySelector('#df-b90b8123-fc65-4d2a-95ee-9d28f4e6a922 button.colab-df-convert');\n",
              "        buttonEl.style.display =\n",
              "          google.colab.kernel.accessAllowed ? 'block' : 'none';\n",
              "\n",
              "        async function convertToInteractive(key) {\n",
              "          const element = document.querySelector('#df-b90b8123-fc65-4d2a-95ee-9d28f4e6a922');\n",
              "          const dataTable =\n",
              "            await google.colab.kernel.invokeFunction('convertToInteractive',\n",
              "                                                     [key], {});\n",
              "          if (!dataTable) return;\n",
              "\n",
              "          const docLinkHtml = 'Like what you see? Visit the ' +\n",
              "            '<a target=\"_blank\" href=https://colab.research.google.com/notebooks/data_table.ipynb>data table notebook</a>'\n",
              "            + ' to learn more about interactive tables.';\n",
              "          element.innerHTML = '';\n",
              "          dataTable['output_type'] = 'display_data';\n",
              "          await google.colab.output.renderOutput(dataTable, element);\n",
              "          const docLink = document.createElement('div');\n",
              "          docLink.innerHTML = docLinkHtml;\n",
              "          element.appendChild(docLink);\n",
              "        }\n",
              "      </script>\n",
              "    </div>\n",
              "  </div>\n",
              "  "
            ]
          },
          "metadata": {},
          "execution_count": 132
        }
      ],
      "source": [
        "# Let's check out our similar books function\n",
        "return_sim_books(9996)"
      ]
    },
    {
      "cell_type": "markdown",
      "metadata": {
        "id": "S0Yv9Zz_qyLZ"
      },
      "source": [
        "##Content-Based Recommendation on the basis of Book-Puchase history list"
      ]
    },
    {
      "cell_type": "code",
      "execution_count": 133,
      "metadata": {
        "id": "b8HzN4fcq0dO"
      },
      "outputs": [],
      "source": [
        "my_list=['House On Olive Street','The Star Rover']"
      ]
    },
    {
      "cell_type": "code",
      "execution_count": 134,
      "metadata": {
        "colab": {
          "base_uri": "https://localhost:8080/",
          "height": 729
        },
        "id": "GWJMqsqirS8H",
        "outputId": "afd142df-9bee-4983-8948-d399bbc8a4d0"
      },
      "outputs": [
        {
          "output_type": "stream",
          "name": "stdout",
          "text": [
            "Recommended books: \n",
            "For Book = House On Olive Street, Our Recommendation is :\n",
            "For Book = The Star Rover, Our Recommendation is :\n"
          ]
        },
        {
          "output_type": "execute_result",
          "data": {
            "text/plain": [
              "    index                                        sim_books    scores  \\\n",
              "0       8                           Perdido Street Station  0.707107   \n",
              "1       2                                       Polar Star  1.000000   \n",
              "2       9                                       Child Star  0.707107   \n",
              "3       1                                   The Star Rover  1.000000   \n",
              "4       0                            House On Olive Street  1.000000   \n",
              "5       1                        The House on Mango Street  1.000000   \n",
              "6       5                                 Troubling a Star  1.000000   \n",
              "7       6                             Someone in the House  0.707107   \n",
              "8       6                                       Delta Star  1.000000   \n",
              "9       8                                     Star Country  0.707107   \n",
              "10      2                             The House of Thunder  0.707107   \n",
              "11      5                                       Full House  0.707107   \n",
              "12      9                                  A Painted House  0.707107   \n",
              "13      4                                  The Watch House  0.707107   \n",
              "14      0                                             Star  1.000000   \n",
              "15      7              The House With a Clock in Its Walls  0.707107   \n",
              "16      3  Evening Star (Sam Keaton:Legends of Laramie, 1)  1.000000   \n",
              "17      3                                RUSSIA HOUSE, THE  0.707107   \n",
              "18      4                       Linda Goodman's Star Signs  1.000000   \n",
              "19      7                    Hidden Star (The Star Series)  0.816497   \n",
              "\n",
              "                       words  \n",
              "0                   [street]  \n",
              "1                     [star]  \n",
              "2             [child , star]  \n",
              "3                     [star]  \n",
              "4           [house , street]  \n",
              "5           [house , street]  \n",
              "6                     [star]  \n",
              "7                    [house]  \n",
              "8                     [star]  \n",
              "9           [country , star]  \n",
              "10                   [house]  \n",
              "11                   [house]  \n",
              "12                   [house]  \n",
              "13                   [house]  \n",
              "14                    [star]  \n",
              "15                   [house]  \n",
              "16                    [star]  \n",
              "17                   [house]  \n",
              "18                    [star]  \n",
              "19  [hidden , series , star]  "
            ],
            "text/html": [
              "\n",
              "  <div id=\"df-3decef35-a00d-454d-b219-fe776156ed2d\">\n",
              "    <div class=\"colab-df-container\">\n",
              "      <div>\n",
              "<style scoped>\n",
              "    .dataframe tbody tr th:only-of-type {\n",
              "        vertical-align: middle;\n",
              "    }\n",
              "\n",
              "    .dataframe tbody tr th {\n",
              "        vertical-align: top;\n",
              "    }\n",
              "\n",
              "    .dataframe thead th {\n",
              "        text-align: right;\n",
              "    }\n",
              "</style>\n",
              "<table border=\"1\" class=\"dataframe\">\n",
              "  <thead>\n",
              "    <tr style=\"text-align: right;\">\n",
              "      <th></th>\n",
              "      <th>index</th>\n",
              "      <th>sim_books</th>\n",
              "      <th>scores</th>\n",
              "      <th>words</th>\n",
              "    </tr>\n",
              "  </thead>\n",
              "  <tbody>\n",
              "    <tr>\n",
              "      <th>0</th>\n",
              "      <td>8</td>\n",
              "      <td>Perdido Street Station</td>\n",
              "      <td>0.707107</td>\n",
              "      <td>[street]</td>\n",
              "    </tr>\n",
              "    <tr>\n",
              "      <th>1</th>\n",
              "      <td>2</td>\n",
              "      <td>Polar Star</td>\n",
              "      <td>1.000000</td>\n",
              "      <td>[star]</td>\n",
              "    </tr>\n",
              "    <tr>\n",
              "      <th>2</th>\n",
              "      <td>9</td>\n",
              "      <td>Child Star</td>\n",
              "      <td>0.707107</td>\n",
              "      <td>[child , star]</td>\n",
              "    </tr>\n",
              "    <tr>\n",
              "      <th>3</th>\n",
              "      <td>1</td>\n",
              "      <td>The Star Rover</td>\n",
              "      <td>1.000000</td>\n",
              "      <td>[star]</td>\n",
              "    </tr>\n",
              "    <tr>\n",
              "      <th>4</th>\n",
              "      <td>0</td>\n",
              "      <td>House On Olive Street</td>\n",
              "      <td>1.000000</td>\n",
              "      <td>[house , street]</td>\n",
              "    </tr>\n",
              "    <tr>\n",
              "      <th>5</th>\n",
              "      <td>1</td>\n",
              "      <td>The House on Mango Street</td>\n",
              "      <td>1.000000</td>\n",
              "      <td>[house , street]</td>\n",
              "    </tr>\n",
              "    <tr>\n",
              "      <th>6</th>\n",
              "      <td>5</td>\n",
              "      <td>Troubling a Star</td>\n",
              "      <td>1.000000</td>\n",
              "      <td>[star]</td>\n",
              "    </tr>\n",
              "    <tr>\n",
              "      <th>7</th>\n",
              "      <td>6</td>\n",
              "      <td>Someone in the House</td>\n",
              "      <td>0.707107</td>\n",
              "      <td>[house]</td>\n",
              "    </tr>\n",
              "    <tr>\n",
              "      <th>8</th>\n",
              "      <td>6</td>\n",
              "      <td>Delta Star</td>\n",
              "      <td>1.000000</td>\n",
              "      <td>[star]</td>\n",
              "    </tr>\n",
              "    <tr>\n",
              "      <th>9</th>\n",
              "      <td>8</td>\n",
              "      <td>Star Country</td>\n",
              "      <td>0.707107</td>\n",
              "      <td>[country , star]</td>\n",
              "    </tr>\n",
              "    <tr>\n",
              "      <th>10</th>\n",
              "      <td>2</td>\n",
              "      <td>The House of Thunder</td>\n",
              "      <td>0.707107</td>\n",
              "      <td>[house]</td>\n",
              "    </tr>\n",
              "    <tr>\n",
              "      <th>11</th>\n",
              "      <td>5</td>\n",
              "      <td>Full House</td>\n",
              "      <td>0.707107</td>\n",
              "      <td>[house]</td>\n",
              "    </tr>\n",
              "    <tr>\n",
              "      <th>12</th>\n",
              "      <td>9</td>\n",
              "      <td>A Painted House</td>\n",
              "      <td>0.707107</td>\n",
              "      <td>[house]</td>\n",
              "    </tr>\n",
              "    <tr>\n",
              "      <th>13</th>\n",
              "      <td>4</td>\n",
              "      <td>The Watch House</td>\n",
              "      <td>0.707107</td>\n",
              "      <td>[house]</td>\n",
              "    </tr>\n",
              "    <tr>\n",
              "      <th>14</th>\n",
              "      <td>0</td>\n",
              "      <td>Star</td>\n",
              "      <td>1.000000</td>\n",
              "      <td>[star]</td>\n",
              "    </tr>\n",
              "    <tr>\n",
              "      <th>15</th>\n",
              "      <td>7</td>\n",
              "      <td>The House With a Clock in Its Walls</td>\n",
              "      <td>0.707107</td>\n",
              "      <td>[house]</td>\n",
              "    </tr>\n",
              "    <tr>\n",
              "      <th>16</th>\n",
              "      <td>3</td>\n",
              "      <td>Evening Star (Sam Keaton:Legends of Laramie, 1)</td>\n",
              "      <td>1.000000</td>\n",
              "      <td>[star]</td>\n",
              "    </tr>\n",
              "    <tr>\n",
              "      <th>17</th>\n",
              "      <td>3</td>\n",
              "      <td>RUSSIA HOUSE, THE</td>\n",
              "      <td>0.707107</td>\n",
              "      <td>[house]</td>\n",
              "    </tr>\n",
              "    <tr>\n",
              "      <th>18</th>\n",
              "      <td>4</td>\n",
              "      <td>Linda Goodman's Star Signs</td>\n",
              "      <td>1.000000</td>\n",
              "      <td>[star]</td>\n",
              "    </tr>\n",
              "    <tr>\n",
              "      <th>19</th>\n",
              "      <td>7</td>\n",
              "      <td>Hidden Star (The Star Series)</td>\n",
              "      <td>0.816497</td>\n",
              "      <td>[hidden , series , star]</td>\n",
              "    </tr>\n",
              "  </tbody>\n",
              "</table>\n",
              "</div>\n",
              "      <button class=\"colab-df-convert\" onclick=\"convertToInteractive('df-3decef35-a00d-454d-b219-fe776156ed2d')\"\n",
              "              title=\"Convert this dataframe to an interactive table.\"\n",
              "              style=\"display:none;\">\n",
              "        \n",
              "  <svg xmlns=\"http://www.w3.org/2000/svg\" height=\"24px\"viewBox=\"0 0 24 24\"\n",
              "       width=\"24px\">\n",
              "    <path d=\"M0 0h24v24H0V0z\" fill=\"none\"/>\n",
              "    <path d=\"M18.56 5.44l.94 2.06.94-2.06 2.06-.94-2.06-.94-.94-2.06-.94 2.06-2.06.94zm-11 1L8.5 8.5l.94-2.06 2.06-.94-2.06-.94L8.5 2.5l-.94 2.06-2.06.94zm10 10l.94 2.06.94-2.06 2.06-.94-2.06-.94-.94-2.06-.94 2.06-2.06.94z\"/><path d=\"M17.41 7.96l-1.37-1.37c-.4-.4-.92-.59-1.43-.59-.52 0-1.04.2-1.43.59L10.3 9.45l-7.72 7.72c-.78.78-.78 2.05 0 2.83L4 21.41c.39.39.9.59 1.41.59.51 0 1.02-.2 1.41-.59l7.78-7.78 2.81-2.81c.8-.78.8-2.07 0-2.86zM5.41 20L4 18.59l7.72-7.72 1.47 1.35L5.41 20z\"/>\n",
              "  </svg>\n",
              "      </button>\n",
              "      \n",
              "  <style>\n",
              "    .colab-df-container {\n",
              "      display:flex;\n",
              "      flex-wrap:wrap;\n",
              "      gap: 12px;\n",
              "    }\n",
              "\n",
              "    .colab-df-convert {\n",
              "      background-color: #E8F0FE;\n",
              "      border: none;\n",
              "      border-radius: 50%;\n",
              "      cursor: pointer;\n",
              "      display: none;\n",
              "      fill: #1967D2;\n",
              "      height: 32px;\n",
              "      padding: 0 0 0 0;\n",
              "      width: 32px;\n",
              "    }\n",
              "\n",
              "    .colab-df-convert:hover {\n",
              "      background-color: #E2EBFA;\n",
              "      box-shadow: 0px 1px 2px rgba(60, 64, 67, 0.3), 0px 1px 3px 1px rgba(60, 64, 67, 0.15);\n",
              "      fill: #174EA6;\n",
              "    }\n",
              "\n",
              "    [theme=dark] .colab-df-convert {\n",
              "      background-color: #3B4455;\n",
              "      fill: #D2E3FC;\n",
              "    }\n",
              "\n",
              "    [theme=dark] .colab-df-convert:hover {\n",
              "      background-color: #434B5C;\n",
              "      box-shadow: 0px 1px 3px 1px rgba(0, 0, 0, 0.15);\n",
              "      filter: drop-shadow(0px 1px 2px rgba(0, 0, 0, 0.3));\n",
              "      fill: #FFFFFF;\n",
              "    }\n",
              "  </style>\n",
              "\n",
              "      <script>\n",
              "        const buttonEl =\n",
              "          document.querySelector('#df-3decef35-a00d-454d-b219-fe776156ed2d button.colab-df-convert');\n",
              "        buttonEl.style.display =\n",
              "          google.colab.kernel.accessAllowed ? 'block' : 'none';\n",
              "\n",
              "        async function convertToInteractive(key) {\n",
              "          const element = document.querySelector('#df-3decef35-a00d-454d-b219-fe776156ed2d');\n",
              "          const dataTable =\n",
              "            await google.colab.kernel.invokeFunction('convertToInteractive',\n",
              "                                                     [key], {});\n",
              "          if (!dataTable) return;\n",
              "\n",
              "          const docLinkHtml = 'Like what you see? Visit the ' +\n",
              "            '<a target=\"_blank\" href=https://colab.research.google.com/notebooks/data_table.ipynb>data table notebook</a>'\n",
              "            + ' to learn more about interactive tables.';\n",
              "          element.innerHTML = '';\n",
              "          dataTable['output_type'] = 'display_data';\n",
              "          await google.colab.output.renderOutput(dataTable, element);\n",
              "          const docLink = document.createElement('div');\n",
              "          docLink.innerHTML = docLinkHtml;\n",
              "          element.appendChild(docLink);\n",
              "        }\n",
              "      </script>\n",
              "    </div>\n",
              "  </div>\n",
              "  "
            ]
          },
          "metadata": {},
          "execution_count": 134
        }
      ],
      "source": [
        "result = pd.DataFrame()\n",
        "n = 5 #Recommend top n similar books\n",
        "print('Recommended books: ')\n",
        "for i in my_list:\n",
        "    output = pd.DataFrame(return_sim_books(book3.index[book3['Book-Title'] == i][0]))\n",
        "    result = result.append(output)\n",
        "    result = result.drop_duplicates(subset=['sim_books'])\n",
        "result= result.sample(n=20).reset_index()   #for mixing up rows with each other or pickup random rows and reset index\n",
        "result"
      ]
    },
    {
      "cell_type": "markdown",
      "metadata": {
        "id": "0aUtWyuHvtuK"
      },
      "source": [
        "#Conclusion"
      ]
    },
    {
      "cell_type": "markdown",
      "metadata": {
        "id": "57WuUWmyv_GX"
      },
      "source": [
        "\n",
        "Alas! We have reached the end of our notebook.\n",
        "\n",
        "For this project our client is an online book selling firm. They now need assistance in developing a model to recommend another books on the basis of customer purchase-history and other information which are given in the datasets.\n",
        "\n",
        "Building a model to recommend another books is extremely beneficial to the company because it can increase their sales via recommend relevant books to their customers and optimise its business model and revenue accordingly.\n",
        "\n",
        "* For modelling, it was observed that for **model based** collaborative filtering SVD technique worked way better than NMF with lower Mean Absolute Error (MAE) .<br>\n",
        "* Amongst the memory based approach, **item-item CF performed better** than **user-item CF** because of lower computation.\n",
        "* Content-based recommendation on the basis of **Tags** are also doing good in terms of results."
      ]
    },
    {
      "cell_type": "markdown",
      "metadata": {
        "id": "5IE3lia0wFte"
      },
      "source": [
        "###Key points:\n",
        "\n",
        "*   Customers of age between 20 to 30 are more likely to buy books.\n",
        "\n",
        "*   Customers who are in USA are more likely to buy books than others.\n",
        "\n",
        "*   Our overall top selling authors are Agatha Cristie, William Shakespeare and Stephen King.\n",
        "\n",
        "*   If we look at the ratings distribution, most of the books have high ratings with maximum books being rated 8. Ratings below 5 are few in number.\n",
        "\n",
        "*   Our overall top selling publishers are Harlequin, Silhouette and Pocket.\n",
        "\n",
        "*   Our overall top selling books are The Lovely Bones: A Novel, Wild Animus and The Da Vinci Code, The Red Tent (Bestselling Backlist).\n",
        "."
      ]
    },
    {
      "cell_type": "markdown",
      "metadata": {
        "id": "Tqrs1eH6wMSs"
      },
      "source": [
        "###Improvements:\n",
        "\n",
        "1. By using a marketing and advertising approach, we can reduce the age-gap.\n",
        "\n",
        "2. We can clearly see that we have a larger number of buyer within USA, therefore we can easily recommend books to them on the basis of location and use this starategy for our campaign.\n",
        "\n",
        "3. We nearly make 10 recommender system from which we can select Best according to our Business-needs.\n",
        "\n",
        "4. We can push those type of books to publish which are similar to our top-selling books and recommend them to our Users."
      ]
    },
    {
      "cell_type": "markdown",
      "metadata": {
        "id": "-O1a4ulb5Tc9"
      },
      "source": [
        "##Future Work\n",
        "\n",
        "*   We can recommend books to our customers on basis of genres also but we have no information on that so we have to record books genres also for better recommendation.\n",
        "*   We can also record Date-time of our users when they buy book, By using that we can recommend our top books, authors, publication on monthly basis."
      ]
    },
    {
      "cell_type": "code",
      "execution_count": null,
      "metadata": {
        "id": "xUT6w3-I8hK6"
      },
      "outputs": [],
      "source": [
        ""
      ]
    }
  ],
  "metadata": {
    "colab": {
      "collapsed_sections": [],
      "name": "Copy of Team Book Recommendation System",
      "provenance": [],
      "include_colab_link": true
    },
    "kernelspec": {
      "display_name": "Python 3",
      "name": "python3"
    },
    "language_info": {
      "name": "python"
    }
  },
  "nbformat": 4,
  "nbformat_minor": 0
}