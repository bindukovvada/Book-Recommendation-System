{
  "cells": [
    {
      "cell_type": "markdown",
      "metadata": {
        "id": "view-in-github",
        "colab_type": "text"
      },
      "source": [
        "<a href=\"https://colab.research.google.com/github/bindukovvada/Book-Recommendation-System/blob/main/Team_Book_Recommendation_System.ipynb\" target=\"_parent\"><img src=\"https://colab.research.google.com/assets/colab-badge.svg\" alt=\"Open In Colab\"/></a>"
      ]
    },
    {
      "cell_type": "markdown",
      "metadata": {
        "id": "J88m0JQQ4voS"
      },
      "source": [
        "**BOOK RECOMMENDATION SYSTEM**"
      ]
    },
    {
      "cell_type": "markdown",
      "metadata": {
        "id": "cFd8ev9X4vY1"
      },
      "source": [
        "#Problem Statement\n",
        "During the last few decades, with the rise of Youtube, Amazon, Netflix, and many other such\n",
        "web services, recommender systems have taken more and more place in our lives. From\n",
        "e-commerce (suggest to buyers articles that could interest them) to online advertisement\n",
        "(suggest to users the right contents, matching their preferences), recommender systems are\n",
        "today unavoidable in our daily online journeys.\n",
        "\n",
        "\n",
        "In a very general way, recommender systems are algorithms aimed at suggesting relevant\n",
        "items to users (items being movies to watch, text to read, products to buy, or anything else\n",
        "depending on industries).\n",
        "Recommender systems are really critical in some industries as they can generate a huge\n",
        "amount of income when they are efficient or also be a way to stand out significantly from\n",
        "competitors. The main objective is to create a book recommendation system for users.\n",
        "\n",
        "\n",
        "#Content\n",
        "The Book-Crossing dataset comprises 3 files.\n",
        "\n",
        "● Users\n",
        "Contains the users. Note that user IDs (User-ID) have been anonymized and map to\n",
        "integers. Demographic data is provided (Location, Age) if available. Otherwise, these\n",
        "fields contain NULL values.\n",
        "\n",
        "● Books\n",
        "Books are identified by their respective ISBN. Invalid ISBNs have already been removed\n",
        "from the dataset. Moreover, some content-based information is given (Book-Title,\n",
        "Book-Author, Year-Of-Publication, Publisher), obtained from Amazon Web\n",
        "Services. Note that in the case of several authors, only the first is provided. URLs linking\n",
        "to cover images are also given, appearing in three different flavors (Image-URL-S,\n",
        "Image-URL-M, Image-URL-L), i.e., small, medium, large. These URLs point to the\n",
        "Amazon website.\n",
        "\n",
        "● Ratings\n",
        "Contains the book rating information. Ratings (Book-Rating) are either explicit,\n",
        "expressed on a scale from 1-10 (higher values denoting higher appreciation), or implicit,\n",
        "expressed by 0."
      ]
    },
    {
      "cell_type": "markdown",
      "metadata": {
        "id": "m6HpDY4dsFvi"
      },
      "source": [
        "#Table of content\n",
        "* __Step 1: Importing the Relevant Libraries and Data Inspection__\n",
        "    \n",
        "* __Step 2: Exploratory Data Analysis (Dataset-wise)__\n",
        "    \n",
        "* **Step 3: Recommendation for New Users(Cold Start)**\n",
        "    \n",
        "* **Step 4: Model Based Collaborative Filtering Recommender**\n",
        "\n",
        "* __Step 5: Memory Based Collaborative Filtering Recommender__\n",
        "\n",
        "  *   Item-Item Based\n",
        "  *   Item-Item Based- Second Method\n",
        "  *   User-Item Based\n",
        "   \n",
        "* __Step 6: Content Based Filtering Recommender__\n",
        "\n",
        "    *  On the basis of Title\n",
        "    *  On the basis of Author\n",
        "    *  On the basis of Search-Keyword\n",
        "      * Via TF-idf\n",
        "      * **Via Tags**\n",
        "    *  On the basis of Purchase-History\n",
        "\n",
        "* __Step 7: Conclusion__"
      ]
    },
    {
      "cell_type": "markdown",
      "metadata": {
        "id": "FwazDzvt-iU9"
      },
      "source": [
        "#**Importing and Inspecting Dataset**"
      ]
    },
    {
      "cell_type": "code",
      "execution_count": 3,
      "metadata": {
        "id": "m2w_ho8y-Nko"
      },
      "outputs": [],
      "source": [
        "#Importing modules\n",
        "import pandas as pd\n",
        "import sys\n",
        "import numpy as np\n",
        "import matplotlib.pyplot as plt\n",
        "import seaborn as sns\n",
        "import random\n",
        "import math\n",
        "\n",
        "from sklearn.model_selection import train_test_split\n",
        "from sklearn.feature_extraction.text import TfidfVectorizer\n",
        "from sklearn.feature_extraction.text import CountVectorizer\n",
        "from sklearn.metrics.pairwise import cosine_similarity\n",
        "from sklearn.metrics.pairwise import linear_kernel\n",
        "from scipy.sparse.linalg import svds\n",
        "# This is to supress the warning messages (if any) generated in our code\n",
        "import warnings\n",
        "warnings.filterwarnings('ignore')\n",
        "from tqdm import tqdm  #(progress bar)\n"
      ]
    },
    {
      "cell_type": "code",
      "execution_count": 4,
      "metadata": {
        "id": "yLEu5MzrTkKt",
        "colab": {
          "base_uri": "https://localhost:8080/"
        },
        "outputId": "ad74f340-427c-4296-ac70-ff5399cb8ca4"
      },
      "outputs": [
        {
          "output_type": "stream",
          "name": "stdout",
          "text": [
            "Mounted at /content/drive\n"
          ]
        }
      ],
      "source": [
        "# connnecting drive\n",
        "from google.colab import drive\n",
        "drive.mount('/content/drive')"
      ]
    },
    {
      "cell_type": "code",
      "execution_count": 5,
      "metadata": {
        "id": "0yOQGechjZtl"
      },
      "outputs": [],
      "source": [
        "books=pd.read_csv('/content/drive/MyDrive/Capstone Project - 4/Copy of Books.csv')\n",
        "ratings=pd.read_csv('/content/drive/MyDrive/Capstone Project - 4/Copy of Ratings.csv')\n",
        "users=pd.read_csv('/content/drive/MyDrive/Capstone Project - 4/Copy of Users.csv')"
      ]
    },
    {
      "cell_type": "markdown",
      "metadata": {
        "id": "GHYcMe9Ojq3v"
      },
      "source": [
        "### Data Inspection"
      ]
    },
    {
      "cell_type": "code",
      "execution_count": 6,
      "metadata": {
        "id": "BqEiQVzsj5MU",
        "colab": {
          "base_uri": "https://localhost:8080/",
          "height": 329
        },
        "outputId": "cc219364-1e87-45f8-9c42-6dc77b4aa99e"
      },
      "outputs": [
        {
          "output_type": "execute_result",
          "data": {
            "text/plain": [
              "         ISBN            Book-Title           Book-Author Year-Of-Publication  \\\n",
              "0  0195153448   Classical Mythology    Mark P. O. Morford                2002   \n",
              "1  0002005018          Clara Callan  Richard Bruce Wright                2001   \n",
              "2  0060973129  Decision in Normandy          Carlo D'Este                1991   \n",
              "\n",
              "                 Publisher                                        Image-URL-S  \\\n",
              "0  Oxford University Press  http://images.amazon.com/images/P/0195153448.0...   \n",
              "1    HarperFlamingo Canada  http://images.amazon.com/images/P/0002005018.0...   \n",
              "2          HarperPerennial  http://images.amazon.com/images/P/0060973129.0...   \n",
              "\n",
              "                                         Image-URL-M  \\\n",
              "0  http://images.amazon.com/images/P/0195153448.0...   \n",
              "1  http://images.amazon.com/images/P/0002005018.0...   \n",
              "2  http://images.amazon.com/images/P/0060973129.0...   \n",
              "\n",
              "                                         Image-URL-L  \n",
              "0  http://images.amazon.com/images/P/0195153448.0...  \n",
              "1  http://images.amazon.com/images/P/0002005018.0...  \n",
              "2  http://images.amazon.com/images/P/0060973129.0...  "
            ],
            "text/html": [
              "\n",
              "  <div id=\"df-693a3a14-ca3e-4d9e-9041-353ddf848a53\">\n",
              "    <div class=\"colab-df-container\">\n",
              "      <div>\n",
              "<style scoped>\n",
              "    .dataframe tbody tr th:only-of-type {\n",
              "        vertical-align: middle;\n",
              "    }\n",
              "\n",
              "    .dataframe tbody tr th {\n",
              "        vertical-align: top;\n",
              "    }\n",
              "\n",
              "    .dataframe thead th {\n",
              "        text-align: right;\n",
              "    }\n",
              "</style>\n",
              "<table border=\"1\" class=\"dataframe\">\n",
              "  <thead>\n",
              "    <tr style=\"text-align: right;\">\n",
              "      <th></th>\n",
              "      <th>ISBN</th>\n",
              "      <th>Book-Title</th>\n",
              "      <th>Book-Author</th>\n",
              "      <th>Year-Of-Publication</th>\n",
              "      <th>Publisher</th>\n",
              "      <th>Image-URL-S</th>\n",
              "      <th>Image-URL-M</th>\n",
              "      <th>Image-URL-L</th>\n",
              "    </tr>\n",
              "  </thead>\n",
              "  <tbody>\n",
              "    <tr>\n",
              "      <th>0</th>\n",
              "      <td>0195153448</td>\n",
              "      <td>Classical Mythology</td>\n",
              "      <td>Mark P. O. Morford</td>\n",
              "      <td>2002</td>\n",
              "      <td>Oxford University Press</td>\n",
              "      <td>http://images.amazon.com/images/P/0195153448.0...</td>\n",
              "      <td>http://images.amazon.com/images/P/0195153448.0...</td>\n",
              "      <td>http://images.amazon.com/images/P/0195153448.0...</td>\n",
              "    </tr>\n",
              "    <tr>\n",
              "      <th>1</th>\n",
              "      <td>0002005018</td>\n",
              "      <td>Clara Callan</td>\n",
              "      <td>Richard Bruce Wright</td>\n",
              "      <td>2001</td>\n",
              "      <td>HarperFlamingo Canada</td>\n",
              "      <td>http://images.amazon.com/images/P/0002005018.0...</td>\n",
              "      <td>http://images.amazon.com/images/P/0002005018.0...</td>\n",
              "      <td>http://images.amazon.com/images/P/0002005018.0...</td>\n",
              "    </tr>\n",
              "    <tr>\n",
              "      <th>2</th>\n",
              "      <td>0060973129</td>\n",
              "      <td>Decision in Normandy</td>\n",
              "      <td>Carlo D'Este</td>\n",
              "      <td>1991</td>\n",
              "      <td>HarperPerennial</td>\n",
              "      <td>http://images.amazon.com/images/P/0060973129.0...</td>\n",
              "      <td>http://images.amazon.com/images/P/0060973129.0...</td>\n",
              "      <td>http://images.amazon.com/images/P/0060973129.0...</td>\n",
              "    </tr>\n",
              "  </tbody>\n",
              "</table>\n",
              "</div>\n",
              "      <button class=\"colab-df-convert\" onclick=\"convertToInteractive('df-693a3a14-ca3e-4d9e-9041-353ddf848a53')\"\n",
              "              title=\"Convert this dataframe to an interactive table.\"\n",
              "              style=\"display:none;\">\n",
              "        \n",
              "  <svg xmlns=\"http://www.w3.org/2000/svg\" height=\"24px\"viewBox=\"0 0 24 24\"\n",
              "       width=\"24px\">\n",
              "    <path d=\"M0 0h24v24H0V0z\" fill=\"none\"/>\n",
              "    <path d=\"M18.56 5.44l.94 2.06.94-2.06 2.06-.94-2.06-.94-.94-2.06-.94 2.06-2.06.94zm-11 1L8.5 8.5l.94-2.06 2.06-.94-2.06-.94L8.5 2.5l-.94 2.06-2.06.94zm10 10l.94 2.06.94-2.06 2.06-.94-2.06-.94-.94-2.06-.94 2.06-2.06.94z\"/><path d=\"M17.41 7.96l-1.37-1.37c-.4-.4-.92-.59-1.43-.59-.52 0-1.04.2-1.43.59L10.3 9.45l-7.72 7.72c-.78.78-.78 2.05 0 2.83L4 21.41c.39.39.9.59 1.41.59.51 0 1.02-.2 1.41-.59l7.78-7.78 2.81-2.81c.8-.78.8-2.07 0-2.86zM5.41 20L4 18.59l7.72-7.72 1.47 1.35L5.41 20z\"/>\n",
              "  </svg>\n",
              "      </button>\n",
              "      \n",
              "  <style>\n",
              "    .colab-df-container {\n",
              "      display:flex;\n",
              "      flex-wrap:wrap;\n",
              "      gap: 12px;\n",
              "    }\n",
              "\n",
              "    .colab-df-convert {\n",
              "      background-color: #E8F0FE;\n",
              "      border: none;\n",
              "      border-radius: 50%;\n",
              "      cursor: pointer;\n",
              "      display: none;\n",
              "      fill: #1967D2;\n",
              "      height: 32px;\n",
              "      padding: 0 0 0 0;\n",
              "      width: 32px;\n",
              "    }\n",
              "\n",
              "    .colab-df-convert:hover {\n",
              "      background-color: #E2EBFA;\n",
              "      box-shadow: 0px 1px 2px rgba(60, 64, 67, 0.3), 0px 1px 3px 1px rgba(60, 64, 67, 0.15);\n",
              "      fill: #174EA6;\n",
              "    }\n",
              "\n",
              "    [theme=dark] .colab-df-convert {\n",
              "      background-color: #3B4455;\n",
              "      fill: #D2E3FC;\n",
              "    }\n",
              "\n",
              "    [theme=dark] .colab-df-convert:hover {\n",
              "      background-color: #434B5C;\n",
              "      box-shadow: 0px 1px 3px 1px rgba(0, 0, 0, 0.15);\n",
              "      filter: drop-shadow(0px 1px 2px rgba(0, 0, 0, 0.3));\n",
              "      fill: #FFFFFF;\n",
              "    }\n",
              "  </style>\n",
              "\n",
              "      <script>\n",
              "        const buttonEl =\n",
              "          document.querySelector('#df-693a3a14-ca3e-4d9e-9041-353ddf848a53 button.colab-df-convert');\n",
              "        buttonEl.style.display =\n",
              "          google.colab.kernel.accessAllowed ? 'block' : 'none';\n",
              "\n",
              "        async function convertToInteractive(key) {\n",
              "          const element = document.querySelector('#df-693a3a14-ca3e-4d9e-9041-353ddf848a53');\n",
              "          const dataTable =\n",
              "            await google.colab.kernel.invokeFunction('convertToInteractive',\n",
              "                                                     [key], {});\n",
              "          if (!dataTable) return;\n",
              "\n",
              "          const docLinkHtml = 'Like what you see? Visit the ' +\n",
              "            '<a target=\"_blank\" href=https://colab.research.google.com/notebooks/data_table.ipynb>data table notebook</a>'\n",
              "            + ' to learn more about interactive tables.';\n",
              "          element.innerHTML = '';\n",
              "          dataTable['output_type'] = 'display_data';\n",
              "          await google.colab.output.renderOutput(dataTable, element);\n",
              "          const docLink = document.createElement('div');\n",
              "          docLink.innerHTML = docLinkHtml;\n",
              "          element.appendChild(docLink);\n",
              "        }\n",
              "      </script>\n",
              "    </div>\n",
              "  </div>\n",
              "  "
            ]
          },
          "metadata": {},
          "execution_count": 6
        }
      ],
      "source": [
        "books.head(3)"
      ]
    },
    {
      "cell_type": "code",
      "execution_count": 7,
      "metadata": {
        "id": "ccJUYH3FkADK",
        "colab": {
          "base_uri": "https://localhost:8080/",
          "height": 143
        },
        "outputId": "3185e176-8a70-405e-d373-7865c483a25f"
      },
      "outputs": [
        {
          "output_type": "execute_result",
          "data": {
            "text/plain": [
              "   User-ID        ISBN  Book-Rating\n",
              "0   276725  034545104X            0\n",
              "1   276726  0155061224            5\n",
              "2   276727  0446520802            0"
            ],
            "text/html": [
              "\n",
              "  <div id=\"df-a0b0f58f-e3f1-4b65-87f6-1920f565ff7c\">\n",
              "    <div class=\"colab-df-container\">\n",
              "      <div>\n",
              "<style scoped>\n",
              "    .dataframe tbody tr th:only-of-type {\n",
              "        vertical-align: middle;\n",
              "    }\n",
              "\n",
              "    .dataframe tbody tr th {\n",
              "        vertical-align: top;\n",
              "    }\n",
              "\n",
              "    .dataframe thead th {\n",
              "        text-align: right;\n",
              "    }\n",
              "</style>\n",
              "<table border=\"1\" class=\"dataframe\">\n",
              "  <thead>\n",
              "    <tr style=\"text-align: right;\">\n",
              "      <th></th>\n",
              "      <th>User-ID</th>\n",
              "      <th>ISBN</th>\n",
              "      <th>Book-Rating</th>\n",
              "    </tr>\n",
              "  </thead>\n",
              "  <tbody>\n",
              "    <tr>\n",
              "      <th>0</th>\n",
              "      <td>276725</td>\n",
              "      <td>034545104X</td>\n",
              "      <td>0</td>\n",
              "    </tr>\n",
              "    <tr>\n",
              "      <th>1</th>\n",
              "      <td>276726</td>\n",
              "      <td>0155061224</td>\n",
              "      <td>5</td>\n",
              "    </tr>\n",
              "    <tr>\n",
              "      <th>2</th>\n",
              "      <td>276727</td>\n",
              "      <td>0446520802</td>\n",
              "      <td>0</td>\n",
              "    </tr>\n",
              "  </tbody>\n",
              "</table>\n",
              "</div>\n",
              "      <button class=\"colab-df-convert\" onclick=\"convertToInteractive('df-a0b0f58f-e3f1-4b65-87f6-1920f565ff7c')\"\n",
              "              title=\"Convert this dataframe to an interactive table.\"\n",
              "              style=\"display:none;\">\n",
              "        \n",
              "  <svg xmlns=\"http://www.w3.org/2000/svg\" height=\"24px\"viewBox=\"0 0 24 24\"\n",
              "       width=\"24px\">\n",
              "    <path d=\"M0 0h24v24H0V0z\" fill=\"none\"/>\n",
              "    <path d=\"M18.56 5.44l.94 2.06.94-2.06 2.06-.94-2.06-.94-.94-2.06-.94 2.06-2.06.94zm-11 1L8.5 8.5l.94-2.06 2.06-.94-2.06-.94L8.5 2.5l-.94 2.06-2.06.94zm10 10l.94 2.06.94-2.06 2.06-.94-2.06-.94-.94-2.06-.94 2.06-2.06.94z\"/><path d=\"M17.41 7.96l-1.37-1.37c-.4-.4-.92-.59-1.43-.59-.52 0-1.04.2-1.43.59L10.3 9.45l-7.72 7.72c-.78.78-.78 2.05 0 2.83L4 21.41c.39.39.9.59 1.41.59.51 0 1.02-.2 1.41-.59l7.78-7.78 2.81-2.81c.8-.78.8-2.07 0-2.86zM5.41 20L4 18.59l7.72-7.72 1.47 1.35L5.41 20z\"/>\n",
              "  </svg>\n",
              "      </button>\n",
              "      \n",
              "  <style>\n",
              "    .colab-df-container {\n",
              "      display:flex;\n",
              "      flex-wrap:wrap;\n",
              "      gap: 12px;\n",
              "    }\n",
              "\n",
              "    .colab-df-convert {\n",
              "      background-color: #E8F0FE;\n",
              "      border: none;\n",
              "      border-radius: 50%;\n",
              "      cursor: pointer;\n",
              "      display: none;\n",
              "      fill: #1967D2;\n",
              "      height: 32px;\n",
              "      padding: 0 0 0 0;\n",
              "      width: 32px;\n",
              "    }\n",
              "\n",
              "    .colab-df-convert:hover {\n",
              "      background-color: #E2EBFA;\n",
              "      box-shadow: 0px 1px 2px rgba(60, 64, 67, 0.3), 0px 1px 3px 1px rgba(60, 64, 67, 0.15);\n",
              "      fill: #174EA6;\n",
              "    }\n",
              "\n",
              "    [theme=dark] .colab-df-convert {\n",
              "      background-color: #3B4455;\n",
              "      fill: #D2E3FC;\n",
              "    }\n",
              "\n",
              "    [theme=dark] .colab-df-convert:hover {\n",
              "      background-color: #434B5C;\n",
              "      box-shadow: 0px 1px 3px 1px rgba(0, 0, 0, 0.15);\n",
              "      filter: drop-shadow(0px 1px 2px rgba(0, 0, 0, 0.3));\n",
              "      fill: #FFFFFF;\n",
              "    }\n",
              "  </style>\n",
              "\n",
              "      <script>\n",
              "        const buttonEl =\n",
              "          document.querySelector('#df-a0b0f58f-e3f1-4b65-87f6-1920f565ff7c button.colab-df-convert');\n",
              "        buttonEl.style.display =\n",
              "          google.colab.kernel.accessAllowed ? 'block' : 'none';\n",
              "\n",
              "        async function convertToInteractive(key) {\n",
              "          const element = document.querySelector('#df-a0b0f58f-e3f1-4b65-87f6-1920f565ff7c');\n",
              "          const dataTable =\n",
              "            await google.colab.kernel.invokeFunction('convertToInteractive',\n",
              "                                                     [key], {});\n",
              "          if (!dataTable) return;\n",
              "\n",
              "          const docLinkHtml = 'Like what you see? Visit the ' +\n",
              "            '<a target=\"_blank\" href=https://colab.research.google.com/notebooks/data_table.ipynb>data table notebook</a>'\n",
              "            + ' to learn more about interactive tables.';\n",
              "          element.innerHTML = '';\n",
              "          dataTable['output_type'] = 'display_data';\n",
              "          await google.colab.output.renderOutput(dataTable, element);\n",
              "          const docLink = document.createElement('div');\n",
              "          docLink.innerHTML = docLinkHtml;\n",
              "          element.appendChild(docLink);\n",
              "        }\n",
              "      </script>\n",
              "    </div>\n",
              "  </div>\n",
              "  "
            ]
          },
          "metadata": {},
          "execution_count": 7
        }
      ],
      "source": [
        "ratings.head(3)"
      ]
    },
    {
      "cell_type": "code",
      "execution_count": 8,
      "metadata": {
        "id": "BBHqyk9YkDUT",
        "colab": {
          "base_uri": "https://localhost:8080/",
          "height": 143
        },
        "outputId": "6537a2dc-0a1a-45e0-a18d-fa359cc5fcad"
      },
      "outputs": [
        {
          "output_type": "execute_result",
          "data": {
            "text/plain": [
              "   User-ID                         Location   Age\n",
              "0        1               nyc, new york, usa   NaN\n",
              "1        2        stockton, california, usa  18.0\n",
              "2        3  moscow, yukon territory, russia   NaN"
            ],
            "text/html": [
              "\n",
              "  <div id=\"df-72da1b82-70eb-4157-a8ab-be859710fab5\">\n",
              "    <div class=\"colab-df-container\">\n",
              "      <div>\n",
              "<style scoped>\n",
              "    .dataframe tbody tr th:only-of-type {\n",
              "        vertical-align: middle;\n",
              "    }\n",
              "\n",
              "    .dataframe tbody tr th {\n",
              "        vertical-align: top;\n",
              "    }\n",
              "\n",
              "    .dataframe thead th {\n",
              "        text-align: right;\n",
              "    }\n",
              "</style>\n",
              "<table border=\"1\" class=\"dataframe\">\n",
              "  <thead>\n",
              "    <tr style=\"text-align: right;\">\n",
              "      <th></th>\n",
              "      <th>User-ID</th>\n",
              "      <th>Location</th>\n",
              "      <th>Age</th>\n",
              "    </tr>\n",
              "  </thead>\n",
              "  <tbody>\n",
              "    <tr>\n",
              "      <th>0</th>\n",
              "      <td>1</td>\n",
              "      <td>nyc, new york, usa</td>\n",
              "      <td>NaN</td>\n",
              "    </tr>\n",
              "    <tr>\n",
              "      <th>1</th>\n",
              "      <td>2</td>\n",
              "      <td>stockton, california, usa</td>\n",
              "      <td>18.0</td>\n",
              "    </tr>\n",
              "    <tr>\n",
              "      <th>2</th>\n",
              "      <td>3</td>\n",
              "      <td>moscow, yukon territory, russia</td>\n",
              "      <td>NaN</td>\n",
              "    </tr>\n",
              "  </tbody>\n",
              "</table>\n",
              "</div>\n",
              "      <button class=\"colab-df-convert\" onclick=\"convertToInteractive('df-72da1b82-70eb-4157-a8ab-be859710fab5')\"\n",
              "              title=\"Convert this dataframe to an interactive table.\"\n",
              "              style=\"display:none;\">\n",
              "        \n",
              "  <svg xmlns=\"http://www.w3.org/2000/svg\" height=\"24px\"viewBox=\"0 0 24 24\"\n",
              "       width=\"24px\">\n",
              "    <path d=\"M0 0h24v24H0V0z\" fill=\"none\"/>\n",
              "    <path d=\"M18.56 5.44l.94 2.06.94-2.06 2.06-.94-2.06-.94-.94-2.06-.94 2.06-2.06.94zm-11 1L8.5 8.5l.94-2.06 2.06-.94-2.06-.94L8.5 2.5l-.94 2.06-2.06.94zm10 10l.94 2.06.94-2.06 2.06-.94-2.06-.94-.94-2.06-.94 2.06-2.06.94z\"/><path d=\"M17.41 7.96l-1.37-1.37c-.4-.4-.92-.59-1.43-.59-.52 0-1.04.2-1.43.59L10.3 9.45l-7.72 7.72c-.78.78-.78 2.05 0 2.83L4 21.41c.39.39.9.59 1.41.59.51 0 1.02-.2 1.41-.59l7.78-7.78 2.81-2.81c.8-.78.8-2.07 0-2.86zM5.41 20L4 18.59l7.72-7.72 1.47 1.35L5.41 20z\"/>\n",
              "  </svg>\n",
              "      </button>\n",
              "      \n",
              "  <style>\n",
              "    .colab-df-container {\n",
              "      display:flex;\n",
              "      flex-wrap:wrap;\n",
              "      gap: 12px;\n",
              "    }\n",
              "\n",
              "    .colab-df-convert {\n",
              "      background-color: #E8F0FE;\n",
              "      border: none;\n",
              "      border-radius: 50%;\n",
              "      cursor: pointer;\n",
              "      display: none;\n",
              "      fill: #1967D2;\n",
              "      height: 32px;\n",
              "      padding: 0 0 0 0;\n",
              "      width: 32px;\n",
              "    }\n",
              "\n",
              "    .colab-df-convert:hover {\n",
              "      background-color: #E2EBFA;\n",
              "      box-shadow: 0px 1px 2px rgba(60, 64, 67, 0.3), 0px 1px 3px 1px rgba(60, 64, 67, 0.15);\n",
              "      fill: #174EA6;\n",
              "    }\n",
              "\n",
              "    [theme=dark] .colab-df-convert {\n",
              "      background-color: #3B4455;\n",
              "      fill: #D2E3FC;\n",
              "    }\n",
              "\n",
              "    [theme=dark] .colab-df-convert:hover {\n",
              "      background-color: #434B5C;\n",
              "      box-shadow: 0px 1px 3px 1px rgba(0, 0, 0, 0.15);\n",
              "      filter: drop-shadow(0px 1px 2px rgba(0, 0, 0, 0.3));\n",
              "      fill: #FFFFFF;\n",
              "    }\n",
              "  </style>\n",
              "\n",
              "      <script>\n",
              "        const buttonEl =\n",
              "          document.querySelector('#df-72da1b82-70eb-4157-a8ab-be859710fab5 button.colab-df-convert');\n",
              "        buttonEl.style.display =\n",
              "          google.colab.kernel.accessAllowed ? 'block' : 'none';\n",
              "\n",
              "        async function convertToInteractive(key) {\n",
              "          const element = document.querySelector('#df-72da1b82-70eb-4157-a8ab-be859710fab5');\n",
              "          const dataTable =\n",
              "            await google.colab.kernel.invokeFunction('convertToInteractive',\n",
              "                                                     [key], {});\n",
              "          if (!dataTable) return;\n",
              "\n",
              "          const docLinkHtml = 'Like what you see? Visit the ' +\n",
              "            '<a target=\"_blank\" href=https://colab.research.google.com/notebooks/data_table.ipynb>data table notebook</a>'\n",
              "            + ' to learn more about interactive tables.';\n",
              "          element.innerHTML = '';\n",
              "          dataTable['output_type'] = 'display_data';\n",
              "          await google.colab.output.renderOutput(dataTable, element);\n",
              "          const docLink = document.createElement('div');\n",
              "          docLink.innerHTML = docLinkHtml;\n",
              "          element.appendChild(docLink);\n",
              "        }\n",
              "      </script>\n",
              "    </div>\n",
              "  </div>\n",
              "  "
            ]
          },
          "metadata": {},
          "execution_count": 8
        }
      ],
      "source": [
        "users.head(3)"
      ]
    },
    {
      "cell_type": "code",
      "execution_count": 9,
      "metadata": {
        "id": "shISmHyOKeQo",
        "colab": {
          "base_uri": "https://localhost:8080/"
        },
        "outputId": "160a117b-6fc7-40ca-fd16-787db6ab52dd"
      },
      "outputs": [
        {
          "output_type": "stream",
          "name": "stdout",
          "text": [
            "\t  Book_df shape is (271360, 8)\n",
            "       Ratings_df shape is (1149780, 3)\n",
            "          Users_df shape is (278858, 3)\n"
          ]
        }
      ],
      "source": [
        "# dimension of dataset\n",
        "print(f'''\\t  Book_df shape is {books.shape}\n",
        "       Ratings_df shape is {ratings.shape}\n",
        "          Users_df shape is {users.shape}''')"
      ]
    },
    {
      "cell_type": "markdown",
      "metadata": {
        "id": "YCFQoRbgtb2N"
      },
      "source": [
        "#**EDA**"
      ]
    },
    {
      "cell_type": "markdown",
      "metadata": {
        "id": "P0d1nvt_PFHc"
      },
      "source": [
        "##**1- Users_Dataset**"
      ]
    },
    {
      "cell_type": "code",
      "execution_count": 10,
      "metadata": {
        "id": "179x0PsPPDGa"
      },
      "outputs": [],
      "source": [
        "#Create a function for checking missing values\n",
        "def missing_values(df):\n",
        "    mis_val=df.isnull().sum()\n",
        "    mis_val_percent=round(df.isnull().mean().mul(100),2)\n",
        "    mz_table=pd.concat([mis_val,mis_val_percent],axis=1)\n",
        "    mz_table=mz_table.rename(\n",
        "    columns={df.index.name:'col_name',0:'Missing Values',1:'% of Total Values'})\n",
        "    mz_table['Data_type']=df.dtypes\n",
        "    mz_table=mz_table.sort_values('% of Total Values',ascending=False)\n",
        "    return mz_table.reset_index()"
      ]
    },
    {
      "cell_type": "code",
      "execution_count": 11,
      "metadata": {
        "id": "uT7dtSeFPDEZ",
        "colab": {
          "base_uri": "https://localhost:8080/",
          "height": 143
        },
        "outputId": "f638b2d4-f45a-4851-9598-923fa847c5cd"
      },
      "outputs": [
        {
          "output_type": "execute_result",
          "data": {
            "text/plain": [
              "      index  Missing Values  % of Total Values Data_type\n",
              "0       Age          110762              39.72   float64\n",
              "1   User-ID               0               0.00     int64\n",
              "2  Location               0               0.00    object"
            ],
            "text/html": [
              "\n",
              "  <div id=\"df-8408840f-8a3d-4a8e-aa8c-357f516600db\">\n",
              "    <div class=\"colab-df-container\">\n",
              "      <div>\n",
              "<style scoped>\n",
              "    .dataframe tbody tr th:only-of-type {\n",
              "        vertical-align: middle;\n",
              "    }\n",
              "\n",
              "    .dataframe tbody tr th {\n",
              "        vertical-align: top;\n",
              "    }\n",
              "\n",
              "    .dataframe thead th {\n",
              "        text-align: right;\n",
              "    }\n",
              "</style>\n",
              "<table border=\"1\" class=\"dataframe\">\n",
              "  <thead>\n",
              "    <tr style=\"text-align: right;\">\n",
              "      <th></th>\n",
              "      <th>index</th>\n",
              "      <th>Missing Values</th>\n",
              "      <th>% of Total Values</th>\n",
              "      <th>Data_type</th>\n",
              "    </tr>\n",
              "  </thead>\n",
              "  <tbody>\n",
              "    <tr>\n",
              "      <th>0</th>\n",
              "      <td>Age</td>\n",
              "      <td>110762</td>\n",
              "      <td>39.72</td>\n",
              "      <td>float64</td>\n",
              "    </tr>\n",
              "    <tr>\n",
              "      <th>1</th>\n",
              "      <td>User-ID</td>\n",
              "      <td>0</td>\n",
              "      <td>0.00</td>\n",
              "      <td>int64</td>\n",
              "    </tr>\n",
              "    <tr>\n",
              "      <th>2</th>\n",
              "      <td>Location</td>\n",
              "      <td>0</td>\n",
              "      <td>0.00</td>\n",
              "      <td>object</td>\n",
              "    </tr>\n",
              "  </tbody>\n",
              "</table>\n",
              "</div>\n",
              "      <button class=\"colab-df-convert\" onclick=\"convertToInteractive('df-8408840f-8a3d-4a8e-aa8c-357f516600db')\"\n",
              "              title=\"Convert this dataframe to an interactive table.\"\n",
              "              style=\"display:none;\">\n",
              "        \n",
              "  <svg xmlns=\"http://www.w3.org/2000/svg\" height=\"24px\"viewBox=\"0 0 24 24\"\n",
              "       width=\"24px\">\n",
              "    <path d=\"M0 0h24v24H0V0z\" fill=\"none\"/>\n",
              "    <path d=\"M18.56 5.44l.94 2.06.94-2.06 2.06-.94-2.06-.94-.94-2.06-.94 2.06-2.06.94zm-11 1L8.5 8.5l.94-2.06 2.06-.94-2.06-.94L8.5 2.5l-.94 2.06-2.06.94zm10 10l.94 2.06.94-2.06 2.06-.94-2.06-.94-.94-2.06-.94 2.06-2.06.94z\"/><path d=\"M17.41 7.96l-1.37-1.37c-.4-.4-.92-.59-1.43-.59-.52 0-1.04.2-1.43.59L10.3 9.45l-7.72 7.72c-.78.78-.78 2.05 0 2.83L4 21.41c.39.39.9.59 1.41.59.51 0 1.02-.2 1.41-.59l7.78-7.78 2.81-2.81c.8-.78.8-2.07 0-2.86zM5.41 20L4 18.59l7.72-7.72 1.47 1.35L5.41 20z\"/>\n",
              "  </svg>\n",
              "      </button>\n",
              "      \n",
              "  <style>\n",
              "    .colab-df-container {\n",
              "      display:flex;\n",
              "      flex-wrap:wrap;\n",
              "      gap: 12px;\n",
              "    }\n",
              "\n",
              "    .colab-df-convert {\n",
              "      background-color: #E8F0FE;\n",
              "      border: none;\n",
              "      border-radius: 50%;\n",
              "      cursor: pointer;\n",
              "      display: none;\n",
              "      fill: #1967D2;\n",
              "      height: 32px;\n",
              "      padding: 0 0 0 0;\n",
              "      width: 32px;\n",
              "    }\n",
              "\n",
              "    .colab-df-convert:hover {\n",
              "      background-color: #E2EBFA;\n",
              "      box-shadow: 0px 1px 2px rgba(60, 64, 67, 0.3), 0px 1px 3px 1px rgba(60, 64, 67, 0.15);\n",
              "      fill: #174EA6;\n",
              "    }\n",
              "\n",
              "    [theme=dark] .colab-df-convert {\n",
              "      background-color: #3B4455;\n",
              "      fill: #D2E3FC;\n",
              "    }\n",
              "\n",
              "    [theme=dark] .colab-df-convert:hover {\n",
              "      background-color: #434B5C;\n",
              "      box-shadow: 0px 1px 3px 1px rgba(0, 0, 0, 0.15);\n",
              "      filter: drop-shadow(0px 1px 2px rgba(0, 0, 0, 0.3));\n",
              "      fill: #FFFFFF;\n",
              "    }\n",
              "  </style>\n",
              "\n",
              "      <script>\n",
              "        const buttonEl =\n",
              "          document.querySelector('#df-8408840f-8a3d-4a8e-aa8c-357f516600db button.colab-df-convert');\n",
              "        buttonEl.style.display =\n",
              "          google.colab.kernel.accessAllowed ? 'block' : 'none';\n",
              "\n",
              "        async function convertToInteractive(key) {\n",
              "          const element = document.querySelector('#df-8408840f-8a3d-4a8e-aa8c-357f516600db');\n",
              "          const dataTable =\n",
              "            await google.colab.kernel.invokeFunction('convertToInteractive',\n",
              "                                                     [key], {});\n",
              "          if (!dataTable) return;\n",
              "\n",
              "          const docLinkHtml = 'Like what you see? Visit the ' +\n",
              "            '<a target=\"_blank\" href=https://colab.research.google.com/notebooks/data_table.ipynb>data table notebook</a>'\n",
              "            + ' to learn more about interactive tables.';\n",
              "          element.innerHTML = '';\n",
              "          dataTable['output_type'] = 'display_data';\n",
              "          await google.colab.output.renderOutput(dataTable, element);\n",
              "          const docLink = document.createElement('div');\n",
              "          docLink.innerHTML = docLinkHtml;\n",
              "          element.appendChild(docLink);\n",
              "        }\n",
              "      </script>\n",
              "    </div>\n",
              "  </div>\n",
              "  "
            ]
          },
          "metadata": {},
          "execution_count": 11
        }
      ],
      "source": [
        "#Checking missing value in Users dataset\n",
        "missing_values(users)"
      ]
    },
    {
      "cell_type": "markdown",
      "metadata": {
        "id": "adHd2C2ESjQp"
      },
      "source": [
        "Age have around 39% missing values. "
      ]
    },
    {
      "cell_type": "code",
      "execution_count": 12,
      "metadata": {
        "id": "j7i4E5ldYZ6N",
        "colab": {
          "base_uri": "https://localhost:8080/",
          "height": 310
        },
        "outputId": "442caaaa-fc85-4dd9-d6ce-0468fa3b77f2"
      },
      "outputs": [
        {
          "output_type": "display_data",
          "data": {
            "text/plain": [
              "<Figure size 432x288 with 1 Axes>"
            ],
            "image/png": "[encoded data removed]"
          },
          "metadata": {
            "needs_background": "light"
          }
        }
      ],
      "source": [
        "#checking Age distribution\n",
        "users.Age.hist(bins=[0, 10, 20, 30, 40, 50, 100])\n",
        "plt.title('Age Distribution\\n')\n",
        "plt.xlabel('Age')\n",
        "plt.ylabel('Count')\n",
        "plt.show()"
      ]
    },
    {
      "cell_type": "markdown",
      "metadata": {
        "id": "-041N4y9YP5h"
      },
      "source": [
        "As we can see that most of our users are in their 20-30s.\n"
      ]
    },
    {
      "cell_type": "code",
      "execution_count": 13,
      "metadata": {
        "id": "CJYKBc60PC_p",
        "colab": {
          "base_uri": "https://localhost:8080/",
          "height": 285
        },
        "outputId": "90010385-7d66-49f0-b046-71f0b0a2b18b"
      },
      "outputs": [
        {
          "output_type": "execute_result",
          "data": {
            "text/plain": [
              "Text(0.5, 1.0, 'Find outlier data in Age column')"
            ]
          },
          "metadata": {},
          "execution_count": 13
        },
        {
          "output_type": "display_data",
          "data": {
            "text/plain": [
              "<Figure size 432x288 with 1 Axes>"
            ],
            "image/png": "[encoded data removed]"
          },
          "metadata": {
            "needs_background": "light"
          }
        }
      ],
      "source": [
        "#Checking Outliers in Age Column\n",
        "sns.boxplot(y='Age', data=users)\n",
        "plt.title('Find outlier data in Age column')"
      ]
    },
    {
      "cell_type": "code",
      "execution_count": 14,
      "metadata": {
        "id": "-v6Z3mDVPDBe",
        "colab": {
          "base_uri": "https://localhost:8080/"
        },
        "outputId": "17777954-398f-4a7d-c3b6-8f7c11cc5eba"
      },
      "outputs": [
        {
          "output_type": "stream",
          "name": "stdout",
          "text": [
            "[nan, 0.0, 1.0, 2.0, 3.0, 4.0, 5.0, 6.0, 7.0, 8.0, 9.0, 10.0, 11.0, 12.0, 13.0, 14.0, 15.0, 16.0, 17.0, 18.0, 19.0, 20.0, 21.0, 22.0, 23.0, 24.0, 25.0, 26.0, 27.0, 28.0, 29.0, 30.0, 31.0, 32.0, 33.0, 34.0, 35.0, 36.0, 37.0, 38.0, 39.0, 40.0, 41.0, 42.0, 43.0, 44.0, 45.0, 46.0, 47.0, 48.0, 49.0, 50.0, 51.0, 52.0, 53.0, 54.0, 55.0, 56.0, 57.0, 58.0, 59.0, 60.0, 61.0, 62.0, 63.0, 64.0, 65.0, 66.0, 67.0, 68.0, 69.0, 70.0, 71.0, 72.0, 73.0, 74.0, 75.0, 76.0, 77.0, 78.0, 79.0, 80.0, 81.0, 82.0, 83.0, 84.0, 85.0, 86.0, 87.0, 88.0, 89.0, 90.0, 91.0, 92.0, 93.0, 94.0, 95.0, 96.0, 97.0, 98.0, 99.0, 100.0, 101.0, 102.0, 103.0, 104.0, 105.0, 106.0, 107.0, 108.0, 109.0, 110.0, 111.0, 113.0, 114.0, 115.0, 116.0, 118.0, 119.0, 123.0, 124.0, 127.0, 128.0, 132.0, 133.0, 136.0, 137.0, 138.0, 140.0, 141.0, 143.0, 146.0, 147.0, 148.0, 151.0, 152.0, 156.0, 157.0, 159.0, 162.0, 168.0, 172.0, 175.0, 183.0, 186.0, 189.0, 199.0, 200.0, 201.0, 204.0, 207.0, 208.0, 209.0, 210.0, 212.0, 219.0, 220.0, 223.0, 226.0, 228.0, 229.0, 230.0, 231.0, 237.0, 239.0, 244.0]\n"
          ]
        }
      ],
      "source": [
        "#Checking the unique value of Age\n",
        "print(sorted(users.Age.unique()))"
      ]
    },
    {
      "cell_type": "markdown",
      "metadata": {
        "id": "_mLBrFQST7_X"
      },
      "source": [
        "As we can say that we have  Outlier in our dataset of users"
      ]
    },
    {
      "cell_type": "markdown",
      "metadata": {
        "id": "TE0bFzvXXLQo"
      },
      "source": [
        "Checking unique value in Location column....\n"
      ]
    },
    {
      "cell_type": "code",
      "execution_count": 15,
      "metadata": {
        "id": "drWdHA7VPC9f",
        "colab": {
          "base_uri": "https://localhost:8080/"
        },
        "outputId": "45486e3c-d1ac-44a1-9e86-98c49b0b281d"
      },
      "outputs": [
        {
          "output_type": "execute_result",
          "data": {
            "text/plain": [
              "array(['nyc, new york, usa', 'stockton, california, usa',\n",
              "       'moscow, yukon territory, russia', ...,\n",
              "       'sergnano, lombardia, italy', 'stranraer, n/a, united kingdom',\n",
              "       'tacoma, washington, united kingdom'], dtype=object)"
            ]
          },
          "metadata": {},
          "execution_count": 15
        }
      ],
      "source": [
        "users.Location.unique()"
      ]
    },
    {
      "cell_type": "markdown",
      "metadata": {
        "id": "4Xtpw047Gh2H"
      },
      "source": [
        "As we can see that there is some spelling mismatch in locations... so now lets check the unique count of Location...."
      ]
    },
    {
      "cell_type": "code",
      "execution_count": 16,
      "metadata": {
        "id": "vDv2XqK1PChB",
        "colab": {
          "base_uri": "https://localhost:8080/"
        },
        "outputId": "4f8eea50-41fe-4b6c-b841-7fa9852ddcef"
      },
      "outputs": [
        {
          "output_type": "execute_result",
          "data": {
            "text/plain": [
              "57339"
            ]
          },
          "metadata": {},
          "execution_count": 16
        }
      ],
      "source": [
        "users.Location.nunique()"
      ]
    },
    {
      "cell_type": "markdown",
      "metadata": {
        "id": "yWL9829OXi4R"
      },
      "source": [
        "We got 57339 unique Value as we all know that it doesn't make any sense.<br>\n",
        "So lets create a new column- Country"
      ]
    },
    {
      "cell_type": "code",
      "execution_count": 17,
      "metadata": {
        "id": "5I3IeN6QEdW7"
      },
      "outputs": [],
      "source": [
        "for i in users:\n",
        "    users['Country']=users.Location.str.extract(r'\\,+\\s?(\\w*\\s?\\w*)\\\"*$')   "
      ]
    },
    {
      "cell_type": "code",
      "execution_count": 18,
      "metadata": {
        "id": "LmRP6UrqIoD7",
        "colab": {
          "base_uri": "https://localhost:8080/"
        },
        "outputId": "4ff63ffd-f2a1-4c31-9949-b840aaba95de"
      },
      "outputs": [
        {
          "output_type": "execute_result",
          "data": {
            "text/plain": [
              "pandas.core.series.Series"
            ]
          },
          "metadata": {},
          "execution_count": 18
        }
      ],
      "source": [
        "type(users.Location)"
      ]
    },
    {
      "cell_type": "code",
      "execution_count": 19,
      "metadata": {
        "id": "O8BXhVnmQXgv",
        "colab": {
          "base_uri": "https://localhost:8080/"
        },
        "outputId": "e05baec8-05c1-495e-cfcf-f35ac61aa8b3"
      },
      "outputs": [
        {
          "output_type": "execute_result",
          "data": {
            "text/plain": [
              "529"
            ]
          },
          "metadata": {},
          "execution_count": 19
        }
      ],
      "source": [
        "users.Country.nunique()"
      ]
    },
    {
      "cell_type": "markdown",
      "metadata": {
        "id": "eQ22l4RRHYte"
      },
      "source": [
        "Now we only got 529 unique country."
      ]
    },
    {
      "cell_type": "code",
      "execution_count": 20,
      "metadata": {
        "id": "HUvqIhWgGnFB"
      },
      "outputs": [],
      "source": [
        "users['Country']=users['Country'].astype('str')"
      ]
    },
    {
      "cell_type": "code",
      "execution_count": 21,
      "metadata": {
        "id": "qtj-GdJODSx4",
        "colab": {
          "base_uri": "https://localhost:8080/"
        },
        "outputId": "90de957b-a7a1-44ab-f135-8bb22ae9a49b"
      },
      "outputs": [
        {
          "output_type": "stream",
          "name": "stdout",
          "text": [
            "['', '01776', '02458', '19104', '23232', '30064', '85021', '87510', '_ brasil', 'a', 'aaa', 'adsgfdr', 'afghanistan', 'ahrensburg', 'alachua', 'albania', 'alderney', 'algeria', 'algérie', 'allen', 'ama lurra', 'america', 'american samoa', 'andorra', 'angola', 'antarctica', 'aotearoa', 'argentina', 'armenia', 'aroostook', 'aruba', 'asturies', 'auckland', 'austbritania', 'australia', 'australii', 'austria', 'autralia', 'az', 'azerbaijan', 'bademn würtemberg', 'bahamas', 'bahrain', 'baltimore', 'bangladesh', 'barbados', 'basilicata', 'basque country', 'bavaria', 'baxter', 'bbbzzzzz', 'belarus', 'belgi', 'belgique', 'belgium', 'belize', 'bell', 'benin', 'berguedà', 'bermuda', 'bernalillo', 'bfe', 'bhutan', 'bih', 'bkk', 'bladen', 'bolivia', 'bosnia', 'botswana', 'brasil', 'brazil', 'brunei', 'brunei darussalam', 'bucks', 'bulgaria', 'buncombe', 'burkina faso', 'burkinafasu', 'burlington', 'burma', 'butler', 'c', 'cadd0', 'calabria', 'california', 'cambodia', 'camden', 'cameroon', 'can', 'canada', 'canada eh', 'cananda', 'canda', 'cape may', 'cape town', 'cape verde', 'caribbean sea', 'carter', 'cass', 'catalonia', 'catalunya', 'catalunya spain', 'cayman islands', 'chad', 'channel islands', 'cherokee', 'chian', 'chile', 'china', 'china öð¹ú', 'chinaöð¹ú', 'clackamas', 'clinton', 'cn', 'cnina', 'collin', 'colombia', 'comoros', 'congo', 'cook', 'copenhagen', 'costa rica', 'country', 'courtenay', 'croatia', 'csa', 'cuba', 'cyprus', 'czech republic', 'côte d', 'dauphin', 'davidson', 'de', 'dekalb', 'denmark', 'der', 'deutsches reich', 'deutschland', 'dfg', 'distrito federal', 'diy', 'djibouti', 'dominica', 'dominican republic', 'doodedoo', 'dublin', 'east africa', 'ecuador', 'effingham', 'egypt', 'el salvador', 'england', 'england uk', 'english', 'equatorial geuinea', 'eritrea', 'españa', 'essex', 'estonia', 'ethiopia', 'europa', 'europe', 'euskadi', 'euskal herria', 'evil empire', 'fairyland', 'faroe islands', 'ferrara', 'fifi', 'fiji', 'finland', 'fontana', 'fort bend', 'fortaleza', 'framingham', 'france', 'fred', 'frome', 'fulton', 'gabon', 'galiza', 'galiza neghra', 'gb', 'geermany', 'georgia', 'germany', 'germay', 'ghana', 'goteborg', 'granville', 'greece', 'grenada', 'guam', 'guatemala', 'guernsey', 'guinea', 'guyana', 'haiti', 'hamilton', 'hampden', 'harvatija', 'heaven', 'hennipen', 'henry', 'hernando', 'hidalgo', 'hillsborough', 'holland', 'holy see', 'honduras', 'hong kong', 'hongkong', 'hornyonic', 'houston', 'hungary', 'iceland', 'id', 'il canada', 'in', 'india', 'indiai', 'indonesia', 'input error', 'iran', 'iraq', 'ireland', 'israel', 'isreal', 'italia', 'italien', 'italy', 'itlay', 'jackson', 'jamaica', 'japan', 'jersey', 'johnson', 'jordan', 'k1c7b1', 'kazakhstan', 'kenya', 'kern', 'kiribati', 'korea', 'kosovo', 'ksa', 'kuwait', 'kyrgyzstan', 'kz', 'l', 'la argentina', 'la belgique', 'la france', 'la suisse', 'la svizzera', 'lake', 'lane', 'laos', 'latvia', 'lazio', 'le canada', 'le madagascar', 'lebanon', 'lecce', 'lee', 'lesotho', 'liaoning', 'liberia', 'libya', 'lithuania', 'liushi', 'livingston', 'lj', 'lkjlj', 'lleida', 'lombardia', 'london', 'lornsenland', 'luxembourg', 'macau', 'macedonia', 'madagascar', 'madrid', 'maine', 'malawi', 'malaysia', 'malaysian', 'maldives', 'mali', 'malta', 'maracopa', 'maricopa', 'maroc', 'marrion', 'marshall islands', 'mauritania', 'mauritius', 'mexico', 'micronesia', 'milano', 'minnehaha', 'missouri', 'moldova', 'monaco', 'mongolia', 'monroe', 'monterrey', 'mordor', 'morgan', 'morocco', 'mozambique', 'moçambique', 'my', 'myanmar', 'mérida', 'méxico', 'namibia', 'nan', 'nederlands', 'nepal', 'netherlands', 'netherlands antilles', 'neverland', 'new london', 'new zealand', 'newzealand', 'nh', 'nicaragua', 'niger', 'nigeria', 'nl', 'no more', 'none', 'north carolina', 'north korea', 'northern ireland', 'norway', 'nowhere', 'nrw', 'nyc', 'nyhamnsläge', 'nz', 'oakland', 'ohio', 'oman', 'onondaga nation', 'orange co', 'orense', 'osceola', 'ouranos', 'pa', 'pakistan', 'palau', 'palestine', 'palm beach', 'panama', 'paraguay', 'pasco', 'pender', 'peru', 'perãº', 'petrolwar nation', 'phila', 'philippine', 'philippines', 'philippinies', 'phillipines', 'phils', 'phippines', 'pinallas', 'pippo', 'pistlavakia', 'poland', 'polk', 'polska', 'portugal', 'pr', 'prc', 'prince william', 'pueblo', 'puerto rico', 'qatar', 'queensland', 'queenspark', 'quit', 'rapides', 'rice', 'richmond country', 'rmi', 'roma', 'romania', 'rosario', 'rosello', 'rsa', 'russia', 'russian federation', 'rutherford', 'rwanda', 'saint loius', 'saint lucia', 'saint luica', 'samoa', 'san bernardino', 'san franicsco', 'san marino', 'san mateo', 'santa barbara', 'sardegna', 'sardinia', 'saudi arabia', 'saudia arabia', 'scotland', 'senegal', 'serbia', 'shelby', 'sicilia', 'sierra leone', 'singapore', 'slo', 'slovak republik', 'slovakia', 'slovenia', 'smith', 'solano', 'solomon islands', 'somalia', 'somewherein space', 'south africa', 'south korea', 'space', 'spain', 'spotsylvania', 'sri lanka', 'srilanka', 'strongbadia', 'sudan', 'suisse', 'suriname', 'swaziland', 'swazilandia', 'sweden', 'switzerland', 'syria', 'taiwan', 'tajikistan', 'tanzania', 'tdzimi', 'texas', 'thailand', 'thailoand', 'the', 'the gambia', 'the netherlands', 'the philippines', 'thing', 'tobago', 'togo', 'tonga', 'toscana', 'travelling', 'trinidad', 'tunisia', 'turkei', 'turkey', 'turkmenistan', 'tyrtyrt', 'türkiye', 'u', 'u k', 'ua', 'uae', 'uganda', 'uk', 'ukrain', 'ukraine', 'unit', 'unite states', 'united kindgdom', 'united kindgonm', 'united kingdom', 'united sates', 'united staes', 'united state', 'united statea', 'united stated', 'united states', 'universe', 'unknown', 'urugua', 'uruguay', 'us', 'usa', 'ussurfing', 'ust', 'uusa', 'uyo', 'uzbekistan', 'valtesse', 'van wert', 'vanuatu', 'vatican city', 'venezuela', 'ventura', 'ventura county', 'vicenza', 'victoria', 'vietnam', 'vorce', 'wales', 'washtenaw', 'west yorkshire', 'whatcom', 'windham', 'wonderful usa', 'wood', 'worcester', 'x', 'xinyu', 'xxxxxx', 'yakima', 'yanhill', 'yemen', 'ysa', 'yugoslavia', 'yunling', 'z', 'zambia', 'zhengjiang', 'zimbabwe', 'öð¹ú']\n"
          ]
        }
      ],
      "source": [
        "a=list(users.Country.unique())\n",
        "a=set(a)\n",
        "a=list(a)\n",
        "a = [x for x in a if x is not None]\n",
        "a.sort()\n",
        "print(a)"
      ]
    },
    {
      "cell_type": "markdown",
      "metadata": {
        "id": "9wYEO1lZAPaJ"
      },
      "source": [
        "As we can Obseve here are some Misspellings we can easily correct them via replace."
      ]
    },
    {
      "cell_type": "code",
      "execution_count": 22,
      "metadata": {
        "id": "08pPo0YCHoT-"
      },
      "outputs": [],
      "source": [
        "users['Country'].replace(['','01776','02458','19104','23232','30064','85021','87510','alachua','america','austria','autralia','cananda','geermany','italia','united kindgonm','united sates','united staes','united state','united states','us'],\n",
        "                           ['other','usa','usa','usa','usa','usa','usa','usa','usa','usa','australia','australia','canada','germany','italy','united kingdom','usa','usa','usa','usa','usa'],inplace=True)"
      ]
    },
    {
      "cell_type": "code",
      "execution_count": 23,
      "metadata": {
        "id": "7tWv_OdSI7TW",
        "colab": {
          "base_uri": "https://localhost:8080/",
          "height": 475
        },
        "outputId": "bc6be574-7f7c-4feb-b0e9-22d5a368e923"
      },
      "outputs": [
        {
          "output_type": "execute_result",
          "data": {
            "text/plain": [
              "Text(0.5, 1.0, 'Count of users Country wise')"
            ]
          },
          "metadata": {},
          "execution_count": 23
        },
        {
          "output_type": "display_data",
          "data": {
            "text/plain": [
              "<Figure size 1080x504 with 1 Axes>"
            ],
            "image/png": "[encoded data removed]"
          },
          "metadata": {
            "needs_background": "light"
          }
        }
      ],
      "source": [
        "plt.figure(figsize=(15,7))\n",
        "sns.countplot(y='Country',data=users,order=pd.value_counts(users['Country']).iloc[:10].index)\n",
        "plt.title('Count of users Country wise')"
      ]
    },
    {
      "cell_type": "markdown",
      "metadata": {
        "id": "mghuIn2-KZUP"
      },
      "source": [
        "We can clearly observe from the above countplot that most of our customers are \n",
        "from US."
      ]
    },
    {
      "cell_type": "code",
      "execution_count": 24,
      "metadata": {
        "id": "Hz89lOj_AkBD"
      },
      "outputs": [],
      "source": [
        "#drop location column\n",
        "users.drop('Location',axis=1,inplace=True)"
      ]
    },
    {
      "cell_type": "code",
      "execution_count": 25,
      "metadata": {
        "id": "vb1nF_3aJqB-",
        "colab": {
          "base_uri": "https://localhost:8080/"
        },
        "outputId": "9659c898-5b03-413c-d068-56adbf7f24df"
      },
      "outputs": [
        {
          "output_type": "execute_result",
          "data": {
            "text/plain": [
              "User-ID         0\n",
              "Age        110762\n",
              "Country         0\n",
              "dtype: int64"
            ]
          },
          "metadata": {},
          "execution_count": 25
        }
      ],
      "source": [
        "# Checking null values of users\n",
        "users.isnull().sum()"
      ]
    },
    {
      "cell_type": "markdown",
      "metadata": {
        "id": "jdrwZOVqOIAI"
      },
      "source": [
        "###Treating Outliers----"
      ]
    },
    {
      "cell_type": "code",
      "execution_count": 26,
      "metadata": {
        "id": "6U6o5VHZN8F5",
        "colab": {
          "base_uri": "https://localhost:8080/",
          "height": 312
        },
        "outputId": "1acdd30c-741b-4501-c502-37ab70ac56de"
      },
      "outputs": [
        {
          "output_type": "execute_result",
          "data": {
            "text/plain": [
              "Text(0.5, 1.0, 'Age Distribution Plot')"
            ]
          },
          "metadata": {},
          "execution_count": 26
        },
        {
          "output_type": "display_data",
          "data": {
            "text/plain": [
              "<Figure size 432x288 with 1 Axes>"
            ],
            "image/png": "[encoded data removed]"
          },
          "metadata": {
            "needs_background": "light"
          }
        }
      ],
      "source": [
        "#Distplot of users age column\n",
        "sns.distplot(users.Age)\n",
        "plt.title('Age Distribution Plot')"
      ]
    },
    {
      "cell_type": "markdown",
      "metadata": {
        "id": "p8sf-ZKzSp0W"
      },
      "source": [
        "As we all knew already that Age value's below 5 and above 100 do not make much sense as the can't read/rated our book so we can replace that."
      ]
    },
    {
      "cell_type": "code",
      "execution_count": 27,
      "metadata": {
        "id": "40jnn-SKvC9X",
        "colab": {
          "base_uri": "https://localhost:8080/"
        },
        "outputId": "58d9a03c-616f-4930-a755-69b4773d3112"
      },
      "outputs": [
        {
          "output_type": "execute_result",
          "data": {
            "text/plain": [
              "7"
            ]
          },
          "metadata": {},
          "execution_count": 27
        }
      ],
      "source": [
        "5|6"
      ]
    },
    {
      "cell_type": "code",
      "execution_count": 28,
      "metadata": {
        "id": "Qqd7j7PxOGOn"
      },
      "outputs": [],
      "source": [
        "# outlier data became NaN\n",
        "users.loc[(users.Age > 100) | (users.Age < 5), 'Age'] = np.nan"
      ]
    },
    {
      "cell_type": "code",
      "execution_count": 29,
      "metadata": {
        "id": "rxuFQN2iW5Ps",
        "colab": {
          "base_uri": "https://localhost:8080/"
        },
        "outputId": "8bece8da-ca1e-4717-d822-3a0d7b2fbf98"
      },
      "outputs": [
        {
          "output_type": "execute_result",
          "data": {
            "text/plain": [
              "User-ID         0\n",
              "Age        112010\n",
              "Country         0\n",
              "dtype: int64"
            ]
          },
          "metadata": {},
          "execution_count": 29
        }
      ],
      "source": [
        "#Checking null values again in Users dataset\n",
        "users.isna().sum()"
      ]
    },
    {
      "cell_type": "markdown",
      "metadata": {
        "id": "fclLzzL2Tca8"
      },
      "source": [
        "Age has positive Skewness (right tail)\n",
        "so we can use median to fill Nan values,\n",
        "but for this we don't like to fill Nan value just for one range of age. To handle this we'll use country column to fill Nan."
      ]
    },
    {
      "cell_type": "code",
      "execution_count": 30,
      "metadata": {
        "id": "_v3v-dzqOF9B"
      },
      "outputs": [],
      "source": [
        "users['Age'] = users['Age'].fillna(users.groupby('Country')['Age'].transform('median'))"
      ]
    },
    {
      "cell_type": "code",
      "execution_count": 31,
      "metadata": {
        "id": "ax2IR0ZfWtgT",
        "colab": {
          "base_uri": "https://localhost:8080/"
        },
        "outputId": "44c2c1ea-6abe-42e3-fe08-09c4d53b8b0e"
      },
      "outputs": [
        {
          "output_type": "execute_result",
          "data": {
            "text/plain": [
              "User-ID      0\n",
              "Age        276\n",
              "Country      0\n",
              "dtype: int64"
            ]
          },
          "metadata": {},
          "execution_count": 31
        }
      ],
      "source": [
        "#Checking null value again\n",
        "users.isna().sum()"
      ]
    },
    {
      "cell_type": "markdown",
      "metadata": {
        "id": "eJEgWReDXIRk"
      },
      "source": [
        "Still we have 276 Nan values let's fill them with mean"
      ]
    },
    {
      "cell_type": "code",
      "execution_count": 32,
      "metadata": {
        "id": "H-c78VbJXGoW"
      },
      "outputs": [],
      "source": [
        "users['Age'].fillna(users.Age.mean(),inplace=True)"
      ]
    },
    {
      "cell_type": "code",
      "execution_count": 33,
      "metadata": {
        "id": "NGI-WpyKXqat",
        "colab": {
          "base_uri": "https://localhost:8080/"
        },
        "outputId": "cd54172e-ea30-4c03-96ba-d79ff8b25755"
      },
      "outputs": [
        {
          "output_type": "execute_result",
          "data": {
            "text/plain": [
              "User-ID    0\n",
              "Age        0\n",
              "Country    0\n",
              "dtype: int64"
            ]
          },
          "metadata": {},
          "execution_count": 33
        }
      ],
      "source": [
        "#again checking value\n",
        "users.isna().sum()"
      ]
    },
    {
      "cell_type": "markdown",
      "metadata": {
        "id": "GDgwVVAfZCvX"
      },
      "source": [
        "##**2- Books_Dataset**"
      ]
    },
    {
      "cell_type": "code",
      "execution_count": 34,
      "metadata": {
        "id": "kT-MU-UgZCZX",
        "colab": {
          "base_uri": "https://localhost:8080/",
          "height": 263
        },
        "outputId": "94538486-deae-4d26-d0b5-499643c07b7f"
      },
      "outputs": [
        {
          "output_type": "execute_result",
          "data": {
            "text/plain": [
              "         ISBN           Book-Title           Book-Author Year-Of-Publication  \\\n",
              "0  0195153448  Classical Mythology    Mark P. O. Morford                2002   \n",
              "1  0002005018         Clara Callan  Richard Bruce Wright                2001   \n",
              "\n",
              "                 Publisher                                        Image-URL-S  \\\n",
              "0  Oxford University Press  http://images.amazon.com/images/P/0195153448.0...   \n",
              "1    HarperFlamingo Canada  http://images.amazon.com/images/P/0002005018.0...   \n",
              "\n",
              "                                         Image-URL-M  \\\n",
              "0  http://images.amazon.com/images/P/0195153448.0...   \n",
              "1  http://images.amazon.com/images/P/0002005018.0...   \n",
              "\n",
              "                                         Image-URL-L  \n",
              "0  http://images.amazon.com/images/P/0195153448.0...  \n",
              "1  http://images.amazon.com/images/P/0002005018.0...  "
            ],
            "text/html": [
              "\n",
              "  <div id=\"df-5d38f13f-23d5-4efe-b253-6b4d62fd85ab\">\n",
              "    <div class=\"colab-df-container\">\n",
              "      <div>\n",
              "<style scoped>\n",
              "    .dataframe tbody tr th:only-of-type {\n",
              "        vertical-align: middle;\n",
              "    }\n",
              "\n",
              "    .dataframe tbody tr th {\n",
              "        vertical-align: top;\n",
              "    }\n",
              "\n",
              "    .dataframe thead th {\n",
              "        text-align: right;\n",
              "    }\n",
              "</style>\n",
              "<table border=\"1\" class=\"dataframe\">\n",
              "  <thead>\n",
              "    <tr style=\"text-align: right;\">\n",
              "      <th></th>\n",
              "      <th>ISBN</th>\n",
              "      <th>Book-Title</th>\n",
              "      <th>Book-Author</th>\n",
              "      <th>Year-Of-Publication</th>\n",
              "      <th>Publisher</th>\n",
              "      <th>Image-URL-S</th>\n",
              "      <th>Image-URL-M</th>\n",
              "      <th>Image-URL-L</th>\n",
              "    </tr>\n",
              "  </thead>\n",
              "  <tbody>\n",
              "    <tr>\n",
              "      <th>0</th>\n",
              "      <td>0195153448</td>\n",
              "      <td>Classical Mythology</td>\n",
              "      <td>Mark P. O. Morford</td>\n",
              "      <td>2002</td>\n",
              "      <td>Oxford University Press</td>\n",
              "      <td>http://images.amazon.com/images/P/0195153448.0...</td>\n",
              "      <td>http://images.amazon.com/images/P/0195153448.0...</td>\n",
              "      <td>http://images.amazon.com/images/P/0195153448.0...</td>\n",
              "    </tr>\n",
              "    <tr>\n",
              "      <th>1</th>\n",
              "      <td>0002005018</td>\n",
              "      <td>Clara Callan</td>\n",
              "      <td>Richard Bruce Wright</td>\n",
              "      <td>2001</td>\n",
              "      <td>HarperFlamingo Canada</td>\n",
              "      <td>http://images.amazon.com/images/P/0002005018.0...</td>\n",
              "      <td>http://images.amazon.com/images/P/0002005018.0...</td>\n",
              "      <td>http://images.amazon.com/images/P/0002005018.0...</td>\n",
              "    </tr>\n",
              "  </tbody>\n",
              "</table>\n",
              "</div>\n",
              "      <button class=\"colab-df-convert\" onclick=\"convertToInteractive('df-5d38f13f-23d5-4efe-b253-6b4d62fd85ab')\"\n",
              "              title=\"Convert this dataframe to an interactive table.\"\n",
              "              style=\"display:none;\">\n",
              "        \n",
              "  <svg xmlns=\"http://www.w3.org/2000/svg\" height=\"24px\"viewBox=\"0 0 24 24\"\n",
              "       width=\"24px\">\n",
              "    <path d=\"M0 0h24v24H0V0z\" fill=\"none\"/>\n",
              "    <path d=\"M18.56 5.44l.94 2.06.94-2.06 2.06-.94-2.06-.94-.94-2.06-.94 2.06-2.06.94zm-11 1L8.5 8.5l.94-2.06 2.06-.94-2.06-.94L8.5 2.5l-.94 2.06-2.06.94zm10 10l.94 2.06.94-2.06 2.06-.94-2.06-.94-.94-2.06-.94 2.06-2.06.94z\"/><path d=\"M17.41 7.96l-1.37-1.37c-.4-.4-.92-.59-1.43-.59-.52 0-1.04.2-1.43.59L10.3 9.45l-7.72 7.72c-.78.78-.78 2.05 0 2.83L4 21.41c.39.39.9.59 1.41.59.51 0 1.02-.2 1.41-.59l7.78-7.78 2.81-2.81c.8-.78.8-2.07 0-2.86zM5.41 20L4 18.59l7.72-7.72 1.47 1.35L5.41 20z\"/>\n",
              "  </svg>\n",
              "      </button>\n",
              "      \n",
              "  <style>\n",
              "    .colab-df-container {\n",
              "      display:flex;\n",
              "      flex-wrap:wrap;\n",
              "      gap: 12px;\n",
              "    }\n",
              "\n",
              "    .colab-df-convert {\n",
              "      background-color: #E8F0FE;\n",
              "      border: none;\n",
              "      border-radius: 50%;\n",
              "      cursor: pointer;\n",
              "      display: none;\n",
              "      fill: #1967D2;\n",
              "      height: 32px;\n",
              "      padding: 0 0 0 0;\n",
              "      width: 32px;\n",
              "    }\n",
              "\n",
              "    .colab-df-convert:hover {\n",
              "      background-color: #E2EBFA;\n",
              "      box-shadow: 0px 1px 2px rgba(60, 64, 67, 0.3), 0px 1px 3px 1px rgba(60, 64, 67, 0.15);\n",
              "      fill: #174EA6;\n",
              "    }\n",
              "\n",
              "    [theme=dark] .colab-df-convert {\n",
              "      background-color: #3B4455;\n",
              "      fill: #D2E3FC;\n",
              "    }\n",
              "\n",
              "    [theme=dark] .colab-df-convert:hover {\n",
              "      background-color: #434B5C;\n",
              "      box-shadow: 0px 1px 3px 1px rgba(0, 0, 0, 0.15);\n",
              "      filter: drop-shadow(0px 1px 2px rgba(0, 0, 0, 0.3));\n",
              "      fill: #FFFFFF;\n",
              "    }\n",
              "  </style>\n",
              "\n",
              "      <script>\n",
              "        const buttonEl =\n",
              "          document.querySelector('#df-5d38f13f-23d5-4efe-b253-6b4d62fd85ab button.colab-df-convert');\n",
              "        buttonEl.style.display =\n",
              "          google.colab.kernel.accessAllowed ? 'block' : 'none';\n",
              "\n",
              "        async function convertToInteractive(key) {\n",
              "          const element = document.querySelector('#df-5d38f13f-23d5-4efe-b253-6b4d62fd85ab');\n",
              "          const dataTable =\n",
              "            await google.colab.kernel.invokeFunction('convertToInteractive',\n",
              "                                                     [key], {});\n",
              "          if (!dataTable) return;\n",
              "\n",
              "          const docLinkHtml = 'Like what you see? Visit the ' +\n",
              "            '<a target=\"_blank\" href=https://colab.research.google.com/notebooks/data_table.ipynb>data table notebook</a>'\n",
              "            + ' to learn more about interactive tables.';\n",
              "          element.innerHTML = '';\n",
              "          dataTable['output_type'] = 'display_data';\n",
              "          await google.colab.output.renderOutput(dataTable, element);\n",
              "          const docLink = document.createElement('div');\n",
              "          docLink.innerHTML = docLinkHtml;\n",
              "          element.appendChild(docLink);\n",
              "        }\n",
              "      </script>\n",
              "    </div>\n",
              "  </div>\n",
              "  "
            ]
          },
          "metadata": {},
          "execution_count": 34
        }
      ],
      "source": [
        "#head of books dataset\n",
        "books.head(2)"
      ]
    },
    {
      "cell_type": "markdown",
      "metadata": {
        "id": "FTaAL22famEf"
      },
      "source": [
        "Let's find our Top 10 Authors which have written the most books--"
      ]
    },
    {
      "cell_type": "code",
      "execution_count": 35,
      "metadata": {
        "id": "eJ-eqG6x3aTz",
        "colab": {
          "base_uri": "https://localhost:8080/"
        },
        "outputId": "7c00d94b-1d31-4cec-dc8e-f50c3a33accb"
      },
      "outputs": [
        {
          "output_type": "execute_result",
          "data": {
            "text/plain": [
              "(271360, 8)"
            ]
          },
          "metadata": {},
          "execution_count": 35
        }
      ],
      "source": [
        "books.shape"
      ]
    },
    {
      "cell_type": "code",
      "execution_count": 36,
      "metadata": {
        "id": "dOsU5Hfe3efB",
        "colab": {
          "base_uri": "https://localhost:8080/"
        },
        "outputId": "891473c9-6c17-4b75-b62b-e20d27b09c4b"
      },
      "outputs": [
        {
          "output_type": "execute_result",
          "data": {
            "text/plain": [
              "102024"
            ]
          },
          "metadata": {},
          "execution_count": 36
        }
      ],
      "source": [
        "len(books['Book-Author'].unique())"
      ]
    },
    {
      "cell_type": "markdown",
      "metadata": {
        "id": "hTagaWg4CsO2"
      },
      "source": [
        "Top 10 Authors which have published the most books:"
      ]
    },
    {
      "cell_type": "code",
      "execution_count": 37,
      "metadata": {
        "id": "ax2yMAvZZcVL",
        "colab": {
          "base_uri": "https://localhost:8080/",
          "height": 475
        },
        "outputId": "3543e64c-8681-4932-f2bf-b497f0f65319"
      },
      "outputs": [
        {
          "output_type": "execute_result",
          "data": {
            "text/plain": [
              "Text(0.5, 1.0, 'Top 10 Authors')"
            ]
          },
          "metadata": {},
          "execution_count": 37
        },
        {
          "output_type": "display_data",
          "data": {
            "text/plain": [
              "<Figure size 1080x504 with 1 Axes>"
            ],
            "image/png": "[encoded data removed]"
          },
          "metadata": {
            "needs_background": "light"
          }
        }
      ],
      "source": [
        "plt.figure(figsize=(15,7))\n",
        "sns.countplot(y='Book-Author',data=books,order=pd.value_counts(books['Book-Author']).iloc[:10].index)\n",
        "plt.title('Top 10 Authors')"
      ]
    },
    {
      "cell_type": "markdown",
      "metadata": {
        "id": "icPwIR_WbntA"
      },
      "source": [
        "Top 10 Publisher which have published the most books:"
      ]
    },
    {
      "cell_type": "code",
      "execution_count": 38,
      "metadata": {
        "id": "iDqUIosnZcS_",
        "colab": {
          "base_uri": "https://localhost:8080/",
          "height": 475
        },
        "outputId": "a1ebb045-3d11-4d0e-b7c6-0427f55805c3"
      },
      "outputs": [
        {
          "output_type": "execute_result",
          "data": {
            "text/plain": [
              "Text(0.5, 1.0, 'Top 10 Publishers')"
            ]
          },
          "metadata": {},
          "execution_count": 38
        },
        {
          "output_type": "display_data",
          "data": {
            "text/plain": [
              "<Figure size 1080x504 with 1 Axes>"
            ],
            "image/png": "[encoded data removed]"
          },
          "metadata": {
            "needs_background": "light"
          }
        }
      ],
      "source": [
        "plt.figure(figsize=(15,7))\n",
        "sns.countplot(y='Publisher',data=books,order=pd.value_counts(books['Publisher']).iloc[:10].index)\n",
        "plt.title('Top 10 Publishers')"
      ]
    },
    {
      "cell_type": "code",
      "execution_count": 39,
      "metadata": {
        "id": "3QBzuvDtZcQy",
        "colab": {
          "base_uri": "https://localhost:8080/"
        },
        "outputId": "97a758b4-8a5b-4f90-d997-8a768872bc9c"
      },
      "outputs": [
        {
          "output_type": "stream",
          "name": "stdout",
          "text": [
            "['0', '1376', '1378', '1806', '1897', '1900', '1901', '1902', '1904', '1906', '1908', '1909', '1910', '1911', '1914', '1917', '1919', '1920', '1921', '1922', '1923', '1924', '1925', '1926', '1927', '1928', '1929', '1930', '1931', '1932', '1933', '1934', '1935', '1936', '1937', '1938', '1939', '1940', '1941', '1942', '1943', '1944', '1945', '1946', '1947', '1948', '1949', '1950', '1951', '1952', '1953', '1954', '1955', '1956', '1957', '1958', '1959', '1960', '1961', '1962', '1963', '1964', '1965', '1966', '1967', '1968', '1969', '1970', '1971', '1972', '1973', '1974', '1975', '1976', '1977', '1978', '1979', '1980', '1981', '1982', '1983', '1984', '1985', '1986', '1987', '1988', '1989', '1990', '1991', '1992', '1993', '1994', '1995', '1996', '1997', '1998', '1999', '2000', '2001', '2002', '2003', '2004', '2005', '2006', '2008', '2010', '2011', '2012', '2020', '2021', '2024', '2026', '2030', '2037', '2038', '2050', 'DK Publishing Inc', 'Gallimard']\n"
          ]
        }
      ],
      "source": [
        "books['Year-Of-Publication']=books['Year-Of-Publication'].astype('str')\n",
        "a=list(books['Year-Of-Publication'].unique())\n",
        "a=set(a)\n",
        "a=list(a)\n",
        "a = [x for x in a if x is not None]\n",
        "a.sort()\n",
        "print(a)"
      ]
    },
    {
      "cell_type": "code",
      "execution_count": 40,
      "metadata": {
        "id": "lh_ud6IRfaQR",
        "colab": {
          "base_uri": "https://localhost:8080/",
          "height": 419
        },
        "outputId": "c8c8e7f5-ba2e-4acf-a4ea-3ee1275cedb1"
      },
      "outputs": [
        {
          "output_type": "execute_result",
          "data": {
            "text/plain": [
              "              ISBN                                         Book-Title  \\\n",
              "209538  078946697X  DK Readers: Creating the X-Men, How It All Beg...   \n",
              "221678  0789466953  DK Readers: Creating the X-Men, How Comic Book...   \n",
              "\n",
              "       Book-Author Year-Of-Publication  \\\n",
              "209538        2000   DK Publishing Inc   \n",
              "221678        2000   DK Publishing Inc   \n",
              "\n",
              "                                                Publisher  \\\n",
              "209538  http://images.amazon.com/images/P/078946697X.0...   \n",
              "221678  http://images.amazon.com/images/P/0789466953.0...   \n",
              "\n",
              "                                              Image-URL-S  \\\n",
              "209538  http://images.amazon.com/images/P/078946697X.0...   \n",
              "221678  http://images.amazon.com/images/P/0789466953.0...   \n",
              "\n",
              "                                              Image-URL-M Image-URL-L  \n",
              "209538  http://images.amazon.com/images/P/078946697X.0...         NaN  \n",
              "221678  http://images.amazon.com/images/P/0789466953.0...         NaN  "
            ],
            "text/html": [
              "\n",
              "  <div id=\"df-9d759014-0beb-4f9d-9d5e-621f902decc4\">\n",
              "    <div class=\"colab-df-container\">\n",
              "      <div>\n",
              "<style scoped>\n",
              "    .dataframe tbody tr th:only-of-type {\n",
              "        vertical-align: middle;\n",
              "    }\n",
              "\n",
              "    .dataframe tbody tr th {\n",
              "        vertical-align: top;\n",
              "    }\n",
              "\n",
              "    .dataframe thead th {\n",
              "        text-align: right;\n",
              "    }\n",
              "</style>\n",
              "<table border=\"1\" class=\"dataframe\">\n",
              "  <thead>\n",
              "    <tr style=\"text-align: right;\">\n",
              "      <th></th>\n",
              "      <th>ISBN</th>\n",
              "      <th>Book-Title</th>\n",
              "      <th>Book-Author</th>\n",
              "      <th>Year-Of-Publication</th>\n",
              "      <th>Publisher</th>\n",
              "      <th>Image-URL-S</th>\n",
              "      <th>Image-URL-M</th>\n",
              "      <th>Image-URL-L</th>\n",
              "    </tr>\n",
              "  </thead>\n",
              "  <tbody>\n",
              "    <tr>\n",
              "      <th>209538</th>\n",
              "      <td>078946697X</td>\n",
              "      <td>DK Readers: Creating the X-Men, How It All Beg...</td>\n",
              "      <td>2000</td>\n",
              "      <td>DK Publishing Inc</td>\n",
              "      <td>http://images.amazon.com/images/P/078946697X.0...</td>\n",
              "      <td>http://images.amazon.com/images/P/078946697X.0...</td>\n",
              "      <td>http://images.amazon.com/images/P/078946697X.0...</td>\n",
              "      <td>NaN</td>\n",
              "    </tr>\n",
              "    <tr>\n",
              "      <th>221678</th>\n",
              "      <td>0789466953</td>\n",
              "      <td>DK Readers: Creating the X-Men, How Comic Book...</td>\n",
              "      <td>2000</td>\n",
              "      <td>DK Publishing Inc</td>\n",
              "      <td>http://images.amazon.com/images/P/0789466953.0...</td>\n",
              "      <td>http://images.amazon.com/images/P/0789466953.0...</td>\n",
              "      <td>http://images.amazon.com/images/P/0789466953.0...</td>\n",
              "      <td>NaN</td>\n",
              "    </tr>\n",
              "  </tbody>\n",
              "</table>\n",
              "</div>\n",
              "      <button class=\"colab-df-convert\" onclick=\"convertToInteractive('df-9d759014-0beb-4f9d-9d5e-621f902decc4')\"\n",
              "              title=\"Convert this dataframe to an interactive table.\"\n",
              "              style=\"display:none;\">\n",
              "        \n",
              "  <svg xmlns=\"http://www.w3.org/2000/svg\" height=\"24px\"viewBox=\"0 0 24 24\"\n",
              "       width=\"24px\">\n",
              "    <path d=\"M0 0h24v24H0V0z\" fill=\"none\"/>\n",
              "    <path d=\"M18.56 5.44l.94 2.06.94-2.06 2.06-.94-2.06-.94-.94-2.06-.94 2.06-2.06.94zm-11 1L8.5 8.5l.94-2.06 2.06-.94-2.06-.94L8.5 2.5l-.94 2.06-2.06.94zm10 10l.94 2.06.94-2.06 2.06-.94-2.06-.94-.94-2.06-.94 2.06-2.06.94z\"/><path d=\"M17.41 7.96l-1.37-1.37c-.4-.4-.92-.59-1.43-.59-.52 0-1.04.2-1.43.59L10.3 9.45l-7.72 7.72c-.78.78-.78 2.05 0 2.83L4 21.41c.39.39.9.59 1.41.59.51 0 1.02-.2 1.41-.59l7.78-7.78 2.81-2.81c.8-.78.8-2.07 0-2.86zM5.41 20L4 18.59l7.72-7.72 1.47 1.35L5.41 20z\"/>\n",
              "  </svg>\n",
              "      </button>\n",
              "      \n",
              "  <style>\n",
              "    .colab-df-container {\n",
              "      display:flex;\n",
              "      flex-wrap:wrap;\n",
              "      gap: 12px;\n",
              "    }\n",
              "\n",
              "    .colab-df-convert {\n",
              "      background-color: #E8F0FE;\n",
              "      border: none;\n",
              "      border-radius: 50%;\n",
              "      cursor: pointer;\n",
              "      display: none;\n",
              "      fill: #1967D2;\n",
              "      height: 32px;\n",
              "      padding: 0 0 0 0;\n",
              "      width: 32px;\n",
              "    }\n",
              "\n",
              "    .colab-df-convert:hover {\n",
              "      background-color: #E2EBFA;\n",
              "      box-shadow: 0px 1px 2px rgba(60, 64, 67, 0.3), 0px 1px 3px 1px rgba(60, 64, 67, 0.15);\n",
              "      fill: #174EA6;\n",
              "    }\n",
              "\n",
              "    [theme=dark] .colab-df-convert {\n",
              "      background-color: #3B4455;\n",
              "      fill: #D2E3FC;\n",
              "    }\n",
              "\n",
              "    [theme=dark] .colab-df-convert:hover {\n",
              "      background-color: #434B5C;\n",
              "      box-shadow: 0px 1px 3px 1px rgba(0, 0, 0, 0.15);\n",
              "      filter: drop-shadow(0px 1px 2px rgba(0, 0, 0, 0.3));\n",
              "      fill: #FFFFFF;\n",
              "    }\n",
              "  </style>\n",
              "\n",
              "      <script>\n",
              "        const buttonEl =\n",
              "          document.querySelector('#df-9d759014-0beb-4f9d-9d5e-621f902decc4 button.colab-df-convert');\n",
              "        buttonEl.style.display =\n",
              "          google.colab.kernel.accessAllowed ? 'block' : 'none';\n",
              "\n",
              "        async function convertToInteractive(key) {\n",
              "          const element = document.querySelector('#df-9d759014-0beb-4f9d-9d5e-621f902decc4');\n",
              "          const dataTable =\n",
              "            await google.colab.kernel.invokeFunction('convertToInteractive',\n",
              "                                                     [key], {});\n",
              "          if (!dataTable) return;\n",
              "\n",
              "          const docLinkHtml = 'Like what you see? Visit the ' +\n",
              "            '<a target=\"_blank\" href=https://colab.research.google.com/notebooks/data_table.ipynb>data table notebook</a>'\n",
              "            + ' to learn more about interactive tables.';\n",
              "          element.innerHTML = '';\n",
              "          dataTable['output_type'] = 'display_data';\n",
              "          await google.colab.output.renderOutput(dataTable, element);\n",
              "          const docLink = document.createElement('div');\n",
              "          docLink.innerHTML = docLinkHtml;\n",
              "          element.appendChild(docLink);\n",
              "        }\n",
              "      </script>\n",
              "    </div>\n",
              "  </div>\n",
              "  "
            ]
          },
          "metadata": {},
          "execution_count": 40
        }
      ],
      "source": [
        "#investigating the rows having 'DK Publishing Inc' as yearOfPublication\n",
        "books.loc[books['Year-Of-Publication'] == 'DK Publishing Inc',:]"
      ]
    },
    {
      "cell_type": "markdown",
      "metadata": {
        "id": "B5L8g4tdfDgz"
      },
      "source": [
        "As it can be seen from above that there are some incorrect entries in Year-Of-Publication field. It looks like Publisher names 'DK Publishing Inc' and 'Gallimard' have been incorrectly loaded as Year-Of-Publication in dataset due to some errors in csv file "
      ]
    },
    {
      "cell_type": "code",
      "execution_count": 41,
      "metadata": {
        "id": "gYox7oYWZcOF",
        "colab": {
          "base_uri": "https://localhost:8080/",
          "height": 399
        },
        "outputId": "a7e6bcec-cf21-4e91-8f86-ca7732614053"
      },
      "outputs": [
        {
          "output_type": "execute_result",
          "data": {
            "text/plain": [
              "              ISBN                                         Book-Title  \\\n",
              "209538  078946697X  DK Readers: Creating the X-Men, How It All Beg...   \n",
              "221678  0789466953  DK Readers: Creating the X-Men, How Comic Book...   \n",
              "\n",
              "               Book-Author Year-Of-Publication          Publisher  \\\n",
              "209538  Michael Teitelbaum                2000  DK Publishing Inc   \n",
              "221678       James Buckley                2000  DK Publishing Inc   \n",
              "\n",
              "                                              Image-URL-S  \\\n",
              "209538  http://images.amazon.com/images/P/078946697X.0...   \n",
              "221678  http://images.amazon.com/images/P/0789466953.0...   \n",
              "\n",
              "                                              Image-URL-M Image-URL-L  \n",
              "209538  http://images.amazon.com/images/P/078946697X.0...         NaN  \n",
              "221678  http://images.amazon.com/images/P/0789466953.0...         NaN  "
            ],
            "text/html": [
              "\n",
              "  <div id=\"df-031dd11e-3dc7-455f-8d5e-40bb977e54ea\">\n",
              "    <div class=\"colab-df-container\">\n",
              "      <div>\n",
              "<style scoped>\n",
              "    .dataframe tbody tr th:only-of-type {\n",
              "        vertical-align: middle;\n",
              "    }\n",
              "\n",
              "    .dataframe tbody tr th {\n",
              "        vertical-align: top;\n",
              "    }\n",
              "\n",
              "    .dataframe thead th {\n",
              "        text-align: right;\n",
              "    }\n",
              "</style>\n",
              "<table border=\"1\" class=\"dataframe\">\n",
              "  <thead>\n",
              "    <tr style=\"text-align: right;\">\n",
              "      <th></th>\n",
              "      <th>ISBN</th>\n",
              "      <th>Book-Title</th>\n",
              "      <th>Book-Author</th>\n",
              "      <th>Year-Of-Publication</th>\n",
              "      <th>Publisher</th>\n",
              "      <th>Image-URL-S</th>\n",
              "      <th>Image-URL-M</th>\n",
              "      <th>Image-URL-L</th>\n",
              "    </tr>\n",
              "  </thead>\n",
              "  <tbody>\n",
              "    <tr>\n",
              "      <th>209538</th>\n",
              "      <td>078946697X</td>\n",
              "      <td>DK Readers: Creating the X-Men, How It All Beg...</td>\n",
              "      <td>Michael Teitelbaum</td>\n",
              "      <td>2000</td>\n",
              "      <td>DK Publishing Inc</td>\n",
              "      <td>http://images.amazon.com/images/P/078946697X.0...</td>\n",
              "      <td>http://images.amazon.com/images/P/078946697X.0...</td>\n",
              "      <td>NaN</td>\n",
              "    </tr>\n",
              "    <tr>\n",
              "      <th>221678</th>\n",
              "      <td>0789466953</td>\n",
              "      <td>DK Readers: Creating the X-Men, How Comic Book...</td>\n",
              "      <td>James Buckley</td>\n",
              "      <td>2000</td>\n",
              "      <td>DK Publishing Inc</td>\n",
              "      <td>http://images.amazon.com/images/P/0789466953.0...</td>\n",
              "      <td>http://images.amazon.com/images/P/0789466953.0...</td>\n",
              "      <td>NaN</td>\n",
              "    </tr>\n",
              "  </tbody>\n",
              "</table>\n",
              "</div>\n",
              "      <button class=\"colab-df-convert\" onclick=\"convertToInteractive('df-031dd11e-3dc7-455f-8d5e-40bb977e54ea')\"\n",
              "              title=\"Convert this dataframe to an interactive table.\"\n",
              "              style=\"display:none;\">\n",
              "        \n",
              "  <svg xmlns=\"http://www.w3.org/2000/svg\" height=\"24px\"viewBox=\"0 0 24 24\"\n",
              "       width=\"24px\">\n",
              "    <path d=\"M0 0h24v24H0V0z\" fill=\"none\"/>\n",
              "    <path d=\"M18.56 5.44l.94 2.06.94-2.06 2.06-.94-2.06-.94-.94-2.06-.94 2.06-2.06.94zm-11 1L8.5 8.5l.94-2.06 2.06-.94-2.06-.94L8.5 2.5l-.94 2.06-2.06.94zm10 10l.94 2.06.94-2.06 2.06-.94-2.06-.94-.94-2.06-.94 2.06-2.06.94z\"/><path d=\"M17.41 7.96l-1.37-1.37c-.4-.4-.92-.59-1.43-.59-.52 0-1.04.2-1.43.59L10.3 9.45l-7.72 7.72c-.78.78-.78 2.05 0 2.83L4 21.41c.39.39.9.59 1.41.59.51 0 1.02-.2 1.41-.59l7.78-7.78 2.81-2.81c.8-.78.8-2.07 0-2.86zM5.41 20L4 18.59l7.72-7.72 1.47 1.35L5.41 20z\"/>\n",
              "  </svg>\n",
              "      </button>\n",
              "      \n",
              "  <style>\n",
              "    .colab-df-container {\n",
              "      display:flex;\n",
              "      flex-wrap:wrap;\n",
              "      gap: 12px;\n",
              "    }\n",
              "\n",
              "    .colab-df-convert {\n",
              "      background-color: #E8F0FE;\n",
              "      border: none;\n",
              "      border-radius: 50%;\n",
              "      cursor: pointer;\n",
              "      display: none;\n",
              "      fill: #1967D2;\n",
              "      height: 32px;\n",
              "      padding: 0 0 0 0;\n",
              "      width: 32px;\n",
              "    }\n",
              "\n",
              "    .colab-df-convert:hover {\n",
              "      background-color: #E2EBFA;\n",
              "      box-shadow: 0px 1px 2px rgba(60, 64, 67, 0.3), 0px 1px 3px 1px rgba(60, 64, 67, 0.15);\n",
              "      fill: #174EA6;\n",
              "    }\n",
              "\n",
              "    [theme=dark] .colab-df-convert {\n",
              "      background-color: #3B4455;\n",
              "      fill: #D2E3FC;\n",
              "    }\n",
              "\n",
              "    [theme=dark] .colab-df-convert:hover {\n",
              "      background-color: #434B5C;\n",
              "      box-shadow: 0px 1px 3px 1px rgba(0, 0, 0, 0.15);\n",
              "      filter: drop-shadow(0px 1px 2px rgba(0, 0, 0, 0.3));\n",
              "      fill: #FFFFFF;\n",
              "    }\n",
              "  </style>\n",
              "\n",
              "      <script>\n",
              "        const buttonEl =\n",
              "          document.querySelector('#df-031dd11e-3dc7-455f-8d5e-40bb977e54ea button.colab-df-convert');\n",
              "        buttonEl.style.display =\n",
              "          google.colab.kernel.accessAllowed ? 'block' : 'none';\n",
              "\n",
              "        async function convertToInteractive(key) {\n",
              "          const element = document.querySelector('#df-031dd11e-3dc7-455f-8d5e-40bb977e54ea');\n",
              "          const dataTable =\n",
              "            await google.colab.kernel.invokeFunction('convertToInteractive',\n",
              "                                                     [key], {});\n",
              "          if (!dataTable) return;\n",
              "\n",
              "          const docLinkHtml = 'Like what you see? Visit the ' +\n",
              "            '<a target=\"_blank\" href=https://colab.research.google.com/notebooks/data_table.ipynb>data table notebook</a>'\n",
              "            + ' to learn more about interactive tables.';\n",
              "          element.innerHTML = '';\n",
              "          dataTable['output_type'] = 'display_data';\n",
              "          await google.colab.output.renderOutput(dataTable, element);\n",
              "          const docLink = document.createElement('div');\n",
              "          docLink.innerHTML = docLinkHtml;\n",
              "          element.appendChild(docLink);\n",
              "        }\n",
              "      </script>\n",
              "    </div>\n",
              "  </div>\n",
              "  "
            ]
          },
          "metadata": {},
          "execution_count": 41
        }
      ],
      "source": [
        "#From above, it is seen that bookAuthor is incorrectly loaded with bookTitle, hence making required corrections\n",
        "#ISBN '0789466953'\n",
        "books.loc[books.ISBN == '0789466953','Year-Of-Publication'] = 2000\n",
        "books.loc[books.ISBN == '0789466953','Book-Author'] = \"James Buckley\"\n",
        "books.loc[books.ISBN == '0789466953','Publisher'] = \"DK Publishing Inc\"\n",
        "books.loc[books.ISBN == '0789466953','Book-Title'] = \"DK Readers: Creating the X-Men, How Comic Books Come to Life (Level 4: Proficient Readers)\"\n",
        "\n",
        "#ISBN '078946697X'\n",
        "books.loc[books.ISBN == '078946697X','Year-Of-Publication'] = 2000\n",
        "books.loc[books.ISBN == '078946697X','Book-Author'] = \"Michael Teitelbaum\"\n",
        "books.loc[books.ISBN == '078946697X','Publisher'] = \"DK Publishing Inc\"\n",
        "books.loc[books.ISBN == '078946697X','Book-Title'] = \"DK Readers: Creating the X-Men, How It All Began (Level 4: Proficient Readers)\"\n",
        "\n",
        "#rechecking\n",
        "books.loc[(books.ISBN == '0789466953') | (books.ISBN == '078946697X'),:]\n",
        "#corrections done"
      ]
    },
    {
      "cell_type": "code",
      "execution_count": 42,
      "metadata": {
        "id": "bsR1uhZ_hJQC",
        "colab": {
          "base_uri": "https://localhost:8080/",
          "height": 214
        },
        "outputId": "2f0f4683-f520-42d5-a4cb-e0be72c9bd58"
      },
      "outputs": [
        {
          "output_type": "execute_result",
          "data": {
            "text/plain": [
              "              ISBN                                         Book-Title  \\\n",
              "220731  2070426769  Peuple du ciel, suivi de 'Les Bergers\\\";Jean-M...   \n",
              "\n",
              "       Book-Author Year-Of-Publication  \\\n",
              "220731        2003           Gallimard   \n",
              "\n",
              "                                                Publisher  \\\n",
              "220731  http://images.amazon.com/images/P/2070426769.0...   \n",
              "\n",
              "                                              Image-URL-S  \\\n",
              "220731  http://images.amazon.com/images/P/2070426769.0...   \n",
              "\n",
              "                                              Image-URL-M Image-URL-L  \n",
              "220731  http://images.amazon.com/images/P/2070426769.0...         NaN  "
            ],
            "text/html": [
              "\n",
              "  <div id=\"df-7759470a-9d6e-4819-8c3c-9f2ae1f4ed6e\">\n",
              "    <div class=\"colab-df-container\">\n",
              "      <div>\n",
              "<style scoped>\n",
              "    .dataframe tbody tr th:only-of-type {\n",
              "        vertical-align: middle;\n",
              "    }\n",
              "\n",
              "    .dataframe tbody tr th {\n",
              "        vertical-align: top;\n",
              "    }\n",
              "\n",
              "    .dataframe thead th {\n",
              "        text-align: right;\n",
              "    }\n",
              "</style>\n",
              "<table border=\"1\" class=\"dataframe\">\n",
              "  <thead>\n",
              "    <tr style=\"text-align: right;\">\n",
              "      <th></th>\n",
              "      <th>ISBN</th>\n",
              "      <th>Book-Title</th>\n",
              "      <th>Book-Author</th>\n",
              "      <th>Year-Of-Publication</th>\n",
              "      <th>Publisher</th>\n",
              "      <th>Image-URL-S</th>\n",
              "      <th>Image-URL-M</th>\n",
              "      <th>Image-URL-L</th>\n",
              "    </tr>\n",
              "  </thead>\n",
              "  <tbody>\n",
              "    <tr>\n",
              "      <th>220731</th>\n",
              "      <td>2070426769</td>\n",
              "      <td>Peuple du ciel, suivi de 'Les Bergers\\\";Jean-M...</td>\n",
              "      <td>2003</td>\n",
              "      <td>Gallimard</td>\n",
              "      <td>http://images.amazon.com/images/P/2070426769.0...</td>\n",
              "      <td>http://images.amazon.com/images/P/2070426769.0...</td>\n",
              "      <td>http://images.amazon.com/images/P/2070426769.0...</td>\n",
              "      <td>NaN</td>\n",
              "    </tr>\n",
              "  </tbody>\n",
              "</table>\n",
              "</div>\n",
              "      <button class=\"colab-df-convert\" onclick=\"convertToInteractive('df-7759470a-9d6e-4819-8c3c-9f2ae1f4ed6e')\"\n",
              "              title=\"Convert this dataframe to an interactive table.\"\n",
              "              style=\"display:none;\">\n",
              "        \n",
              "  <svg xmlns=\"http://www.w3.org/2000/svg\" height=\"24px\"viewBox=\"0 0 24 24\"\n",
              "       width=\"24px\">\n",
              "    <path d=\"M0 0h24v24H0V0z\" fill=\"none\"/>\n",
              "    <path d=\"M18.56 5.44l.94 2.06.94-2.06 2.06-.94-2.06-.94-.94-2.06-.94 2.06-2.06.94zm-11 1L8.5 8.5l.94-2.06 2.06-.94-2.06-.94L8.5 2.5l-.94 2.06-2.06.94zm10 10l.94 2.06.94-2.06 2.06-.94-2.06-.94-.94-2.06-.94 2.06-2.06.94z\"/><path d=\"M17.41 7.96l-1.37-1.37c-.4-.4-.92-.59-1.43-.59-.52 0-1.04.2-1.43.59L10.3 9.45l-7.72 7.72c-.78.78-.78 2.05 0 2.83L4 21.41c.39.39.9.59 1.41.59.51 0 1.02-.2 1.41-.59l7.78-7.78 2.81-2.81c.8-.78.8-2.07 0-2.86zM5.41 20L4 18.59l7.72-7.72 1.47 1.35L5.41 20z\"/>\n",
              "  </svg>\n",
              "      </button>\n",
              "      \n",
              "  <style>\n",
              "    .colab-df-container {\n",
              "      display:flex;\n",
              "      flex-wrap:wrap;\n",
              "      gap: 12px;\n",
              "    }\n",
              "\n",
              "    .colab-df-convert {\n",
              "      background-color: #E8F0FE;\n",
              "      border: none;\n",
              "      border-radius: 50%;\n",
              "      cursor: pointer;\n",
              "      display: none;\n",
              "      fill: #1967D2;\n",
              "      height: 32px;\n",
              "      padding: 0 0 0 0;\n",
              "      width: 32px;\n",
              "    }\n",
              "\n",
              "    .colab-df-convert:hover {\n",
              "      background-color: #E2EBFA;\n",
              "      box-shadow: 0px 1px 2px rgba(60, 64, 67, 0.3), 0px 1px 3px 1px rgba(60, 64, 67, 0.15);\n",
              "      fill: #174EA6;\n",
              "    }\n",
              "\n",
              "    [theme=dark] .colab-df-convert {\n",
              "      background-color: #3B4455;\n",
              "      fill: #D2E3FC;\n",
              "    }\n",
              "\n",
              "    [theme=dark] .colab-df-convert:hover {\n",
              "      background-color: #434B5C;\n",
              "      box-shadow: 0px 1px 3px 1px rgba(0, 0, 0, 0.15);\n",
              "      filter: drop-shadow(0px 1px 2px rgba(0, 0, 0, 0.3));\n",
              "      fill: #FFFFFF;\n",
              "    }\n",
              "  </style>\n",
              "\n",
              "      <script>\n",
              "        const buttonEl =\n",
              "          document.querySelector('#df-7759470a-9d6e-4819-8c3c-9f2ae1f4ed6e button.colab-df-convert');\n",
              "        buttonEl.style.display =\n",
              "          google.colab.kernel.accessAllowed ? 'block' : 'none';\n",
              "\n",
              "        async function convertToInteractive(key) {\n",
              "          const element = document.querySelector('#df-7759470a-9d6e-4819-8c3c-9f2ae1f4ed6e');\n",
              "          const dataTable =\n",
              "            await google.colab.kernel.invokeFunction('convertToInteractive',\n",
              "                                                     [key], {});\n",
              "          if (!dataTable) return;\n",
              "\n",
              "          const docLinkHtml = 'Like what you see? Visit the ' +\n",
              "            '<a target=\"_blank\" href=https://colab.research.google.com/notebooks/data_table.ipynb>data table notebook</a>'\n",
              "            + ' to learn more about interactive tables.';\n",
              "          element.innerHTML = '';\n",
              "          dataTable['output_type'] = 'display_data';\n",
              "          await google.colab.output.renderOutput(dataTable, element);\n",
              "          const docLink = document.createElement('div');\n",
              "          docLink.innerHTML = docLinkHtml;\n",
              "          element.appendChild(docLink);\n",
              "        }\n",
              "      </script>\n",
              "    </div>\n",
              "  </div>\n",
              "  "
            ]
          },
          "metadata": {},
          "execution_count": 42
        }
      ],
      "source": [
        "#investigating the rows having 'Gallimard' as yearOfPublication\n",
        "books.loc[books['Year-Of-Publication'] == 'Gallimard',:]"
      ]
    },
    {
      "cell_type": "code",
      "execution_count": 43,
      "metadata": {
        "id": "XXRqgejwh235",
        "colab": {
          "base_uri": "https://localhost:8080/",
          "height": 212
        },
        "outputId": "60aa022d-4552-4008-cf43-8769558f53cf"
      },
      "outputs": [
        {
          "output_type": "execute_result",
          "data": {
            "text/plain": [
              "              ISBN                             Book-Title  \\\n",
              "220731  2070426769  Peuple du ciel, suivi de 'Les Bergers   \n",
              "\n",
              "                            Book-Author Year-Of-Publication  Publisher  \\\n",
              "220731  Jean-Marie Gustave Le ClÃ?Â©zio                2003  Gallimard   \n",
              "\n",
              "                                              Image-URL-S  \\\n",
              "220731  http://images.amazon.com/images/P/2070426769.0...   \n",
              "\n",
              "                                              Image-URL-M Image-URL-L  \n",
              "220731  http://images.amazon.com/images/P/2070426769.0...         NaN  "
            ],
            "text/html": [
              "\n",
              "  <div id=\"df-e23b4edb-98be-4918-bc82-2e71fa54747b\">\n",
              "    <div class=\"colab-df-container\">\n",
              "      <div>\n",
              "<style scoped>\n",
              "    .dataframe tbody tr th:only-of-type {\n",
              "        vertical-align: middle;\n",
              "    }\n",
              "\n",
              "    .dataframe tbody tr th {\n",
              "        vertical-align: top;\n",
              "    }\n",
              "\n",
              "    .dataframe thead th {\n",
              "        text-align: right;\n",
              "    }\n",
              "</style>\n",
              "<table border=\"1\" class=\"dataframe\">\n",
              "  <thead>\n",
              "    <tr style=\"text-align: right;\">\n",
              "      <th></th>\n",
              "      <th>ISBN</th>\n",
              "      <th>Book-Title</th>\n",
              "      <th>Book-Author</th>\n",
              "      <th>Year-Of-Publication</th>\n",
              "      <th>Publisher</th>\n",
              "      <th>Image-URL-S</th>\n",
              "      <th>Image-URL-M</th>\n",
              "      <th>Image-URL-L</th>\n",
              "    </tr>\n",
              "  </thead>\n",
              "  <tbody>\n",
              "    <tr>\n",
              "      <th>220731</th>\n",
              "      <td>2070426769</td>\n",
              "      <td>Peuple du ciel, suivi de 'Les Bergers</td>\n",
              "      <td>Jean-Marie Gustave Le ClÃ?Â©zio</td>\n",
              "      <td>2003</td>\n",
              "      <td>Gallimard</td>\n",
              "      <td>http://images.amazon.com/images/P/2070426769.0...</td>\n",
              "      <td>http://images.amazon.com/images/P/2070426769.0...</td>\n",
              "      <td>NaN</td>\n",
              "    </tr>\n",
              "  </tbody>\n",
              "</table>\n",
              "</div>\n",
              "      <button class=\"colab-df-convert\" onclick=\"convertToInteractive('df-e23b4edb-98be-4918-bc82-2e71fa54747b')\"\n",
              "              title=\"Convert this dataframe to an interactive table.\"\n",
              "              style=\"display:none;\">\n",
              "        \n",
              "  <svg xmlns=\"http://www.w3.org/2000/svg\" height=\"24px\"viewBox=\"0 0 24 24\"\n",
              "       width=\"24px\">\n",
              "    <path d=\"M0 0h24v24H0V0z\" fill=\"none\"/>\n",
              "    <path d=\"M18.56 5.44l.94 2.06.94-2.06 2.06-.94-2.06-.94-.94-2.06-.94 2.06-2.06.94zm-11 1L8.5 8.5l.94-2.06 2.06-.94-2.06-.94L8.5 2.5l-.94 2.06-2.06.94zm10 10l.94 2.06.94-2.06 2.06-.94-2.06-.94-.94-2.06-.94 2.06-2.06.94z\"/><path d=\"M17.41 7.96l-1.37-1.37c-.4-.4-.92-.59-1.43-.59-.52 0-1.04.2-1.43.59L10.3 9.45l-7.72 7.72c-.78.78-.78 2.05 0 2.83L4 21.41c.39.39.9.59 1.41.59.51 0 1.02-.2 1.41-.59l7.78-7.78 2.81-2.81c.8-.78.8-2.07 0-2.86zM5.41 20L4 18.59l7.72-7.72 1.47 1.35L5.41 20z\"/>\n",
              "  </svg>\n",
              "      </button>\n",
              "      \n",
              "  <style>\n",
              "    .colab-df-container {\n",
              "      display:flex;\n",
              "      flex-wrap:wrap;\n",
              "      gap: 12px;\n",
              "    }\n",
              "\n",
              "    .colab-df-convert {\n",
              "      background-color: #E8F0FE;\n",
              "      border: none;\n",
              "      border-radius: 50%;\n",
              "      cursor: pointer;\n",
              "      display: none;\n",
              "      fill: #1967D2;\n",
              "      height: 32px;\n",
              "      padding: 0 0 0 0;\n",
              "      width: 32px;\n",
              "    }\n",
              "\n",
              "    .colab-df-convert:hover {\n",
              "      background-color: #E2EBFA;\n",
              "      box-shadow: 0px 1px 2px rgba(60, 64, 67, 0.3), 0px 1px 3px 1px rgba(60, 64, 67, 0.15);\n",
              "      fill: #174EA6;\n",
              "    }\n",
              "\n",
              "    [theme=dark] .colab-df-convert {\n",
              "      background-color: #3B4455;\n",
              "      fill: #D2E3FC;\n",
              "    }\n",
              "\n",
              "    [theme=dark] .colab-df-convert:hover {\n",
              "      background-color: #434B5C;\n",
              "      box-shadow: 0px 1px 3px 1px rgba(0, 0, 0, 0.15);\n",
              "      filter: drop-shadow(0px 1px 2px rgba(0, 0, 0, 0.3));\n",
              "      fill: #FFFFFF;\n",
              "    }\n",
              "  </style>\n",
              "\n",
              "      <script>\n",
              "        const buttonEl =\n",
              "          document.querySelector('#df-e23b4edb-98be-4918-bc82-2e71fa54747b button.colab-df-convert');\n",
              "        buttonEl.style.display =\n",
              "          google.colab.kernel.accessAllowed ? 'block' : 'none';\n",
              "\n",
              "        async function convertToInteractive(key) {\n",
              "          const element = document.querySelector('#df-e23b4edb-98be-4918-bc82-2e71fa54747b');\n",
              "          const dataTable =\n",
              "            await google.colab.kernel.invokeFunction('convertToInteractive',\n",
              "                                                     [key], {});\n",
              "          if (!dataTable) return;\n",
              "\n",
              "          const docLinkHtml = 'Like what you see? Visit the ' +\n",
              "            '<a target=\"_blank\" href=https://colab.research.google.com/notebooks/data_table.ipynb>data table notebook</a>'\n",
              "            + ' to learn more about interactive tables.';\n",
              "          element.innerHTML = '';\n",
              "          dataTable['output_type'] = 'display_data';\n",
              "          await google.colab.output.renderOutput(dataTable, element);\n",
              "          const docLink = document.createElement('div');\n",
              "          docLink.innerHTML = docLinkHtml;\n",
              "          element.appendChild(docLink);\n",
              "        }\n",
              "      </script>\n",
              "    </div>\n",
              "  </div>\n",
              "  "
            ]
          },
          "metadata": {},
          "execution_count": 43
        }
      ],
      "source": [
        "#making required corrections as above, keeping other fields intact\n",
        "books.loc[books.ISBN == '2070426769','Year-Of-Publication'] = 2003\n",
        "books.loc[books.ISBN == '2070426769','Book-Author'] = \"Jean-Marie Gustave Le ClÃ?Â©zio\"\n",
        "books.loc[books.ISBN == '2070426769','Publisher'] = \"Gallimard\"\n",
        "books.loc[books.ISBN == '2070426769','Book-Title'] = \"Peuple du ciel, suivi de 'Les Bergers\"\n",
        "\n",
        "\n",
        "books.loc[books.ISBN == '2070426769',:]"
      ]
    },
    {
      "cell_type": "code",
      "execution_count": 44,
      "metadata": {
        "id": "KLadyjMKiL9h",
        "colab": {
          "base_uri": "https://localhost:8080/"
        },
        "outputId": "a9069dca-e063-4f89-ac04-9f8911e1324c"
      },
      "outputs": [
        {
          "output_type": "stream",
          "name": "stdout",
          "text": [
            "[0, 1376, 1378, 1806, 1897, 1900, 1901, 1902, 1904, 1906, 1908, 1909, 1910, 1911, 1914, 1917, 1919, 1920, 1921, 1922, 1923, 1924, 1925, 1926, 1927, 1928, 1929, 1930, 1931, 1932, 1933, 1934, 1935, 1936, 1937, 1938, 1939, 1940, 1941, 1942, 1943, 1944, 1945, 1946, 1947, 1948, 1949, 1950, 1951, 1952, 1953, 1954, 1955, 1956, 1957, 1958, 1959, 1960, 1961, 1962, 1963, 1964, 1965, 1966, 1967, 1968, 1969, 1970, 1971, 1972, 1973, 1974, 1975, 1976, 1977, 1978, 1979, 1980, 1981, 1982, 1983, 1984, 1985, 1986, 1987, 1988, 1989, 1990, 1991, 1992, 1993, 1994, 1995, 1996, 1997, 1998, 1999, 2000, 2001, 2002, 2003, 2004, 2005, 2006, 2008, 2010, 2011, 2012, 2020, 2021, 2024, 2026, 2030, 2037, 2038, 2050]\n"
          ]
        }
      ],
      "source": [
        "books['Year-Of-Publication']=pd.to_numeric(books['Year-Of-Publication'], errors='coerce')\n",
        "\n",
        "print(sorted(books['Year-Of-Publication'].unique()))\n",
        "#Now it can be seen that yearOfPublication has all values as integers"
      ]
    },
    {
      "cell_type": "markdown",
      "metadata": {
        "id": "X7iSYsOakxGW"
      },
      "source": [
        "The value 0 for Year-Of_Publication is invalid and as this dataset was published in 2004, We have assumed that the years after 2006 to be \n",
        "invalid and setting invalid years as NaN\n",
        "\n",
        "Reference of the fact: http://www2.informatik.uni-freiburg.de/~cziegler/BX/"
      ]
    },
    {
      "cell_type": "code",
      "execution_count": 45,
      "metadata": {
        "id": "9QyokEaflJ5O"
      },
      "outputs": [],
      "source": [
        "books.loc[(books['Year-Of-Publication'] > 2006) | (books['Year-Of-Publication'] == 0),'Year-Of-Publication'] = np.NAN\n",
        "\n",
        "#replacing NaNs with median value of Year-Of-Publication\n",
        "books['Year-Of-Publication'].fillna(round(books['Year-Of-Publication'].median()), inplace=True)"
      ]
    },
    {
      "cell_type": "code",
      "execution_count": 46,
      "metadata": {
        "id": "osjQapzRlyB1"
      },
      "outputs": [],
      "source": [
        "#dropping last three columns containing image URLs which will not be required for analysis\n",
        "books.drop(['Image-URL-S', 'Image-URL-M', 'Image-URL-L'],axis=1,inplace=True)"
      ]
    },
    {
      "cell_type": "code",
      "execution_count": 47,
      "metadata": {
        "id": "TfLifixPlx_D",
        "colab": {
          "base_uri": "https://localhost:8080/"
        },
        "outputId": "364e35da-7da3-4bd6-9002-b4d3879450e5"
      },
      "outputs": [
        {
          "output_type": "execute_result",
          "data": {
            "text/plain": [
              "ISBN                   0\n",
              "Book-Title             0\n",
              "Book-Author            1\n",
              "Year-Of-Publication    0\n",
              "Publisher              2\n",
              "dtype: int64"
            ]
          },
          "metadata": {},
          "execution_count": 47
        }
      ],
      "source": [
        "#checking nulls\n",
        "books.isna().sum()"
      ]
    },
    {
      "cell_type": "code",
      "execution_count": 48,
      "metadata": {
        "id": "qb_ZEgE5lx8y",
        "colab": {
          "base_uri": "https://localhost:8080/",
          "height": 112
        },
        "outputId": "11e2c314-7b6e-4711-bd16-f0b18ca9c92e"
      },
      "outputs": [
        {
          "output_type": "execute_result",
          "data": {
            "text/plain": [
              "              ISBN       Book-Title      Book-Author  Year-Of-Publication  \\\n",
              "128890  193169656X      Tyrant Moon  Elaine Corvidae               2002.0   \n",
              "129037  1931696993  Finders Keepers  Linnea Sinclair               2001.0   \n",
              "\n",
              "       Publisher  \n",
              "128890       NaN  \n",
              "129037       NaN  "
            ],
            "text/html": [
              "\n",
              "  <div id=\"df-8bb5588b-bf8a-492e-8e1a-00e8ed1a8036\">\n",
              "    <div class=\"colab-df-container\">\n",
              "      <div>\n",
              "<style scoped>\n",
              "    .dataframe tbody tr th:only-of-type {\n",
              "        vertical-align: middle;\n",
              "    }\n",
              "\n",
              "    .dataframe tbody tr th {\n",
              "        vertical-align: top;\n",
              "    }\n",
              "\n",
              "    .dataframe thead th {\n",
              "        text-align: right;\n",
              "    }\n",
              "</style>\n",
              "<table border=\"1\" class=\"dataframe\">\n",
              "  <thead>\n",
              "    <tr style=\"text-align: right;\">\n",
              "      <th></th>\n",
              "      <th>ISBN</th>\n",
              "      <th>Book-Title</th>\n",
              "      <th>Book-Author</th>\n",
              "      <th>Year-Of-Publication</th>\n",
              "      <th>Publisher</th>\n",
              "    </tr>\n",
              "  </thead>\n",
              "  <tbody>\n",
              "    <tr>\n",
              "      <th>128890</th>\n",
              "      <td>193169656X</td>\n",
              "      <td>Tyrant Moon</td>\n",
              "      <td>Elaine Corvidae</td>\n",
              "      <td>2002.0</td>\n",
              "      <td>NaN</td>\n",
              "    </tr>\n",
              "    <tr>\n",
              "      <th>129037</th>\n",
              "      <td>1931696993</td>\n",
              "      <td>Finders Keepers</td>\n",
              "      <td>Linnea Sinclair</td>\n",
              "      <td>2001.0</td>\n",
              "      <td>NaN</td>\n",
              "    </tr>\n",
              "  </tbody>\n",
              "</table>\n",
              "</div>\n",
              "      <button class=\"colab-df-convert\" onclick=\"convertToInteractive('df-8bb5588b-bf8a-492e-8e1a-00e8ed1a8036')\"\n",
              "              title=\"Convert this dataframe to an interactive table.\"\n",
              "              style=\"display:none;\">\n",
              "        \n",
              "  <svg xmlns=\"http://www.w3.org/2000/svg\" height=\"24px\"viewBox=\"0 0 24 24\"\n",
              "       width=\"24px\">\n",
              "    <path d=\"M0 0h24v24H0V0z\" fill=\"none\"/>\n",
              "    <path d=\"M18.56 5.44l.94 2.06.94-2.06 2.06-.94-2.06-.94-.94-2.06-.94 2.06-2.06.94zm-11 1L8.5 8.5l.94-2.06 2.06-.94-2.06-.94L8.5 2.5l-.94 2.06-2.06.94zm10 10l.94 2.06.94-2.06 2.06-.94-2.06-.94-.94-2.06-.94 2.06-2.06.94z\"/><path d=\"M17.41 7.96l-1.37-1.37c-.4-.4-.92-.59-1.43-.59-.52 0-1.04.2-1.43.59L10.3 9.45l-7.72 7.72c-.78.78-.78 2.05 0 2.83L4 21.41c.39.39.9.59 1.41.59.51 0 1.02-.2 1.41-.59l7.78-7.78 2.81-2.81c.8-.78.8-2.07 0-2.86zM5.41 20L4 18.59l7.72-7.72 1.47 1.35L5.41 20z\"/>\n",
              "  </svg>\n",
              "      </button>\n",
              "      \n",
              "  <style>\n",
              "    .colab-df-container {\n",
              "      display:flex;\n",
              "      flex-wrap:wrap;\n",
              "      gap: 12px;\n",
              "    }\n",
              "\n",
              "    .colab-df-convert {\n",
              "      background-color: #E8F0FE;\n",
              "      border: none;\n",
              "      border-radius: 50%;\n",
              "      cursor: pointer;\n",
              "      display: none;\n",
              "      fill: #1967D2;\n",
              "      height: 32px;\n",
              "      padding: 0 0 0 0;\n",
              "      width: 32px;\n",
              "    }\n",
              "\n",
              "    .colab-df-convert:hover {\n",
              "      background-color: #E2EBFA;\n",
              "      box-shadow: 0px 1px 2px rgba(60, 64, 67, 0.3), 0px 1px 3px 1px rgba(60, 64, 67, 0.15);\n",
              "      fill: #174EA6;\n",
              "    }\n",
              "\n",
              "    [theme=dark] .colab-df-convert {\n",
              "      background-color: #3B4455;\n",
              "      fill: #D2E3FC;\n",
              "    }\n",
              "\n",
              "    [theme=dark] .colab-df-convert:hover {\n",
              "      background-color: #434B5C;\n",
              "      box-shadow: 0px 1px 3px 1px rgba(0, 0, 0, 0.15);\n",
              "      filter: drop-shadow(0px 1px 2px rgba(0, 0, 0, 0.3));\n",
              "      fill: #FFFFFF;\n",
              "    }\n",
              "  </style>\n",
              "\n",
              "      <script>\n",
              "        const buttonEl =\n",
              "          document.querySelector('#df-8bb5588b-bf8a-492e-8e1a-00e8ed1a8036 button.colab-df-convert');\n",
              "        buttonEl.style.display =\n",
              "          google.colab.kernel.accessAllowed ? 'block' : 'none';\n",
              "\n",
              "        async function convertToInteractive(key) {\n",
              "          const element = document.querySelector('#df-8bb5588b-bf8a-492e-8e1a-00e8ed1a8036');\n",
              "          const dataTable =\n",
              "            await google.colab.kernel.invokeFunction('convertToInteractive',\n",
              "                                                     [key], {});\n",
              "          if (!dataTable) return;\n",
              "\n",
              "          const docLinkHtml = 'Like what you see? Visit the ' +\n",
              "            '<a target=\"_blank\" href=https://colab.research.google.com/notebooks/data_table.ipynb>data table notebook</a>'\n",
              "            + ' to learn more about interactive tables.';\n",
              "          element.innerHTML = '';\n",
              "          dataTable['output_type'] = 'display_data';\n",
              "          await google.colab.output.renderOutput(dataTable, element);\n",
              "          const docLink = document.createElement('div');\n",
              "          docLink.innerHTML = docLinkHtml;\n",
              "          element.appendChild(docLink);\n",
              "        }\n",
              "      </script>\n",
              "    </div>\n",
              "  </div>\n",
              "  "
            ]
          },
          "metadata": {},
          "execution_count": 48
        }
      ],
      "source": [
        "#exploring null in publisher column\n",
        "books.loc[books.Publisher.isnull(),:]"
      ]
    },
    {
      "cell_type": "code",
      "execution_count": 49,
      "metadata": {
        "id": "9QzBOqE3lx6J"
      },
      "outputs": [],
      "source": [
        "#Filling Nan of Publisher with others\n",
        "books.Publisher.fillna('other',inplace=True)"
      ]
    },
    {
      "cell_type": "code",
      "execution_count": 50,
      "metadata": {
        "id": "mgpSdzD_lx2T",
        "colab": {
          "base_uri": "https://localhost:8080/",
          "height": 81
        },
        "outputId": "96ab0fab-9dda-4909-ba80-7f88dcbe8e68"
      },
      "outputs": [
        {
          "output_type": "execute_result",
          "data": {
            "text/plain": [
              "              ISBN                                         Book-Title  \\\n",
              "187689  9627982032  The Credit Suisse Guide to Managing Your Perso...   \n",
              "\n",
              "       Book-Author  Year-Of-Publication                       Publisher  \n",
              "187689         NaN               1995.0  Edinburgh Financial Publishing  "
            ],
            "text/html": [
              "\n",
              "  <div id=\"df-efca2b6e-86c0-4a3b-8eb8-29b0fecdc93d\">\n",
              "    <div class=\"colab-df-container\">\n",
              "      <div>\n",
              "<style scoped>\n",
              "    .dataframe tbody tr th:only-of-type {\n",
              "        vertical-align: middle;\n",
              "    }\n",
              "\n",
              "    .dataframe tbody tr th {\n",
              "        vertical-align: top;\n",
              "    }\n",
              "\n",
              "    .dataframe thead th {\n",
              "        text-align: right;\n",
              "    }\n",
              "</style>\n",
              "<table border=\"1\" class=\"dataframe\">\n",
              "  <thead>\n",
              "    <tr style=\"text-align: right;\">\n",
              "      <th></th>\n",
              "      <th>ISBN</th>\n",
              "      <th>Book-Title</th>\n",
              "      <th>Book-Author</th>\n",
              "      <th>Year-Of-Publication</th>\n",
              "      <th>Publisher</th>\n",
              "    </tr>\n",
              "  </thead>\n",
              "  <tbody>\n",
              "    <tr>\n",
              "      <th>187689</th>\n",
              "      <td>9627982032</td>\n",
              "      <td>The Credit Suisse Guide to Managing Your Perso...</td>\n",
              "      <td>NaN</td>\n",
              "      <td>1995.0</td>\n",
              "      <td>Edinburgh Financial Publishing</td>\n",
              "    </tr>\n",
              "  </tbody>\n",
              "</table>\n",
              "</div>\n",
              "      <button class=\"colab-df-convert\" onclick=\"convertToInteractive('df-efca2b6e-86c0-4a3b-8eb8-29b0fecdc93d')\"\n",
              "              title=\"Convert this dataframe to an interactive table.\"\n",
              "              style=\"display:none;\">\n",
              "        \n",
              "  <svg xmlns=\"http://www.w3.org/2000/svg\" height=\"24px\"viewBox=\"0 0 24 24\"\n",
              "       width=\"24px\">\n",
              "    <path d=\"M0 0h24v24H0V0z\" fill=\"none\"/>\n",
              "    <path d=\"M18.56 5.44l.94 2.06.94-2.06 2.06-.94-2.06-.94-.94-2.06-.94 2.06-2.06.94zm-11 1L8.5 8.5l.94-2.06 2.06-.94-2.06-.94L8.5 2.5l-.94 2.06-2.06.94zm10 10l.94 2.06.94-2.06 2.06-.94-2.06-.94-.94-2.06-.94 2.06-2.06.94z\"/><path d=\"M17.41 7.96l-1.37-1.37c-.4-.4-.92-.59-1.43-.59-.52 0-1.04.2-1.43.59L10.3 9.45l-7.72 7.72c-.78.78-.78 2.05 0 2.83L4 21.41c.39.39.9.59 1.41.59.51 0 1.02-.2 1.41-.59l7.78-7.78 2.81-2.81c.8-.78.8-2.07 0-2.86zM5.41 20L4 18.59l7.72-7.72 1.47 1.35L5.41 20z\"/>\n",
              "  </svg>\n",
              "      </button>\n",
              "      \n",
              "  <style>\n",
              "    .colab-df-container {\n",
              "      display:flex;\n",
              "      flex-wrap:wrap;\n",
              "      gap: 12px;\n",
              "    }\n",
              "\n",
              "    .colab-df-convert {\n",
              "      background-color: #E8F0FE;\n",
              "      border: none;\n",
              "      border-radius: 50%;\n",
              "      cursor: pointer;\n",
              "      display: none;\n",
              "      fill: #1967D2;\n",
              "      height: 32px;\n",
              "      padding: 0 0 0 0;\n",
              "      width: 32px;\n",
              "    }\n",
              "\n",
              "    .colab-df-convert:hover {\n",
              "      background-color: #E2EBFA;\n",
              "      box-shadow: 0px 1px 2px rgba(60, 64, 67, 0.3), 0px 1px 3px 1px rgba(60, 64, 67, 0.15);\n",
              "      fill: #174EA6;\n",
              "    }\n",
              "\n",
              "    [theme=dark] .colab-df-convert {\n",
              "      background-color: #3B4455;\n",
              "      fill: #D2E3FC;\n",
              "    }\n",
              "\n",
              "    [theme=dark] .colab-df-convert:hover {\n",
              "      background-color: #434B5C;\n",
              "      box-shadow: 0px 1px 3px 1px rgba(0, 0, 0, 0.15);\n",
              "      filter: drop-shadow(0px 1px 2px rgba(0, 0, 0, 0.3));\n",
              "      fill: #FFFFFF;\n",
              "    }\n",
              "  </style>\n",
              "\n",
              "      <script>\n",
              "        const buttonEl =\n",
              "          document.querySelector('#df-efca2b6e-86c0-4a3b-8eb8-29b0fecdc93d button.colab-df-convert');\n",
              "        buttonEl.style.display =\n",
              "          google.colab.kernel.accessAllowed ? 'block' : 'none';\n",
              "\n",
              "        async function convertToInteractive(key) {\n",
              "          const element = document.querySelector('#df-efca2b6e-86c0-4a3b-8eb8-29b0fecdc93d');\n",
              "          const dataTable =\n",
              "            await google.colab.kernel.invokeFunction('convertToInteractive',\n",
              "                                                     [key], {});\n",
              "          if (!dataTable) return;\n",
              "\n",
              "          const docLinkHtml = 'Like what you see? Visit the ' +\n",
              "            '<a target=\"_blank\" href=https://colab.research.google.com/notebooks/data_table.ipynb>data table notebook</a>'\n",
              "            + ' to learn more about interactive tables.';\n",
              "          element.innerHTML = '';\n",
              "          dataTable['output_type'] = 'display_data';\n",
              "          await google.colab.output.renderOutput(dataTable, element);\n",
              "          const docLink = document.createElement('div');\n",
              "          docLink.innerHTML = docLinkHtml;\n",
              "          element.appendChild(docLink);\n",
              "        }\n",
              "      </script>\n",
              "    </div>\n",
              "  </div>\n",
              "  "
            ]
          },
          "metadata": {},
          "execution_count": 50
        }
      ],
      "source": [
        "#exploring 'Book-Author' column\n",
        "books.loc[books['Book-Author'].isnull(),:]"
      ]
    },
    {
      "cell_type": "code",
      "execution_count": 51,
      "metadata": {
        "id": "vkecS4zmlxw5"
      },
      "outputs": [],
      "source": [
        "#Filling Nan of Book-Author with others\n",
        "books['Book-Author'].fillna('other',inplace=True)"
      ]
    },
    {
      "cell_type": "code",
      "execution_count": 52,
      "metadata": {
        "id": "c11vvozulxtn",
        "colab": {
          "base_uri": "https://localhost:8080/"
        },
        "outputId": "b90a4a36-1499-406a-aa89-683b19223af3"
      },
      "outputs": [
        {
          "output_type": "execute_result",
          "data": {
            "text/plain": [
              "ISBN                   0\n",
              "Book-Title             0\n",
              "Book-Author            0\n",
              "Year-Of-Publication    0\n",
              "Publisher              0\n",
              "dtype: int64"
            ]
          },
          "metadata": {},
          "execution_count": 52
        }
      ],
      "source": [
        "#checking nulls of book\n",
        "books.isna().sum()"
      ]
    },
    {
      "cell_type": "markdown",
      "metadata": {
        "id": "ytU_9Zf5EFVu"
      },
      "source": [
        "##**3- Ratings_Dataset**"
      ]
    },
    {
      "cell_type": "code",
      "execution_count": 53,
      "metadata": {
        "id": "WoMdnzySEXIn",
        "colab": {
          "base_uri": "https://localhost:8080/",
          "height": 112
        },
        "outputId": "1bd95c2d-7efd-4638-c83e-8e7ac2b217c0"
      },
      "outputs": [
        {
          "output_type": "execute_result",
          "data": {
            "text/plain": [
              "   User-ID        ISBN  Book-Rating\n",
              "0   276725  034545104X            0\n",
              "1   276726  0155061224            5"
            ],
            "text/html": [
              "\n",
              "  <div id=\"df-1f8d5a6c-74c4-467e-8851-878412b32341\">\n",
              "    <div class=\"colab-df-container\">\n",
              "      <div>\n",
              "<style scoped>\n",
              "    .dataframe tbody tr th:only-of-type {\n",
              "        vertical-align: middle;\n",
              "    }\n",
              "\n",
              "    .dataframe tbody tr th {\n",
              "        vertical-align: top;\n",
              "    }\n",
              "\n",
              "    .dataframe thead th {\n",
              "        text-align: right;\n",
              "    }\n",
              "</style>\n",
              "<table border=\"1\" class=\"dataframe\">\n",
              "  <thead>\n",
              "    <tr style=\"text-align: right;\">\n",
              "      <th></th>\n",
              "      <th>User-ID</th>\n",
              "      <th>ISBN</th>\n",
              "      <th>Book-Rating</th>\n",
              "    </tr>\n",
              "  </thead>\n",
              "  <tbody>\n",
              "    <tr>\n",
              "      <th>0</th>\n",
              "      <td>276725</td>\n",
              "      <td>034545104X</td>\n",
              "      <td>0</td>\n",
              "    </tr>\n",
              "    <tr>\n",
              "      <th>1</th>\n",
              "      <td>276726</td>\n",
              "      <td>0155061224</td>\n",
              "      <td>5</td>\n",
              "    </tr>\n",
              "  </tbody>\n",
              "</table>\n",
              "</div>\n",
              "      <button class=\"colab-df-convert\" onclick=\"convertToInteractive('df-1f8d5a6c-74c4-467e-8851-878412b32341')\"\n",
              "              title=\"Convert this dataframe to an interactive table.\"\n",
              "              style=\"display:none;\">\n",
              "        \n",
              "  <svg xmlns=\"http://www.w3.org/2000/svg\" height=\"24px\"viewBox=\"0 0 24 24\"\n",
              "       width=\"24px\">\n",
              "    <path d=\"M0 0h24v24H0V0z\" fill=\"none\"/>\n",
              "    <path d=\"M18.56 5.44l.94 2.06.94-2.06 2.06-.94-2.06-.94-.94-2.06-.94 2.06-2.06.94zm-11 1L8.5 8.5l.94-2.06 2.06-.94-2.06-.94L8.5 2.5l-.94 2.06-2.06.94zm10 10l.94 2.06.94-2.06 2.06-.94-2.06-.94-.94-2.06-.94 2.06-2.06.94z\"/><path d=\"M17.41 7.96l-1.37-1.37c-.4-.4-.92-.59-1.43-.59-.52 0-1.04.2-1.43.59L10.3 9.45l-7.72 7.72c-.78.78-.78 2.05 0 2.83L4 21.41c.39.39.9.59 1.41.59.51 0 1.02-.2 1.41-.59l7.78-7.78 2.81-2.81c.8-.78.8-2.07 0-2.86zM5.41 20L4 18.59l7.72-7.72 1.47 1.35L5.41 20z\"/>\n",
              "  </svg>\n",
              "      </button>\n",
              "      \n",
              "  <style>\n",
              "    .colab-df-container {\n",
              "      display:flex;\n",
              "      flex-wrap:wrap;\n",
              "      gap: 12px;\n",
              "    }\n",
              "\n",
              "    .colab-df-convert {\n",
              "      background-color: #E8F0FE;\n",
              "      border: none;\n",
              "      border-radius: 50%;\n",
              "      cursor: pointer;\n",
              "      display: none;\n",
              "      fill: #1967D2;\n",
              "      height: 32px;\n",
              "      padding: 0 0 0 0;\n",
              "      width: 32px;\n",
              "    }\n",
              "\n",
              "    .colab-df-convert:hover {\n",
              "      background-color: #E2EBFA;\n",
              "      box-shadow: 0px 1px 2px rgba(60, 64, 67, 0.3), 0px 1px 3px 1px rgba(60, 64, 67, 0.15);\n",
              "      fill: #174EA6;\n",
              "    }\n",
              "\n",
              "    [theme=dark] .colab-df-convert {\n",
              "      background-color: #3B4455;\n",
              "      fill: #D2E3FC;\n",
              "    }\n",
              "\n",
              "    [theme=dark] .colab-df-convert:hover {\n",
              "      background-color: #434B5C;\n",
              "      box-shadow: 0px 1px 3px 1px rgba(0, 0, 0, 0.15);\n",
              "      filter: drop-shadow(0px 1px 2px rgba(0, 0, 0, 0.3));\n",
              "      fill: #FFFFFF;\n",
              "    }\n",
              "  </style>\n",
              "\n",
              "      <script>\n",
              "        const buttonEl =\n",
              "          document.querySelector('#df-1f8d5a6c-74c4-467e-8851-878412b32341 button.colab-df-convert');\n",
              "        buttonEl.style.display =\n",
              "          google.colab.kernel.accessAllowed ? 'block' : 'none';\n",
              "\n",
              "        async function convertToInteractive(key) {\n",
              "          const element = document.querySelector('#df-1f8d5a6c-74c4-467e-8851-878412b32341');\n",
              "          const dataTable =\n",
              "            await google.colab.kernel.invokeFunction('convertToInteractive',\n",
              "                                                     [key], {});\n",
              "          if (!dataTable) return;\n",
              "\n",
              "          const docLinkHtml = 'Like what you see? Visit the ' +\n",
              "            '<a target=\"_blank\" href=https://colab.research.google.com/notebooks/data_table.ipynb>data table notebook</a>'\n",
              "            + ' to learn more about interactive tables.';\n",
              "          element.innerHTML = '';\n",
              "          dataTable['output_type'] = 'display_data';\n",
              "          await google.colab.output.renderOutput(dataTable, element);\n",
              "          const docLink = document.createElement('div');\n",
              "          docLink.innerHTML = docLinkHtml;\n",
              "          element.appendChild(docLink);\n",
              "        }\n",
              "      </script>\n",
              "    </div>\n",
              "  </div>\n",
              "  "
            ]
          },
          "metadata": {},
          "execution_count": 53
        }
      ],
      "source": [
        "ratings.head(2)"
      ]
    },
    {
      "cell_type": "markdown",
      "metadata": {
        "id": "4MNNf5WDGCRg"
      },
      "source": [
        "Ratings dataset should have books only which exist in our books dataset."
      ]
    },
    {
      "cell_type": "code",
      "execution_count": 54,
      "metadata": {
        "id": "zMoyBujZF2T6",
        "colab": {
          "base_uri": "https://localhost:8080/"
        },
        "outputId": "5f051d35-3960-4ccb-dd80-73bf8e5c30b0"
      },
      "outputs": [
        {
          "output_type": "execute_result",
          "data": {
            "text/plain": [
              "((1149780, 3), (1031136, 3))"
            ]
          },
          "metadata": {},
          "execution_count": 54
        }
      ],
      "source": [
        "ratings_new = ratings[ratings.ISBN.isin(books.ISBN)]\n",
        "ratings.shape,ratings_new.shape"
      ]
    },
    {
      "cell_type": "markdown",
      "metadata": {
        "id": "nVTmV38zGQDI"
      },
      "source": [
        "It can be seen that many rows having book ISBN not part of books dataset got dropped off"
      ]
    },
    {
      "cell_type": "markdown",
      "metadata": {
        "id": "anC0KA07GXtN"
      },
      "source": [
        "Ratings dataset should have ratings from users which exist in users dataset."
      ]
    },
    {
      "cell_type": "code",
      "execution_count": 55,
      "metadata": {
        "id": "7EQiTZnuF2RM",
        "colab": {
          "base_uri": "https://localhost:8080/"
        },
        "outputId": "b3640f27-d01a-40d7-9f95-32c7f753b27b"
      },
      "outputs": [
        {
          "output_type": "stream",
          "name": "stdout",
          "text": [
            "Shape of dataset before dropping (1031136, 3)\n",
            "shape of dataset after dropping (1031136, 3)\n"
          ]
        }
      ],
      "source": [
        "print(\"Shape of dataset before dropping\",ratings_new.shape)\n",
        "ratings_new = ratings_new[ratings_new['User-ID'].isin(users['User-ID'])]\n",
        "print(\"shape of dataset after dropping\",ratings_new.shape)"
      ]
    },
    {
      "cell_type": "markdown",
      "metadata": {
        "id": "94ou5dtuHcaC"
      },
      "source": [
        "we can clearly saw that no new user was there in ratings dataset."
      ]
    },
    {
      "cell_type": "markdown",
      "metadata": {
        "id": "FKakd-v2OCQ2"
      },
      "source": [
        "Let's see how the ratings are distributed"
      ]
    },
    {
      "cell_type": "code",
      "execution_count": 56,
      "metadata": {
        "id": "5pWV7Qt_7NnY",
        "colab": {
          "base_uri": "https://localhost:8080/",
          "height": 334
        },
        "outputId": "c5219a7f-ea78-4460-bfb3-e564647dddde"
      },
      "outputs": [
        {
          "output_type": "display_data",
          "data": {
            "text/plain": [
              "<Figure size 432x288 with 1 Axes>"
            ],
            "image/png": "[encoded data removed]"
          },
          "metadata": {
            "needs_background": "light"
          }
        }
      ],
      "source": [
        "#Bar plot for rating distribution\n",
        "plt.rc(\"font\", size=15)\n",
        "ratings_new['Book-Rating'].value_counts(sort=False).plot(kind='bar')\n",
        "plt.title('Rating Distribution\\n')\n",
        "plt.xlabel('Rating')\n",
        "plt.ylabel('Count')\n",
        "plt.show()"
      ]
    },
    {
      "cell_type": "markdown",
      "metadata": {
        "id": "kwiQ3ffuOsaK"
      },
      "source": [
        "As we can see from this above plot The ratings are very unevenly distributed, and the vast majority of ratings are 0 .As quoted in the description of the dataset - BX-Book-Ratings contains the book rating information. Ratings are either explicit, expressed on a scale from 1-10 higher values denoting higher appreciation, or implicit, expressed by 0.Hence segragating implicit and explict ratings datasets."
      ]
    },
    {
      "cell_type": "code",
      "execution_count": 57,
      "metadata": {
        "id": "SFmSfkTkH13T"
      },
      "outputs": [],
      "source": [
        "#Hence segragating implicit and explict ratings datasets\n",
        "ratings_explicit = ratings_new[ratings_new['Book-Rating'] != 0]\n",
        "ratings_implicit = ratings_new[ratings_new['Book-Rating'] == 0]"
      ]
    },
    {
      "cell_type": "code",
      "execution_count": 58,
      "metadata": {
        "id": "8M0OmJbOIG-K",
        "colab": {
          "base_uri": "https://localhost:8080/"
        },
        "outputId": "d50f6429-2a75-4b8c-a7ae-771985b083fb"
      },
      "outputs": [
        {
          "output_type": "stream",
          "name": "stdout",
          "text": [
            "ratings_explicit dataset shape (383842, 3)\n",
            "ratings_implicit dataset (647294, 3)\n"
          ]
        }
      ],
      "source": [
        "print('ratings_explicit dataset shape',ratings_explicit.shape)\n",
        "print('ratings_implicit dataset',ratings_implicit.shape)"
      ]
    },
    {
      "cell_type": "code",
      "execution_count": 59,
      "metadata": {
        "id": "JxKBrL2IIB4Z",
        "colab": {
          "base_uri": "https://localhost:8080/",
          "height": 554
        },
        "outputId": "18466078-3c5e-4bde-81dd-2dc2ec85528f"
      },
      "outputs": [
        {
          "output_type": "execute_result",
          "data": {
            "text/plain": [
              "<matplotlib.axes._subplots.AxesSubplot at 0x7f338673cc50>"
            ]
          },
          "metadata": {},
          "execution_count": 59
        },
        {
          "output_type": "display_data",
          "data": {
            "text/plain": [
              "<Figure size 864x576 with 1 Axes>"
            ],
            "image/png": "[encoded data removed]"
          },
          "metadata": {}
        }
      ],
      "source": [
        "#countplot for explicit ratings\n",
        "plt.style.use('fivethirtyeight')\n",
        "plt.figure(figsize=(12, 8))\n",
        "sns.countplot(data=ratings_explicit , x='Book-Rating', palette='rocket_r')"
      ]
    },
    {
      "cell_type": "markdown",
      "metadata": {
        "id": "PymNn2_aIklF"
      },
      "source": [
        "we can observe that higher ratings are more often amongst users and rating 8 has been rated highest number of times.\n"
      ]
    },
    {
      "cell_type": "code",
      "execution_count": 60,
      "metadata": {
        "id": "oddq5J1BPr_0"
      },
      "outputs": [],
      "source": [
        "# Create column Rating average \n",
        "ratings_explicit['Avg_Rating']=ratings_explicit.groupby('ISBN')['Book-Rating'].transform('mean')\n",
        "# Create column Rating sum\n",
        "ratings_explicit['Total_No_Of_Users_Rated']=ratings_explicit.groupby('ISBN')['Book-Rating'].transform('count')"
      ]
    },
    {
      "cell_type": "code",
      "execution_count": 61,
      "metadata": {
        "id": "zezxTXUTOW56",
        "colab": {
          "base_uri": "https://localhost:8080/"
        },
        "outputId": "03708029-97af-4331-9b48-418fb2634799"
      },
      "outputs": [
        {
          "output_type": "execute_result",
          "data": {
            "text/plain": [
              "(383842, 5)"
            ]
          },
          "metadata": {},
          "execution_count": 61
        }
      ],
      "source": [
        "ratings_explicit.shape"
      ]
    },
    {
      "cell_type": "code",
      "execution_count": 62,
      "metadata": {
        "id": "S9M5T3_sVHm9",
        "colab": {
          "base_uri": "https://localhost:8080/",
          "height": 206
        },
        "outputId": "be20484a-a0dd-4c28-8d9d-37796ee38bd3"
      },
      "outputs": [
        {
          "output_type": "execute_result",
          "data": {
            "text/plain": [
              "    User-ID        ISBN  Book-Rating  Avg_Rating  Total_No_Of_Users_Rated\n",
              "1    276726  0155061224            5    5.000000                        1\n",
              "3    276729  052165615X            3    3.000000                        1\n",
              "4    276729  0521795028            6    6.000000                        1\n",
              "8    276744  038550120X            7    7.580247                       81\n",
              "16   276747  0060517794            9    8.000000                       30"
            ],
            "text/html": [
              "\n",
              "  <div id=\"df-d8c2d1ad-23df-4de2-892f-320b27f87ba5\">\n",
              "    <div class=\"colab-df-container\">\n",
              "      <div>\n",
              "<style scoped>\n",
              "    .dataframe tbody tr th:only-of-type {\n",
              "        vertical-align: middle;\n",
              "    }\n",
              "\n",
              "    .dataframe tbody tr th {\n",
              "        vertical-align: top;\n",
              "    }\n",
              "\n",
              "    .dataframe thead th {\n",
              "        text-align: right;\n",
              "    }\n",
              "</style>\n",
              "<table border=\"1\" class=\"dataframe\">\n",
              "  <thead>\n",
              "    <tr style=\"text-align: right;\">\n",
              "      <th></th>\n",
              "      <th>User-ID</th>\n",
              "      <th>ISBN</th>\n",
              "      <th>Book-Rating</th>\n",
              "      <th>Avg_Rating</th>\n",
              "      <th>Total_No_Of_Users_Rated</th>\n",
              "    </tr>\n",
              "  </thead>\n",
              "  <tbody>\n",
              "    <tr>\n",
              "      <th>1</th>\n",
              "      <td>276726</td>\n",
              "      <td>0155061224</td>\n",
              "      <td>5</td>\n",
              "      <td>5.000000</td>\n",
              "      <td>1</td>\n",
              "    </tr>\n",
              "    <tr>\n",
              "      <th>3</th>\n",
              "      <td>276729</td>\n",
              "      <td>052165615X</td>\n",
              "      <td>3</td>\n",
              "      <td>3.000000</td>\n",
              "      <td>1</td>\n",
              "    </tr>\n",
              "    <tr>\n",
              "      <th>4</th>\n",
              "      <td>276729</td>\n",
              "      <td>0521795028</td>\n",
              "      <td>6</td>\n",
              "      <td>6.000000</td>\n",
              "      <td>1</td>\n",
              "    </tr>\n",
              "    <tr>\n",
              "      <th>8</th>\n",
              "      <td>276744</td>\n",
              "      <td>038550120X</td>\n",
              "      <td>7</td>\n",
              "      <td>7.580247</td>\n",
              "      <td>81</td>\n",
              "    </tr>\n",
              "    <tr>\n",
              "      <th>16</th>\n",
              "      <td>276747</td>\n",
              "      <td>0060517794</td>\n",
              "      <td>9</td>\n",
              "      <td>8.000000</td>\n",
              "      <td>30</td>\n",
              "    </tr>\n",
              "  </tbody>\n",
              "</table>\n",
              "</div>\n",
              "      <button class=\"colab-df-convert\" onclick=\"convertToInteractive('df-d8c2d1ad-23df-4de2-892f-320b27f87ba5')\"\n",
              "              title=\"Convert this dataframe to an interactive table.\"\n",
              "              style=\"display:none;\">\n",
              "        \n",
              "  <svg xmlns=\"http://www.w3.org/2000/svg\" height=\"24px\"viewBox=\"0 0 24 24\"\n",
              "       width=\"24px\">\n",
              "    <path d=\"M0 0h24v24H0V0z\" fill=\"none\"/>\n",
              "    <path d=\"M18.56 5.44l.94 2.06.94-2.06 2.06-.94-2.06-.94-.94-2.06-.94 2.06-2.06.94zm-11 1L8.5 8.5l.94-2.06 2.06-.94-2.06-.94L8.5 2.5l-.94 2.06-2.06.94zm10 10l.94 2.06.94-2.06 2.06-.94-2.06-.94-.94-2.06-.94 2.06-2.06.94z\"/><path d=\"M17.41 7.96l-1.37-1.37c-.4-.4-.92-.59-1.43-.59-.52 0-1.04.2-1.43.59L10.3 9.45l-7.72 7.72c-.78.78-.78 2.05 0 2.83L4 21.41c.39.39.9.59 1.41.59.51 0 1.02-.2 1.41-.59l7.78-7.78 2.81-2.81c.8-.78.8-2.07 0-2.86zM5.41 20L4 18.59l7.72-7.72 1.47 1.35L5.41 20z\"/>\n",
              "  </svg>\n",
              "      </button>\n",
              "      \n",
              "  <style>\n",
              "    .colab-df-container {\n",
              "      display:flex;\n",
              "      flex-wrap:wrap;\n",
              "      gap: 12px;\n",
              "    }\n",
              "\n",
              "    .colab-df-convert {\n",
              "      background-color: #E8F0FE;\n",
              "      border: none;\n",
              "      border-radius: 50%;\n",
              "      cursor: pointer;\n",
              "      display: none;\n",
              "      fill: #1967D2;\n",
              "      height: 32px;\n",
              "      padding: 0 0 0 0;\n",
              "      width: 32px;\n",
              "    }\n",
              "\n",
              "    .colab-df-convert:hover {\n",
              "      background-color: #E2EBFA;\n",
              "      box-shadow: 0px 1px 2px rgba(60, 64, 67, 0.3), 0px 1px 3px 1px rgba(60, 64, 67, 0.15);\n",
              "      fill: #174EA6;\n",
              "    }\n",
              "\n",
              "    [theme=dark] .colab-df-convert {\n",
              "      background-color: #3B4455;\n",
              "      fill: #D2E3FC;\n",
              "    }\n",
              "\n",
              "    [theme=dark] .colab-df-convert:hover {\n",
              "      background-color: #434B5C;\n",
              "      box-shadow: 0px 1px 3px 1px rgba(0, 0, 0, 0.15);\n",
              "      filter: drop-shadow(0px 1px 2px rgba(0, 0, 0, 0.3));\n",
              "      fill: #FFFFFF;\n",
              "    }\n",
              "  </style>\n",
              "\n",
              "      <script>\n",
              "        const buttonEl =\n",
              "          document.querySelector('#df-d8c2d1ad-23df-4de2-892f-320b27f87ba5 button.colab-df-convert');\n",
              "        buttonEl.style.display =\n",
              "          google.colab.kernel.accessAllowed ? 'block' : 'none';\n",
              "\n",
              "        async function convertToInteractive(key) {\n",
              "          const element = document.querySelector('#df-d8c2d1ad-23df-4de2-892f-320b27f87ba5');\n",
              "          const dataTable =\n",
              "            await google.colab.kernel.invokeFunction('convertToInteractive',\n",
              "                                                     [key], {});\n",
              "          if (!dataTable) return;\n",
              "\n",
              "          const docLinkHtml = 'Like what you see? Visit the ' +\n",
              "            '<a target=\"_blank\" href=https://colab.research.google.com/notebooks/data_table.ipynb>data table notebook</a>'\n",
              "            + ' to learn more about interactive tables.';\n",
              "          element.innerHTML = '';\n",
              "          dataTable['output_type'] = 'display_data';\n",
              "          await google.colab.output.renderOutput(dataTable, element);\n",
              "          const docLink = document.createElement('div');\n",
              "          docLink.innerHTML = docLinkHtml;\n",
              "          element.appendChild(docLink);\n",
              "        }\n",
              "      </script>\n",
              "    </div>\n",
              "  </div>\n",
              "  "
            ]
          },
          "metadata": {},
          "execution_count": 62
        }
      ],
      "source": [
        "ratings_explicit.head()"
      ]
    },
    {
      "cell_type": "markdown",
      "metadata": {
        "id": "CUiTUHu02X92"
      },
      "source": [
        "\n",
        "##**Merging All Dataset**"
      ]
    },
    {
      "cell_type": "code",
      "execution_count": 63,
      "metadata": {
        "id": "H2M_3V7aVKKP"
      },
      "outputs": [],
      "source": [
        "#Dataset merging for complex memory based item-item recommendation\n",
        "Final_Dataset=users.copy()\n",
        "Final_Dataset=pd.merge(Final_Dataset,ratings_explicit,on='User-ID')\n",
        "Final_Dataset=pd.merge(Final_Dataset,books,on='ISBN')"
      ]
    },
    {
      "cell_type": "code",
      "execution_count": 64,
      "metadata": {
        "id": "A4-iV-E8WIKB",
        "colab": {
          "base_uri": "https://localhost:8080/",
          "height": 394
        },
        "outputId": "1bf75b0e-c360-4948-86c6-098f6776592e"
      },
      "outputs": [
        {
          "output_type": "execute_result",
          "data": {
            "text/plain": [
              "                      index  Missing Values  % of Total Values Data_type\n",
              "0                   User-ID               0                0.0     int64\n",
              "1                       Age               0                0.0   float64\n",
              "2                   Country               0                0.0    object\n",
              "3                      ISBN               0                0.0    object\n",
              "4               Book-Rating               0                0.0     int64\n",
              "5                Avg_Rating               0                0.0   float64\n",
              "6   Total_No_Of_Users_Rated               0                0.0     int64\n",
              "7                Book-Title               0                0.0    object\n",
              "8               Book-Author               0                0.0    object\n",
              "9       Year-Of-Publication               0                0.0   float64\n",
              "10                Publisher               0                0.0    object"
            ],
            "text/html": [
              "\n",
              "  <div id=\"df-cec11eee-a065-450c-8e32-41bccbb4b486\">\n",
              "    <div class=\"colab-df-container\">\n",
              "      <div>\n",
              "<style scoped>\n",
              "    .dataframe tbody tr th:only-of-type {\n",
              "        vertical-align: middle;\n",
              "    }\n",
              "\n",
              "    .dataframe tbody tr th {\n",
              "        vertical-align: top;\n",
              "    }\n",
              "\n",
              "    .dataframe thead th {\n",
              "        text-align: right;\n",
              "    }\n",
              "</style>\n",
              "<table border=\"1\" class=\"dataframe\">\n",
              "  <thead>\n",
              "    <tr style=\"text-align: right;\">\n",
              "      <th></th>\n",
              "      <th>index</th>\n",
              "      <th>Missing Values</th>\n",
              "      <th>% of Total Values</th>\n",
              "      <th>Data_type</th>\n",
              "    </tr>\n",
              "  </thead>\n",
              "  <tbody>\n",
              "    <tr>\n",
              "      <th>0</th>\n",
              "      <td>User-ID</td>\n",
              "      <td>0</td>\n",
              "      <td>0.0</td>\n",
              "      <td>int64</td>\n",
              "    </tr>\n",
              "    <tr>\n",
              "      <th>1</th>\n",
              "      <td>Age</td>\n",
              "      <td>0</td>\n",
              "      <td>0.0</td>\n",
              "      <td>float64</td>\n",
              "    </tr>\n",
              "    <tr>\n",
              "      <th>2</th>\n",
              "      <td>Country</td>\n",
              "      <td>0</td>\n",
              "      <td>0.0</td>\n",
              "      <td>object</td>\n",
              "    </tr>\n",
              "    <tr>\n",
              "      <th>3</th>\n",
              "      <td>ISBN</td>\n",
              "      <td>0</td>\n",
              "      <td>0.0</td>\n",
              "      <td>object</td>\n",
              "    </tr>\n",
              "    <tr>\n",
              "      <th>4</th>\n",
              "      <td>Book-Rating</td>\n",
              "      <td>0</td>\n",
              "      <td>0.0</td>\n",
              "      <td>int64</td>\n",
              "    </tr>\n",
              "    <tr>\n",
              "      <th>5</th>\n",
              "      <td>Avg_Rating</td>\n",
              "      <td>0</td>\n",
              "      <td>0.0</td>\n",
              "      <td>float64</td>\n",
              "    </tr>\n",
              "    <tr>\n",
              "      <th>6</th>\n",
              "      <td>Total_No_Of_Users_Rated</td>\n",
              "      <td>0</td>\n",
              "      <td>0.0</td>\n",
              "      <td>int64</td>\n",
              "    </tr>\n",
              "    <tr>\n",
              "      <th>7</th>\n",
              "      <td>Book-Title</td>\n",
              "      <td>0</td>\n",
              "      <td>0.0</td>\n",
              "      <td>object</td>\n",
              "    </tr>\n",
              "    <tr>\n",
              "      <th>8</th>\n",
              "      <td>Book-Author</td>\n",
              "      <td>0</td>\n",
              "      <td>0.0</td>\n",
              "      <td>object</td>\n",
              "    </tr>\n",
              "    <tr>\n",
              "      <th>9</th>\n",
              "      <td>Year-Of-Publication</td>\n",
              "      <td>0</td>\n",
              "      <td>0.0</td>\n",
              "      <td>float64</td>\n",
              "    </tr>\n",
              "    <tr>\n",
              "      <th>10</th>\n",
              "      <td>Publisher</td>\n",
              "      <td>0</td>\n",
              "      <td>0.0</td>\n",
              "      <td>object</td>\n",
              "    </tr>\n",
              "  </tbody>\n",
              "</table>\n",
              "</div>\n",
              "      <button class=\"colab-df-convert\" onclick=\"convertToInteractive('df-cec11eee-a065-450c-8e32-41bccbb4b486')\"\n",
              "              title=\"Convert this dataframe to an interactive table.\"\n",
              "              style=\"display:none;\">\n",
              "        \n",
              "  <svg xmlns=\"http://www.w3.org/2000/svg\" height=\"24px\"viewBox=\"0 0 24 24\"\n",
              "       width=\"24px\">\n",
              "    <path d=\"M0 0h24v24H0V0z\" fill=\"none\"/>\n",
              "    <path d=\"M18.56 5.44l.94 2.06.94-2.06 2.06-.94-2.06-.94-.94-2.06-.94 2.06-2.06.94zm-11 1L8.5 8.5l.94-2.06 2.06-.94-2.06-.94L8.5 2.5l-.94 2.06-2.06.94zm10 10l.94 2.06.94-2.06 2.06-.94-2.06-.94-.94-2.06-.94 2.06-2.06.94z\"/><path d=\"M17.41 7.96l-1.37-1.37c-.4-.4-.92-.59-1.43-.59-.52 0-1.04.2-1.43.59L10.3 9.45l-7.72 7.72c-.78.78-.78 2.05 0 2.83L4 21.41c.39.39.9.59 1.41.59.51 0 1.02-.2 1.41-.59l7.78-7.78 2.81-2.81c.8-.78.8-2.07 0-2.86zM5.41 20L4 18.59l7.72-7.72 1.47 1.35L5.41 20z\"/>\n",
              "  </svg>\n",
              "      </button>\n",
              "      \n",
              "  <style>\n",
              "    .colab-df-container {\n",
              "      display:flex;\n",
              "      flex-wrap:wrap;\n",
              "      gap: 12px;\n",
              "    }\n",
              "\n",
              "    .colab-df-convert {\n",
              "      background-color: #E8F0FE;\n",
              "      border: none;\n",
              "      border-radius: 50%;\n",
              "      cursor: pointer;\n",
              "      display: none;\n",
              "      fill: #1967D2;\n",
              "      height: 32px;\n",
              "      padding: 0 0 0 0;\n",
              "      width: 32px;\n",
              "    }\n",
              "\n",
              "    .colab-df-convert:hover {\n",
              "      background-color: #E2EBFA;\n",
              "      box-shadow: 0px 1px 2px rgba(60, 64, 67, 0.3), 0px 1px 3px 1px rgba(60, 64, 67, 0.15);\n",
              "      fill: #174EA6;\n",
              "    }\n",
              "\n",
              "    [theme=dark] .colab-df-convert {\n",
              "      background-color: #3B4455;\n",
              "      fill: #D2E3FC;\n",
              "    }\n",
              "\n",
              "    [theme=dark] .colab-df-convert:hover {\n",
              "      background-color: #434B5C;\n",
              "      box-shadow: 0px 1px 3px 1px rgba(0, 0, 0, 0.15);\n",
              "      filter: drop-shadow(0px 1px 2px rgba(0, 0, 0, 0.3));\n",
              "      fill: #FFFFFF;\n",
              "    }\n",
              "  </style>\n",
              "\n",
              "      <script>\n",
              "        const buttonEl =\n",
              "          document.querySelector('#df-cec11eee-a065-450c-8e32-41bccbb4b486 button.colab-df-convert');\n",
              "        buttonEl.style.display =\n",
              "          google.colab.kernel.accessAllowed ? 'block' : 'none';\n",
              "\n",
              "        async function convertToInteractive(key) {\n",
              "          const element = document.querySelector('#df-cec11eee-a065-450c-8e32-41bccbb4b486');\n",
              "          const dataTable =\n",
              "            await google.colab.kernel.invokeFunction('convertToInteractive',\n",
              "                                                     [key], {});\n",
              "          if (!dataTable) return;\n",
              "\n",
              "          const docLinkHtml = 'Like what you see? Visit the ' +\n",
              "            '<a target=\"_blank\" href=https://colab.research.google.com/notebooks/data_table.ipynb>data table notebook</a>'\n",
              "            + ' to learn more about interactive tables.';\n",
              "          element.innerHTML = '';\n",
              "          dataTable['output_type'] = 'display_data';\n",
              "          await google.colab.output.renderOutput(dataTable, element);\n",
              "          const docLink = document.createElement('div');\n",
              "          docLink.innerHTML = docLinkHtml;\n",
              "          element.appendChild(docLink);\n",
              "        }\n",
              "      </script>\n",
              "    </div>\n",
              "  </div>\n",
              "  "
            ]
          },
          "metadata": {},
          "execution_count": 64
        }
      ],
      "source": [
        "#recheck missing values\n",
        "missing_values(Final_Dataset)"
      ]
    },
    {
      "cell_type": "code",
      "execution_count": 65,
      "metadata": {
        "id": "d6ZbASwIPnt8",
        "colab": {
          "base_uri": "https://localhost:8080/"
        },
        "outputId": "8b9f8f83-3eaa-4ae3-ec0e-b93cf5bdf286"
      },
      "outputs": [
        {
          "output_type": "execute_result",
          "data": {
            "text/plain": [
              "(383842, 11)"
            ]
          },
          "metadata": {},
          "execution_count": 65
        }
      ],
      "source": [
        "#checking the shape\n",
        "Final_Dataset.shape"
      ]
    },
    {
      "cell_type": "markdown",
      "metadata": {
        "id": "r9C6zEO6aluu"
      },
      "source": [
        "#**Recommendation for New Users(Cold Start)**\n",
        "As we all know that collaborative filtering have cold start problem so it can't recommend books for fresh new user. So we can recommend them our top read/rated books as a new user.\n",
        "\n",
        "\n",
        "\n",
        "\n",
        "\n",
        "**Popularity Based Recommendation for new users :**\n",
        "\n",
        "***Cons**- The Popularity based recommender provide a general chart of recommended books to all the users. They are not sensitive to the interests and tastes of a particular user."
      ]
    },
    {
      "cell_type": "markdown",
      "metadata": {
        "id": "dUmpKG1Y1_89"
      },
      "source": [
        "##Top Selling Books-"
      ]
    },
    {
      "cell_type": "code",
      "execution_count": 66,
      "metadata": {
        "id": "whCBXxz7KEAB",
        "colab": {
          "base_uri": "https://localhost:8080/",
          "height": 206
        },
        "outputId": "cbdd5fe7-84f5-43ce-afa8-bec06ad25df6"
      },
      "outputs": [
        {
          "output_type": "execute_result",
          "data": {
            "text/plain": [
              "         ISBN  Book-Rating                                       Book-Title  \\\n",
              "0  0316666343          707                        The Lovely Bones: A Novel   \n",
              "1  0971880107          581                                      Wild Animus   \n",
              "2  0385504209          487                                The Da Vinci Code   \n",
              "3  0312195516          383              The Red Tent (Bestselling Backlist)   \n",
              "4  0060928336          320  Divine Secrets of the Ya-Ya Sisterhood: A Novel   \n",
              "\n",
              "     Book-Author  Year-Of-Publication      Publisher  Times_Book_Bought  \n",
              "0   Alice Sebold               2002.0  Little, Brown                707  \n",
              "1   Rich Shapero               2004.0        Too Far                581  \n",
              "2      Dan Brown               2003.0      Doubleday                487  \n",
              "3  Anita Diamant               1998.0    Picador USA                383  \n",
              "4  Rebecca Wells               1997.0      Perennial                320  "
            ],
            "text/html": [
              "\n",
              "  <div id=\"df-47267ff8-bae0-4791-afc7-3bea0c014ffc\">\n",
              "    <div class=\"colab-df-container\">\n",
              "      <div>\n",
              "<style scoped>\n",
              "    .dataframe tbody tr th:only-of-type {\n",
              "        vertical-align: middle;\n",
              "    }\n",
              "\n",
              "    .dataframe tbody tr th {\n",
              "        vertical-align: top;\n",
              "    }\n",
              "\n",
              "    .dataframe thead th {\n",
              "        text-align: right;\n",
              "    }\n",
              "</style>\n",
              "<table border=\"1\" class=\"dataframe\">\n",
              "  <thead>\n",
              "    <tr style=\"text-align: right;\">\n",
              "      <th></th>\n",
              "      <th>ISBN</th>\n",
              "      <th>Book-Rating</th>\n",
              "      <th>Book-Title</th>\n",
              "      <th>Book-Author</th>\n",
              "      <th>Year-Of-Publication</th>\n",
              "      <th>Publisher</th>\n",
              "      <th>Times_Book_Bought</th>\n",
              "    </tr>\n",
              "  </thead>\n",
              "  <tbody>\n",
              "    <tr>\n",
              "      <th>0</th>\n",
              "      <td>0316666343</td>\n",
              "      <td>707</td>\n",
              "      <td>The Lovely Bones: A Novel</td>\n",
              "      <td>Alice Sebold</td>\n",
              "      <td>2002.0</td>\n",
              "      <td>Little, Brown</td>\n",
              "      <td>707</td>\n",
              "    </tr>\n",
              "    <tr>\n",
              "      <th>1</th>\n",
              "      <td>0971880107</td>\n",
              "      <td>581</td>\n",
              "      <td>Wild Animus</td>\n",
              "      <td>Rich Shapero</td>\n",
              "      <td>2004.0</td>\n",
              "      <td>Too Far</td>\n",
              "      <td>581</td>\n",
              "    </tr>\n",
              "    <tr>\n",
              "      <th>2</th>\n",
              "      <td>0385504209</td>\n",
              "      <td>487</td>\n",
              "      <td>The Da Vinci Code</td>\n",
              "      <td>Dan Brown</td>\n",
              "      <td>2003.0</td>\n",
              "      <td>Doubleday</td>\n",
              "      <td>487</td>\n",
              "    </tr>\n",
              "    <tr>\n",
              "      <th>3</th>\n",
              "      <td>0312195516</td>\n",
              "      <td>383</td>\n",
              "      <td>The Red Tent (Bestselling Backlist)</td>\n",
              "      <td>Anita Diamant</td>\n",
              "      <td>1998.0</td>\n",
              "      <td>Picador USA</td>\n",
              "      <td>383</td>\n",
              "    </tr>\n",
              "    <tr>\n",
              "      <th>4</th>\n",
              "      <td>0060928336</td>\n",
              "      <td>320</td>\n",
              "      <td>Divine Secrets of the Ya-Ya Sisterhood: A Novel</td>\n",
              "      <td>Rebecca Wells</td>\n",
              "      <td>1997.0</td>\n",
              "      <td>Perennial</td>\n",
              "      <td>320</td>\n",
              "    </tr>\n",
              "  </tbody>\n",
              "</table>\n",
              "</div>\n",
              "      <button class=\"colab-df-convert\" onclick=\"convertToInteractive('df-47267ff8-bae0-4791-afc7-3bea0c014ffc')\"\n",
              "              title=\"Convert this dataframe to an interactive table.\"\n",
              "              style=\"display:none;\">\n",
              "        \n",
              "  <svg xmlns=\"http://www.w3.org/2000/svg\" height=\"24px\"viewBox=\"0 0 24 24\"\n",
              "       width=\"24px\">\n",
              "    <path d=\"M0 0h24v24H0V0z\" fill=\"none\"/>\n",
              "    <path d=\"M18.56 5.44l.94 2.06.94-2.06 2.06-.94-2.06-.94-.94-2.06-.94 2.06-2.06.94zm-11 1L8.5 8.5l.94-2.06 2.06-.94-2.06-.94L8.5 2.5l-.94 2.06-2.06.94zm10 10l.94 2.06.94-2.06 2.06-.94-2.06-.94-.94-2.06-.94 2.06-2.06.94z\"/><path d=\"M17.41 7.96l-1.37-1.37c-.4-.4-.92-.59-1.43-.59-.52 0-1.04.2-1.43.59L10.3 9.45l-7.72 7.72c-.78.78-.78 2.05 0 2.83L4 21.41c.39.39.9.59 1.41.59.51 0 1.02-.2 1.41-.59l7.78-7.78 2.81-2.81c.8-.78.8-2.07 0-2.86zM5.41 20L4 18.59l7.72-7.72 1.47 1.35L5.41 20z\"/>\n",
              "  </svg>\n",
              "      </button>\n",
              "      \n",
              "  <style>\n",
              "    .colab-df-container {\n",
              "      display:flex;\n",
              "      flex-wrap:wrap;\n",
              "      gap: 12px;\n",
              "    }\n",
              "\n",
              "    .colab-df-convert {\n",
              "      background-color: #E8F0FE;\n",
              "      border: none;\n",
              "      border-radius: 50%;\n",
              "      cursor: pointer;\n",
              "      display: none;\n",
              "      fill: #1967D2;\n",
              "      height: 32px;\n",
              "      padding: 0 0 0 0;\n",
              "      width: 32px;\n",
              "    }\n",
              "\n",
              "    .colab-df-convert:hover {\n",
              "      background-color: #E2EBFA;\n",
              "      box-shadow: 0px 1px 2px rgba(60, 64, 67, 0.3), 0px 1px 3px 1px rgba(60, 64, 67, 0.15);\n",
              "      fill: #174EA6;\n",
              "    }\n",
              "\n",
              "    [theme=dark] .colab-df-convert {\n",
              "      background-color: #3B4455;\n",
              "      fill: #D2E3FC;\n",
              "    }\n",
              "\n",
              "    [theme=dark] .colab-df-convert:hover {\n",
              "      background-color: #434B5C;\n",
              "      box-shadow: 0px 1px 3px 1px rgba(0, 0, 0, 0.15);\n",
              "      filter: drop-shadow(0px 1px 2px rgba(0, 0, 0, 0.3));\n",
              "      fill: #FFFFFF;\n",
              "    }\n",
              "  </style>\n",
              "\n",
              "      <script>\n",
              "        const buttonEl =\n",
              "          document.querySelector('#df-47267ff8-bae0-4791-afc7-3bea0c014ffc button.colab-df-convert');\n",
              "        buttonEl.style.display =\n",
              "          google.colab.kernel.accessAllowed ? 'block' : 'none';\n",
              "\n",
              "        async function convertToInteractive(key) {\n",
              "          const element = document.querySelector('#df-47267ff8-bae0-4791-afc7-3bea0c014ffc');\n",
              "          const dataTable =\n",
              "            await google.colab.kernel.invokeFunction('convertToInteractive',\n",
              "                                                     [key], {});\n",
              "          if (!dataTable) return;\n",
              "\n",
              "          const docLinkHtml = 'Like what you see? Visit the ' +\n",
              "            '<a target=\"_blank\" href=https://colab.research.google.com/notebooks/data_table.ipynb>data table notebook</a>'\n",
              "            + ' to learn more about interactive tables.';\n",
              "          element.innerHTML = '';\n",
              "          dataTable['output_type'] = 'display_data';\n",
              "          await google.colab.output.renderOutput(dataTable, element);\n",
              "          const docLink = document.createElement('div');\n",
              "          docLink.innerHTML = docLinkHtml;\n",
              "          element.appendChild(docLink);\n",
              "        }\n",
              "      </script>\n",
              "    </div>\n",
              "  </div>\n",
              "  "
            ]
          },
          "metadata": {},
          "execution_count": 66
        }
      ],
      "source": [
        "#Top Selling books\n",
        "most_selling_isbn=ratings_explicit.groupby('ISBN')['Book-Rating'].count().reset_index()\n",
        "most_selling_isbn=most_selling_isbn.sort_values(by=['Book-Rating'], ascending=False)\n",
        "top_selling_books_summary = pd.merge(most_selling_isbn,books, on='ISBN')\n",
        "top_selling_books_summary['Times_Book_Bought']=top_selling_books_summary['Book-Rating']  #Making a column for better showing in graph\n",
        "top_selling_books_summary.head(5)"
      ]
    },
    {
      "cell_type": "code",
      "execution_count": 67,
      "metadata": {
        "id": "nQKUvF4KkPTl",
        "colab": {
          "base_uri": "https://localhost:8080/",
          "height": 400
        },
        "outputId": "6add1430-e79c-4d23-caab-bd767811d1af"
      },
      "outputs": [
        {
          "output_type": "execute_result",
          "data": {
            "text/plain": [
              "Text(0.5, 1.0, 'Top 10 Top-Selling Books')"
            ]
          },
          "metadata": {},
          "execution_count": 67
        },
        {
          "output_type": "display_data",
          "data": {
            "text/plain": [
              "<Figure size 576x360 with 1 Axes>"
            ],
            "image/png": "[encoded data removed]"
          },
          "metadata": {}
        }
      ],
      "source": [
        "#countplot for Most read books\n",
        "plt.style.use('fivethirtyeight')\n",
        "plt.figure(figsize=(8,5))\n",
        "sns.barplot(y='Book-Title',x='Times_Book_Bought',data=top_selling_books_summary.head(10), palette='rocket_r')\n",
        "plt.title('Top 10 Top-Selling Books')"
      ]
    },
    {
      "cell_type": "markdown",
      "metadata": {
        "id": "H1RYa7O8JWc_"
      },
      "source": [
        "These are our top selling books on the basis of how much time it readed by customers."
      ]
    },
    {
      "cell_type": "markdown",
      "metadata": {
        "id": "fZiiQUMD1u0H"
      },
      "source": [
        "##Now Let's go for Top Rated Books-"
      ]
    },
    {
      "cell_type": "code",
      "execution_count": 68,
      "metadata": {
        "id": "PRb_-0GfIq_c",
        "colab": {
          "base_uri": "https://localhost:8080/",
          "height": 206
        },
        "outputId": "d53d3b90-fa22-4afe-e329-91bf1dc2623f"
      },
      "outputs": [
        {
          "output_type": "execute_result",
          "data": {
            "text/plain": [
              "         ISBN  Book-Rating                                         Book-Title  \\\n",
              "0  0316666343         5787                          The Lovely Bones: A Novel   \n",
              "1  0385504209         4108                                  The Da Vinci Code   \n",
              "2  0312195516         3134                The Red Tent (Bestselling Backlist)   \n",
              "3  059035342X         2798  Harry Potter and the Sorcerer's Stone (Harry P...   \n",
              "4  0142001740         2595                            The Secret Life of Bees   \n",
              "\n",
              "     Book-Author  Year-Of-Publication               Publisher  \\\n",
              "0   Alice Sebold               2002.0           Little, Brown   \n",
              "1      Dan Brown               2003.0               Doubleday   \n",
              "2  Anita Diamant               1998.0             Picador USA   \n",
              "3  J. K. Rowling               1999.0  Arthur A. Levine Books   \n",
              "4  Sue Monk Kidd               2003.0           Penguin Books   \n",
              "\n",
              "   Overall_Book_Rating  \n",
              "0                 5787  \n",
              "1                 4108  \n",
              "2                 3134  \n",
              "3                 2798  \n",
              "4                 2595  "
            ],
            "text/html": [
              "\n",
              "  <div id=\"df-43385f85-1096-4da3-a1bf-598f872f67f3\">\n",
              "    <div class=\"colab-df-container\">\n",
              "      <div>\n",
              "<style scoped>\n",
              "    .dataframe tbody tr th:only-of-type {\n",
              "        vertical-align: middle;\n",
              "    }\n",
              "\n",
              "    .dataframe tbody tr th {\n",
              "        vertical-align: top;\n",
              "    }\n",
              "\n",
              "    .dataframe thead th {\n",
              "        text-align: right;\n",
              "    }\n",
              "</style>\n",
              "<table border=\"1\" class=\"dataframe\">\n",
              "  <thead>\n",
              "    <tr style=\"text-align: right;\">\n",
              "      <th></th>\n",
              "      <th>ISBN</th>\n",
              "      <th>Book-Rating</th>\n",
              "      <th>Book-Title</th>\n",
              "      <th>Book-Author</th>\n",
              "      <th>Year-Of-Publication</th>\n",
              "      <th>Publisher</th>\n",
              "      <th>Overall_Book_Rating</th>\n",
              "    </tr>\n",
              "  </thead>\n",
              "  <tbody>\n",
              "    <tr>\n",
              "      <th>0</th>\n",
              "      <td>0316666343</td>\n",
              "      <td>5787</td>\n",
              "      <td>The Lovely Bones: A Novel</td>\n",
              "      <td>Alice Sebold</td>\n",
              "      <td>2002.0</td>\n",
              "      <td>Little, Brown</td>\n",
              "      <td>5787</td>\n",
              "    </tr>\n",
              "    <tr>\n",
              "      <th>1</th>\n",
              "      <td>0385504209</td>\n",
              "      <td>4108</td>\n",
              "      <td>The Da Vinci Code</td>\n",
              "      <td>Dan Brown</td>\n",
              "      <td>2003.0</td>\n",
              "      <td>Doubleday</td>\n",
              "      <td>4108</td>\n",
              "    </tr>\n",
              "    <tr>\n",
              "      <th>2</th>\n",
              "      <td>0312195516</td>\n",
              "      <td>3134</td>\n",
              "      <td>The Red Tent (Bestselling Backlist)</td>\n",
              "      <td>Anita Diamant</td>\n",
              "      <td>1998.0</td>\n",
              "      <td>Picador USA</td>\n",
              "      <td>3134</td>\n",
              "    </tr>\n",
              "    <tr>\n",
              "      <th>3</th>\n",
              "      <td>059035342X</td>\n",
              "      <td>2798</td>\n",
              "      <td>Harry Potter and the Sorcerer's Stone (Harry P...</td>\n",
              "      <td>J. K. Rowling</td>\n",
              "      <td>1999.0</td>\n",
              "      <td>Arthur A. Levine Books</td>\n",
              "      <td>2798</td>\n",
              "    </tr>\n",
              "    <tr>\n",
              "      <th>4</th>\n",
              "      <td>0142001740</td>\n",
              "      <td>2595</td>\n",
              "      <td>The Secret Life of Bees</td>\n",
              "      <td>Sue Monk Kidd</td>\n",
              "      <td>2003.0</td>\n",
              "      <td>Penguin Books</td>\n",
              "      <td>2595</td>\n",
              "    </tr>\n",
              "  </tbody>\n",
              "</table>\n",
              "</div>\n",
              "      <button class=\"colab-df-convert\" onclick=\"convertToInteractive('df-43385f85-1096-4da3-a1bf-598f872f67f3')\"\n",
              "              title=\"Convert this dataframe to an interactive table.\"\n",
              "              style=\"display:none;\">\n",
              "        \n",
              "  <svg xmlns=\"http://www.w3.org/2000/svg\" height=\"24px\"viewBox=\"0 0 24 24\"\n",
              "       width=\"24px\">\n",
              "    <path d=\"M0 0h24v24H0V0z\" fill=\"none\"/>\n",
              "    <path d=\"M18.56 5.44l.94 2.06.94-2.06 2.06-.94-2.06-.94-.94-2.06-.94 2.06-2.06.94zm-11 1L8.5 8.5l.94-2.06 2.06-.94-2.06-.94L8.5 2.5l-.94 2.06-2.06.94zm10 10l.94 2.06.94-2.06 2.06-.94-2.06-.94-.94-2.06-.94 2.06-2.06.94z\"/><path d=\"M17.41 7.96l-1.37-1.37c-.4-.4-.92-.59-1.43-.59-.52 0-1.04.2-1.43.59L10.3 9.45l-7.72 7.72c-.78.78-.78 2.05 0 2.83L4 21.41c.39.39.9.59 1.41.59.51 0 1.02-.2 1.41-.59l7.78-7.78 2.81-2.81c.8-.78.8-2.07 0-2.86zM5.41 20L4 18.59l7.72-7.72 1.47 1.35L5.41 20z\"/>\n",
              "  </svg>\n",
              "      </button>\n",
              "      \n",
              "  <style>\n",
              "    .colab-df-container {\n",
              "      display:flex;\n",
              "      flex-wrap:wrap;\n",
              "      gap: 12px;\n",
              "    }\n",
              "\n",
              "    .colab-df-convert {\n",
              "      background-color: #E8F0FE;\n",
              "      border: none;\n",
              "      border-radius: 50%;\n",
              "      cursor: pointer;\n",
              "      display: none;\n",
              "      fill: #1967D2;\n",
              "      height: 32px;\n",
              "      padding: 0 0 0 0;\n",
              "      width: 32px;\n",
              "    }\n",
              "\n",
              "    .colab-df-convert:hover {\n",
              "      background-color: #E2EBFA;\n",
              "      box-shadow: 0px 1px 2px rgba(60, 64, 67, 0.3), 0px 1px 3px 1px rgba(60, 64, 67, 0.15);\n",
              "      fill: #174EA6;\n",
              "    }\n",
              "\n",
              "    [theme=dark] .colab-df-convert {\n",
              "      background-color: #3B4455;\n",
              "      fill: #D2E3FC;\n",
              "    }\n",
              "\n",
              "    [theme=dark] .colab-df-convert:hover {\n",
              "      background-color: #434B5C;\n",
              "      box-shadow: 0px 1px 3px 1px rgba(0, 0, 0, 0.15);\n",
              "      filter: drop-shadow(0px 1px 2px rgba(0, 0, 0, 0.3));\n",
              "      fill: #FFFFFF;\n",
              "    }\n",
              "  </style>\n",
              "\n",
              "      <script>\n",
              "        const buttonEl =\n",
              "          document.querySelector('#df-43385f85-1096-4da3-a1bf-598f872f67f3 button.colab-df-convert');\n",
              "        buttonEl.style.display =\n",
              "          google.colab.kernel.accessAllowed ? 'block' : 'none';\n",
              "\n",
              "        async function convertToInteractive(key) {\n",
              "          const element = document.querySelector('#df-43385f85-1096-4da3-a1bf-598f872f67f3');\n",
              "          const dataTable =\n",
              "            await google.colab.kernel.invokeFunction('convertToInteractive',\n",
              "                                                     [key], {});\n",
              "          if (!dataTable) return;\n",
              "\n",
              "          const docLinkHtml = 'Like what you see? Visit the ' +\n",
              "            '<a target=\"_blank\" href=https://colab.research.google.com/notebooks/data_table.ipynb>data table notebook</a>'\n",
              "            + ' to learn more about interactive tables.';\n",
              "          element.innerHTML = '';\n",
              "          dataTable['output_type'] = 'display_data';\n",
              "          await google.colab.output.renderOutput(dataTable, element);\n",
              "          const docLink = document.createElement('div');\n",
              "          docLink.innerHTML = docLinkHtml;\n",
              "          element.appendChild(docLink);\n",
              "        }\n",
              "      </script>\n",
              "    </div>\n",
              "  </div>\n",
              "  "
            ]
          },
          "metadata": {},
          "execution_count": 68
        }
      ],
      "source": [
        "top_rated_isbn=Final_Dataset.groupby('ISBN')['Book-Rating'].sum().reset_index()\n",
        "top_rated_isbn=top_rated_isbn.sort_values(by=['Book-Rating'], ascending=False)\n",
        "most_rated_books_summary = pd.merge(top_rated_isbn,books, on='ISBN')\n",
        "most_rated_books_summary['Overall_Book_Rating']=most_rated_books_summary['Book-Rating']  #Making a column for better showing in graph\n",
        "most_rated_books_summary.head(5)"
      ]
    },
    {
      "cell_type": "code",
      "execution_count": 69,
      "metadata": {
        "id": "tAnEhiQBuXx5",
        "colab": {
          "base_uri": "https://localhost:8080/",
          "height": 400
        },
        "outputId": "2f5e780c-a9e9-46ff-c588-ade6b2931d73"
      },
      "outputs": [
        {
          "output_type": "execute_result",
          "data": {
            "text/plain": [
              "Text(0.5, 1.0, 'Top Rated Books')"
            ]
          },
          "metadata": {},
          "execution_count": 69
        },
        {
          "output_type": "display_data",
          "data": {
            "text/plain": [
              "<Figure size 576x360 with 1 Axes>"
            ],
            "image/png": "[encoded data removed]"
          },
          "metadata": {}
        }
      ],
      "source": [
        "#countplot for Top Rated\n",
        "plt.style.use('fivethirtyeight')\n",
        "plt.figure(figsize=(8,5))\n",
        "sns.barplot(y='Book-Title',x='Overall_Book_Rating',data=most_rated_books_summary.head(10), palette='rocket_r')\n",
        "plt.title('Top Rated Books')"
      ]
    },
    {
      "cell_type": "markdown",
      "metadata": {
        "id": "ZZ6fLHMQKNu-"
      },
      "source": [
        "These are the top books which have highest overall rating."
      ]
    },
    {
      "cell_type": "markdown",
      "metadata": {
        "id": "tJDDkuxJ2ajh"
      },
      "source": [
        "##Now let's go for Top Rated and Top Selling Books at the same time-"
      ]
    },
    {
      "cell_type": "code",
      "execution_count": 70,
      "metadata": {
        "id": "BErqFOs9KOcT",
        "colab": {
          "base_uri": "https://localhost:8080/",
          "height": 206
        },
        "outputId": "0eb44d46-eeaa-4cca-cab3-f80230d294ed"
      },
      "outputs": [
        {
          "output_type": "execute_result",
          "data": {
            "text/plain": [
              "         ISBN  Avg_Rating  Total_No_Of_Users_Rated  \\\n",
              "0  059035342X    8.939297                      313   \n",
              "1  0142001740    8.452769                      307   \n",
              "2  0385504209    8.435318                      487   \n",
              "3  0316666343    8.185290                      707   \n",
              "4  0312195516    8.182768                      383   \n",
              "\n",
              "                                          Book-Title    Book-Author  \\\n",
              "0  Harry Potter and the Sorcerer's Stone (Harry P...  J. K. Rowling   \n",
              "1                            The Secret Life of Bees  Sue Monk Kidd   \n",
              "2                                  The Da Vinci Code      Dan Brown   \n",
              "3                          The Lovely Bones: A Novel   Alice Sebold   \n",
              "4                The Red Tent (Bestselling Backlist)  Anita Diamant   \n",
              "\n",
              "   Year-Of-Publication               Publisher  \n",
              "0               1999.0  Arthur A. Levine Books  \n",
              "1               2003.0           Penguin Books  \n",
              "2               2003.0               Doubleday  \n",
              "3               2002.0           Little, Brown  \n",
              "4               1998.0             Picador USA  "
            ],
            "text/html": [
              "\n",
              "  <div id=\"df-d1dc764a-b34d-40ca-a152-af81fbc16a40\">\n",
              "    <div class=\"colab-df-container\">\n",
              "      <div>\n",
              "<style scoped>\n",
              "    .dataframe tbody tr th:only-of-type {\n",
              "        vertical-align: middle;\n",
              "    }\n",
              "\n",
              "    .dataframe tbody tr th {\n",
              "        vertical-align: top;\n",
              "    }\n",
              "\n",
              "    .dataframe thead th {\n",
              "        text-align: right;\n",
              "    }\n",
              "</style>\n",
              "<table border=\"1\" class=\"dataframe\">\n",
              "  <thead>\n",
              "    <tr style=\"text-align: right;\">\n",
              "      <th></th>\n",
              "      <th>ISBN</th>\n",
              "      <th>Avg_Rating</th>\n",
              "      <th>Total_No_Of_Users_Rated</th>\n",
              "      <th>Book-Title</th>\n",
              "      <th>Book-Author</th>\n",
              "      <th>Year-Of-Publication</th>\n",
              "      <th>Publisher</th>\n",
              "    </tr>\n",
              "  </thead>\n",
              "  <tbody>\n",
              "    <tr>\n",
              "      <th>0</th>\n",
              "      <td>059035342X</td>\n",
              "      <td>8.939297</td>\n",
              "      <td>313</td>\n",
              "      <td>Harry Potter and the Sorcerer's Stone (Harry P...</td>\n",
              "      <td>J. K. Rowling</td>\n",
              "      <td>1999.0</td>\n",
              "      <td>Arthur A. Levine Books</td>\n",
              "    </tr>\n",
              "    <tr>\n",
              "      <th>1</th>\n",
              "      <td>0142001740</td>\n",
              "      <td>8.452769</td>\n",
              "      <td>307</td>\n",
              "      <td>The Secret Life of Bees</td>\n",
              "      <td>Sue Monk Kidd</td>\n",
              "      <td>2003.0</td>\n",
              "      <td>Penguin Books</td>\n",
              "    </tr>\n",
              "    <tr>\n",
              "      <th>2</th>\n",
              "      <td>0385504209</td>\n",
              "      <td>8.435318</td>\n",
              "      <td>487</td>\n",
              "      <td>The Da Vinci Code</td>\n",
              "      <td>Dan Brown</td>\n",
              "      <td>2003.0</td>\n",
              "      <td>Doubleday</td>\n",
              "    </tr>\n",
              "    <tr>\n",
              "      <th>3</th>\n",
              "      <td>0316666343</td>\n",
              "      <td>8.185290</td>\n",
              "      <td>707</td>\n",
              "      <td>The Lovely Bones: A Novel</td>\n",
              "      <td>Alice Sebold</td>\n",
              "      <td>2002.0</td>\n",
              "      <td>Little, Brown</td>\n",
              "    </tr>\n",
              "    <tr>\n",
              "      <th>4</th>\n",
              "      <td>0312195516</td>\n",
              "      <td>8.182768</td>\n",
              "      <td>383</td>\n",
              "      <td>The Red Tent (Bestselling Backlist)</td>\n",
              "      <td>Anita Diamant</td>\n",
              "      <td>1998.0</td>\n",
              "      <td>Picador USA</td>\n",
              "    </tr>\n",
              "  </tbody>\n",
              "</table>\n",
              "</div>\n",
              "      <button class=\"colab-df-convert\" onclick=\"convertToInteractive('df-d1dc764a-b34d-40ca-a152-af81fbc16a40')\"\n",
              "              title=\"Convert this dataframe to an interactive table.\"\n",
              "              style=\"display:none;\">\n",
              "        \n",
              "  <svg xmlns=\"http://www.w3.org/2000/svg\" height=\"24px\"viewBox=\"0 0 24 24\"\n",
              "       width=\"24px\">\n",
              "    <path d=\"M0 0h24v24H0V0z\" fill=\"none\"/>\n",
              "    <path d=\"M18.56 5.44l.94 2.06.94-2.06 2.06-.94-2.06-.94-.94-2.06-.94 2.06-2.06.94zm-11 1L8.5 8.5l.94-2.06 2.06-.94-2.06-.94L8.5 2.5l-.94 2.06-2.06.94zm10 10l.94 2.06.94-2.06 2.06-.94-2.06-.94-.94-2.06-.94 2.06-2.06.94z\"/><path d=\"M17.41 7.96l-1.37-1.37c-.4-.4-.92-.59-1.43-.59-.52 0-1.04.2-1.43.59L10.3 9.45l-7.72 7.72c-.78.78-.78 2.05 0 2.83L4 21.41c.39.39.9.59 1.41.59.51 0 1.02-.2 1.41-.59l7.78-7.78 2.81-2.81c.8-.78.8-2.07 0-2.86zM5.41 20L4 18.59l7.72-7.72 1.47 1.35L5.41 20z\"/>\n",
              "  </svg>\n",
              "      </button>\n",
              "      \n",
              "  <style>\n",
              "    .colab-df-container {\n",
              "      display:flex;\n",
              "      flex-wrap:wrap;\n",
              "      gap: 12px;\n",
              "    }\n",
              "\n",
              "    .colab-df-convert {\n",
              "      background-color: #E8F0FE;\n",
              "      border: none;\n",
              "      border-radius: 50%;\n",
              "      cursor: pointer;\n",
              "      display: none;\n",
              "      fill: #1967D2;\n",
              "      height: 32px;\n",
              "      padding: 0 0 0 0;\n",
              "      width: 32px;\n",
              "    }\n",
              "\n",
              "    .colab-df-convert:hover {\n",
              "      background-color: #E2EBFA;\n",
              "      box-shadow: 0px 1px 2px rgba(60, 64, 67, 0.3), 0px 1px 3px 1px rgba(60, 64, 67, 0.15);\n",
              "      fill: #174EA6;\n",
              "    }\n",
              "\n",
              "    [theme=dark] .colab-df-convert {\n",
              "      background-color: #3B4455;\n",
              "      fill: #D2E3FC;\n",
              "    }\n",
              "\n",
              "    [theme=dark] .colab-df-convert:hover {\n",
              "      background-color: #434B5C;\n",
              "      box-shadow: 0px 1px 3px 1px rgba(0, 0, 0, 0.15);\n",
              "      filter: drop-shadow(0px 1px 2px rgba(0, 0, 0, 0.3));\n",
              "      fill: #FFFFFF;\n",
              "    }\n",
              "  </style>\n",
              "\n",
              "      <script>\n",
              "        const buttonEl =\n",
              "          document.querySelector('#df-d1dc764a-b34d-40ca-a152-af81fbc16a40 button.colab-df-convert');\n",
              "        buttonEl.style.display =\n",
              "          google.colab.kernel.accessAllowed ? 'block' : 'none';\n",
              "\n",
              "        async function convertToInteractive(key) {\n",
              "          const element = document.querySelector('#df-d1dc764a-b34d-40ca-a152-af81fbc16a40');\n",
              "          const dataTable =\n",
              "            await google.colab.kernel.invokeFunction('convertToInteractive',\n",
              "                                                     [key], {});\n",
              "          if (!dataTable) return;\n",
              "\n",
              "          const docLinkHtml = 'Like what you see? Visit the ' +\n",
              "            '<a target=\"_blank\" href=https://colab.research.google.com/notebooks/data_table.ipynb>data table notebook</a>'\n",
              "            + ' to learn more about interactive tables.';\n",
              "          element.innerHTML = '';\n",
              "          dataTable['output_type'] = 'display_data';\n",
              "          await google.colab.output.renderOutput(dataTable, element);\n",
              "          const docLink = document.createElement('div');\n",
              "          docLink.innerHTML = docLinkHtml;\n",
              "          element.appendChild(docLink);\n",
              "        }\n",
              "      </script>\n",
              "    </div>\n",
              "  </div>\n",
              "  "
            ]
          },
          "metadata": {},
          "execution_count": 70
        }
      ],
      "source": [
        "top_df=ratings_explicit[['ISBN','Avg_Rating','Total_No_Of_Users_Rated']]\n",
        "top_selling_rated_books=top_df[top_df['Total_No_Of_Users_Rated']>250].sort_values(by=['Avg_Rating','Total_No_Of_Users_Rated'],ascending=False)\n",
        "top_selling_rated_books = top_selling_rated_books.drop_duplicates(subset=['ISBN', 'Avg_Rating','Total_No_Of_Users_Rated'])\n",
        "top_selling_rated_books_summary = pd.merge(top_selling_rated_books,books, on='ISBN')\n",
        "top_selling_rated_books_summary.head(5)"
      ]
    },
    {
      "cell_type": "code",
      "execution_count": 71,
      "metadata": {
        "id": "epRNudkiuwal",
        "colab": {
          "base_uri": "https://localhost:8080/",
          "height": 363
        },
        "outputId": "2a74296a-b895-46fc-8810-547bddeec5ba"
      },
      "outputs": [
        {
          "output_type": "execute_result",
          "data": {
            "text/plain": [
              "<pandas.io.formats.style.Styler at 0x7f33885fb510>"
            ],
            "text/html": [
              "<style type=\"text/css\">\n",
              "#T_74c7b_row0_col2 {\n",
              "  background-color: #cde5cd;\n",
              "  color: #000000;\n",
              "}\n",
              "#T_74c7b_row0_col3, #T_74c7b_row3_col2 {\n",
              "  background-color: #008000;\n",
              "  color: #f1f1f1;\n",
              "}\n",
              "#T_74c7b_row1_col2 {\n",
              "  background-color: #d1e6d1;\n",
              "  color: #000000;\n",
              "}\n",
              "#T_74c7b_row1_col3 {\n",
              "  background-color: #65b265;\n",
              "  color: #f1f1f1;\n",
              "}\n",
              "#T_74c7b_row2_col2 {\n",
              "  background-color: #72b872;\n",
              "  color: #f1f1f1;\n",
              "}\n",
              "#T_74c7b_row2_col3 {\n",
              "  background-color: #69b369;\n",
              "  color: #f1f1f1;\n",
              "}\n",
              "#T_74c7b_row3_col3 {\n",
              "  background-color: #9ccd9c;\n",
              "  color: #000000;\n",
              "}\n",
              "#T_74c7b_row4_col2 {\n",
              "  background-color: #a8d2a8;\n",
              "  color: #000000;\n",
              "}\n",
              "#T_74c7b_row4_col3 {\n",
              "  background-color: #9dcd9d;\n",
              "  color: #000000;\n",
              "}\n",
              "#T_74c7b_row5_col2 {\n",
              "  background-color: #d6e9d6;\n",
              "  color: #000000;\n",
              "}\n",
              "#T_74c7b_row5_col3 {\n",
              "  background-color: #a6d1a6;\n",
              "  color: #000000;\n",
              "}\n",
              "#T_74c7b_row6_col2 {\n",
              "  background-color: #e4f0e4;\n",
              "  color: #000000;\n",
              "}\n",
              "#T_74c7b_row6_col3 {\n",
              "  background-color: #aed5ae;\n",
              "  color: #000000;\n",
              "}\n",
              "#T_74c7b_row7_col2 {\n",
              "  background-color: #e0eedf;\n",
              "  color: #000000;\n",
              "}\n",
              "#T_74c7b_row7_col3 {\n",
              "  background-color: #c7e1c7;\n",
              "  color: #000000;\n",
              "}\n",
              "#T_74c7b_row8_col2 {\n",
              "  background-color: #c9e3c9;\n",
              "  color: #000000;\n",
              "}\n",
              "#T_74c7b_row8_col3 {\n",
              "  background-color: #dbebdb;\n",
              "  color: #000000;\n",
              "}\n",
              "#T_74c7b_row9_col2, #T_74c7b_row9_col3 {\n",
              "  background-color: #ebf3eb;\n",
              "  color: #000000;\n",
              "}\n",
              "</style>\n",
              "<table id=\"T_74c7b_\" class=\"dataframe\">\n",
              "  <thead>\n",
              "    <tr>\n",
              "      <th class=\"blank level0\" >&nbsp;</th>\n",
              "      <th class=\"col_heading level0 col0\" >Book-Title</th>\n",
              "      <th class=\"col_heading level0 col1\" >Publisher</th>\n",
              "      <th class=\"col_heading level0 col2\" >Total_No_Of_Users_Rated</th>\n",
              "      <th class=\"col_heading level0 col3\" >Avg_Rating</th>\n",
              "    </tr>\n",
              "  </thead>\n",
              "  <tbody>\n",
              "    <tr>\n",
              "      <th id=\"T_74c7b_level0_row0\" class=\"row_heading level0 row0\" >0</th>\n",
              "      <td id=\"T_74c7b_row0_col0\" class=\"data row0 col0\" >Harry Potter and the Sorcerer's Stone (Harry Potter (Paperback))</td>\n",
              "      <td id=\"T_74c7b_row0_col1\" class=\"data row0 col1\" >Arthur A. Levine Books</td>\n",
              "      <td id=\"T_74c7b_row0_col2\" class=\"data row0 col2\" >313</td>\n",
              "      <td id=\"T_74c7b_row0_col3\" class=\"data row0 col3\" >8.939297</td>\n",
              "    </tr>\n",
              "    <tr>\n",
              "      <th id=\"T_74c7b_level0_row1\" class=\"row_heading level0 row1\" >1</th>\n",
              "      <td id=\"T_74c7b_row1_col0\" class=\"data row1 col0\" >The Secret Life of Bees</td>\n",
              "      <td id=\"T_74c7b_row1_col1\" class=\"data row1 col1\" >Penguin Books</td>\n",
              "      <td id=\"T_74c7b_row1_col2\" class=\"data row1 col2\" >307</td>\n",
              "      <td id=\"T_74c7b_row1_col3\" class=\"data row1 col3\" >8.452769</td>\n",
              "    </tr>\n",
              "    <tr>\n",
              "      <th id=\"T_74c7b_level0_row2\" class=\"row_heading level0 row2\" >2</th>\n",
              "      <td id=\"T_74c7b_row2_col0\" class=\"data row2 col0\" >The Da Vinci Code</td>\n",
              "      <td id=\"T_74c7b_row2_col1\" class=\"data row2 col1\" >Doubleday</td>\n",
              "      <td id=\"T_74c7b_row2_col2\" class=\"data row2 col2\" >487</td>\n",
              "      <td id=\"T_74c7b_row2_col3\" class=\"data row2 col3\" >8.435318</td>\n",
              "    </tr>\n",
              "    <tr>\n",
              "      <th id=\"T_74c7b_level0_row3\" class=\"row_heading level0 row3\" >3</th>\n",
              "      <td id=\"T_74c7b_row3_col0\" class=\"data row3 col0\" >The Lovely Bones: A Novel</td>\n",
              "      <td id=\"T_74c7b_row3_col1\" class=\"data row3 col1\" >Little, Brown</td>\n",
              "      <td id=\"T_74c7b_row3_col2\" class=\"data row3 col2\" >707</td>\n",
              "      <td id=\"T_74c7b_row3_col3\" class=\"data row3 col3\" >8.185290</td>\n",
              "    </tr>\n",
              "    <tr>\n",
              "      <th id=\"T_74c7b_level0_row4\" class=\"row_heading level0 row4\" >4</th>\n",
              "      <td id=\"T_74c7b_row4_col0\" class=\"data row4 col0\" >The Red Tent (Bestselling Backlist)</td>\n",
              "      <td id=\"T_74c7b_row4_col1\" class=\"data row4 col1\" >Picador USA</td>\n",
              "      <td id=\"T_74c7b_row4_col2\" class=\"data row4 col2\" >383</td>\n",
              "      <td id=\"T_74c7b_row4_col3\" class=\"data row4 col3\" >8.182768</td>\n",
              "    </tr>\n",
              "    <tr>\n",
              "      <th id=\"T_74c7b_level0_row5\" class=\"row_heading level0 row5\" >5</th>\n",
              "      <td id=\"T_74c7b_row5_col0\" class=\"data row5 col0\" >Where the Heart Is (Oprah's Book Club (Paperback))</td>\n",
              "      <td id=\"T_74c7b_row5_col1\" class=\"data row5 col1\" >Warner Books</td>\n",
              "      <td id=\"T_74c7b_row5_col2\" class=\"data row5 col2\" >295</td>\n",
              "      <td id=\"T_74c7b_row5_col3\" class=\"data row5 col3\" >8.142373</td>\n",
              "    </tr>\n",
              "    <tr>\n",
              "      <th id=\"T_74c7b_level0_row6\" class=\"row_heading level0 row6\" >6</th>\n",
              "      <td id=\"T_74c7b_row6_col0\" class=\"data row6 col0\" >Angels &amp; Demons</td>\n",
              "      <td id=\"T_74c7b_row6_col1\" class=\"data row6 col1\" >Pocket Star</td>\n",
              "      <td id=\"T_74c7b_row6_col2\" class=\"data row6 col2\" >269</td>\n",
              "      <td id=\"T_74c7b_row6_col3\" class=\"data row6 col3\" >8.100372</td>\n",
              "    </tr>\n",
              "    <tr>\n",
              "      <th id=\"T_74c7b_level0_row7\" class=\"row_heading level0 row7\" >7</th>\n",
              "      <td id=\"T_74c7b_row7_col0\" class=\"data row7 col0\" >Girl with a Pearl Earring</td>\n",
              "      <td id=\"T_74c7b_row7_col1\" class=\"data row7 col1\" >Plume Books</td>\n",
              "      <td id=\"T_74c7b_row7_col2\" class=\"data row7 col2\" >278</td>\n",
              "      <td id=\"T_74c7b_row7_col3\" class=\"data row7 col3\" >7.982014</td>\n",
              "    </tr>\n",
              "    <tr>\n",
              "      <th id=\"T_74c7b_level0_row8\" class=\"row_heading level0 row8\" >8</th>\n",
              "      <td id=\"T_74c7b_row8_col0\" class=\"data row8 col0\" >Divine Secrets of the Ya-Ya Sisterhood: A Novel</td>\n",
              "      <td id=\"T_74c7b_row8_col1\" class=\"data row8 col1\" >Perennial</td>\n",
              "      <td id=\"T_74c7b_row8_col2\" class=\"data row8 col2\" >320</td>\n",
              "      <td id=\"T_74c7b_row8_col3\" class=\"data row8 col3\" >7.887500</td>\n",
              "    </tr>\n",
              "    <tr>\n",
              "      <th id=\"T_74c7b_level0_row9\" class=\"row_heading level0 row9\" >9</th>\n",
              "      <td id=\"T_74c7b_row9_col0\" class=\"data row9 col0\" >Snow Falling on Cedars</td>\n",
              "      <td id=\"T_74c7b_row9_col1\" class=\"data row9 col1\" >Vintage Books USA</td>\n",
              "      <td id=\"T_74c7b_row9_col2\" class=\"data row9 col2\" >256</td>\n",
              "      <td id=\"T_74c7b_row9_col3\" class=\"data row9 col3\" >7.808594</td>\n",
              "    </tr>\n",
              "  </tbody>\n",
              "</table>\n"
            ]
          },
          "metadata": {},
          "execution_count": 71
        }
      ],
      "source": [
        "cm=sns.light_palette('green',as_cmap=True)\n",
        "#Sorting books based on score calculated above\n",
        "#Printing the top 10 books\n",
        "top_selling_rated_books_summary[['Book-Title', 'Publisher', 'Total_No_Of_Users_Rated', 'Avg_Rating']].head(10).style.background_gradient(cmap=cm)"
      ]
    },
    {
      "cell_type": "markdown",
      "metadata": {
        "id": "gHEViwxgJ_0z"
      },
      "source": [
        "These are top 10 books which have highest rating and also have highest read count at the same time."
      ]
    },
    {
      "cell_type": "markdown",
      "metadata": {
        "id": "CEAkNfxGK0HE"
      },
      "source": [
        "## Recommendation for New Users on the basis of Weighted Average"
      ]
    },
    {
      "cell_type": "markdown",
      "metadata": {
        "id": "PG4DPgGxao3w"
      },
      "source": [
        "As the name suggests these top recommendation system works with the trend. It basically uses the items which are in trend right now. For example, if any book which is usually bought by every new user then there are chances that it may suggest that book to the user who just signed up.<br>\n",
        "Book weighted avg formula:<br>\n",
        "\n",
        "**Weighted Rating(WR)=[vR/(v+m)]+[mC/(v+m)]**<br>\n",
        "\n",
        "Where-:<br>\n",
        "v is the number of votes for the books;<br>\n",
        "m is the minimum votes required to be listed in the chart;<br>\n",
        "R is the average rating of the book; and<br>\n",
        "C is the mean vote across the whole report.<br>\n",
        "\n",
        "Now we have to find the values of v,m,R,C. Let's go fot it---"
      ]
    },
    {
      "cell_type": "code",
      "execution_count": 72,
      "metadata": {
        "id": "hVJw3XY9ndOs",
        "colab": {
          "base_uri": "https://localhost:8080/"
        },
        "outputId": "ecb63a91-f85b-4152-a886-aa34cefca08e"
      },
      "outputs": [
        {
          "output_type": "stream",
          "name": "stdout",
          "text": [
            "C=7.626700569505161 , m=64.0\n"
          ]
        },
        {
          "output_type": "execute_result",
          "data": {
            "text/plain": [
              "(38570, 11)"
            ]
          },
          "metadata": {},
          "execution_count": 72
        }
      ],
      "source": [
        "#Defining C and m\n",
        "C= Final_Dataset['Avg_Rating'].mean()\n",
        "m= Final_Dataset['Total_No_Of_Users_Rated'].quantile(0.90)\n",
        "Top_Books = Final_Dataset.loc[Final_Dataset['Total_No_Of_Users_Rated'] >= m]\n",
        "print(f'C={C} , m={m}')\n",
        "Top_Books.shape"
      ]
    },
    {
      "cell_type": "markdown",
      "metadata": {
        "id": "B0EZx3plbeWe"
      },
      "source": [
        "###Explaination :\n",
        "\n",
        "In the above m variable we used 90th percentile as our cutoff. In other words, for a book to feature in the charts, it must have more votes than at least 90% of the books in the list.<br>\n",
        "\n",
        "As we saw that there are 38570 books which qualify to be in this list. Now, we need to calculate our metric for each qualified book. To do this, we will define a function, weighted_rating() and define a new feature score, of which we’ll calculate the value by applying this function to our DataFrame of qualified books:\n"
      ]
    },
    {
      "cell_type": "code",
      "execution_count": 73,
      "metadata": {
        "id": "2dswN92ROrB4"
      },
      "outputs": [],
      "source": [
        "#Make function on formula basis\n",
        "def weighted_rating(x, m=m, C=C):\n",
        "    v = x['Total_No_Of_Users_Rated']\n",
        "    R = x['Avg_Rating']\n",
        "    return (v/(v+m) * R) + (m/(m+v) * C)\n",
        "    \n",
        " \n",
        "Top_Books['Score'] = Top_Books.apply(weighted_rating,axis=1)\n",
        " \n",
        " \n",
        "#Sorting books based on score calculated above\n",
        "Top_Books = Top_Books.sort_values('Score', ascending=False)"
      ]
    },
    {
      "cell_type": "code",
      "execution_count": 74,
      "metadata": {
        "id": "ND1JhMTsSXGj",
        "colab": {
          "base_uri": "https://localhost:8080/",
          "height": 677
        },
        "outputId": "39b968b4-bac9-4cac-ab7e-3b4c623b8b9c"
      },
      "outputs": [
        {
          "output_type": "execute_result",
          "data": {
            "text/plain": [
              "<pandas.io.formats.style.Styler at 0x7f338605a590>"
            ],
            "text/html": [
              "<style type=\"text/css\">\n",
              "#T_d8ffb_row0_col1 {\n",
              "  background-color: #a8d2a8;\n",
              "  color: #000000;\n",
              "}\n",
              "#T_d8ffb_row0_col2 {\n",
              "  background-color: #299429;\n",
              "  color: #f1f1f1;\n",
              "}\n",
              "#T_d8ffb_row0_col3, #T_d8ffb_row1_col1, #T_d8ffb_row5_col2 {\n",
              "  background-color: #008000;\n",
              "  color: #f1f1f1;\n",
              "}\n",
              "#T_d8ffb_row1_col2 {\n",
              "  background-color: #89c389;\n",
              "  color: #000000;\n",
              "}\n",
              "#T_d8ffb_row1_col3 {\n",
              "  background-color: #0f870f;\n",
              "  color: #f1f1f1;\n",
              "}\n",
              "#T_d8ffb_row2_col1 {\n",
              "  background-color: #66b266;\n",
              "  color: #f1f1f1;\n",
              "}\n",
              "#T_d8ffb_row2_col2, #T_d8ffb_row6_col2, #T_d8ffb_row15_col1 {\n",
              "  background-color: #6db56d;\n",
              "  color: #f1f1f1;\n",
              "}\n",
              "#T_d8ffb_row2_col3 {\n",
              "  background-color: #188c18;\n",
              "  color: #f1f1f1;\n",
              "}\n",
              "#T_d8ffb_row3_col1, #T_d8ffb_row4_col2 {\n",
              "  background-color: #5fae5f;\n",
              "  color: #f1f1f1;\n",
              "}\n",
              "#T_d8ffb_row3_col2 {\n",
              "  background-color: #87c287;\n",
              "  color: #000000;\n",
              "}\n",
              "#T_d8ffb_row3_col3 {\n",
              "  background-color: #3c9d3c;\n",
              "  color: #f1f1f1;\n",
              "}\n",
              "#T_d8ffb_row4_col1 {\n",
              "  background-color: #add5ad;\n",
              "  color: #000000;\n",
              "}\n",
              "#T_d8ffb_row4_col3 {\n",
              "  background-color: #4ea64e;\n",
              "  color: #f1f1f1;\n",
              "}\n",
              "#T_d8ffb_row5_col1 {\n",
              "  background-color: #e2efe2;\n",
              "  color: #000000;\n",
              "}\n",
              "#T_d8ffb_row5_col3, #T_d8ffb_row6_col3 {\n",
              "  background-color: #56aa56;\n",
              "  color: #f1f1f1;\n",
              "}\n",
              "#T_d8ffb_row6_col1 {\n",
              "  background-color: #a5d1a5;\n",
              "  color: #000000;\n",
              "}\n",
              "#T_d8ffb_row7_col1 {\n",
              "  background-color: #badbba;\n",
              "  color: #000000;\n",
              "}\n",
              "#T_d8ffb_row7_col2 {\n",
              "  background-color: #7cbd7c;\n",
              "  color: #000000;\n",
              "}\n",
              "#T_d8ffb_row7_col3 {\n",
              "  background-color: #8bc48b;\n",
              "  color: #000000;\n",
              "}\n",
              "#T_d8ffb_row8_col1 {\n",
              "  background-color: #77ba77;\n",
              "  color: #f1f1f1;\n",
              "}\n",
              "#T_d8ffb_row8_col2 {\n",
              "  background-color: #b7dab7;\n",
              "  color: #000000;\n",
              "}\n",
              "#T_d8ffb_row8_col3 {\n",
              "  background-color: #95c995;\n",
              "  color: #000000;\n",
              "}\n",
              "#T_d8ffb_row9_col1 {\n",
              "  background-color: #b3d8b3;\n",
              "  color: #000000;\n",
              "}\n",
              "#T_d8ffb_row9_col2, #T_d8ffb_row19_col1 {\n",
              "  background-color: #8fc68f;\n",
              "  color: #000000;\n",
              "}\n",
              "#T_d8ffb_row9_col3 {\n",
              "  background-color: #99cb99;\n",
              "  color: #000000;\n",
              "}\n",
              "#T_d8ffb_row10_col1 {\n",
              "  background-color: #ddecdd;\n",
              "  color: #000000;\n",
              "}\n",
              "#T_d8ffb_row10_col2 {\n",
              "  background-color: #53a953;\n",
              "  color: #f1f1f1;\n",
              "}\n",
              "#T_d8ffb_row10_col3 {\n",
              "  background-color: #a2cfa2;\n",
              "  color: #000000;\n",
              "}\n",
              "#T_d8ffb_row11_col1 {\n",
              "  background-color: #c3e0c3;\n",
              "  color: #000000;\n",
              "}\n",
              "#T_d8ffb_row11_col2 {\n",
              "  background-color: #84c184;\n",
              "  color: #000000;\n",
              "}\n",
              "#T_d8ffb_row11_col3 {\n",
              "  background-color: #a4d0a4;\n",
              "  color: #000000;\n",
              "}\n",
              "#T_d8ffb_row12_col1 {\n",
              "  background-color: #afd6af;\n",
              "  color: #000000;\n",
              "}\n",
              "#T_d8ffb_row12_col2, #T_d8ffb_row14_col2 {\n",
              "  background-color: #a6d2a6;\n",
              "  color: #000000;\n",
              "}\n",
              "#T_d8ffb_row12_col3 {\n",
              "  background-color: #b2d7b2;\n",
              "  color: #000000;\n",
              "}\n",
              "#T_d8ffb_row13_col1 {\n",
              "  background-color: #91c791;\n",
              "  color: #000000;\n",
              "}\n",
              "#T_d8ffb_row13_col2 {\n",
              "  background-color: #c4e0c4;\n",
              "  color: #000000;\n",
              "}\n",
              "#T_d8ffb_row13_col3 {\n",
              "  background-color: #bdddbd;\n",
              "  color: #000000;\n",
              "}\n",
              "#T_d8ffb_row14_col1 {\n",
              "  background-color: #bcdcbc;\n",
              "  color: #000000;\n",
              "}\n",
              "#T_d8ffb_row14_col3 {\n",
              "  background-color: #c6e1c6;\n",
              "  color: #000000;\n",
              "}\n",
              "#T_d8ffb_row15_col2, #T_d8ffb_row18_col3 {\n",
              "  background-color: #e9f2e9;\n",
              "  color: #000000;\n",
              "}\n",
              "#T_d8ffb_row15_col3 {\n",
              "  background-color: #daebda;\n",
              "  color: #000000;\n",
              "}\n",
              "#T_d8ffb_row16_col1, #T_d8ffb_row18_col2, #T_d8ffb_row19_col3 {\n",
              "  background-color: #ebf3eb;\n",
              "  color: #000000;\n",
              "}\n",
              "#T_d8ffb_row16_col2 {\n",
              "  background-color: #61af61;\n",
              "  color: #f1f1f1;\n",
              "}\n",
              "#T_d8ffb_row16_col3 {\n",
              "  background-color: #dcecdc;\n",
              "  color: #000000;\n",
              "}\n",
              "#T_d8ffb_row17_col1 {\n",
              "  background-color: #e4f0e4;\n",
              "  color: #000000;\n",
              "}\n",
              "#T_d8ffb_row17_col2 {\n",
              "  background-color: #7fbe7f;\n",
              "  color: #000000;\n",
              "}\n",
              "#T_d8ffb_row17_col3 {\n",
              "  background-color: #e7f1e7;\n",
              "  color: #000000;\n",
              "}\n",
              "#T_d8ffb_row18_col1 {\n",
              "  background-color: #7ebe7e;\n",
              "  color: #000000;\n",
              "}\n",
              "#T_d8ffb_row19_col2 {\n",
              "  background-color: #e5f0e5;\n",
              "  color: #000000;\n",
              "}\n",
              "</style>\n",
              "<table id=\"T_d8ffb_\" class=\"dataframe\">\n",
              "  <thead>\n",
              "    <tr>\n",
              "      <th class=\"blank level0\" >&nbsp;</th>\n",
              "      <th class=\"col_heading level0 col0\" >Book-Title</th>\n",
              "      <th class=\"col_heading level0 col1\" >Total_No_Of_Users_Rated</th>\n",
              "      <th class=\"col_heading level0 col2\" >Avg_Rating</th>\n",
              "      <th class=\"col_heading level0 col3\" >Score</th>\n",
              "    </tr>\n",
              "  </thead>\n",
              "  <tbody>\n",
              "    <tr>\n",
              "      <th id=\"T_d8ffb_level0_row0\" class=\"row_heading level0 row0\" >0</th>\n",
              "      <td id=\"T_d8ffb_row0_col0\" class=\"data row0 col0\" >Harry Potter and the Goblet of Fire (Book 4)</td>\n",
              "      <td id=\"T_d8ffb_row0_col1\" class=\"data row0 col1\" >137</td>\n",
              "      <td id=\"T_d8ffb_row0_col2\" class=\"data row0 col2\" >9.262774</td>\n",
              "      <td id=\"T_d8ffb_row0_col3\" class=\"data row0 col3\" >8.741835</td>\n",
              "    </tr>\n",
              "    <tr>\n",
              "      <th id=\"T_d8ffb_level0_row1\" class=\"row_heading level0 row1\" >1</th>\n",
              "      <td id=\"T_d8ffb_row1_col0\" class=\"data row1 col0\" >Harry Potter and the Sorcerer's Stone (Harry Potter (Paperback))</td>\n",
              "      <td id=\"T_d8ffb_row1_col1\" class=\"data row1 col1\" >313</td>\n",
              "      <td id=\"T_d8ffb_row1_col2\" class=\"data row1 col2\" >8.939297</td>\n",
              "      <td id=\"T_d8ffb_row1_col3\" class=\"data row1 col3\" >8.716469</td>\n",
              "    </tr>\n",
              "    <tr>\n",
              "      <th id=\"T_d8ffb_level0_row2\" class=\"row_heading level0 row2\" >2</th>\n",
              "      <td id=\"T_d8ffb_row2_col0\" class=\"data row2 col0\" >Harry Potter and the Order of the Phoenix (Book 5)</td>\n",
              "      <td id=\"T_d8ffb_row2_col1\" class=\"data row2 col1\" >206</td>\n",
              "      <td id=\"T_d8ffb_row2_col2\" class=\"data row2 col2\" >9.033981</td>\n",
              "      <td id=\"T_d8ffb_row2_col3\" class=\"data row2 col3\" >8.700403</td>\n",
              "    </tr>\n",
              "    <tr>\n",
              "      <th id=\"T_d8ffb_level0_row3\" class=\"row_heading level0 row3\" >3</th>\n",
              "      <td id=\"T_d8ffb_row3_col0\" class=\"data row3 col0\" >To Kill a Mockingbird</td>\n",
              "      <td id=\"T_d8ffb_row3_col1\" class=\"data row3 col1\" >214</td>\n",
              "      <td id=\"T_d8ffb_row3_col2\" class=\"data row3 col2\" >8.943925</td>\n",
              "      <td id=\"T_d8ffb_row3_col3\" class=\"data row3 col3\" >8.640679</td>\n",
              "    </tr>\n",
              "    <tr>\n",
              "      <th id=\"T_d8ffb_level0_row4\" class=\"row_heading level0 row4\" >4</th>\n",
              "      <td id=\"T_d8ffb_row4_col0\" class=\"data row4 col0\" >Harry Potter and the Prisoner of Azkaban (Book 3)</td>\n",
              "      <td id=\"T_d8ffb_row4_col1\" class=\"data row4 col1\" >133</td>\n",
              "      <td id=\"T_d8ffb_row4_col2\" class=\"data row4 col2\" >9.082707</td>\n",
              "      <td id=\"T_d8ffb_row4_col3\" class=\"data row4 col3\" >8.609690</td>\n",
              "    </tr>\n",
              "    <tr>\n",
              "      <th id=\"T_d8ffb_level0_row5\" class=\"row_heading level0 row5\" >5</th>\n",
              "      <td id=\"T_d8ffb_row5_col0\" class=\"data row5 col0\" >The Return of the King (The Lord of the Rings, Part 3)</td>\n",
              "      <td id=\"T_d8ffb_row5_col1\" class=\"data row5 col1\" >77</td>\n",
              "      <td id=\"T_d8ffb_row5_col2\" class=\"data row5 col2\" >9.402597</td>\n",
              "      <td id=\"T_d8ffb_row5_col3\" class=\"data row5 col3\" >8.596517</td>\n",
              "    </tr>\n",
              "    <tr>\n",
              "      <th id=\"T_d8ffb_level0_row6\" class=\"row_heading level0 row6\" >6</th>\n",
              "      <td id=\"T_d8ffb_row6_col0\" class=\"data row6 col0\" >Harry Potter and the Prisoner of Azkaban (Book 3)</td>\n",
              "      <td id=\"T_d8ffb_row6_col1\" class=\"data row6 col1\" >141</td>\n",
              "      <td id=\"T_d8ffb_row6_col2\" class=\"data row6 col2\" >9.035461</td>\n",
              "      <td id=\"T_d8ffb_row6_col3\" class=\"data row6 col3\" >8.595653</td>\n",
              "    </tr>\n",
              "    <tr>\n",
              "      <th id=\"T_d8ffb_level0_row7\" class=\"row_heading level0 row7\" >7</th>\n",
              "      <td id=\"T_d8ffb_row7_col0\" class=\"data row7 col0\" >Harry Potter and the Sorcerer's Stone (Book 1)</td>\n",
              "      <td id=\"T_d8ffb_row7_col1\" class=\"data row7 col1\" >119</td>\n",
              "      <td id=\"T_d8ffb_row7_col2\" class=\"data row7 col2\" >8.983193</td>\n",
              "      <td id=\"T_d8ffb_row7_col3\" class=\"data row7 col3\" >8.508791</td>\n",
              "    </tr>\n",
              "    <tr>\n",
              "      <th id=\"T_d8ffb_level0_row8\" class=\"row_heading level0 row8\" >8</th>\n",
              "      <td id=\"T_d8ffb_row8_col0\" class=\"data row8 col0\" >Harry Potter and the Chamber of Secrets (Book 2)</td>\n",
              "      <td id=\"T_d8ffb_row8_col1\" class=\"data row8 col1\" >189</td>\n",
              "      <td id=\"T_d8ffb_row8_col2\" class=\"data row8 col2\" >8.783069</td>\n",
              "      <td id=\"T_d8ffb_row8_col3\" class=\"data row8 col3\" >8.490549</td>\n",
              "    </tr>\n",
              "    <tr>\n",
              "      <th id=\"T_d8ffb_level0_row9\" class=\"row_heading level0 row9\" >9</th>\n",
              "      <td id=\"T_d8ffb_row9_col0\" class=\"data row9 col0\" >Harry Potter and the Chamber of Secrets (Book 2)</td>\n",
              "      <td id=\"T_d8ffb_row9_col1\" class=\"data row9 col1\" >126</td>\n",
              "      <td id=\"T_d8ffb_row9_col2\" class=\"data row9 col2\" >8.920635</td>\n",
              "      <td id=\"T_d8ffb_row9_col3\" class=\"data row9 col3\" >8.484783</td>\n",
              "    </tr>\n",
              "    <tr>\n",
              "      <th id=\"T_d8ffb_level0_row10\" class=\"row_heading level0 row10\" >10</th>\n",
              "      <td id=\"T_d8ffb_row10_col0\" class=\"data row10 col0\" >The Two Towers (The Lord of the Rings, Part 2)</td>\n",
              "      <td id=\"T_d8ffb_row10_col1\" class=\"data row10 col1\" >83</td>\n",
              "      <td id=\"T_d8ffb_row10_col2\" class=\"data row10 col2\" >9.120482</td>\n",
              "      <td id=\"T_d8ffb_row10_col3\" class=\"data row10 col3\" >8.470128</td>\n",
              "    </tr>\n",
              "    <tr>\n",
              "      <th id=\"T_d8ffb_level0_row11\" class=\"row_heading level0 row11\" >11</th>\n",
              "      <td id=\"T_d8ffb_row11_col0\" class=\"data row11 col0\" >Harry Potter and the Goblet of Fire (Book 4)</td>\n",
              "      <td id=\"T_d8ffb_row11_col1\" class=\"data row11 col1\" >110</td>\n",
              "      <td id=\"T_d8ffb_row11_col2\" class=\"data row11 col2\" >8.954545</td>\n",
              "      <td id=\"T_d8ffb_row11_col3\" class=\"data row11 col3\" >8.466143</td>\n",
              "    </tr>\n",
              "    <tr>\n",
              "      <th id=\"T_d8ffb_level0_row12\" class=\"row_heading level0 row12\" >12</th>\n",
              "      <td id=\"T_d8ffb_row12_col0\" class=\"data row12 col0\" >The Fellowship of the Ring (The Lord of the Rings, Part 1)</td>\n",
              "      <td id=\"T_d8ffb_row12_col1\" class=\"data row12 col1\" >131</td>\n",
              "      <td id=\"T_d8ffb_row12_col2\" class=\"data row12 col2\" >8.839695</td>\n",
              "      <td id=\"T_d8ffb_row12_col3\" class=\"data row12 col3\" >8.441584</td>\n",
              "    </tr>\n",
              "    <tr>\n",
              "      <th id=\"T_d8ffb_level0_row13\" class=\"row_heading level0 row13\" >13</th>\n",
              "      <td id=\"T_d8ffb_row13_col0\" class=\"data row13 col0\" >The Hobbit : The Enchanting Prelude to The Lord of the Rings</td>\n",
              "      <td id=\"T_d8ffb_row13_col1\" class=\"data row13 col1\" >161</td>\n",
              "      <td id=\"T_d8ffb_row13_col2\" class=\"data row13 col2\" >8.739130</td>\n",
              "      <td id=\"T_d8ffb_row13_col3\" class=\"data row13 col3\" >8.422706</td>\n",
              "    </tr>\n",
              "    <tr>\n",
              "      <th id=\"T_d8ffb_level0_row14\" class=\"row_heading level0 row14\" >14</th>\n",
              "      <td id=\"T_d8ffb_row14_col0\" class=\"data row14 col0\" >Ender's Game (Ender Wiggins Saga (Paperback))</td>\n",
              "      <td id=\"T_d8ffb_row14_col1\" class=\"data row14 col1\" >117</td>\n",
              "      <td id=\"T_d8ffb_row14_col2\" class=\"data row14 col2\" >8.837607</td>\n",
              "      <td id=\"T_d8ffb_row14_col3\" class=\"data row14 col3\" >8.409441</td>\n",
              "    </tr>\n",
              "    <tr>\n",
              "      <th id=\"T_d8ffb_level0_row15\" class=\"row_heading level0 row15\" >15</th>\n",
              "      <td id=\"T_d8ffb_row15_col0\" class=\"data row15 col0\" >Tuesdays with Morrie: An Old Man, a Young Man, and Life's Greatest Lesson</td>\n",
              "      <td id=\"T_d8ffb_row15_col1\" class=\"data row15 col1\" >200</td>\n",
              "      <td id=\"T_d8ffb_row15_col2\" class=\"data row15 col2\" >8.615000</td>\n",
              "      <td id=\"T_d8ffb_row15_col3\" class=\"data row15 col3\" >8.375412</td>\n",
              "    </tr>\n",
              "    <tr>\n",
              "      <th id=\"T_d8ffb_level0_row16\" class=\"row_heading level0 row16\" >16</th>\n",
              "      <td id=\"T_d8ffb_row16_col0\" class=\"data row16 col0\" >Charlotte's Web (Trophy Newbery)</td>\n",
              "      <td id=\"T_d8ffb_row16_col1\" class=\"data row16 col1\" >68</td>\n",
              "      <td id=\"T_d8ffb_row16_col2\" class=\"data row16 col2\" >9.073529</td>\n",
              "      <td id=\"T_d8ffb_row16_col3\" class=\"data row16 col3\" >8.372037</td>\n",
              "    </tr>\n",
              "    <tr>\n",
              "      <th id=\"T_d8ffb_level0_row17\" class=\"row_heading level0 row17\" >17</th>\n",
              "      <td id=\"T_d8ffb_row17_col0\" class=\"data row17 col0\" >Dune (Remembering Tomorrow)</td>\n",
              "      <td id=\"T_d8ffb_row17_col1\" class=\"data row17 col1\" >75</td>\n",
              "      <td id=\"T_d8ffb_row17_col2\" class=\"data row17 col2\" >8.973333</td>\n",
              "      <td id=\"T_d8ffb_row17_col3\" class=\"data row17 col3\" >8.353301</td>\n",
              "    </tr>\n",
              "    <tr>\n",
              "      <th id=\"T_d8ffb_level0_row18\" class=\"row_heading level0 row18\" >18</th>\n",
              "      <td id=\"T_d8ffb_row18_col0\" class=\"data row18 col0\" >A Prayer for Owen Meany</td>\n",
              "      <td id=\"T_d8ffb_row18_col1\" class=\"data row18 col1\" >181</td>\n",
              "      <td id=\"T_d8ffb_row18_col2\" class=\"data row18 col2\" >8.607735</td>\n",
              "      <td id=\"T_d8ffb_row18_col3\" class=\"data row18 col3\" >8.351465</td>\n",
              "    </tr>\n",
              "    <tr>\n",
              "      <th id=\"T_d8ffb_level0_row19\" class=\"row_heading level0 row19\" >19</th>\n",
              "      <td id=\"T_d8ffb_row19_col0\" class=\"data row19 col0\" >Fahrenheit 451</td>\n",
              "      <td id=\"T_d8ffb_row19_col1\" class=\"data row19 col1\" >164</td>\n",
              "      <td id=\"T_d8ffb_row19_col2\" class=\"data row19 col2\" >8.628049</td>\n",
              "      <td id=\"T_d8ffb_row19_col3\" class=\"data row19 col3\" >8.346969</td>\n",
              "    </tr>\n",
              "  </tbody>\n",
              "</table>\n"
            ]
          },
          "metadata": {},
          "execution_count": 74
        }
      ],
      "source": [
        "#Keeping only one entry of each book\n",
        "Top_Books=Top_Books.sort_values('Score', ascending=False).drop_duplicates('ISBN').sort_index()\n",
        "cm=sns.light_palette('green',as_cmap=True)\n",
        "#Sorting books based on score calculated above\n",
        "Top_Books = Top_Books.sort_values('Score', ascending=False)\n",
        "\n",
        "#Printing the top 20 books\n",
        "Top_Books[['Book-Title', 'Total_No_Of_Users_Rated', 'Avg_Rating', 'Score']].reset_index(drop=True).head(20).style.background_gradient(cmap=cm)"
      ]
    },
    {
      "cell_type": "markdown",
      "metadata": {
        "id": "fZvv7iAtgWiQ"
      },
      "source": [
        "These are our top books on the basis of formula base-weighted ratings."
      ]
    },
    {
      "cell_type": "markdown",
      "metadata": {
        "id": "7JvGR4cm5L0G"
      },
      "source": [
        "#**Model Based Collaborative Filtering Recommender**\n",
        "The goal of the recommender system is to predict user preference for a set of items based on the past experience. Two the most popular approaches are Content-Based and Collaborative Filtering.\n",
        "<br>Collaborative filtering is a technique used by websites like Amazon, YouTube, and Netflix. It filters out items that a user might like on the basis of reactions of similar users. There are two categories of collaborative filtering algorithms: memory based and model based.\n",
        "<br>\n",
        "Model based approach involves building machine learning algorithms to predict user's ratings. They involve dimensionality reduction methods that reduce high dimensional matrix containing abundant number of missing values with a much smaller matrix in lower-dimensional space.\n",
        "<br>\n",
        "The goal of this section is to compare SVD and NMF algorithms, try different configurations of parameters and explore obtained results."
      ]
    },
    {
      "cell_type": "markdown",
      "metadata": {
        "id": "QsnTIgtdg6wV"
      },
      "source": [
        "##Preparation"
      ]
    },
    {
      "cell_type": "code",
      "execution_count": 75,
      "metadata": {
        "id": "hfzIXezz6e8O"
      },
      "outputs": [],
      "source": [
        "import scipy\n",
        "import math\n",
        "import sklearn\n",
        "from nltk.corpus import stopwords\n",
        "from sklearn.model_selection import train_test_split\n",
        "from sklearn.feature_extraction.text import TfidfVectorizer\n",
        "from sklearn.metrics.pairwise import cosine_similarity\n",
        "from scipy.sparse.linalg import svds\n",
        "import matplotlib.pyplot as plt"
      ]
    },
    {
      "cell_type": "markdown",
      "metadata": {
        "id": "hDKR-qVE6rPm"
      },
      "source": [
        "This analysis will focus on book recommendations based on Book-Crossing dataset. To reduce the dimensionality of the dataset and avoid running into memory error we will focus on users with at least 3 ratings and top 10% most frequently rated books. \n",
        "<br>\n",
        "The recommender systems will be built using surprise package (Matrix Factorization - based models)."
      ]
    },
    {
      "cell_type": "code",
      "execution_count": 76,
      "metadata": {
        "id": "u6VufVONmqcO",
        "colab": {
          "base_uri": "https://localhost:8080/",
          "height": 424
        },
        "outputId": "86e70cc2-da8f-49ed-a6f3-65a64ce912a9"
      },
      "outputs": [
        {
          "output_type": "execute_result",
          "data": {
            "text/plain": [
              "         User-ID        ISBN  Book-Rating  Avg_Rating  Total_No_Of_Users_Rated\n",
              "1         276726  0155061224            5    5.000000                        1\n",
              "3         276729  052165615X            3    3.000000                        1\n",
              "4         276729  0521795028            6    6.000000                        1\n",
              "8         276744  038550120X            7    7.580247                       81\n",
              "16        276747  0060517794            9    8.000000                       30\n",
              "...          ...         ...          ...         ...                      ...\n",
              "1149771   276704  0743211383            7    6.964912                       57\n",
              "1149773   276704  0806917695            5    5.000000                        1\n",
              "1149775   276704  1563526298            9    7.000000                        3\n",
              "1149777   276709  0515107662           10    8.444444                       18\n",
              "1149778   276721  0590442449           10    9.000000                        2\n",
              "\n",
              "[383842 rows x 5 columns]"
            ],
            "text/html": [
              "\n",
              "  <div id=\"df-e5ff266c-fcd9-417b-9c32-3eb96af0bce3\">\n",
              "    <div class=\"colab-df-container\">\n",
              "      <div>\n",
              "<style scoped>\n",
              "    .dataframe tbody tr th:only-of-type {\n",
              "        vertical-align: middle;\n",
              "    }\n",
              "\n",
              "    .dataframe tbody tr th {\n",
              "        vertical-align: top;\n",
              "    }\n",
              "\n",
              "    .dataframe thead th {\n",
              "        text-align: right;\n",
              "    }\n",
              "</style>\n",
              "<table border=\"1\" class=\"dataframe\">\n",
              "  <thead>\n",
              "    <tr style=\"text-align: right;\">\n",
              "      <th></th>\n",
              "      <th>User-ID</th>\n",
              "      <th>ISBN</th>\n",
              "      <th>Book-Rating</th>\n",
              "      <th>Avg_Rating</th>\n",
              "      <th>Total_No_Of_Users_Rated</th>\n",
              "    </tr>\n",
              "  </thead>\n",
              "  <tbody>\n",
              "    <tr>\n",
              "      <th>1</th>\n",
              "      <td>276726</td>\n",
              "      <td>0155061224</td>\n",
              "      <td>5</td>\n",
              "      <td>5.000000</td>\n",
              "      <td>1</td>\n",
              "    </tr>\n",
              "    <tr>\n",
              "      <th>3</th>\n",
              "      <td>276729</td>\n",
              "      <td>052165615X</td>\n",
              "      <td>3</td>\n",
              "      <td>3.000000</td>\n",
              "      <td>1</td>\n",
              "    </tr>\n",
              "    <tr>\n",
              "      <th>4</th>\n",
              "      <td>276729</td>\n",
              "      <td>0521795028</td>\n",
              "      <td>6</td>\n",
              "      <td>6.000000</td>\n",
              "      <td>1</td>\n",
              "    </tr>\n",
              "    <tr>\n",
              "      <th>8</th>\n",
              "      <td>276744</td>\n",
              "      <td>038550120X</td>\n",
              "      <td>7</td>\n",
              "      <td>7.580247</td>\n",
              "      <td>81</td>\n",
              "    </tr>\n",
              "    <tr>\n",
              "      <th>16</th>\n",
              "      <td>276747</td>\n",
              "      <td>0060517794</td>\n",
              "      <td>9</td>\n",
              "      <td>8.000000</td>\n",
              "      <td>30</td>\n",
              "    </tr>\n",
              "    <tr>\n",
              "      <th>...</th>\n",
              "      <td>...</td>\n",
              "      <td>...</td>\n",
              "      <td>...</td>\n",
              "      <td>...</td>\n",
              "      <td>...</td>\n",
              "    </tr>\n",
              "    <tr>\n",
              "      <th>1149771</th>\n",
              "      <td>276704</td>\n",
              "      <td>0743211383</td>\n",
              "      <td>7</td>\n",
              "      <td>6.964912</td>\n",
              "      <td>57</td>\n",
              "    </tr>\n",
              "    <tr>\n",
              "      <th>1149773</th>\n",
              "      <td>276704</td>\n",
              "      <td>0806917695</td>\n",
              "      <td>5</td>\n",
              "      <td>5.000000</td>\n",
              "      <td>1</td>\n",
              "    </tr>\n",
              "    <tr>\n",
              "      <th>1149775</th>\n",
              "      <td>276704</td>\n",
              "      <td>1563526298</td>\n",
              "      <td>9</td>\n",
              "      <td>7.000000</td>\n",
              "      <td>3</td>\n",
              "    </tr>\n",
              "    <tr>\n",
              "      <th>1149777</th>\n",
              "      <td>276709</td>\n",
              "      <td>0515107662</td>\n",
              "      <td>10</td>\n",
              "      <td>8.444444</td>\n",
              "      <td>18</td>\n",
              "    </tr>\n",
              "    <tr>\n",
              "      <th>1149778</th>\n",
              "      <td>276721</td>\n",
              "      <td>0590442449</td>\n",
              "      <td>10</td>\n",
              "      <td>9.000000</td>\n",
              "      <td>2</td>\n",
              "    </tr>\n",
              "  </tbody>\n",
              "</table>\n",
              "<p>383842 rows × 5 columns</p>\n",
              "</div>\n",
              "      <button class=\"colab-df-convert\" onclick=\"convertToInteractive('df-e5ff266c-fcd9-417b-9c32-3eb96af0bce3')\"\n",
              "              title=\"Convert this dataframe to an interactive table.\"\n",
              "              style=\"display:none;\">\n",
              "        \n",
              "  <svg xmlns=\"http://www.w3.org/2000/svg\" height=\"24px\"viewBox=\"0 0 24 24\"\n",
              "       width=\"24px\">\n",
              "    <path d=\"M0 0h24v24H0V0z\" fill=\"none\"/>\n",
              "    <path d=\"M18.56 5.44l.94 2.06.94-2.06 2.06-.94-2.06-.94-.94-2.06-.94 2.06-2.06.94zm-11 1L8.5 8.5l.94-2.06 2.06-.94-2.06-.94L8.5 2.5l-.94 2.06-2.06.94zm10 10l.94 2.06.94-2.06 2.06-.94-2.06-.94-.94-2.06-.94 2.06-2.06.94z\"/><path d=\"M17.41 7.96l-1.37-1.37c-.4-.4-.92-.59-1.43-.59-.52 0-1.04.2-1.43.59L10.3 9.45l-7.72 7.72c-.78.78-.78 2.05 0 2.83L4 21.41c.39.39.9.59 1.41.59.51 0 1.02-.2 1.41-.59l7.78-7.78 2.81-2.81c.8-.78.8-2.07 0-2.86zM5.41 20L4 18.59l7.72-7.72 1.47 1.35L5.41 20z\"/>\n",
              "  </svg>\n",
              "      </button>\n",
              "      \n",
              "  <style>\n",
              "    .colab-df-container {\n",
              "      display:flex;\n",
              "      flex-wrap:wrap;\n",
              "      gap: 12px;\n",
              "    }\n",
              "\n",
              "    .colab-df-convert {\n",
              "      background-color: #E8F0FE;\n",
              "      border: none;\n",
              "      border-radius: 50%;\n",
              "      cursor: pointer;\n",
              "      display: none;\n",
              "      fill: #1967D2;\n",
              "      height: 32px;\n",
              "      padding: 0 0 0 0;\n",
              "      width: 32px;\n",
              "    }\n",
              "\n",
              "    .colab-df-convert:hover {\n",
              "      background-color: #E2EBFA;\n",
              "      box-shadow: 0px 1px 2px rgba(60, 64, 67, 0.3), 0px 1px 3px 1px rgba(60, 64, 67, 0.15);\n",
              "      fill: #174EA6;\n",
              "    }\n",
              "\n",
              "    [theme=dark] .colab-df-convert {\n",
              "      background-color: #3B4455;\n",
              "      fill: #D2E3FC;\n",
              "    }\n",
              "\n",
              "    [theme=dark] .colab-df-convert:hover {\n",
              "      background-color: #434B5C;\n",
              "      box-shadow: 0px 1px 3px 1px rgba(0, 0, 0, 0.15);\n",
              "      filter: drop-shadow(0px 1px 2px rgba(0, 0, 0, 0.3));\n",
              "      fill: #FFFFFF;\n",
              "    }\n",
              "  </style>\n",
              "\n",
              "      <script>\n",
              "        const buttonEl =\n",
              "          document.querySelector('#df-e5ff266c-fcd9-417b-9c32-3eb96af0bce3 button.colab-df-convert');\n",
              "        buttonEl.style.display =\n",
              "          google.colab.kernel.accessAllowed ? 'block' : 'none';\n",
              "\n",
              "        async function convertToInteractive(key) {\n",
              "          const element = document.querySelector('#df-e5ff266c-fcd9-417b-9c32-3eb96af0bce3');\n",
              "          const dataTable =\n",
              "            await google.colab.kernel.invokeFunction('convertToInteractive',\n",
              "                                                     [key], {});\n",
              "          if (!dataTable) return;\n",
              "\n",
              "          const docLinkHtml = 'Like what you see? Visit the ' +\n",
              "            '<a target=\"_blank\" href=https://colab.research.google.com/notebooks/data_table.ipynb>data table notebook</a>'\n",
              "            + ' to learn more about interactive tables.';\n",
              "          element.innerHTML = '';\n",
              "          dataTable['output_type'] = 'display_data';\n",
              "          await google.colab.output.renderOutput(dataTable, element);\n",
              "          const docLink = document.createElement('div');\n",
              "          docLink.innerHTML = docLinkHtml;\n",
              "          element.appendChild(docLink);\n",
              "        }\n",
              "      </script>\n",
              "    </div>\n",
              "  </div>\n",
              "  "
            ]
          },
          "metadata": {},
          "execution_count": 76
        }
      ],
      "source": [
        "ratings_explicit"
      ]
    },
    {
      "cell_type": "code",
      "execution_count": 77,
      "metadata": {
        "id": "YdHejqsAY3xe"
      },
      "outputs": [],
      "source": [
        "#Rename the columns for easiness of understanding  \n",
        "ratings_explicit.rename(columns = {'User-ID':'user_id' ,'ISBN':'isbn' ,'Book-Rating':'book_rating'},inplace=True)"
      ]
    },
    {
      "cell_type": "code",
      "execution_count": 78,
      "metadata": {
        "id": "VL3dbmYDY3uD",
        "colab": {
          "base_uri": "https://localhost:8080/"
        },
        "outputId": "dcfba591-1c03-4013-fe1a-ec4093db4ef6"
      },
      "outputs": [
        {
          "output_type": "stream",
          "name": "stdout",
          "text": [
            "Filter: users with at least 3 ratings\n",
            "Number of records: 327271\n"
          ]
        }
      ],
      "source": [
        "user_ratings_threshold = 3\n",
        "\n",
        "filter_users = ratings_explicit['user_id'].value_counts()\n",
        "filter_users_list = filter_users[filter_users >= user_ratings_threshold].index.to_list()\n",
        "\n",
        "df_ratings_top = ratings_explicit[ratings_explicit['user_id'].isin(filter_users_list)]\n",
        "\n",
        "print('Filter: users with at least %d ratings\\nNumber of records: %d' % (user_ratings_threshold, len(df_ratings_top)))"
      ]
    },
    {
      "cell_type": "code",
      "execution_count": 79,
      "metadata": {
        "id": "flCZg72xY3nj",
        "colab": {
          "base_uri": "https://localhost:8080/"
        },
        "outputId": "0233b308-790b-4d26-b83e-cf1f0ed25d70"
      },
      "outputs": [
        {
          "output_type": "stream",
          "name": "stdout",
          "text": [
            "Filter: top 10% most frequently rated books\n",
            "Number of records: 160787\n"
          ]
        }
      ],
      "source": [
        "book_ratings_threshold_perc = 0.1\n",
        "book_ratings_threshold = len(df_ratings_top['isbn'].unique()) * book_ratings_threshold_perc\n",
        "\n",
        "filter_books_list = df_ratings_top['isbn'].value_counts().head(int(book_ratings_threshold)).index.to_list()\n",
        "df_ratings_top = df_ratings_top[df_ratings_top['isbn'].isin(filter_books_list)]\n",
        "\n",
        "print('Filter: top %d%% most frequently rated books\\nNumber of records: %d' % (book_ratings_threshold_perc*100, len(df_ratings_top)))"
      ]
    },
    {
      "cell_type": "markdown",
      "metadata": {
        "id": "IHO_ItjQhGTT"
      },
      "source": [
        "\n",
        "\n",
        "##SVD and NMF models comparison"
      ]
    },
    {
      "cell_type": "markdown",
      "metadata": {
        "id": "_qfRBBg97uzy"
      },
      "source": [
        "Singular Value Decomposition (SVD) and Non-negative Matrix Factorization (NMF) are matrix factorization techniques used for dimensionality reduction. Surprise package provides implementation of those algorithms.\n"
      ]
    },
    {
      "cell_type": "code",
      "execution_count": 80,
      "metadata": {
        "id": "0vXuL3C9RWBw",
        "colab": {
          "base_uri": "https://localhost:8080/"
        },
        "outputId": "d44b1732-2e13-4af8-956c-904357f0cac2"
      },
      "outputs": [
        {
          "output_type": "stream",
          "name": "stdout",
          "text": [
            "Looking in indexes: https://pypi.org/simple, https://us-python.pkg.dev/colab-wheels/public/simple/\n",
            "Collecting surprise\n",
            "  Downloading surprise-0.1-py2.py3-none-any.whl (1.8 kB)\n",
            "Collecting scikit-surprise\n",
            "  Downloading scikit-surprise-1.1.1.tar.gz (11.8 MB)\n",
            "\u001b[K     |████████████████████████████████| 11.8 MB 8.0 MB/s \n",
            "\u001b[?25hRequirement already satisfied: joblib>=0.11 in /usr/local/lib/python3.7/dist-packages (from scikit-surprise->surprise) (1.1.0)\n",
            "Requirement already satisfied: numpy>=1.11.2 in /usr/local/lib/python3.7/dist-packages (from scikit-surprise->surprise) (1.21.6)\n",
            "Requirement already satisfied: scipy>=1.0.0 in /usr/local/lib/python3.7/dist-packages (from scikit-surprise->surprise) (1.7.3)\n",
            "Requirement already satisfied: six>=1.10.0 in /usr/local/lib/python3.7/dist-packages (from scikit-surprise->surprise) (1.15.0)\n",
            "Building wheels for collected packages: scikit-surprise\n",
            "  Building wheel for scikit-surprise (setup.py) ... \u001b[?25l\u001b[?25hdone\n",
            "  Created wheel for scikit-surprise: filename=scikit_surprise-1.1.1-cp37-cp37m-linux_x86_64.whl size=1633962 sha256=b8103a07342e996680e7230a638db947382de4f9e5dad51f8c02af235e151ec7\n",
            "  Stored in directory: /root/.cache/pip/wheels/76/44/74/b498c42be47b2406bd27994e16c5188e337c657025ab400c1c\n",
            "Successfully built scikit-surprise\n",
            "Installing collected packages: scikit-surprise, surprise\n",
            "Successfully installed scikit-surprise-1.1.1 surprise-0.1\n"
          ]
        }
      ],
      "source": [
        "pip install surprise"
      ]
    },
    {
      "cell_type": "code",
      "execution_count": 81,
      "metadata": {
        "id": "nU9i3PziRWEH"
      },
      "outputs": [],
      "source": [
        "from surprise import Dataset, Reader\n",
        "from surprise import SVD, NMF\n",
        "from surprise.model_selection import cross_validate, train_test_split, GridSearchCV"
      ]
    },
    {
      "cell_type": "code",
      "execution_count": 83,
      "metadata": {
        "id": "J4vhH0-FRV-5"
      },
      "outputs": [],
      "source": [
        "df=df_ratings_top.copy()\n",
        "reader = Reader(rating_scale=(1, 10))\n",
        "data = Dataset.load_from_df(df[['user_id', 'isbn', 'book_rating']], reader)"
      ]
    },
    {
      "cell_type": "code",
      "execution_count": 84,
      "metadata": {
        "id": "l_UpVJqIBldE",
        "colab": {
          "base_uri": "https://localhost:8080/"
        },
        "outputId": "dc85d42f-adef-413c-a1bd-378da629fa9c"
      },
      "outputs": [
        {
          "output_type": "execute_result",
          "data": {
            "text/plain": [
              "<surprise.dataset.DatasetAutoFolds at 0x7f33884704d0>"
            ]
          },
          "metadata": {},
          "execution_count": 84
        }
      ],
      "source": [
        "data"
      ]
    },
    {
      "cell_type": "code",
      "execution_count": 85,
      "metadata": {
        "id": "Ty60HiULVuGt",
        "colab": {
          "base_uri": "https://localhost:8080/"
        },
        "outputId": "7149c8ef-7594-4e85-f576-15a979d4360c"
      },
      "outputs": [
        {
          "output_type": "execute_result",
          "data": {
            "text/plain": [
              "test_rmse     1.599425\n",
              "test_mae      1.237261\n",
              "fit_time     10.055682\n",
              "test_time     0.976513\n",
              "dtype: float64"
            ]
          },
          "metadata": {},
          "execution_count": 85
        }
      ],
      "source": [
        "model_svd = SVD()\n",
        "cv_results_svd = cross_validate(model_svd, data, cv=3)\n",
        "pd.DataFrame(cv_results_svd).mean()"
      ]
    },
    {
      "cell_type": "code",
      "execution_count": 86,
      "metadata": {
        "id": "s9Z2XE0RWCLv",
        "colab": {
          "base_uri": "https://localhost:8080/"
        },
        "outputId": "9670cca0-ecdb-4dcf-c1a5-2a5f95a9828f"
      },
      "outputs": [
        {
          "output_type": "execute_result",
          "data": {
            "text/plain": [
              "test_rmse    2.616963\n",
              "test_mae     2.233885\n",
              "fit_time     9.816075\n",
              "test_time    0.592912\n",
              "dtype: float64"
            ]
          },
          "metadata": {},
          "execution_count": 86
        }
      ],
      "source": [
        "model_nmf = NMF()\n",
        "cv_results_nmf = cross_validate(model_nmf, data, cv=3)\n",
        "pd.DataFrame(cv_results_nmf).mean()"
      ]
    },
    {
      "cell_type": "markdown",
      "metadata": {
        "id": "IgQi0aJhL8zS"
      },
      "source": [
        "\n",
        "It's clear that for the given dataset much better results can be obtained with SVD approach - both in terms of accuracy and training / testing time."
      ]
    },
    {
      "cell_type": "markdown",
      "metadata": {
        "id": "4SQwntNC8UPa"
      },
      "source": [
        "##**Optimisation of SVD algorithm**<br>\n",
        "Grid Search Cross Validation computes accuracy metrics for an algorithm on various combinations of parameters, over a cross-validation procedure. It's useful for finding the best configuration of parameters.\n",
        "<br>\n",
        "It is used to find the best setting of parameters:\n",
        "<br>\n",
        "n_factors - the number of factors<br>\n",
        "n_epochs - the number of iteration of the SGD procedure<br>\n",
        "lr_all - the learning rate for all parameters<br>\n",
        "reg_all - the regularization term for all parameters<br>\n",
        "As a result, regarding the majority of parameters, the default setting is the most optimal one."
      ]
    },
    {
      "cell_type": "code",
      "execution_count": 87,
      "metadata": {
        "id": "F0N0x73VWZXU",
        "colab": {
          "base_uri": "https://localhost:8080/"
        },
        "outputId": "0602e896-2b1c-471a-f5cf-38cf35984e54"
      },
      "outputs": [
        {
          "output_type": "stream",
          "name": "stdout",
          "text": [
            "1.5934660681142285\n",
            "{'n_factors': 80, 'n_epochs': 20, 'lr_all': 0.005, 'reg_all': 0.2}\n"
          ]
        }
      ],
      "source": [
        "param_grid = {'n_factors': [80,100],\n",
        "              'n_epochs': [5, 20],\n",
        "              'lr_all': [0.002, 0.005],\n",
        "              'reg_all': [0.2, 0.4]}\n",
        "\n",
        "gs = GridSearchCV(SVD, param_grid, measures=['rmse', 'mae'], cv=3)\n",
        "gs.fit(data)\n",
        "\n",
        "print(gs.best_score['rmse'])\n",
        "print(gs.best_params['rmse'])"
      ]
    },
    {
      "cell_type": "markdown",
      "metadata": {
        "id": "ZXl3UAwPBeFe"
      },
      "source": [
        " The improvement obtained with Grid Search is very small."
      ]
    },
    {
      "cell_type": "markdown",
      "metadata": {
        "id": "DV2BIk4A881O"
      },
      "source": [
        "\n",
        "Analysis of Collaborative Filtering model results\n",
        "In this part, let's examine in detail the results obtained by the SVD model that provided the best RMSE score."
      ]
    },
    {
      "cell_type": "markdown",
      "metadata": {
        "id": "6LUB9sNFCxkA"
      },
      "source": [
        "##Analysis of Collaborative Filtering model-based results-\n",
        "In this part, let's examine in detail the results obtained by the SVD model that provided the best RMSE score."
      ]
    },
    {
      "cell_type": "code",
      "execution_count": 88,
      "metadata": {
        "id": "2apZo8CkW1p7"
      },
      "outputs": [],
      "source": [
        "trainset, testset = train_test_split(data, test_size=0.2)\n",
        "\n",
        "model = SVD(n_factors=80, n_epochs=20, lr_all=0.005, reg_all=0.2)\n",
        "model.fit(trainset)\n",
        "predictions = model.test(testset)"
      ]
    },
    {
      "cell_type": "code",
      "execution_count": 89,
      "metadata": {
        "id": "eBQ6xFOlfenD",
        "colab": {
          "base_uri": "https://localhost:8080/",
          "height": 206
        },
        "outputId": "c6c1a614-bdd9-4209-dd00-69563ec5c609"
      },
      "outputs": [
        {
          "output_type": "execute_result",
          "data": {
            "text/plain": [
              "       user_id        isbn  actual_rating  pred_rating  impossible  \\\n",
              "5222    222941  0425126064            8.0     8.330404       False   \n",
              "24043    35467  0684852624            9.0     7.404651       False   \n",
              "17368    69709  0553800973            7.0     6.904067       False   \n",
              "16523    86336  1558531025            8.0     8.048687       False   \n",
              "20766   188273  0440216745            9.0     8.252403       False   \n",
              "\n",
              "       pred_rating_round   abs_err  \n",
              "5222                 8.0  0.330404  \n",
              "24043                7.0  1.595349  \n",
              "17368                7.0  0.095933  \n",
              "16523                8.0  0.048687  \n",
              "20766                8.0  0.747597  "
            ],
            "text/html": [
              "\n",
              "  <div id=\"df-dc9e3e36-4edf-4305-80bd-99b97c22b7de\">\n",
              "    <div class=\"colab-df-container\">\n",
              "      <div>\n",
              "<style scoped>\n",
              "    .dataframe tbody tr th:only-of-type {\n",
              "        vertical-align: middle;\n",
              "    }\n",
              "\n",
              "    .dataframe tbody tr th {\n",
              "        vertical-align: top;\n",
              "    }\n",
              "\n",
              "    .dataframe thead th {\n",
              "        text-align: right;\n",
              "    }\n",
              "</style>\n",
              "<table border=\"1\" class=\"dataframe\">\n",
              "  <thead>\n",
              "    <tr style=\"text-align: right;\">\n",
              "      <th></th>\n",
              "      <th>user_id</th>\n",
              "      <th>isbn</th>\n",
              "      <th>actual_rating</th>\n",
              "      <th>pred_rating</th>\n",
              "      <th>impossible</th>\n",
              "      <th>pred_rating_round</th>\n",
              "      <th>abs_err</th>\n",
              "    </tr>\n",
              "  </thead>\n",
              "  <tbody>\n",
              "    <tr>\n",
              "      <th>5222</th>\n",
              "      <td>222941</td>\n",
              "      <td>0425126064</td>\n",
              "      <td>8.0</td>\n",
              "      <td>8.330404</td>\n",
              "      <td>False</td>\n",
              "      <td>8.0</td>\n",
              "      <td>0.330404</td>\n",
              "    </tr>\n",
              "    <tr>\n",
              "      <th>24043</th>\n",
              "      <td>35467</td>\n",
              "      <td>0684852624</td>\n",
              "      <td>9.0</td>\n",
              "      <td>7.404651</td>\n",
              "      <td>False</td>\n",
              "      <td>7.0</td>\n",
              "      <td>1.595349</td>\n",
              "    </tr>\n",
              "    <tr>\n",
              "      <th>17368</th>\n",
              "      <td>69709</td>\n",
              "      <td>0553800973</td>\n",
              "      <td>7.0</td>\n",
              "      <td>6.904067</td>\n",
              "      <td>False</td>\n",
              "      <td>7.0</td>\n",
              "      <td>0.095933</td>\n",
              "    </tr>\n",
              "    <tr>\n",
              "      <th>16523</th>\n",
              "      <td>86336</td>\n",
              "      <td>1558531025</td>\n",
              "      <td>8.0</td>\n",
              "      <td>8.048687</td>\n",
              "      <td>False</td>\n",
              "      <td>8.0</td>\n",
              "      <td>0.048687</td>\n",
              "    </tr>\n",
              "    <tr>\n",
              "      <th>20766</th>\n",
              "      <td>188273</td>\n",
              "      <td>0440216745</td>\n",
              "      <td>9.0</td>\n",
              "      <td>8.252403</td>\n",
              "      <td>False</td>\n",
              "      <td>8.0</td>\n",
              "      <td>0.747597</td>\n",
              "    </tr>\n",
              "  </tbody>\n",
              "</table>\n",
              "</div>\n",
              "      <button class=\"colab-df-convert\" onclick=\"convertToInteractive('df-dc9e3e36-4edf-4305-80bd-99b97c22b7de')\"\n",
              "              title=\"Convert this dataframe to an interactive table.\"\n",
              "              style=\"display:none;\">\n",
              "        \n",
              "  <svg xmlns=\"http://www.w3.org/2000/svg\" height=\"24px\"viewBox=\"0 0 24 24\"\n",
              "       width=\"24px\">\n",
              "    <path d=\"M0 0h24v24H0V0z\" fill=\"none\"/>\n",
              "    <path d=\"M18.56 5.44l.94 2.06.94-2.06 2.06-.94-2.06-.94-.94-2.06-.94 2.06-2.06.94zm-11 1L8.5 8.5l.94-2.06 2.06-.94-2.06-.94L8.5 2.5l-.94 2.06-2.06.94zm10 10l.94 2.06.94-2.06 2.06-.94-2.06-.94-.94-2.06-.94 2.06-2.06.94z\"/><path d=\"M17.41 7.96l-1.37-1.37c-.4-.4-.92-.59-1.43-.59-.52 0-1.04.2-1.43.59L10.3 9.45l-7.72 7.72c-.78.78-.78 2.05 0 2.83L4 21.41c.39.39.9.59 1.41.59.51 0 1.02-.2 1.41-.59l7.78-7.78 2.81-2.81c.8-.78.8-2.07 0-2.86zM5.41 20L4 18.59l7.72-7.72 1.47 1.35L5.41 20z\"/>\n",
              "  </svg>\n",
              "      </button>\n",
              "      \n",
              "  <style>\n",
              "    .colab-df-container {\n",
              "      display:flex;\n",
              "      flex-wrap:wrap;\n",
              "      gap: 12px;\n",
              "    }\n",
              "\n",
              "    .colab-df-convert {\n",
              "      background-color: #E8F0FE;\n",
              "      border: none;\n",
              "      border-radius: 50%;\n",
              "      cursor: pointer;\n",
              "      display: none;\n",
              "      fill: #1967D2;\n",
              "      height: 32px;\n",
              "      padding: 0 0 0 0;\n",
              "      width: 32px;\n",
              "    }\n",
              "\n",
              "    .colab-df-convert:hover {\n",
              "      background-color: #E2EBFA;\n",
              "      box-shadow: 0px 1px 2px rgba(60, 64, 67, 0.3), 0px 1px 3px 1px rgba(60, 64, 67, 0.15);\n",
              "      fill: #174EA6;\n",
              "    }\n",
              "\n",
              "    [theme=dark] .colab-df-convert {\n",
              "      background-color: #3B4455;\n",
              "      fill: #D2E3FC;\n",
              "    }\n",
              "\n",
              "    [theme=dark] .colab-df-convert:hover {\n",
              "      background-color: #434B5C;\n",
              "      box-shadow: 0px 1px 3px 1px rgba(0, 0, 0, 0.15);\n",
              "      filter: drop-shadow(0px 1px 2px rgba(0, 0, 0, 0.3));\n",
              "      fill: #FFFFFF;\n",
              "    }\n",
              "  </style>\n",
              "\n",
              "      <script>\n",
              "        const buttonEl =\n",
              "          document.querySelector('#df-dc9e3e36-4edf-4305-80bd-99b97c22b7de button.colab-df-convert');\n",
              "        buttonEl.style.display =\n",
              "          google.colab.kernel.accessAllowed ? 'block' : 'none';\n",
              "\n",
              "        async function convertToInteractive(key) {\n",
              "          const element = document.querySelector('#df-dc9e3e36-4edf-4305-80bd-99b97c22b7de');\n",
              "          const dataTable =\n",
              "            await google.colab.kernel.invokeFunction('convertToInteractive',\n",
              "                                                     [key], {});\n",
              "          if (!dataTable) return;\n",
              "\n",
              "          const docLinkHtml = 'Like what you see? Visit the ' +\n",
              "            '<a target=\"_blank\" href=https://colab.research.google.com/notebooks/data_table.ipynb>data table notebook</a>'\n",
              "            + ' to learn more about interactive tables.';\n",
              "          element.innerHTML = '';\n",
              "          dataTable['output_type'] = 'display_data';\n",
              "          await google.colab.output.renderOutput(dataTable, element);\n",
              "          const docLink = document.createElement('div');\n",
              "          docLink.innerHTML = docLinkHtml;\n",
              "          element.appendChild(docLink);\n",
              "        }\n",
              "      </script>\n",
              "    </div>\n",
              "  </div>\n",
              "  "
            ]
          },
          "metadata": {},
          "execution_count": 89
        }
      ],
      "source": [
        "df_pred = pd.DataFrame(predictions, columns=['user_id', 'isbn', 'actual_rating', 'pred_rating', 'details'])\n",
        "df_pred['impossible'] = df_pred['details'].apply(lambda x: x['was_impossible'])\n",
        "df_pred['pred_rating_round'] = df_pred['pred_rating'].round()\n",
        "df_pred['abs_err'] = abs(df_pred['pred_rating'] - df_pred['actual_rating'])\n",
        "df_pred.drop(['details'], axis=1, inplace=True)\n",
        "df_pred.sample(5)"
      ]
    },
    {
      "cell_type": "markdown",
      "metadata": {
        "id": "Pui-I5LJ9POQ"
      },
      "source": [
        "Distribution of actual and predicted ratings in the test set\n",
        "According to the distribution of actual ratings of books in the test set, the biggest part of users give positive scores - between 7 and 10. The mode equals 8 but count of ratings 7, 9, 10 is also noticeable. The distribution of predicted ratings in the test set is visibly different. One more time, 8 is a mode but scores 7, 9 and 10 are clearly less frequent.\n",
        "<br>\n",
        "It shows that the recommender system is not perfect and it cannot reflect the real distribution of book ratings."
      ]
    },
    {
      "cell_type": "code",
      "execution_count": 90,
      "metadata": {
        "id": "TfKdkITjfr7R",
        "colab": {
          "base_uri": "https://localhost:8080/",
          "height": 325
        },
        "outputId": "1181071a-463b-4bc1-b576-46ea9a4b6562"
      },
      "outputs": [
        {
          "output_type": "display_data",
          "data": {
            "text/plain": [
              "<Figure size 1008x288 with 2 Axes>"
            ],
            "image/png": "[encoded data removed]"
          },
          "metadata": {}
        }
      ],
      "source": [
        "palette = sns.color_palette(\"RdBu\", 10)\n",
        "fig, (ax1, ax2) = plt.subplots(nrows=1, ncols=2, figsize=(14, 4))\n",
        "\n",
        "sns.countplot(x='actual_rating', data=df_pred, palette=palette, ax=ax1)\n",
        "ax1.set_title('Distribution of actual ratings of books in the test set')\n",
        "\n",
        "sns.countplot(x='pred_rating_round', data=df_pred, palette=palette, ax=ax2)\n",
        "ax2.set_title('Distribution of predicted ratings of books in the test set')\n",
        "\n",
        "plt.show()"
      ]
    },
    {
      "cell_type": "markdown",
      "metadata": {
        "id": "0uE6qph990dI"
      },
      "source": [
        "Absolute error of predicted ratings**<br>\n",
        "The distribution of absolute errors is right-skewed, showing that the majority of errors is small: between 0 and 1. There is a long tail that indicates that there are several observations for which the absolute error was close to 10.\n",
        "<br>\n",
        "How good/bad the model is with predicting certain scores? As expected from the above charts, the model deals very well with predicting score = 8 (the most frequent value). The further the rating from score = 8, the higher the absolute error. The biggest errors happen to observations with scores 1 or 2 which indicates that probably the model is predicting high ratings for those observations."
      ]
    },
    {
      "cell_type": "code",
      "execution_count": 91,
      "metadata": {
        "id": "9zPy4eb1fykN",
        "colab": {
          "base_uri": "https://localhost:8080/",
          "height": 325
        },
        "outputId": "c762812e-d6f9-4ec0-f28e-fb460d18d34c"
      },
      "outputs": [
        {
          "output_type": "display_data",
          "data": {
            "text/plain": [
              "<Figure size 1008x288 with 2 Axes>"
            ],
            "image/png": "[encoded data removed]"
          },
          "metadata": {}
        }
      ],
      "source": [
        "df_pred_err = df_pred.groupby('actual_rating')['abs_err'].mean().reset_index()\n",
        "\n",
        "fig, (ax1, ax2) = plt.subplots(nrows=1, ncols=2, figsize=(14, 4))\n",
        "\n",
        "sns.distplot(df_pred['abs_err'], color='#2f6194', ax=ax1)\n",
        "ax1.set_title('Distribution of absolute error in test set')\n",
        "\n",
        "sns.barplot(x='actual_rating', y='abs_err', data=df_pred_err, palette=palette, ax=ax2)\n",
        "ax2.set_title('Mean absolute error for rating in test set')\n",
        "\n",
        "plt.show()"
      ]
    },
    {
      "cell_type": "markdown",
      "metadata": {
        "id": "MsXaOOvW-IkT"
      },
      "source": [
        "\n",
        "Analysis of predicted ratings of a particular user<br>\n",
        "For this part of the analysis, the user with id 193458 was selected. By analyzing book ratings by this user, it can be noted that he/she likes diverse types of readings: English romantic novels (Pride and Prejudice, Sense and Sensibility), fantasy (Narnia) as well as historical novels (Schindler's List). Among the recommended books there are other works from Narnia's series, two historical novels and one romance which correlates with user's previous preferences."
      ]
    },
    {
      "cell_type": "code",
      "execution_count": 92,
      "metadata": {
        "id": "xvTzeXGff1LX"
      },
      "outputs": [],
      "source": [
        "df_books = books.copy()\n",
        "df_books.rename(columns = {'ISBN':'isbn' ,'Book-Title':'book_title'},inplace=True)\n",
        "df_ext = df.merge(df_books[['isbn', 'book_title']], on='isbn', how='left')\n",
        "df_ext = df_ext.merge(df_pred[['isbn', 'user_id', 'pred_rating']], on=['isbn', 'user_id'], how='left')"
      ]
    },
    {
      "cell_type": "code",
      "execution_count": 93,
      "metadata": {
        "id": "hnghTSjDl3dw",
        "colab": {
          "base_uri": "https://localhost:8080/",
          "height": 424
        },
        "outputId": "2bd79cf3-8a8e-4490-d733-7dc94177dac2"
      },
      "outputs": [
        {
          "output_type": "execute_result",
          "data": {
            "text/plain": [
              "        user_id        isbn  book_rating  Avg_Rating  Total_No_Of_Users_Rated  \\\n",
              "0        276747  0060517794            9    8.000000                       30   \n",
              "1        276747  0671537458            9    7.176471                       17   \n",
              "2        276747  0679776818            8    7.476190                       21   \n",
              "3        276772  0553572369            7    6.625000                        8   \n",
              "4        276772  3499230933           10    7.166667                        6   \n",
              "...         ...         ...          ...         ...                      ...   \n",
              "160782   276688  0836218655           10    8.086957                       23   \n",
              "160783   276688  0836236688           10    8.333333                       15   \n",
              "160784   276688  1551669315            6    7.200000                        5   \n",
              "160785   276704  0345386108            6    6.852941                       34   \n",
              "160786   276704  0743211383            7    6.964912                       57   \n",
              "\n",
              "                                               book_title  pred_rating  \n",
              "0                                Little Altars Everywhere     8.187480  \n",
              "1                                       Waiting to Exhale          NaN  \n",
              "2                       Birdsong: A Novel of Love and War          NaN  \n",
              "3            Pay Dirt (Mrs. Murphy Mysteries (Paperback))          NaN  \n",
              "4                                     Adressat unbekannt.          NaN  \n",
              "...                                                   ...          ...  \n",
              "160782                                     Wiener Dog Art     8.111336  \n",
              "160783  Dilbert: Seven Years Of Highly Defective Peopl...          NaN  \n",
              "160784                                     The Third Wife          NaN  \n",
              "160785                                        Winter Moon     7.204055  \n",
              "160786                                       Dreamcatcher          NaN  \n",
              "\n",
              "[160787 rows x 7 columns]"
            ],
            "text/html": [
              "\n",
              "  <div id=\"df-4f094913-7d28-4128-81e2-ba1a92917662\">\n",
              "    <div class=\"colab-df-container\">\n",
              "      <div>\n",
              "<style scoped>\n",
              "    .dataframe tbody tr th:only-of-type {\n",
              "        vertical-align: middle;\n",
              "    }\n",
              "\n",
              "    .dataframe tbody tr th {\n",
              "        vertical-align: top;\n",
              "    }\n",
              "\n",
              "    .dataframe thead th {\n",
              "        text-align: right;\n",
              "    }\n",
              "</style>\n",
              "<table border=\"1\" class=\"dataframe\">\n",
              "  <thead>\n",
              "    <tr style=\"text-align: right;\">\n",
              "      <th></th>\n",
              "      <th>user_id</th>\n",
              "      <th>isbn</th>\n",
              "      <th>book_rating</th>\n",
              "      <th>Avg_Rating</th>\n",
              "      <th>Total_No_Of_Users_Rated</th>\n",
              "      <th>book_title</th>\n",
              "      <th>pred_rating</th>\n",
              "    </tr>\n",
              "  </thead>\n",
              "  <tbody>\n",
              "    <tr>\n",
              "      <th>0</th>\n",
              "      <td>276747</td>\n",
              "      <td>0060517794</td>\n",
              "      <td>9</td>\n",
              "      <td>8.000000</td>\n",
              "      <td>30</td>\n",
              "      <td>Little Altars Everywhere</td>\n",
              "      <td>8.187480</td>\n",
              "    </tr>\n",
              "    <tr>\n",
              "      <th>1</th>\n",
              "      <td>276747</td>\n",
              "      <td>0671537458</td>\n",
              "      <td>9</td>\n",
              "      <td>7.176471</td>\n",
              "      <td>17</td>\n",
              "      <td>Waiting to Exhale</td>\n",
              "      <td>NaN</td>\n",
              "    </tr>\n",
              "    <tr>\n",
              "      <th>2</th>\n",
              "      <td>276747</td>\n",
              "      <td>0679776818</td>\n",
              "      <td>8</td>\n",
              "      <td>7.476190</td>\n",
              "      <td>21</td>\n",
              "      <td>Birdsong: A Novel of Love and War</td>\n",
              "      <td>NaN</td>\n",
              "    </tr>\n",
              "    <tr>\n",
              "      <th>3</th>\n",
              "      <td>276772</td>\n",
              "      <td>0553572369</td>\n",
              "      <td>7</td>\n",
              "      <td>6.625000</td>\n",
              "      <td>8</td>\n",
              "      <td>Pay Dirt (Mrs. Murphy Mysteries (Paperback))</td>\n",
              "      <td>NaN</td>\n",
              "    </tr>\n",
              "    <tr>\n",
              "      <th>4</th>\n",
              "      <td>276772</td>\n",
              "      <td>3499230933</td>\n",
              "      <td>10</td>\n",
              "      <td>7.166667</td>\n",
              "      <td>6</td>\n",
              "      <td>Adressat unbekannt.</td>\n",
              "      <td>NaN</td>\n",
              "    </tr>\n",
              "    <tr>\n",
              "      <th>...</th>\n",
              "      <td>...</td>\n",
              "      <td>...</td>\n",
              "      <td>...</td>\n",
              "      <td>...</td>\n",
              "      <td>...</td>\n",
              "      <td>...</td>\n",
              "      <td>...</td>\n",
              "    </tr>\n",
              "    <tr>\n",
              "      <th>160782</th>\n",
              "      <td>276688</td>\n",
              "      <td>0836218655</td>\n",
              "      <td>10</td>\n",
              "      <td>8.086957</td>\n",
              "      <td>23</td>\n",
              "      <td>Wiener Dog Art</td>\n",
              "      <td>8.111336</td>\n",
              "    </tr>\n",
              "    <tr>\n",
              "      <th>160783</th>\n",
              "      <td>276688</td>\n",
              "      <td>0836236688</td>\n",
              "      <td>10</td>\n",
              "      <td>8.333333</td>\n",
              "      <td>15</td>\n",
              "      <td>Dilbert: Seven Years Of Highly Defective Peopl...</td>\n",
              "      <td>NaN</td>\n",
              "    </tr>\n",
              "    <tr>\n",
              "      <th>160784</th>\n",
              "      <td>276688</td>\n",
              "      <td>1551669315</td>\n",
              "      <td>6</td>\n",
              "      <td>7.200000</td>\n",
              "      <td>5</td>\n",
              "      <td>The Third Wife</td>\n",
              "      <td>NaN</td>\n",
              "    </tr>\n",
              "    <tr>\n",
              "      <th>160785</th>\n",
              "      <td>276704</td>\n",
              "      <td>0345386108</td>\n",
              "      <td>6</td>\n",
              "      <td>6.852941</td>\n",
              "      <td>34</td>\n",
              "      <td>Winter Moon</td>\n",
              "      <td>7.204055</td>\n",
              "    </tr>\n",
              "    <tr>\n",
              "      <th>160786</th>\n",
              "      <td>276704</td>\n",
              "      <td>0743211383</td>\n",
              "      <td>7</td>\n",
              "      <td>6.964912</td>\n",
              "      <td>57</td>\n",
              "      <td>Dreamcatcher</td>\n",
              "      <td>NaN</td>\n",
              "    </tr>\n",
              "  </tbody>\n",
              "</table>\n",
              "<p>160787 rows × 7 columns</p>\n",
              "</div>\n",
              "      <button class=\"colab-df-convert\" onclick=\"convertToInteractive('df-4f094913-7d28-4128-81e2-ba1a92917662')\"\n",
              "              title=\"Convert this dataframe to an interactive table.\"\n",
              "              style=\"display:none;\">\n",
              "        \n",
              "  <svg xmlns=\"http://www.w3.org/2000/svg\" height=\"24px\"viewBox=\"0 0 24 24\"\n",
              "       width=\"24px\">\n",
              "    <path d=\"M0 0h24v24H0V0z\" fill=\"none\"/>\n",
              "    <path d=\"M18.56 5.44l.94 2.06.94-2.06 2.06-.94-2.06-.94-.94-2.06-.94 2.06-2.06.94zm-11 1L8.5 8.5l.94-2.06 2.06-.94-2.06-.94L8.5 2.5l-.94 2.06-2.06.94zm10 10l.94 2.06.94-2.06 2.06-.94-2.06-.94-.94-2.06-.94 2.06-2.06.94z\"/><path d=\"M17.41 7.96l-1.37-1.37c-.4-.4-.92-.59-1.43-.59-.52 0-1.04.2-1.43.59L10.3 9.45l-7.72 7.72c-.78.78-.78 2.05 0 2.83L4 21.41c.39.39.9.59 1.41.59.51 0 1.02-.2 1.41-.59l7.78-7.78 2.81-2.81c.8-.78.8-2.07 0-2.86zM5.41 20L4 18.59l7.72-7.72 1.47 1.35L5.41 20z\"/>\n",
              "  </svg>\n",
              "      </button>\n",
              "      \n",
              "  <style>\n",
              "    .colab-df-container {\n",
              "      display:flex;\n",
              "      flex-wrap:wrap;\n",
              "      gap: 12px;\n",
              "    }\n",
              "\n",
              "    .colab-df-convert {\n",
              "      background-color: #E8F0FE;\n",
              "      border: none;\n",
              "      border-radius: 50%;\n",
              "      cursor: pointer;\n",
              "      display: none;\n",
              "      fill: #1967D2;\n",
              "      height: 32px;\n",
              "      padding: 0 0 0 0;\n",
              "      width: 32px;\n",
              "    }\n",
              "\n",
              "    .colab-df-convert:hover {\n",
              "      background-color: #E2EBFA;\n",
              "      box-shadow: 0px 1px 2px rgba(60, 64, 67, 0.3), 0px 1px 3px 1px rgba(60, 64, 67, 0.15);\n",
              "      fill: #174EA6;\n",
              "    }\n",
              "\n",
              "    [theme=dark] .colab-df-convert {\n",
              "      background-color: #3B4455;\n",
              "      fill: #D2E3FC;\n",
              "    }\n",
              "\n",
              "    [theme=dark] .colab-df-convert:hover {\n",
              "      background-color: #434B5C;\n",
              "      box-shadow: 0px 1px 3px 1px rgba(0, 0, 0, 0.15);\n",
              "      filter: drop-shadow(0px 1px 2px rgba(0, 0, 0, 0.3));\n",
              "      fill: #FFFFFF;\n",
              "    }\n",
              "  </style>\n",
              "\n",
              "      <script>\n",
              "        const buttonEl =\n",
              "          document.querySelector('#df-4f094913-7d28-4128-81e2-ba1a92917662 button.colab-df-convert');\n",
              "        buttonEl.style.display =\n",
              "          google.colab.kernel.accessAllowed ? 'block' : 'none';\n",
              "\n",
              "        async function convertToInteractive(key) {\n",
              "          const element = document.querySelector('#df-4f094913-7d28-4128-81e2-ba1a92917662');\n",
              "          const dataTable =\n",
              "            await google.colab.kernel.invokeFunction('convertToInteractive',\n",
              "                                                     [key], {});\n",
              "          if (!dataTable) return;\n",
              "\n",
              "          const docLinkHtml = 'Like what you see? Visit the ' +\n",
              "            '<a target=\"_blank\" href=https://colab.research.google.com/notebooks/data_table.ipynb>data table notebook</a>'\n",
              "            + ' to learn more about interactive tables.';\n",
              "          element.innerHTML = '';\n",
              "          dataTable['output_type'] = 'display_data';\n",
              "          await google.colab.output.renderOutput(dataTable, element);\n",
              "          const docLink = document.createElement('div');\n",
              "          docLink.innerHTML = docLinkHtml;\n",
              "          element.appendChild(docLink);\n",
              "        }\n",
              "      </script>\n",
              "    </div>\n",
              "  </div>\n",
              "  "
            ]
          },
          "metadata": {},
          "execution_count": 93
        }
      ],
      "source": [
        "df_ext"
      ]
    },
    {
      "cell_type": "markdown",
      "metadata": {
        "id": "OQyBraEA-2JD"
      },
      "source": [
        "####Train set: Top rated books"
      ]
    },
    {
      "cell_type": "code",
      "execution_count": 94,
      "metadata": {
        "id": "ZtN5ouA4mCxw",
        "colab": {
          "base_uri": "https://localhost:8080/",
          "height": 363
        },
        "outputId": "0e63f155-d63b-42c2-aeb7-1c349a828919"
      },
      "outputs": [
        {
          "output_type": "execute_result",
          "data": {
            "text/plain": [
              "        user_id        isbn  book_rating  Avg_Rating  Total_No_Of_Users_Rated  \\\n",
              "113585   193458  0140620125            9    8.133333                       15   \n",
              "113620   193458  0679429220            9    7.794393                      107   \n",
              "113619   193458  0671880314            9    8.305556                       36   \n",
              "113615   193458  0553258001            9    8.236842                       38   \n",
              "113582   193458  0064471101            9    8.729730                       37   \n",
              "113584   193458  0140298479            9    7.539823                      113   \n",
              "113579   193458  0064471071            9    8.733333                       15   \n",
              "113594   193458  0345361792           10    8.607735                      181   \n",
              "113581   193458  0064471098            9    8.733333                       15   \n",
              "113583   193458  014011369X            9    9.125000                        8   \n",
              "\n",
              "                                               book_title  pred_rating  \n",
              "113585       Wuthering Heights (Penguin Popular Classics)          NaN  \n",
              "113620  Midnight in the Garden of Good and Evil: A Sav...          NaN  \n",
              "113619                                   Schindler's List          NaN  \n",
              "113615                              The Cider House Rules          NaN  \n",
              "113582              The Magician's Nephew (rack) (Narnia)          NaN  \n",
              "113584                  Bridget Jones: The Edge of Reason          NaN  \n",
              "113579     The Voyage of the Dawn Treader (rack) (Narnia)          NaN  \n",
              "113594                            A Prayer for Owen Meany          NaN  \n",
              "113581                                   The Silver Chair          NaN  \n",
              "113583  And the Band Played on: Politics, People, and ...          NaN  "
            ],
            "text/html": [
              "\n",
              "  <div id=\"df-546857a8-8f97-43ca-9e60-6fa75bd01549\">\n",
              "    <div class=\"colab-df-container\">\n",
              "      <div>\n",
              "<style scoped>\n",
              "    .dataframe tbody tr th:only-of-type {\n",
              "        vertical-align: middle;\n",
              "    }\n",
              "\n",
              "    .dataframe tbody tr th {\n",
              "        vertical-align: top;\n",
              "    }\n",
              "\n",
              "    .dataframe thead th {\n",
              "        text-align: right;\n",
              "    }\n",
              "</style>\n",
              "<table border=\"1\" class=\"dataframe\">\n",
              "  <thead>\n",
              "    <tr style=\"text-align: right;\">\n",
              "      <th></th>\n",
              "      <th>user_id</th>\n",
              "      <th>isbn</th>\n",
              "      <th>book_rating</th>\n",
              "      <th>Avg_Rating</th>\n",
              "      <th>Total_No_Of_Users_Rated</th>\n",
              "      <th>book_title</th>\n",
              "      <th>pred_rating</th>\n",
              "    </tr>\n",
              "  </thead>\n",
              "  <tbody>\n",
              "    <tr>\n",
              "      <th>113585</th>\n",
              "      <td>193458</td>\n",
              "      <td>0140620125</td>\n",
              "      <td>9</td>\n",
              "      <td>8.133333</td>\n",
              "      <td>15</td>\n",
              "      <td>Wuthering Heights (Penguin Popular Classics)</td>\n",
              "      <td>NaN</td>\n",
              "    </tr>\n",
              "    <tr>\n",
              "      <th>113620</th>\n",
              "      <td>193458</td>\n",
              "      <td>0679429220</td>\n",
              "      <td>9</td>\n",
              "      <td>7.794393</td>\n",
              "      <td>107</td>\n",
              "      <td>Midnight in the Garden of Good and Evil: A Sav...</td>\n",
              "      <td>NaN</td>\n",
              "    </tr>\n",
              "    <tr>\n",
              "      <th>113619</th>\n",
              "      <td>193458</td>\n",
              "      <td>0671880314</td>\n",
              "      <td>9</td>\n",
              "      <td>8.305556</td>\n",
              "      <td>36</td>\n",
              "      <td>Schindler's List</td>\n",
              "      <td>NaN</td>\n",
              "    </tr>\n",
              "    <tr>\n",
              "      <th>113615</th>\n",
              "      <td>193458</td>\n",
              "      <td>0553258001</td>\n",
              "      <td>9</td>\n",
              "      <td>8.236842</td>\n",
              "      <td>38</td>\n",
              "      <td>The Cider House Rules</td>\n",
              "      <td>NaN</td>\n",
              "    </tr>\n",
              "    <tr>\n",
              "      <th>113582</th>\n",
              "      <td>193458</td>\n",
              "      <td>0064471101</td>\n",
              "      <td>9</td>\n",
              "      <td>8.729730</td>\n",
              "      <td>37</td>\n",
              "      <td>The Magician's Nephew (rack) (Narnia)</td>\n",
              "      <td>NaN</td>\n",
              "    </tr>\n",
              "    <tr>\n",
              "      <th>113584</th>\n",
              "      <td>193458</td>\n",
              "      <td>0140298479</td>\n",
              "      <td>9</td>\n",
              "      <td>7.539823</td>\n",
              "      <td>113</td>\n",
              "      <td>Bridget Jones: The Edge of Reason</td>\n",
              "      <td>NaN</td>\n",
              "    </tr>\n",
              "    <tr>\n",
              "      <th>113579</th>\n",
              "      <td>193458</td>\n",
              "      <td>0064471071</td>\n",
              "      <td>9</td>\n",
              "      <td>8.733333</td>\n",
              "      <td>15</td>\n",
              "      <td>The Voyage of the Dawn Treader (rack) (Narnia)</td>\n",
              "      <td>NaN</td>\n",
              "    </tr>\n",
              "    <tr>\n",
              "      <th>113594</th>\n",
              "      <td>193458</td>\n",
              "      <td>0345361792</td>\n",
              "      <td>10</td>\n",
              "      <td>8.607735</td>\n",
              "      <td>181</td>\n",
              "      <td>A Prayer for Owen Meany</td>\n",
              "      <td>NaN</td>\n",
              "    </tr>\n",
              "    <tr>\n",
              "      <th>113581</th>\n",
              "      <td>193458</td>\n",
              "      <td>0064471098</td>\n",
              "      <td>9</td>\n",
              "      <td>8.733333</td>\n",
              "      <td>15</td>\n",
              "      <td>The Silver Chair</td>\n",
              "      <td>NaN</td>\n",
              "    </tr>\n",
              "    <tr>\n",
              "      <th>113583</th>\n",
              "      <td>193458</td>\n",
              "      <td>014011369X</td>\n",
              "      <td>9</td>\n",
              "      <td>9.125000</td>\n",
              "      <td>8</td>\n",
              "      <td>And the Band Played on: Politics, People, and ...</td>\n",
              "      <td>NaN</td>\n",
              "    </tr>\n",
              "  </tbody>\n",
              "</table>\n",
              "</div>\n",
              "      <button class=\"colab-df-convert\" onclick=\"convertToInteractive('df-546857a8-8f97-43ca-9e60-6fa75bd01549')\"\n",
              "              title=\"Convert this dataframe to an interactive table.\"\n",
              "              style=\"display:none;\">\n",
              "        \n",
              "  <svg xmlns=\"http://www.w3.org/2000/svg\" height=\"24px\"viewBox=\"0 0 24 24\"\n",
              "       width=\"24px\">\n",
              "    <path d=\"M0 0h24v24H0V0z\" fill=\"none\"/>\n",
              "    <path d=\"M18.56 5.44l.94 2.06.94-2.06 2.06-.94-2.06-.94-.94-2.06-.94 2.06-2.06.94zm-11 1L8.5 8.5l.94-2.06 2.06-.94-2.06-.94L8.5 2.5l-.94 2.06-2.06.94zm10 10l.94 2.06.94-2.06 2.06-.94-2.06-.94-.94-2.06-.94 2.06-2.06.94z\"/><path d=\"M17.41 7.96l-1.37-1.37c-.4-.4-.92-.59-1.43-.59-.52 0-1.04.2-1.43.59L10.3 9.45l-7.72 7.72c-.78.78-.78 2.05 0 2.83L4 21.41c.39.39.9.59 1.41.59.51 0 1.02-.2 1.41-.59l7.78-7.78 2.81-2.81c.8-.78.8-2.07 0-2.86zM5.41 20L4 18.59l7.72-7.72 1.47 1.35L5.41 20z\"/>\n",
              "  </svg>\n",
              "      </button>\n",
              "      \n",
              "  <style>\n",
              "    .colab-df-container {\n",
              "      display:flex;\n",
              "      flex-wrap:wrap;\n",
              "      gap: 12px;\n",
              "    }\n",
              "\n",
              "    .colab-df-convert {\n",
              "      background-color: #E8F0FE;\n",
              "      border: none;\n",
              "      border-radius: 50%;\n",
              "      cursor: pointer;\n",
              "      display: none;\n",
              "      fill: #1967D2;\n",
              "      height: 32px;\n",
              "      padding: 0 0 0 0;\n",
              "      width: 32px;\n",
              "    }\n",
              "\n",
              "    .colab-df-convert:hover {\n",
              "      background-color: #E2EBFA;\n",
              "      box-shadow: 0px 1px 2px rgba(60, 64, 67, 0.3), 0px 1px 3px 1px rgba(60, 64, 67, 0.15);\n",
              "      fill: #174EA6;\n",
              "    }\n",
              "\n",
              "    [theme=dark] .colab-df-convert {\n",
              "      background-color: #3B4455;\n",
              "      fill: #D2E3FC;\n",
              "    }\n",
              "\n",
              "    [theme=dark] .colab-df-convert:hover {\n",
              "      background-color: #434B5C;\n",
              "      box-shadow: 0px 1px 3px 1px rgba(0, 0, 0, 0.15);\n",
              "      filter: drop-shadow(0px 1px 2px rgba(0, 0, 0, 0.3));\n",
              "      fill: #FFFFFF;\n",
              "    }\n",
              "  </style>\n",
              "\n",
              "      <script>\n",
              "        const buttonEl =\n",
              "          document.querySelector('#df-546857a8-8f97-43ca-9e60-6fa75bd01549 button.colab-df-convert');\n",
              "        buttonEl.style.display =\n",
              "          google.colab.kernel.accessAllowed ? 'block' : 'none';\n",
              "\n",
              "        async function convertToInteractive(key) {\n",
              "          const element = document.querySelector('#df-546857a8-8f97-43ca-9e60-6fa75bd01549');\n",
              "          const dataTable =\n",
              "            await google.colab.kernel.invokeFunction('convertToInteractive',\n",
              "                                                     [key], {});\n",
              "          if (!dataTable) return;\n",
              "\n",
              "          const docLinkHtml = 'Like what you see? Visit the ' +\n",
              "            '<a target=\"_blank\" href=https://colab.research.google.com/notebooks/data_table.ipynb>data table notebook</a>'\n",
              "            + ' to learn more about interactive tables.';\n",
              "          element.innerHTML = '';\n",
              "          dataTable['output_type'] = 'display_data';\n",
              "          await google.colab.output.renderOutput(dataTable, element);\n",
              "          const docLink = document.createElement('div');\n",
              "          docLink.innerHTML = docLinkHtml;\n",
              "          element.appendChild(docLink);\n",
              "        }\n",
              "      </script>\n",
              "    </div>\n",
              "  </div>\n",
              "  "
            ]
          },
          "metadata": {},
          "execution_count": 94
        }
      ],
      "source": [
        "selected_user_id = 193458\n",
        "df_user = df_ext[df_ext['user_id']==selected_user_id]\n",
        "\n",
        "df_user[(df_user['pred_rating'].isna())&(df_user['book_rating']>=9)].sample(10)"
      ]
    },
    {
      "cell_type": "code",
      "execution_count": 95,
      "metadata": {
        "id": "9Z6Elu6HmDfa",
        "colab": {
          "base_uri": "https://localhost:8080/",
          "height": 424
        },
        "outputId": "66d2e7c8-1f07-4b8b-ebb0-aff8471c1e3b"
      },
      "outputs": [
        {
          "output_type": "execute_result",
          "data": {
            "text/plain": [
              "       user_id        isbn  actual_rating  pred_rating  impossible  \\\n",
              "0       176807  0440225825            9.0     7.943818       False   \n",
              "1        36693  0312422156            3.0     7.738876       False   \n",
              "2       201141  0553377876            7.0     7.021085       False   \n",
              "3       184299  0451170385            9.0     8.020177       False   \n",
              "4        72636  0345378482            7.0     7.210430       False   \n",
              "...        ...         ...            ...          ...         ...   \n",
              "32153   156438  0345361792            8.0     8.332965       False   \n",
              "32154   193898  055357695X            9.0     7.828250       False   \n",
              "32155   163804  0451202244            8.0     7.007131       False   \n",
              "32156    12619  0316601950            5.0     7.319473       False   \n",
              "32157   165884  0380724979            5.0     6.871770       False   \n",
              "\n",
              "       pred_rating_round   abs_err  \n",
              "0                    8.0  1.056182  \n",
              "1                    8.0  4.738876  \n",
              "2                    7.0  0.021085  \n",
              "3                    8.0  0.979823  \n",
              "4                    7.0  0.210430  \n",
              "...                  ...       ...  \n",
              "32153                8.0  0.332965  \n",
              "32154                8.0  1.171750  \n",
              "32155                7.0  0.992869  \n",
              "32156                7.0  2.319473  \n",
              "32157                7.0  1.871770  \n",
              "\n",
              "[32158 rows x 7 columns]"
            ],
            "text/html": [
              "\n",
              "  <div id=\"df-74653906-efbf-4a74-b6d7-4b770cbfb9dd\">\n",
              "    <div class=\"colab-df-container\">\n",
              "      <div>\n",
              "<style scoped>\n",
              "    .dataframe tbody tr th:only-of-type {\n",
              "        vertical-align: middle;\n",
              "    }\n",
              "\n",
              "    .dataframe tbody tr th {\n",
              "        vertical-align: top;\n",
              "    }\n",
              "\n",
              "    .dataframe thead th {\n",
              "        text-align: right;\n",
              "    }\n",
              "</style>\n",
              "<table border=\"1\" class=\"dataframe\">\n",
              "  <thead>\n",
              "    <tr style=\"text-align: right;\">\n",
              "      <th></th>\n",
              "      <th>user_id</th>\n",
              "      <th>isbn</th>\n",
              "      <th>actual_rating</th>\n",
              "      <th>pred_rating</th>\n",
              "      <th>impossible</th>\n",
              "      <th>pred_rating_round</th>\n",
              "      <th>abs_err</th>\n",
              "    </tr>\n",
              "  </thead>\n",
              "  <tbody>\n",
              "    <tr>\n",
              "      <th>0</th>\n",
              "      <td>176807</td>\n",
              "      <td>0440225825</td>\n",
              "      <td>9.0</td>\n",
              "      <td>7.943818</td>\n",
              "      <td>False</td>\n",
              "      <td>8.0</td>\n",
              "      <td>1.056182</td>\n",
              "    </tr>\n",
              "    <tr>\n",
              "      <th>1</th>\n",
              "      <td>36693</td>\n",
              "      <td>0312422156</td>\n",
              "      <td>3.0</td>\n",
              "      <td>7.738876</td>\n",
              "      <td>False</td>\n",
              "      <td>8.0</td>\n",
              "      <td>4.738876</td>\n",
              "    </tr>\n",
              "    <tr>\n",
              "      <th>2</th>\n",
              "      <td>201141</td>\n",
              "      <td>0553377876</td>\n",
              "      <td>7.0</td>\n",
              "      <td>7.021085</td>\n",
              "      <td>False</td>\n",
              "      <td>7.0</td>\n",
              "      <td>0.021085</td>\n",
              "    </tr>\n",
              "    <tr>\n",
              "      <th>3</th>\n",
              "      <td>184299</td>\n",
              "      <td>0451170385</td>\n",
              "      <td>9.0</td>\n",
              "      <td>8.020177</td>\n",
              "      <td>False</td>\n",
              "      <td>8.0</td>\n",
              "      <td>0.979823</td>\n",
              "    </tr>\n",
              "    <tr>\n",
              "      <th>4</th>\n",
              "      <td>72636</td>\n",
              "      <td>0345378482</td>\n",
              "      <td>7.0</td>\n",
              "      <td>7.210430</td>\n",
              "      <td>False</td>\n",
              "      <td>7.0</td>\n",
              "      <td>0.210430</td>\n",
              "    </tr>\n",
              "    <tr>\n",
              "      <th>...</th>\n",
              "      <td>...</td>\n",
              "      <td>...</td>\n",
              "      <td>...</td>\n",
              "      <td>...</td>\n",
              "      <td>...</td>\n",
              "      <td>...</td>\n",
              "      <td>...</td>\n",
              "    </tr>\n",
              "    <tr>\n",
              "      <th>32153</th>\n",
              "      <td>156438</td>\n",
              "      <td>0345361792</td>\n",
              "      <td>8.0</td>\n",
              "      <td>8.332965</td>\n",
              "      <td>False</td>\n",
              "      <td>8.0</td>\n",
              "      <td>0.332965</td>\n",
              "    </tr>\n",
              "    <tr>\n",
              "      <th>32154</th>\n",
              "      <td>193898</td>\n",
              "      <td>055357695X</td>\n",
              "      <td>9.0</td>\n",
              "      <td>7.828250</td>\n",
              "      <td>False</td>\n",
              "      <td>8.0</td>\n",
              "      <td>1.171750</td>\n",
              "    </tr>\n",
              "    <tr>\n",
              "      <th>32155</th>\n",
              "      <td>163804</td>\n",
              "      <td>0451202244</td>\n",
              "      <td>8.0</td>\n",
              "      <td>7.007131</td>\n",
              "      <td>False</td>\n",
              "      <td>7.0</td>\n",
              "      <td>0.992869</td>\n",
              "    </tr>\n",
              "    <tr>\n",
              "      <th>32156</th>\n",
              "      <td>12619</td>\n",
              "      <td>0316601950</td>\n",
              "      <td>5.0</td>\n",
              "      <td>7.319473</td>\n",
              "      <td>False</td>\n",
              "      <td>7.0</td>\n",
              "      <td>2.319473</td>\n",
              "    </tr>\n",
              "    <tr>\n",
              "      <th>32157</th>\n",
              "      <td>165884</td>\n",
              "      <td>0380724979</td>\n",
              "      <td>5.0</td>\n",
              "      <td>6.871770</td>\n",
              "      <td>False</td>\n",
              "      <td>7.0</td>\n",
              "      <td>1.871770</td>\n",
              "    </tr>\n",
              "  </tbody>\n",
              "</table>\n",
              "<p>32158 rows × 7 columns</p>\n",
              "</div>\n",
              "      <button class=\"colab-df-convert\" onclick=\"convertToInteractive('df-74653906-efbf-4a74-b6d7-4b770cbfb9dd')\"\n",
              "              title=\"Convert this dataframe to an interactive table.\"\n",
              "              style=\"display:none;\">\n",
              "        \n",
              "  <svg xmlns=\"http://www.w3.org/2000/svg\" height=\"24px\"viewBox=\"0 0 24 24\"\n",
              "       width=\"24px\">\n",
              "    <path d=\"M0 0h24v24H0V0z\" fill=\"none\"/>\n",
              "    <path d=\"M18.56 5.44l.94 2.06.94-2.06 2.06-.94-2.06-.94-.94-2.06-.94 2.06-2.06.94zm-11 1L8.5 8.5l.94-2.06 2.06-.94-2.06-.94L8.5 2.5l-.94 2.06-2.06.94zm10 10l.94 2.06.94-2.06 2.06-.94-2.06-.94-.94-2.06-.94 2.06-2.06.94z\"/><path d=\"M17.41 7.96l-1.37-1.37c-.4-.4-.92-.59-1.43-.59-.52 0-1.04.2-1.43.59L10.3 9.45l-7.72 7.72c-.78.78-.78 2.05 0 2.83L4 21.41c.39.39.9.59 1.41.59.51 0 1.02-.2 1.41-.59l7.78-7.78 2.81-2.81c.8-.78.8-2.07 0-2.86zM5.41 20L4 18.59l7.72-7.72 1.47 1.35L5.41 20z\"/>\n",
              "  </svg>\n",
              "      </button>\n",
              "      \n",
              "  <style>\n",
              "    .colab-df-container {\n",
              "      display:flex;\n",
              "      flex-wrap:wrap;\n",
              "      gap: 12px;\n",
              "    }\n",
              "\n",
              "    .colab-df-convert {\n",
              "      background-color: #E8F0FE;\n",
              "      border: none;\n",
              "      border-radius: 50%;\n",
              "      cursor: pointer;\n",
              "      display: none;\n",
              "      fill: #1967D2;\n",
              "      height: 32px;\n",
              "      padding: 0 0 0 0;\n",
              "      width: 32px;\n",
              "    }\n",
              "\n",
              "    .colab-df-convert:hover {\n",
              "      background-color: #E2EBFA;\n",
              "      box-shadow: 0px 1px 2px rgba(60, 64, 67, 0.3), 0px 1px 3px 1px rgba(60, 64, 67, 0.15);\n",
              "      fill: #174EA6;\n",
              "    }\n",
              "\n",
              "    [theme=dark] .colab-df-convert {\n",
              "      background-color: #3B4455;\n",
              "      fill: #D2E3FC;\n",
              "    }\n",
              "\n",
              "    [theme=dark] .colab-df-convert:hover {\n",
              "      background-color: #434B5C;\n",
              "      box-shadow: 0px 1px 3px 1px rgba(0, 0, 0, 0.15);\n",
              "      filter: drop-shadow(0px 1px 2px rgba(0, 0, 0, 0.3));\n",
              "      fill: #FFFFFF;\n",
              "    }\n",
              "  </style>\n",
              "\n",
              "      <script>\n",
              "        const buttonEl =\n",
              "          document.querySelector('#df-74653906-efbf-4a74-b6d7-4b770cbfb9dd button.colab-df-convert');\n",
              "        buttonEl.style.display =\n",
              "          google.colab.kernel.accessAllowed ? 'block' : 'none';\n",
              "\n",
              "        async function convertToInteractive(key) {\n",
              "          const element = document.querySelector('#df-74653906-efbf-4a74-b6d7-4b770cbfb9dd');\n",
              "          const dataTable =\n",
              "            await google.colab.kernel.invokeFunction('convertToInteractive',\n",
              "                                                     [key], {});\n",
              "          if (!dataTable) return;\n",
              "\n",
              "          const docLinkHtml = 'Like what you see? Visit the ' +\n",
              "            '<a target=\"_blank\" href=https://colab.research.google.com/notebooks/data_table.ipynb>data table notebook</a>'\n",
              "            + ' to learn more about interactive tables.';\n",
              "          element.innerHTML = '';\n",
              "          dataTable['output_type'] = 'display_data';\n",
              "          await google.colab.output.renderOutput(dataTable, element);\n",
              "          const docLink = document.createElement('div');\n",
              "          docLink.innerHTML = docLinkHtml;\n",
              "          element.appendChild(docLink);\n",
              "        }\n",
              "      </script>\n",
              "    </div>\n",
              "  </div>\n",
              "  "
            ]
          },
          "metadata": {},
          "execution_count": 95
        }
      ],
      "source": [
        "df_pred"
      ]
    },
    {
      "cell_type": "markdown",
      "metadata": {
        "id": "V7glDYtzAgel"
      },
      "source": [
        "###Test set: Top rated books"
      ]
    },
    {
      "cell_type": "markdown",
      "metadata": {
        "id": "09Md0tLf_JU8"
      },
      "source": [
        "\n",
        "####Test set: predicted top rated books"
      ]
    },
    {
      "cell_type": "code",
      "execution_count": 96,
      "metadata": {
        "id": "v-RJHh3gmHkT",
        "colab": {
          "base_uri": "https://localhost:8080/",
          "height": 206
        },
        "outputId": "bf828068-49b0-44c4-ef76-91f0325c129c"
      },
      "outputs": [
        {
          "output_type": "execute_result",
          "data": {
            "text/plain": [
              "        user_id        isbn  book_rating  Avg_Rating  Total_No_Of_Users_Rated  \\\n",
              "113576   193458  0064471047            9    8.714286                       42   \n",
              "113587   193458  0142001740            9    8.452769                      307   \n",
              "113580   193458  006447108X            9    8.833333                       18   \n",
              "113577   193458  0064471055            9    8.545455                       22   \n",
              "113630   193458  1853260169           10    8.153846                       13   \n",
              "\n",
              "                                               book_title  pred_rating  \n",
              "113576  The Lion, the Witch, and the Wardrobe (The Chr...     8.474332  \n",
              "113587                            The Secret Life of Bees     8.310427  \n",
              "113580                                    The Last Battle     8.143580  \n",
              "113577  Prince Caspian (rack) : The Return to Narnia (...     8.101971  \n",
              "113630        Sense and Sensibility (Wordsworth Classics)     8.034770  "
            ],
            "text/html": [
              "\n",
              "  <div id=\"df-2ec0e9f9-ee09-49eb-afe0-26a19af78a4e\">\n",
              "    <div class=\"colab-df-container\">\n",
              "      <div>\n",
              "<style scoped>\n",
              "    .dataframe tbody tr th:only-of-type {\n",
              "        vertical-align: middle;\n",
              "    }\n",
              "\n",
              "    .dataframe tbody tr th {\n",
              "        vertical-align: top;\n",
              "    }\n",
              "\n",
              "    .dataframe thead th {\n",
              "        text-align: right;\n",
              "    }\n",
              "</style>\n",
              "<table border=\"1\" class=\"dataframe\">\n",
              "  <thead>\n",
              "    <tr style=\"text-align: right;\">\n",
              "      <th></th>\n",
              "      <th>user_id</th>\n",
              "      <th>isbn</th>\n",
              "      <th>book_rating</th>\n",
              "      <th>Avg_Rating</th>\n",
              "      <th>Total_No_Of_Users_Rated</th>\n",
              "      <th>book_title</th>\n",
              "      <th>pred_rating</th>\n",
              "    </tr>\n",
              "  </thead>\n",
              "  <tbody>\n",
              "    <tr>\n",
              "      <th>113576</th>\n",
              "      <td>193458</td>\n",
              "      <td>0064471047</td>\n",
              "      <td>9</td>\n",
              "      <td>8.714286</td>\n",
              "      <td>42</td>\n",
              "      <td>The Lion, the Witch, and the Wardrobe (The Chr...</td>\n",
              "      <td>8.474332</td>\n",
              "    </tr>\n",
              "    <tr>\n",
              "      <th>113587</th>\n",
              "      <td>193458</td>\n",
              "      <td>0142001740</td>\n",
              "      <td>9</td>\n",
              "      <td>8.452769</td>\n",
              "      <td>307</td>\n",
              "      <td>The Secret Life of Bees</td>\n",
              "      <td>8.310427</td>\n",
              "    </tr>\n",
              "    <tr>\n",
              "      <th>113580</th>\n",
              "      <td>193458</td>\n",
              "      <td>006447108X</td>\n",
              "      <td>9</td>\n",
              "      <td>8.833333</td>\n",
              "      <td>18</td>\n",
              "      <td>The Last Battle</td>\n",
              "      <td>8.143580</td>\n",
              "    </tr>\n",
              "    <tr>\n",
              "      <th>113577</th>\n",
              "      <td>193458</td>\n",
              "      <td>0064471055</td>\n",
              "      <td>9</td>\n",
              "      <td>8.545455</td>\n",
              "      <td>22</td>\n",
              "      <td>Prince Caspian (rack) : The Return to Narnia (...</td>\n",
              "      <td>8.101971</td>\n",
              "    </tr>\n",
              "    <tr>\n",
              "      <th>113630</th>\n",
              "      <td>193458</td>\n",
              "      <td>1853260169</td>\n",
              "      <td>10</td>\n",
              "      <td>8.153846</td>\n",
              "      <td>13</td>\n",
              "      <td>Sense and Sensibility (Wordsworth Classics)</td>\n",
              "      <td>8.034770</td>\n",
              "    </tr>\n",
              "  </tbody>\n",
              "</table>\n",
              "</div>\n",
              "      <button class=\"colab-df-convert\" onclick=\"convertToInteractive('df-2ec0e9f9-ee09-49eb-afe0-26a19af78a4e')\"\n",
              "              title=\"Convert this dataframe to an interactive table.\"\n",
              "              style=\"display:none;\">\n",
              "        \n",
              "  <svg xmlns=\"http://www.w3.org/2000/svg\" height=\"24px\"viewBox=\"0 0 24 24\"\n",
              "       width=\"24px\">\n",
              "    <path d=\"M0 0h24v24H0V0z\" fill=\"none\"/>\n",
              "    <path d=\"M18.56 5.44l.94 2.06.94-2.06 2.06-.94-2.06-.94-.94-2.06-.94 2.06-2.06.94zm-11 1L8.5 8.5l.94-2.06 2.06-.94-2.06-.94L8.5 2.5l-.94 2.06-2.06.94zm10 10l.94 2.06.94-2.06 2.06-.94-2.06-.94-.94-2.06-.94 2.06-2.06.94z\"/><path d=\"M17.41 7.96l-1.37-1.37c-.4-.4-.92-.59-1.43-.59-.52 0-1.04.2-1.43.59L10.3 9.45l-7.72 7.72c-.78.78-.78 2.05 0 2.83L4 21.41c.39.39.9.59 1.41.59.51 0 1.02-.2 1.41-.59l7.78-7.78 2.81-2.81c.8-.78.8-2.07 0-2.86zM5.41 20L4 18.59l7.72-7.72 1.47 1.35L5.41 20z\"/>\n",
              "  </svg>\n",
              "      </button>\n",
              "      \n",
              "  <style>\n",
              "    .colab-df-container {\n",
              "      display:flex;\n",
              "      flex-wrap:wrap;\n",
              "      gap: 12px;\n",
              "    }\n",
              "\n",
              "    .colab-df-convert {\n",
              "      background-color: #E8F0FE;\n",
              "      border: none;\n",
              "      border-radius: 50%;\n",
              "      cursor: pointer;\n",
              "      display: none;\n",
              "      fill: #1967D2;\n",
              "      height: 32px;\n",
              "      padding: 0 0 0 0;\n",
              "      width: 32px;\n",
              "    }\n",
              "\n",
              "    .colab-df-convert:hover {\n",
              "      background-color: #E2EBFA;\n",
              "      box-shadow: 0px 1px 2px rgba(60, 64, 67, 0.3), 0px 1px 3px 1px rgba(60, 64, 67, 0.15);\n",
              "      fill: #174EA6;\n",
              "    }\n",
              "\n",
              "    [theme=dark] .colab-df-convert {\n",
              "      background-color: #3B4455;\n",
              "      fill: #D2E3FC;\n",
              "    }\n",
              "\n",
              "    [theme=dark] .colab-df-convert:hover {\n",
              "      background-color: #434B5C;\n",
              "      box-shadow: 0px 1px 3px 1px rgba(0, 0, 0, 0.15);\n",
              "      filter: drop-shadow(0px 1px 2px rgba(0, 0, 0, 0.3));\n",
              "      fill: #FFFFFF;\n",
              "    }\n",
              "  </style>\n",
              "\n",
              "      <script>\n",
              "        const buttonEl =\n",
              "          document.querySelector('#df-2ec0e9f9-ee09-49eb-afe0-26a19af78a4e button.colab-df-convert');\n",
              "        buttonEl.style.display =\n",
              "          google.colab.kernel.accessAllowed ? 'block' : 'none';\n",
              "\n",
              "        async function convertToInteractive(key) {\n",
              "          const element = document.querySelector('#df-2ec0e9f9-ee09-49eb-afe0-26a19af78a4e');\n",
              "          const dataTable =\n",
              "            await google.colab.kernel.invokeFunction('convertToInteractive',\n",
              "                                                     [key], {});\n",
              "          if (!dataTable) return;\n",
              "\n",
              "          const docLinkHtml = 'Like what you see? Visit the ' +\n",
              "            '<a target=\"_blank\" href=https://colab.research.google.com/notebooks/data_table.ipynb>data table notebook</a>'\n",
              "            + ' to learn more about interactive tables.';\n",
              "          element.innerHTML = '';\n",
              "          dataTable['output_type'] = 'display_data';\n",
              "          await google.colab.output.renderOutput(dataTable, element);\n",
              "          const docLink = document.createElement('div');\n",
              "          docLink.innerHTML = docLinkHtml;\n",
              "          element.appendChild(docLink);\n",
              "        }\n",
              "      </script>\n",
              "    </div>\n",
              "  </div>\n",
              "  "
            ]
          },
          "metadata": {},
          "execution_count": 96
        }
      ],
      "source": [
        "df_user[df_user['pred_rating'].notna()].sort_values('pred_rating', ascending=False).head(5)"
      ]
    },
    {
      "cell_type": "markdown",
      "metadata": {
        "id": "DsWkikT8_TDN"
      },
      "source": [
        "####Test set: actual top rated books"
      ]
    },
    {
      "cell_type": "code",
      "execution_count": 97,
      "metadata": {
        "id": "xUBea4egmUyn",
        "colab": {
          "base_uri": "https://localhost:8080/",
          "height": 206
        },
        "outputId": "9ce1df49-43e5-44eb-a834-03465cbee6da"
      },
      "outputs": [
        {
          "output_type": "execute_result",
          "data": {
            "text/plain": [
              "        user_id        isbn  book_rating  Avg_Rating  Total_No_Of_Users_Rated  \\\n",
              "113630   193458  1853260169           10    8.153846                       13   \n",
              "113576   193458  0064471047            9    8.714286                       42   \n",
              "113577   193458  0064471055            9    8.545455                       22   \n",
              "113580   193458  006447108X            9    8.833333                       18   \n",
              "113587   193458  0142001740            9    8.452769                      307   \n",
              "\n",
              "                                               book_title  pred_rating  \n",
              "113630        Sense and Sensibility (Wordsworth Classics)     8.034770  \n",
              "113576  The Lion, the Witch, and the Wardrobe (The Chr...     8.474332  \n",
              "113577  Prince Caspian (rack) : The Return to Narnia (...     8.101971  \n",
              "113580                                    The Last Battle     8.143580  \n",
              "113587                            The Secret Life of Bees     8.310427  "
            ],
            "text/html": [
              "\n",
              "  <div id=\"df-48f6daa3-ce86-40b6-95eb-28014ec16856\">\n",
              "    <div class=\"colab-df-container\">\n",
              "      <div>\n",
              "<style scoped>\n",
              "    .dataframe tbody tr th:only-of-type {\n",
              "        vertical-align: middle;\n",
              "    }\n",
              "\n",
              "    .dataframe tbody tr th {\n",
              "        vertical-align: top;\n",
              "    }\n",
              "\n",
              "    .dataframe thead th {\n",
              "        text-align: right;\n",
              "    }\n",
              "</style>\n",
              "<table border=\"1\" class=\"dataframe\">\n",
              "  <thead>\n",
              "    <tr style=\"text-align: right;\">\n",
              "      <th></th>\n",
              "      <th>user_id</th>\n",
              "      <th>isbn</th>\n",
              "      <th>book_rating</th>\n",
              "      <th>Avg_Rating</th>\n",
              "      <th>Total_No_Of_Users_Rated</th>\n",
              "      <th>book_title</th>\n",
              "      <th>pred_rating</th>\n",
              "    </tr>\n",
              "  </thead>\n",
              "  <tbody>\n",
              "    <tr>\n",
              "      <th>113630</th>\n",
              "      <td>193458</td>\n",
              "      <td>1853260169</td>\n",
              "      <td>10</td>\n",
              "      <td>8.153846</td>\n",
              "      <td>13</td>\n",
              "      <td>Sense and Sensibility (Wordsworth Classics)</td>\n",
              "      <td>8.034770</td>\n",
              "    </tr>\n",
              "    <tr>\n",
              "      <th>113576</th>\n",
              "      <td>193458</td>\n",
              "      <td>0064471047</td>\n",
              "      <td>9</td>\n",
              "      <td>8.714286</td>\n",
              "      <td>42</td>\n",
              "      <td>The Lion, the Witch, and the Wardrobe (The Chr...</td>\n",
              "      <td>8.474332</td>\n",
              "    </tr>\n",
              "    <tr>\n",
              "      <th>113577</th>\n",
              "      <td>193458</td>\n",
              "      <td>0064471055</td>\n",
              "      <td>9</td>\n",
              "      <td>8.545455</td>\n",
              "      <td>22</td>\n",
              "      <td>Prince Caspian (rack) : The Return to Narnia (...</td>\n",
              "      <td>8.101971</td>\n",
              "    </tr>\n",
              "    <tr>\n",
              "      <th>113580</th>\n",
              "      <td>193458</td>\n",
              "      <td>006447108X</td>\n",
              "      <td>9</td>\n",
              "      <td>8.833333</td>\n",
              "      <td>18</td>\n",
              "      <td>The Last Battle</td>\n",
              "      <td>8.143580</td>\n",
              "    </tr>\n",
              "    <tr>\n",
              "      <th>113587</th>\n",
              "      <td>193458</td>\n",
              "      <td>0142001740</td>\n",
              "      <td>9</td>\n",
              "      <td>8.452769</td>\n",
              "      <td>307</td>\n",
              "      <td>The Secret Life of Bees</td>\n",
              "      <td>8.310427</td>\n",
              "    </tr>\n",
              "  </tbody>\n",
              "</table>\n",
              "</div>\n",
              "      <button class=\"colab-df-convert\" onclick=\"convertToInteractive('df-48f6daa3-ce86-40b6-95eb-28014ec16856')\"\n",
              "              title=\"Convert this dataframe to an interactive table.\"\n",
              "              style=\"display:none;\">\n",
              "        \n",
              "  <svg xmlns=\"http://www.w3.org/2000/svg\" height=\"24px\"viewBox=\"0 0 24 24\"\n",
              "       width=\"24px\">\n",
              "    <path d=\"M0 0h24v24H0V0z\" fill=\"none\"/>\n",
              "    <path d=\"M18.56 5.44l.94 2.06.94-2.06 2.06-.94-2.06-.94-.94-2.06-.94 2.06-2.06.94zm-11 1L8.5 8.5l.94-2.06 2.06-.94-2.06-.94L8.5 2.5l-.94 2.06-2.06.94zm10 10l.94 2.06.94-2.06 2.06-.94-2.06-.94-.94-2.06-.94 2.06-2.06.94z\"/><path d=\"M17.41 7.96l-1.37-1.37c-.4-.4-.92-.59-1.43-.59-.52 0-1.04.2-1.43.59L10.3 9.45l-7.72 7.72c-.78.78-.78 2.05 0 2.83L4 21.41c.39.39.9.59 1.41.59.51 0 1.02-.2 1.41-.59l7.78-7.78 2.81-2.81c.8-.78.8-2.07 0-2.86zM5.41 20L4 18.59l7.72-7.72 1.47 1.35L5.41 20z\"/>\n",
              "  </svg>\n",
              "      </button>\n",
              "      \n",
              "  <style>\n",
              "    .colab-df-container {\n",
              "      display:flex;\n",
              "      flex-wrap:wrap;\n",
              "      gap: 12px;\n",
              "    }\n",
              "\n",
              "    .colab-df-convert {\n",
              "      background-color: #E8F0FE;\n",
              "      border: none;\n",
              "      border-radius: 50%;\n",
              "      cursor: pointer;\n",
              "      display: none;\n",
              "      fill: #1967D2;\n",
              "      height: 32px;\n",
              "      padding: 0 0 0 0;\n",
              "      width: 32px;\n",
              "    }\n",
              "\n",
              "    .colab-df-convert:hover {\n",
              "      background-color: #E2EBFA;\n",
              "      box-shadow: 0px 1px 2px rgba(60, 64, 67, 0.3), 0px 1px 3px 1px rgba(60, 64, 67, 0.15);\n",
              "      fill: #174EA6;\n",
              "    }\n",
              "\n",
              "    [theme=dark] .colab-df-convert {\n",
              "      background-color: #3B4455;\n",
              "      fill: #D2E3FC;\n",
              "    }\n",
              "\n",
              "    [theme=dark] .colab-df-convert:hover {\n",
              "      background-color: #434B5C;\n",
              "      box-shadow: 0px 1px 3px 1px rgba(0, 0, 0, 0.15);\n",
              "      filter: drop-shadow(0px 1px 2px rgba(0, 0, 0, 0.3));\n",
              "      fill: #FFFFFF;\n",
              "    }\n",
              "  </style>\n",
              "\n",
              "      <script>\n",
              "        const buttonEl =\n",
              "          document.querySelector('#df-48f6daa3-ce86-40b6-95eb-28014ec16856 button.colab-df-convert');\n",
              "        buttonEl.style.display =\n",
              "          google.colab.kernel.accessAllowed ? 'block' : 'none';\n",
              "\n",
              "        async function convertToInteractive(key) {\n",
              "          const element = document.querySelector('#df-48f6daa3-ce86-40b6-95eb-28014ec16856');\n",
              "          const dataTable =\n",
              "            await google.colab.kernel.invokeFunction('convertToInteractive',\n",
              "                                                     [key], {});\n",
              "          if (!dataTable) return;\n",
              "\n",
              "          const docLinkHtml = 'Like what you see? Visit the ' +\n",
              "            '<a target=\"_blank\" href=https://colab.research.google.com/notebooks/data_table.ipynb>data table notebook</a>'\n",
              "            + ' to learn more about interactive tables.';\n",
              "          element.innerHTML = '';\n",
              "          dataTable['output_type'] = 'display_data';\n",
              "          await google.colab.output.renderOutput(dataTable, element);\n",
              "          const docLink = document.createElement('div');\n",
              "          docLink.innerHTML = docLinkHtml;\n",
              "          element.appendChild(docLink);\n",
              "        }\n",
              "      </script>\n",
              "    </div>\n",
              "  </div>\n",
              "  "
            ]
          },
          "metadata": {},
          "execution_count": 97
        }
      ],
      "source": [
        "df_user[df_user['pred_rating'].notna()].sort_values('book_rating', ascending=False).head(5)"
      ]
    },
    {
      "cell_type": "markdown",
      "metadata": {
        "id": "9Cjqxr6qVvgY"
      },
      "source": [
        "#**Content Based Filtering Recommender**\n",
        "\n",
        "For Content Based Book Recommendation we have to use NLP techniques like Keyword extraction -> Extract keywords from title Cosine Similarity -> Find cosine similarity between all book titles.\n",
        "\n",
        "Keyword Extraction- Keyword extraction is automatic detection of terms that best describe the subject of a document.\n",
        "\n",
        "For keyword extraction we try both of the below,\n",
        "\n",
        "**CountVectorizer** - Provides a simple way to both tokenize a collection of text documents and build a vocabulary of known words, but also to encode new documents using that vocabulary.\n",
        "\n",
        "**Tf-Idf Vectorizer** - Tf-Idf finds the no. of times a word occurs in a document and then compares this count to the no. of times the word shows up in a bunch of other documents in a collection. It then generates a rank for each word where it is important to a document if it shows up a lot in that particular document but doesn’t show up a lot in all the other documents. \n",
        "\n",
        "First we will use CountVectorizer as we want to extract keywords just from book titles."
      ]
    },
    {
      "cell_type": "markdown",
      "metadata": {
        "id": "l3h9WckLP3fH"
      },
      "source": [
        "Let's Take only first 10K rows so our server wouldn't be crashed during processing"
      ]
    },
    {
      "cell_type": "code",
      "execution_count": 101,
      "metadata": {
        "id": "LEG-7sccOMRQ"
      },
      "outputs": [],
      "source": [
        "#Make a new book df with the first 10k rows of books df so our server wouldn't be crashed during processing\n",
        "book=books.iloc[0:10000,:]"
      ]
    },
    {
      "cell_type": "markdown",
      "metadata": {
        "id": "sYR7mMD9b5Tt"
      },
      "source": [
        "##Content-Based Recommendation on the basis of Search Keyword(Tags, Book-name,Author-name,Publication-name)"
      ]
    },
    {
      "cell_type": "code",
      "execution_count": 102,
      "metadata": {
        "id": "aDBgTPENZoew"
      },
      "outputs": [],
      "source": [
        "#Make a copy of book of 10k's df \n",
        "book1=book.copy()"
      ]
    },
    {
      "cell_type": "markdown",
      "metadata": {
        "id": "3ruIi37V4b1w"
      },
      "source": [
        "###via Tf-idf vectorizer"
      ]
    },
    {
      "cell_type": "code",
      "execution_count": 103,
      "metadata": {
        "id": "NpM5VgabP3ee",
        "colab": {
          "base_uri": "https://localhost:8080/"
        },
        "outputId": "6e1808fe-400b-4251-bcfe-f03dd851a16c"
      },
      "outputs": [
        {
          "output_type": "execute_result",
          "data": {
            "text/plain": [
              "Index(['ISBN', 'Book-Title', 'Book-Author', 'Year-Of-Publication',\n",
              "       'Publisher'],\n",
              "      dtype='object')"
            ]
          },
          "metadata": {},
          "execution_count": 103
        }
      ],
      "source": [
        "#Checking out it's column\n",
        "book1.columns"
      ]
    },
    {
      "cell_type": "markdown",
      "metadata": {
        "id": "bI9QO1UWSQ_9"
      },
      "source": [
        "Recommendation of books using the authors,publications and title attributes for better results. Creating corpus of features and calculating the TF-IDF on the corpus of attributes for gettings better recommendations."
      ]
    },
    {
      "cell_type": "code",
      "execution_count": 104,
      "metadata": {
        "id": "jrl2eIHPPQwd"
      },
      "outputs": [],
      "source": [
        "#Making a corpus column by joining Book-author, book-title and book publishers\n",
        "book1['corpus'] = (pd.Series(book1[['Book-Author', 'Book-Title','Publisher']]\n",
        "                .fillna('')\n",
        "                .values.tolist()\n",
        "                ).str.join(' '))"
      ]
    },
    {
      "cell_type": "code",
      "execution_count": 105,
      "metadata": {
        "id": "vndUJz_RRCCD"
      },
      "outputs": [],
      "source": [
        "#Applying Vectorizer\n",
        "tf_corpus = TfidfVectorizer(analyzer='word',ngram_range=(1, 2),min_df=0, stop_words='english')\n",
        "tfidf_matrix_corpus = tf_corpus.fit_transform(book1['corpus'])\n",
        "cosine_sim_corpus = linear_kernel(tfidf_matrix_corpus, tfidf_matrix_corpus)\n",
        "\n",
        "# Build a 1-dimensional array with book titles\n",
        "titles = book1['Book-Title']\n",
        "indices = pd.Series(book1.index, index=book1['Book-Title'])\n",
        "\n",
        "# Function that get book recommendations based on the cosine similarity score of books tags\n",
        "def corpus_recommendations(title):\n",
        "    idx = indices[title]\n",
        "    sim_scores = list(enumerate(cosine_sim_corpus[idx]))\n",
        "    sim_scores = sorted(sim_scores, key=lambda x: x[1], reverse=True)\n",
        "    sim_scores = sim_scores[1:21]\n",
        "    book_indices = [i[0] for i in sim_scores]\n",
        "    return titles.iloc[book_indices]"
      ]
    },
    {
      "cell_type": "code",
      "execution_count": 106,
      "metadata": {
        "id": "AwexaD144NrJ",
        "colab": {
          "base_uri": "https://localhost:8080/"
        },
        "outputId": "94aa927c-b38a-46b0-c14e-000941acb38d"
      },
      "outputs": [
        {
          "output_type": "execute_result",
          "data": {
            "text/plain": [
              "2084                                         Keeper n' Me\n",
              "9427                                          Wildblossom\n",
              "6206                                         Going Native\n",
              "3873                          Der Gesang des Troubadours.\n",
              "6395                                 There Will Be Wolves\n",
              "5612                                 Why I Hate Canadians\n",
              "9767                                The Dollhouse Murders\n",
              "6335    The SEARCH FOR SNOUT: BRUCE COVILLE'S ALIEN AD...\n",
              "4239                      The Lion, the Fox and the Eagle\n",
              "6392                                     Thirteenth Child\n",
              "7831                       Dones (ColÂ¨lecciÃ³ clÃ ssica)\n",
              "7484                                 What Am I Doing Here\n",
              "676                                            Globalhead\n",
              "1015                                The Real Mother Goose\n",
              "552                                   Going down swinging\n",
              "1418                               My Teacher is an Alien\n",
              "2786                                 Distraction: A Novel\n",
              "8217                 Work, Industry, and Canadian Society\n",
              "8565                                   Working Class Zero\n",
              "2788                                   Islands in the Net\n",
              "Name: Book-Title, dtype: object"
            ]
          },
          "metadata": {},
          "execution_count": 106
        }
      ],
      "source": [
        "corpus_recommendations('Clara Callan')"
      ]
    },
    {
      "cell_type": "markdown",
      "metadata": {
        "id": "h1acRKQQ4Ut9"
      },
      "source": [
        "###Via Tags "
      ]
    },
    {
      "cell_type": "code",
      "execution_count": 107,
      "metadata": {
        "id": "gF0snBWP4Ekr",
        "colab": {
          "base_uri": "https://localhost:8080/"
        },
        "outputId": "a3b729a3-b9e7-49fd-e998-fc358a70df05"
      },
      "outputs": [
        {
          "output_type": "stream",
          "name": "stderr",
          "text": [
            "[nltk_data] Downloading package stopwords to /root/nltk_data...\n",
            "[nltk_data]   Unzipping corpora/stopwords.zip.\n"
          ]
        },
        {
          "output_type": "execute_result",
          "data": {
            "text/plain": [
              "True"
            ]
          },
          "metadata": {},
          "execution_count": 107
        }
      ],
      "source": [
        "import nltk\n",
        "nltk.download('stopwords')"
      ]
    },
    {
      "cell_type": "code",
      "execution_count": 108,
      "metadata": {
        "id": "wFoZkPdT3G2a"
      },
      "outputs": [],
      "source": [
        "from nltk.corpus import stopwords\n",
        "from nltk.stem.snowball import SnowballStemmer"
      ]
    },
    {
      "cell_type": "code",
      "execution_count": 109,
      "metadata": {
        "id": "Od8e0UnlzctJ"
      },
      "outputs": [],
      "source": [
        "#Making a corpus column by joining Book-author, book-title and book publishers\n",
        "book1['tags'] = (pd.Series(book1[['Book-Author', 'Book-Title','Publisher']]\n",
        "                .fillna('')\n",
        "                .values.tolist()\n",
        "                ).str.join(' '))"
      ]
    },
    {
      "cell_type": "code",
      "execution_count": 110,
      "metadata": {
        "id": "SZSqIzQy2XRF",
        "colab": {
          "base_uri": "https://localhost:8080/"
        },
        "outputId": "144d93b2-6624-41f6-9fe3-0ffa54755781"
      },
      "outputs": [
        {
          "output_type": "execute_result",
          "data": {
            "text/plain": [
              "array(['i', 'me', 'my', 'myself', 'we', 'our', 'ours', 'ourselves', 'you',\n",
              "       \"you're\", \"you've\", \"you'll\", \"you'd\", 'your', 'yours', 'yourself',\n",
              "       'yourselves', 'he', 'him', 'his', 'himself', 'she', \"she's\", 'her',\n",
              "       'hers', 'herself', 'it', \"it's\", 'its', 'itself', 'they', 'them',\n",
              "       'their', 'theirs', 'themselves', 'what', 'which', 'who', 'whom',\n",
              "       'this', 'that', \"that'll\", 'these', 'those', 'am', 'is', 'are',\n",
              "       'was', 'were', 'be', 'been', 'being', 'have', 'has', 'had',\n",
              "       'having', 'do', 'does', 'did', 'doing', 'a', 'an', 'the', 'and',\n",
              "       'but', 'if', 'or', 'because', 'as', 'until', 'while', 'of', 'at',\n",
              "       'by', 'for', 'with', 'about', 'against', 'between', 'into',\n",
              "       'through', 'during', 'before', 'after', 'above', 'below', 'to',\n",
              "       'from', 'up', 'down', 'in', 'out', 'on', 'off', 'over', 'under',\n",
              "       'again', 'further', 'then', 'once', 'here', 'there', 'when',\n",
              "       'where', 'why', 'how', 'all', 'any', 'both', 'each', 'few', 'more',\n",
              "       'most', 'other', 'some', 'such', 'no', 'nor', 'not', 'only', 'own',\n",
              "       'same', 'so', 'than', 'too', 'very', 's', 't', 'can', 'will',\n",
              "       'just', 'don', \"don't\", 'should', \"should've\", 'now', 'd', 'll',\n",
              "       'm', 'o', 're', 've', 'y', 'ain', 'aren', \"aren't\", 'couldn',\n",
              "       \"couldn't\", 'didn', \"didn't\", 'doesn', \"doesn't\", 'hadn', \"hadn't\",\n",
              "       'hasn', \"hasn't\", 'haven', \"haven't\", 'isn', \"isn't\", 'ma',\n",
              "       'mightn', \"mightn't\", 'mustn', \"mustn't\", 'needn', \"needn't\",\n",
              "       'shan', \"shan't\", 'shouldn', \"shouldn't\", 'wasn', \"wasn't\",\n",
              "       'weren', \"weren't\", 'won', \"won't\", 'wouldn', \"wouldn't\"],\n",
              "      dtype='<U10')"
            ]
          },
          "metadata": {},
          "execution_count": 110
        }
      ],
      "source": [
        "# extracting the stopwords from nltk library\n",
        "sw = stopwords.words('english')\n",
        "# displaying the stopwords\n",
        "np.array(sw)"
      ]
    },
    {
      "cell_type": "code",
      "execution_count": 111,
      "metadata": {
        "id": "TEJMrJ2r2k8V"
      },
      "outputs": [],
      "source": [
        "#Making necessory function for applying on tags column for better results\n",
        "def remove_punctuation(text):\n",
        "    '''a function for removing punctuation'''\n",
        "    import string\n",
        "    # replacing the punctuations with no space, \n",
        "    # which in effect deletes the punctuation marks \n",
        "    translator = str.maketrans('', '', string.punctuation)\n",
        "    # return the text stripped of punctuation marks\n",
        "    return text.translate(translator)\n",
        "\n",
        "    \n",
        "def stopwords(text):\n",
        "    '''a function for removing the stopword'''\n",
        "    # removing the stop words and lowercasing the selected words\n",
        "    text = [word.lower() for word in text.split() if word.lower() not in sw]\n",
        "    # joining the list of words with space separator\n",
        "    return \" \".join(text)\n",
        "\n",
        "\n",
        "# create an object of stemming function\n",
        "stemmer = SnowballStemmer(language='english')\n",
        "\n",
        "def stemming(text):    \n",
        "    '''a function which stems each word in the given text'''\n",
        "    text = [stemmer.stem(word) for word in text.split()]\n",
        "    return \" \".join(text) \n",
        "\n",
        "def making_word(text):\n",
        "  text=text.split()\n",
        "  return text\n",
        "\n",
        "def get_list_of_words(text):\n",
        "  text=remove_punctuation(text)\n",
        "  text=stopwords(text)\n",
        "  text=stemming(text)\n",
        "  text=making_word(text)\n",
        "  return text"
      ]
    },
    {
      "cell_type": "code",
      "execution_count": 112,
      "metadata": {
        "id": "pJWv4bt-o4FM"
      },
      "outputs": [],
      "source": [
        "#Making function for applying all function of above\n",
        "def get_list_of_words(text):\n",
        "  text=remove_punctuation(text)\n",
        "  text=stopwords(text)\n",
        "  text=stemming(text)\n",
        "  text=making_word(text)\n",
        "  return text\n"
      ]
    },
    {
      "cell_type": "code",
      "execution_count": 113,
      "metadata": {
        "id": "fpE-sa5R5efM"
      },
      "outputs": [],
      "source": [
        "#Applying functions on our df\n",
        "book1['tags']=book1['tags'].apply(get_list_of_words)"
      ]
    },
    {
      "cell_type": "code",
      "execution_count": 114,
      "metadata": {
        "id": "9ZU0-mF88iX6"
      },
      "outputs": [],
      "source": [
        "#Making fubction for getting books according to our customer's search\n",
        "def getting_books(text):\n",
        "  text=remove_punctuation(text)\n",
        "  text=stopwords(text)\n",
        "  text=stemming(text)\n",
        "  listt=text.split()\n",
        "  df=pd.DataFrame()\n",
        "  output=book1[pd.DataFrame(book1.tags.tolist()).isin(listt).any(1).values]\n",
        "  df=df.append(output)\n",
        "  if len(df)<1:\n",
        "    df='No Results Try Different Search Keyword'\n",
        "  return df\n"
      ]
    },
    {
      "cell_type": "code",
      "execution_count": 117,
      "metadata": {
        "id": "meiYri5R9QvM",
        "colab": {
          "base_uri": "https://localhost:8080/",
          "height": 1000
        },
        "outputId": "56eb9010-422b-4d15-8097-9c4bf2d15a63"
      },
      "outputs": [
        {
          "name": "stdout",
          "output_type": "stream",
          "text": [
            "()Why I Hate Canadians\n"
          ]
        },
        {
          "output_type": "execute_result",
          "data": {
            "text/plain": [
              "            ISBN                                         Book-Title  \\\n",
              "349   0771088191  The Best Canadian Animal Stories: Classic Tale...   \n",
              "420   0897322339  The Best in Tent Camping: Smoky Mountains : A ...   \n",
              "1416  0802069347  Gibson's Student Guide to Western Canadian Uni...   \n",
              "3445  0800730364                             I love you, I hate you   \n",
              "4238  1550548913  How to Be a Canadian: Even If You Already are One   \n",
              "5612  1550546007                               Why I Hate Canadians   \n",
              "6671  1552780724  Just A Minute More - Glimpses of our Great Can...   \n",
              "6761  1896764096                          Girl Who Hated Books(the)   \n",
              "7220  0140248943           Canadian Revolution From Deference to De   \n",
              "7221  1894770099  Strike the Wok: An Anthology of Comtemporary C...   \n",
              "7750  0440009782                  The Canadians (Making of America)   \n",
              "7911  0871236575      When Hope Springs New (Canadian West, Book 4)   \n",
              "7986  076422400X  Beyond the Gathering Storm (Canadian West (Unn...   \n",
              "7987  0764225553    When Tomorrow Comes (Canadian West (Unnumberd))   \n",
              "7995  0773674187      Canadian Poetry (New Press Canadian Classics)   \n",
              "8205  0889223394      Modern Canadian Plays (Modern Canadian Plays)   \n",
              "8216  013116757X                 Canadian Society: A Macro Analysis   \n",
              "8217  0176035400               Work, Industry, and Canadian Society   \n",
              "8478  0969522908  The Canadian achievers: How they did it, how y...   \n",
              "9047  0771014236  The Death of Tecumseh (Adventures in Canadian ...   \n",
              "9186  0771099843  Sunshine Sketches of a Little Town (New Canadi...   \n",
              "\n",
              "            Book-Author  Year-Of-Publication  \\\n",
              "349     Muriel Whitaker               1997.0   \n",
              "420       Johnny Molloy               1997.0   \n",
              "1416      Dyanne Gibson               1993.0   \n",
              "3445    Carlos G Valles               1992.0   \n",
              "4238      Will Ferguson               2003.0   \n",
              "5612      Will Ferguson               1999.0   \n",
              "6671     Marsha Boulton               1999.0   \n",
              "6761    Manjusha Pawagi               1998.0   \n",
              "7220     Peter C Newman               1996.0   \n",
              "7221          Lien Chao               2003.0   \n",
              "7750  Lee D. Willoughby               1983.0   \n",
              "7911        Janette Oke               1986.0   \n",
              "7986        Janette Oke               2000.0   \n",
              "7987        Janette Oke               2001.0   \n",
              "7995         Jack David               1989.0   \n",
              "8205    Jerry Wasserman               1994.0   \n",
              "8216    Harry H. Hiller               1991.0   \n",
              "8217           H. Krahn               1993.0   \n",
              "8478          Dick Drew               1991.0   \n",
              "9047      Pierre Berton               1995.0   \n",
              "9186    STEPHEN LEACOCK               1989.0   \n",
              "\n",
              "                             Publisher  \\\n",
              "349           McClelland &amp; Stewart   \n",
              "420                    Globe Pequot Pr   \n",
              "1416       University of Toronto Press   \n",
              "3445                     Triumph Books   \n",
              "4238            Douglas &amp; McIntyre   \n",
              "5612              Harpercollins Canada   \n",
              "6671            McArthur &amp; Company   \n",
              "6761                Second Story Press   \n",
              "7220               Penguin Putnam~mass   \n",
              "7221                 Tsar Publications   \n",
              "7750           Dell Publishing Company   \n",
              "7911                     Bethany House   \n",
              "7986          Bethany House Publishers   \n",
              "7987          Bethany House Publishers   \n",
              "7995     General Distribution Services   \n",
              "8205                  Talonbooks, Ltd.   \n",
              "8216                     Prentice Hall   \n",
              "8217                     Nelson Canada   \n",
              "8478  Drew Marketing &amp; Productions   \n",
              "9047          McClelland &amp; Stewart   \n",
              "9186              New Canadian Library   \n",
              "\n",
              "                                                 corpus  \\\n",
              "349   Muriel Whitaker The Best Canadian Animal Stori...   \n",
              "420   Johnny Molloy The Best in Tent Camping: Smoky ...   \n",
              "1416  Dyanne Gibson Gibson's Student Guide to Wester...   \n",
              "3445  Carlos G Valles I love you, I hate you Triumph...   \n",
              "4238  Will Ferguson How to Be a Canadian: Even If Yo...   \n",
              "5612  Will Ferguson Why I Hate Canadians Harpercolli...   \n",
              "6671  Marsha Boulton Just A Minute More - Glimpses o...   \n",
              "6761  Manjusha Pawagi Girl Who Hated Books(the) Seco...   \n",
              "7220  Peter C Newman Canadian Revolution From Defere...   \n",
              "7221  Lien Chao Strike the Wok: An Anthology of Comt...   \n",
              "7750  Lee D. Willoughby The Canadians (Making of Ame...   \n",
              "7911  Janette Oke When Hope Springs New (Canadian We...   \n",
              "7986  Janette Oke Beyond the Gathering Storm (Canadi...   \n",
              "7987  Janette Oke When Tomorrow Comes (Canadian West...   \n",
              "7995  Jack David Canadian Poetry (New Press Canadian...   \n",
              "8205  Jerry Wasserman Modern Canadian Plays (Modern ...   \n",
              "8216  Harry H. Hiller Canadian Society: A Macro Anal...   \n",
              "8217  H. Krahn Work, Industry, and Canadian Society ...   \n",
              "8478  Dick Drew The Canadian achievers: How they did...   \n",
              "9047  Pierre Berton The Death of Tecumseh (Adventure...   \n",
              "9186  STEPHEN LEACOCK Sunshine Sketches of a Little ...   \n",
              "\n",
              "                                                   tags  \n",
              "349   [muriel, whitak, best, canadian, anim, stori, ...  \n",
              "420   [johnni, molloy, best, tent, camp, smoki, moun...  \n",
              "1416  [dyann, gibson, gibson, student, guid, western...  \n",
              "3445        [carlo, g, vall, love, hate, triumph, book]  \n",
              "4238  [ferguson, canadian, even, alreadi, one, dougl...  \n",
              "5612   [ferguson, hate, canadian, harpercollin, canada]  \n",
              "6671  [marsha, boulton, minut, glimps, great, canadi...  \n",
              "6761  [manjusha, pawagi, girl, hate, booksth, second...  \n",
              "7220  [peter, c, newman, canadian, revolut, defer, d...  \n",
              "7221  [lien, chao, strike, wok, antholog, comtempora...  \n",
              "7750  [lee, willoughbi, canadian, make, america, del...  \n",
              "7911  [janett, oke, hope, spring, new, canadian, wes...  \n",
              "7986  [janett, oke, beyond, gather, storm, canadian,...  \n",
              "7987  [janett, oke, tomorrow, come, canadian, west, ...  \n",
              "7995  [jack, david, canadian, poetri, new, press, ca...  \n",
              "8205  [jerri, wasserman, modern, canadian, play, mod...  \n",
              "8216  [harri, h, hiller, canadian, societi, macro, a...  \n",
              "8217  [h, krahn, work, industri, canadian, societi, ...  \n",
              "8478  [dick, drew, canadian, achiev, drew, market, a...  \n",
              "9047  [pierr, berton, death, tecumseh, adventur, can...  \n",
              "9186  [stephen, leacock, sunshin, sketch, littl, tow...  "
            ],
            "text/html": [
              "\n",
              "  <div id=\"df-9bcee339-3f73-49e6-8f48-93d47cbf70cf\">\n",
              "    <div class=\"colab-df-container\">\n",
              "      <div>\n",
              "<style scoped>\n",
              "    .dataframe tbody tr th:only-of-type {\n",
              "        vertical-align: middle;\n",
              "    }\n",
              "\n",
              "    .dataframe tbody tr th {\n",
              "        vertical-align: top;\n",
              "    }\n",
              "\n",
              "    .dataframe thead th {\n",
              "        text-align: right;\n",
              "    }\n",
              "</style>\n",
              "<table border=\"1\" class=\"dataframe\">\n",
              "  <thead>\n",
              "    <tr style=\"text-align: right;\">\n",
              "      <th></th>\n",
              "      <th>ISBN</th>\n",
              "      <th>Book-Title</th>\n",
              "      <th>Book-Author</th>\n",
              "      <th>Year-Of-Publication</th>\n",
              "      <th>Publisher</th>\n",
              "      <th>corpus</th>\n",
              "      <th>tags</th>\n",
              "    </tr>\n",
              "  </thead>\n",
              "  <tbody>\n",
              "    <tr>\n",
              "      <th>349</th>\n",
              "      <td>0771088191</td>\n",
              "      <td>The Best Canadian Animal Stories: Classic Tale...</td>\n",
              "      <td>Muriel Whitaker</td>\n",
              "      <td>1997.0</td>\n",
              "      <td>McClelland &amp;amp; Stewart</td>\n",
              "      <td>Muriel Whitaker The Best Canadian Animal Stori...</td>\n",
              "      <td>[muriel, whitak, best, canadian, anim, stori, ...</td>\n",
              "    </tr>\n",
              "    <tr>\n",
              "      <th>420</th>\n",
              "      <td>0897322339</td>\n",
              "      <td>The Best in Tent Camping: Smoky Mountains : A ...</td>\n",
              "      <td>Johnny Molloy</td>\n",
              "      <td>1997.0</td>\n",
              "      <td>Globe Pequot Pr</td>\n",
              "      <td>Johnny Molloy The Best in Tent Camping: Smoky ...</td>\n",
              "      <td>[johnni, molloy, best, tent, camp, smoki, moun...</td>\n",
              "    </tr>\n",
              "    <tr>\n",
              "      <th>1416</th>\n",
              "      <td>0802069347</td>\n",
              "      <td>Gibson's Student Guide to Western Canadian Uni...</td>\n",
              "      <td>Dyanne Gibson</td>\n",
              "      <td>1993.0</td>\n",
              "      <td>University of Toronto Press</td>\n",
              "      <td>Dyanne Gibson Gibson's Student Guide to Wester...</td>\n",
              "      <td>[dyann, gibson, gibson, student, guid, western...</td>\n",
              "    </tr>\n",
              "    <tr>\n",
              "      <th>3445</th>\n",
              "      <td>0800730364</td>\n",
              "      <td>I love you, I hate you</td>\n",
              "      <td>Carlos G Valles</td>\n",
              "      <td>1992.0</td>\n",
              "      <td>Triumph Books</td>\n",
              "      <td>Carlos G Valles I love you, I hate you Triumph...</td>\n",
              "      <td>[carlo, g, vall, love, hate, triumph, book]</td>\n",
              "    </tr>\n",
              "    <tr>\n",
              "      <th>4238</th>\n",
              "      <td>1550548913</td>\n",
              "      <td>How to Be a Canadian: Even If You Already are One</td>\n",
              "      <td>Will Ferguson</td>\n",
              "      <td>2003.0</td>\n",
              "      <td>Douglas &amp;amp; McIntyre</td>\n",
              "      <td>Will Ferguson How to Be a Canadian: Even If Yo...</td>\n",
              "      <td>[ferguson, canadian, even, alreadi, one, dougl...</td>\n",
              "    </tr>\n",
              "    <tr>\n",
              "      <th>5612</th>\n",
              "      <td>1550546007</td>\n",
              "      <td>Why I Hate Canadians</td>\n",
              "      <td>Will Ferguson</td>\n",
              "      <td>1999.0</td>\n",
              "      <td>Harpercollins Canada</td>\n",
              "      <td>Will Ferguson Why I Hate Canadians Harpercolli...</td>\n",
              "      <td>[ferguson, hate, canadian, harpercollin, canada]</td>\n",
              "    </tr>\n",
              "    <tr>\n",
              "      <th>6671</th>\n",
              "      <td>1552780724</td>\n",
              "      <td>Just A Minute More - Glimpses of our Great Can...</td>\n",
              "      <td>Marsha Boulton</td>\n",
              "      <td>1999.0</td>\n",
              "      <td>McArthur &amp;amp; Company</td>\n",
              "      <td>Marsha Boulton Just A Minute More - Glimpses o...</td>\n",
              "      <td>[marsha, boulton, minut, glimps, great, canadi...</td>\n",
              "    </tr>\n",
              "    <tr>\n",
              "      <th>6761</th>\n",
              "      <td>1896764096</td>\n",
              "      <td>Girl Who Hated Books(the)</td>\n",
              "      <td>Manjusha Pawagi</td>\n",
              "      <td>1998.0</td>\n",
              "      <td>Second Story Press</td>\n",
              "      <td>Manjusha Pawagi Girl Who Hated Books(the) Seco...</td>\n",
              "      <td>[manjusha, pawagi, girl, hate, booksth, second...</td>\n",
              "    </tr>\n",
              "    <tr>\n",
              "      <th>7220</th>\n",
              "      <td>0140248943</td>\n",
              "      <td>Canadian Revolution From Deference to De</td>\n",
              "      <td>Peter C Newman</td>\n",
              "      <td>1996.0</td>\n",
              "      <td>Penguin Putnam~mass</td>\n",
              "      <td>Peter C Newman Canadian Revolution From Defere...</td>\n",
              "      <td>[peter, c, newman, canadian, revolut, defer, d...</td>\n",
              "    </tr>\n",
              "    <tr>\n",
              "      <th>7221</th>\n",
              "      <td>1894770099</td>\n",
              "      <td>Strike the Wok: An Anthology of Comtemporary C...</td>\n",
              "      <td>Lien Chao</td>\n",
              "      <td>2003.0</td>\n",
              "      <td>Tsar Publications</td>\n",
              "      <td>Lien Chao Strike the Wok: An Anthology of Comt...</td>\n",
              "      <td>[lien, chao, strike, wok, antholog, comtempora...</td>\n",
              "    </tr>\n",
              "    <tr>\n",
              "      <th>7750</th>\n",
              "      <td>0440009782</td>\n",
              "      <td>The Canadians (Making of America)</td>\n",
              "      <td>Lee D. Willoughby</td>\n",
              "      <td>1983.0</td>\n",
              "      <td>Dell Publishing Company</td>\n",
              "      <td>Lee D. Willoughby The Canadians (Making of Ame...</td>\n",
              "      <td>[lee, willoughbi, canadian, make, america, del...</td>\n",
              "    </tr>\n",
              "    <tr>\n",
              "      <th>7911</th>\n",
              "      <td>0871236575</td>\n",
              "      <td>When Hope Springs New (Canadian West, Book 4)</td>\n",
              "      <td>Janette Oke</td>\n",
              "      <td>1986.0</td>\n",
              "      <td>Bethany House</td>\n",
              "      <td>Janette Oke When Hope Springs New (Canadian We...</td>\n",
              "      <td>[janett, oke, hope, spring, new, canadian, wes...</td>\n",
              "    </tr>\n",
              "    <tr>\n",
              "      <th>7986</th>\n",
              "      <td>076422400X</td>\n",
              "      <td>Beyond the Gathering Storm (Canadian West (Unn...</td>\n",
              "      <td>Janette Oke</td>\n",
              "      <td>2000.0</td>\n",
              "      <td>Bethany House Publishers</td>\n",
              "      <td>Janette Oke Beyond the Gathering Storm (Canadi...</td>\n",
              "      <td>[janett, oke, beyond, gather, storm, canadian,...</td>\n",
              "    </tr>\n",
              "    <tr>\n",
              "      <th>7987</th>\n",
              "      <td>0764225553</td>\n",
              "      <td>When Tomorrow Comes (Canadian West (Unnumberd))</td>\n",
              "      <td>Janette Oke</td>\n",
              "      <td>2001.0</td>\n",
              "      <td>Bethany House Publishers</td>\n",
              "      <td>Janette Oke When Tomorrow Comes (Canadian West...</td>\n",
              "      <td>[janett, oke, tomorrow, come, canadian, west, ...</td>\n",
              "    </tr>\n",
              "    <tr>\n",
              "      <th>7995</th>\n",
              "      <td>0773674187</td>\n",
              "      <td>Canadian Poetry (New Press Canadian Classics)</td>\n",
              "      <td>Jack David</td>\n",
              "      <td>1989.0</td>\n",
              "      <td>General Distribution Services</td>\n",
              "      <td>Jack David Canadian Poetry (New Press Canadian...</td>\n",
              "      <td>[jack, david, canadian, poetri, new, press, ca...</td>\n",
              "    </tr>\n",
              "    <tr>\n",
              "      <th>8205</th>\n",
              "      <td>0889223394</td>\n",
              "      <td>Modern Canadian Plays (Modern Canadian Plays)</td>\n",
              "      <td>Jerry Wasserman</td>\n",
              "      <td>1994.0</td>\n",
              "      <td>Talonbooks, Ltd.</td>\n",
              "      <td>Jerry Wasserman Modern Canadian Plays (Modern ...</td>\n",
              "      <td>[jerri, wasserman, modern, canadian, play, mod...</td>\n",
              "    </tr>\n",
              "    <tr>\n",
              "      <th>8216</th>\n",
              "      <td>013116757X</td>\n",
              "      <td>Canadian Society: A Macro Analysis</td>\n",
              "      <td>Harry H. Hiller</td>\n",
              "      <td>1991.0</td>\n",
              "      <td>Prentice Hall</td>\n",
              "      <td>Harry H. Hiller Canadian Society: A Macro Anal...</td>\n",
              "      <td>[harri, h, hiller, canadian, societi, macro, a...</td>\n",
              "    </tr>\n",
              "    <tr>\n",
              "      <th>8217</th>\n",
              "      <td>0176035400</td>\n",
              "      <td>Work, Industry, and Canadian Society</td>\n",
              "      <td>H. Krahn</td>\n",
              "      <td>1993.0</td>\n",
              "      <td>Nelson Canada</td>\n",
              "      <td>H. Krahn Work, Industry, and Canadian Society ...</td>\n",
              "      <td>[h, krahn, work, industri, canadian, societi, ...</td>\n",
              "    </tr>\n",
              "    <tr>\n",
              "      <th>8478</th>\n",
              "      <td>0969522908</td>\n",
              "      <td>The Canadian achievers: How they did it, how y...</td>\n",
              "      <td>Dick Drew</td>\n",
              "      <td>1991.0</td>\n",
              "      <td>Drew Marketing &amp;amp; Productions</td>\n",
              "      <td>Dick Drew The Canadian achievers: How they did...</td>\n",
              "      <td>[dick, drew, canadian, achiev, drew, market, a...</td>\n",
              "    </tr>\n",
              "    <tr>\n",
              "      <th>9047</th>\n",
              "      <td>0771014236</td>\n",
              "      <td>The Death of Tecumseh (Adventures in Canadian ...</td>\n",
              "      <td>Pierre Berton</td>\n",
              "      <td>1995.0</td>\n",
              "      <td>McClelland &amp;amp; Stewart</td>\n",
              "      <td>Pierre Berton The Death of Tecumseh (Adventure...</td>\n",
              "      <td>[pierr, berton, death, tecumseh, adventur, can...</td>\n",
              "    </tr>\n",
              "    <tr>\n",
              "      <th>9186</th>\n",
              "      <td>0771099843</td>\n",
              "      <td>Sunshine Sketches of a Little Town (New Canadi...</td>\n",
              "      <td>STEPHEN LEACOCK</td>\n",
              "      <td>1989.0</td>\n",
              "      <td>New Canadian Library</td>\n",
              "      <td>STEPHEN LEACOCK Sunshine Sketches of a Little ...</td>\n",
              "      <td>[stephen, leacock, sunshin, sketch, littl, tow...</td>\n",
              "    </tr>\n",
              "  </tbody>\n",
              "</table>\n",
              "</div>\n",
              "      <button class=\"colab-df-convert\" onclick=\"convertToInteractive('df-9bcee339-3f73-49e6-8f48-93d47cbf70cf')\"\n",
              "              title=\"Convert this dataframe to an interactive table.\"\n",
              "              style=\"display:none;\">\n",
              "        \n",
              "  <svg xmlns=\"http://www.w3.org/2000/svg\" height=\"24px\"viewBox=\"0 0 24 24\"\n",
              "       width=\"24px\">\n",
              "    <path d=\"M0 0h24v24H0V0z\" fill=\"none\"/>\n",
              "    <path d=\"M18.56 5.44l.94 2.06.94-2.06 2.06-.94-2.06-.94-.94-2.06-.94 2.06-2.06.94zm-11 1L8.5 8.5l.94-2.06 2.06-.94-2.06-.94L8.5 2.5l-.94 2.06-2.06.94zm10 10l.94 2.06.94-2.06 2.06-.94-2.06-.94-.94-2.06-.94 2.06-2.06.94z\"/><path d=\"M17.41 7.96l-1.37-1.37c-.4-.4-.92-.59-1.43-.59-.52 0-1.04.2-1.43.59L10.3 9.45l-7.72 7.72c-.78.78-.78 2.05 0 2.83L4 21.41c.39.39.9.59 1.41.59.51 0 1.02-.2 1.41-.59l7.78-7.78 2.81-2.81c.8-.78.8-2.07 0-2.86zM5.41 20L4 18.59l7.72-7.72 1.47 1.35L5.41 20z\"/>\n",
              "  </svg>\n",
              "      </button>\n",
              "      \n",
              "  <style>\n",
              "    .colab-df-container {\n",
              "      display:flex;\n",
              "      flex-wrap:wrap;\n",
              "      gap: 12px;\n",
              "    }\n",
              "\n",
              "    .colab-df-convert {\n",
              "      background-color: #E8F0FE;\n",
              "      border: none;\n",
              "      border-radius: 50%;\n",
              "      cursor: pointer;\n",
              "      display: none;\n",
              "      fill: #1967D2;\n",
              "      height: 32px;\n",
              "      padding: 0 0 0 0;\n",
              "      width: 32px;\n",
              "    }\n",
              "\n",
              "    .colab-df-convert:hover {\n",
              "      background-color: #E2EBFA;\n",
              "      box-shadow: 0px 1px 2px rgba(60, 64, 67, 0.3), 0px 1px 3px 1px rgba(60, 64, 67, 0.15);\n",
              "      fill: #174EA6;\n",
              "    }\n",
              "\n",
              "    [theme=dark] .colab-df-convert {\n",
              "      background-color: #3B4455;\n",
              "      fill: #D2E3FC;\n",
              "    }\n",
              "\n",
              "    [theme=dark] .colab-df-convert:hover {\n",
              "      background-color: #434B5C;\n",
              "      box-shadow: 0px 1px 3px 1px rgba(0, 0, 0, 0.15);\n",
              "      filter: drop-shadow(0px 1px 2px rgba(0, 0, 0, 0.3));\n",
              "      fill: #FFFFFF;\n",
              "    }\n",
              "  </style>\n",
              "\n",
              "      <script>\n",
              "        const buttonEl =\n",
              "          document.querySelector('#df-9bcee339-3f73-49e6-8f48-93d47cbf70cf button.colab-df-convert');\n",
              "        buttonEl.style.display =\n",
              "          google.colab.kernel.accessAllowed ? 'block' : 'none';\n",
              "\n",
              "        async function convertToInteractive(key) {\n",
              "          const element = document.querySelector('#df-9bcee339-3f73-49e6-8f48-93d47cbf70cf');\n",
              "          const dataTable =\n",
              "            await google.colab.kernel.invokeFunction('convertToInteractive',\n",
              "                                                     [key], {});\n",
              "          if (!dataTable) return;\n",
              "\n",
              "          const docLinkHtml = 'Like what you see? Visit the ' +\n",
              "            '<a target=\"_blank\" href=https://colab.research.google.com/notebooks/data_table.ipynb>data table notebook</a>'\n",
              "            + ' to learn more about interactive tables.';\n",
              "          element.innerHTML = '';\n",
              "          dataTable['output_type'] = 'display_data';\n",
              "          await google.colab.output.renderOutput(dataTable, element);\n",
              "          const docLink = document.createElement('div');\n",
              "          docLink.innerHTML = docLinkHtml;\n",
              "          element.appendChild(docLink);\n",
              "        }\n",
              "      </script>\n",
              "    </div>\n",
              "  </div>\n",
              "  "
            ]
          },
          "metadata": {},
          "execution_count": 117
        }
      ],
      "source": [
        "#Check function acc to user's input\n",
        "inputted_text=str(input(()))\n",
        "getting_books(inputted_text)"
      ]
    },
    {
      "cell_type": "markdown",
      "metadata": {
        "id": "HBcEQTZjbwFH"
      },
      "source": [
        "##Content-Based Recommendation on the basis of Author"
      ]
    },
    {
      "cell_type": "code",
      "execution_count": 118,
      "metadata": {
        "id": "Ix8w99e9ZS8d"
      },
      "outputs": [],
      "source": [
        "#Make a copy of book of 10k's df \n",
        "book2=book.copy()"
      ]
    },
    {
      "cell_type": "code",
      "execution_count": 119,
      "metadata": {
        "id": "svx3Cg_SR8UN",
        "colab": {
          "base_uri": "https://localhost:8080/"
        },
        "outputId": "837e2fca-0a4a-4bad-cf4e-42ec5e26988c"
      },
      "outputs": [
        {
          "output_type": "execute_result",
          "data": {
            "text/plain": [
              "Index(['ISBN', 'Book-Title', 'Book-Author', 'Year-Of-Publication',\n",
              "       'Publisher'],\n",
              "      dtype='object')"
            ]
          },
          "metadata": {},
          "execution_count": 119
        }
      ],
      "source": [
        "#Checking The columns\n",
        "book2.columns"
      ]
    },
    {
      "cell_type": "code",
      "execution_count": 120,
      "metadata": {
        "id": "LGHHUqAAPDAQ",
        "colab": {
          "base_uri": "https://localhost:8080/",
          "height": 206
        },
        "outputId": "ec594b0a-285f-4181-b68c-4f8dc0367160"
      },
      "outputs": [
        {
          "output_type": "execute_result",
          "data": {
            "text/plain": [
              "         ISBN                                         Book-Title  \\\n",
              "0  0195153448                                Classical Mythology   \n",
              "1  0002005018                                       Clara Callan   \n",
              "2  0060973129                               Decision in Normandy   \n",
              "3  0374157065  Flu: The Story of the Great Influenza Pandemic...   \n",
              "4  0393045218                             The Mummies of Urumchi   \n",
              "\n",
              "            Book-Author  Year-Of-Publication                   Publisher  \n",
              "0    Mark P. O. Morford               2002.0     Oxford University Press  \n",
              "1  Richard Bruce Wright               2001.0       HarperFlamingo Canada  \n",
              "2          Carlo D'Este               1991.0             HarperPerennial  \n",
              "3      Gina Bari Kolata               1999.0        Farrar Straus Giroux  \n",
              "4       E. J. W. Barber               1999.0  W. W. Norton &amp; Company  "
            ],
            "text/html": [
              "\n",
              "  <div id=\"df-b61e7f2f-cea5-42b4-a87e-32aa26e5f852\">\n",
              "    <div class=\"colab-df-container\">\n",
              "      <div>\n",
              "<style scoped>\n",
              "    .dataframe tbody tr th:only-of-type {\n",
              "        vertical-align: middle;\n",
              "    }\n",
              "\n",
              "    .dataframe tbody tr th {\n",
              "        vertical-align: top;\n",
              "    }\n",
              "\n",
              "    .dataframe thead th {\n",
              "        text-align: right;\n",
              "    }\n",
              "</style>\n",
              "<table border=\"1\" class=\"dataframe\">\n",
              "  <thead>\n",
              "    <tr style=\"text-align: right;\">\n",
              "      <th></th>\n",
              "      <th>ISBN</th>\n",
              "      <th>Book-Title</th>\n",
              "      <th>Book-Author</th>\n",
              "      <th>Year-Of-Publication</th>\n",
              "      <th>Publisher</th>\n",
              "    </tr>\n",
              "  </thead>\n",
              "  <tbody>\n",
              "    <tr>\n",
              "      <th>0</th>\n",
              "      <td>0195153448</td>\n",
              "      <td>Classical Mythology</td>\n",
              "      <td>Mark P. O. Morford</td>\n",
              "      <td>2002.0</td>\n",
              "      <td>Oxford University Press</td>\n",
              "    </tr>\n",
              "    <tr>\n",
              "      <th>1</th>\n",
              "      <td>0002005018</td>\n",
              "      <td>Clara Callan</td>\n",
              "      <td>Richard Bruce Wright</td>\n",
              "      <td>2001.0</td>\n",
              "      <td>HarperFlamingo Canada</td>\n",
              "    </tr>\n",
              "    <tr>\n",
              "      <th>2</th>\n",
              "      <td>0060973129</td>\n",
              "      <td>Decision in Normandy</td>\n",
              "      <td>Carlo D'Este</td>\n",
              "      <td>1991.0</td>\n",
              "      <td>HarperPerennial</td>\n",
              "    </tr>\n",
              "    <tr>\n",
              "      <th>3</th>\n",
              "      <td>0374157065</td>\n",
              "      <td>Flu: The Story of the Great Influenza Pandemic...</td>\n",
              "      <td>Gina Bari Kolata</td>\n",
              "      <td>1999.0</td>\n",
              "      <td>Farrar Straus Giroux</td>\n",
              "    </tr>\n",
              "    <tr>\n",
              "      <th>4</th>\n",
              "      <td>0393045218</td>\n",
              "      <td>The Mummies of Urumchi</td>\n",
              "      <td>E. J. W. Barber</td>\n",
              "      <td>1999.0</td>\n",
              "      <td>W. W. Norton &amp;amp; Company</td>\n",
              "    </tr>\n",
              "  </tbody>\n",
              "</table>\n",
              "</div>\n",
              "      <button class=\"colab-df-convert\" onclick=\"convertToInteractive('df-b61e7f2f-cea5-42b4-a87e-32aa26e5f852')\"\n",
              "              title=\"Convert this dataframe to an interactive table.\"\n",
              "              style=\"display:none;\">\n",
              "        \n",
              "  <svg xmlns=\"http://www.w3.org/2000/svg\" height=\"24px\"viewBox=\"0 0 24 24\"\n",
              "       width=\"24px\">\n",
              "    <path d=\"M0 0h24v24H0V0z\" fill=\"none\"/>\n",
              "    <path d=\"M18.56 5.44l.94 2.06.94-2.06 2.06-.94-2.06-.94-.94-2.06-.94 2.06-2.06.94zm-11 1L8.5 8.5l.94-2.06 2.06-.94-2.06-.94L8.5 2.5l-.94 2.06-2.06.94zm10 10l.94 2.06.94-2.06 2.06-.94-2.06-.94-.94-2.06-.94 2.06-2.06.94z\"/><path d=\"M17.41 7.96l-1.37-1.37c-.4-.4-.92-.59-1.43-.59-.52 0-1.04.2-1.43.59L10.3 9.45l-7.72 7.72c-.78.78-.78 2.05 0 2.83L4 21.41c.39.39.9.59 1.41.59.51 0 1.02-.2 1.41-.59l7.78-7.78 2.81-2.81c.8-.78.8-2.07 0-2.86zM5.41 20L4 18.59l7.72-7.72 1.47 1.35L5.41 20z\"/>\n",
              "  </svg>\n",
              "      </button>\n",
              "      \n",
              "  <style>\n",
              "    .colab-df-container {\n",
              "      display:flex;\n",
              "      flex-wrap:wrap;\n",
              "      gap: 12px;\n",
              "    }\n",
              "\n",
              "    .colab-df-convert {\n",
              "      background-color: #E8F0FE;\n",
              "      border: none;\n",
              "      border-radius: 50%;\n",
              "      cursor: pointer;\n",
              "      display: none;\n",
              "      fill: #1967D2;\n",
              "      height: 32px;\n",
              "      padding: 0 0 0 0;\n",
              "      width: 32px;\n",
              "    }\n",
              "\n",
              "    .colab-df-convert:hover {\n",
              "      background-color: #E2EBFA;\n",
              "      box-shadow: 0px 1px 2px rgba(60, 64, 67, 0.3), 0px 1px 3px 1px rgba(60, 64, 67, 0.15);\n",
              "      fill: #174EA6;\n",
              "    }\n",
              "\n",
              "    [theme=dark] .colab-df-convert {\n",
              "      background-color: #3B4455;\n",
              "      fill: #D2E3FC;\n",
              "    }\n",
              "\n",
              "    [theme=dark] .colab-df-convert:hover {\n",
              "      background-color: #434B5C;\n",
              "      box-shadow: 0px 1px 3px 1px rgba(0, 0, 0, 0.15);\n",
              "      filter: drop-shadow(0px 1px 2px rgba(0, 0, 0, 0.3));\n",
              "      fill: #FFFFFF;\n",
              "    }\n",
              "  </style>\n",
              "\n",
              "      <script>\n",
              "        const buttonEl =\n",
              "          document.querySelector('#df-b61e7f2f-cea5-42b4-a87e-32aa26e5f852 button.colab-df-convert');\n",
              "        buttonEl.style.display =\n",
              "          google.colab.kernel.accessAllowed ? 'block' : 'none';\n",
              "\n",
              "        async function convertToInteractive(key) {\n",
              "          const element = document.querySelector('#df-b61e7f2f-cea5-42b4-a87e-32aa26e5f852');\n",
              "          const dataTable =\n",
              "            await google.colab.kernel.invokeFunction('convertToInteractive',\n",
              "                                                     [key], {});\n",
              "          if (!dataTable) return;\n",
              "\n",
              "          const docLinkHtml = 'Like what you see? Visit the ' +\n",
              "            '<a target=\"_blank\" href=https://colab.research.google.com/notebooks/data_table.ipynb>data table notebook</a>'\n",
              "            + ' to learn more about interactive tables.';\n",
              "          element.innerHTML = '';\n",
              "          dataTable['output_type'] = 'display_data';\n",
              "          await google.colab.output.renderOutput(dataTable, element);\n",
              "          const docLink = document.createElement('div');\n",
              "          docLink.innerHTML = docLinkHtml;\n",
              "          element.appendChild(docLink);\n",
              "        }\n",
              "      </script>\n",
              "    </div>\n",
              "  </div>\n",
              "  "
            ]
          },
          "metadata": {},
          "execution_count": 120
        }
      ],
      "source": [
        "#checking the head\n",
        "book2.head()"
      ]
    },
    {
      "cell_type": "markdown",
      "metadata": {
        "id": "onXr_r6SSdLi"
      },
      "source": [
        "TfidfVectorizer function from scikit-learn, which transforms text to feature vectors that can be used as input to estimator.\n",
        "\n",
        "Cosine Similarity to calculate a numeric value that denotes the similarity between two books."
      ]
    },
    {
      "cell_type": "code",
      "execution_count": 121,
      "metadata": {
        "id": "oUGtAs4wR8OW"
      },
      "outputs": [],
      "source": [
        "#applying tf-idf vectorizer\n",
        "tf = TfidfVectorizer(analyzer='word',ngram_range=(1, 2),min_df=0, stop_words='english')\n",
        "tfidf_matrix = tf.fit_transform(book2['Book-Author'])\n"
      ]
    },
    {
      "cell_type": "code",
      "execution_count": 122,
      "metadata": {
        "id": "Mhh7sa_ZNVME"
      },
      "outputs": [],
      "source": [
        "#Applying linear kernal for getting similarity\n",
        "cosine_sim = linear_kernel(tfidf_matrix, tfidf_matrix)\n"
      ]
    },
    {
      "cell_type": "markdown",
      "metadata": {
        "id": "Kg2WxztKSkD6"
      },
      "source": [
        "A function that returns the 20 most similar books based on the cosine similarity score."
      ]
    },
    {
      "cell_type": "code",
      "execution_count": 123,
      "metadata": {
        "id": "QB8Vc1zWR8JI"
      },
      "outputs": [],
      "source": [
        "# Build a 1-dimensional array with book titles\n",
        "titles = book2['Book-Title']\n",
        "indices = pd.Series(book.index, index=book2['Book-Title'])\n",
        "\n",
        "# Function that get book recommendations based on the cosine similarity score of book authors\n",
        "def authors_recommendations(title):\n",
        "    idx = indices[title]\n",
        "    sim_scores = list(enumerate(cosine_sim[idx]))\n",
        "    sim_scores = sorted(sim_scores, key=lambda x: x[1], reverse=True)\n",
        "    sim_scores = sim_scores[1:21]\n",
        "    book_indices = [i[0] for i in sim_scores]\n",
        "    return titles.iloc[book_indices]\n"
      ]
    },
    {
      "cell_type": "code",
      "execution_count": 124,
      "metadata": {
        "id": "p95R2FJhRkZj",
        "colab": {
          "base_uri": "https://localhost:8080/"
        },
        "outputId": "65abd4d2-b49c-4979-e72e-633424a44814"
      },
      "outputs": [
        {
          "output_type": "execute_result",
          "data": {
            "text/plain": [
              "402                          The Adventures of Tom Sawyer\n",
              "1430    Adventures of Huckleberry Finn (Signet Classic...\n",
              "1532    Adventures of Huckleberry Finn (Dover Thrift E...\n",
              "2186          A Connecticut Yankee in King Arthur's Court\n",
              "2354                       Adventures of Huckleberry Finn\n",
              "2577                         The Adventures of Tom Sawyer\n",
              "3624    A Connecticut Yankee in King Arthur's Court (D...\n",
              "4137    The Adventures of Tom Sawyer (Penguin Popular ...\n",
              "4177                             Adventures of Tom Sawyer\n",
              "4700                          The Diaries of Adam and Eve\n",
              "4701      The Diaries of Adam and Eve (Literary Classics)\n",
              "6117    Treasury of Illustrated Classics: Adventures o...\n",
              "7971    The Complete Short Stories of Mark Twain (Bant...\n",
              "8699    ADVENTURES OF HUCKLEBERRY FINN (ENRICHED CLASS...\n",
              "9175    A Connecticut Yankee in King Arthur's Court (B...\n",
              "9664    The Adventures of Tom Sawyer (Illustrated Libr...\n",
              "1670                             Fishboy: A Ghost's Story\n",
              "8568                                       Falling Bodies\n",
              "2409                                                 COPS\n",
              "8050                                                WOMEN\n",
              "Name: Book-Title, dtype: object"
            ]
          },
          "metadata": {},
          "execution_count": 124
        }
      ],
      "source": [
        "#let's check our reommendation\n",
        "authors_recommendations('Classical Mythology').head(20)"
      ]
    },
    {
      "cell_type": "code",
      "execution_count": 125,
      "metadata": {
        "id": "2Fh_RAdwOs3L",
        "colab": {
          "base_uri": "https://localhost:8080/"
        },
        "outputId": "7e530987-df4f-44ff-9c9a-e63e340dabfa"
      },
      "outputs": [
        {
          "output_type": "execute_result",
          "data": {
            "text/plain": [
              "ISBN                                     0812504208\n",
              "Book-Title             The Adventures of Tom Sawyer\n",
              "Book-Author                              Mark Twain\n",
              "Year-Of-Publication                          1989.0\n",
              "Publisher                                 Tor Books\n",
              "Name: 402, dtype: object"
            ]
          },
          "metadata": {},
          "execution_count": 125
        }
      ],
      "source": [
        "#checking if our reccommendation is doing good or not\n",
        "book.iloc[402]"
      ]
    },
    {
      "cell_type": "code",
      "execution_count": 126,
      "metadata": {
        "id": "9xF_-ynbPL0O",
        "colab": {
          "base_uri": "https://localhost:8080/"
        },
        "outputId": "1022d749-3575-4e93-f487-e6ffc4ee5650"
      },
      "outputs": [
        {
          "output_type": "execute_result",
          "data": {
            "text/plain": [
              "ISBN                                                          0140620524\n",
              "Book-Title             The Adventures of Tom Sawyer (Penguin Popular ...\n",
              "Book-Author                                                   Mark Twain\n",
              "Year-Of-Publication                                               1994.0\n",
              "Publisher                                              Penguin Books Ltd\n",
              "Name: 4137, dtype: object"
            ]
          },
          "metadata": {},
          "execution_count": 126
        }
      ],
      "source": [
        "#checking if our reccommendation is doing good or not\n",
        "book.iloc[4137]"
      ]
    },
    {
      "cell_type": "markdown",
      "metadata": {
        "id": "lgE1A3Ucb_DF"
      },
      "source": [
        "##Content-Based Recommendation on the basis of Book-Title(with count-vectorizer)"
      ]
    },
    {
      "cell_type": "code",
      "execution_count": 127,
      "metadata": {
        "id": "Y95XqY-HXNFJ"
      },
      "outputs": [],
      "source": [
        "#Make a copy of book of 10k's df \n",
        "book3=book.copy()"
      ]
    },
    {
      "cell_type": "code",
      "execution_count": 128,
      "metadata": {
        "id": "4Uzzk5g4WKHS",
        "colab": {
          "base_uri": "https://localhost:8080/"
        },
        "outputId": "9b85f9d1-b563-4e51-c4f0-730759a5d596"
      },
      "outputs": [
        {
          "output_type": "execute_result",
          "data": {
            "text/plain": [
              "Index(['ISBN', 'Book-Title', 'Book-Author', 'Year-Of-Publication',\n",
              "       'Publisher'],\n",
              "      dtype='object')"
            ]
          },
          "metadata": {},
          "execution_count": 128
        }
      ],
      "source": [
        "#checking out it's column\n",
        "book3.columns"
      ]
    },
    {
      "cell_type": "code",
      "execution_count": 129,
      "metadata": {
        "id": "U-wkXBk-TZy6",
        "colab": {
          "base_uri": "https://localhost:8080/"
        },
        "outputId": "7e6b2a8b-acc5-4f82-8538-c7e40dcbaff0"
      },
      "outputs": [
        {
          "output_type": "execute_result",
          "data": {
            "text/plain": [
              "(10000, 267)"
            ]
          },
          "metadata": {},
          "execution_count": 129
        }
      ],
      "source": [
        "#Lets vectorize all these titles\n",
        "#initialize vectorizer\n",
        "vect = CountVectorizer(analyzer = 'word', ngram_range = (1,2), stop_words = 'english', min_df = 0.002) #min_df = rare words, max_df = most used words\n",
        "#ngram_range = (1,2) - if used more than  1(value), lots of features or noise\n",
        "\n",
        "#Fit into the title\n",
        "vect.fit(book3['Book-Title'])\n",
        "title_matrix = vect.transform(book3['Book-Title'])\n",
        "title_matrix.shape"
      ]
    },
    {
      "cell_type": "code",
      "execution_count": 130,
      "metadata": {
        "id": "KF7gzr2STZu1",
        "colab": {
          "base_uri": "https://localhost:8080/"
        },
        "outputId": "81a1e7c6-f620-46fe-bcce-b9accf253bb0"
      },
      "outputs": [
        {
          "output_type": "execute_result",
          "data": {
            "text/plain": [
              "267"
            ]
          },
          "metadata": {},
          "execution_count": 130
        }
      ],
      "source": [
        "#Lets find vocabulary/features\n",
        "features = vect.get_feature_names()\n",
        "len(features)"
      ]
    },
    {
      "cell_type": "code",
      "execution_count": 131,
      "metadata": {
        "id": "hO510cf0TZqX",
        "colab": {
          "base_uri": "https://localhost:8080/"
        },
        "outputId": "cd3d853d-5ee6-4be9-e263-73f6a80b631f"
      },
      "outputs": [
        {
          "output_type": "execute_result",
          "data": {
            "text/plain": [
              "(10000, 10000)"
            ]
          },
          "metadata": {},
          "execution_count": 131
        }
      ],
      "source": [
        "#applying cosine similarity\n",
        "cosine_sim_titles = cosine_similarity(title_matrix, title_matrix)\n",
        "cosine_sim_titles.shape"
      ]
    },
    {
      "cell_type": "code",
      "execution_count": 132,
      "metadata": {
        "id": "pg1NpFEkTZmN",
        "colab": {
          "base_uri": "https://localhost:8080/",
          "height": 35
        },
        "outputId": "6956f34b-1d02-4277-d89a-165d513504a2"
      },
      "outputs": [
        {
          "output_type": "execute_result",
          "data": {
            "text/plain": [
              "'Nights Below Station Street'"
            ],
            "application/vnd.google.colaboratory.intrinsic+json": {
              "type": "string"
            }
          },
          "metadata": {},
          "execution_count": 132
        }
      ],
      "source": [
        "#Get books which are similar to a given title\n",
        "title_id = 10\n",
        "book3['Book-Title'].iloc[title_id]\n"
      ]
    },
    {
      "cell_type": "code",
      "execution_count": 133,
      "metadata": {
        "id": "R_z-lizhTZgj",
        "colab": {
          "base_uri": "https://localhost:8080/"
        },
        "outputId": "5c1ba218-cce3-404f-956b-b568dab80d67"
      },
      "outputs": [
        {
          "output_type": "execute_result",
          "data": {
            "text/plain": [
              "['street']"
            ]
          },
          "metadata": {},
          "execution_count": 133
        }
      ],
      "source": [
        "#Find out what features have been considered  by the vectorizer for a given title ?\n",
        "feature_array = np.squeeze(title_matrix[title_id].toarray()) #squeeze activity matrix into array\n",
        "idx = np.where(feature_array > 0)\n",
        "idx[0]\n",
        "[features[x] for x in idx[0]]"
      ]
    },
    {
      "cell_type": "code",
      "execution_count": 134,
      "metadata": {
        "id": "E7aHD7f7W-UP",
        "colab": {
          "base_uri": "https://localhost:8080/"
        },
        "outputId": "f8f6dcf9-ec50-4e4b-e2c0-a9b53fc9f49d"
      },
      "outputs": [
        {
          "output_type": "execute_result",
          "data": {
            "text/plain": [
              "array([219])"
            ]
          },
          "metadata": {},
          "execution_count": 134
        }
      ],
      "source": [
        "# Find index of feature\n",
        "idx[0]"
      ]
    },
    {
      "cell_type": "code",
      "execution_count": 135,
      "metadata": {
        "id": "L9YI6uLuW-Eo",
        "colab": {
          "base_uri": "https://localhost:8080/"
        },
        "outputId": "476dc7b6-5fde-44ee-9fdb-0fc8d5a196e2"
      },
      "outputs": [
        {
          "output_type": "execute_result",
          "data": {
            "text/plain": [
              "array([1.        , 1.        , 1.        , 1.        , 1.        ,\n",
              "       1.        , 1.        , 1.        , 1.        , 1.        ,\n",
              "       0.70710678, 0.70710678, 0.70710678, 0.70710678, 0.70710678])"
            ]
          },
          "metadata": {},
          "execution_count": 135
        }
      ],
      "source": [
        "#Cosine similarity with other similar titles\n",
        "n = 15 #how many books to be recommended\n",
        "top_n_idx = np.flip(np.argsort(cosine_sim_titles[title_id,]), axis = 0)[0:n]\n",
        "top_n_sim_values = cosine_sim_titles[title_id, top_n_idx]\n",
        "top_n_sim_values"
      ]
    },
    {
      "cell_type": "code",
      "execution_count": 136,
      "metadata": {
        "id": "WPpW3xDIW9_f",
        "colab": {
          "base_uri": "https://localhost:8080/"
        },
        "outputId": "5d713ef2-d78b-4feb-cdee-8f7a56c94306"
      },
      "outputs": [
        {
          "output_type": "execute_result",
          "data": {
            "text/plain": [
              "5050                         On the Street Where You Live\n",
              "52                                      The Street Lawyer\n",
              "4256                             The Cater Street Hangman\n",
              "4300                               Perdido Street Station\n",
              "6149                                         Union Street\n",
              "2268                                    The Street Lawyer\n",
              "3220                                        Eureka Street\n",
              "588                                     The Street Lawyer\n",
              "10                            Nights Below Station Street\n",
              "9686    Liar's Poker: Rising Through the Wreckage on W...\n",
              "8813    COLLEGE WEEKEND: FEAR STREET #32 : COLLEGE WEE...\n",
              "4271    The Coffeehouse Investor: How to Build Wealth,...\n",
              "956     Wall Street's Picks for 2000: An Insider's Gui...\n",
              "7850                                House On Olive Street\n",
              "2518    The Wall Street Journal Lifetime Guide to Mone...\n",
              "Name: Book-Title, dtype: object"
            ]
          },
          "metadata": {},
          "execution_count": 136
        }
      ],
      "source": [
        "#find top n with values > 0\n",
        "top_n_idx = top_n_idx[top_n_sim_values > 0]\n",
        "#Matching books\n",
        "book3['Book-Title'].iloc[top_n_idx]"
      ]
    },
    {
      "cell_type": "markdown",
      "metadata": {
        "id": "50OtZDaYbBFp"
      },
      "source": [
        "As we can see all the books with similar to 'Street' will be recommended by this recommendation."
      ]
    },
    {
      "cell_type": "markdown",
      "metadata": {
        "id": "9KnGo_HlkL0t"
      },
      "source": [
        "Now let's make a function for above code-"
      ]
    },
    {
      "cell_type": "code",
      "execution_count": 137,
      "metadata": {
        "id": "rYPdMGWlW90X"
      },
      "outputs": [],
      "source": [
        "# lets wrap the above code in a function\n",
        "def return_sim_books(title_id):\n",
        "    print (\"For Book = {}, Our Recommendation is :\".format(book3['Book-Title'][title_id])) \n",
        "    top_n = 10\n",
        "    vectorizer = CountVectorizer(analyzer='word',ngram_range=(1,2),stop_words='english', min_df = 0.001)\n",
        "    vectorizer.fit(book3['Book-Title'])\n",
        "    title_matrix = vectorizer.transform(book3['Book-Title'])\n",
        "    \n",
        "    # generate sim matrix\n",
        "    sim_matrix = cosine_similarity(title_matrix, title_matrix)\n",
        "    features = vectorizer.get_feature_names()\n",
        "\n",
        "    top_n_idx = np.flip(np.argsort(sim_matrix[title_id,]),axis=0)[0:top_n]\n",
        "    top_n_sim_values = sim_matrix[title_id, top_n_idx]\n",
        "    \n",
        "    # find top n with values > 0\n",
        "    top_n_idx = top_n_idx[top_n_sim_values > 0]\n",
        "    scores = top_n_sim_values[top_n_sim_values > 0]\n",
        "    \n",
        "    \n",
        "    # find features from the vectorized matrix\n",
        "    sim_books_idx = book3['Book-Title'].iloc[top_n_idx].index\n",
        "    words = []\n",
        "    for book_idx in sim_books_idx:\n",
        "        try:\n",
        "            feature_array = np.squeeze(title_matrix[book_idx,].toarray())\n",
        "        except:\n",
        "            feature_array = np.squeeze(title_matrix[book_idx,])\n",
        "        idx = np.where(feature_array > 0)\n",
        "        words.append([\" , \".join([features[i] for i in idx[0]])])\n",
        "        \n",
        "    #collate results\n",
        "    res = pd.DataFrame({        \n",
        "           \"sim_books\": book3['Book-Title'].iloc[top_n_idx].values,\"words\":words,\n",
        "           \"scores\":scores}, columns = [\"sim_books\",\"scores\",\"words\"]) #for print book name which we want to show similar with,\n",
        "                                                                      # in this df use this as first col-\"book_title\" : books_title['title'].iloc[title_id], and add one more column \n",
        "    return res\n"
      ]
    },
    {
      "cell_type": "code",
      "execution_count": 138,
      "metadata": {
        "id": "0lysUy9T8KMi",
        "colab": {
          "base_uri": "https://localhost:8080/",
          "height": 424
        },
        "outputId": "65df6933-3b85-41fa-ea94-e98fd9d8abad"
      },
      "outputs": [
        {
          "output_type": "execute_result",
          "data": {
            "text/plain": [
              "            ISBN                                         Book-Title  \\\n",
              "0     0195153448                                Classical Mythology   \n",
              "1     0002005018                                       Clara Callan   \n",
              "2     0060973129                               Decision in Normandy   \n",
              "3     0374157065  Flu: The Story of the Great Influenza Pandemic...   \n",
              "4     0393045218                             The Mummies of Urumchi   \n",
              "...          ...                                                ...   \n",
              "9995  0380730774  Read This and Tell Me What It Says : Stories (...   \n",
              "9996  0862418879                                     The Star Rover   \n",
              "9997  340414645X                                   Die Keltennadel.   \n",
              "9998  3442730988                                Tod in der Datscha.   \n",
              "9999  3404144783                                            Dunkel.   \n",
              "\n",
              "               Book-Author  Year-Of-Publication                   Publisher  \n",
              "0       Mark P. O. Morford               2002.0     Oxford University Press  \n",
              "1     Richard Bruce Wright               2001.0       HarperFlamingo Canada  \n",
              "2             Carlo D'Este               1991.0             HarperPerennial  \n",
              "3         Gina Bari Kolata               1999.0        Farrar Straus Giroux  \n",
              "4          E. J. W. Barber               1999.0  W. W. Norton &amp; Company  \n",
              "...                    ...                  ...                         ...  \n",
              "9995      A. Manette Ansay               1998.0              William Morrow  \n",
              "9996           Jack London               2000.0             Canongate Books  \n",
              "9997         Patrick Dunne               2001.0                    LÃ?Â¼bbe  \n",
              "9998       Anna Malyschewa               2003.0                         btb  \n",
              "9999     Wolfgang Hohlbein               2001.0                    LÃ?Â¼bbe  \n",
              "\n",
              "[10000 rows x 5 columns]"
            ],
            "text/html": [
              "\n",
              "  <div id=\"df-3e9ebc78-cabe-4078-bbf1-82474814b975\">\n",
              "    <div class=\"colab-df-container\">\n",
              "      <div>\n",
              "<style scoped>\n",
              "    .dataframe tbody tr th:only-of-type {\n",
              "        vertical-align: middle;\n",
              "    }\n",
              "\n",
              "    .dataframe tbody tr th {\n",
              "        vertical-align: top;\n",
              "    }\n",
              "\n",
              "    .dataframe thead th {\n",
              "        text-align: right;\n",
              "    }\n",
              "</style>\n",
              "<table border=\"1\" class=\"dataframe\">\n",
              "  <thead>\n",
              "    <tr style=\"text-align: right;\">\n",
              "      <th></th>\n",
              "      <th>ISBN</th>\n",
              "      <th>Book-Title</th>\n",
              "      <th>Book-Author</th>\n",
              "      <th>Year-Of-Publication</th>\n",
              "      <th>Publisher</th>\n",
              "    </tr>\n",
              "  </thead>\n",
              "  <tbody>\n",
              "    <tr>\n",
              "      <th>0</th>\n",
              "      <td>0195153448</td>\n",
              "      <td>Classical Mythology</td>\n",
              "      <td>Mark P. O. Morford</td>\n",
              "      <td>2002.0</td>\n",
              "      <td>Oxford University Press</td>\n",
              "    </tr>\n",
              "    <tr>\n",
              "      <th>1</th>\n",
              "      <td>0002005018</td>\n",
              "      <td>Clara Callan</td>\n",
              "      <td>Richard Bruce Wright</td>\n",
              "      <td>2001.0</td>\n",
              "      <td>HarperFlamingo Canada</td>\n",
              "    </tr>\n",
              "    <tr>\n",
              "      <th>2</th>\n",
              "      <td>0060973129</td>\n",
              "      <td>Decision in Normandy</td>\n",
              "      <td>Carlo D'Este</td>\n",
              "      <td>1991.0</td>\n",
              "      <td>HarperPerennial</td>\n",
              "    </tr>\n",
              "    <tr>\n",
              "      <th>3</th>\n",
              "      <td>0374157065</td>\n",
              "      <td>Flu: The Story of the Great Influenza Pandemic...</td>\n",
              "      <td>Gina Bari Kolata</td>\n",
              "      <td>1999.0</td>\n",
              "      <td>Farrar Straus Giroux</td>\n",
              "    </tr>\n",
              "    <tr>\n",
              "      <th>4</th>\n",
              "      <td>0393045218</td>\n",
              "      <td>The Mummies of Urumchi</td>\n",
              "      <td>E. J. W. Barber</td>\n",
              "      <td>1999.0</td>\n",
              "      <td>W. W. Norton &amp;amp; Company</td>\n",
              "    </tr>\n",
              "    <tr>\n",
              "      <th>...</th>\n",
              "      <td>...</td>\n",
              "      <td>...</td>\n",
              "      <td>...</td>\n",
              "      <td>...</td>\n",
              "      <td>...</td>\n",
              "    </tr>\n",
              "    <tr>\n",
              "      <th>9995</th>\n",
              "      <td>0380730774</td>\n",
              "      <td>Read This and Tell Me What It Says : Stories (...</td>\n",
              "      <td>A. Manette Ansay</td>\n",
              "      <td>1998.0</td>\n",
              "      <td>William Morrow</td>\n",
              "    </tr>\n",
              "    <tr>\n",
              "      <th>9996</th>\n",
              "      <td>0862418879</td>\n",
              "      <td>The Star Rover</td>\n",
              "      <td>Jack London</td>\n",
              "      <td>2000.0</td>\n",
              "      <td>Canongate Books</td>\n",
              "    </tr>\n",
              "    <tr>\n",
              "      <th>9997</th>\n",
              "      <td>340414645X</td>\n",
              "      <td>Die Keltennadel.</td>\n",
              "      <td>Patrick Dunne</td>\n",
              "      <td>2001.0</td>\n",
              "      <td>LÃ?Â¼bbe</td>\n",
              "    </tr>\n",
              "    <tr>\n",
              "      <th>9998</th>\n",
              "      <td>3442730988</td>\n",
              "      <td>Tod in der Datscha.</td>\n",
              "      <td>Anna Malyschewa</td>\n",
              "      <td>2003.0</td>\n",
              "      <td>btb</td>\n",
              "    </tr>\n",
              "    <tr>\n",
              "      <th>9999</th>\n",
              "      <td>3404144783</td>\n",
              "      <td>Dunkel.</td>\n",
              "      <td>Wolfgang Hohlbein</td>\n",
              "      <td>2001.0</td>\n",
              "      <td>LÃ?Â¼bbe</td>\n",
              "    </tr>\n",
              "  </tbody>\n",
              "</table>\n",
              "<p>10000 rows × 5 columns</p>\n",
              "</div>\n",
              "      <button class=\"colab-df-convert\" onclick=\"convertToInteractive('df-3e9ebc78-cabe-4078-bbf1-82474814b975')\"\n",
              "              title=\"Convert this dataframe to an interactive table.\"\n",
              "              style=\"display:none;\">\n",
              "        \n",
              "  <svg xmlns=\"http://www.w3.org/2000/svg\" height=\"24px\"viewBox=\"0 0 24 24\"\n",
              "       width=\"24px\">\n",
              "    <path d=\"M0 0h24v24H0V0z\" fill=\"none\"/>\n",
              "    <path d=\"M18.56 5.44l.94 2.06.94-2.06 2.06-.94-2.06-.94-.94-2.06-.94 2.06-2.06.94zm-11 1L8.5 8.5l.94-2.06 2.06-.94-2.06-.94L8.5 2.5l-.94 2.06-2.06.94zm10 10l.94 2.06.94-2.06 2.06-.94-2.06-.94-.94-2.06-.94 2.06-2.06.94z\"/><path d=\"M17.41 7.96l-1.37-1.37c-.4-.4-.92-.59-1.43-.59-.52 0-1.04.2-1.43.59L10.3 9.45l-7.72 7.72c-.78.78-.78 2.05 0 2.83L4 21.41c.39.39.9.59 1.41.59.51 0 1.02-.2 1.41-.59l7.78-7.78 2.81-2.81c.8-.78.8-2.07 0-2.86zM5.41 20L4 18.59l7.72-7.72 1.47 1.35L5.41 20z\"/>\n",
              "  </svg>\n",
              "      </button>\n",
              "      \n",
              "  <style>\n",
              "    .colab-df-container {\n",
              "      display:flex;\n",
              "      flex-wrap:wrap;\n",
              "      gap: 12px;\n",
              "    }\n",
              "\n",
              "    .colab-df-convert {\n",
              "      background-color: #E8F0FE;\n",
              "      border: none;\n",
              "      border-radius: 50%;\n",
              "      cursor: pointer;\n",
              "      display: none;\n",
              "      fill: #1967D2;\n",
              "      height: 32px;\n",
              "      padding: 0 0 0 0;\n",
              "      width: 32px;\n",
              "    }\n",
              "\n",
              "    .colab-df-convert:hover {\n",
              "      background-color: #E2EBFA;\n",
              "      box-shadow: 0px 1px 2px rgba(60, 64, 67, 0.3), 0px 1px 3px 1px rgba(60, 64, 67, 0.15);\n",
              "      fill: #174EA6;\n",
              "    }\n",
              "\n",
              "    [theme=dark] .colab-df-convert {\n",
              "      background-color: #3B4455;\n",
              "      fill: #D2E3FC;\n",
              "    }\n",
              "\n",
              "    [theme=dark] .colab-df-convert:hover {\n",
              "      background-color: #434B5C;\n",
              "      box-shadow: 0px 1px 3px 1px rgba(0, 0, 0, 0.15);\n",
              "      filter: drop-shadow(0px 1px 2px rgba(0, 0, 0, 0.3));\n",
              "      fill: #FFFFFF;\n",
              "    }\n",
              "  </style>\n",
              "\n",
              "      <script>\n",
              "        const buttonEl =\n",
              "          document.querySelector('#df-3e9ebc78-cabe-4078-bbf1-82474814b975 button.colab-df-convert');\n",
              "        buttonEl.style.display =\n",
              "          google.colab.kernel.accessAllowed ? 'block' : 'none';\n",
              "\n",
              "        async function convertToInteractive(key) {\n",
              "          const element = document.querySelector('#df-3e9ebc78-cabe-4078-bbf1-82474814b975');\n",
              "          const dataTable =\n",
              "            await google.colab.kernel.invokeFunction('convertToInteractive',\n",
              "                                                     [key], {});\n",
              "          if (!dataTable) return;\n",
              "\n",
              "          const docLinkHtml = 'Like what you see? Visit the ' +\n",
              "            '<a target=\"_blank\" href=https://colab.research.google.com/notebooks/data_table.ipynb>data table notebook</a>'\n",
              "            + ' to learn more about interactive tables.';\n",
              "          element.innerHTML = '';\n",
              "          dataTable['output_type'] = 'display_data';\n",
              "          await google.colab.output.renderOutput(dataTable, element);\n",
              "          const docLink = document.createElement('div');\n",
              "          docLink.innerHTML = docLinkHtml;\n",
              "          element.appendChild(docLink);\n",
              "        }\n",
              "      </script>\n",
              "    </div>\n",
              "  </div>\n",
              "  "
            ]
          },
          "metadata": {},
          "execution_count": 138
        }
      ],
      "source": [
        "book3"
      ]
    },
    {
      "cell_type": "code",
      "execution_count": 139,
      "metadata": {
        "id": "IBXyLaR_W9u5",
        "colab": {
          "base_uri": "https://localhost:8080/",
          "height": 380
        },
        "outputId": "bd823777-1c89-46b1-b517-cc4544283251"
      },
      "outputs": [
        {
          "output_type": "stream",
          "name": "stdout",
          "text": [
            "For Book = The Star Rover, Our Recommendation is :\n"
          ]
        },
        {
          "output_type": "execute_result",
          "data": {
            "text/plain": [
              "                                         sim_books    scores  \\\n",
              "0                                             Star  1.000000   \n",
              "1                                   The Star Rover  1.000000   \n",
              "2                                       Polar Star  1.000000   \n",
              "3  Evening Star (Sam Keaton:Legends of Laramie, 1)  1.000000   \n",
              "4                       Linda Goodman's Star Signs  1.000000   \n",
              "5                                 Troubling a Star  1.000000   \n",
              "6                                       Delta Star  1.000000   \n",
              "7                    Hidden Star (The Star Series)  0.816497   \n",
              "8                                     Star Country  0.707107   \n",
              "9                                       Child Star  0.707107   \n",
              "\n",
              "                      words  \n",
              "0                    [star]  \n",
              "1                    [star]  \n",
              "2                    [star]  \n",
              "3                    [star]  \n",
              "4                    [star]  \n",
              "5                    [star]  \n",
              "6                    [star]  \n",
              "7  [hidden , series , star]  \n",
              "8          [country , star]  \n",
              "9            [child , star]  "
            ],
            "text/html": [
              "\n",
              "  <div id=\"df-02c9a06c-0d76-418a-bc71-e4fd079d7a7e\">\n",
              "    <div class=\"colab-df-container\">\n",
              "      <div>\n",
              "<style scoped>\n",
              "    .dataframe tbody tr th:only-of-type {\n",
              "        vertical-align: middle;\n",
              "    }\n",
              "\n",
              "    .dataframe tbody tr th {\n",
              "        vertical-align: top;\n",
              "    }\n",
              "\n",
              "    .dataframe thead th {\n",
              "        text-align: right;\n",
              "    }\n",
              "</style>\n",
              "<table border=\"1\" class=\"dataframe\">\n",
              "  <thead>\n",
              "    <tr style=\"text-align: right;\">\n",
              "      <th></th>\n",
              "      <th>sim_books</th>\n",
              "      <th>scores</th>\n",
              "      <th>words</th>\n",
              "    </tr>\n",
              "  </thead>\n",
              "  <tbody>\n",
              "    <tr>\n",
              "      <th>0</th>\n",
              "      <td>Star</td>\n",
              "      <td>1.000000</td>\n",
              "      <td>[star]</td>\n",
              "    </tr>\n",
              "    <tr>\n",
              "      <th>1</th>\n",
              "      <td>The Star Rover</td>\n",
              "      <td>1.000000</td>\n",
              "      <td>[star]</td>\n",
              "    </tr>\n",
              "    <tr>\n",
              "      <th>2</th>\n",
              "      <td>Polar Star</td>\n",
              "      <td>1.000000</td>\n",
              "      <td>[star]</td>\n",
              "    </tr>\n",
              "    <tr>\n",
              "      <th>3</th>\n",
              "      <td>Evening Star (Sam Keaton:Legends of Laramie, 1)</td>\n",
              "      <td>1.000000</td>\n",
              "      <td>[star]</td>\n",
              "    </tr>\n",
              "    <tr>\n",
              "      <th>4</th>\n",
              "      <td>Linda Goodman's Star Signs</td>\n",
              "      <td>1.000000</td>\n",
              "      <td>[star]</td>\n",
              "    </tr>\n",
              "    <tr>\n",
              "      <th>5</th>\n",
              "      <td>Troubling a Star</td>\n",
              "      <td>1.000000</td>\n",
              "      <td>[star]</td>\n",
              "    </tr>\n",
              "    <tr>\n",
              "      <th>6</th>\n",
              "      <td>Delta Star</td>\n",
              "      <td>1.000000</td>\n",
              "      <td>[star]</td>\n",
              "    </tr>\n",
              "    <tr>\n",
              "      <th>7</th>\n",
              "      <td>Hidden Star (The Star Series)</td>\n",
              "      <td>0.816497</td>\n",
              "      <td>[hidden , series , star]</td>\n",
              "    </tr>\n",
              "    <tr>\n",
              "      <th>8</th>\n",
              "      <td>Star Country</td>\n",
              "      <td>0.707107</td>\n",
              "      <td>[country , star]</td>\n",
              "    </tr>\n",
              "    <tr>\n",
              "      <th>9</th>\n",
              "      <td>Child Star</td>\n",
              "      <td>0.707107</td>\n",
              "      <td>[child , star]</td>\n",
              "    </tr>\n",
              "  </tbody>\n",
              "</table>\n",
              "</div>\n",
              "      <button class=\"colab-df-convert\" onclick=\"convertToInteractive('df-02c9a06c-0d76-418a-bc71-e4fd079d7a7e')\"\n",
              "              title=\"Convert this dataframe to an interactive table.\"\n",
              "              style=\"display:none;\">\n",
              "        \n",
              "  <svg xmlns=\"http://www.w3.org/2000/svg\" height=\"24px\"viewBox=\"0 0 24 24\"\n",
              "       width=\"24px\">\n",
              "    <path d=\"M0 0h24v24H0V0z\" fill=\"none\"/>\n",
              "    <path d=\"M18.56 5.44l.94 2.06.94-2.06 2.06-.94-2.06-.94-.94-2.06-.94 2.06-2.06.94zm-11 1L8.5 8.5l.94-2.06 2.06-.94-2.06-.94L8.5 2.5l-.94 2.06-2.06.94zm10 10l.94 2.06.94-2.06 2.06-.94-2.06-.94-.94-2.06-.94 2.06-2.06.94z\"/><path d=\"M17.41 7.96l-1.37-1.37c-.4-.4-.92-.59-1.43-.59-.52 0-1.04.2-1.43.59L10.3 9.45l-7.72 7.72c-.78.78-.78 2.05 0 2.83L4 21.41c.39.39.9.59 1.41.59.51 0 1.02-.2 1.41-.59l7.78-7.78 2.81-2.81c.8-.78.8-2.07 0-2.86zM5.41 20L4 18.59l7.72-7.72 1.47 1.35L5.41 20z\"/>\n",
              "  </svg>\n",
              "      </button>\n",
              "      \n",
              "  <style>\n",
              "    .colab-df-container {\n",
              "      display:flex;\n",
              "      flex-wrap:wrap;\n",
              "      gap: 12px;\n",
              "    }\n",
              "\n",
              "    .colab-df-convert {\n",
              "      background-color: #E8F0FE;\n",
              "      border: none;\n",
              "      border-radius: 50%;\n",
              "      cursor: pointer;\n",
              "      display: none;\n",
              "      fill: #1967D2;\n",
              "      height: 32px;\n",
              "      padding: 0 0 0 0;\n",
              "      width: 32px;\n",
              "    }\n",
              "\n",
              "    .colab-df-convert:hover {\n",
              "      background-color: #E2EBFA;\n",
              "      box-shadow: 0px 1px 2px rgba(60, 64, 67, 0.3), 0px 1px 3px 1px rgba(60, 64, 67, 0.15);\n",
              "      fill: #174EA6;\n",
              "    }\n",
              "\n",
              "    [theme=dark] .colab-df-convert {\n",
              "      background-color: #3B4455;\n",
              "      fill: #D2E3FC;\n",
              "    }\n",
              "\n",
              "    [theme=dark] .colab-df-convert:hover {\n",
              "      background-color: #434B5C;\n",
              "      box-shadow: 0px 1px 3px 1px rgba(0, 0, 0, 0.15);\n",
              "      filter: drop-shadow(0px 1px 2px rgba(0, 0, 0, 0.3));\n",
              "      fill: #FFFFFF;\n",
              "    }\n",
              "  </style>\n",
              "\n",
              "      <script>\n",
              "        const buttonEl =\n",
              "          document.querySelector('#df-02c9a06c-0d76-418a-bc71-e4fd079d7a7e button.colab-df-convert');\n",
              "        buttonEl.style.display =\n",
              "          google.colab.kernel.accessAllowed ? 'block' : 'none';\n",
              "\n",
              "        async function convertToInteractive(key) {\n",
              "          const element = document.querySelector('#df-02c9a06c-0d76-418a-bc71-e4fd079d7a7e');\n",
              "          const dataTable =\n",
              "            await google.colab.kernel.invokeFunction('convertToInteractive',\n",
              "                                                     [key], {});\n",
              "          if (!dataTable) return;\n",
              "\n",
              "          const docLinkHtml = 'Like what you see? Visit the ' +\n",
              "            '<a target=\"_blank\" href=https://colab.research.google.com/notebooks/data_table.ipynb>data table notebook</a>'\n",
              "            + ' to learn more about interactive tables.';\n",
              "          element.innerHTML = '';\n",
              "          dataTable['output_type'] = 'display_data';\n",
              "          await google.colab.output.renderOutput(dataTable, element);\n",
              "          const docLink = document.createElement('div');\n",
              "          docLink.innerHTML = docLinkHtml;\n",
              "          element.appendChild(docLink);\n",
              "        }\n",
              "      </script>\n",
              "    </div>\n",
              "  </div>\n",
              "  "
            ]
          },
          "metadata": {},
          "execution_count": 139
        }
      ],
      "source": [
        "# Let's check out our similar books function\n",
        "return_sim_books(9996)"
      ]
    },
    {
      "cell_type": "markdown",
      "metadata": {
        "id": "S0Yv9Zz_qyLZ"
      },
      "source": [
        "##Content-Based Recommendation on the basis of Book-Puchase history list"
      ]
    },
    {
      "cell_type": "code",
      "execution_count": 140,
      "metadata": {
        "id": "b8HzN4fcq0dO"
      },
      "outputs": [],
      "source": [
        "my_list=['House On Olive Street','The Star Rover']"
      ]
    },
    {
      "cell_type": "code",
      "execution_count": 141,
      "metadata": {
        "id": "GWJMqsqirS8H",
        "colab": {
          "base_uri": "https://localhost:8080/",
          "height": 729
        },
        "outputId": "ebdd0210-3265-4df9-827b-b164c2f4b47c"
      },
      "outputs": [
        {
          "output_type": "stream",
          "name": "stdout",
          "text": [
            "Recommended books: \n",
            "For Book = House On Olive Street, Our Recommendation is :\n",
            "For Book = The Star Rover, Our Recommendation is :\n"
          ]
        },
        {
          "output_type": "execute_result",
          "data": {
            "text/plain": [
              "    index                                        sim_books    scores  \\\n",
              "0       2                                       Polar Star  1.000000   \n",
              "1       5                                       Full House  0.707107   \n",
              "2       1                                   The Star Rover  1.000000   \n",
              "3       0                            House On Olive Street  1.000000   \n",
              "4       0                                             Star  1.000000   \n",
              "5       7              The House With a Clock in Its Walls  0.707107   \n",
              "6       4                       Linda Goodman's Star Signs  1.000000   \n",
              "7       2                             The House of Thunder  0.707107   \n",
              "8       1                        The House on Mango Street  1.000000   \n",
              "9       6                                       Delta Star  1.000000   \n",
              "10      3  Evening Star (Sam Keaton:Legends of Laramie, 1)  1.000000   \n",
              "11      9                                  A Painted House  0.707107   \n",
              "12      9                                       Child Star  0.707107   \n",
              "13      5                                 Troubling a Star  1.000000   \n",
              "14      7                    Hidden Star (The Star Series)  0.816497   \n",
              "15      8                                     Star Country  0.707107   \n",
              "16      3                                RUSSIA HOUSE, THE  0.707107   \n",
              "17      8                           Perdido Street Station  0.707107   \n",
              "18      4                                  The Watch House  0.707107   \n",
              "19      6                             Someone in the House  0.707107   \n",
              "\n",
              "                       words  \n",
              "0                     [star]  \n",
              "1                    [house]  \n",
              "2                     [star]  \n",
              "3           [house , street]  \n",
              "4                     [star]  \n",
              "5                    [house]  \n",
              "6                     [star]  \n",
              "7                    [house]  \n",
              "8           [house , street]  \n",
              "9                     [star]  \n",
              "10                    [star]  \n",
              "11                   [house]  \n",
              "12            [child , star]  \n",
              "13                    [star]  \n",
              "14  [hidden , series , star]  \n",
              "15          [country , star]  \n",
              "16                   [house]  \n",
              "17                  [street]  \n",
              "18                   [house]  \n",
              "19                   [house]  "
            ],
            "text/html": [
              "\n",
              "  <div id=\"df-30b262a4-afd0-446a-99ca-080ca4b3f30c\">\n",
              "    <div class=\"colab-df-container\">\n",
              "      <div>\n",
              "<style scoped>\n",
              "    .dataframe tbody tr th:only-of-type {\n",
              "        vertical-align: middle;\n",
              "    }\n",
              "\n",
              "    .dataframe tbody tr th {\n",
              "        vertical-align: top;\n",
              "    }\n",
              "\n",
              "    .dataframe thead th {\n",
              "        text-align: right;\n",
              "    }\n",
              "</style>\n",
              "<table border=\"1\" class=\"dataframe\">\n",
              "  <thead>\n",
              "    <tr style=\"text-align: right;\">\n",
              "      <th></th>\n",
              "      <th>index</th>\n",
              "      <th>sim_books</th>\n",
              "      <th>scores</th>\n",
              "      <th>words</th>\n",
              "    </tr>\n",
              "  </thead>\n",
              "  <tbody>\n",
              "    <tr>\n",
              "      <th>0</th>\n",
              "      <td>2</td>\n",
              "      <td>Polar Star</td>\n",
              "      <td>1.000000</td>\n",
              "      <td>[star]</td>\n",
              "    </tr>\n",
              "    <tr>\n",
              "      <th>1</th>\n",
              "      <td>5</td>\n",
              "      <td>Full House</td>\n",
              "      <td>0.707107</td>\n",
              "      <td>[house]</td>\n",
              "    </tr>\n",
              "    <tr>\n",
              "      <th>2</th>\n",
              "      <td>1</td>\n",
              "      <td>The Star Rover</td>\n",
              "      <td>1.000000</td>\n",
              "      <td>[star]</td>\n",
              "    </tr>\n",
              "    <tr>\n",
              "      <th>3</th>\n",
              "      <td>0</td>\n",
              "      <td>House On Olive Street</td>\n",
              "      <td>1.000000</td>\n",
              "      <td>[house , street]</td>\n",
              "    </tr>\n",
              "    <tr>\n",
              "      <th>4</th>\n",
              "      <td>0</td>\n",
              "      <td>Star</td>\n",
              "      <td>1.000000</td>\n",
              "      <td>[star]</td>\n",
              "    </tr>\n",
              "    <tr>\n",
              "      <th>5</th>\n",
              "      <td>7</td>\n",
              "      <td>The House With a Clock in Its Walls</td>\n",
              "      <td>0.707107</td>\n",
              "      <td>[house]</td>\n",
              "    </tr>\n",
              "    <tr>\n",
              "      <th>6</th>\n",
              "      <td>4</td>\n",
              "      <td>Linda Goodman's Star Signs</td>\n",
              "      <td>1.000000</td>\n",
              "      <td>[star]</td>\n",
              "    </tr>\n",
              "    <tr>\n",
              "      <th>7</th>\n",
              "      <td>2</td>\n",
              "      <td>The House of Thunder</td>\n",
              "      <td>0.707107</td>\n",
              "      <td>[house]</td>\n",
              "    </tr>\n",
              "    <tr>\n",
              "      <th>8</th>\n",
              "      <td>1</td>\n",
              "      <td>The House on Mango Street</td>\n",
              "      <td>1.000000</td>\n",
              "      <td>[house , street]</td>\n",
              "    </tr>\n",
              "    <tr>\n",
              "      <th>9</th>\n",
              "      <td>6</td>\n",
              "      <td>Delta Star</td>\n",
              "      <td>1.000000</td>\n",
              "      <td>[star]</td>\n",
              "    </tr>\n",
              "    <tr>\n",
              "      <th>10</th>\n",
              "      <td>3</td>\n",
              "      <td>Evening Star (Sam Keaton:Legends of Laramie, 1)</td>\n",
              "      <td>1.000000</td>\n",
              "      <td>[star]</td>\n",
              "    </tr>\n",
              "    <tr>\n",
              "      <th>11</th>\n",
              "      <td>9</td>\n",
              "      <td>A Painted House</td>\n",
              "      <td>0.707107</td>\n",
              "      <td>[house]</td>\n",
              "    </tr>\n",
              "    <tr>\n",
              "      <th>12</th>\n",
              "      <td>9</td>\n",
              "      <td>Child Star</td>\n",
              "      <td>0.707107</td>\n",
              "      <td>[child , star]</td>\n",
              "    </tr>\n",
              "    <tr>\n",
              "      <th>13</th>\n",
              "      <td>5</td>\n",
              "      <td>Troubling a Star</td>\n",
              "      <td>1.000000</td>\n",
              "      <td>[star]</td>\n",
              "    </tr>\n",
              "    <tr>\n",
              "      <th>14</th>\n",
              "      <td>7</td>\n",
              "      <td>Hidden Star (The Star Series)</td>\n",
              "      <td>0.816497</td>\n",
              "      <td>[hidden , series , star]</td>\n",
              "    </tr>\n",
              "    <tr>\n",
              "      <th>15</th>\n",
              "      <td>8</td>\n",
              "      <td>Star Country</td>\n",
              "      <td>0.707107</td>\n",
              "      <td>[country , star]</td>\n",
              "    </tr>\n",
              "    <tr>\n",
              "      <th>16</th>\n",
              "      <td>3</td>\n",
              "      <td>RUSSIA HOUSE, THE</td>\n",
              "      <td>0.707107</td>\n",
              "      <td>[house]</td>\n",
              "    </tr>\n",
              "    <tr>\n",
              "      <th>17</th>\n",
              "      <td>8</td>\n",
              "      <td>Perdido Street Station</td>\n",
              "      <td>0.707107</td>\n",
              "      <td>[street]</td>\n",
              "    </tr>\n",
              "    <tr>\n",
              "      <th>18</th>\n",
              "      <td>4</td>\n",
              "      <td>The Watch House</td>\n",
              "      <td>0.707107</td>\n",
              "      <td>[house]</td>\n",
              "    </tr>\n",
              "    <tr>\n",
              "      <th>19</th>\n",
              "      <td>6</td>\n",
              "      <td>Someone in the House</td>\n",
              "      <td>0.707107</td>\n",
              "      <td>[house]</td>\n",
              "    </tr>\n",
              "  </tbody>\n",
              "</table>\n",
              "</div>\n",
              "      <button class=\"colab-df-convert\" onclick=\"convertToInteractive('df-30b262a4-afd0-446a-99ca-080ca4b3f30c')\"\n",
              "              title=\"Convert this dataframe to an interactive table.\"\n",
              "              style=\"display:none;\">\n",
              "        \n",
              "  <svg xmlns=\"http://www.w3.org/2000/svg\" height=\"24px\"viewBox=\"0 0 24 24\"\n",
              "       width=\"24px\">\n",
              "    <path d=\"M0 0h24v24H0V0z\" fill=\"none\"/>\n",
              "    <path d=\"M18.56 5.44l.94 2.06.94-2.06 2.06-.94-2.06-.94-.94-2.06-.94 2.06-2.06.94zm-11 1L8.5 8.5l.94-2.06 2.06-.94-2.06-.94L8.5 2.5l-.94 2.06-2.06.94zm10 10l.94 2.06.94-2.06 2.06-.94-2.06-.94-.94-2.06-.94 2.06-2.06.94z\"/><path d=\"M17.41 7.96l-1.37-1.37c-.4-.4-.92-.59-1.43-.59-.52 0-1.04.2-1.43.59L10.3 9.45l-7.72 7.72c-.78.78-.78 2.05 0 2.83L4 21.41c.39.39.9.59 1.41.59.51 0 1.02-.2 1.41-.59l7.78-7.78 2.81-2.81c.8-.78.8-2.07 0-2.86zM5.41 20L4 18.59l7.72-7.72 1.47 1.35L5.41 20z\"/>\n",
              "  </svg>\n",
              "      </button>\n",
              "      \n",
              "  <style>\n",
              "    .colab-df-container {\n",
              "      display:flex;\n",
              "      flex-wrap:wrap;\n",
              "      gap: 12px;\n",
              "    }\n",
              "\n",
              "    .colab-df-convert {\n",
              "      background-color: #E8F0FE;\n",
              "      border: none;\n",
              "      border-radius: 50%;\n",
              "      cursor: pointer;\n",
              "      display: none;\n",
              "      fill: #1967D2;\n",
              "      height: 32px;\n",
              "      padding: 0 0 0 0;\n",
              "      width: 32px;\n",
              "    }\n",
              "\n",
              "    .colab-df-convert:hover {\n",
              "      background-color: #E2EBFA;\n",
              "      box-shadow: 0px 1px 2px rgba(60, 64, 67, 0.3), 0px 1px 3px 1px rgba(60, 64, 67, 0.15);\n",
              "      fill: #174EA6;\n",
              "    }\n",
              "\n",
              "    [theme=dark] .colab-df-convert {\n",
              "      background-color: #3B4455;\n",
              "      fill: #D2E3FC;\n",
              "    }\n",
              "\n",
              "    [theme=dark] .colab-df-convert:hover {\n",
              "      background-color: #434B5C;\n",
              "      box-shadow: 0px 1px 3px 1px rgba(0, 0, 0, 0.15);\n",
              "      filter: drop-shadow(0px 1px 2px rgba(0, 0, 0, 0.3));\n",
              "      fill: #FFFFFF;\n",
              "    }\n",
              "  </style>\n",
              "\n",
              "      <script>\n",
              "        const buttonEl =\n",
              "          document.querySelector('#df-30b262a4-afd0-446a-99ca-080ca4b3f30c button.colab-df-convert');\n",
              "        buttonEl.style.display =\n",
              "          google.colab.kernel.accessAllowed ? 'block' : 'none';\n",
              "\n",
              "        async function convertToInteractive(key) {\n",
              "          const element = document.querySelector('#df-30b262a4-afd0-446a-99ca-080ca4b3f30c');\n",
              "          const dataTable =\n",
              "            await google.colab.kernel.invokeFunction('convertToInteractive',\n",
              "                                                     [key], {});\n",
              "          if (!dataTable) return;\n",
              "\n",
              "          const docLinkHtml = 'Like what you see? Visit the ' +\n",
              "            '<a target=\"_blank\" href=https://colab.research.google.com/notebooks/data_table.ipynb>data table notebook</a>'\n",
              "            + ' to learn more about interactive tables.';\n",
              "          element.innerHTML = '';\n",
              "          dataTable['output_type'] = 'display_data';\n",
              "          await google.colab.output.renderOutput(dataTable, element);\n",
              "          const docLink = document.createElement('div');\n",
              "          docLink.innerHTML = docLinkHtml;\n",
              "          element.appendChild(docLink);\n",
              "        }\n",
              "      </script>\n",
              "    </div>\n",
              "  </div>\n",
              "  "
            ]
          },
          "metadata": {},
          "execution_count": 141
        }
      ],
      "source": [
        "result = pd.DataFrame()\n",
        "n = 5 #Recommend top n similar books\n",
        "print('Recommended books: ')\n",
        "for i in my_list:\n",
        "    output = pd.DataFrame(return_sim_books(book3.index[book3['Book-Title'] == i][0]))\n",
        "    result = result.append(output)\n",
        "    result = result.drop_duplicates(subset=['sim_books'])\n",
        "result= result.sample(n=20).reset_index()   #for mixing up rows with each other or pickup random rows and reset index\n",
        "result"
      ]
    },
    {
      "cell_type": "markdown",
      "metadata": {
        "id": "0aUtWyuHvtuK"
      },
      "source": [
        "#Conclusion"
      ]
    },
    {
      "cell_type": "markdown",
      "metadata": {
        "id": "57WuUWmyv_GX"
      },
      "source": [
        "\n",
        "Alas! We have reached the end of our notebook.\n",
        "\n",
        "For this project our client is an online book selling firm. They now need assistance in developing a model to recommend another books on the basis of customer purchase-history and other information which are given in the datasets.\n",
        "\n",
        "Building a model to recommend another books is extremely beneficial to the company because it can increase their sales via recommend relevant books to their customers and optimise its business model and revenue accordingly.\n",
        "\n",
        "* For modelling, it was observed that for **model based** collaborative filtering SVD technique worked way better than NMF with lower Mean Absolute Error (MAE) .<br>\n",
        "* Amongst the memory based approach, **item-item CF performed better** than **user-item CF** because of lower computation.\n",
        "* Content-based recommendation on the basis of **Tags** are also doing good in terms of results."
      ]
    },
    {
      "cell_type": "markdown",
      "metadata": {
        "id": "5IE3lia0wFte"
      },
      "source": [
        "###Key points:\n",
        "\n",
        "*   Customers of age between 20 to 30 are more likely to buy books.\n",
        "\n",
        "*   Customers who are in USA are more likely to buy books than others.\n",
        "\n",
        "*   Our overall top selling authors are Agatha Cristie, William Shakespeare and Stephen King.\n",
        "\n",
        "*   If we look at the ratings distribution, most of the books have high ratings with maximum books being rated 8. Ratings below 5 are few in number.\n",
        "\n",
        "*   Our overall top selling publishers are Harlequin, Silhouette and Pocket.\n",
        "\n",
        "*   Our overall top selling books are The Lovely Bones: A Novel, Wild Animus and The Da Vinci Code, The Red Tent (Bestselling Backlist).\n",
        "."
      ]
    },
    {
      "cell_type": "markdown",
      "metadata": {
        "id": "Tqrs1eH6wMSs"
      },
      "source": [
        "###Improvements:\n",
        "\n",
        "1. By using a marketing and advertising approach, we can reduce the age-gap.\n",
        "\n",
        "2. We can clearly see that we have a larger number of buyer within USA, therefore we can easily recommend books to them on the basis of location and use this starategy for our campaign.\n",
        "\n",
        "3. We nearly make 10 recommender system from which we can select Best according to our Business-needs.\n",
        "\n",
        "4. We can push those type of books to publish which are similar to our top-selling books and recommend them to our Users."
      ]
    },
    {
      "cell_type": "markdown",
      "metadata": {
        "id": "-O1a4ulb5Tc9"
      },
      "source": [
        "##Future Work\n",
        "\n",
        "*   We can recommend books to our customers on basis of genres also but we have no information on that so we have to record books genres also for better recommendation.\n",
        "*   We can also record Date-time of our users when they buy book, By using that we can recommend our top books, authors, publication on monthly basis."
      ]
    }
  ],
  "metadata": {
    "colab": {
      "collapsed_sections": [],
      "provenance": [],
      "include_colab_link": true
    },
    "kernelspec": {
      "display_name": "Python 3",
      "name": "python3"
    },
    "language_info": {
      "name": "python"
    }
  },
  "nbformat": 4,
  "nbformat_minor": 0
}